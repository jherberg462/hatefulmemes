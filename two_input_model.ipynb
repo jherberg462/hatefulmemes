{
 "cells": [
  {
   "cell_type": "code",
   "execution_count": 1,
   "metadata": {
    "colab": {
     "base_uri": "https://localhost:8080/",
     "height": 34
    },
    "colab_type": "code",
    "id": "e4BdgGfH718Y",
    "outputId": "943bac00-5af5-46f7-c933-e9ab883ea554"
   },
   "outputs": [
    {
     "name": "stdout",
     "output_type": "stream",
     "text": [
      "2.3.0\n"
     ]
    }
   ],
   "source": [
    "#set random seeds\n",
    "from numpy.random import seed\n",
    "seed(1)\n",
    "from tensorflow.random import set_seed\n",
    "set_seed(1)\n",
    "\n",
    "import pandas as pd\n",
    "import numpy as np\n",
    "\n",
    "#machine learning\n",
    "import tensorflow as tf\n",
    "print(tf.__version__)\n",
    "from tensorflow.keras import layers \n",
    "from tensorflow import keras\n",
    "from sklearn.model_selection import train_test_split\n",
    "\n",
    "#accessing files\n",
    "from google.cloud import storage\n",
    "import os\n",
    "\n",
    "#display charts/images\n",
    "import matplotlib.pyplot as plt\n",
    "\n",
    "#don't need\n",
    "# from tensorflow.python.keras.preprocessing import sequence\n",
    "# from tensorflow.python.keras.preprocessing import text\n",
    "# import tensorflow_hub as hub\n",
    "\n",
    "\n"
   ]
  },
  {
   "cell_type": "code",
   "execution_count": 2,
   "metadata": {
    "colab": {},
    "colab_type": "code",
    "id": "9__sYCZ7718e"
   },
   "outputs": [],
   "source": [
    "params = {\n",
    "    'image_size': [225, 225],\n",
    "    'text_input': (58,),\n",
    "    'batch_size': 512,\n",
    "    'vocab_size': 30000,\n",
    "    'examples_per_file': 850, #will not change\n",
    "    'test_examples_per_file': 500,\n",
    "    'version': 8 #model version number\n",
    "}"
   ]
  },
  {
   "cell_type": "code",
   "execution_count": 3,
   "metadata": {
    "colab": {
     "base_uri": "https://localhost:8080/",
     "height": 54
    },
    "colab_type": "code",
    "id": "g3ZOLb6A718k",
    "outputId": "dce16d88-72bb-428a-8866-9e5f8bb085e2"
   },
   "outputs": [
    {
     "name": "stderr",
     "output_type": "stream",
     "text": [
      "WARNING:google.auth._default:No project ID could be determined. Consider running `gcloud config set project` or setting the GOOGLE_CLOUD_PROJECT environment variable\n"
     ]
    }
   ],
   "source": [
    "try:\n",
    "    from google.colab import auth\n",
    "    auth.authenticate_user()\n",
    "    credentials=None\n",
    "\n",
    "except ModuleNotFoundError:\n",
    "\n",
    "\n",
    "    from google.oauth2 import service_account\n",
    "\n",
    "    credentials = service_account.Credentials.from_service_account_file( #file location of GCS private key\n",
    "        '/Users/jeremiahherberg/Downloads/hateful-memes-af65c70c1b79.json')\n",
    "\n",
    "client = storage.Client(project='hateful-memes', credentials=credentials)"
   ]
  },
  {
   "cell_type": "code",
   "execution_count": 4,
   "metadata": {
    "colab": {},
    "colab_type": "code",
    "id": "3cjmD1w-718p"
   },
   "outputs": [],
   "source": [
    "num_examples_per_tfrecordfile = params['examples_per_file'] # 850 #this will not change"
   ]
  },
  {
   "cell_type": "code",
   "execution_count": 5,
   "metadata": {
    "colab": {
     "base_uri": "https://localhost:8080/",
     "height": 54
    },
    "colab_type": "code",
    "id": "BMUqKpKY718s",
    "outputId": "c1d1cb23-ba8d-4cc7-ce7b-3a074f920f93"
   },
   "outputs": [
    {
     "name": "stderr",
     "output_type": "stream",
     "text": [
      "WARNING:google.auth._default:No project ID could be determined. Consider running `gcloud config set project` or setting the GOOGLE_CLOUD_PROJECT environment variable\n"
     ]
    }
   ],
   "source": [
    "bucket = 'jh_hateful_memes'\n",
    "client = storage.Client(project='hateful-memes', credentials=credentials)\n",
    "objects = client.list_blobs(bucket, prefix='hatefulmemes_')\n",
    "tfrecords = []\n",
    "for object_ in objects:\n",
    "    path = str(object_).split(', ')[1]\n",
    "    gs_path = os.path.join('gs://', bucket, path)\n",
    "    tfrecords.append(gs_path) #gs_path"
   ]
  },
  {
   "cell_type": "code",
   "execution_count": 6,
   "metadata": {
    "colab": {},
    "colab_type": "code",
    "id": "CogGhHQB718u"
   },
   "outputs": [],
   "source": [
    "# tfrecords"
   ]
  },
  {
   "cell_type": "code",
   "execution_count": 7,
   "metadata": {
    "colab": {
     "base_uri": "https://localhost:8080/",
     "height": 768
    },
    "colab_type": "code",
    "id": "VdrBIeYx718x",
    "outputId": "bdded215-4cc0-4731-9281-b73c984ed7b7"
   },
   "outputs": [
    {
     "name": "stdout",
     "output_type": "stream",
     "text": [
      "Running on TPU  grpc://10.32.69.194:8470\n",
      "INFO:tensorflow:Initializing the TPU system: grpc://10.32.69.194:8470\n"
     ]
    },
    {
     "name": "stderr",
     "output_type": "stream",
     "text": [
      "INFO:tensorflow:Initializing the TPU system: grpc://10.32.69.194:8470\n"
     ]
    },
    {
     "name": "stdout",
     "output_type": "stream",
     "text": [
      "INFO:tensorflow:Clearing out eager caches\n"
     ]
    },
    {
     "name": "stderr",
     "output_type": "stream",
     "text": [
      "INFO:tensorflow:Clearing out eager caches\n"
     ]
    },
    {
     "name": "stdout",
     "output_type": "stream",
     "text": [
      "INFO:tensorflow:Finished initializing TPU system.\n"
     ]
    },
    {
     "name": "stderr",
     "output_type": "stream",
     "text": [
      "INFO:tensorflow:Finished initializing TPU system.\n",
      "WARNING:absl:`tf.distribute.experimental.TPUStrategy` is deprecated, please use  the non experimental symbol `tf.distribute.TPUStrategy` instead.\n"
     ]
    },
    {
     "name": "stdout",
     "output_type": "stream",
     "text": [
      "INFO:tensorflow:Found TPU system:\n"
     ]
    },
    {
     "name": "stderr",
     "output_type": "stream",
     "text": [
      "INFO:tensorflow:Found TPU system:\n"
     ]
    },
    {
     "name": "stdout",
     "output_type": "stream",
     "text": [
      "INFO:tensorflow:*** Num TPU Cores: 8\n"
     ]
    },
    {
     "name": "stderr",
     "output_type": "stream",
     "text": [
      "INFO:tensorflow:*** Num TPU Cores: 8\n"
     ]
    },
    {
     "name": "stdout",
     "output_type": "stream",
     "text": [
      "INFO:tensorflow:*** Num TPU Workers: 1\n"
     ]
    },
    {
     "name": "stderr",
     "output_type": "stream",
     "text": [
      "INFO:tensorflow:*** Num TPU Workers: 1\n"
     ]
    },
    {
     "name": "stdout",
     "output_type": "stream",
     "text": [
      "INFO:tensorflow:*** Num TPU Cores Per Worker: 8\n"
     ]
    },
    {
     "name": "stderr",
     "output_type": "stream",
     "text": [
      "INFO:tensorflow:*** Num TPU Cores Per Worker: 8\n"
     ]
    },
    {
     "name": "stdout",
     "output_type": "stream",
     "text": [
      "INFO:tensorflow:*** Available Device: _DeviceAttributes(/job:localhost/replica:0/task:0/device:CPU:0, CPU, 0, 0)\n"
     ]
    },
    {
     "name": "stderr",
     "output_type": "stream",
     "text": [
      "INFO:tensorflow:*** Available Device: _DeviceAttributes(/job:localhost/replica:0/task:0/device:CPU:0, CPU, 0, 0)\n"
     ]
    },
    {
     "name": "stdout",
     "output_type": "stream",
     "text": [
      "INFO:tensorflow:*** Available Device: _DeviceAttributes(/job:localhost/replica:0/task:0/device:XLA_CPU:0, XLA_CPU, 0, 0)\n"
     ]
    },
    {
     "name": "stderr",
     "output_type": "stream",
     "text": [
      "INFO:tensorflow:*** Available Device: _DeviceAttributes(/job:localhost/replica:0/task:0/device:XLA_CPU:0, XLA_CPU, 0, 0)\n"
     ]
    },
    {
     "name": "stdout",
     "output_type": "stream",
     "text": [
      "INFO:tensorflow:*** Available Device: _DeviceAttributes(/job:worker/replica:0/task:0/device:CPU:0, CPU, 0, 0)\n"
     ]
    },
    {
     "name": "stderr",
     "output_type": "stream",
     "text": [
      "INFO:tensorflow:*** Available Device: _DeviceAttributes(/job:worker/replica:0/task:0/device:CPU:0, CPU, 0, 0)\n"
     ]
    },
    {
     "name": "stdout",
     "output_type": "stream",
     "text": [
      "INFO:tensorflow:*** Available Device: _DeviceAttributes(/job:worker/replica:0/task:0/device:TPU:0, TPU, 0, 0)\n"
     ]
    },
    {
     "name": "stderr",
     "output_type": "stream",
     "text": [
      "INFO:tensorflow:*** Available Device: _DeviceAttributes(/job:worker/replica:0/task:0/device:TPU:0, TPU, 0, 0)\n"
     ]
    },
    {
     "name": "stdout",
     "output_type": "stream",
     "text": [
      "INFO:tensorflow:*** Available Device: _DeviceAttributes(/job:worker/replica:0/task:0/device:TPU:1, TPU, 0, 0)\n"
     ]
    },
    {
     "name": "stderr",
     "output_type": "stream",
     "text": [
      "INFO:tensorflow:*** Available Device: _DeviceAttributes(/job:worker/replica:0/task:0/device:TPU:1, TPU, 0, 0)\n"
     ]
    },
    {
     "name": "stdout",
     "output_type": "stream",
     "text": [
      "INFO:tensorflow:*** Available Device: _DeviceAttributes(/job:worker/replica:0/task:0/device:TPU:2, TPU, 0, 0)\n"
     ]
    },
    {
     "name": "stderr",
     "output_type": "stream",
     "text": [
      "INFO:tensorflow:*** Available Device: _DeviceAttributes(/job:worker/replica:0/task:0/device:TPU:2, TPU, 0, 0)\n"
     ]
    },
    {
     "name": "stdout",
     "output_type": "stream",
     "text": [
      "INFO:tensorflow:*** Available Device: _DeviceAttributes(/job:worker/replica:0/task:0/device:TPU:3, TPU, 0, 0)\n"
     ]
    },
    {
     "name": "stderr",
     "output_type": "stream",
     "text": [
      "INFO:tensorflow:*** Available Device: _DeviceAttributes(/job:worker/replica:0/task:0/device:TPU:3, TPU, 0, 0)\n"
     ]
    },
    {
     "name": "stdout",
     "output_type": "stream",
     "text": [
      "INFO:tensorflow:*** Available Device: _DeviceAttributes(/job:worker/replica:0/task:0/device:TPU:4, TPU, 0, 0)\n"
     ]
    },
    {
     "name": "stderr",
     "output_type": "stream",
     "text": [
      "INFO:tensorflow:*** Available Device: _DeviceAttributes(/job:worker/replica:0/task:0/device:TPU:4, TPU, 0, 0)\n"
     ]
    },
    {
     "name": "stdout",
     "output_type": "stream",
     "text": [
      "INFO:tensorflow:*** Available Device: _DeviceAttributes(/job:worker/replica:0/task:0/device:TPU:5, TPU, 0, 0)\n"
     ]
    },
    {
     "name": "stderr",
     "output_type": "stream",
     "text": [
      "INFO:tensorflow:*** Available Device: _DeviceAttributes(/job:worker/replica:0/task:0/device:TPU:5, TPU, 0, 0)\n"
     ]
    },
    {
     "name": "stdout",
     "output_type": "stream",
     "text": [
      "INFO:tensorflow:*** Available Device: _DeviceAttributes(/job:worker/replica:0/task:0/device:TPU:6, TPU, 0, 0)\n"
     ]
    },
    {
     "name": "stderr",
     "output_type": "stream",
     "text": [
      "INFO:tensorflow:*** Available Device: _DeviceAttributes(/job:worker/replica:0/task:0/device:TPU:6, TPU, 0, 0)\n"
     ]
    },
    {
     "name": "stdout",
     "output_type": "stream",
     "text": [
      "INFO:tensorflow:*** Available Device: _DeviceAttributes(/job:worker/replica:0/task:0/device:TPU:7, TPU, 0, 0)\n"
     ]
    },
    {
     "name": "stderr",
     "output_type": "stream",
     "text": [
      "INFO:tensorflow:*** Available Device: _DeviceAttributes(/job:worker/replica:0/task:0/device:TPU:7, TPU, 0, 0)\n"
     ]
    },
    {
     "name": "stdout",
     "output_type": "stream",
     "text": [
      "INFO:tensorflow:*** Available Device: _DeviceAttributes(/job:worker/replica:0/task:0/device:TPU_SYSTEM:0, TPU_SYSTEM, 0, 0)\n"
     ]
    },
    {
     "name": "stderr",
     "output_type": "stream",
     "text": [
      "INFO:tensorflow:*** Available Device: _DeviceAttributes(/job:worker/replica:0/task:0/device:TPU_SYSTEM:0, TPU_SYSTEM, 0, 0)\n"
     ]
    },
    {
     "name": "stdout",
     "output_type": "stream",
     "text": [
      "INFO:tensorflow:*** Available Device: _DeviceAttributes(/job:worker/replica:0/task:0/device:XLA_CPU:0, XLA_CPU, 0, 0)\n"
     ]
    },
    {
     "name": "stderr",
     "output_type": "stream",
     "text": [
      "INFO:tensorflow:*** Available Device: _DeviceAttributes(/job:worker/replica:0/task:0/device:XLA_CPU:0, XLA_CPU, 0, 0)\n"
     ]
    },
    {
     "name": "stdout",
     "output_type": "stream",
     "text": [
      "REPLICAS:  8\n"
     ]
    }
   ],
   "source": [
    "try:\n",
    "    # TPU detection. No parameters necessary if TPU_NAME environment variable is\n",
    "    # set: this is always the case on Kaggle.\n",
    "    tpu = tf.distribute.cluster_resolver.TPUClusterResolver()\n",
    "    print('Running on TPU ', tpu.master())\n",
    "except ValueError:\n",
    "    tpu = None\n",
    "\n",
    "if tpu:\n",
    "    tf.config.experimental_connect_to_cluster(tpu)\n",
    "    tf.tpu.experimental.initialize_tpu_system(tpu)\n",
    "    strategy = tf.distribute.experimental.TPUStrategy(tpu)\n",
    "else:\n",
    "    # Default distribution strategy in Tensorflow. Works on CPU and single GPU.\n",
    "    strategy = tf.distribute.get_strategy()\n",
    "\n",
    "print(\"REPLICAS: \", strategy.num_replicas_in_sync)"
   ]
  },
  {
   "cell_type": "code",
   "execution_count": 8,
   "metadata": {
    "colab": {},
    "colab_type": "code",
    "id": "rm40cYA_718y"
   },
   "outputs": [],
   "source": [
    "def decode_example_train(example):\n",
    "    '''\n",
    "    decodes single tfexample from TFrecord file\n",
    "    '''\n",
    "    features = {'label': tf.io.FixedLenFeature([], tf.int64),\n",
    "                'text': tf.io.FixedLenFeature([], tf.string),\n",
    "                'text_lemma': tf.io.FixedLenFeature([], tf.string),\n",
    "                'text_lemma_no_stopwords': tf.io.FixedLenFeature([], tf.string),\n",
    "                'text_no_stopwords':tf.io.FixedLenFeature([], tf.string),\n",
    "                'image': tf.io.FixedLenFeature([], tf.string)}\n",
    "    single_example = tf.io.parse_single_example(example, features)\n",
    "    \n",
    "    text = tf.io.parse_tensor(single_example['text'], out_type=tf.int32)\n",
    "    textL = tf.io.parse_tensor(single_example['text_lemma'], out_type=tf.int32)\n",
    "    # text = tf.cast(text, tf.float32) \n",
    "    image = tf.io.decode_jpeg(single_example['image'], 3)\n",
    "    image = tf.image.resize_with_pad(image, *params['image_size'])\n",
    "    image = image / 255.0\n",
    "    label = single_example['label']\n",
    "    # label = tf.cast(label, tf.float32)\n",
    "    return text, textL, image, label\n",
    "\n",
    "def decode_example_test(example):\n",
    "    '''\n",
    "    decodes single tfexample from TFrecord file\n",
    "    '''\n",
    "    features = {'id': tf.io.FixedLenFeature([], tf.int64),\n",
    "                'text': tf.io.FixedLenFeature([], tf.string),\n",
    "                'text_lemma': tf.io.FixedLenFeature([], tf.string),\n",
    "                'text_lemma_no_stopwords': tf.io.FixedLenFeature([], tf.string),\n",
    "                'text_no_stopwords':tf.io.FixedLenFeature([], tf.string),\n",
    "                'image': tf.io.FixedLenFeature([], tf.string)}\n",
    "    single_example = tf.io.parse_single_example(example, features)\n",
    "    \n",
    "    text = tf.io.parse_tensor(single_example['text'], out_type=tf.int32)\n",
    "    textL = tf.io.parse_tensor(single_example['text_lemma'], out_type=tf.int32)\n",
    "    # text = tf.cast(text, tf.float32) \n",
    "    image = tf.io.decode_jpeg(single_example['image'], 3)\n",
    "    image = tf.image.resize_with_pad(image, *params['image_size'])\n",
    "    image = image / 255.0\n",
    "    label = single_example['id']\n",
    "    # label = tf.cast(label, tf.float32)\n",
    "    return text, textL, image, label\n",
    "\n",
    "def flip_image(text, textL, image, label): \n",
    "    '''\n",
    "    randombly flips image input\n",
    "    \n",
    "    args:\n",
    "        text: text output in ds\n",
    "        image: image output in ds\n",
    "        label: label output in ds (can also be id)\n",
    "    returns:\n",
    "        text, image, label\n",
    "        args will be otherwise unchanged\n",
    "    '''\n",
    "    \n",
    "    image = tf.image.random_flip_left_right(image)\n",
    "\n",
    "    return text, textL, image, label\n",
    "\n",
    "\n",
    "def convert_xy(text, textL, image, label): #needs to be called last\n",
    "    '''\n",
    "    transforms ds output from text, image, label -> (text, image), label\n",
    "    \n",
    "    args:\n",
    "        text: text output in ds\n",
    "        image: image output in ds\n",
    "        label: label output in ds (can also be id)\n",
    "    returns:\n",
    "        (text, image), label\n",
    "        args will be otherwise unchanged\n",
    "    '''\n",
    "    return (text, textL, image), label\n",
    "    \n",
    "    "
   ]
  },
  {
   "cell_type": "code",
   "execution_count": 9,
   "metadata": {
    "colab": {},
    "colab_type": "code",
    "id": "PZ0dHSjt7180"
   },
   "outputs": [],
   "source": [
    "def create_ds(files, params, train=True, test_examples=1000):\n",
    "    '''\n",
    "    function to create dataset for training/validation\n",
    "    \n",
    "    args:\n",
    "        files: list of str, filepaths of TFrecord files to be used in DS\n",
    "        params: dict with the following keys:\n",
    "            batch_size: int, batch size of training/validation step\n",
    "            examples_per_file: int, number of examples in each TFrecord file\n",
    "        train, bool, default True, indicator if the DS is for training\n",
    "        test_examples, int: default 1000 number of examples in test dataset\n",
    "    returns:\n",
    "        ds: tensorflow input pipeline with images, text and labels\n",
    "            output of ds is: (text, image), label\n",
    "        ds_batches: int, number of steps in each epoch based on the batch_size\n",
    "    '''\n",
    "    file_size = params['examples_per_file'] \n",
    "    batch_size = file_size * len(files)\n",
    "\n",
    "    ds = tf.data.TFRecordDataset(filenames = files)\n",
    "    if train:\n",
    "        ds = ds.map(decode_example_train, \n",
    "                    num_parallel_calls=tf.data.experimental.AUTOTUNE)\n",
    "        ds = ds.map(flip_image, num_parallel_calls=tf.data.experimental.AUTOTUNE)\n",
    "    else:\n",
    "        ds = ds.map(decode_example_test)\n",
    "    ds = ds.map(convert_xy, num_parallel_calls=tf.data.experimental.AUTOTUNE)\n",
    "    if train:\n",
    "        ds = ds.batch(batch_size, drop_remainder=True)\n",
    "    else:\n",
    "        ds = ds.batch(test_examples)\n",
    "    ds = ds.cache() \n",
    "    \n",
    "    ds_batches = 10 #(len(files) * file_size) // batch_size\n",
    "    return ds, ds_batches\n",
    "    \n",
    "    "
   ]
  },
  {
   "cell_type": "code",
   "execution_count": 10,
   "metadata": {
    "colab": {},
    "colab_type": "code",
    "id": "V6RbH_oRmjUU"
   },
   "outputs": [],
   "source": [
    "def pair_separableConv1D(x, \n",
    "                         filters, kernal_size, act, first_reg, sec_reg,\n",
    "                        maxpooling_poolsize):\n",
    "    '''\n",
    "    function to add the following layers to a Keras Functional model:\n",
    "        layers.SeparableConv1D\n",
    "        layers.SeparableConv1D\n",
    "        layers.MaxPooling1D\n",
    "    \n",
    "    args:\n",
    "        x: keras input layer, or series of layers that can be traced to input layer\n",
    "        kernal_size: int, kernal size for SeparableConv1D layers\n",
    "        act: str, activation for SeparableConv1D layers\n",
    "        first_reg, keras regularizer to pass into 1st conv layer\n",
    "        sec_reg, keras regularizer to pass into 2nd conv layer\n",
    "        maxpooling_poolsize: int, poolsize for maxpooling layer\n",
    "    \n",
    "    returns:\n",
    "        x: x that was input into fn with above layers added\n",
    "    '''\n",
    "    x = layers.SeparableConv1D(filters=filters, kernel_size=kernal_size, \n",
    "                              activation=act, padding='same',\n",
    "                              kernel_regularizer=first_reg)(x)\n",
    "    x = layers.SeparableConv1D(filters=filters, kernel_size=kernal_size, \n",
    "                              activation=act, padding='same',\n",
    "                              kernel_regularizer=sec_reg)(x)\n",
    "    x = layers.MaxPooling1D(pool_size=maxpooling_poolsize, padding='same')(x)\n",
    "    x = layers.BatchNormalization()(x)\n",
    "    return x"
   ]
  },
  {
   "cell_type": "code",
   "execution_count": 11,
   "metadata": {
    "colab": {},
    "colab_type": "code",
    "id": "Z7nJDhlumjUX"
   },
   "outputs": [],
   "source": [
    "def conv2dset(x, \n",
    "              conv_filter, kernel, regularizer=None, \n",
    "              maxpooling_poolsize=2, \n",
    "              conv_act=None, \n",
    "              dense_units=None, dense_act=None):\n",
    "    '''\n",
    "    function to add the following layers to a Keras Functional model:\n",
    "        layers.Conv2D\n",
    "        MaxPooling2D\n",
    "        Batchnormalization\n",
    "        (activation layer)\n",
    "        layers.Dense (if applicable)\n",
    "    \n",
    "    args:\n",
    "        x: keras input layer, or series of layers that can be traced to input layer\n",
    "        conv_filter: int, number of filters in Conv2D layer\n",
    "        kernel: int, kernel size in Conv2D layer\n",
    "        regularizer: keras.regularizers object, default: None, regularizer in \n",
    "            Conv2D layer\n",
    "        maxpooling_poolsize: int, default 2, poolsize for maxpooling layer\n",
    "        conv_act: keras layer (without the \"()\"), default None, activation\n",
    "            layer that will go after the batchnormalization layer\n",
    "        dense_units: int, default None, number of units in dense layer\n",
    "            if None, there will be no dense layer\n",
    "        dense_act: str, default None, activation in dense layer\n",
    "    \n",
    "    returns:\n",
    "        x: x that was input into fn with above layers added\n",
    "        \n",
    "    '''\n",
    "    x = layers.Conv2D(filters=conv_filter, kernel_size=kernel, padding='same', \n",
    "                      kernel_regularizer=regularizer)(x)\n",
    "    if maxpooling_poolsize:\n",
    "        x = layers.MaxPooling2D(maxpooling_poolsize)(x)\n",
    "    # x = layers.BatchNormalization()(x)\n",
    "    if conv_act:\n",
    "        x = conv_act()(x)\n",
    "    if dense_units:\n",
    "        x = layers.Dense(dense_units, activation=dense_act)(x)\n",
    "    \n",
    "    return x\n",
    "\n",
    "def convblock(x, conv_fn, filters, regularizer, conv_act, kernal=5):\n",
    "    '''\n",
    "    makes a block of convolution layers\n",
    "    \n",
    "    todo -- work on documentation \n",
    "    '''\n",
    "    count = 0\n",
    "    for _ in range(2):\n",
    "        for filter_ in filters:\n",
    "            count +=1\n",
    "            if count == 2:\n",
    "                x1 = conv_fn(x, filter_, kernal, regularizer, 2, conv_act,)\n",
    "                x = x1\n",
    "            else:\n",
    "                x = conv_fn(x, filter_, kernal, regularizer, None, conv_act)\n",
    "    x = layers.Add()([x, x1])\n",
    "    return x\n",
    "\n"
   ]
  },
  {
   "cell_type": "code",
   "execution_count": 12,
   "metadata": {
    "colab": {},
    "colab_type": "code",
    "id": "aHOtR_XA7182"
   },
   "outputs": [],
   "source": [
    "def create_model(params=params,):\n",
    "    '''\n",
    "    creates model with two inputs and out output\n",
    "\n",
    "        \n",
    "    '''\n",
    "    #set some fixed variables\n",
    "    text_input_shape = params['text_input']\n",
    "    vocab_size = params['vocab_size']\n",
    "    image_size = params['image_size']\n",
    "    dense_nodes = 100\n",
    "    ltsm_units = 128\n",
    "    ltsm_dense_units = 64\n",
    "    relu = layers.ReLU\n",
    "    leaky = layers.LeakyReLU\n",
    "    reg = keras.regularizers.l2(0.001,)\n",
    "    \n",
    "    #model inputs\n",
    "    input_text = layers.Input(text_input_shape, name='text_input')\n",
    "    embedding = layers.Embedding(input_dim=vocab_size, output_dim=64, \n",
    "                                 input_length=58, mask_zero=True)(input_text)\n",
    "    input_lemma = layers.Input(text_input_shape, name='test_lemma_input')\n",
    "    lemma_embedding = layers.Embedding(input_dim=vocab_size, output_dim=64,\n",
    "                                       input_length=58, mask_zero=True)(input_lemma)\n",
    "    input_image = layers.Input((*image_size, 3), name='image_input')\n",
    "\n",
    "\n",
    "    #bidirectional LSTM - original text\n",
    "    x_bidir = embedding\n",
    "    x_bidir = layers.Bidirectional(layers.LSTM(ltsm_units))(x_bidir)\n",
    "    x_bidir = layers.Dense(ltsm_dense_units, activation = 'relu')(x_bidir)\n",
    "    x_bidir_out = layers.Dense(dense_nodes, activation='sigmoid', name='bidirectional_out')(x_bidir)\n",
    "\n",
    "    #1D convolution - original text\n",
    "    x_text = embedding\n",
    "    x_text = pair_separableConv1D(x_text, 128, 4, 'relu', reg, None, 4)\n",
    "    x_text = pair_separableConv1D(x_text, 128, 4, 'relu', None, None, 4)\n",
    "    x_text = layers.Flatten()(x_text)\n",
    "    x_text = layers.Dense(dense_nodes, activation='tanh',kernel_regularizer=reg)(x_text)\n",
    "    output_layer_text = layers.Dense(dense_nodes, activation='sigmoid', name='text_output')(x_text)\n",
    "\n",
    "\n",
    "    #1D convolution - lemma\n",
    "    x_lemma = lemma_embedding\n",
    "    x_lemma = pair_separableConv1D(x_lemma, 128, 4, 'relu', reg, None, 4)\n",
    "    x_lemma = pair_separableConv1D(x_lemma, 128, 4, 'relu', None, None, 4)\n",
    "    x_lemma = layers.Flatten()(x_lemma)\n",
    "    # x_lemma = layers.Dense(dense_nodes, activation='tanh',kernel_regularizer=reg)(x_lemma)\n",
    "    output_layer_lemma = layers.Dense(dense_nodes, activation='sigmoid', name='text_output_lemma')(x_lemma)\n",
    "\n",
    "    #bidirectional LSTM - lemma\n",
    "    x_bidirL = lemma_embedding\n",
    "    x_bidirL = layers.Bidirectional(layers.LSTM(ltsm_units))(x_bidirL)\n",
    "    x_bidirL = layers.Dense(ltsm_dense_units, activation = 'relu')(x_bidirL)\n",
    "    x_bidir_outL = layers.Dense(dense_nodes, activation='sigmoid', name='bidirectional_out_lemma')(x_bidirL)\n",
    "\n",
    "\n",
    "    #images\n",
    "#     x_img = input_image\n",
    "#     x_img = conv2dset(x_img, 64, 5, reg, 2, relu, 16, 'tanh')\n",
    "#     x_img = conv2dset(x_img, 128, 5, reg, 2,  relu, 1, 'tanh') #16, 'tanh'\n",
    "#     x_img = layers.Flatten()(x_img)\n",
    "#     # x_img = layers.Dense(dense_nodes, activation='tanh', kernel_regularizer=reg)(x_img) \n",
    "#     output_layer_image = layers.Dense(dense_nodes, activation='softmax', name='image_out')(x_img)\n",
    "    x_img = input_image\n",
    "\n",
    "    filters = 128\n",
    "    for _ in range(3):\n",
    "        x_img = convblock(x_img, conv2dset, [filters, filters * 2], reg, leaky, 5)\n",
    "        filters *=2\n",
    "\n",
    "    img_out1 = conv2dset(x_img, dense_nodes, 5, reg, 1, leaky, dense_nodes, 'tanh')\n",
    "    img_out1 = layers.Flatten()(img_out1)\n",
    "    output_layer_image = layers.Dense(dense_nodes, activation='sigmoid', name='image_out')(img_out1)\n",
    "\n",
    "\n",
    "    x_img = convblock(x_img, conv2dset, [256, 512], reg, leaky, 5)\n",
    "    img_out2 = conv2dset(x_img, dense_nodes, 5, reg, 1, leaky, dense_nodes, 'tanh')\n",
    "\n",
    "\n",
    "\n",
    "    img_out2 = layers.Flatten()(img_out2)\n",
    "    # x_img = layers.Dense(dense_nodes, activation='tanh', kernel_regularizer=reg)(x_img) \n",
    "    output_layer_image2 = layers.Dense(dense_nodes, activation='sigmoid', name='image_out2')(img_out2)\n",
    "\n",
    "    final_img_out = layers.Concatenate()([output_layer_image, output_layer_image2]) #dense_nodes * 2\n",
    "    \n",
    "    \n",
    "    text_outputs = layers.Concatenate()([x_bidir_out, output_layer_text, output_layer_lemma, x_bidir_outL])\n",
    "    text_outputs = layers.Dense(dense_nodes *2)(text_outputs)\n",
    "    \n",
    "    #only one output for images\n",
    "    image_outputs = output_layer_image\n",
    "    x = layers.Concatenate()([image_outputs, text_outputs])\n",
    "    \n",
    "    # x = tf.stack([ image_outputs,text_outputs])\n",
    "    x = layers.Reshape(( 2, int(dense_nodes * 1.5)))(x)\n",
    "    x = layers.LSTM(64)(x)\n",
    "    # x = layers.Dense(dense_nodes)(x)\n",
    "    x = layers.Flatten()(x)\n",
    "    #consider adding an intrum dense layer here\n",
    "    final_output = layers.Dense(1, activation='sigmoid', name='final_out')(x)\n",
    "    \n",
    "    model = keras.Model([input_text, input_lemma, input_image], final_output)\n",
    "    metrics = [\n",
    "          keras.metrics.TruePositives(name='tp'),\n",
    "    #           keras.metrics.FalsePositives(name='fp'),\n",
    "    #           keras.metrics.TrueNegatives(name='tn'),\n",
    "          keras.metrics.FalseNegatives(name='fn'), \n",
    "          keras.metrics.BinaryAccuracy(name='accuracy'),\n",
    "    #           keras.metrics.Precision(name='precision'),\n",
    "    #           keras.metrics.Recall(name='recall'),\n",
    "          keras.metrics.AUC(name='auc'),\n",
    "    ]\n",
    "    schedule = tf.keras.optimizers.schedules.ExponentialDecay(0.0003, 10 *3, 0.75)\n",
    "    model.compile(\n",
    "    optimizer=tf.keras.optimizers.Adam(schedule),\n",
    "    loss = tf.keras.losses.BinaryCrossentropy(label_smoothing = 0.01),\n",
    "    metrics=metrics)\n",
    "    \n",
    "    return model\n",
    "    \n"
   ]
  },
  {
   "cell_type": "code",
   "execution_count": 13,
   "metadata": {
    "colab": {},
    "colab_type": "code",
    "id": "_tHu8tJA7184"
   },
   "outputs": [],
   "source": [
    "train_files, valid_files = train_test_split(tfrecords,\n",
    "                              test_size=.2, random_state=1)\n"
   ]
  },
  {
   "cell_type": "code",
   "execution_count": 14,
   "metadata": {
    "colab": {},
    "colab_type": "code",
    "id": "alJt8bQV7185"
   },
   "outputs": [],
   "source": [
    "train_ds, train_steps = create_ds(train_files, params)\n",
    "valid_ds, valid_steps = create_ds(valid_files, params)"
   ]
  },
  {
   "cell_type": "code",
   "execution_count": 15,
   "metadata": {
    "colab": {
     "base_uri": "https://localhost:8080/",
     "height": 1000
    },
    "colab_type": "code",
    "id": "S25BV5he7187",
    "outputId": "614c0682-6fc0-4d53-a2a4-5ce93840f0d1"
   },
   "outputs": [
    {
     "name": "stdout",
     "output_type": "stream",
     "text": [
      "Model: \"functional_1\"\n",
      "__________________________________________________________________________________________________\n",
      "Layer (type)                    Output Shape         Param #     Connected to                     \n",
      "==================================================================================================\n",
      "image_input (InputLayer)        [(None, 225, 225, 3) 0                                            \n",
      "__________________________________________________________________________________________________\n",
      "conv2d (Conv2D)                 (None, 225, 225, 128 9728        image_input[0][0]                \n",
      "__________________________________________________________________________________________________\n",
      "leaky_re_lu (LeakyReLU)         (None, 225, 225, 128 0           conv2d[0][0]                     \n",
      "__________________________________________________________________________________________________\n",
      "conv2d_1 (Conv2D)               (None, 225, 225, 256 819456      leaky_re_lu[0][0]                \n",
      "__________________________________________________________________________________________________\n",
      "max_pooling2d (MaxPooling2D)    (None, 112, 112, 256 0           conv2d_1[0][0]                   \n",
      "__________________________________________________________________________________________________\n",
      "leaky_re_lu_1 (LeakyReLU)       (None, 112, 112, 256 0           max_pooling2d[0][0]              \n",
      "__________________________________________________________________________________________________\n",
      "conv2d_2 (Conv2D)               (None, 112, 112, 128 819328      leaky_re_lu_1[0][0]              \n",
      "__________________________________________________________________________________________________\n",
      "leaky_re_lu_2 (LeakyReLU)       (None, 112, 112, 128 0           conv2d_2[0][0]                   \n",
      "__________________________________________________________________________________________________\n",
      "conv2d_3 (Conv2D)               (None, 112, 112, 256 819456      leaky_re_lu_2[0][0]              \n",
      "__________________________________________________________________________________________________\n",
      "leaky_re_lu_3 (LeakyReLU)       (None, 112, 112, 256 0           conv2d_3[0][0]                   \n",
      "__________________________________________________________________________________________________\n",
      "add (Add)                       (None, 112, 112, 256 0           leaky_re_lu_3[0][0]              \n",
      "                                                                 leaky_re_lu_1[0][0]              \n",
      "__________________________________________________________________________________________________\n",
      "conv2d_4 (Conv2D)               (None, 112, 112, 256 1638656     add[0][0]                        \n",
      "__________________________________________________________________________________________________\n",
      "leaky_re_lu_4 (LeakyReLU)       (None, 112, 112, 256 0           conv2d_4[0][0]                   \n",
      "__________________________________________________________________________________________________\n",
      "conv2d_5 (Conv2D)               (None, 112, 112, 512 3277312     leaky_re_lu_4[0][0]              \n",
      "__________________________________________________________________________________________________\n",
      "max_pooling2d_1 (MaxPooling2D)  (None, 56, 56, 512)  0           conv2d_5[0][0]                   \n",
      "__________________________________________________________________________________________________\n",
      "leaky_re_lu_5 (LeakyReLU)       (None, 56, 56, 512)  0           max_pooling2d_1[0][0]            \n",
      "__________________________________________________________________________________________________\n",
      "conv2d_6 (Conv2D)               (None, 56, 56, 256)  3277056     leaky_re_lu_5[0][0]              \n",
      "__________________________________________________________________________________________________\n",
      "leaky_re_lu_6 (LeakyReLU)       (None, 56, 56, 256)  0           conv2d_6[0][0]                   \n",
      "__________________________________________________________________________________________________\n",
      "conv2d_7 (Conv2D)               (None, 56, 56, 512)  3277312     leaky_re_lu_6[0][0]              \n",
      "__________________________________________________________________________________________________\n",
      "leaky_re_lu_7 (LeakyReLU)       (None, 56, 56, 512)  0           conv2d_7[0][0]                   \n",
      "__________________________________________________________________________________________________\n",
      "add_1 (Add)                     (None, 56, 56, 512)  0           leaky_re_lu_7[0][0]              \n",
      "                                                                 leaky_re_lu_5[0][0]              \n",
      "__________________________________________________________________________________________________\n",
      "conv2d_8 (Conv2D)               (None, 56, 56, 512)  6554112     add_1[0][0]                      \n",
      "__________________________________________________________________________________________________\n",
      "leaky_re_lu_8 (LeakyReLU)       (None, 56, 56, 512)  0           conv2d_8[0][0]                   \n",
      "__________________________________________________________________________________________________\n",
      "text_input (InputLayer)         [(None, 58)]         0                                            \n",
      "__________________________________________________________________________________________________\n",
      "conv2d_9 (Conv2D)               (None, 56, 56, 1024) 13108224    leaky_re_lu_8[0][0]              \n",
      "__________________________________________________________________________________________________\n",
      "embedding (Embedding)           (None, 58, 64)       1920000     text_input[0][0]                 \n",
      "__________________________________________________________________________________________________\n",
      "test_lemma_input (InputLayer)   [(None, 58)]         0                                            \n",
      "__________________________________________________________________________________________________\n",
      "max_pooling2d_2 (MaxPooling2D)  (None, 28, 28, 1024) 0           conv2d_9[0][0]                   \n",
      "__________________________________________________________________________________________________\n",
      "separable_conv1d (SeparableConv (None, 58, 128)      8576        embedding[0][0]                  \n",
      "__________________________________________________________________________________________________\n",
      "embedding_1 (Embedding)         (None, 58, 64)       1920000     test_lemma_input[0][0]           \n",
      "__________________________________________________________________________________________________\n",
      "leaky_re_lu_9 (LeakyReLU)       (None, 28, 28, 1024) 0           max_pooling2d_2[0][0]            \n",
      "__________________________________________________________________________________________________\n",
      "separable_conv1d_1 (SeparableCo (None, 58, 128)      17024       separable_conv1d[0][0]           \n",
      "__________________________________________________________________________________________________\n",
      "separable_conv1d_4 (SeparableCo (None, 58, 128)      8576        embedding_1[0][0]                \n",
      "__________________________________________________________________________________________________\n",
      "conv2d_10 (Conv2D)              (None, 28, 28, 512)  13107712    leaky_re_lu_9[0][0]              \n",
      "__________________________________________________________________________________________________\n",
      "max_pooling1d (MaxPooling1D)    (None, 15, 128)      0           separable_conv1d_1[0][0]         \n",
      "__________________________________________________________________________________________________\n",
      "separable_conv1d_5 (SeparableCo (None, 58, 128)      17024       separable_conv1d_4[0][0]         \n",
      "__________________________________________________________________________________________________\n",
      "leaky_re_lu_10 (LeakyReLU)      (None, 28, 28, 512)  0           conv2d_10[0][0]                  \n",
      "__________________________________________________________________________________________________\n",
      "batch_normalization (BatchNorma (None, 15, 128)      512         max_pooling1d[0][0]              \n",
      "__________________________________________________________________________________________________\n",
      "max_pooling1d_2 (MaxPooling1D)  (None, 15, 128)      0           separable_conv1d_5[0][0]         \n",
      "__________________________________________________________________________________________________\n",
      "conv2d_11 (Conv2D)              (None, 28, 28, 1024) 13108224    leaky_re_lu_10[0][0]             \n",
      "__________________________________________________________________________________________________\n",
      "separable_conv1d_2 (SeparableCo (None, 15, 128)      17024       batch_normalization[0][0]        \n",
      "__________________________________________________________________________________________________\n",
      "batch_normalization_2 (BatchNor (None, 15, 128)      512         max_pooling1d_2[0][0]            \n",
      "__________________________________________________________________________________________________\n",
      "leaky_re_lu_11 (LeakyReLU)      (None, 28, 28, 1024) 0           conv2d_11[0][0]                  \n",
      "__________________________________________________________________________________________________\n",
      "separable_conv1d_3 (SeparableCo (None, 15, 128)      17024       separable_conv1d_2[0][0]         \n",
      "__________________________________________________________________________________________________\n",
      "separable_conv1d_6 (SeparableCo (None, 15, 128)      17024       batch_normalization_2[0][0]      \n",
      "__________________________________________________________________________________________________\n",
      "add_2 (Add)                     (None, 28, 28, 1024) 0           leaky_re_lu_11[0][0]             \n",
      "                                                                 leaky_re_lu_9[0][0]              \n",
      "__________________________________________________________________________________________________\n",
      "max_pooling1d_1 (MaxPooling1D)  (None, 4, 128)       0           separable_conv1d_3[0][0]         \n",
      "__________________________________________________________________________________________________\n",
      "separable_conv1d_7 (SeparableCo (None, 15, 128)      17024       separable_conv1d_6[0][0]         \n",
      "__________________________________________________________________________________________________\n",
      "conv2d_12 (Conv2D)              (None, 28, 28, 100)  2560100     add_2[0][0]                      \n",
      "__________________________________________________________________________________________________\n",
      "batch_normalization_1 (BatchNor (None, 4, 128)       512         max_pooling1d_1[0][0]            \n",
      "__________________________________________________________________________________________________\n",
      "max_pooling1d_3 (MaxPooling1D)  (None, 4, 128)       0           separable_conv1d_7[0][0]         \n",
      "__________________________________________________________________________________________________\n",
      "max_pooling2d_3 (MaxPooling2D)  (None, 28, 28, 100)  0           conv2d_12[0][0]                  \n",
      "__________________________________________________________________________________________________\n",
      "bidirectional (Bidirectional)   (None, 256)          197632      embedding[0][0]                  \n",
      "__________________________________________________________________________________________________\n",
      "flatten (Flatten)               (None, 512)          0           batch_normalization_1[0][0]      \n",
      "__________________________________________________________________________________________________\n",
      "batch_normalization_3 (BatchNor (None, 4, 128)       512         max_pooling1d_3[0][0]            \n",
      "__________________________________________________________________________________________________\n",
      "bidirectional_1 (Bidirectional) (None, 256)          197632      embedding_1[0][0]                \n",
      "__________________________________________________________________________________________________\n",
      "leaky_re_lu_12 (LeakyReLU)      (None, 28, 28, 100)  0           max_pooling2d_3[0][0]            \n",
      "__________________________________________________________________________________________________\n",
      "dense (Dense)                   (None, 64)           16448       bidirectional[0][0]              \n",
      "__________________________________________________________________________________________________\n",
      "dense_1 (Dense)                 (None, 100)          51300       flatten[0][0]                    \n",
      "__________________________________________________________________________________________________\n",
      "flatten_1 (Flatten)             (None, 512)          0           batch_normalization_3[0][0]      \n",
      "__________________________________________________________________________________________________\n",
      "dense_2 (Dense)                 (None, 64)           16448       bidirectional_1[0][0]            \n",
      "__________________________________________________________________________________________________\n",
      "dense_3 (Dense)                 (None, 28, 28, 100)  10100       leaky_re_lu_12[0][0]             \n",
      "__________________________________________________________________________________________________\n",
      "bidirectional_out (Dense)       (None, 100)          6500        dense[0][0]                      \n",
      "__________________________________________________________________________________________________\n",
      "text_output (Dense)             (None, 100)          10100       dense_1[0][0]                    \n",
      "__________________________________________________________________________________________________\n",
      "text_output_lemma (Dense)       (None, 100)          51300       flatten_1[0][0]                  \n",
      "__________________________________________________________________________________________________\n",
      "bidirectional_out_lemma (Dense) (None, 100)          6500        dense_2[0][0]                    \n",
      "__________________________________________________________________________________________________\n",
      "flatten_2 (Flatten)             (None, 78400)        0           dense_3[0][0]                    \n",
      "__________________________________________________________________________________________________\n",
      "concatenate_1 (Concatenate)     (None, 400)          0           bidirectional_out[0][0]          \n",
      "                                                                 text_output[0][0]                \n",
      "                                                                 text_output_lemma[0][0]          \n",
      "                                                                 bidirectional_out_lemma[0][0]    \n",
      "__________________________________________________________________________________________________\n",
      "image_out (Dense)               (None, 100)          7840100     flatten_2[0][0]                  \n",
      "__________________________________________________________________________________________________\n",
      "dense_5 (Dense)                 (None, 200)          80200       concatenate_1[0][0]              \n",
      "__________________________________________________________________________________________________\n",
      "concatenate_2 (Concatenate)     (None, 300)          0           image_out[0][0]                  \n",
      "                                                                 dense_5[0][0]                    \n",
      "__________________________________________________________________________________________________\n",
      "reshape (Reshape)               (None, 2, 150)       0           concatenate_2[0][0]              \n",
      "__________________________________________________________________________________________________\n",
      "lstm_2 (LSTM)                   (None, 64)           55040       reshape[0][0]                    \n",
      "__________________________________________________________________________________________________\n",
      "flatten_4 (Flatten)             (None, 64)           0           lstm_2[0][0]                     \n",
      "__________________________________________________________________________________________________\n",
      "final_out (Dense)               (None, 1)            65          flatten_4[0][0]                  \n",
      "==================================================================================================\n",
      "Total params: 74,877,385\n",
      "Trainable params: 74,876,361\n",
      "Non-trainable params: 1,024\n",
      "__________________________________________________________________________________________________\n"
     ]
    }
   ],
   "source": [
    "tf.random.set_seed(1)\n",
    "np.random.seed(1)\n",
    "with strategy.scope():\n",
    "    model = create_model()\n",
    "    model.summary()"
   ]
  },
  {
   "cell_type": "code",
   "execution_count": 16,
   "metadata": {
    "colab": {
     "base_uri": "https://localhost:8080/",
     "height": 1000
    },
    "colab_type": "code",
    "id": "dbYqcMyy718-",
    "outputId": "6cc9216a-5d99-4978-9064-686c9540d306"
   },
   "outputs": [
    {
     "name": "stdout",
     "output_type": "stream",
     "text": [
      "Epoch 1/250\n",
      " 2/25 [=>............................] - ETA: 33s - loss: 5.2843 - tp: 101.0000 - fn: 89.0000 - accuracy: 0.5221 - auc: 0.5195  WARNING:tensorflow:Callbacks method `on_train_batch_end` is slow compared to the batch time (batch time: 0.0048s vs `on_train_batch_end` time: 2.9049s). Check your callbacks.\n"
     ]
    },
    {
     "name": "stderr",
     "output_type": "stream",
     "text": [
      "WARNING:tensorflow:Callbacks method `on_train_batch_end` is slow compared to the batch time (batch time: 0.0048s vs `on_train_batch_end` time: 2.9049s). Check your callbacks.\n"
     ]
    },
    {
     "name": "stdout",
     "output_type": "stream",
     "text": [
      "25/25 [==============================] - ETA: 0s - loss: 3.3546 - tp: 1583.0000 - fn: 889.0000 - accuracy: 0.4616 - auc: 0.5002WARNING:tensorflow:From /usr/local/lib/python3.6/dist-packages/tensorflow/python/data/ops/multi_device_iterator_ops.py:601: get_next_as_optional (from tensorflow.python.data.ops.iterator_ops) is deprecated and will be removed in a future version.\n",
      "Instructions for updating:\n",
      "Use `tf.data.Iterator.get_next_as_optional()` instead.\n"
     ]
    },
    {
     "name": "stderr",
     "output_type": "stream",
     "text": [
      "WARNING:tensorflow:From /usr/local/lib/python3.6/dist-packages/tensorflow/python/data/ops/multi_device_iterator_ops.py:601: get_next_as_optional (from tensorflow.python.data.ops.iterator_ops) is deprecated and will be removed in a future version.\n",
      "Instructions for updating:\n",
      "Use `tf.data.Iterator.get_next_as_optional()` instead.\n"
     ]
    },
    {
     "name": "stdout",
     "output_type": "stream",
     "text": [
      "WARNING:tensorflow:Callbacks method `on_test_batch_end` is slow compared to the batch time (batch time: 0.0023s vs `on_test_batch_end` time: 1.0713s). Check your callbacks.\n"
     ]
    },
    {
     "name": "stderr",
     "output_type": "stream",
     "text": [
      "WARNING:tensorflow:Callbacks method `on_test_batch_end` is slow compared to the batch time (batch time: 0.0023s vs `on_test_batch_end` time: 1.0713s). Check your callbacks.\n"
     ]
    },
    {
     "name": "stdout",
     "output_type": "stream",
     "text": [
      "\b\b\b\b\b\b\b\b\b\b\b\b\b\b\b\b\b\b\b\b\b\b\b\b\b\b\b\b\b\b\b\b\b\b\b\b\b\b\b\b\b\b\b\b\b\b\b\b\b\b\b\b\b\b\b\b\b\b\b\b\b\b\b\b\b\b\b\b\b\b\b\b\b\b\b\b\b\b\b\b\b\b\b\b\b\b\b\b\b\b\b\b\b\b\b\b\b\b\b\b\b\b\b\b\b\b\b\b\b\b\b\b\b\b\b\b\b\b\b\b\b\b\b\b\b\b\b\r25/25 [==============================] - 102s 4s/step - loss: 3.3546 - tp: 1583.0000 - fn: 889.0000 - accuracy: 0.4616 - auc: 0.5002 - val_loss: 1.9001 - val_tp: 0.0000e+00 - val_fn: 578.0000 - val_accuracy: 0.6600 - val_auc: 0.5000\n",
      "Epoch 2/250\n",
      "25/25 [==============================] - 76s 3s/step - loss: 1.4192 - tp: 1168.0000 - fn: 1304.0000 - accuracy: 0.5000 - auc: 0.4911 - val_loss: 1.0939 - val_tp: 0.0000e+00 - val_fn: 578.0000 - val_accuracy: 0.6600 - val_auc: 0.5000\n",
      "Epoch 3/250\n",
      "25/25 [==============================] - 76s 3s/step - loss: 0.9851 - tp: 2162.0000 - fn: 310.0000 - accuracy: 0.4076 - auc: 0.5178 - val_loss: 0.9089 - val_tp: 578.0000 - val_fn: 0.0000e+00 - val_accuracy: 0.3400 - val_auc: 0.5000\n",
      "Epoch 4/250\n",
      "25/25 [==============================] - 77s 3s/step - loss: 0.8657 - tp: 1361.0000 - fn: 1111.0000 - accuracy: 0.5121 - auc: 0.5412 - val_loss: 0.8436 - val_tp: 578.0000 - val_fn: 0.0000e+00 - val_accuracy: 0.3400 - val_auc: 0.5834\n",
      "Epoch 5/250\n",
      "25/25 [==============================] - 77s 3s/step - loss: 0.8167 - tp: 1635.0000 - fn: 837.0000 - accuracy: 0.5057 - auc: 0.5685 - val_loss: 0.7974 - val_tp: 56.0000 - val_fn: 522.0000 - val_accuracy: 0.6753 - val_auc: 0.5908\n",
      "Epoch 6/250\n",
      "25/25 [==============================] - 76s 3s/step - loss: 0.7884 - tp: 1357.0000 - fn: 1115.0000 - accuracy: 0.5744 - auc: 0.5919 - val_loss: 0.7801 - val_tp: 198.0000 - val_fn: 380.0000 - val_accuracy: 0.6606 - val_auc: 0.6058\n",
      "Epoch 7/250\n",
      "25/25 [==============================] - 77s 3s/step - loss: 0.7685 - tp: 1285.0000 - fn: 1187.0000 - accuracy: 0.6025 - auc: 0.6109 - val_loss: 0.7655 - val_tp: 228.0000 - val_fn: 350.0000 - val_accuracy: 0.6706 - val_auc: 0.6425\n",
      "Epoch 8/250\n",
      "25/25 [==============================] - 76s 3s/step - loss: 0.7421 - tp: 1312.0000 - fn: 1160.0000 - accuracy: 0.6437 - auc: 0.6596 - val_loss: 0.7288 - val_tp: 153.0000 - val_fn: 425.0000 - val_accuracy: 0.6900 - val_auc: 0.6645\n",
      "Epoch 9/250\n",
      "25/25 [==============================] - 76s 3s/step - loss: 0.7069 - tp: 1316.0000 - fn: 1156.0000 - accuracy: 0.6975 - auc: 0.7263 - val_loss: 0.7116 - val_tp: 202.0000 - val_fn: 376.0000 - val_accuracy: 0.6906 - val_auc: 0.6681\n",
      "Epoch 10/250\n",
      "25/25 [==============================] - 76s 3s/step - loss: 0.6732 - tp: 1395.0000 - fn: 1077.0000 - accuracy: 0.7316 - auc: 0.7726 - val_loss: 0.6986 - val_tp: 216.0000 - val_fn: 362.0000 - val_accuracy: 0.6906 - val_auc: 0.6726\n",
      "Epoch 11/250\n",
      "25/25 [==============================] - 76s 3s/step - loss: 0.6465 - tp: 1474.0000 - fn: 998.0000 - accuracy: 0.7407 - auc: 0.7948 - val_loss: 0.6968 - val_tp: 227.0000 - val_fn: 351.0000 - val_accuracy: 0.6876 - val_auc: 0.6713\n",
      "Epoch 12/250\n",
      "25/25 [==============================] - 76s 3s/step - loss: 0.6266 - tp: 1517.0000 - fn: 955.0000 - accuracy: 0.7534 - auc: 0.8113 - val_loss: 0.7042 - val_tp: 247.0000 - val_fn: 331.0000 - val_accuracy: 0.6782 - val_auc: 0.6710\n",
      "Epoch 13/250\n",
      "25/25 [==============================] - 76s 3s/step - loss: 0.6139 - tp: 1579.0000 - fn: 893.0000 - accuracy: 0.7594 - auc: 0.8180 - val_loss: 0.7040 - val_tp: 255.0000 - val_fn: 323.0000 - val_accuracy: 0.6771 - val_auc: 0.6709\n",
      "Epoch 14/250\n",
      "25/25 [==============================] - 76s 3s/step - loss: 0.6049 - tp: 1597.0000 - fn: 875.0000 - accuracy: 0.7660 - auc: 0.8234 - val_loss: 0.7118 - val_tp: 275.0000 - val_fn: 303.0000 - val_accuracy: 0.6724 - val_auc: 0.6698\n",
      "Epoch 15/250\n",
      "25/25 [==============================] - 76s 3s/step - loss: 0.5982 - tp: 1661.0000 - fn: 811.0000 - accuracy: 0.7656 - auc: 0.8280 - val_loss: 0.7032 - val_tp: 256.0000 - val_fn: 322.0000 - val_accuracy: 0.6788 - val_auc: 0.6692\n",
      "Epoch 16/250\n",
      "25/25 [==============================] - 76s 3s/step - loss: 0.5932 - tp: 1643.0000 - fn: 829.0000 - accuracy: 0.7678 - auc: 0.8312 - val_loss: 0.7042 - val_tp: 255.0000 - val_fn: 323.0000 - val_accuracy: 0.6747 - val_auc: 0.6682\n",
      "Epoch 17/250\n",
      "25/25 [==============================] - 76s 3s/step - loss: 0.5902 - tp: 1632.0000 - fn: 840.0000 - accuracy: 0.7678 - auc: 0.8332 - val_loss: 0.7043 - val_tp: 255.0000 - val_fn: 323.0000 - val_accuracy: 0.6741 - val_auc: 0.6679\n",
      "Epoch 18/250\n",
      "25/25 [==============================] - 76s 3s/step - loss: 0.5876 - tp: 1677.0000 - fn: 795.0000 - accuracy: 0.7709 - auc: 0.8341 - val_loss: 0.7078 - val_tp: 266.0000 - val_fn: 312.0000 - val_accuracy: 0.6765 - val_auc: 0.6682\n",
      "Epoch 19/250\n",
      "25/25 [==============================] - 76s 3s/step - loss: 0.5857 - tp: 1646.0000 - fn: 826.0000 - accuracy: 0.7707 - auc: 0.8352 - val_loss: 0.7044 - val_tp: 259.0000 - val_fn: 319.0000 - val_accuracy: 0.6776 - val_auc: 0.6673\n",
      "Epoch 20/250\n",
      "25/25 [==============================] - 76s 3s/step - loss: 0.5836 - tp: 1680.0000 - fn: 792.0000 - accuracy: 0.7718 - auc: 0.8367 - val_loss: 0.7072 - val_tp: 265.0000 - val_fn: 313.0000 - val_accuracy: 0.6759 - val_auc: 0.6682\n",
      "Epoch 21/250\n",
      "25/25 [==============================] - 76s 3s/step - loss: 0.5823 - tp: 1697.0000 - fn: 775.0000 - accuracy: 0.7750 - auc: 0.8371 - val_loss: 0.7069 - val_tp: 264.0000 - val_fn: 314.0000 - val_accuracy: 0.6765 - val_auc: 0.6685\n",
      "Epoch 22/250\n",
      "25/25 [==============================] - 76s 3s/step - loss: 0.5817 - tp: 1679.0000 - fn: 793.0000 - accuracy: 0.7737 - auc: 0.8375 - val_loss: 0.7064 - val_tp: 263.0000 - val_fn: 315.0000 - val_accuracy: 0.6771 - val_auc: 0.6682\n",
      "Epoch 23/250\n",
      "25/25 [==============================] - 76s 3s/step - loss: 0.5811 - tp: 1681.0000 - fn: 791.0000 - accuracy: 0.7729 - auc: 0.8379 - val_loss: 0.7081 - val_tp: 267.0000 - val_fn: 311.0000 - val_accuracy: 0.6735 - val_auc: 0.6690\n",
      "Epoch 24/250\n",
      "25/25 [==============================] - 76s 3s/step - loss: 0.5804 - tp: 1677.0000 - fn: 795.0000 - accuracy: 0.7734 - auc: 0.8382 - val_loss: 0.7088 - val_tp: 270.0000 - val_fn: 308.0000 - val_accuracy: 0.6741 - val_auc: 0.6694\n",
      "Epoch 25/250\n",
      "25/25 [==============================] - 97s 4s/step - loss: 0.5794 - tp: 1687.0000 - fn: 785.0000 - accuracy: 0.7737 - auc: 0.8392 - val_loss: 0.7098 - val_tp: 272.0000 - val_fn: 306.0000 - val_accuracy: 0.6729 - val_auc: 0.6699\n"
     ]
    }
   ],
   "source": [
    "#calculate class weights\n",
    "target_0 = 5450 #these values will not change (are from review of test ds)\n",
    "target_1 = 3050\n",
    "total = target_0 + target_1\n",
    "\n",
    "class_weight_0 = (1 / target_0) * (total) / 2.0\n",
    "class_weight_1 = (1 / target_1) * (total) / 2.0\n",
    "\n",
    "class_weights = {0: class_weight_0, 1: class_weight_1}\n",
    "\n",
    "\n",
    "#early stopping if validation auc stops improving\n",
    "early_stopping = tf.keras.callbacks.EarlyStopping(monitor='val_auc', #val_auc\n",
    "                                patience=15,\n",
    "                                mode='max',\n",
    "                                restore_best_weights=True)\n",
    "\n",
    "\n",
    "\n",
    "\n",
    "for train_data, train_groundTruth in train_ds:\n",
    "    for valid_data, valid_groundTruth in valid_ds:\n",
    "        history = model.fit(train_data, \n",
    "                            train_groundTruth, \n",
    "                            steps_per_epoch=25, \n",
    "                            validation_data=(valid_data, valid_groundTruth), \n",
    "                            validation_steps=5,\n",
    "                            callbacks=[early_stopping],\n",
    "                            class_weight=class_weights,\n",
    "                            epochs=250)\n"
   ]
  },
  {
   "cell_type": "code",
   "execution_count": 17,
   "metadata": {
    "colab": {},
    "colab_type": "code",
    "id": "WNQKf2Y08zw2"
   },
   "outputs": [],
   "source": [
    "def plot_metric(metric1, metric2, ylabel):\n",
    "    plt.plot(history.history[metric1], label=metric1)\n",
    "    plt.plot(history.history[metric2], label=metric2)\n",
    "    plt.ylabel(ylabel)\n",
    "    plt.xlabel('epoch')\n",
    "    plt.legend()\n",
    "    plt.show()"
   ]
  },
  {
   "cell_type": "code",
   "execution_count": 18,
   "metadata": {
    "colab": {
     "base_uri": "https://localhost:8080/",
     "height": 804
    },
    "colab_type": "code",
    "id": "_BG-kKjK83qC",
    "outputId": "b624c33f-def3-4012-cd35-13eadec852e4"
   },
   "outputs": [
    {
     "data": {
      "image/png": "[encoded data removed]",
      "text/plain": [
       "<Figure size 432x288 with 1 Axes>"
      ]
     },
     "metadata": {
      "needs_background": "light",
      "tags": []
     },
     "output_type": "display_data"
    },
    {
     "data": {
      "image/png": "[encoded data removed]",
      "text/plain": [
       "<Figure size 432x288 with 1 Axes>"
      ]
     },
     "metadata": {
      "needs_background": "light",
      "tags": []
     },
     "output_type": "display_data"
    },
    {
     "data": {
      "image/png": "[encoded data removed]",
      "text/plain": [
       "<Figure size 432x288 with 1 Axes>"
      ]
     },
     "metadata": {
      "needs_background": "light",
      "tags": []
     },
     "output_type": "display_data"
    }
   ],
   "source": [
    "plot_metric('auc', 'val_auc', 'auc')\n",
    "plot_metric('loss', 'val_loss', 'loss')\n",
    "plot_metric('accuracy', 'val_accuracy', 'accuracy')"
   ]
  },
  {
   "cell_type": "code",
   "execution_count": 19,
   "metadata": {
    "colab": {
     "base_uri": "https://localhost:8080/",
     "height": 34
    },
    "colab_type": "code",
    "id": "NjL-SsIv-K5O",
    "outputId": "f2646c60-407a-489e-e4a7-c5db14d3d206"
   },
   "outputs": [
    {
     "data": {
      "text/plain": [
       "0.6726087331771851"
      ]
     },
     "execution_count": 19,
     "metadata": {
      "tags": []
     },
     "output_type": "execute_result"
    }
   ],
   "source": [
    "max(history.history['val_auc']) #200 - 0.6404 //300 - 0.578 // 100 - 0.6441"
   ]
  },
  {
   "cell_type": "code",
   "execution_count": 20,
   "metadata": {
    "colab": {},
    "colab_type": "code",
    "id": "bE6q1VFf-ME7"
   },
   "outputs": [],
   "source": [
    "model_name = 'model_hateful_memes_v{}.h5'.format(params['version'])\n",
    "model.save(model_name)\n",
    "bucket = client.bucket('jh_hateful_memes')\n",
    "blob = bucket.blob(model_name)\n",
    "blob.upload_from_filename(model_name)#fix this"
   ]
  },
  {
   "cell_type": "code",
   "execution_count": 21,
   "metadata": {
    "colab": {
     "base_uri": "https://localhost:8080/",
     "height": 54
    },
    "colab_type": "code",
    "id": "Dh9c21R6lEZc",
    "outputId": "40fe2e27-fc95-4fd4-f745-c7de0bbcd258"
   },
   "outputs": [
    {
     "name": "stderr",
     "output_type": "stream",
     "text": [
      "WARNING:google.auth._default:No project ID could be determined. Consider running `gcloud config set project` or setting the GOOGLE_CLOUD_PROJECT environment variable\n"
     ]
    }
   ],
   "source": [
    "#make into a fn\n",
    "bucket = 'jh_hateful_memes_test'\n",
    "client = storage.Client(project='hateful-memes', credentials=credentials)\n",
    "objects = client.list_blobs(bucket, prefix='hatefulmemes_')\n",
    "tfrecords = []\n",
    "for object_ in objects:\n",
    "    path = str(object_).split(', ')[1]\n",
    "    gs_path = os.path.join('gs://', bucket, path)\n",
    "    tfrecords.append(gs_path) #gs_path"
   ]
  },
  {
   "cell_type": "code",
   "execution_count": 21,
   "metadata": {
    "colab": {},
    "colab_type": "code",
    "id": "jU-hPa_8lMNP"
   },
   "outputs": [],
   "source": [
    ""
   ]
  },
  {
   "cell_type": "code",
   "execution_count": 22,
   "metadata": {
    "colab": {},
    "colab_type": "code",
    "id": "bcVbjWe8i-Kr"
   },
   "outputs": [],
   "source": [
    "test_ds, test_steps = create_ds(tfrecords, params, train=False)"
   ]
  },
  {
   "cell_type": "code",
   "execution_count": 23,
   "metadata": {
    "colab": {},
    "colab_type": "code",
    "id": "or7-zGBVlppw"
   },
   "outputs": [],
   "source": [
    "for x_test, ids in test_ds:\n",
    "    predictions = model.predict(x_test, steps=10)\n",
    "    prediction_ids = ids"
   ]
  },
  {
   "cell_type": "code",
   "execution_count": 24,
   "metadata": {
    "colab": {},
    "colab_type": "code",
    "id": "ABcoxiAH_le8"
   },
   "outputs": [],
   "source": [
    "prediction_dict = {\n",
    "    'id': prediction_ids,\n",
    "    'proba': np.concatenate(predictions),\n",
    "    'label': np.ones(1000, int)\n",
    "}\n",
    "submission_ds = pd.DataFrame(prediction_dict)\n",
    "\n"
   ]
  },
  {
   "cell_type": "code",
   "execution_count": 25,
   "metadata": {
    "colab": {},
    "colab_type": "code",
    "id": "UC0AiCcELFFD"
   },
   "outputs": [],
   "source": [
    "submission_ds.to_csv('submission.csv', index=False)"
   ]
  },
  {
   "cell_type": "code",
   "execution_count": null,
   "metadata": {
    "colab": {},
    "colab_type": "code",
    "id": "53YgTqFlAWm8"
   },
   "outputs": [],
   "source": [
    ""
   ]
  }
 ],
 "metadata": {
  "accelerator": "TPU",
  "colab": {
   "collapsed_sections": [],
   "name": "two_input_model.ipynb",
   "provenance": []
  },
  "kernelspec": {
   "display_name": "Python 3",
   "language": "python",
   "name": "python3"
  },
  "language_info": {
   "codemirror_mode": {
    "name": "ipython",
    "version": 3
   },
   "file_extension": ".py",
   "mimetype": "text/x-python",
   "name": "python",
   "nbconvert_exporter": "python",
   "pygments_lexer": "ipython3",
   "version": "3.7.3"
  }
 },
 "nbformat": 4,
 "nbformat_minor": 0
}
