{
 "cells": [
  {
   "cell_type": "code",
   "execution_count": 1,
   "metadata": {
    "colab": {
     "base_uri": "https://localhost:8080/",
     "height": 34
    },
    "colab_type": "code",
    "id": "e4BdgGfH718Y",
    "outputId": "8e295e2a-35df-41af-cb28-18ce2481a37f"
   },
   "outputs": [
    {
     "name": "stdout",
     "output_type": "stream",
     "text": [
      "2.3.0\n"
     ]
    }
   ],
   "source": [
    "#set random seeds\n",
    "from numpy.random import seed\n",
    "seed(1)\n",
    "from tensorflow.random import set_seed\n",
    "set_seed(1)\n",
    "\n",
    "import pandas as pd\n",
    "import numpy as np\n",
    "\n",
    "#machine learning\n",
    "import tensorflow as tf\n",
    "print(tf.__version__)\n",
    "from tensorflow.keras import layers \n",
    "from tensorflow import keras\n",
    "from sklearn.model_selection import train_test_split\n",
    "\n",
    "#accessing files\n",
    "from google.cloud import storage\n",
    "import os\n",
    "\n",
    "#display charts/images\n",
    "import matplotlib.pyplot as plt\n",
    "\n",
    "#don't need\n",
    "from tensorflow.python.keras.preprocessing import sequence\n",
    "# from tensorflow.python.keras.preprocessing import text\n",
    "import tensorflow_hub as hub\n",
    "\n",
    "\n"
   ]
  },
  {
   "cell_type": "code",
   "execution_count": 2,
   "metadata": {
    "colab": {},
    "colab_type": "code",
    "id": "9__sYCZ7718e"
   },
   "outputs": [],
   "source": [
    "params = {\n",
    "    'image_size': [256, 256],\n",
    "    'text_input': (58,),\n",
    "    'batch_size': 512,\n",
    "    'vocab_size': 30000,\n",
    "    'examples_per_file': 850, #will not change\n",
    "    'test_examples_per_file': 500,\n",
    "    'version': 9, #model version number\n",
    "    #get this from the model zoo:\n",
    "    #https://github.com/tensorflow/models/blob/master/research/object_detection/g3doc/tf2_detection_zoo.md\n",
    "    'object_detection_url': 'http://download.tensorflow.org/models/object_detection/ssd_mobilenet_v1_coco_2017_11_17.tar.gz',\n",
    "    'object_det_thres' : 0.4,\n",
    "    'object_det_len': 15,\n",
    "\n",
    "}\n",
    "\n",
    "\n"
   ]
  },
  {
   "cell_type": "code",
   "execution_count": 3,
   "metadata": {
    "colab": {},
    "colab_type": "code",
    "id": "g3ZOLb6A718k"
   },
   "outputs": [],
   "source": [
    "try:\n",
    "    from google.colab import auth\n",
    "    auth.authenticate_user()\n",
    "    credentials=None\n",
    "\n",
    "except ModuleNotFoundError:\n",
    "\n",
    "\n",
    "    from google.oauth2 import service_account\n",
    "\n",
    "    credentials = service_account.Credentials.from_service_account_file( #file location of GCS private key\n",
    "        '/Users/jeremiahherberg/Downloads/hateful-memes-af65c70c1b79.json')\n",
    "\n",
    "client = storage.Client(project='hateful-memes', credentials=credentials)"
   ]
  },
  {
   "cell_type": "code",
   "execution_count": 4,
   "metadata": {
    "colab": {},
    "colab_type": "code",
    "id": "3cjmD1w-718p"
   },
   "outputs": [],
   "source": [
    "num_examples_per_tfrecordfile = params['examples_per_file'] # 850 #this will not change"
   ]
  },
  {
   "cell_type": "code",
   "execution_count": 5,
   "metadata": {
    "colab": {},
    "colab_type": "code",
    "id": "BMUqKpKY718s"
   },
   "outputs": [],
   "source": [
    "bucket = 'jh_hateful_memes'\n",
    "client = storage.Client(project='hateful-memes', credentials=credentials)\n",
    "objects = client.list_blobs(bucket, prefix='hatefulmemes_')\n",
    "tfrecords = []\n",
    "for object_ in objects:\n",
    "    path = str(object_).split(', ')[1]\n",
    "    gs_path = os.path.join('gs://', bucket, path)\n",
    "    tfrecords.append(gs_path) #gs_path"
   ]
  },
  {
   "cell_type": "code",
   "execution_count": 6,
   "metadata": {
    "colab": {},
    "colab_type": "code",
    "id": "CogGhHQB718u"
   },
   "outputs": [],
   "source": [
    "# tfrecords"
   ]
  },
  {
   "cell_type": "code",
   "execution_count": 7,
   "metadata": {
    "colab": {
     "base_uri": "https://localhost:8080/",
     "height": 768
    },
    "colab_type": "code",
    "id": "VdrBIeYx718x",
    "outputId": "25344eed-c918-4bca-b878-422ff701b143"
   },
   "outputs": [
    {
     "name": "stdout",
     "output_type": "stream",
     "text": [
      "Running on TPU  grpc://10.126.185.98:8470\n",
      "INFO:tensorflow:Initializing the TPU system: grpc://10.126.185.98:8470\n"
     ]
    },
    {
     "name": "stderr",
     "output_type": "stream",
     "text": [
      "INFO:tensorflow:Initializing the TPU system: grpc://10.126.185.98:8470\n"
     ]
    },
    {
     "name": "stdout",
     "output_type": "stream",
     "text": [
      "INFO:tensorflow:Clearing out eager caches\n"
     ]
    },
    {
     "name": "stderr",
     "output_type": "stream",
     "text": [
      "INFO:tensorflow:Clearing out eager caches\n"
     ]
    },
    {
     "name": "stdout",
     "output_type": "stream",
     "text": [
      "INFO:tensorflow:Finished initializing TPU system.\n"
     ]
    },
    {
     "name": "stderr",
     "output_type": "stream",
     "text": [
      "INFO:tensorflow:Finished initializing TPU system.\n",
      "WARNING:absl:`tf.distribute.experimental.TPUStrategy` is deprecated, please use  the non experimental symbol `tf.distribute.TPUStrategy` instead.\n"
     ]
    },
    {
     "name": "stdout",
     "output_type": "stream",
     "text": [
      "INFO:tensorflow:Found TPU system:\n"
     ]
    },
    {
     "name": "stderr",
     "output_type": "stream",
     "text": [
      "INFO:tensorflow:Found TPU system:\n"
     ]
    },
    {
     "name": "stdout",
     "output_type": "stream",
     "text": [
      "INFO:tensorflow:*** Num TPU Cores: 8\n"
     ]
    },
    {
     "name": "stderr",
     "output_type": "stream",
     "text": [
      "INFO:tensorflow:*** Num TPU Cores: 8\n"
     ]
    },
    {
     "name": "stdout",
     "output_type": "stream",
     "text": [
      "INFO:tensorflow:*** Num TPU Workers: 1\n"
     ]
    },
    {
     "name": "stderr",
     "output_type": "stream",
     "text": [
      "INFO:tensorflow:*** Num TPU Workers: 1\n"
     ]
    },
    {
     "name": "stdout",
     "output_type": "stream",
     "text": [
      "INFO:tensorflow:*** Num TPU Cores Per Worker: 8\n"
     ]
    },
    {
     "name": "stderr",
     "output_type": "stream",
     "text": [
      "INFO:tensorflow:*** Num TPU Cores Per Worker: 8\n"
     ]
    },
    {
     "name": "stdout",
     "output_type": "stream",
     "text": [
      "INFO:tensorflow:*** Available Device: _DeviceAttributes(/job:localhost/replica:0/task:0/device:CPU:0, CPU, 0, 0)\n"
     ]
    },
    {
     "name": "stderr",
     "output_type": "stream",
     "text": [
      "INFO:tensorflow:*** Available Device: _DeviceAttributes(/job:localhost/replica:0/task:0/device:CPU:0, CPU, 0, 0)\n"
     ]
    },
    {
     "name": "stdout",
     "output_type": "stream",
     "text": [
      "INFO:tensorflow:*** Available Device: _DeviceAttributes(/job:localhost/replica:0/task:0/device:XLA_CPU:0, XLA_CPU, 0, 0)\n"
     ]
    },
    {
     "name": "stderr",
     "output_type": "stream",
     "text": [
      "INFO:tensorflow:*** Available Device: _DeviceAttributes(/job:localhost/replica:0/task:0/device:XLA_CPU:0, XLA_CPU, 0, 0)\n"
     ]
    },
    {
     "name": "stdout",
     "output_type": "stream",
     "text": [
      "INFO:tensorflow:*** Available Device: _DeviceAttributes(/job:worker/replica:0/task:0/device:CPU:0, CPU, 0, 0)\n"
     ]
    },
    {
     "name": "stderr",
     "output_type": "stream",
     "text": [
      "INFO:tensorflow:*** Available Device: _DeviceAttributes(/job:worker/replica:0/task:0/device:CPU:0, CPU, 0, 0)\n"
     ]
    },
    {
     "name": "stdout",
     "output_type": "stream",
     "text": [
      "INFO:tensorflow:*** Available Device: _DeviceAttributes(/job:worker/replica:0/task:0/device:TPU:0, TPU, 0, 0)\n"
     ]
    },
    {
     "name": "stderr",
     "output_type": "stream",
     "text": [
      "INFO:tensorflow:*** Available Device: _DeviceAttributes(/job:worker/replica:0/task:0/device:TPU:0, TPU, 0, 0)\n"
     ]
    },
    {
     "name": "stdout",
     "output_type": "stream",
     "text": [
      "INFO:tensorflow:*** Available Device: _DeviceAttributes(/job:worker/replica:0/task:0/device:TPU:1, TPU, 0, 0)\n"
     ]
    },
    {
     "name": "stderr",
     "output_type": "stream",
     "text": [
      "INFO:tensorflow:*** Available Device: _DeviceAttributes(/job:worker/replica:0/task:0/device:TPU:1, TPU, 0, 0)\n"
     ]
    },
    {
     "name": "stdout",
     "output_type": "stream",
     "text": [
      "INFO:tensorflow:*** Available Device: _DeviceAttributes(/job:worker/replica:0/task:0/device:TPU:2, TPU, 0, 0)\n"
     ]
    },
    {
     "name": "stderr",
     "output_type": "stream",
     "text": [
      "INFO:tensorflow:*** Available Device: _DeviceAttributes(/job:worker/replica:0/task:0/device:TPU:2, TPU, 0, 0)\n"
     ]
    },
    {
     "name": "stdout",
     "output_type": "stream",
     "text": [
      "INFO:tensorflow:*** Available Device: _DeviceAttributes(/job:worker/replica:0/task:0/device:TPU:3, TPU, 0, 0)\n"
     ]
    },
    {
     "name": "stderr",
     "output_type": "stream",
     "text": [
      "INFO:tensorflow:*** Available Device: _DeviceAttributes(/job:worker/replica:0/task:0/device:TPU:3, TPU, 0, 0)\n"
     ]
    },
    {
     "name": "stdout",
     "output_type": "stream",
     "text": [
      "INFO:tensorflow:*** Available Device: _DeviceAttributes(/job:worker/replica:0/task:0/device:TPU:4, TPU, 0, 0)\n"
     ]
    },
    {
     "name": "stderr",
     "output_type": "stream",
     "text": [
      "INFO:tensorflow:*** Available Device: _DeviceAttributes(/job:worker/replica:0/task:0/device:TPU:4, TPU, 0, 0)\n"
     ]
    },
    {
     "name": "stdout",
     "output_type": "stream",
     "text": [
      "INFO:tensorflow:*** Available Device: _DeviceAttributes(/job:worker/replica:0/task:0/device:TPU:5, TPU, 0, 0)\n"
     ]
    },
    {
     "name": "stderr",
     "output_type": "stream",
     "text": [
      "INFO:tensorflow:*** Available Device: _DeviceAttributes(/job:worker/replica:0/task:0/device:TPU:5, TPU, 0, 0)\n"
     ]
    },
    {
     "name": "stdout",
     "output_type": "stream",
     "text": [
      "INFO:tensorflow:*** Available Device: _DeviceAttributes(/job:worker/replica:0/task:0/device:TPU:6, TPU, 0, 0)\n"
     ]
    },
    {
     "name": "stderr",
     "output_type": "stream",
     "text": [
      "INFO:tensorflow:*** Available Device: _DeviceAttributes(/job:worker/replica:0/task:0/device:TPU:6, TPU, 0, 0)\n"
     ]
    },
    {
     "name": "stdout",
     "output_type": "stream",
     "text": [
      "INFO:tensorflow:*** Available Device: _DeviceAttributes(/job:worker/replica:0/task:0/device:TPU:7, TPU, 0, 0)\n"
     ]
    },
    {
     "name": "stderr",
     "output_type": "stream",
     "text": [
      "INFO:tensorflow:*** Available Device: _DeviceAttributes(/job:worker/replica:0/task:0/device:TPU:7, TPU, 0, 0)\n"
     ]
    },
    {
     "name": "stdout",
     "output_type": "stream",
     "text": [
      "INFO:tensorflow:*** Available Device: _DeviceAttributes(/job:worker/replica:0/task:0/device:TPU_SYSTEM:0, TPU_SYSTEM, 0, 0)\n"
     ]
    },
    {
     "name": "stderr",
     "output_type": "stream",
     "text": [
      "INFO:tensorflow:*** Available Device: _DeviceAttributes(/job:worker/replica:0/task:0/device:TPU_SYSTEM:0, TPU_SYSTEM, 0, 0)\n"
     ]
    },
    {
     "name": "stdout",
     "output_type": "stream",
     "text": [
      "INFO:tensorflow:*** Available Device: _DeviceAttributes(/job:worker/replica:0/task:0/device:XLA_CPU:0, XLA_CPU, 0, 0)\n"
     ]
    },
    {
     "name": "stderr",
     "output_type": "stream",
     "text": [
      "INFO:tensorflow:*** Available Device: _DeviceAttributes(/job:worker/replica:0/task:0/device:XLA_CPU:0, XLA_CPU, 0, 0)\n"
     ]
    },
    {
     "name": "stdout",
     "output_type": "stream",
     "text": [
      "REPLICAS:  8\n"
     ]
    }
   ],
   "source": [
    "try:\n",
    "    # TPU detection. No parameters necessary if TPU_NAME environment variable is\n",
    "    # set: this is always the case on Kaggle.\n",
    "    tpu = tf.distribute.cluster_resolver.TPUClusterResolver()\n",
    "    print('Running on TPU ', tpu.master())\n",
    "except ValueError:\n",
    "    tpu = None\n",
    "\n",
    "if tpu:\n",
    "    tf.config.experimental_connect_to_cluster(tpu)\n",
    "    tf.tpu.experimental.initialize_tpu_system(tpu)\n",
    "    strategy = tf.distribute.experimental.TPUStrategy(tpu)\n",
    "else:\n",
    "    # Default distribution strategy in Tensorflow. Works on CPU and single GPU.\n",
    "    strategy = tf.distribute.get_strategy()\n",
    "\n",
    "print(\"REPLICAS: \", strategy.num_replicas_in_sync)"
   ]
  },
  {
   "cell_type": "code",
   "execution_count": 8,
   "metadata": {
    "colab": {},
    "colab_type": "code",
    "id": "rm40cYA_718y"
   },
   "outputs": [],
   "source": [
    "def decode_example_train(example):\n",
    "    '''\n",
    "    decodes single tfexample from TFrecord file\n",
    "    '''\n",
    "    features = {'label': tf.io.FixedLenFeature([], tf.int64),\n",
    "                'text': tf.io.FixedLenFeature([], tf.string),\n",
    "                'text_lemma': tf.io.FixedLenFeature([], tf.string),\n",
    "                'text_lemma_no_stopwords': tf.io.FixedLenFeature([], tf.string),\n",
    "                'text_no_stopwords':tf.io.FixedLenFeature([], tf.string),\n",
    "                'image': tf.io.FixedLenFeature([], tf.string)}\n",
    "    single_example = tf.io.parse_single_example(example, features)\n",
    "    \n",
    "    text = tf.io.parse_tensor(single_example['text'], out_type=tf.int32)\n",
    "    textL = tf.io.parse_tensor(single_example['text_lemma'], out_type=tf.int32)\n",
    "    # text = tf.cast(text, tf.float32) \n",
    "    image = tf.io.decode_jpeg(single_example['image'], 3)\n",
    "    image = tf.image.resize_with_pad(image, *params['image_size'])\n",
    "    image = image / 255.0\n",
    "    label = single_example['label']\n",
    "    # label = tf.cast(label, tf.float32)\n",
    "    return text, textL, image, label\n",
    "\n",
    "def decode_example_test(example):\n",
    "    '''\n",
    "    decodes single tfexample from TFrecord file\n",
    "    '''\n",
    "    features = {'id': tf.io.FixedLenFeature([], tf.int64),\n",
    "                'text': tf.io.FixedLenFeature([], tf.string),\n",
    "                'text_lemma': tf.io.FixedLenFeature([], tf.string),\n",
    "                'text_lemma_no_stopwords': tf.io.FixedLenFeature([], tf.string),\n",
    "                'text_no_stopwords':tf.io.FixedLenFeature([], tf.string),\n",
    "                'image': tf.io.FixedLenFeature([], tf.string)}\n",
    "    single_example = tf.io.parse_single_example(example, features)\n",
    "    \n",
    "    text = tf.io.parse_tensor(single_example['text'], out_type=tf.int32)\n",
    "    textL = tf.io.parse_tensor(single_example['text_lemma'], out_type=tf.int32)\n",
    "    # text = tf.cast(text, tf.float32) \n",
    "    image = tf.io.decode_jpeg(single_example['image'], 3)\n",
    "    image = tf.image.resize_with_pad(image, *params['image_size'])\n",
    "    image = image / 255.0\n",
    "    label = single_example['id']\n",
    "    # label = tf.cast(label, tf.float32)\n",
    "    return text, textL, image, label\n",
    "\n",
    "def flip_image(text, textL, image, label): \n",
    "    '''\n",
    "    randombly flips image input\n",
    "    \n",
    "    args:\n",
    "        text: text output in ds\n",
    "        image: image output in ds\n",
    "        label: label output in ds (can also be id)\n",
    "    returns:\n",
    "        text, image, label\n",
    "        args will be otherwise unchanged\n",
    "    '''\n",
    "    \n",
    "    image = tf.image.random_flip_left_right(image)\n",
    "\n",
    "    return text, textL, image, label\n",
    "\n",
    "\n",
    "def convert_xy(text, textL, image, label): #needs to be called last\n",
    "    '''\n",
    "    transforms ds output from text, image, label -> (text, image), label\n",
    "    \n",
    "    args:\n",
    "        text: text output in ds\n",
    "        image: image output in ds\n",
    "        label: label output in ds (can also be id)\n",
    "    returns:\n",
    "        (text, image), label\n",
    "        args will be otherwise unchanged\n",
    "    '''\n",
    "    return (text, textL, image), label\n",
    "    \n",
    "    "
   ]
  },
  {
   "cell_type": "code",
   "execution_count": 9,
   "metadata": {
    "colab": {},
    "colab_type": "code",
    "id": "PZ0dHSjt7180"
   },
   "outputs": [],
   "source": [
    "def create_ds(files, params, train=True, test_examples=1000):\n",
    "    '''\n",
    "    function to create dataset for training/validation\n",
    "    \n",
    "    args:\n",
    "        files: list of str, filepaths of TFrecord files to be used in DS\n",
    "        params: dict with the following keys:\n",
    "            batch_size: int, batch size of training/validation step\n",
    "            examples_per_file: int, number of examples in each TFrecord file\n",
    "        train, bool, default True, indicator if the DS is for training\n",
    "        test_examples, int: default 1000 number of examples in test dataset\n",
    "    returns:\n",
    "        ds: tensorflow input pipeline with images, text and labels\n",
    "            output of ds is: (text, image), label\n",
    "        ds_batches: int, number of steps in each epoch based on the batch_size\n",
    "    '''\n",
    "    file_size = params['examples_per_file'] \n",
    "    batch_size = file_size * len(files)\n",
    "\n",
    "    ds = tf.data.TFRecordDataset(filenames = files)\n",
    "    if train:\n",
    "        ds = ds.map(decode_example_train, \n",
    "                    num_parallel_calls=tf.data.experimental.AUTOTUNE)\n",
    "        ds = ds.map(flip_image, num_parallel_calls=tf.data.experimental.AUTOTUNE)\n",
    "    else:\n",
    "        ds = ds.map(decode_example_test)\n",
    "    ds = ds.map(convert_xy, num_parallel_calls=tf.data.experimental.AUTOTUNE)\n",
    "    if train:\n",
    "        ds = ds.batch(batch_size, drop_remainder=True)\n",
    "    else:\n",
    "        ds = ds.batch(test_examples)\n",
    "    ds = ds.cache() \n",
    "    \n",
    "    ds_batches = 10 #(len(files) * file_size) // batch_size\n",
    "    return ds, ds_batches\n",
    "    \n",
    "    "
   ]
  },
  {
   "cell_type": "code",
   "execution_count": 10,
   "metadata": {
    "colab": {},
    "colab_type": "code",
    "id": "EMCXQxNEMMx0"
   },
   "outputs": [],
   "source": [
    "def get_object_detection_model(params):\n",
    "    '''\n",
    "    downloads pretained object detection model from tf zoo \n",
    "    and creates model instance\n",
    "    \n",
    "    args:\n",
    "        params: dict with the following keys:\n",
    "            object_detection_url: str, url of model in model zoo:\n",
    "    (https://github.com/tensorflow/models/blob/master/research/object_detection/g3doc/tf2_detection_zoo.md)\n",
    "    \n",
    "    returns:\n",
    "        pretrained object detection model\n",
    "    '''\n",
    "    url = params['object_detection_url']\n",
    "    model_name = url.split('.tar.')[0].split('/')[-1]\n",
    "    local_model_location = tf.keras.utils.get_file(fname=model_name,\n",
    "                                                  origin=url,\n",
    "                                                  untar=True)\n",
    "    model_path = os.path.join(local_model_location, 'saved_model')\n",
    "    model = hub.load(model_path)\n",
    "    model = model.signatures['serving_default']\n",
    "    return model\n",
    "\n",
    "def decode_single_object_detection(predictions, idx, threshold, max_objects):\n",
    "    '''\n",
    "    decodes a single prediction of all object classes in the prediction\n",
    "    \n",
    "    args:\n",
    "        predictions: dictionary, prediction dictionary\n",
    "            must have following keys:\n",
    "            detection_classes: tensor of detection classes\n",
    "            detection_scores: tensor of confidence of each detected object\n",
    "        idx: int, the index of the predictions dictionary that is being decoded\n",
    "        threshold: float, between 0 - 1, minimum confidence of detected objects\n",
    "            to be included in list of objects detected\n",
    "        max_objects: int, maximum number of objects to be included in prediction\n",
    "            if there are less predicted objects above threshold, returned list will\n",
    "            be zero padded\n",
    "            \n",
    "    returns:\n",
    "        array of classes of objects being predicted\n",
    "    '''\n",
    "    classes = predictions['detection_classes'][idx]\n",
    "    confidences = predictions['detection_scores'][idx]\n",
    "    predicted_classes = []\n",
    "    for indx in range(len(confidences)):\n",
    "        if confidences[indx] < threshold:\n",
    "            break\n",
    "        predicted_classes.append(int(classes[indx].numpy()))\n",
    "    return sequence.pad_sequences([predicted_classes], maxlen=max_objects)[0].tolist()\n",
    "\n",
    "\n",
    "\n",
    "def make_object_detectionDS(params, images, model):\n",
    "    '''\n",
    "    converts a batch of images to a batch of predicted classes of objects\n",
    "    \n",
    "    args:\n",
    "        params: dictionary with following keys:\n",
    "            object_det_thres: float, minimum confidence of detected objects\n",
    "            to be included in list of objects detected, must be between 0 - 1\n",
    "            object_det_len: int, maximum number of objects to be included in \n",
    "            prediction if there are less predicted objects above threshold, \n",
    "            returned tensor will be zero padded\n",
    "        images tensor, batch of images to get predicted classes of objects\n",
    "            for\n",
    "        model: pre-trained object detection model\n",
    "    \n",
    "    returns: tensor shapped [bs, params['object_det_len']], output of model\n",
    "        of predicted classes each image contains, zero-padded so that each\n",
    "        image prediction has a len of params['object_det_len'], and predictions\n",
    "        under params['object_det_thres'] are filtered out\n",
    "    '''\n",
    "    thres = params['object_det_thres']\n",
    "    maxlen = params['object_det_len']\n",
    "    model_output = model(images)\n",
    "    predictions = []\n",
    "    for idx in range(len(images)):\n",
    "        single_image_output = decode_single_object_detection(model_output, idx,\n",
    "                                                            thres, maxlen)\n",
    "        predictions.append(single_image_output)\n",
    "    predictions = tf.convert_to_tensor(predictions)\n",
    "    return predictions\n",
    "\n",
    "def transform_normalized_uint8(data):\n",
    "    '''\n",
    "    transforms a tensor normalized (0 - 1) to dtype uint8\n",
    "    \n",
    "    args:\n",
    "        data: tensor, data to be transformed\n",
    "        \n",
    "    returns:\n",
    "        tensor of data in dtype of unit8 and no longer normalized\n",
    "    '''\n",
    "    data *= 255\n",
    "    data = tf.cast(data, tf.uint8)\n",
    "    return data\n",
    "    "
   ]
  },
  {
   "cell_type": "code",
   "execution_count": 11,
   "metadata": {
    "colab": {},
    "colab_type": "code",
    "id": "V6RbH_oRmjUU"
   },
   "outputs": [],
   "source": [
    "def pair_separableConv1D(x, \n",
    "                         filters, kernal_size, act, first_reg, sec_reg,\n",
    "                        maxpooling_poolsize):\n",
    "    '''\n",
    "    function to add the following layers to a Keras Functional model:\n",
    "        layers.SeparableConv1D\n",
    "        layers.SeparableConv1D\n",
    "        layers.MaxPooling1D\n",
    "    \n",
    "    args:\n",
    "        x: keras input layer, or series of layers that can be traced to input layer\n",
    "        kernal_size: int, kernal size for SeparableConv1D layers\n",
    "        act: str, activation for SeparableConv1D layers\n",
    "        first_reg, keras regularizer to pass into 1st conv layer\n",
    "        sec_reg, keras regularizer to pass into 2nd conv layer\n",
    "        maxpooling_poolsize: int, poolsize for maxpooling layer\n",
    "    \n",
    "    returns:\n",
    "        x: x that was input into fn with above layers added\n",
    "    '''\n",
    "    x = layers.SeparableConv1D(filters=filters, kernel_size=kernal_size, \n",
    "                              activation=act, padding='same',\n",
    "                              kernel_regularizer=first_reg)(x)\n",
    "    x = layers.SeparableConv1D(filters=filters, kernel_size=kernal_size, \n",
    "                              activation=act, padding='same',\n",
    "                              kernel_regularizer=sec_reg)(x)\n",
    "    x = layers.MaxPooling1D(pool_size=maxpooling_poolsize, padding='same')(x)\n",
    "    x = layers.BatchNormalization()(x)\n",
    "    return x"
   ]
  },
  {
   "cell_type": "code",
   "execution_count": 12,
   "metadata": {
    "colab": {},
    "colab_type": "code",
    "id": "Z7nJDhlumjUX"
   },
   "outputs": [],
   "source": [
    "def conv2dset(x, \n",
    "              conv_filter, kernel, regularizer=None, \n",
    "              maxpooling_poolsize=2, \n",
    "              conv_act=None, \n",
    "              dense_units=None, dense_act=None):\n",
    "    '''\n",
    "    function to add the following layers to a Keras Functional model:\n",
    "        layers.Conv2D\n",
    "        MaxPooling2D\n",
    "        Batchnormalization\n",
    "        (activation layer)\n",
    "        layers.Dense (if applicable)\n",
    "    \n",
    "    args:\n",
    "        x: keras input layer, or series of layers that can be traced to input layer\n",
    "        conv_filter: int, number of filters in Conv2D layer\n",
    "        kernel: int, kernel size in Conv2D layer\n",
    "        regularizer: keras.regularizers object, default: None, regularizer in \n",
    "            Conv2D layer\n",
    "        maxpooling_poolsize: int, default 2, poolsize for maxpooling layer\n",
    "        conv_act: keras layer (without the \"()\"), default None, activation\n",
    "            layer that will go after the batchnormalization layer\n",
    "        dense_units: int, default None, number of units in dense layer\n",
    "            if None, there will be no dense layer\n",
    "        dense_act: str, default None, activation in dense layer\n",
    "    \n",
    "    returns:\n",
    "        x: x that was input into fn with above layers added\n",
    "        \n",
    "    '''\n",
    "    x = layers.Conv2D(filters=conv_filter, kernel_size=kernel, padding='same', \n",
    "                      kernel_regularizer=regularizer)(x)\n",
    "    if maxpooling_poolsize:\n",
    "        x = layers.MaxPooling2D(maxpooling_poolsize)(x)\n",
    "    # x = layers.BatchNormalization()(x)\n",
    "    if conv_act:\n",
    "        x = conv_act()(x)\n",
    "    if dense_units:\n",
    "        x = layers.Dense(dense_units, activation=dense_act)(x)\n",
    "    \n",
    "    return x\n",
    "\n",
    "def convblock(x, conv_fn, filters, regularizer, conv_act, kernal=5):\n",
    "    '''\n",
    "    makes a block of convolution layers\n",
    "    \n",
    "    todo -- work on documentation \n",
    "    '''\n",
    "    count = 0\n",
    "    for _ in range(2):\n",
    "        for filter_ in filters:\n",
    "            count +=1\n",
    "            if count == 2:\n",
    "                x1 = conv_fn(x, filter_, kernal, regularizer, 2, conv_act,)\n",
    "                x = x1\n",
    "            else:\n",
    "                x = conv_fn(x, filter_, kernal, regularizer, None, conv_act)\n",
    "    x = layers.Add()([x, x1])\n",
    "    return x\n",
    "\n"
   ]
  },
  {
   "cell_type": "code",
   "execution_count": 13,
   "metadata": {
    "colab": {},
    "colab_type": "code",
    "id": "aHOtR_XA7182"
   },
   "outputs": [],
   "source": [
    "def create_model(params=params,\n",
    "                dense_nodes=100,\n",
    "                ltsm_units=128,\n",
    "                ltsm_dense_units=64):\n",
    "    '''\n",
    "    creates model with two inputs and out output\n",
    "\n",
    "        \n",
    "    '''\n",
    "    #set some fixed variables\n",
    "    text_input_shape = params['text_input']\n",
    "    vocab_size = params['vocab_size']\n",
    "    image_size = params['image_size']\n",
    "    object_maxlen = params['object_det_len']\n",
    "    num_object_classes = 81\n",
    "\n",
    "    relu = layers.ReLU\n",
    "    leaky = layers.LeakyReLU\n",
    "    reg = keras.regularizers.l2(0.001,)\n",
    "    \n",
    "    #model inputs\n",
    "    input_text = layers.Input(text_input_shape, name='text_input')\n",
    "    embedding = layers.Embedding(input_dim=vocab_size, output_dim=64, \n",
    "                                 input_length=58, mask_zero=True)(input_text)\n",
    "    input_lemma = layers.Input(text_input_shape, name='test_lemma_input')\n",
    "    lemma_embedding = layers.Embedding(input_dim=vocab_size, output_dim=64,\n",
    "                                       input_length=58, mask_zero=True)(input_lemma)\n",
    "    input_image = layers.Input((*image_size, 3), name='image_input')\n",
    "    detected_objects = layers.Input((object_maxlen), name='detected_objects')\n",
    "    detection = layers.Embedding(input_dim=num_object_classes, output_dim=64,\n",
    "                                input_length=15, mask_zero=True)(detected_objects)\n",
    "    \n",
    "    #detected objects\n",
    "    x_detection = detection\n",
    "    x_detection = layers.LSTM(ltsm_units, return_sequences=True)(x_detection)\n",
    "    x_detection = layers.LSTM(ltsm_units * 2, return_sequences=True)(x_detection)\n",
    "    x_detection = layers.LSTM(ltsm_units * 4)(x_detection)\n",
    "    x_detection = layers.Dense(ltsm_dense_units, activation='relu')(x_detection)\n",
    "    x_detection = layers.Dense(dense_nodes, activation='sigmoid', name='detection_out')(x_detection)\n",
    "    \n",
    "    x_detection2 = detection\n",
    "    x_detection2 = pair_separableConv1D(x_detection2, 128, 2, 'relu', None, None, 1)\n",
    "    x_detection2 = pair_separableConv1D(x_detection2, 256, 2, 'relu', None, None, 2)\n",
    "    x_detection2 = pair_separableConv1D(x_detection2, 512, 2, 'relu', None, None, 1)\n",
    "    x_detection2 = layers.Flatten()(x_detection2)\n",
    "    x_detection2 = layers.Dense(dense_nodes, activation='sigmoid', name='2nd_detection_out')(x_detection2)\n",
    "    \n",
    "    x_detection = layers.Concatenate()([x_detection, x_detection2])\n",
    "    x_detection = layers.Dense(dense_nodes, activation='sigmoid', name='final_detection_out')(x_detection)\n",
    "\n",
    "\n",
    "    #bidirectional LSTM - original text\n",
    "    x_bidir = embedding\n",
    "    x_bidir = layers.Bidirectional(layers.LSTM(ltsm_units))(x_bidir)\n",
    "    x_bidir = layers.Dense(ltsm_dense_units, activation = 'relu')(x_bidir)\n",
    "    x_bidir_out = layers.Dense(dense_nodes, activation='sigmoid', name='bidirectional_out')(x_bidir)\n",
    "\n",
    "    #1D convolution - original text\n",
    "    x_text = embedding\n",
    "    x_text = pair_separableConv1D(x_text, 128, 4, 'relu', reg, None, 4)\n",
    "    x_text = pair_separableConv1D(x_text, 128, 4, 'relu', None, None, 4)\n",
    "    x_text = layers.Flatten()(x_text)\n",
    "    x_text = layers.Dense(dense_nodes, activation='tanh',kernel_regularizer=reg)(x_text)\n",
    "    output_layer_text = layers.Dense(dense_nodes, activation='sigmoid', name='text_output')(x_text)\n",
    "\n",
    "\n",
    "    #1D convolution - lemma\n",
    "    x_lemma = lemma_embedding\n",
    "    x_lemma = pair_separableConv1D(x_lemma, 128, 4, 'relu', reg, None, 4)\n",
    "    x_lemma = pair_separableConv1D(x_lemma, 128, 4, 'relu', None, None, 4)\n",
    "    x_lemma = layers.Flatten()(x_lemma)\n",
    "    # x_lemma = layers.Dense(dense_nodes, activation='tanh',kernel_regularizer=reg)(x_lemma)\n",
    "    output_layer_lemma = layers.Dense(dense_nodes, activation='sigmoid', name='text_output_lemma')(x_lemma)\n",
    "\n",
    "    #bidirectional LSTM - lemma\n",
    "    x_bidirL = lemma_embedding\n",
    "    x_bidirL = layers.Bidirectional(layers.LSTM(ltsm_units))(x_bidirL)\n",
    "    x_bidirL = layers.Dense(ltsm_dense_units, activation = 'relu')(x_bidirL)\n",
    "    x_bidir_outL = layers.Dense(dense_nodes, activation='sigmoid', name='bidirectional_out_lemma')(x_bidirL)\n",
    "\n",
    "\n",
    "    #images\n",
    "    x_img = input_image\n",
    "    x_img = conv2dset(x_img, 64, 7, reg, 2, relu, 16, 'relu')\n",
    "    x_img = conv2dset(x_img, 128, 7, reg, 2,  relu, 32, 'relu') #16, 'tanh'\n",
    "    x_img = conv2dset(x_img, 256, 7, reg, 2, relu, 64, 'relu')\n",
    "    x_img = layers.Flatten()(x_img)\n",
    "    # x_img = layers.Dense(dense_nodes, activation='tanh', kernel_regularizer=reg)(x_img) \n",
    "    output_layer_image = layers.Dense(dense_nodes, activation='softmax', name='image_out')(x_img)\n",
    "    \n",
    "    # x_img = input_image\n",
    "    # filters = 64\n",
    "    # for _ in range(4):\n",
    "    #     x_img = convblock(x_img, conv2dset, [filters, filters * 2], reg, leaky, 3)\n",
    "    #     filters *=2\n",
    "    \n",
    "    # x_img = convblock(x_img, conv2dset, [256, 512], reg, leaky, 5)\n",
    "    # img_out = conv2dset(x_img, dense_nodes, 5, reg, 1, leaky, dense_nodes, 'tanh')\n",
    "    # img_out = layers.Flatten()(img_out)\n",
    "    # output_layer_image = layers.Dense(dense_nodes, activation='softmax', name='image_out')(img_out)\n",
    "\n",
    "    \n",
    "    \n",
    "    text_outputs = layers.Concatenate()([x_bidir_out, output_layer_text, output_layer_lemma, x_bidir_outL])\n",
    "    text_outputs = layers.Dense(dense_nodes)(text_outputs)\n",
    "    \n",
    "    #only one output for images\n",
    "    detection_outputs = x_detection\n",
    "    image_outputs = output_layer_image \n",
    "    x = layers.Concatenate()([ text_outputs, detection_outputs, image_outputs]) # image_outputs\n",
    "    \n",
    "    x = layers.Reshape(( 3, dense_nodes))(x)\n",
    "    # x = layers.LSTM(64)(x)\n",
    "    x = layers.Dense(dense_nodes, )(x)\n",
    "    x = layers.Flatten()(x)\n",
    "    #consider adding an intrum dense layer here\n",
    "    final_output = layers.Dense(1, activation='sigmoid', name='final_out')(x)\n",
    "    \n",
    "    model = keras.Model([input_text, input_lemma,input_image, detected_objects], final_output) #input_image\n",
    "    metrics = [\n",
    "          keras.metrics.TruePositives(name='tp'),\n",
    "    #           keras.metrics.FalsePositives(name='fp'),\n",
    "    #           keras.metrics.TrueNegatives(name='tn'),\n",
    "          keras.metrics.FalseNegatives(name='fn'), \n",
    "          keras.metrics.BinaryAccuracy(name='accuracy'),\n",
    "    #           keras.metrics.Precision(name='precision'),\n",
    "    #           keras.metrics.Recall(name='recall'),\n",
    "          keras.metrics.AUC(name='auc'),\n",
    "    ]\n",
    "    schedule = tf.keras.optimizers.schedules.ExponentialDecay(0.0003, 10 *3, 0.75)\n",
    "    model.compile(\n",
    "    optimizer=tf.keras.optimizers.Adam(schedule),\n",
    "    loss = tf.keras.losses.BinaryCrossentropy(label_smoothing = 0.01),\n",
    "    metrics=metrics)\n",
    "    \n",
    "    return model\n",
    "    \n"
   ]
  },
  {
   "cell_type": "code",
   "execution_count": 14,
   "metadata": {
    "colab": {},
    "colab_type": "code",
    "id": "_tHu8tJA7184"
   },
   "outputs": [],
   "source": [
    "train_files, valid_files = train_test_split(tfrecords,\n",
    "                              test_size=.2, random_state=1)\n"
   ]
  },
  {
   "cell_type": "code",
   "execution_count": 15,
   "metadata": {
    "colab": {},
    "colab_type": "code",
    "id": "alJt8bQV7185"
   },
   "outputs": [],
   "source": [
    "train_ds, train_steps = create_ds(train_files, params)\n",
    "valid_ds, valid_steps = create_ds(valid_files, params)"
   ]
  },
  {
   "cell_type": "code",
   "execution_count": 16,
   "metadata": {
    "colab": {
     "base_uri": "https://localhost:8080/",
     "height": 1000
    },
    "colab_type": "code",
    "id": "S25BV5he7187",
    "outputId": "5eeedba6-7d9d-42f4-8361-361e564c269e"
   },
   "outputs": [
    {
     "name": "stdout",
     "output_type": "stream",
     "text": [
      "Model: \"functional_1\"\n",
      "__________________________________________________________________________________________________\n",
      "Layer (type)                    Output Shape         Param #     Connected to                     \n",
      "==================================================================================================\n",
      "detected_objects (InputLayer)   [(None, 15)]         0                                            \n",
      "__________________________________________________________________________________________________\n",
      "embedding_2 (Embedding)         (None, 15, 64)       5184        detected_objects[0][0]           \n",
      "__________________________________________________________________________________________________\n",
      "separable_conv1d (SeparableConv (None, 15, 128)      8448        embedding_2[0][0]                \n",
      "__________________________________________________________________________________________________\n",
      "text_input (InputLayer)         [(None, 58)]         0                                            \n",
      "__________________________________________________________________________________________________\n",
      "separable_conv1d_1 (SeparableCo (None, 15, 128)      16768       separable_conv1d[0][0]           \n",
      "__________________________________________________________________________________________________\n",
      "image_input (InputLayer)        [(None, 256, 256, 3) 0                                            \n",
      "__________________________________________________________________________________________________\n",
      "embedding (Embedding)           (None, 58, 64)       1920000     text_input[0][0]                 \n",
      "__________________________________________________________________________________________________\n",
      "test_lemma_input (InputLayer)   [(None, 58)]         0                                            \n",
      "__________________________________________________________________________________________________\n",
      "max_pooling1d (MaxPooling1D)    (None, 15, 128)      0           separable_conv1d_1[0][0]         \n",
      "__________________________________________________________________________________________________\n",
      "conv2d (Conv2D)                 (None, 256, 256, 64) 9472        image_input[0][0]                \n",
      "__________________________________________________________________________________________________\n",
      "separable_conv1d_6 (SeparableCo (None, 58, 128)      8576        embedding[0][0]                  \n",
      "__________________________________________________________________________________________________\n",
      "embedding_1 (Embedding)         (None, 58, 64)       1920000     test_lemma_input[0][0]           \n",
      "__________________________________________________________________________________________________\n",
      "batch_normalization (BatchNorma (None, 15, 128)      512         max_pooling1d[0][0]              \n",
      "__________________________________________________________________________________________________\n",
      "max_pooling2d (MaxPooling2D)    (None, 128, 128, 64) 0           conv2d[0][0]                     \n",
      "__________________________________________________________________________________________________\n",
      "separable_conv1d_7 (SeparableCo (None, 58, 128)      17024       separable_conv1d_6[0][0]         \n",
      "__________________________________________________________________________________________________\n",
      "separable_conv1d_10 (SeparableC (None, 58, 128)      8576        embedding_1[0][0]                \n",
      "__________________________________________________________________________________________________\n",
      "separable_conv1d_2 (SeparableCo (None, 15, 256)      33280       batch_normalization[0][0]        \n",
      "__________________________________________________________________________________________________\n",
      "re_lu (ReLU)                    (None, 128, 128, 64) 0           max_pooling2d[0][0]              \n",
      "__________________________________________________________________________________________________\n",
      "max_pooling1d_3 (MaxPooling1D)  (None, 15, 128)      0           separable_conv1d_7[0][0]         \n",
      "__________________________________________________________________________________________________\n",
      "separable_conv1d_11 (SeparableC (None, 58, 128)      17024       separable_conv1d_10[0][0]        \n",
      "__________________________________________________________________________________________________\n",
      "separable_conv1d_3 (SeparableCo (None, 15, 256)      66304       separable_conv1d_2[0][0]         \n",
      "__________________________________________________________________________________________________\n",
      "dense_4 (Dense)                 (None, 128, 128, 16) 1040        re_lu[0][0]                      \n",
      "__________________________________________________________________________________________________\n",
      "batch_normalization_3 (BatchNor (None, 15, 128)      512         max_pooling1d_3[0][0]            \n",
      "__________________________________________________________________________________________________\n",
      "max_pooling1d_5 (MaxPooling1D)  (None, 15, 128)      0           separable_conv1d_11[0][0]        \n",
      "__________________________________________________________________________________________________\n",
      "max_pooling1d_1 (MaxPooling1D)  (None, 8, 256)       0           separable_conv1d_3[0][0]         \n",
      "__________________________________________________________________________________________________\n",
      "conv2d_1 (Conv2D)               (None, 128, 128, 128 100480      dense_4[0][0]                    \n",
      "__________________________________________________________________________________________________\n",
      "separable_conv1d_8 (SeparableCo (None, 15, 128)      17024       batch_normalization_3[0][0]      \n",
      "__________________________________________________________________________________________________\n",
      "batch_normalization_5 (BatchNor (None, 15, 128)      512         max_pooling1d_5[0][0]            \n",
      "__________________________________________________________________________________________________\n",
      "batch_normalization_1 (BatchNor (None, 8, 256)       1024        max_pooling1d_1[0][0]            \n",
      "__________________________________________________________________________________________________\n",
      "max_pooling2d_1 (MaxPooling2D)  (None, 64, 64, 128)  0           conv2d_1[0][0]                   \n",
      "__________________________________________________________________________________________________\n",
      "separable_conv1d_9 (SeparableCo (None, 15, 128)      17024       separable_conv1d_8[0][0]         \n",
      "__________________________________________________________________________________________________\n",
      "separable_conv1d_12 (SeparableC (None, 15, 128)      17024       batch_normalization_5[0][0]      \n",
      "__________________________________________________________________________________________________\n",
      "separable_conv1d_4 (SeparableCo (None, 8, 512)       132096      batch_normalization_1[0][0]      \n",
      "__________________________________________________________________________________________________\n",
      "re_lu_1 (ReLU)                  (None, 64, 64, 128)  0           max_pooling2d_1[0][0]            \n",
      "__________________________________________________________________________________________________\n",
      "max_pooling1d_4 (MaxPooling1D)  (None, 4, 128)       0           separable_conv1d_9[0][0]         \n",
      "__________________________________________________________________________________________________\n",
      "separable_conv1d_13 (SeparableC (None, 15, 128)      17024       separable_conv1d_12[0][0]        \n",
      "__________________________________________________________________________________________________\n",
      "lstm (LSTM)                     (None, 15, 128)      98816       embedding_2[0][0]                \n",
      "__________________________________________________________________________________________________\n",
      "separable_conv1d_5 (SeparableCo (None, 8, 512)       263680      separable_conv1d_4[0][0]         \n",
      "__________________________________________________________________________________________________\n",
      "dense_5 (Dense)                 (None, 64, 64, 32)   4128        re_lu_1[0][0]                    \n",
      "__________________________________________________________________________________________________\n",
      "batch_normalization_4 (BatchNor (None, 4, 128)       512         max_pooling1d_4[0][0]            \n",
      "__________________________________________________________________________________________________\n",
      "max_pooling1d_6 (MaxPooling1D)  (None, 4, 128)       0           separable_conv1d_13[0][0]        \n",
      "__________________________________________________________________________________________________\n",
      "lstm_1 (LSTM)                   (None, 15, 256)      394240      lstm[0][0]                       \n",
      "__________________________________________________________________________________________________\n",
      "max_pooling1d_2 (MaxPooling1D)  (None, 8, 512)       0           separable_conv1d_5[0][0]         \n",
      "__________________________________________________________________________________________________\n",
      "conv2d_2 (Conv2D)               (None, 64, 64, 256)  401664      dense_5[0][0]                    \n",
      "__________________________________________________________________________________________________\n",
      "bidirectional (Bidirectional)   (None, 256)          197632      embedding[0][0]                  \n",
      "__________________________________________________________________________________________________\n",
      "flatten_1 (Flatten)             (None, 512)          0           batch_normalization_4[0][0]      \n",
      "__________________________________________________________________________________________________\n",
      "batch_normalization_6 (BatchNor (None, 4, 128)       512         max_pooling1d_6[0][0]            \n",
      "__________________________________________________________________________________________________\n",
      "bidirectional_1 (Bidirectional) (None, 256)          197632      embedding_1[0][0]                \n",
      "__________________________________________________________________________________________________\n",
      "lstm_2 (LSTM)                   (None, 512)          1574912     lstm_1[0][0]                     \n",
      "__________________________________________________________________________________________________\n",
      "batch_normalization_2 (BatchNor (None, 8, 512)       2048        max_pooling1d_2[0][0]            \n",
      "__________________________________________________________________________________________________\n",
      "max_pooling2d_2 (MaxPooling2D)  (None, 32, 32, 256)  0           conv2d_2[0][0]                   \n",
      "__________________________________________________________________________________________________\n",
      "dense_1 (Dense)                 (None, 64)           16448       bidirectional[0][0]              \n",
      "__________________________________________________________________________________________________\n",
      "dense_2 (Dense)                 (None, 100)          51300       flatten_1[0][0]                  \n",
      "__________________________________________________________________________________________________\n",
      "flatten_2 (Flatten)             (None, 512)          0           batch_normalization_6[0][0]      \n",
      "__________________________________________________________________________________________________\n",
      "dense_3 (Dense)                 (None, 64)           16448       bidirectional_1[0][0]            \n",
      "__________________________________________________________________________________________________\n",
      "dense (Dense)                   (None, 64)           32832       lstm_2[0][0]                     \n",
      "__________________________________________________________________________________________________\n",
      "flatten (Flatten)               (None, 4096)         0           batch_normalization_2[0][0]      \n",
      "__________________________________________________________________________________________________\n",
      "re_lu_2 (ReLU)                  (None, 32, 32, 256)  0           max_pooling2d_2[0][0]            \n",
      "__________________________________________________________________________________________________\n",
      "bidirectional_out (Dense)       (None, 100)          6500        dense_1[0][0]                    \n",
      "__________________________________________________________________________________________________\n",
      "text_output (Dense)             (None, 100)          10100       dense_2[0][0]                    \n",
      "__________________________________________________________________________________________________\n",
      "text_output_lemma (Dense)       (None, 100)          51300       flatten_2[0][0]                  \n",
      "__________________________________________________________________________________________________\n",
      "bidirectional_out_lemma (Dense) (None, 100)          6500        dense_3[0][0]                    \n",
      "__________________________________________________________________________________________________\n",
      "detection_out (Dense)           (None, 100)          6500        dense[0][0]                      \n",
      "__________________________________________________________________________________________________\n",
      "2nd_detection_out (Dense)       (None, 100)          409700      flatten[0][0]                    \n",
      "__________________________________________________________________________________________________\n",
      "dense_6 (Dense)                 (None, 32, 32, 64)   16448       re_lu_2[0][0]                    \n",
      "__________________________________________________________________________________________________\n",
      "concatenate_1 (Concatenate)     (None, 400)          0           bidirectional_out[0][0]          \n",
      "                                                                 text_output[0][0]                \n",
      "                                                                 text_output_lemma[0][0]          \n",
      "                                                                 bidirectional_out_lemma[0][0]    \n",
      "__________________________________________________________________________________________________\n",
      "concatenate (Concatenate)       (None, 200)          0           detection_out[0][0]              \n",
      "                                                                 2nd_detection_out[0][0]          \n",
      "__________________________________________________________________________________________________\n",
      "flatten_3 (Flatten)             (None, 65536)        0           dense_6[0][0]                    \n",
      "__________________________________________________________________________________________________\n",
      "dense_7 (Dense)                 (None, 100)          40100       concatenate_1[0][0]              \n",
      "__________________________________________________________________________________________________\n",
      "final_detection_out (Dense)     (None, 100)          20100       concatenate[0][0]                \n",
      "__________________________________________________________________________________________________\n",
      "image_out (Dense)               (None, 100)          6553700     flatten_3[0][0]                  \n",
      "__________________________________________________________________________________________________\n",
      "concatenate_2 (Concatenate)     (None, 300)          0           dense_7[0][0]                    \n",
      "                                                                 final_detection_out[0][0]        \n",
      "                                                                 image_out[0][0]                  \n",
      "__________________________________________________________________________________________________\n",
      "reshape (Reshape)               (None, 3, 100)       0           concatenate_2[0][0]              \n",
      "__________________________________________________________________________________________________\n",
      "dense_8 (Dense)                 (None, 3, 100)       10100       reshape[0][0]                    \n",
      "__________________________________________________________________________________________________\n",
      "flatten_4 (Flatten)             (None, 300)          0           dense_8[0][0]                    \n",
      "__________________________________________________________________________________________________\n",
      "final_out (Dense)               (None, 1)            301         flatten_4[0][0]                  \n",
      "==================================================================================================\n",
      "Total params: 14,719,081\n",
      "Trainable params: 14,716,265\n",
      "Non-trainable params: 2,816\n",
      "__________________________________________________________________________________________________\n",
      "INFO:tensorflow:Saver not created because there are no variables in the graph to restore\n"
     ]
    },
    {
     "name": "stderr",
     "output_type": "stream",
     "text": [
      "INFO:tensorflow:Saver not created because there are no variables in the graph to restore\n"
     ]
    }
   ],
   "source": [
    "tf.random.set_seed(1)\n",
    "np.random.seed(1)\n",
    "with strategy.scope():\n",
    "    model = create_model()\n",
    "    model.summary()\n",
    "    object_det_model = get_object_detection_model(params)"
   ]
  },
  {
   "cell_type": "code",
   "execution_count": 17,
   "metadata": {
    "colab": {
     "base_uri": "https://localhost:8080/",
     "height": 1000
    },
    "colab_type": "code",
    "id": "dbYqcMyy718-",
    "outputId": "9dd2f48b-e83f-4ce0-d15d-eb85791334bf"
   },
   "outputs": [
    {
     "name": "stdout",
     "output_type": "stream",
     "text": [
      "Epoch 1/250\n",
      " 2/25 [=>............................] - ETA: 2s - loss: 0.9512 - tp: 101.0000 - fn: 89.0000 - accuracy: 0.5221 - auc: 0.5243   WARNING:tensorflow:Callbacks method `on_train_batch_end` is slow compared to the batch time (batch time: 0.0082s vs `on_train_batch_end` time: 0.2333s). Check your callbacks.\n"
     ]
    },
    {
     "name": "stderr",
     "output_type": "stream",
     "text": [
      "WARNING:tensorflow:Callbacks method `on_train_batch_end` is slow compared to the batch time (batch time: 0.0082s vs `on_train_batch_end` time: 0.2333s). Check your callbacks.\n"
     ]
    },
    {
     "name": "stdout",
     "output_type": "stream",
     "text": [
      "25/25 [==============================] - ETA: 0s - loss: 0.9138 - tp: 1298.0000 - fn: 1174.0000 - accuracy: 0.4982 - auc: 0.5100WARNING:tensorflow:From /usr/local/lib/python3.6/dist-packages/tensorflow/python/data/ops/multi_device_iterator_ops.py:601: get_next_as_optional (from tensorflow.python.data.ops.iterator_ops) is deprecated and will be removed in a future version.\n",
      "Instructions for updating:\n",
      "Use `tf.data.Iterator.get_next_as_optional()` instead.\n"
     ]
    },
    {
     "name": "stderr",
     "output_type": "stream",
     "text": [
      "WARNING:tensorflow:From /usr/local/lib/python3.6/dist-packages/tensorflow/python/data/ops/multi_device_iterator_ops.py:601: get_next_as_optional (from tensorflow.python.data.ops.iterator_ops) is deprecated and will be removed in a future version.\n",
      "Instructions for updating:\n",
      "Use `tf.data.Iterator.get_next_as_optional()` instead.\n"
     ]
    },
    {
     "name": "stdout",
     "output_type": "stream",
     "text": [
      "WARNING:tensorflow:Callbacks method `on_test_batch_end` is slow compared to the batch time (batch time: 0.0032s vs `on_test_batch_end` time: 0.0884s). Check your callbacks.\n"
     ]
    },
    {
     "name": "stderr",
     "output_type": "stream",
     "text": [
      "WARNING:tensorflow:Callbacks method `on_test_batch_end` is slow compared to the batch time (batch time: 0.0032s vs `on_test_batch_end` time: 0.0884s). Check your callbacks.\n"
     ]
    },
    {
     "name": "stdout",
     "output_type": "stream",
     "text": [
      "\b\b\b\b\b\b\b\b\b\b\b\b\b\b\b\b\b\b\b\b\b\b\b\b\b\b\b\b\b\b\b\b\b\b\b\b\b\b\b\b\b\b\b\b\b\b\b\b\b\b\b\b\b\b\b\b\b\b\b\b\b\b\b\b\b\b\b\b\b\b\b\b\b\b\b\b\b\b\b\b\b\b\b\b\b\b\b\b\b\b\b\b\b\b\b\b\b\b\b\b\b\b\b\b\b\b\b\b\b\b\b\b\b\b\b\b\b\b\b\b\b\b\b\b\b\b\b\b\r25/25 [==============================] - 28s 1s/step - loss: 0.9138 - tp: 1298.0000 - fn: 1174.0000 - accuracy: 0.4982 - auc: 0.5100 - val_loss: 0.8280 - val_tp: 0.0000e+00 - val_fn: 578.0000 - val_accuracy: 0.6600 - val_auc: 0.5000\n",
      "Epoch 2/250\n",
      "25/25 [==============================] - 7s 295ms/step - loss: 0.8495 - tp: 1137.0000 - fn: 1335.0000 - accuracy: 0.5249 - auc: 0.5092 - val_loss: 0.8600 - val_tp: 578.0000 - val_fn: 0.0000e+00 - val_accuracy: 0.3400 - val_auc: 0.5299\n",
      "Epoch 3/250\n",
      "25/25 [==============================] - 7s 293ms/step - loss: 0.8130 - tp: 1629.0000 - fn: 843.0000 - accuracy: 0.4747 - auc: 0.5397 - val_loss: 0.7916 - val_tp: 0.0000e+00 - val_fn: 578.0000 - val_accuracy: 0.6600 - val_auc: 0.5747\n",
      "Epoch 4/250\n",
      "25/25 [==============================] - 7s 292ms/step - loss: 0.7877 - tp: 1234.0000 - fn: 1238.0000 - accuracy: 0.5872 - auc: 0.5855 - val_loss: 0.7665 - val_tp: 19.0000 - val_fn: 559.0000 - val_accuracy: 0.6653 - val_auc: 0.6138\n",
      "Epoch 5/250\n",
      "25/25 [==============================] - 7s 293ms/step - loss: 0.7649 - tp: 1348.0000 - fn: 1124.0000 - accuracy: 0.5988 - auc: 0.6211 - val_loss: 0.7549 - val_tp: 130.0000 - val_fn: 448.0000 - val_accuracy: 0.6853 - val_auc: 0.6402\n",
      "Epoch 6/250\n",
      "25/25 [==============================] - 8s 314ms/step - loss: 0.7284 - tp: 1415.0000 - fn: 1057.0000 - accuracy: 0.6606 - auc: 0.6935 - val_loss: 0.7211 - val_tp: 160.0000 - val_fn: 418.0000 - val_accuracy: 0.6865 - val_auc: 0.6427\n",
      "Epoch 7/250\n",
      "25/25 [==============================] - 8s 329ms/step - loss: 0.6750 - tp: 1399.0000 - fn: 1073.0000 - accuracy: 0.7365 - auc: 0.7747 - val_loss: 0.7057 - val_tp: 179.0000 - val_fn: 399.0000 - val_accuracy: 0.6894 - val_auc: 0.6438\n",
      "Epoch 8/250\n",
      "25/25 [==============================] - 10s 401ms/step - loss: 0.6314 - tp: 1524.0000 - fn: 948.0000 - accuracy: 0.7538 - auc: 0.8084 - val_loss: 0.6968 - val_tp: 181.0000 - val_fn: 397.0000 - val_accuracy: 0.6888 - val_auc: 0.6454\n",
      "Epoch 9/250\n",
      "25/25 [==============================] - 8s 318ms/step - loss: 0.6008 - tp: 1645.0000 - fn: 827.0000 - accuracy: 0.7699 - auc: 0.8325 - val_loss: 0.7007 - val_tp: 190.0000 - val_fn: 388.0000 - val_accuracy: 0.6882 - val_auc: 0.6419\n",
      "Epoch 10/250\n",
      "25/25 [==============================] - 8s 312ms/step - loss: 0.5816 - tp: 1686.0000 - fn: 786.0000 - accuracy: 0.7778 - auc: 0.8449 - val_loss: 0.7004 - val_tp: 192.0000 - val_fn: 386.0000 - val_accuracy: 0.6912 - val_auc: 0.6438\n",
      "Epoch 11/250\n",
      "25/25 [==============================] - 8s 312ms/step - loss: 0.5682 - tp: 1738.0000 - fn: 734.0000 - accuracy: 0.7843 - auc: 0.8522 - val_loss: 0.7021 - val_tp: 193.0000 - val_fn: 385.0000 - val_accuracy: 0.6865 - val_auc: 0.6431\n",
      "Epoch 12/250\n",
      "25/25 [==============================] - 8s 310ms/step - loss: 0.5568 - tp: 1750.0000 - fn: 722.0000 - accuracy: 0.7881 - auc: 0.8595 - val_loss: 0.7059 - val_tp: 199.0000 - val_fn: 379.0000 - val_accuracy: 0.6835 - val_auc: 0.6430\n",
      "Epoch 13/250\n",
      "25/25 [==============================] - 8s 312ms/step - loss: 0.5493 - tp: 1773.0000 - fn: 699.0000 - accuracy: 0.7903 - auc: 0.8632 - val_loss: 0.7048 - val_tp: 196.0000 - val_fn: 382.0000 - val_accuracy: 0.6859 - val_auc: 0.6421\n",
      "Epoch 14/250\n",
      "25/25 [==============================] - 8s 311ms/step - loss: 0.5437 - tp: 1773.0000 - fn: 699.0000 - accuracy: 0.7932 - auc: 0.8661 - val_loss: 0.7063 - val_tp: 205.0000 - val_fn: 373.0000 - val_accuracy: 0.6847 - val_auc: 0.6421\n",
      "Epoch 15/250\n",
      "25/25 [==============================] - 8s 309ms/step - loss: 0.5393 - tp: 1840.0000 - fn: 632.0000 - accuracy: 0.7929 - auc: 0.8688 - val_loss: 0.7044 - val_tp: 195.0000 - val_fn: 383.0000 - val_accuracy: 0.6853 - val_auc: 0.6416\n",
      "Epoch 16/250\n",
      "25/25 [==============================] - 8s 315ms/step - loss: 0.5350 - tp: 1812.0000 - fn: 660.0000 - accuracy: 0.7956 - auc: 0.8708 - val_loss: 0.7029 - val_tp: 194.0000 - val_fn: 384.0000 - val_accuracy: 0.6853 - val_auc: 0.6418\n",
      "Epoch 17/250\n",
      "25/25 [==============================] - 8s 314ms/step - loss: 0.5334 - tp: 1811.0000 - fn: 661.0000 - accuracy: 0.7960 - auc: 0.8716 - val_loss: 0.7024 - val_tp: 196.0000 - val_fn: 382.0000 - val_accuracy: 0.6865 - val_auc: 0.6429\n",
      "Epoch 18/250\n",
      "25/25 [==============================] - 8s 322ms/step - loss: 0.5315 - tp: 1830.0000 - fn: 642.0000 - accuracy: 0.7979 - auc: 0.8724 - val_loss: 0.7037 - val_tp: 203.0000 - val_fn: 375.0000 - val_accuracy: 0.6865 - val_auc: 0.6430\n",
      "Epoch 19/250\n",
      "25/25 [==============================] - 8s 316ms/step - loss: 0.5299 - tp: 1828.0000 - fn: 644.0000 - accuracy: 0.7972 - auc: 0.8731 - val_loss: 0.7034 - val_tp: 201.0000 - val_fn: 377.0000 - val_accuracy: 0.6865 - val_auc: 0.6434\n",
      "Epoch 20/250\n",
      "25/25 [==============================] - 8s 326ms/step - loss: 0.5280 - tp: 1832.0000 - fn: 640.0000 - accuracy: 0.7984 - auc: 0.8744 - val_loss: 0.7039 - val_tp: 207.0000 - val_fn: 371.0000 - val_accuracy: 0.6865 - val_auc: 0.6442\n",
      "Epoch 21/250\n",
      "25/25 [==============================] - 8s 324ms/step - loss: 0.5268 - tp: 1848.0000 - fn: 624.0000 - accuracy: 0.7988 - auc: 0.8745 - val_loss: 0.7045 - val_tp: 210.0000 - val_fn: 368.0000 - val_accuracy: 0.6865 - val_auc: 0.6452\n",
      "Epoch 22/250\n",
      "25/25 [==============================] - 10s 392ms/step - loss: 0.5266 - tp: 1848.0000 - fn: 624.0000 - accuracy: 0.7990 - auc: 0.8750 - val_loss: 0.7051 - val_tp: 211.0000 - val_fn: 367.0000 - val_accuracy: 0.6865 - val_auc: 0.6460\n",
      "Epoch 23/250\n",
      "25/25 [==============================] - 10s 399ms/step - loss: 0.5264 - tp: 1835.0000 - fn: 637.0000 - accuracy: 0.7984 - auc: 0.8748 - val_loss: 0.7063 - val_tp: 216.0000 - val_fn: 362.0000 - val_accuracy: 0.6841 - val_auc: 0.6471\n",
      "Epoch 24/250\n",
      "25/25 [==============================] - 10s 398ms/step - loss: 0.5260 - tp: 1831.0000 - fn: 641.0000 - accuracy: 0.7971 - auc: 0.8750 - val_loss: 0.7082 - val_tp: 222.0000 - val_fn: 356.0000 - val_accuracy: 0.6835 - val_auc: 0.6482\n",
      "Epoch 25/250\n",
      "25/25 [==============================] - 9s 373ms/step - loss: 0.5243 - tp: 1837.0000 - fn: 635.0000 - accuracy: 0.7987 - auc: 0.8763 - val_loss: 0.7104 - val_tp: 232.0000 - val_fn: 346.0000 - val_accuracy: 0.6829 - val_auc: 0.6497\n",
      "Epoch 26/250\n",
      "25/25 [==============================] - 9s 372ms/step - loss: 0.5243 - tp: 1845.0000 - fn: 627.0000 - accuracy: 0.8003 - auc: 0.8761 - val_loss: 0.7133 - val_tp: 238.0000 - val_fn: 340.0000 - val_accuracy: 0.6782 - val_auc: 0.6510\n",
      "Epoch 27/250\n",
      "25/25 [==============================] - 10s 381ms/step - loss: 0.5246 - tp: 1838.0000 - fn: 634.0000 - accuracy: 0.7976 - auc: 0.8758 - val_loss: 0.7168 - val_tp: 244.0000 - val_fn: 334.0000 - val_accuracy: 0.6735 - val_auc: 0.6521\n",
      "Epoch 28/250\n",
      "25/25 [==============================] - 10s 392ms/step - loss: 0.5244 - tp: 1837.0000 - fn: 635.0000 - accuracy: 0.7984 - auc: 0.8757 - val_loss: 0.7206 - val_tp: 252.0000 - val_fn: 326.0000 - val_accuracy: 0.6735 - val_auc: 0.6535\n",
      "Epoch 29/250\n",
      "25/25 [==============================] - 9s 377ms/step - loss: 0.5246 - tp: 1845.0000 - fn: 627.0000 - accuracy: 0.8000 - auc: 0.8756 - val_loss: 0.7251 - val_tp: 258.0000 - val_fn: 320.0000 - val_accuracy: 0.6676 - val_auc: 0.6543\n",
      "Epoch 30/250\n",
      "25/25 [==============================] - 14s 569ms/step - loss: 0.5233 - tp: 1852.0000 - fn: 620.0000 - accuracy: 0.8021 - auc: 0.8764 - val_loss: 0.7296 - val_tp: 267.0000 - val_fn: 311.0000 - val_accuracy: 0.6641 - val_auc: 0.6553\n",
      "Epoch 31/250\n",
      "25/25 [==============================] - 8s 336ms/step - loss: 0.5248 - tp: 1845.0000 - fn: 627.0000 - accuracy: 0.7997 - auc: 0.8756 - val_loss: 0.7342 - val_tp: 276.0000 - val_fn: 302.0000 - val_accuracy: 0.6647 - val_auc: 0.6559\n",
      "Epoch 32/250\n",
      "25/25 [==============================] - 8s 330ms/step - loss: 0.5245 - tp: 1849.0000 - fn: 623.0000 - accuracy: 0.7997 - auc: 0.8754 - val_loss: 0.7386 - val_tp: 283.0000 - val_fn: 295.0000 - val_accuracy: 0.6612 - val_auc: 0.6567\n",
      "Epoch 33/250\n",
      "25/25 [==============================] - 8s 319ms/step - loss: 0.5240 - tp: 1843.0000 - fn: 629.0000 - accuracy: 0.8000 - auc: 0.8758 - val_loss: 0.7425 - val_tp: 288.0000 - val_fn: 290.0000 - val_accuracy: 0.6594 - val_auc: 0.6568\n",
      "Epoch 34/250\n",
      "25/25 [==============================] - 8s 323ms/step - loss: 0.5243 - tp: 1841.0000 - fn: 631.0000 - accuracy: 0.7982 - auc: 0.8757 - val_loss: 0.7459 - val_tp: 289.0000 - val_fn: 289.0000 - val_accuracy: 0.6571 - val_auc: 0.6573\n",
      "Epoch 35/250\n",
      "25/25 [==============================] - 8s 338ms/step - loss: 0.5237 - tp: 1847.0000 - fn: 625.0000 - accuracy: 0.8001 - auc: 0.8764 - val_loss: 0.7490 - val_tp: 292.0000 - val_fn: 286.0000 - val_accuracy: 0.6565 - val_auc: 0.6575\n",
      "Epoch 36/250\n",
      "25/25 [==============================] - 8s 329ms/step - loss: 0.5241 - tp: 1847.0000 - fn: 625.0000 - accuracy: 0.7996 - auc: 0.8758 - val_loss: 0.7516 - val_tp: 295.0000 - val_fn: 283.0000 - val_accuracy: 0.6559 - val_auc: 0.6576\n",
      "Epoch 37/250\n",
      "25/25 [==============================] - 8s 319ms/step - loss: 0.5238 - tp: 1849.0000 - fn: 623.0000 - accuracy: 0.8009 - auc: 0.8762 - val_loss: 0.7538 - val_tp: 296.0000 - val_fn: 282.0000 - val_accuracy: 0.6529 - val_auc: 0.6579\n",
      "Epoch 38/250\n",
      "25/25 [==============================] - 8s 327ms/step - loss: 0.5238 - tp: 1837.0000 - fn: 635.0000 - accuracy: 0.7966 - auc: 0.8763 - val_loss: 0.7557 - val_tp: 297.0000 - val_fn: 281.0000 - val_accuracy: 0.6518 - val_auc: 0.6581\n",
      "Epoch 39/250\n",
      "25/25 [==============================] - 8s 318ms/step - loss: 0.5241 - tp: 1845.0000 - fn: 627.0000 - accuracy: 0.8007 - auc: 0.8759 - val_loss: 0.7571 - val_tp: 300.0000 - val_fn: 278.0000 - val_accuracy: 0.6524 - val_auc: 0.6582\n",
      "Epoch 40/250\n",
      "25/25 [==============================] - 7s 289ms/step - loss: 0.5237 - tp: 1836.0000 - fn: 636.0000 - accuracy: 0.7979 - auc: 0.8762 - val_loss: 0.7582 - val_tp: 300.0000 - val_fn: 278.0000 - val_accuracy: 0.6518 - val_auc: 0.6582\n",
      "Epoch 41/250\n",
      "25/25 [==============================] - 8s 315ms/step - loss: 0.5238 - tp: 1853.0000 - fn: 619.0000 - accuracy: 0.8004 - auc: 0.8761 - val_loss: 0.7591 - val_tp: 301.0000 - val_fn: 277.0000 - val_accuracy: 0.6506 - val_auc: 0.6583\n",
      "Epoch 42/250\n",
      "25/25 [==============================] - 8s 312ms/step - loss: 0.5234 - tp: 1846.0000 - fn: 626.0000 - accuracy: 0.7999 - auc: 0.8768 - val_loss: 0.7599 - val_tp: 305.0000 - val_fn: 273.0000 - val_accuracy: 0.6524 - val_auc: 0.6584\n",
      "Epoch 43/250\n",
      "25/25 [==============================] - 7s 280ms/step - loss: 0.5242 - tp: 1854.0000 - fn: 618.0000 - accuracy: 0.8007 - auc: 0.8757 - val_loss: 0.7605 - val_tp: 305.0000 - val_fn: 273.0000 - val_accuracy: 0.6524 - val_auc: 0.6583\n",
      "Epoch 44/250\n",
      "25/25 [==============================] - 7s 281ms/step - loss: 0.5237 - tp: 1845.0000 - fn: 627.0000 - accuracy: 0.7987 - auc: 0.8764 - val_loss: 0.7609 - val_tp: 305.0000 - val_fn: 273.0000 - val_accuracy: 0.6524 - val_auc: 0.6584\n",
      "Epoch 45/250\n",
      "25/25 [==============================] - 8s 306ms/step - loss: 0.5239 - tp: 1848.0000 - fn: 624.0000 - accuracy: 0.7996 - auc: 0.8762 - val_loss: 0.7612 - val_tp: 305.0000 - val_fn: 273.0000 - val_accuracy: 0.6524 - val_auc: 0.6585\n",
      "Epoch 46/250\n",
      "25/25 [==============================] - 7s 279ms/step - loss: 0.5254 - tp: 1848.0000 - fn: 624.0000 - accuracy: 0.7994 - auc: 0.8746 - val_loss: 0.7615 - val_tp: 305.0000 - val_fn: 273.0000 - val_accuracy: 0.6518 - val_auc: 0.6585\n",
      "Epoch 47/250\n",
      "25/25 [==============================] - 7s 299ms/step - loss: 0.5237 - tp: 1853.0000 - fn: 619.0000 - accuracy: 0.8001 - auc: 0.8764 - val_loss: 0.7618 - val_tp: 305.0000 - val_fn: 273.0000 - val_accuracy: 0.6500 - val_auc: 0.6587\n",
      "Epoch 48/250\n",
      "25/25 [==============================] - 7s 278ms/step - loss: 0.5238 - tp: 1842.0000 - fn: 630.0000 - accuracy: 0.8000 - auc: 0.8764 - val_loss: 0.7620 - val_tp: 305.0000 - val_fn: 273.0000 - val_accuracy: 0.6500 - val_auc: 0.6585\n",
      "Epoch 49/250\n",
      "25/25 [==============================] - 7s 273ms/step - loss: 0.5238 - tp: 1845.0000 - fn: 627.0000 - accuracy: 0.8001 - auc: 0.8760 - val_loss: 0.7621 - val_tp: 305.0000 - val_fn: 273.0000 - val_accuracy: 0.6506 - val_auc: 0.6585\n",
      "Epoch 50/250\n",
      "25/25 [==============================] - 7s 274ms/step - loss: 0.5241 - tp: 1844.0000 - fn: 628.0000 - accuracy: 0.7993 - auc: 0.8760 - val_loss: 0.7623 - val_tp: 305.0000 - val_fn: 273.0000 - val_accuracy: 0.6506 - val_auc: 0.6585\n",
      "Epoch 51/250\n",
      "25/25 [==============================] - 7s 273ms/step - loss: 0.5231 - tp: 1852.0000 - fn: 620.0000 - accuracy: 0.8019 - auc: 0.8768 - val_loss: 0.7623 - val_tp: 305.0000 - val_fn: 273.0000 - val_accuracy: 0.6512 - val_auc: 0.6586\n",
      "Epoch 52/250\n",
      "25/25 [==============================] - 7s 275ms/step - loss: 0.5237 - tp: 1851.0000 - fn: 621.0000 - accuracy: 0.8004 - auc: 0.8764 - val_loss: 0.7623 - val_tp: 305.0000 - val_fn: 273.0000 - val_accuracy: 0.6518 - val_auc: 0.6585\n",
      "Epoch 53/250\n",
      "25/25 [==============================] - 7s 280ms/step - loss: 0.5243 - tp: 1850.0000 - fn: 622.0000 - accuracy: 0.7993 - auc: 0.8759 - val_loss: 0.7624 - val_tp: 305.0000 - val_fn: 273.0000 - val_accuracy: 0.6524 - val_auc: 0.6585\n",
      "Epoch 54/250\n",
      "25/25 [==============================] - 7s 279ms/step - loss: 0.5239 - tp: 1845.0000 - fn: 627.0000 - accuracy: 0.8001 - auc: 0.8761 - val_loss: 0.7625 - val_tp: 305.0000 - val_fn: 273.0000 - val_accuracy: 0.6518 - val_auc: 0.6585\n",
      "Epoch 55/250\n",
      "25/25 [==============================] - 7s 282ms/step - loss: 0.5241 - tp: 1839.0000 - fn: 633.0000 - accuracy: 0.7975 - auc: 0.8758 - val_loss: 0.7625 - val_tp: 305.0000 - val_fn: 273.0000 - val_accuracy: 0.6518 - val_auc: 0.6584\n",
      "Epoch 56/250\n",
      "25/25 [==============================] - 7s 291ms/step - loss: 0.5238 - tp: 1837.0000 - fn: 635.0000 - accuracy: 0.7996 - auc: 0.8764 - val_loss: 0.7625 - val_tp: 305.0000 - val_fn: 273.0000 - val_accuracy: 0.6512 - val_auc: 0.6585\n",
      "Epoch 57/250\n",
      "25/25 [==============================] - 7s 290ms/step - loss: 0.5245 - tp: 1850.0000 - fn: 622.0000 - accuracy: 0.8001 - auc: 0.8754 - val_loss: 0.7626 - val_tp: 306.0000 - val_fn: 272.0000 - val_accuracy: 0.6518 - val_auc: 0.6583\n",
      "Epoch 58/250\n",
      "25/25 [==============================] - 7s 287ms/step - loss: 0.5240 - tp: 1843.0000 - fn: 629.0000 - accuracy: 0.7985 - auc: 0.8760 - val_loss: 0.7625 - val_tp: 305.0000 - val_fn: 273.0000 - val_accuracy: 0.6506 - val_auc: 0.6585\n",
      "Epoch 59/250\n",
      "25/25 [==============================] - 7s 284ms/step - loss: 0.5247 - tp: 1841.0000 - fn: 631.0000 - accuracy: 0.7976 - auc: 0.8757 - val_loss: 0.7626 - val_tp: 305.0000 - val_fn: 273.0000 - val_accuracy: 0.6500 - val_auc: 0.6584\n",
      "Epoch 60/250\n",
      "25/25 [==============================] - 7s 282ms/step - loss: 0.5243 - tp: 1851.0000 - fn: 621.0000 - accuracy: 0.8001 - auc: 0.8756 - val_loss: 0.7625 - val_tp: 305.0000 - val_fn: 273.0000 - val_accuracy: 0.6512 - val_auc: 0.6586\n",
      "Epoch 61/250\n",
      "25/25 [==============================] - 8s 308ms/step - loss: 0.5242 - tp: 1844.0000 - fn: 628.0000 - accuracy: 0.7996 - auc: 0.8759 - val_loss: 0.7625 - val_tp: 305.0000 - val_fn: 273.0000 - val_accuracy: 0.6512 - val_auc: 0.6587\n",
      "Epoch 62/250\n",
      "25/25 [==============================] - 7s 281ms/step - loss: 0.5240 - tp: 1834.0000 - fn: 638.0000 - accuracy: 0.7966 - auc: 0.8760 - val_loss: 0.7625 - val_tp: 305.0000 - val_fn: 273.0000 - val_accuracy: 0.6512 - val_auc: 0.6586\n",
      "Epoch 63/250\n",
      "25/25 [==============================] - 7s 276ms/step - loss: 0.5238 - tp: 1850.0000 - fn: 622.0000 - accuracy: 0.8010 - auc: 0.8762 - val_loss: 0.7625 - val_tp: 305.0000 - val_fn: 273.0000 - val_accuracy: 0.6518 - val_auc: 0.6586\n",
      "Epoch 64/250\n",
      "25/25 [==============================] - 7s 278ms/step - loss: 0.5245 - tp: 1843.0000 - fn: 629.0000 - accuracy: 0.7976 - auc: 0.8757 - val_loss: 0.7625 - val_tp: 306.0000 - val_fn: 272.0000 - val_accuracy: 0.6524 - val_auc: 0.6584\n",
      "Epoch 65/250\n",
      "25/25 [==============================] - 7s 284ms/step - loss: 0.5243 - tp: 1838.0000 - fn: 634.0000 - accuracy: 0.7968 - auc: 0.8757 - val_loss: 0.7624 - val_tp: 306.0000 - val_fn: 272.0000 - val_accuracy: 0.6524 - val_auc: 0.6586\n",
      "Epoch 66/250\n",
      "25/25 [==============================] - 7s 281ms/step - loss: 0.5239 - tp: 1844.0000 - fn: 628.0000 - accuracy: 0.8000 - auc: 0.8761 - val_loss: 0.7624 - val_tp: 306.0000 - val_fn: 272.0000 - val_accuracy: 0.6529 - val_auc: 0.6586\n",
      "Epoch 67/250\n",
      "25/25 [==============================] - 7s 281ms/step - loss: 0.5235 - tp: 1843.0000 - fn: 629.0000 - accuracy: 0.7999 - auc: 0.8766 - val_loss: 0.7624 - val_tp: 306.0000 - val_fn: 272.0000 - val_accuracy: 0.6529 - val_auc: 0.6587\n",
      "Epoch 68/250\n",
      "25/25 [==============================] - 8s 304ms/step - loss: 0.5241 - tp: 1853.0000 - fn: 619.0000 - accuracy: 0.8012 - auc: 0.8759 - val_loss: 0.7624 - val_tp: 306.0000 - val_fn: 272.0000 - val_accuracy: 0.6524 - val_auc: 0.6588\n",
      "Epoch 69/250\n",
      "25/25 [==============================] - 7s 280ms/step - loss: 0.5236 - tp: 1841.0000 - fn: 631.0000 - accuracy: 0.7999 - auc: 0.8767 - val_loss: 0.7624 - val_tp: 305.0000 - val_fn: 273.0000 - val_accuracy: 0.6518 - val_auc: 0.6586\n",
      "Epoch 70/250\n",
      "25/25 [==============================] - 7s 278ms/step - loss: 0.5250 - tp: 1836.0000 - fn: 636.0000 - accuracy: 0.7979 - auc: 0.8752 - val_loss: 0.7625 - val_tp: 305.0000 - val_fn: 273.0000 - val_accuracy: 0.6512 - val_auc: 0.6587\n",
      "Epoch 71/250\n",
      "25/25 [==============================] - 7s 280ms/step - loss: 0.5238 - tp: 1854.0000 - fn: 618.0000 - accuracy: 0.7985 - auc: 0.8763 - val_loss: 0.7625 - val_tp: 305.0000 - val_fn: 273.0000 - val_accuracy: 0.6518 - val_auc: 0.6586\n",
      "Epoch 72/250\n",
      "25/25 [==============================] - 7s 279ms/step - loss: 0.5244 - tp: 1846.0000 - fn: 626.0000 - accuracy: 0.7978 - auc: 0.8758 - val_loss: 0.7625 - val_tp: 305.0000 - val_fn: 273.0000 - val_accuracy: 0.6512 - val_auc: 0.6587\n",
      "Epoch 73/250\n",
      "25/25 [==============================] - 7s 280ms/step - loss: 0.5239 - tp: 1844.0000 - fn: 628.0000 - accuracy: 0.7996 - auc: 0.8761 - val_loss: 0.7625 - val_tp: 305.0000 - val_fn: 273.0000 - val_accuracy: 0.6512 - val_auc: 0.6586\n",
      "Epoch 74/250\n",
      "25/25 [==============================] - 7s 279ms/step - loss: 0.5235 - tp: 1853.0000 - fn: 619.0000 - accuracy: 0.8012 - auc: 0.8762 - val_loss: 0.7624 - val_tp: 305.0000 - val_fn: 273.0000 - val_accuracy: 0.6518 - val_auc: 0.6585\n",
      "Epoch 75/250\n",
      "25/25 [==============================] - 7s 280ms/step - loss: 0.5241 - tp: 1851.0000 - fn: 621.0000 - accuracy: 0.7987 - auc: 0.8757 - val_loss: 0.7625 - val_tp: 305.0000 - val_fn: 273.0000 - val_accuracy: 0.6506 - val_auc: 0.6585\n",
      "Epoch 76/250\n",
      "25/25 [==============================] - 7s 281ms/step - loss: 0.5237 - tp: 1845.0000 - fn: 627.0000 - accuracy: 0.7996 - auc: 0.8762 - val_loss: 0.7626 - val_tp: 304.0000 - val_fn: 274.0000 - val_accuracy: 0.6500 - val_auc: 0.6586\n",
      "Epoch 77/250\n",
      "25/25 [==============================] - 7s 281ms/step - loss: 0.5239 - tp: 1843.0000 - fn: 629.0000 - accuracy: 0.7991 - auc: 0.8765 - val_loss: 0.7626 - val_tp: 305.0000 - val_fn: 273.0000 - val_accuracy: 0.6506 - val_auc: 0.6585\n",
      "Epoch 78/250\n",
      "25/25 [==============================] - 7s 281ms/step - loss: 0.5248 - tp: 1840.0000 - fn: 632.0000 - accuracy: 0.7987 - auc: 0.8754 - val_loss: 0.7626 - val_tp: 305.0000 - val_fn: 273.0000 - val_accuracy: 0.6506 - val_auc: 0.6586\n",
      "Epoch 79/250\n",
      "25/25 [==============================] - 7s 280ms/step - loss: 0.5240 - tp: 1839.0000 - fn: 633.0000 - accuracy: 0.7988 - auc: 0.8759 - val_loss: 0.7625 - val_tp: 305.0000 - val_fn: 273.0000 - val_accuracy: 0.6512 - val_auc: 0.6585\n",
      "Epoch 80/250\n",
      "25/25 [==============================] - 7s 278ms/step - loss: 0.5239 - tp: 1846.0000 - fn: 626.0000 - accuracy: 0.7997 - auc: 0.8759 - val_loss: 0.7625 - val_tp: 305.0000 - val_fn: 273.0000 - val_accuracy: 0.6518 - val_auc: 0.6587\n",
      "Epoch 81/250\n",
      "25/25 [==============================] - 7s 279ms/step - loss: 0.5234 - tp: 1850.0000 - fn: 622.0000 - accuracy: 0.8010 - auc: 0.8764 - val_loss: 0.7625 - val_tp: 305.0000 - val_fn: 273.0000 - val_accuracy: 0.6512 - val_auc: 0.6587\n",
      "Epoch 82/250\n",
      "25/25 [==============================] - 7s 279ms/step - loss: 0.5240 - tp: 1845.0000 - fn: 627.0000 - accuracy: 0.7984 - auc: 0.8762 - val_loss: 0.7625 - val_tp: 305.0000 - val_fn: 273.0000 - val_accuracy: 0.6512 - val_auc: 0.6586\n",
      "Epoch 83/250\n",
      "25/25 [==============================] - 7s 279ms/step - loss: 0.5236 - tp: 1849.0000 - fn: 623.0000 - accuracy: 0.7988 - auc: 0.8764 - val_loss: 0.7625 - val_tp: 305.0000 - val_fn: 273.0000 - val_accuracy: 0.6512 - val_auc: 0.6586\n",
      "Epoch 84/250\n",
      "25/25 [==============================] - 7s 277ms/step - loss: 0.5239 - tp: 1848.0000 - fn: 624.0000 - accuracy: 0.7997 - auc: 0.8762 - val_loss: 0.7625 - val_tp: 305.0000 - val_fn: 273.0000 - val_accuracy: 0.6518 - val_auc: 0.6586\n",
      "Epoch 85/250\n",
      "25/25 [==============================] - 7s 278ms/step - loss: 0.5234 - tp: 1850.0000 - fn: 622.0000 - accuracy: 0.7999 - auc: 0.8765 - val_loss: 0.7625 - val_tp: 305.0000 - val_fn: 273.0000 - val_accuracy: 0.6518 - val_auc: 0.6586\n",
      "Epoch 86/250\n",
      "25/25 [==============================] - 7s 275ms/step - loss: 0.5233 - tp: 1845.0000 - fn: 627.0000 - accuracy: 0.7991 - auc: 0.8767 - val_loss: 0.7625 - val_tp: 305.0000 - val_fn: 273.0000 - val_accuracy: 0.6512 - val_auc: 0.6587\n",
      "Epoch 87/250\n",
      "25/25 [==============================] - 7s 277ms/step - loss: 0.5238 - tp: 1837.0000 - fn: 635.0000 - accuracy: 0.7985 - auc: 0.8761 - val_loss: 0.7624 - val_tp: 305.0000 - val_fn: 273.0000 - val_accuracy: 0.6518 - val_auc: 0.6585\n",
      "Epoch 88/250\n",
      "25/25 [==============================] - 7s 276ms/step - loss: 0.5239 - tp: 1851.0000 - fn: 621.0000 - accuracy: 0.7984 - auc: 0.8758 - val_loss: 0.7625 - val_tp: 305.0000 - val_fn: 273.0000 - val_accuracy: 0.6518 - val_auc: 0.6587\n",
      "Epoch 89/250\n",
      "25/25 [==============================] - 7s 276ms/step - loss: 0.5239 - tp: 1850.0000 - fn: 622.0000 - accuracy: 0.7999 - auc: 0.8761 - val_loss: 0.7625 - val_tp: 305.0000 - val_fn: 273.0000 - val_accuracy: 0.6518 - val_auc: 0.6587\n",
      "Epoch 90/250\n",
      "25/25 [==============================] - 7s 276ms/step - loss: 0.5235 - tp: 1844.0000 - fn: 628.0000 - accuracy: 0.7990 - auc: 0.8763 - val_loss: 0.7625 - val_tp: 305.0000 - val_fn: 273.0000 - val_accuracy: 0.6518 - val_auc: 0.6586\n",
      "Epoch 91/250\n",
      "25/25 [==============================] - 7s 276ms/step - loss: 0.5239 - tp: 1847.0000 - fn: 625.0000 - accuracy: 0.8000 - auc: 0.8762 - val_loss: 0.7625 - val_tp: 306.0000 - val_fn: 272.0000 - val_accuracy: 0.6524 - val_auc: 0.6586\n",
      "Epoch 92/250\n",
      "25/25 [==============================] - 7s 271ms/step - loss: 0.5238 - tp: 1841.0000 - fn: 631.0000 - accuracy: 0.7979 - auc: 0.8762 - val_loss: 0.7625 - val_tp: 305.0000 - val_fn: 273.0000 - val_accuracy: 0.6518 - val_auc: 0.6584\n",
      "Epoch 93/250\n",
      "25/25 [==============================] - 7s 273ms/step - loss: 0.5234 - tp: 1850.0000 - fn: 622.0000 - accuracy: 0.8019 - auc: 0.8765 - val_loss: 0.7625 - val_tp: 306.0000 - val_fn: 272.0000 - val_accuracy: 0.6518 - val_auc: 0.6586\n",
      "Epoch 94/250\n",
      "25/25 [==============================] - 7s 273ms/step - loss: 0.5239 - tp: 1841.0000 - fn: 631.0000 - accuracy: 0.7975 - auc: 0.8762 - val_loss: 0.7625 - val_tp: 306.0000 - val_fn: 272.0000 - val_accuracy: 0.6524 - val_auc: 0.6585\n",
      "Epoch 95/250\n",
      "25/25 [==============================] - 7s 272ms/step - loss: 0.5239 - tp: 1851.0000 - fn: 621.0000 - accuracy: 0.8007 - auc: 0.8757 - val_loss: 0.7625 - val_tp: 306.0000 - val_fn: 272.0000 - val_accuracy: 0.6518 - val_auc: 0.6586\n",
      "Epoch 96/250\n",
      "25/25 [==============================] - 7s 273ms/step - loss: 0.5233 - tp: 1851.0000 - fn: 621.0000 - accuracy: 0.8001 - auc: 0.8767 - val_loss: 0.7625 - val_tp: 305.0000 - val_fn: 273.0000 - val_accuracy: 0.6518 - val_auc: 0.6585\n",
      "Epoch 97/250\n",
      "25/25 [==============================] - 7s 273ms/step - loss: 0.5241 - tp: 1838.0000 - fn: 634.0000 - accuracy: 0.7982 - auc: 0.8760 - val_loss: 0.7625 - val_tp: 306.0000 - val_fn: 272.0000 - val_accuracy: 0.6524 - val_auc: 0.6585\n",
      "Epoch 98/250\n",
      "25/25 [==============================] - 11s 442ms/step - loss: 0.5233 - tp: 1851.0000 - fn: 621.0000 - accuracy: 0.8006 - auc: 0.8765 - val_loss: 0.7625 - val_tp: 306.0000 - val_fn: 272.0000 - val_accuracy: 0.6524 - val_auc: 0.6585\n"
     ]
    }
   ],
   "source": [
    "#calculate class weights\n",
    "target_0 = 5450 #these values will not change (are from review of test ds)\n",
    "target_1 = 3050\n",
    "total = target_0 + target_1\n",
    "\n",
    "class_weight_0 = (1 / target_0) * (total) / 2.0\n",
    "class_weight_1 = (1 / target_1) * (total) / 2.0\n",
    "\n",
    "class_weights = {0: class_weight_0, 1: class_weight_1}\n",
    "\n",
    "\n",
    "#early stopping if validation auc stops improving\n",
    "early_stopping = tf.keras.callbacks.EarlyStopping(monitor='val_auc', #val_auc\n",
    "                                patience=30,\n",
    "                                mode='max',\n",
    "                                restore_best_weights=True)\n",
    "\n",
    "\n",
    "\n",
    "\n",
    "for train_data, train_groundTruth in train_ds:\n",
    "    for valid_data, valid_groundTruth in valid_ds:\n",
    "\n",
    "        valid_objects = make_object_detectionDS(params, \n",
    "                                                transform_normalized_uint8(valid_data[2]), \n",
    "                                                object_det_model)\n",
    "        train_objects = make_object_detectionDS(params,\n",
    "                                                transform_normalized_uint8(train_data[2]),\n",
    "                                                object_det_model)\n",
    "        train_Data = (train_data[0], train_data[1], train_data[2],  train_objects)\n",
    "        valid_Data = (valid_data[0], valid_data[1], valid_data[2], valid_objects)\n",
    "        history = model.fit(train_Data,  # train_data\n",
    "                            train_groundTruth, \n",
    "                            steps_per_epoch=25, \n",
    "                            validation_data=(valid_Data, valid_groundTruth), # valid_data\n",
    "                            validation_steps=5,\n",
    "                            callbacks=[early_stopping],\n",
    "                            class_weight=class_weights,\n",
    "                            epochs=250)\n"
   ]
  },
  {
   "cell_type": "code",
   "execution_count": 18,
   "metadata": {
    "colab": {},
    "colab_type": "code",
    "id": "WNQKf2Y08zw2"
   },
   "outputs": [],
   "source": [
    "def plot_metric(metric1, metric2, ylabel):\n",
    "    plt.plot(history.history[metric1], label=metric1)\n",
    "    plt.plot(history.history[metric2], label=metric2)\n",
    "    plt.ylabel(ylabel)\n",
    "    plt.xlabel('epoch')\n",
    "    plt.legend()\n",
    "    plt.show()"
   ]
  },
  {
   "cell_type": "code",
   "execution_count": 19,
   "metadata": {
    "colab": {
     "base_uri": "https://localhost:8080/",
     "height": 803
    },
    "colab_type": "code",
    "id": "_BG-kKjK83qC",
    "outputId": "b8f70d96-843a-4771-d904-c3029b2b0d5b"
   },
   "outputs": [
    {
     "data": {
      "image/png": "[encoded data removed]",
      "text/plain": [
       "<Figure size 432x288 with 1 Axes>"
      ]
     },
     "metadata": {
      "needs_background": "light",
      "tags": []
     },
     "output_type": "display_data"
    },
    {
     "data": {
      "image/png": "[encoded data removed]",
      "text/plain": [
       "<Figure size 432x288 with 1 Axes>"
      ]
     },
     "metadata": {
      "needs_background": "light",
      "tags": []
     },
     "output_type": "display_data"
    },
    {
     "data": {
      "image/png": "[encoded data removed]",
      "text/plain": [
       "<Figure size 432x288 with 1 Axes>"
      ]
     },
     "metadata": {
      "needs_background": "light",
      "tags": []
     },
     "output_type": "display_data"
    }
   ],
   "source": [
    "plot_metric('auc', 'val_auc', 'auc')\n",
    "plot_metric('loss', 'val_loss', 'loss')\n",
    "plot_metric('accuracy', 'val_accuracy', 'accuracy')"
   ]
  },
  {
   "cell_type": "code",
   "execution_count": 20,
   "metadata": {
    "colab": {
     "base_uri": "https://localhost:8080/",
     "height": 34
    },
    "colab_type": "code",
    "id": "NjL-SsIv-K5O",
    "outputId": "cb64c6d3-b365-4e4a-eaad-8ff426540d9c"
   },
   "outputs": [
    {
     "data": {
      "text/plain": [
       "0.6588281989097595"
      ]
     },
     "execution_count": 20,
     "metadata": {
      "tags": []
     },
     "output_type": "execute_result"
    }
   ],
   "source": [
    "max(history.history['val_auc']) #200 - 0.6404 //300 - 0.578 // 100 - 0.6441"
   ]
  },
  {
   "cell_type": "code",
   "execution_count": 21,
   "metadata": {
    "colab": {},
    "colab_type": "code",
    "id": "bE6q1VFf-ME7"
   },
   "outputs": [],
   "source": [
    "model_name = 'model_hateful_memes_v{}.h5'.format(params['version'])\n",
    "model.save(model_name)\n",
    "bucket = client.bucket('jh_hateful_memes')\n",
    "blob = bucket.blob(model_name)\n",
    "blob.upload_from_filename(model_name)#fix this"
   ]
  },
  {
   "cell_type": "code",
   "execution_count": 22,
   "metadata": {
    "colab": {
     "base_uri": "https://localhost:8080/",
     "height": 54
    },
    "colab_type": "code",
    "id": "Dh9c21R6lEZc",
    "outputId": "e1723d50-313e-4abf-a6cf-dd00e08b0b37"
   },
   "outputs": [
    {
     "name": "stderr",
     "output_type": "stream",
     "text": [
      "WARNING:google.auth._default:No project ID could be determined. Consider running `gcloud config set project` or setting the GOOGLE_CLOUD_PROJECT environment variable\n"
     ]
    }
   ],
   "source": [
    "#make into a fn\n",
    "bucket = 'jh_hateful_memes_test'\n",
    "client = storage.Client(project='hateful-memes', credentials=credentials)\n",
    "objects = client.list_blobs(bucket, prefix='hatefulmemes_')\n",
    "tfrecords = []\n",
    "for object_ in objects:\n",
    "    path = str(object_).split(', ')[1]\n",
    "    gs_path = os.path.join('gs://', bucket, path)\n",
    "    tfrecords.append(gs_path) #gs_path"
   ]
  },
  {
   "cell_type": "code",
   "execution_count": 22,
   "metadata": {
    "colab": {},
    "colab_type": "code",
    "id": "jU-hPa_8lMNP"
   },
   "outputs": [],
   "source": [
    ""
   ]
  },
  {
   "cell_type": "code",
   "execution_count": 23,
   "metadata": {
    "colab": {},
    "colab_type": "code",
    "id": "bcVbjWe8i-Kr"
   },
   "outputs": [],
   "source": [
    "test_ds, test_steps = create_ds(tfrecords, params, train=False)"
   ]
  },
  {
   "cell_type": "code",
   "execution_count": 25,
   "metadata": {
    "colab": {},
    "colab_type": "code",
    "id": "or7-zGBVlppw"
   },
   "outputs": [],
   "source": [
    "for x_test, ids in test_ds:\n",
    "\n",
    "\n",
    "    test_objects = make_object_detectionDS(params, \n",
    "                                           transform_normalized_uint8(x_test[2]),\n",
    "                                           object_det_model)\n",
    "    test_data = (x_test[0], x_test[1], x_test[2], test_objects)\n",
    "\n",
    "    predictions = model.predict(test_data, steps=10)\n",
    "    prediction_ids = ids"
   ]
  },
  {
   "cell_type": "code",
   "execution_count": 26,
   "metadata": {
    "colab": {},
    "colab_type": "code",
    "id": "ABcoxiAH_le8"
   },
   "outputs": [],
   "source": [
    "prediction_dict = {\n",
    "    'id': prediction_ids,\n",
    "    'proba': np.concatenate(predictions),\n",
    "    'label': np.ones(1000, int)\n",
    "}\n",
    "submission_ds = pd.DataFrame(prediction_dict)\n",
    "\n"
   ]
  },
  {
   "cell_type": "code",
   "execution_count": 27,
   "metadata": {
    "colab": {},
    "colab_type": "code",
    "id": "UC0AiCcELFFD"
   },
   "outputs": [],
   "source": [
    "submission_ds.to_csv('submission.csv', index=False)"
   ]
  },
  {
   "cell_type": "code",
   "execution_count": null,
   "metadata": {
    "colab": {},
    "colab_type": "code",
    "id": "9Hfi2d7UXUhn"
   },
   "outputs": [],
   "source": [
    ""
   ]
  }
 ],
 "metadata": {
  "accelerator": "TPU",
  "colab": {
   "collapsed_sections": [],
   "name": "two_input_model (1).ipynb",
   "provenance": []
  },
  "kernelspec": {
   "display_name": "Python 3",
   "language": "python",
   "name": "python3"
  },
  "language_info": {
   "codemirror_mode": {
    "name": "ipython",
    "version": 3
   },
   "file_extension": ".py",
   "mimetype": "text/x-python",
   "name": "python",
   "nbconvert_exporter": "python",
   "pygments_lexer": "ipython3",
   "version": "3.8.5"
  }
 },
 "nbformat": 4,
 "nbformat_minor": 0
}
