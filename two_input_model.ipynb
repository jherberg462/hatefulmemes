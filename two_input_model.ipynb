{
 "cells": [
  {
   "cell_type": "code",
   "execution_count": 1,
   "metadata": {
    "colab": {
     "base_uri": "https://localhost:8080/",
     "height": 34
    },
    "colab_type": "code",
    "id": "e4BdgGfH718Y",
    "outputId": "ed78d2bb-e024-4b82-815a-1e471e74d507"
   },
   "outputs": [
    {
     "name": "stdout",
     "output_type": "stream",
     "text": [
      "2.3.0\n"
     ]
    }
   ],
   "source": [
    "#set random seeds\n",
    "from numpy.random import seed\n",
    "seed(1)\n",
    "from tensorflow.random import set_seed\n",
    "set_seed(1)\n",
    "\n",
    "import pandas as pd\n",
    "import numpy as np\n",
    "\n",
    "#machine learning\n",
    "import tensorflow as tf\n",
    "print(tf.__version__)\n",
    "from tensorflow.keras import layers \n",
    "from tensorflow import keras\n",
    "from sklearn.model_selection import train_test_split\n",
    "\n",
    "#accessing files\n",
    "from google.cloud import storage\n",
    "import os\n",
    "\n",
    "#display charts/images\n",
    "import matplotlib.pyplot as plt\n",
    "\n",
    "#don't need\n",
    "# from tensorflow.python.keras.preprocessing import sequence\n",
    "# from tensorflow.python.keras.preprocessing import text\n",
    "# import tensorflow_hub as hub\n",
    "\n",
    "\n"
   ]
  },
  {
   "cell_type": "code",
   "execution_count": 2,
   "metadata": {
    "colab": {},
    "colab_type": "code",
    "id": "9__sYCZ7718e"
   },
   "outputs": [],
   "source": [
    "params = {\n",
    "    'image_size': [225, 225],\n",
    "    'text_input': (58,),\n",
    "    'batch_size': 512,\n",
    "    'vocab_size': 30000,\n",
    "    'examples_per_file': 850, #will not change\n",
    "    'test_examples_per_file': 500,\n",
    "    'version': 6 #model version number\n",
    "}"
   ]
  },
  {
   "cell_type": "code",
   "execution_count": 3,
   "metadata": {
    "colab": {},
    "colab_type": "code",
    "id": "g3ZOLb6A718k"
   },
   "outputs": [],
   "source": [
    "try:\n",
    "    from google.colab import auth\n",
    "    auth.authenticate_user()\n",
    "    credentials=None\n",
    "\n",
    "except ModuleNotFoundError:\n",
    "\n",
    "\n",
    "    from google.oauth2 import service_account\n",
    "\n",
    "    credentials = service_account.Credentials.from_service_account_file( #file location of GCS private key\n",
    "        '/Users/jeremiahherberg/Downloads/hateful-memes-af65c70c1b79.json')\n",
    "\n",
    "client = storage.Client(project='hateful-memes', credentials=credentials)"
   ]
  },
  {
   "cell_type": "code",
   "execution_count": 4,
   "metadata": {
    "colab": {},
    "colab_type": "code",
    "id": "3cjmD1w-718p"
   },
   "outputs": [],
   "source": [
    "num_examples_per_tfrecordfile = params['examples_per_file'] # 850 #this will not change"
   ]
  },
  {
   "cell_type": "code",
   "execution_count": 5,
   "metadata": {
    "colab": {},
    "colab_type": "code",
    "id": "BMUqKpKY718s"
   },
   "outputs": [],
   "source": [
    "bucket = 'jh_hateful_memes'\n",
    "client = storage.Client(project='hateful-memes', credentials=credentials)\n",
    "objects = client.list_blobs(bucket, prefix='hatefulmemes_')\n",
    "tfrecords = []\n",
    "for object_ in objects:\n",
    "    path = str(object_).split(', ')[1]\n",
    "    gs_path = os.path.join('gs://', bucket, path)\n",
    "    tfrecords.append(gs_path) #gs_path"
   ]
  },
  {
   "cell_type": "code",
   "execution_count": 6,
   "metadata": {
    "colab": {},
    "colab_type": "code",
    "id": "CogGhHQB718u"
   },
   "outputs": [],
   "source": [
    "# tfrecords"
   ]
  },
  {
   "cell_type": "code",
   "execution_count": 7,
   "metadata": {
    "colab": {
     "base_uri": "https://localhost:8080/",
     "height": 768
    },
    "colab_type": "code",
    "id": "VdrBIeYx718x",
    "outputId": "0fa19ba5-cff1-4b33-df11-c934f3ba9a0e"
   },
   "outputs": [
    {
     "name": "stdout",
     "output_type": "stream",
     "text": [
      "Running on TPU  grpc://10.39.36.122:8470\n",
      "INFO:tensorflow:Initializing the TPU system: grpc://10.39.36.122:8470\n"
     ]
    },
    {
     "name": "stderr",
     "output_type": "stream",
     "text": [
      "INFO:tensorflow:Initializing the TPU system: grpc://10.39.36.122:8470\n"
     ]
    },
    {
     "name": "stdout",
     "output_type": "stream",
     "text": [
      "INFO:tensorflow:Clearing out eager caches\n"
     ]
    },
    {
     "name": "stderr",
     "output_type": "stream",
     "text": [
      "INFO:tensorflow:Clearing out eager caches\n"
     ]
    },
    {
     "name": "stdout",
     "output_type": "stream",
     "text": [
      "INFO:tensorflow:Finished initializing TPU system.\n"
     ]
    },
    {
     "name": "stderr",
     "output_type": "stream",
     "text": [
      "INFO:tensorflow:Finished initializing TPU system.\n",
      "WARNING:absl:`tf.distribute.experimental.TPUStrategy` is deprecated, please use  the non experimental symbol `tf.distribute.TPUStrategy` instead.\n"
     ]
    },
    {
     "name": "stdout",
     "output_type": "stream",
     "text": [
      "INFO:tensorflow:Found TPU system:\n"
     ]
    },
    {
     "name": "stderr",
     "output_type": "stream",
     "text": [
      "INFO:tensorflow:Found TPU system:\n"
     ]
    },
    {
     "name": "stdout",
     "output_type": "stream",
     "text": [
      "INFO:tensorflow:*** Num TPU Cores: 8\n"
     ]
    },
    {
     "name": "stderr",
     "output_type": "stream",
     "text": [
      "INFO:tensorflow:*** Num TPU Cores: 8\n"
     ]
    },
    {
     "name": "stdout",
     "output_type": "stream",
     "text": [
      "INFO:tensorflow:*** Num TPU Workers: 1\n"
     ]
    },
    {
     "name": "stderr",
     "output_type": "stream",
     "text": [
      "INFO:tensorflow:*** Num TPU Workers: 1\n"
     ]
    },
    {
     "name": "stdout",
     "output_type": "stream",
     "text": [
      "INFO:tensorflow:*** Num TPU Cores Per Worker: 8\n"
     ]
    },
    {
     "name": "stderr",
     "output_type": "stream",
     "text": [
      "INFO:tensorflow:*** Num TPU Cores Per Worker: 8\n"
     ]
    },
    {
     "name": "stdout",
     "output_type": "stream",
     "text": [
      "INFO:tensorflow:*** Available Device: _DeviceAttributes(/job:localhost/replica:0/task:0/device:CPU:0, CPU, 0, 0)\n"
     ]
    },
    {
     "name": "stderr",
     "output_type": "stream",
     "text": [
      "INFO:tensorflow:*** Available Device: _DeviceAttributes(/job:localhost/replica:0/task:0/device:CPU:0, CPU, 0, 0)\n"
     ]
    },
    {
     "name": "stdout",
     "output_type": "stream",
     "text": [
      "INFO:tensorflow:*** Available Device: _DeviceAttributes(/job:localhost/replica:0/task:0/device:XLA_CPU:0, XLA_CPU, 0, 0)\n"
     ]
    },
    {
     "name": "stderr",
     "output_type": "stream",
     "text": [
      "INFO:tensorflow:*** Available Device: _DeviceAttributes(/job:localhost/replica:0/task:0/device:XLA_CPU:0, XLA_CPU, 0, 0)\n"
     ]
    },
    {
     "name": "stdout",
     "output_type": "stream",
     "text": [
      "INFO:tensorflow:*** Available Device: _DeviceAttributes(/job:worker/replica:0/task:0/device:CPU:0, CPU, 0, 0)\n"
     ]
    },
    {
     "name": "stderr",
     "output_type": "stream",
     "text": [
      "INFO:tensorflow:*** Available Device: _DeviceAttributes(/job:worker/replica:0/task:0/device:CPU:0, CPU, 0, 0)\n"
     ]
    },
    {
     "name": "stdout",
     "output_type": "stream",
     "text": [
      "INFO:tensorflow:*** Available Device: _DeviceAttributes(/job:worker/replica:0/task:0/device:TPU:0, TPU, 0, 0)\n"
     ]
    },
    {
     "name": "stderr",
     "output_type": "stream",
     "text": [
      "INFO:tensorflow:*** Available Device: _DeviceAttributes(/job:worker/replica:0/task:0/device:TPU:0, TPU, 0, 0)\n"
     ]
    },
    {
     "name": "stdout",
     "output_type": "stream",
     "text": [
      "INFO:tensorflow:*** Available Device: _DeviceAttributes(/job:worker/replica:0/task:0/device:TPU:1, TPU, 0, 0)\n"
     ]
    },
    {
     "name": "stderr",
     "output_type": "stream",
     "text": [
      "INFO:tensorflow:*** Available Device: _DeviceAttributes(/job:worker/replica:0/task:0/device:TPU:1, TPU, 0, 0)\n"
     ]
    },
    {
     "name": "stdout",
     "output_type": "stream",
     "text": [
      "INFO:tensorflow:*** Available Device: _DeviceAttributes(/job:worker/replica:0/task:0/device:TPU:2, TPU, 0, 0)\n"
     ]
    },
    {
     "name": "stderr",
     "output_type": "stream",
     "text": [
      "INFO:tensorflow:*** Available Device: _DeviceAttributes(/job:worker/replica:0/task:0/device:TPU:2, TPU, 0, 0)\n"
     ]
    },
    {
     "name": "stdout",
     "output_type": "stream",
     "text": [
      "INFO:tensorflow:*** Available Device: _DeviceAttributes(/job:worker/replica:0/task:0/device:TPU:3, TPU, 0, 0)\n"
     ]
    },
    {
     "name": "stderr",
     "output_type": "stream",
     "text": [
      "INFO:tensorflow:*** Available Device: _DeviceAttributes(/job:worker/replica:0/task:0/device:TPU:3, TPU, 0, 0)\n"
     ]
    },
    {
     "name": "stdout",
     "output_type": "stream",
     "text": [
      "INFO:tensorflow:*** Available Device: _DeviceAttributes(/job:worker/replica:0/task:0/device:TPU:4, TPU, 0, 0)\n"
     ]
    },
    {
     "name": "stderr",
     "output_type": "stream",
     "text": [
      "INFO:tensorflow:*** Available Device: _DeviceAttributes(/job:worker/replica:0/task:0/device:TPU:4, TPU, 0, 0)\n"
     ]
    },
    {
     "name": "stdout",
     "output_type": "stream",
     "text": [
      "INFO:tensorflow:*** Available Device: _DeviceAttributes(/job:worker/replica:0/task:0/device:TPU:5, TPU, 0, 0)\n"
     ]
    },
    {
     "name": "stderr",
     "output_type": "stream",
     "text": [
      "INFO:tensorflow:*** Available Device: _DeviceAttributes(/job:worker/replica:0/task:0/device:TPU:5, TPU, 0, 0)\n"
     ]
    },
    {
     "name": "stdout",
     "output_type": "stream",
     "text": [
      "INFO:tensorflow:*** Available Device: _DeviceAttributes(/job:worker/replica:0/task:0/device:TPU:6, TPU, 0, 0)\n"
     ]
    },
    {
     "name": "stderr",
     "output_type": "stream",
     "text": [
      "INFO:tensorflow:*** Available Device: _DeviceAttributes(/job:worker/replica:0/task:0/device:TPU:6, TPU, 0, 0)\n"
     ]
    },
    {
     "name": "stdout",
     "output_type": "stream",
     "text": [
      "INFO:tensorflow:*** Available Device: _DeviceAttributes(/job:worker/replica:0/task:0/device:TPU:7, TPU, 0, 0)\n"
     ]
    },
    {
     "name": "stderr",
     "output_type": "stream",
     "text": [
      "INFO:tensorflow:*** Available Device: _DeviceAttributes(/job:worker/replica:0/task:0/device:TPU:7, TPU, 0, 0)\n"
     ]
    },
    {
     "name": "stdout",
     "output_type": "stream",
     "text": [
      "INFO:tensorflow:*** Available Device: _DeviceAttributes(/job:worker/replica:0/task:0/device:TPU_SYSTEM:0, TPU_SYSTEM, 0, 0)\n"
     ]
    },
    {
     "name": "stderr",
     "output_type": "stream",
     "text": [
      "INFO:tensorflow:*** Available Device: _DeviceAttributes(/job:worker/replica:0/task:0/device:TPU_SYSTEM:0, TPU_SYSTEM, 0, 0)\n"
     ]
    },
    {
     "name": "stdout",
     "output_type": "stream",
     "text": [
      "INFO:tensorflow:*** Available Device: _DeviceAttributes(/job:worker/replica:0/task:0/device:XLA_CPU:0, XLA_CPU, 0, 0)\n"
     ]
    },
    {
     "name": "stderr",
     "output_type": "stream",
     "text": [
      "INFO:tensorflow:*** Available Device: _DeviceAttributes(/job:worker/replica:0/task:0/device:XLA_CPU:0, XLA_CPU, 0, 0)\n"
     ]
    },
    {
     "name": "stdout",
     "output_type": "stream",
     "text": [
      "REPLICAS:  8\n"
     ]
    }
   ],
   "source": [
    "try:\n",
    "    # TPU detection. No parameters necessary if TPU_NAME environment variable is\n",
    "    # set: this is always the case on Kaggle.\n",
    "    tpu = tf.distribute.cluster_resolver.TPUClusterResolver()\n",
    "    print('Running on TPU ', tpu.master())\n",
    "except ValueError:\n",
    "    tpu = None\n",
    "\n",
    "if tpu:\n",
    "    tf.config.experimental_connect_to_cluster(tpu)\n",
    "    tf.tpu.experimental.initialize_tpu_system(tpu)\n",
    "    strategy = tf.distribute.experimental.TPUStrategy(tpu)\n",
    "else:\n",
    "    # Default distribution strategy in Tensorflow. Works on CPU and single GPU.\n",
    "    strategy = tf.distribute.get_strategy()\n",
    "\n",
    "print(\"REPLICAS: \", strategy.num_replicas_in_sync)"
   ]
  },
  {
   "cell_type": "code",
   "execution_count": 8,
   "metadata": {
    "colab": {},
    "colab_type": "code",
    "id": "rm40cYA_718y"
   },
   "outputs": [],
   "source": [
    "def decode_example_train(example):\n",
    "    '''\n",
    "    decodes single tfexample from TFrecord file\n",
    "    '''\n",
    "    features = {'label': tf.io.FixedLenFeature([], tf.int64),\n",
    "                'text': tf.io.FixedLenFeature([], tf.string),\n",
    "                'text_lemma': tf.io.FixedLenFeature([], tf.string),\n",
    "                'text_lemma_no_stopwords': tf.io.FixedLenFeature([], tf.string),\n",
    "                'text_no_stopwords':tf.io.FixedLenFeature([], tf.string),\n",
    "                'image': tf.io.FixedLenFeature([], tf.string)}\n",
    "    single_example = tf.io.parse_single_example(example, features)\n",
    "    \n",
    "    text = tf.io.parse_tensor(single_example['text'], out_type=tf.int32)\n",
    "    textL = tf.io.parse_tensor(single_example['text_lemma'], out_type=tf.int32)\n",
    "    # text = tf.cast(text, tf.float32) \n",
    "    image = tf.io.decode_jpeg(single_example['image'], 3)\n",
    "    image = tf.image.resize_with_pad(image, *params['image_size'])\n",
    "    image = image / 255.0\n",
    "    label = single_example['label']\n",
    "    # label = tf.cast(label, tf.float32)\n",
    "    return text, textL, image, label\n",
    "\n",
    "def decode_example_test(example):\n",
    "    '''\n",
    "    decodes single tfexample from TFrecord file\n",
    "    '''\n",
    "    features = {'id': tf.io.FixedLenFeature([], tf.int64),\n",
    "                'text': tf.io.FixedLenFeature([], tf.string),\n",
    "                'text_lemma': tf.io.FixedLenFeature([], tf.string),\n",
    "                'text_lemma_no_stopwords': tf.io.FixedLenFeature([], tf.string),\n",
    "                'text_no_stopwords':tf.io.FixedLenFeature([], tf.string),\n",
    "                'image': tf.io.FixedLenFeature([], tf.string)}\n",
    "    single_example = tf.io.parse_single_example(example, features)\n",
    "    \n",
    "    text = tf.io.parse_tensor(single_example['text'], out_type=tf.int32)\n",
    "    textL = tf.io.parse_tensor(single_example['text_lemma'], out_type=tf.int32)\n",
    "    # text = tf.cast(text, tf.float32) \n",
    "    image = tf.io.decode_jpeg(single_example['image'], 3)\n",
    "    image = tf.image.resize_with_pad(image, *params['image_size'])\n",
    "    image = image / 255.0\n",
    "    label = single_example['id']\n",
    "    # label = tf.cast(label, tf.float32)\n",
    "    return text, textL, image, label\n",
    "\n",
    "def flip_image(text, textL, image, label): \n",
    "    '''\n",
    "    randombly flips image input\n",
    "    \n",
    "    args:\n",
    "        text: text output in ds\n",
    "        image: image output in ds\n",
    "        label: label output in ds (can also be id)\n",
    "    returns:\n",
    "        text, image, label\n",
    "        args will be otherwise unchanged\n",
    "    '''\n",
    "    \n",
    "    image = tf.image.random_flip_left_right(image)\n",
    "\n",
    "    return text, textL, image, label\n",
    "\n",
    "\n",
    "def convert_xy(text, textL, image, label): #needs to be called last\n",
    "    '''\n",
    "    transforms ds output from text, image, label -> (text, image), label\n",
    "    \n",
    "    args:\n",
    "        text: text output in ds\n",
    "        image: image output in ds\n",
    "        label: label output in ds (can also be id)\n",
    "    returns:\n",
    "        (text, image), label\n",
    "        args will be otherwise unchanged\n",
    "    '''\n",
    "    return (text, textL, image), label\n",
    "    \n",
    "    "
   ]
  },
  {
   "cell_type": "code",
   "execution_count": 9,
   "metadata": {
    "colab": {},
    "colab_type": "code",
    "id": "PZ0dHSjt7180"
   },
   "outputs": [],
   "source": [
    "def create_ds(files, params, train=True, test_examples=1000):\n",
    "    '''\n",
    "    function to create dataset for training/validation\n",
    "    \n",
    "    args:\n",
    "        files: list of str, filepaths of TFrecord files to be used in DS\n",
    "        params: dict with the following keys:\n",
    "            batch_size: int, batch size of training/validation step\n",
    "            examples_per_file: int, number of examples in each TFrecord file\n",
    "        train, bool, default True, indicator if the DS is for training\n",
    "        test_examples, int: default 1000 number of examples in test dataset\n",
    "    returns:\n",
    "        ds: tensorflow input pipeline with images, text and labels\n",
    "            output of ds is: (text, image), label\n",
    "        ds_batches: int, number of steps in each epoch based on the batch_size\n",
    "    '''\n",
    "    file_size = params['examples_per_file'] \n",
    "    batch_size = file_size * len(files)\n",
    "\n",
    "    ds = tf.data.TFRecordDataset(filenames = files)\n",
    "    if train:\n",
    "        ds = ds.map(decode_example_train, \n",
    "                    num_parallel_calls=tf.data.experimental.AUTOTUNE)\n",
    "        ds = ds.map(flip_image, num_parallel_calls=tf.data.experimental.AUTOTUNE)\n",
    "    else:\n",
    "        ds = ds.map(decode_example_test)\n",
    "    ds = ds.map(convert_xy, num_parallel_calls=tf.data.experimental.AUTOTUNE)\n",
    "    if train:\n",
    "        ds = ds.batch(batch_size, drop_remainder=True)\n",
    "    else:\n",
    "        ds = ds.batch(test_examples)\n",
    "    ds = ds.cache() \n",
    "    \n",
    "    ds_batches = 10 #(len(files) * file_size) // batch_size\n",
    "    return ds, ds_batches\n",
    "    \n",
    "    "
   ]
  },
  {
   "cell_type": "code",
   "execution_count": 10,
   "metadata": {
    "colab": {},
    "colab_type": "code",
    "id": "V6RbH_oRmjUU"
   },
   "outputs": [],
   "source": [
    "def pair_separableConv1D(x, \n",
    "                         filters, kernal_size, act, first_reg, sec_reg,\n",
    "                        maxpooling_poolsize):\n",
    "    '''\n",
    "    function to add the following layers to a Keras Functional model:\n",
    "        layers.SeparableConv1D\n",
    "        layers.SeparableConv1D\n",
    "        layers.MaxPooling1D\n",
    "    \n",
    "    args:\n",
    "        x: keras input layer, or series of layers that can be traced to input layer\n",
    "        kernal_size: int, kernal size for SeparableConv1D layers\n",
    "        act: str, activation for SeparableConv1D layers\n",
    "        first_reg, keras regularizer to pass into 1st conv layer\n",
    "        sec_reg, keras regularizer to pass into 2nd conv layer\n",
    "        maxpooling_poolsize: int, poolsize for maxpooling layer\n",
    "    \n",
    "    returns:\n",
    "        x: x that was input into fn with above layers added\n",
    "    '''\n",
    "    x = layers.SeparableConv1D(filters=filters, kernel_size=kernal_size, \n",
    "                              activation=act, padding='same',\n",
    "                              kernel_regularizer=first_reg)(x)\n",
    "    x = layers.SeparableConv1D(filters=filters, kernel_size=kernal_size, \n",
    "                              activation=act, padding='same',\n",
    "                              kernel_regularizer=sec_reg)(x)\n",
    "    x = layers.MaxPooling1D(pool_size=maxpooling_poolsize, padding='same')(x)\n",
    "    x = layers.BatchNormalization()(x)\n",
    "    return x"
   ]
  },
  {
   "cell_type": "code",
   "execution_count": 11,
   "metadata": {
    "colab": {},
    "colab_type": "code",
    "id": "Z7nJDhlumjUX"
   },
   "outputs": [],
   "source": [
    "def conv2dset(x, \n",
    "              conv_filter, kernel, regularizer=None, \n",
    "              maxpooling_poolsize=2, \n",
    "              conv_act=None, \n",
    "              dense_units=None, dense_act=None):\n",
    "    '''\n",
    "    function to add the following layers to a Keras Functional model:\n",
    "        layers.Conv2D\n",
    "        MaxPooling2D\n",
    "        Batchnormalization\n",
    "        (activation layer)\n",
    "        layers.Dense (if applicable)\n",
    "    \n",
    "    args:\n",
    "        x: keras input layer, or series of layers that can be traced to input layer\n",
    "        conv_filter: int, number of filters in Conv2D layer\n",
    "        kernel: int, kernel size in Conv2D layer\n",
    "        regularizer: keras.regularizers object, default: None, regularizer in \n",
    "            Conv2D layer\n",
    "        maxpooling_poolsize: int, default 2, poolsize for maxpooling layer\n",
    "        conv_act: keras layer (without the \"()\"), default None, activation\n",
    "            layer that will go after the batchnormalization layer\n",
    "        dense_units: int, default None, number of units in dense layer\n",
    "            if None, there will be no dense layer\n",
    "        dense_act: str, default None, activation in dense layer\n",
    "    \n",
    "    returns:\n",
    "        x: x that was input into fn with above layers added\n",
    "        \n",
    "    '''\n",
    "    x = layers.Conv2D(filters=conv_filter, kernel_size=kernel, padding='same', \n",
    "                      kernel_regularizer=regularizer)(x)\n",
    "    x = layers.MaxPooling2D(maxpooling_poolsize)(x)\n",
    "    # x = layers.BatchNormalization()(x)\n",
    "    if conv_act:\n",
    "        x = conv_act()(x)\n",
    "    if dense_units:\n",
    "        x = layers.Dense(dense_units, activation=dense_act)(x)\n",
    "    \n",
    "    return x\n",
    "\n"
   ]
  },
  {
   "cell_type": "code",
   "execution_count": 12,
   "metadata": {
    "colab": {},
    "colab_type": "code",
    "id": "aHOtR_XA7182"
   },
   "outputs": [],
   "source": [
    "def create_model(params=params,):\n",
    "    '''\n",
    "    creates model with two inputs and out output\n",
    "\n",
    "        \n",
    "    '''\n",
    "    #set some fixed variables\n",
    "    text_input_shape = params['text_input']\n",
    "    vocab_size = params['vocab_size']\n",
    "    image_size = params['image_size']\n",
    "    dense_nodes = 300\n",
    "    ltsm_units = 128\n",
    "    ltsm_dense_units = 64\n",
    "    relu = layers.ReLU\n",
    "    reg = keras.regularizers.l2(0.001,)\n",
    "    \n",
    "    #model inputs\n",
    "    input_text = layers.Input(text_input_shape, name='text_input')\n",
    "    embedding = layers.Embedding(input_dim=vocab_size, output_dim=64, \n",
    "                                 input_length=58, mask_zero=True)(input_text)\n",
    "    input_lemma = layers.Input(text_input_shape, name='test_lemma_input')\n",
    "    lemma_embedding = layers.Embedding(input_dim=vocab_size, output_dim=64,\n",
    "                                       input_length=58, mask_zero=True)(input_lemma)\n",
    "    input_image = layers.Input((*image_size, 3), name='image_input')\n",
    "\n",
    "\n",
    "    #bidirectional LSTM - original text\n",
    "    x_bidir = embedding\n",
    "    x_bidir = layers.Bidirectional(layers.LSTM(ltsm_units))(x_bidir)\n",
    "    x_bidir = layers.Dense(ltsm_dense_units, activation = 'relu')(x_bidir)\n",
    "    x_bidir_out = layers.Dense(dense_nodes, activation='sigmoid', name='bidirectional_out')(x_bidir)\n",
    "\n",
    "    #1D convolution - original text\n",
    "    x_text = embedding\n",
    "    x_text = pair_separableConv1D(x_text, 128, 4, 'relu', reg, None, 4)\n",
    "    x_text = pair_separableConv1D(x_text, 128, 4, 'relu', None, None, 4)\n",
    "    x_text = layers.Flatten()(x_text)\n",
    "    x_text = layers.Dense(dense_nodes, activation='tanh',kernel_regularizer=reg)(x_text)\n",
    "    output_layer_text = layers.Dense(dense_nodes, activation='sigmoid', name='text_output')(x_text)\n",
    "\n",
    "\n",
    "    #1D convolution - lemma\n",
    "    x_lemma = lemma_embedding\n",
    "    x_lemma = pair_separableConv1D(x_lemma, 128, 4, 'relu', reg, None, 4)\n",
    "    x_lemma = pair_separableConv1D(x_lemma, 128, 4, 'relu', None, None, 4)\n",
    "    x_lemma = layers.Flatten()(x_lemma)\n",
    "    # x_lemma = layers.Dense(dense_nodes, activation='tanh',kernel_regularizer=reg)(x_lemma)\n",
    "    output_layer_lemma = layers.Dense(dense_nodes, activation='sigmoid', name='text_output_lemma')(x_lemma)\n",
    "\n",
    "    #bidirectional LSTM - lemma\n",
    "    x_bidirL = lemma_embedding\n",
    "    x_bidirL = layers.Bidirectional(layers.LSTM(ltsm_units))(x_bidirL)\n",
    "    x_bidirL = layers.Dense(ltsm_dense_units, activation = 'relu')(x_bidirL)\n",
    "    x_bidir_outL = layers.Dense(dense_nodes, activation='sigmoid', name='bidirectional_out_lemma')(x_bidirL)\n",
    "\n",
    "\n",
    "    #images\n",
    "    x_img = input_image\n",
    "    x_img = conv2dset(x_img, 64, 5, reg, 2, relu, 16, 'tanh')\n",
    "    x_img = conv2dset(x_img, 128, 5, reg, 2,  relu, 1, 'tanh') #16, 'tanh'\n",
    "    x_img = layers.Flatten()(x_img)\n",
    "    # x_img = layers.Dense(dense_nodes, activation='tanh', kernel_regularizer=reg)(x_img) \n",
    "    output_layer_image = layers.Dense(dense_nodes, activation='softmax', name='image_out')(x_img)\n",
    "    \n",
    "    text_outputs = layers.Concatenate()([x_bidir_out, output_layer_text, output_layer_lemma, x_bidir_outL])\n",
    "    text_outputs = layers.Dense(dense_nodes)(text_outputs)\n",
    "    \n",
    "    #only one output for images\n",
    "    image_outputs = output_layer_image\n",
    "    x = layers.Concatenate()([image_outputs, text_outputs])\n",
    "    \n",
    "    # x = tf.stack([ image_outputs,text_outputs])\n",
    "    x = layers.Reshape(( 2, dense_nodes))(x)\n",
    "    x = layers.LSTM(64)(x)\n",
    "    # x = layers.Dense(dense_nodes)(x)\n",
    "    x = layers.Flatten()(x)\n",
    "    #consider adding an intrum dense layer here\n",
    "    final_output = layers.Dense(1, activation='sigmoid', name='final_out')(x)\n",
    "    \n",
    "    model = keras.Model([input_text, input_lemma, input_image], final_output)\n",
    "    metrics = [\n",
    "          keras.metrics.TruePositives(name='tp'),\n",
    "    #           keras.metrics.FalsePositives(name='fp'),\n",
    "    #           keras.metrics.TrueNegatives(name='tn'),\n",
    "          keras.metrics.FalseNegatives(name='fn'), \n",
    "          keras.metrics.BinaryAccuracy(name='accuracy'),\n",
    "    #           keras.metrics.Precision(name='precision'),\n",
    "    #           keras.metrics.Recall(name='recall'),\n",
    "          keras.metrics.AUC(name='auc'),\n",
    "    ]\n",
    "    schedule = tf.keras.optimizers.schedules.ExponentialDecay(0.0003, 10 *3, 0.75)\n",
    "    model.compile(\n",
    "    optimizer=tf.keras.optimizers.Adam(schedule),\n",
    "    loss = tf.keras.losses.BinaryCrossentropy(label_smoothing = 0.01),\n",
    "    metrics=metrics)\n",
    "    \n",
    "    return model\n",
    "    \n"
   ]
  },
  {
   "cell_type": "code",
   "execution_count": 13,
   "metadata": {
    "colab": {},
    "colab_type": "code",
    "id": "_tHu8tJA7184"
   },
   "outputs": [],
   "source": [
    "train_files, valid_files = train_test_split(tfrecords,\n",
    "                              test_size=.2, random_state=1)\n"
   ]
  },
  {
   "cell_type": "code",
   "execution_count": 14,
   "metadata": {
    "colab": {},
    "colab_type": "code",
    "id": "alJt8bQV7185"
   },
   "outputs": [],
   "source": [
    "train_ds, train_steps = create_ds(train_files, params)\n",
    "valid_ds, valid_steps = create_ds(valid_files, params)"
   ]
  },
  {
   "cell_type": "code",
   "execution_count": 15,
   "metadata": {
    "colab": {
     "base_uri": "https://localhost:8080/",
     "height": 1000
    },
    "colab_type": "code",
    "id": "S25BV5he7187",
    "outputId": "db42b59b-4a49-4fe6-d282-b8d77d763703"
   },
   "outputs": [
    {
     "name": "stdout",
     "output_type": "stream",
     "text": [
      "Model: \"functional_1\"\n",
      "__________________________________________________________________________________________________\n",
      "Layer (type)                    Output Shape         Param #     Connected to                     \n",
      "==================================================================================================\n",
      "text_input (InputLayer)         [(None, 58)]         0                                            \n",
      "__________________________________________________________________________________________________\n",
      "embedding (Embedding)           (None, 58, 64)       1920000     text_input[0][0]                 \n",
      "__________________________________________________________________________________________________\n",
      "test_lemma_input (InputLayer)   [(None, 58)]         0                                            \n",
      "__________________________________________________________________________________________________\n",
      "separable_conv1d (SeparableConv (None, 58, 128)      8576        embedding[0][0]                  \n",
      "__________________________________________________________________________________________________\n",
      "embedding_1 (Embedding)         (None, 58, 64)       1920000     test_lemma_input[0][0]           \n",
      "__________________________________________________________________________________________________\n",
      "separable_conv1d_1 (SeparableCo (None, 58, 128)      17024       separable_conv1d[0][0]           \n",
      "__________________________________________________________________________________________________\n",
      "separable_conv1d_4 (SeparableCo (None, 58, 128)      8576        embedding_1[0][0]                \n",
      "__________________________________________________________________________________________________\n",
      "image_input (InputLayer)        [(None, 225, 225, 3) 0                                            \n",
      "__________________________________________________________________________________________________\n",
      "max_pooling1d (MaxPooling1D)    (None, 15, 128)      0           separable_conv1d_1[0][0]         \n",
      "__________________________________________________________________________________________________\n",
      "separable_conv1d_5 (SeparableCo (None, 58, 128)      17024       separable_conv1d_4[0][0]         \n",
      "__________________________________________________________________________________________________\n",
      "conv2d (Conv2D)                 (None, 225, 225, 64) 4864        image_input[0][0]                \n",
      "__________________________________________________________________________________________________\n",
      "batch_normalization (BatchNorma (None, 15, 128)      512         max_pooling1d[0][0]              \n",
      "__________________________________________________________________________________________________\n",
      "max_pooling1d_2 (MaxPooling1D)  (None, 15, 128)      0           separable_conv1d_5[0][0]         \n",
      "__________________________________________________________________________________________________\n",
      "max_pooling2d (MaxPooling2D)    (None, 112, 112, 64) 0           conv2d[0][0]                     \n",
      "__________________________________________________________________________________________________\n",
      "separable_conv1d_2 (SeparableCo (None, 15, 128)      17024       batch_normalization[0][0]        \n",
      "__________________________________________________________________________________________________\n",
      "batch_normalization_2 (BatchNor (None, 15, 128)      512         max_pooling1d_2[0][0]            \n",
      "__________________________________________________________________________________________________\n",
      "re_lu (ReLU)                    (None, 112, 112, 64) 0           max_pooling2d[0][0]              \n",
      "__________________________________________________________________________________________________\n",
      "separable_conv1d_3 (SeparableCo (None, 15, 128)      17024       separable_conv1d_2[0][0]         \n",
      "__________________________________________________________________________________________________\n",
      "separable_conv1d_6 (SeparableCo (None, 15, 128)      17024       batch_normalization_2[0][0]      \n",
      "__________________________________________________________________________________________________\n",
      "dense_3 (Dense)                 (None, 112, 112, 16) 1040        re_lu[0][0]                      \n",
      "__________________________________________________________________________________________________\n",
      "max_pooling1d_1 (MaxPooling1D)  (None, 4, 128)       0           separable_conv1d_3[0][0]         \n",
      "__________________________________________________________________________________________________\n",
      "separable_conv1d_7 (SeparableCo (None, 15, 128)      17024       separable_conv1d_6[0][0]         \n",
      "__________________________________________________________________________________________________\n",
      "conv2d_1 (Conv2D)               (None, 112, 112, 128 51328       dense_3[0][0]                    \n",
      "__________________________________________________________________________________________________\n",
      "batch_normalization_1 (BatchNor (None, 4, 128)       512         max_pooling1d_1[0][0]            \n",
      "__________________________________________________________________________________________________\n",
      "max_pooling1d_3 (MaxPooling1D)  (None, 4, 128)       0           separable_conv1d_7[0][0]         \n",
      "__________________________________________________________________________________________________\n",
      "max_pooling2d_1 (MaxPooling2D)  (None, 56, 56, 128)  0           conv2d_1[0][0]                   \n",
      "__________________________________________________________________________________________________\n",
      "bidirectional (Bidirectional)   (None, 256)          197632      embedding[0][0]                  \n",
      "__________________________________________________________________________________________________\n",
      "flatten (Flatten)               (None, 512)          0           batch_normalization_1[0][0]      \n",
      "__________________________________________________________________________________________________\n",
      "batch_normalization_3 (BatchNor (None, 4, 128)       512         max_pooling1d_3[0][0]            \n",
      "__________________________________________________________________________________________________\n",
      "bidirectional_1 (Bidirectional) (None, 256)          197632      embedding_1[0][0]                \n",
      "__________________________________________________________________________________________________\n",
      "re_lu_1 (ReLU)                  (None, 56, 56, 128)  0           max_pooling2d_1[0][0]            \n",
      "__________________________________________________________________________________________________\n",
      "dense (Dense)                   (None, 64)           16448       bidirectional[0][0]              \n",
      "__________________________________________________________________________________________________\n",
      "dense_1 (Dense)                 (None, 300)          153900      flatten[0][0]                    \n",
      "__________________________________________________________________________________________________\n",
      "flatten_1 (Flatten)             (None, 512)          0           batch_normalization_3[0][0]      \n",
      "__________________________________________________________________________________________________\n",
      "dense_2 (Dense)                 (None, 64)           16448       bidirectional_1[0][0]            \n",
      "__________________________________________________________________________________________________\n",
      "dense_4 (Dense)                 (None, 56, 56, 1)    129         re_lu_1[0][0]                    \n",
      "__________________________________________________________________________________________________\n",
      "bidirectional_out (Dense)       (None, 300)          19500       dense[0][0]                      \n",
      "__________________________________________________________________________________________________\n",
      "text_output (Dense)             (None, 300)          90300       dense_1[0][0]                    \n",
      "__________________________________________________________________________________________________\n",
      "text_output_lemma (Dense)       (None, 300)          153900      flatten_1[0][0]                  \n",
      "__________________________________________________________________________________________________\n",
      "bidirectional_out_lemma (Dense) (None, 300)          19500       dense_2[0][0]                    \n",
      "__________________________________________________________________________________________________\n",
      "flatten_2 (Flatten)             (None, 3136)         0           dense_4[0][0]                    \n",
      "__________________________________________________________________________________________________\n",
      "concatenate (Concatenate)       (None, 1200)         0           bidirectional_out[0][0]          \n",
      "                                                                 text_output[0][0]                \n",
      "                                                                 text_output_lemma[0][0]          \n",
      "                                                                 bidirectional_out_lemma[0][0]    \n",
      "__________________________________________________________________________________________________\n",
      "image_out (Dense)               (None, 300)          941100      flatten_2[0][0]                  \n",
      "__________________________________________________________________________________________________\n",
      "dense_5 (Dense)                 (None, 300)          360300      concatenate[0][0]                \n",
      "__________________________________________________________________________________________________\n",
      "concatenate_1 (Concatenate)     (None, 600)          0           image_out[0][0]                  \n",
      "                                                                 dense_5[0][0]                    \n",
      "__________________________________________________________________________________________________\n",
      "reshape (Reshape)               (None, 2, 300)       0           concatenate_1[0][0]              \n",
      "__________________________________________________________________________________________________\n",
      "lstm_2 (LSTM)                   (None, 64)           93440       reshape[0][0]                    \n",
      "__________________________________________________________________________________________________\n",
      "flatten_3 (Flatten)             (None, 64)           0           lstm_2[0][0]                     \n",
      "__________________________________________________________________________________________________\n",
      "final_out (Dense)               (None, 1)            65          flatten_3[0][0]                  \n",
      "==================================================================================================\n",
      "Total params: 6,278,870\n",
      "Trainable params: 6,277,846\n",
      "Non-trainable params: 1,024\n",
      "__________________________________________________________________________________________________\n"
     ]
    }
   ],
   "source": [
    "tf.random.set_seed(1)\n",
    "np.random.seed(1)\n",
    "with strategy.scope():\n",
    "    model = create_model()\n",
    "    model.summary()"
   ]
  },
  {
   "cell_type": "code",
   "execution_count": 16,
   "metadata": {
    "colab": {
     "base_uri": "https://localhost:8080/",
     "height": 1000
    },
    "colab_type": "code",
    "id": "dbYqcMyy718-",
    "outputId": "680a78ed-72c5-41f0-d3c8-6f7242e5bdc8"
   },
   "outputs": [
    {
     "name": "stdout",
     "output_type": "stream",
     "text": [
      "Epoch 1/250\n",
      " 2/10 [=====>........................] - ETA: 0s - loss: 1.1160 - tp: 231.0000 - fn: 225.0000 - accuracy: 0.5044 - auc: 0.5049  WARNING:tensorflow:Callbacks method `on_train_batch_end` is slow compared to the batch time (batch time: 0.0062s vs `on_train_batch_end` time: 0.1979s). Check your callbacks.\n"
     ]
    },
    {
     "name": "stderr",
     "output_type": "stream",
     "text": [
      "WARNING:tensorflow:Callbacks method `on_train_batch_end` is slow compared to the batch time (batch time: 0.0062s vs `on_train_batch_end` time: 0.1979s). Check your callbacks.\n"
     ]
    },
    {
     "name": "stdout",
     "output_type": "stream",
     "text": [
      "10/10 [==============================] - ETA: 0s - loss: 1.0969 - tp: 1492.0000 - fn: 980.0000 - accuracy: 0.4753 - auc: 0.5109WARNING:tensorflow:From /usr/local/lib/python3.6/dist-packages/tensorflow/python/data/ops/multi_device_iterator_ops.py:601: get_next_as_optional (from tensorflow.python.data.ops.iterator_ops) is deprecated and will be removed in a future version.\n",
      "Instructions for updating:\n",
      "Use `tf.data.Iterator.get_next_as_optional()` instead.\n"
     ]
    },
    {
     "name": "stderr",
     "output_type": "stream",
     "text": [
      "WARNING:tensorflow:From /usr/local/lib/python3.6/dist-packages/tensorflow/python/data/ops/multi_device_iterator_ops.py:601: get_next_as_optional (from tensorflow.python.data.ops.iterator_ops) is deprecated and will be removed in a future version.\n",
      "Instructions for updating:\n",
      "Use `tf.data.Iterator.get_next_as_optional()` instead.\n"
     ]
    },
    {
     "name": "stdout",
     "output_type": "stream",
     "text": [
      "WARNING:tensorflow:Callbacks method `on_test_batch_end` is slow compared to the batch time (batch time: 0.0022s vs `on_test_batch_end` time: 0.0585s). Check your callbacks.\n"
     ]
    },
    {
     "name": "stderr",
     "output_type": "stream",
     "text": [
      "WARNING:tensorflow:Callbacks method `on_test_batch_end` is slow compared to the batch time (batch time: 0.0022s vs `on_test_batch_end` time: 0.0585s). Check your callbacks.\n"
     ]
    },
    {
     "name": "stdout",
     "output_type": "stream",
     "text": [
      "\b\b\b\b\b\b\b\b\b\b\b\b\b\b\b\b\b\b\b\b\b\b\b\b\b\b\b\b\b\b\b\b\b\b\b\b\b\b\b\b\b\b\b\b\b\b\b\b\b\b\b\b\b\b\b\b\b\b\b\b\b\b\b\b\b\b\b\b\b\b\b\b\b\b\b\b\b\b\b\b\b\b\b\b\b\b\b\b\b\b\b\b\b\b\b\b\b\b\b\b\b\b\b\b\b\b\b\b\b\b\b\b\b\b\b\b\b\b\b\b\b\b\b\b\b\b\b\r10/10 [==============================] - 14s 1s/step - loss: 1.0969 - tp: 1492.0000 - fn: 980.0000 - accuracy: 0.4753 - auc: 0.5109 - val_loss: 1.0455 - val_tp: 0.0000e+00 - val_fn: 578.0000 - val_accuracy: 0.6600 - val_auc: 0.5000\n",
      "Epoch 2/250\n",
      "10/10 [==============================] - 3s 255ms/step - loss: 1.0511 - tp: 1235.0000 - fn: 1237.0000 - accuracy: 0.4997 - auc: 0.4970 - val_loss: 1.0462 - val_tp: 578.0000 - val_fn: 0.0000e+00 - val_accuracy: 0.3400 - val_auc: 0.5000\n",
      "Epoch 3/250\n",
      "10/10 [==============================] - 3s 280ms/step - loss: 1.0166 - tp: 985.0000 - fn: 1487.0000 - accuracy: 0.5262 - auc: 0.4970 - val_loss: 0.9976 - val_tp: 0.0000e+00 - val_fn: 578.0000 - val_accuracy: 0.6600 - val_auc: 0.5000\n",
      "Epoch 4/250\n",
      "10/10 [==============================] - 3s 256ms/step - loss: 0.9887 - tp: 2240.0000 - fn: 232.0000 - accuracy: 0.3956 - auc: 0.4993 - val_loss: 0.9799 - val_tp: 578.0000 - val_fn: 0.0000e+00 - val_accuracy: 0.3400 - val_auc: 0.5000\n",
      "Epoch 5/250\n",
      "10/10 [==============================] - 3s 255ms/step - loss: 0.9660 - tp: 2220.0000 - fn: 252.0000 - accuracy: 0.3894 - auc: 0.4981 - val_loss: 0.9497 - val_tp: 0.0000e+00 - val_fn: 578.0000 - val_accuracy: 0.6600 - val_auc: 0.5000\n",
      "Epoch 6/250\n",
      "10/10 [==============================] - 3s 258ms/step - loss: 0.9467 - tp: 488.0000 - fn: 1984.0000 - accuracy: 0.5800 - auc: 0.5002 - val_loss: 0.9434 - val_tp: 578.0000 - val_fn: 0.0000e+00 - val_accuracy: 0.3400 - val_auc: 0.5000\n",
      "Epoch 7/250\n",
      "10/10 [==============================] - 3s 262ms/step - loss: 0.9304 - tp: 2269.0000 - fn: 203.0000 - accuracy: 0.3888 - auc: 0.4938 - val_loss: 0.9181 - val_tp: 0.0000e+00 - val_fn: 578.0000 - val_accuracy: 0.6600 - val_auc: 0.5000\n",
      "Epoch 8/250\n",
      "10/10 [==============================] - 3s 290ms/step - loss: 0.9161 - tp: 1805.0000 - fn: 667.0000 - accuracy: 0.4393 - auc: 0.4996 - val_loss: 0.9089 - val_tp: 578.0000 - val_fn: 0.0000e+00 - val_accuracy: 0.3400 - val_auc: 0.5027\n",
      "Epoch 9/250\n",
      "10/10 [==============================] - 3s 260ms/step - loss: 0.9042 - tp: 890.0000 - fn: 1582.0000 - accuracy: 0.5322 - auc: 0.5066 - val_loss: 0.9027 - val_tp: 578.0000 - val_fn: 0.0000e+00 - val_accuracy: 0.3400 - val_auc: 0.5000\n",
      "Epoch 10/250\n",
      "10/10 [==============================] - 3s 258ms/step - loss: 0.8934 - tp: 2472.0000 - fn: 0.0000e+00 - accuracy: 0.3635 - auc: 0.5325 - val_loss: 0.8916 - val_tp: 578.0000 - val_fn: 0.0000e+00 - val_accuracy: 0.3400 - val_auc: 0.5000\n",
      "Epoch 11/250\n",
      "10/10 [==============================] - 3s 260ms/step - loss: 0.8839 - tp: 2374.0000 - fn: 98.0000 - accuracy: 0.3838 - auc: 0.5548 - val_loss: 0.8783 - val_tp: 578.0000 - val_fn: 0.0000e+00 - val_accuracy: 0.3400 - val_auc: 0.5000\n",
      "Epoch 12/250\n",
      "10/10 [==============================] - 3s 259ms/step - loss: 0.8754 - tp: 1336.0000 - fn: 1136.0000 - accuracy: 0.5646 - auc: 0.5743 - val_loss: 0.8703 - val_tp: 0.0000e+00 - val_fn: 578.0000 - val_accuracy: 0.6600 - val_auc: 0.5000\n",
      "Epoch 13/250\n",
      "10/10 [==============================] - 3s 261ms/step - loss: 0.8675 - tp: 1667.0000 - fn: 805.0000 - accuracy: 0.5087 - auc: 0.5705 - val_loss: 0.8689 - val_tp: 578.0000 - val_fn: 0.0000e+00 - val_accuracy: 0.3400 - val_auc: 0.5017\n",
      "Epoch 14/250\n",
      "10/10 [==============================] - 3s 288ms/step - loss: 0.8598 - tp: 1637.0000 - fn: 835.0000 - accuracy: 0.5244 - auc: 0.5783 - val_loss: 0.8566 - val_tp: 0.0000e+00 - val_fn: 578.0000 - val_accuracy: 0.6600 - val_auc: 0.5147\n",
      "Epoch 15/250\n",
      "10/10 [==============================] - 3s 259ms/step - loss: 0.8521 - tp: 1683.0000 - fn: 789.0000 - accuracy: 0.5297 - auc: 0.5854 - val_loss: 0.8476 - val_tp: 0.0000e+00 - val_fn: 578.0000 - val_accuracy: 0.6600 - val_auc: 0.5000\n",
      "Epoch 16/250\n",
      "10/10 [==============================] - 3s 259ms/step - loss: 0.8439 - tp: 1351.0000 - fn: 1121.0000 - accuracy: 0.5740 - auc: 0.5904 - val_loss: 0.8341 - val_tp: 0.0000e+00 - val_fn: 578.0000 - val_accuracy: 0.6600 - val_auc: 0.5000\n",
      "Epoch 17/250\n",
      "10/10 [==============================] - 3s 283ms/step - loss: 0.8372 - tp: 1356.0000 - fn: 1116.0000 - accuracy: 0.5782 - auc: 0.5918 - val_loss: 0.8261 - val_tp: 0.0000e+00 - val_fn: 578.0000 - val_accuracy: 0.6600 - val_auc: 0.5901\n",
      "Epoch 18/250\n",
      "10/10 [==============================] - 3s 257ms/step - loss: 0.8305 - tp: 1426.0000 - fn: 1046.0000 - accuracy: 0.5725 - auc: 0.5994 - val_loss: 0.8183 - val_tp: 0.0000e+00 - val_fn: 578.0000 - val_accuracy: 0.6600 - val_auc: 0.5638\n",
      "Epoch 19/250\n",
      "10/10 [==============================] - 3s 290ms/step - loss: 0.8247 - tp: 1224.0000 - fn: 1248.0000 - accuracy: 0.6060 - auc: 0.6079 - val_loss: 0.8326 - val_tp: 0.0000e+00 - val_fn: 578.0000 - val_accuracy: 0.6600 - val_auc: 0.5948\n",
      "Epoch 20/250\n",
      "10/10 [==============================] - 3s 293ms/step - loss: 0.8174 - tp: 1444.0000 - fn: 1028.0000 - accuracy: 0.5874 - auc: 0.6210 - val_loss: 0.8051 - val_tp: 0.0000e+00 - val_fn: 578.0000 - val_accuracy: 0.6600 - val_auc: 0.5982\n",
      "Epoch 21/250\n",
      "10/10 [==============================] - 3s 295ms/step - loss: 0.8076 - tp: 1425.0000 - fn: 1047.0000 - accuracy: 0.6118 - auc: 0.6393 - val_loss: 0.8008 - val_tp: 0.0000e+00 - val_fn: 578.0000 - val_accuracy: 0.6600 - val_auc: 0.6160\n",
      "Epoch 22/250\n",
      "10/10 [==============================] - 3s 292ms/step - loss: 0.7969 - tp: 1391.0000 - fn: 1081.0000 - accuracy: 0.6340 - auc: 0.6568 - val_loss: 0.8007 - val_tp: 0.0000e+00 - val_fn: 578.0000 - val_accuracy: 0.6600 - val_auc: 0.6288\n",
      "Epoch 23/250\n",
      "10/10 [==============================] - 3s 286ms/step - loss: 0.7853 - tp: 1426.0000 - fn: 1046.0000 - accuracy: 0.6453 - auc: 0.6748 - val_loss: 0.7917 - val_tp: 0.0000e+00 - val_fn: 578.0000 - val_accuracy: 0.6600 - val_auc: 0.6355\n",
      "Epoch 24/250\n",
      "10/10 [==============================] - 3s 259ms/step - loss: 0.7735 - tp: 1478.0000 - fn: 994.0000 - accuracy: 0.6497 - auc: 0.6906 - val_loss: 0.7786 - val_tp: 0.0000e+00 - val_fn: 578.0000 - val_accuracy: 0.6600 - val_auc: 0.6311\n",
      "Epoch 25/250\n",
      "10/10 [==============================] - 3s 258ms/step - loss: 0.7593 - tp: 1489.0000 - fn: 983.0000 - accuracy: 0.6719 - auc: 0.7095 - val_loss: 0.7745 - val_tp: 0.0000e+00 - val_fn: 578.0000 - val_accuracy: 0.6600 - val_auc: 0.6309\n",
      "Epoch 26/250\n",
      "10/10 [==============================] - 3s 257ms/step - loss: 0.7474 - tp: 1499.0000 - fn: 973.0000 - accuracy: 0.6838 - auc: 0.7236 - val_loss: 0.7702 - val_tp: 0.0000e+00 - val_fn: 578.0000 - val_accuracy: 0.6600 - val_auc: 0.6237\n",
      "Epoch 27/250\n",
      "10/10 [==============================] - 3s 255ms/step - loss: 0.7363 - tp: 1526.0000 - fn: 946.0000 - accuracy: 0.6946 - auc: 0.7362 - val_loss: 0.7658 - val_tp: 0.0000e+00 - val_fn: 578.0000 - val_accuracy: 0.6600 - val_auc: 0.6079\n",
      "Epoch 28/250\n",
      "10/10 [==============================] - 3s 259ms/step - loss: 0.7233 - tp: 1566.0000 - fn: 906.0000 - accuracy: 0.7072 - auc: 0.7513 - val_loss: 0.7640 - val_tp: 1.0000 - val_fn: 577.0000 - val_accuracy: 0.6606 - val_auc: 0.6048\n",
      "Epoch 29/250\n",
      "10/10 [==============================] - 3s 258ms/step - loss: 0.7121 - tp: 1577.0000 - fn: 895.0000 - accuracy: 0.7176 - auc: 0.7641 - val_loss: 0.7618 - val_tp: 1.0000 - val_fn: 577.0000 - val_accuracy: 0.6606 - val_auc: 0.5885\n",
      "Epoch 30/250\n",
      "10/10 [==============================] - 3s 254ms/step - loss: 0.7021 - tp: 1578.0000 - fn: 894.0000 - accuracy: 0.7241 - auc: 0.7751 - val_loss: 0.7604 - val_tp: 6.0000 - val_fn: 572.0000 - val_accuracy: 0.6635 - val_auc: 0.5833\n",
      "Epoch 31/250\n",
      "10/10 [==============================] - 3s 261ms/step - loss: 0.6947 - tp: 1640.0000 - fn: 832.0000 - accuracy: 0.7251 - auc: 0.7824 - val_loss: 0.7611 - val_tp: 5.0000 - val_fn: 573.0000 - val_accuracy: 0.6629 - val_auc: 0.5772\n",
      "Epoch 32/250\n",
      "10/10 [==============================] - 3s 256ms/step - loss: 0.6869 - tp: 1646.0000 - fn: 826.0000 - accuracy: 0.7413 - auc: 0.7905 - val_loss: 0.7593 - val_tp: 12.0000 - val_fn: 566.0000 - val_accuracy: 0.6665 - val_auc: 0.5763\n",
      "Epoch 33/250\n",
      "10/10 [==============================] - 3s 258ms/step - loss: 0.6797 - tp: 1651.0000 - fn: 821.0000 - accuracy: 0.7415 - auc: 0.7973 - val_loss: 0.7588 - val_tp: 16.0000 - val_fn: 562.0000 - val_accuracy: 0.6682 - val_auc: 0.5770\n",
      "Epoch 34/250\n",
      "10/10 [==============================] - 3s 300ms/step - loss: 0.6755 - tp: 1659.0000 - fn: 813.0000 - accuracy: 0.7476 - auc: 0.8003 - val_loss: 0.7590 - val_tp: 17.0000 - val_fn: 561.0000 - val_accuracy: 0.6688 - val_auc: 0.5747\n",
      "Epoch 35/250\n",
      "10/10 [==============================] - 3s 264ms/step - loss: 0.6690 - tp: 1719.0000 - fn: 753.0000 - accuracy: 0.7443 - auc: 0.8069 - val_loss: 0.7585 - val_tp: 19.0000 - val_fn: 559.0000 - val_accuracy: 0.6694 - val_auc: 0.5742\n",
      "Epoch 36/250\n",
      "10/10 [==============================] - 3s 261ms/step - loss: 0.6649 - tp: 1705.0000 - fn: 767.0000 - accuracy: 0.7509 - auc: 0.8104 - val_loss: 0.7587 - val_tp: 19.0000 - val_fn: 559.0000 - val_accuracy: 0.6700 - val_auc: 0.5749\n",
      "Epoch 37/250\n",
      "10/10 [==============================] - 3s 259ms/step - loss: 0.6618 - tp: 1743.0000 - fn: 729.0000 - accuracy: 0.7507 - auc: 0.8127 - val_loss: 0.7575 - val_tp: 21.0000 - val_fn: 557.0000 - val_accuracy: 0.6700 - val_auc: 0.5771\n",
      "Epoch 38/250\n",
      "10/10 [==============================] - 3s 259ms/step - loss: 0.6589 - tp: 1703.0000 - fn: 769.0000 - accuracy: 0.7568 - auc: 0.8150 - val_loss: 0.7574 - val_tp: 21.0000 - val_fn: 557.0000 - val_accuracy: 0.6700 - val_auc: 0.5776\n",
      "Epoch 39/250\n",
      "10/10 [==============================] - 3s 257ms/step - loss: 0.6572 - tp: 1746.0000 - fn: 726.0000 - accuracy: 0.7512 - auc: 0.8154 - val_loss: 0.7566 - val_tp: 27.0000 - val_fn: 551.0000 - val_accuracy: 0.6735 - val_auc: 0.5783\n",
      "Epoch 40/250\n",
      "10/10 [==============================] - 3s 258ms/step - loss: 0.6536 - tp: 1726.0000 - fn: 746.0000 - accuracy: 0.7547 - auc: 0.8189 - val_loss: 0.7553 - val_tp: 28.0000 - val_fn: 550.0000 - val_accuracy: 0.6729 - val_auc: 0.5797\n",
      "Epoch 41/250\n",
      "10/10 [==============================] - 3s 258ms/step - loss: 0.6511 - tp: 1748.0000 - fn: 724.0000 - accuracy: 0.7556 - auc: 0.8203 - val_loss: 0.7546 - val_tp: 29.0000 - val_fn: 549.0000 - val_accuracy: 0.6724 - val_auc: 0.5817\n",
      "Epoch 42/250\n",
      "10/10 [==============================] - 3s 259ms/step - loss: 0.6497 - tp: 1746.0000 - fn: 726.0000 - accuracy: 0.7609 - auc: 0.8212 - val_loss: 0.7542 - val_tp: 29.0000 - val_fn: 549.0000 - val_accuracy: 0.6724 - val_auc: 0.5819\n",
      "Epoch 43/250\n",
      "10/10 [==============================] - 3s 258ms/step - loss: 0.6475 - tp: 1743.0000 - fn: 729.0000 - accuracy: 0.7579 - auc: 0.8232 - val_loss: 0.7527 - val_tp: 33.0000 - val_fn: 545.0000 - val_accuracy: 0.6729 - val_auc: 0.5844\n",
      "Epoch 44/250\n",
      "10/10 [==============================] - 3s 261ms/step - loss: 0.6464 - tp: 1726.0000 - fn: 746.0000 - accuracy: 0.7572 - auc: 0.8242 - val_loss: 0.7520 - val_tp: 38.0000 - val_fn: 540.0000 - val_accuracy: 0.6753 - val_auc: 0.5848\n",
      "Epoch 45/250\n",
      "10/10 [==============================] - 3s 257ms/step - loss: 0.6442 - tp: 1764.0000 - fn: 708.0000 - accuracy: 0.7591 - auc: 0.8259 - val_loss: 0.7507 - val_tp: 43.0000 - val_fn: 535.0000 - val_accuracy: 0.6771 - val_auc: 0.5876\n",
      "Epoch 46/250\n",
      "10/10 [==============================] - 3s 256ms/step - loss: 0.6448 - tp: 1752.0000 - fn: 720.0000 - accuracy: 0.7553 - auc: 0.8242 - val_loss: 0.7497 - val_tp: 47.0000 - val_fn: 531.0000 - val_accuracy: 0.6782 - val_auc: 0.5889\n",
      "Epoch 47/250\n",
      "10/10 [==============================] - 3s 258ms/step - loss: 0.6425 - tp: 1758.0000 - fn: 714.0000 - accuracy: 0.7603 - auc: 0.8264 - val_loss: 0.7485 - val_tp: 48.0000 - val_fn: 530.0000 - val_accuracy: 0.6788 - val_auc: 0.5919\n",
      "Epoch 48/250\n",
      "10/10 [==============================] - 3s 258ms/step - loss: 0.6417 - tp: 1748.0000 - fn: 724.0000 - accuracy: 0.7578 - auc: 0.8269 - val_loss: 0.7474 - val_tp: 52.0000 - val_fn: 526.0000 - val_accuracy: 0.6794 - val_auc: 0.5931\n",
      "Epoch 49/250\n",
      "10/10 [==============================] - 3s 260ms/step - loss: 0.6408 - tp: 1763.0000 - fn: 709.0000 - accuracy: 0.7628 - auc: 0.8272 - val_loss: 0.7464 - val_tp: 55.0000 - val_fn: 523.0000 - val_accuracy: 0.6800 - val_auc: 0.5955\n",
      "Epoch 50/250\n",
      "10/10 [==============================] - 3s 253ms/step - loss: 0.6402 - tp: 1753.0000 - fn: 719.0000 - accuracy: 0.7612 - auc: 0.8279 - val_loss: 0.7450 - val_tp: 64.0000 - val_fn: 514.0000 - val_accuracy: 0.6829 - val_auc: 0.5976\n",
      "Epoch 51/250\n",
      "10/10 [==============================] - 3s 256ms/step - loss: 0.6387 - tp: 1760.0000 - fn: 712.0000 - accuracy: 0.7619 - auc: 0.8293 - val_loss: 0.7436 - val_tp: 68.0000 - val_fn: 510.0000 - val_accuracy: 0.6835 - val_auc: 0.6005\n",
      "Epoch 52/250\n",
      "10/10 [==============================] - 3s 257ms/step - loss: 0.6380 - tp: 1764.0000 - fn: 708.0000 - accuracy: 0.7607 - auc: 0.8299 - val_loss: 0.7423 - val_tp: 71.0000 - val_fn: 507.0000 - val_accuracy: 0.6829 - val_auc: 0.6034\n",
      "Epoch 53/250\n",
      "10/10 [==============================] - 3s 254ms/step - loss: 0.6390 - tp: 1759.0000 - fn: 713.0000 - accuracy: 0.7618 - auc: 0.8287 - val_loss: 0.7410 - val_tp: 76.0000 - val_fn: 502.0000 - val_accuracy: 0.6847 - val_auc: 0.6061\n",
      "Epoch 54/250\n",
      "10/10 [==============================] - 3s 257ms/step - loss: 0.6380 - tp: 1770.0000 - fn: 702.0000 - accuracy: 0.7619 - auc: 0.8291 - val_loss: 0.7396 - val_tp: 83.0000 - val_fn: 495.0000 - val_accuracy: 0.6829 - val_auc: 0.6091\n",
      "Epoch 55/250\n",
      "10/10 [==============================] - 3s 256ms/step - loss: 0.6377 - tp: 1762.0000 - fn: 710.0000 - accuracy: 0.7599 - auc: 0.8296 - val_loss: 0.7382 - val_tp: 87.0000 - val_fn: 491.0000 - val_accuracy: 0.6824 - val_auc: 0.6121\n",
      "Epoch 56/250\n",
      "10/10 [==============================] - 3s 259ms/step - loss: 0.6361 - tp: 1775.0000 - fn: 697.0000 - accuracy: 0.7628 - auc: 0.8309 - val_loss: 0.7369 - val_tp: 95.0000 - val_fn: 483.0000 - val_accuracy: 0.6841 - val_auc: 0.6153\n",
      "Epoch 57/250\n",
      "10/10 [==============================] - 3s 258ms/step - loss: 0.6367 - tp: 1757.0000 - fn: 715.0000 - accuracy: 0.7619 - auc: 0.8300 - val_loss: 0.7356 - val_tp: 103.0000 - val_fn: 475.0000 - val_accuracy: 0.6853 - val_auc: 0.6182\n",
      "Epoch 58/250\n",
      "10/10 [==============================] - 3s 258ms/step - loss: 0.6360 - tp: 1777.0000 - fn: 695.0000 - accuracy: 0.7662 - auc: 0.8305 - val_loss: 0.7343 - val_tp: 107.0000 - val_fn: 471.0000 - val_accuracy: 0.6841 - val_auc: 0.6203\n",
      "Epoch 59/250\n",
      "10/10 [==============================] - 3s 259ms/step - loss: 0.6358 - tp: 1777.0000 - fn: 695.0000 - accuracy: 0.7643 - auc: 0.8302 - val_loss: 0.7333 - val_tp: 113.0000 - val_fn: 465.0000 - val_accuracy: 0.6865 - val_auc: 0.6235\n",
      "Epoch 60/250\n",
      "10/10 [==============================] - 3s 257ms/step - loss: 0.6352 - tp: 1756.0000 - fn: 716.0000 - accuracy: 0.7622 - auc: 0.8316 - val_loss: 0.7322 - val_tp: 123.0000 - val_fn: 455.0000 - val_accuracy: 0.6882 - val_auc: 0.6263\n",
      "Epoch 61/250\n",
      "10/10 [==============================] - 3s 254ms/step - loss: 0.6353 - tp: 1769.0000 - fn: 703.0000 - accuracy: 0.7609 - auc: 0.8311 - val_loss: 0.7314 - val_tp: 128.0000 - val_fn: 450.0000 - val_accuracy: 0.6865 - val_auc: 0.6291\n",
      "Epoch 62/250\n",
      "10/10 [==============================] - 3s 255ms/step - loss: 0.6350 - tp: 1779.0000 - fn: 693.0000 - accuracy: 0.7643 - auc: 0.8311 - val_loss: 0.7306 - val_tp: 138.0000 - val_fn: 440.0000 - val_accuracy: 0.6888 - val_auc: 0.6313\n",
      "Epoch 63/250\n",
      "10/10 [==============================] - 4s 439ms/step - loss: 0.6350 - tp: 1781.0000 - fn: 691.0000 - accuracy: 0.7638 - auc: 0.8311 - val_loss: 0.7301 - val_tp: 147.0000 - val_fn: 431.0000 - val_accuracy: 0.6876 - val_auc: 0.6337\n"
     ]
    }
   ],
   "source": [
    "#calculate class weights\n",
    "target_0 = 5450 #these values will not change (are from review of test ds)\n",
    "target_1 = 3050\n",
    "total = target_0 + target_1\n",
    "\n",
    "class_weight_0 = (1 / target_0) * (total) / 2.0\n",
    "class_weight_1 = (1 / target_1) * (total) / 2.0\n",
    "\n",
    "class_weights = {0: class_weight_0, 1: class_weight_1}\n",
    "\n",
    "\n",
    "#early stopping if validation auc stops improving\n",
    "early_stopping = tf.keras.callbacks.EarlyStopping(monitor='val_auc', #val_auc\n",
    "                                patience=40,\n",
    "                                mode='max',\n",
    "                                restore_best_weights=True)\n",
    "\n",
    "\n",
    "\n",
    "\n",
    "for train_data, train_groundTruth in train_ds:\n",
    "    for valid_data, valid_groundTruth in valid_ds:\n",
    "        history = model.fit(train_data, \n",
    "                            train_groundTruth, \n",
    "                            steps_per_epoch=10, \n",
    "                            validation_data=(valid_data, valid_groundTruth), \n",
    "                            validation_steps=2,\n",
    "                            callbacks=[early_stopping],\n",
    "                            class_weight=class_weights,\n",
    "                            epochs=250)\n"
   ]
  },
  {
   "cell_type": "code",
   "execution_count": 26,
   "metadata": {
    "colab": {},
    "colab_type": "code",
    "id": "WNQKf2Y08zw2"
   },
   "outputs": [],
   "source": [
    "def plot_metric(metric1, metric2, ylabel):\n",
    "    plt.plot(history.history[metric1], label=metric1)\n",
    "    plt.plot(history.history[metric2], label=metric2)\n",
    "    plt.ylabel(ylabel)\n",
    "    plt.xlabel('epoch')\n",
    "    plt.legend()\n",
    "    plt.show()"
   ]
  },
  {
   "cell_type": "code",
   "execution_count": 18,
   "metadata": {
    "colab": {
     "base_uri": "https://localhost:8080/",
     "height": 803
    },
    "colab_type": "code",
    "id": "_BG-kKjK83qC",
    "outputId": "97b3b558-3d5b-459d-e5cb-2273f09c9590"
   },
   "outputs": [
    {
     "data": {
      "image/png": "[encoded data removed]",
      "text/plain": [
       "<Figure size 432x288 with 1 Axes>"
      ]
     },
     "metadata": {
      "needs_background": "light",
      "tags": []
     },
     "output_type": "display_data"
    },
    {
     "data": {
      "image/png": "[encoded data removed]",
      "text/plain": [
       "<Figure size 432x288 with 1 Axes>"
      ]
     },
     "metadata": {
      "needs_background": "light",
      "tags": []
     },
     "output_type": "display_data"
    },
    {
     "data": {
      "image/png": "[encoded data removed]",
      "text/plain": [
       "<Figure size 432x288 with 1 Axes>"
      ]
     },
     "metadata": {
      "needs_background": "light",
      "tags": []
     },
     "output_type": "display_data"
    }
   ],
   "source": [
    "plot_metric('auc', 'val_auc', 'auc')\n",
    "plot_metric('loss', 'val_loss', 'loss')\n",
    "plot_metric('accuracy', 'val_accuracy', 'accuracy')"
   ]
  },
  {
   "cell_type": "code",
   "execution_count": 19,
   "metadata": {
    "colab": {
     "base_uri": "https://localhost:8080/",
     "height": 34
    },
    "colab_type": "code",
    "id": "NjL-SsIv-K5O",
    "outputId": "9ad41306-cc1f-4058-c035-8fadfbfddc8d"
   },
   "outputs": [
    {
     "data": {
      "text/plain": [
       "0.635473906993866"
      ]
     },
     "execution_count": 19,
     "metadata": {
      "tags": []
     },
     "output_type": "execute_result"
    }
   ],
   "source": [
    "max(history.history['val_auc']) #300 - 0.6647 #250 - 0.6612 #200 - 0.569 #350 - 0.638"
   ]
  },
  {
   "cell_type": "code",
   "execution_count": 20,
   "metadata": {
    "colab": {},
    "colab_type": "code",
    "id": "bE6q1VFf-ME7"
   },
   "outputs": [],
   "source": [
    "model_name = 'model_hateful_memes_v{}.h5'.format(params['version'])\n",
    "model.save(model_name)\n",
    "bucket = client.bucket('jh_hateful_memes')\n",
    "blob = bucket.blob(model_name)\n",
    "blob.upload_from_filename(model_name)#fix this"
   ]
  },
  {
   "cell_type": "code",
   "execution_count": 21,
   "metadata": {
    "colab": {
     "base_uri": "https://localhost:8080/",
     "height": 54
    },
    "colab_type": "code",
    "id": "Dh9c21R6lEZc",
    "outputId": "766ee21f-7f8a-432f-cc6d-ba320a7dbcff"
   },
   "outputs": [
    {
     "name": "stderr",
     "output_type": "stream",
     "text": [
      "WARNING:google.auth._default:No project ID could be determined. Consider running `gcloud config set project` or setting the GOOGLE_CLOUD_PROJECT environment variable\n"
     ]
    }
   ],
   "source": [
    "#make into a fn\n",
    "bucket = 'jh_hateful_memes_test'\n",
    "client = storage.Client(project='hateful-memes', credentials=credentials)\n",
    "objects = client.list_blobs(bucket, prefix='hatefulmemes_')\n",
    "tfrecords = []\n",
    "for object_ in objects:\n",
    "    path = str(object_).split(', ')[1]\n",
    "    gs_path = os.path.join('gs://', bucket, path)\n",
    "    tfrecords.append(gs_path) #gs_path"
   ]
  },
  {
   "cell_type": "code",
   "execution_count": 21,
   "metadata": {
    "colab": {},
    "colab_type": "code",
    "id": "jU-hPa_8lMNP"
   },
   "outputs": [],
   "source": [
    ""
   ]
  },
  {
   "cell_type": "code",
   "execution_count": 22,
   "metadata": {
    "colab": {},
    "colab_type": "code",
    "id": "bcVbjWe8i-Kr"
   },
   "outputs": [],
   "source": [
    "test_ds, test_steps = create_ds(tfrecords, params, train=False)"
   ]
  },
  {
   "cell_type": "code",
   "execution_count": 23,
   "metadata": {
    "colab": {},
    "colab_type": "code",
    "id": "or7-zGBVlppw"
   },
   "outputs": [],
   "source": [
    "for x_test, ids in test_ds:\n",
    "    predictions = model.predict(x_test, steps=test_steps)\n",
    "    prediction_ids = ids"
   ]
  },
  {
   "cell_type": "code",
   "execution_count": 24,
   "metadata": {
    "colab": {},
    "colab_type": "code",
    "id": "ABcoxiAH_le8"
   },
   "outputs": [],
   "source": [
    "prediction_dict = {\n",
    "    'id': prediction_ids,\n",
    "    'proba': np.concatenate(predictions),\n",
    "    'label': np.ones(1000, int)\n",
    "}\n",
    "submission_ds = pd.DataFrame(prediction_dict)\n",
    "\n"
   ]
  },
  {
   "cell_type": "code",
   "execution_count": 25,
   "metadata": {
    "colab": {},
    "colab_type": "code",
    "id": "UC0AiCcELFFD"
   },
   "outputs": [],
   "source": [
    "submission_ds.to_csv('submission.csv', index=False)"
   ]
  },
  {
   "cell_type": "code",
   "execution_count": 25,
   "metadata": {
    "colab": {},
    "colab_type": "code",
    "id": "6jRRG4aSybhh"
   },
   "outputs": [],
   "source": [
    ""
   ]
  },
  {
   "cell_type": "code",
   "execution_count": 25,
   "metadata": {
    "colab": {},
    "colab_type": "code",
    "id": "KDEZ4oV8ybhi"
   },
   "outputs": [],
   "source": [
    ""
   ]
  }
 ],
 "metadata": {
  "accelerator": "TPU",
  "colab": {
   "collapsed_sections": [],
   "name": "two_input_model (1).ipynb",
   "provenance": []
  },
  "kernelspec": {
   "display_name": "Python 3",
   "language": "python",
   "name": "python3"
  },
  "language_info": {
   "codemirror_mode": {
    "name": "ipython",
    "version": 3
   },
   "file_extension": ".py",
   "mimetype": "text/x-python",
   "name": "python",
   "nbconvert_exporter": "python",
   "pygments_lexer": "ipython3",
   "version": "3.7.3"
  }
 },
 "nbformat": 4,
 "nbformat_minor": 0
}
