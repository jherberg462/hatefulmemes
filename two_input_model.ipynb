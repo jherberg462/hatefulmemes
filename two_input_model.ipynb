{
 "cells": [
  {
   "cell_type": "code",
   "execution_count": 1,
   "metadata": {
    "colab": {
     "base_uri": "https://localhost:8080/",
     "height": 34
    },
    "colab_type": "code",
    "id": "e4BdgGfH718Y",
    "outputId": "f303e0cd-e0d0-486b-e2b7-82468c5e53a2"
   },
   "outputs": [
    {
     "name": "stdout",
     "output_type": "stream",
     "text": [
      "2.3.0\n"
     ]
    }
   ],
   "source": [
    "import pandas as pd\n",
    "import numpy as np\n",
    "\n",
    "#machine learning\n",
    "import tensorflow as tf\n",
    "print(tf.__version__)\n",
    "from tensorflow.keras import layers \n",
    "from tensorflow import keras\n",
    "from sklearn.model_selection import train_test_split\n",
    "\n",
    "#accessing files\n",
    "from google.cloud import storage\n",
    "import os\n",
    "\n",
    "#display charts/images\n",
    "import matplotlib.pyplot as plt\n",
    "\n",
    "#don't need\n",
    "# from tensorflow.python.keras.preprocessing import sequence\n",
    "# from tensorflow.python.keras.preprocessing import text\n",
    "# import tensorflow_hub as hub\n",
    "\n",
    "#set random seed\n",
    "tf.random.set_seed(1)\n"
   ]
  },
  {
   "cell_type": "code",
   "execution_count": 2,
   "metadata": {
    "colab": {},
    "colab_type": "code",
    "id": "9__sYCZ7718e"
   },
   "outputs": [],
   "source": [
    "params = {\n",
    "    'image_size': [225, 225],\n",
    "    'text_input': (58,),\n",
    "    'batch_size': 512,\n",
    "    'vocab_size': 30000,\n",
    "    'examples_per_file': 850, #will not change\n",
    "    'test_examples_per_file': 500\n",
    "}"
   ]
  },
  {
   "cell_type": "code",
   "execution_count": 3,
   "metadata": {
    "colab": {},
    "colab_type": "code",
    "id": "g3ZOLb6A718k"
   },
   "outputs": [],
   "source": [
    "try:\n",
    "    from google.colab import auth\n",
    "    auth.authenticate_user()\n",
    "    credentials=None\n",
    "\n",
    "except ModuleNotFoundError:\n",
    "\n",
    "\n",
    "    from google.oauth2 import service_account\n",
    "\n",
    "    credentials = service_account.Credentials.from_service_account_file( #file location of GCS private key\n",
    "        '/Users/jeremiahherberg/Downloads/hateful-memes-af65c70c1b79.json')\n",
    "\n",
    "    client = storage.Client(project='hateful-memes', credentials=credentials)"
   ]
  },
  {
   "cell_type": "code",
   "execution_count": 4,
   "metadata": {
    "colab": {},
    "colab_type": "code",
    "id": "3cjmD1w-718p"
   },
   "outputs": [],
   "source": [
    "num_examples_per_tfrecordfile = params['examples_per_file'] # 850 #this will not change"
   ]
  },
  {
   "cell_type": "code",
   "execution_count": 5,
   "metadata": {
    "colab": {},
    "colab_type": "code",
    "id": "BMUqKpKY718s"
   },
   "outputs": [],
   "source": [
    "bucket = 'jh_hateful_memes'\n",
    "client = storage.Client(project='hateful-memes', credentials=credentials)\n",
    "objects = client.list_blobs(bucket, prefix='hatefulmemes_')\n",
    "tfrecords = []\n",
    "for object_ in objects:\n",
    "    path = str(object_).split(', ')[1]\n",
    "    gs_path = os.path.join('gs://', bucket, path)\n",
    "    tfrecords.append(gs_path) #gs_path"
   ]
  },
  {
   "cell_type": "code",
   "execution_count": 6,
   "metadata": {
    "colab": {},
    "colab_type": "code",
    "id": "CogGhHQB718u"
   },
   "outputs": [],
   "source": [
    "# tfrecords"
   ]
  },
  {
   "cell_type": "code",
   "execution_count": 7,
   "metadata": {
    "colab": {
     "base_uri": "https://localhost:8080/",
     "height": 768
    },
    "colab_type": "code",
    "id": "VdrBIeYx718x",
    "outputId": "a781b27a-ca68-43d0-e4a9-112abadbb151"
   },
   "outputs": [
    {
     "name": "stdout",
     "output_type": "stream",
     "text": [
      "Running on TPU  grpc://10.25.253.170:8470\n",
      "INFO:tensorflow:Initializing the TPU system: grpc://10.25.253.170:8470\n"
     ]
    },
    {
     "name": "stderr",
     "output_type": "stream",
     "text": [
      "INFO:tensorflow:Initializing the TPU system: grpc://10.25.253.170:8470\n"
     ]
    },
    {
     "name": "stdout",
     "output_type": "stream",
     "text": [
      "INFO:tensorflow:Clearing out eager caches\n"
     ]
    },
    {
     "name": "stderr",
     "output_type": "stream",
     "text": [
      "INFO:tensorflow:Clearing out eager caches\n"
     ]
    },
    {
     "name": "stdout",
     "output_type": "stream",
     "text": [
      "INFO:tensorflow:Finished initializing TPU system.\n"
     ]
    },
    {
     "name": "stderr",
     "output_type": "stream",
     "text": [
      "INFO:tensorflow:Finished initializing TPU system.\n",
      "WARNING:absl:`tf.distribute.experimental.TPUStrategy` is deprecated, please use  the non experimental symbol `tf.distribute.TPUStrategy` instead.\n"
     ]
    },
    {
     "name": "stdout",
     "output_type": "stream",
     "text": [
      "INFO:tensorflow:Found TPU system:\n"
     ]
    },
    {
     "name": "stderr",
     "output_type": "stream",
     "text": [
      "INFO:tensorflow:Found TPU system:\n"
     ]
    },
    {
     "name": "stdout",
     "output_type": "stream",
     "text": [
      "INFO:tensorflow:*** Num TPU Cores: 8\n"
     ]
    },
    {
     "name": "stderr",
     "output_type": "stream",
     "text": [
      "INFO:tensorflow:*** Num TPU Cores: 8\n"
     ]
    },
    {
     "name": "stdout",
     "output_type": "stream",
     "text": [
      "INFO:tensorflow:*** Num TPU Workers: 1\n"
     ]
    },
    {
     "name": "stderr",
     "output_type": "stream",
     "text": [
      "INFO:tensorflow:*** Num TPU Workers: 1\n"
     ]
    },
    {
     "name": "stdout",
     "output_type": "stream",
     "text": [
      "INFO:tensorflow:*** Num TPU Cores Per Worker: 8\n"
     ]
    },
    {
     "name": "stderr",
     "output_type": "stream",
     "text": [
      "INFO:tensorflow:*** Num TPU Cores Per Worker: 8\n"
     ]
    },
    {
     "name": "stdout",
     "output_type": "stream",
     "text": [
      "INFO:tensorflow:*** Available Device: _DeviceAttributes(/job:localhost/replica:0/task:0/device:CPU:0, CPU, 0, 0)\n"
     ]
    },
    {
     "name": "stderr",
     "output_type": "stream",
     "text": [
      "INFO:tensorflow:*** Available Device: _DeviceAttributes(/job:localhost/replica:0/task:0/device:CPU:0, CPU, 0, 0)\n"
     ]
    },
    {
     "name": "stdout",
     "output_type": "stream",
     "text": [
      "INFO:tensorflow:*** Available Device: _DeviceAttributes(/job:localhost/replica:0/task:0/device:XLA_CPU:0, XLA_CPU, 0, 0)\n"
     ]
    },
    {
     "name": "stderr",
     "output_type": "stream",
     "text": [
      "INFO:tensorflow:*** Available Device: _DeviceAttributes(/job:localhost/replica:0/task:0/device:XLA_CPU:0, XLA_CPU, 0, 0)\n"
     ]
    },
    {
     "name": "stdout",
     "output_type": "stream",
     "text": [
      "INFO:tensorflow:*** Available Device: _DeviceAttributes(/job:worker/replica:0/task:0/device:CPU:0, CPU, 0, 0)\n"
     ]
    },
    {
     "name": "stderr",
     "output_type": "stream",
     "text": [
      "INFO:tensorflow:*** Available Device: _DeviceAttributes(/job:worker/replica:0/task:0/device:CPU:0, CPU, 0, 0)\n"
     ]
    },
    {
     "name": "stdout",
     "output_type": "stream",
     "text": [
      "INFO:tensorflow:*** Available Device: _DeviceAttributes(/job:worker/replica:0/task:0/device:TPU:0, TPU, 0, 0)\n"
     ]
    },
    {
     "name": "stderr",
     "output_type": "stream",
     "text": [
      "INFO:tensorflow:*** Available Device: _DeviceAttributes(/job:worker/replica:0/task:0/device:TPU:0, TPU, 0, 0)\n"
     ]
    },
    {
     "name": "stdout",
     "output_type": "stream",
     "text": [
      "INFO:tensorflow:*** Available Device: _DeviceAttributes(/job:worker/replica:0/task:0/device:TPU:1, TPU, 0, 0)\n"
     ]
    },
    {
     "name": "stderr",
     "output_type": "stream",
     "text": [
      "INFO:tensorflow:*** Available Device: _DeviceAttributes(/job:worker/replica:0/task:0/device:TPU:1, TPU, 0, 0)\n"
     ]
    },
    {
     "name": "stdout",
     "output_type": "stream",
     "text": [
      "INFO:tensorflow:*** Available Device: _DeviceAttributes(/job:worker/replica:0/task:0/device:TPU:2, TPU, 0, 0)\n"
     ]
    },
    {
     "name": "stderr",
     "output_type": "stream",
     "text": [
      "INFO:tensorflow:*** Available Device: _DeviceAttributes(/job:worker/replica:0/task:0/device:TPU:2, TPU, 0, 0)\n"
     ]
    },
    {
     "name": "stdout",
     "output_type": "stream",
     "text": [
      "INFO:tensorflow:*** Available Device: _DeviceAttributes(/job:worker/replica:0/task:0/device:TPU:3, TPU, 0, 0)\n"
     ]
    },
    {
     "name": "stderr",
     "output_type": "stream",
     "text": [
      "INFO:tensorflow:*** Available Device: _DeviceAttributes(/job:worker/replica:0/task:0/device:TPU:3, TPU, 0, 0)\n"
     ]
    },
    {
     "name": "stdout",
     "output_type": "stream",
     "text": [
      "INFO:tensorflow:*** Available Device: _DeviceAttributes(/job:worker/replica:0/task:0/device:TPU:4, TPU, 0, 0)\n"
     ]
    },
    {
     "name": "stderr",
     "output_type": "stream",
     "text": [
      "INFO:tensorflow:*** Available Device: _DeviceAttributes(/job:worker/replica:0/task:0/device:TPU:4, TPU, 0, 0)\n"
     ]
    },
    {
     "name": "stdout",
     "output_type": "stream",
     "text": [
      "INFO:tensorflow:*** Available Device: _DeviceAttributes(/job:worker/replica:0/task:0/device:TPU:5, TPU, 0, 0)\n"
     ]
    },
    {
     "name": "stderr",
     "output_type": "stream",
     "text": [
      "INFO:tensorflow:*** Available Device: _DeviceAttributes(/job:worker/replica:0/task:0/device:TPU:5, TPU, 0, 0)\n"
     ]
    },
    {
     "name": "stdout",
     "output_type": "stream",
     "text": [
      "INFO:tensorflow:*** Available Device: _DeviceAttributes(/job:worker/replica:0/task:0/device:TPU:6, TPU, 0, 0)\n"
     ]
    },
    {
     "name": "stderr",
     "output_type": "stream",
     "text": [
      "INFO:tensorflow:*** Available Device: _DeviceAttributes(/job:worker/replica:0/task:0/device:TPU:6, TPU, 0, 0)\n"
     ]
    },
    {
     "name": "stdout",
     "output_type": "stream",
     "text": [
      "INFO:tensorflow:*** Available Device: _DeviceAttributes(/job:worker/replica:0/task:0/device:TPU:7, TPU, 0, 0)\n"
     ]
    },
    {
     "name": "stderr",
     "output_type": "stream",
     "text": [
      "INFO:tensorflow:*** Available Device: _DeviceAttributes(/job:worker/replica:0/task:0/device:TPU:7, TPU, 0, 0)\n"
     ]
    },
    {
     "name": "stdout",
     "output_type": "stream",
     "text": [
      "INFO:tensorflow:*** Available Device: _DeviceAttributes(/job:worker/replica:0/task:0/device:TPU_SYSTEM:0, TPU_SYSTEM, 0, 0)\n"
     ]
    },
    {
     "name": "stderr",
     "output_type": "stream",
     "text": [
      "INFO:tensorflow:*** Available Device: _DeviceAttributes(/job:worker/replica:0/task:0/device:TPU_SYSTEM:0, TPU_SYSTEM, 0, 0)\n"
     ]
    },
    {
     "name": "stdout",
     "output_type": "stream",
     "text": [
      "INFO:tensorflow:*** Available Device: _DeviceAttributes(/job:worker/replica:0/task:0/device:XLA_CPU:0, XLA_CPU, 0, 0)\n"
     ]
    },
    {
     "name": "stderr",
     "output_type": "stream",
     "text": [
      "INFO:tensorflow:*** Available Device: _DeviceAttributes(/job:worker/replica:0/task:0/device:XLA_CPU:0, XLA_CPU, 0, 0)\n"
     ]
    },
    {
     "name": "stdout",
     "output_type": "stream",
     "text": [
      "REPLICAS:  8\n"
     ]
    }
   ],
   "source": [
    "try:\n",
    "    # TPU detection. No parameters necessary if TPU_NAME environment variable is\n",
    "    # set: this is always the case on Kaggle.\n",
    "    tpu = tf.distribute.cluster_resolver.TPUClusterResolver()\n",
    "    print('Running on TPU ', tpu.master())\n",
    "except ValueError:\n",
    "    tpu = None\n",
    "\n",
    "if tpu:\n",
    "    tf.config.experimental_connect_to_cluster(tpu)\n",
    "    tf.tpu.experimental.initialize_tpu_system(tpu)\n",
    "    strategy = tf.distribute.experimental.TPUStrategy(tpu)\n",
    "else:\n",
    "    # Default distribution strategy in Tensorflow. Works on CPU and single GPU.\n",
    "    strategy = tf.distribute.get_strategy()\n",
    "\n",
    "print(\"REPLICAS: \", strategy.num_replicas_in_sync)"
   ]
  },
  {
   "cell_type": "code",
   "execution_count": 8,
   "metadata": {
    "colab": {},
    "colab_type": "code",
    "id": "rm40cYA_718y"
   },
   "outputs": [],
   "source": [
    "def decode_example(example):\n",
    "    '''\n",
    "    decodes single tfexample from TFrecord file\n",
    "    '''\n",
    "    features = {'label': tf.io.FixedLenFeature([], tf.int64),\n",
    "                'text': tf.io.FixedLenFeature([], tf.string),\n",
    "                'text_lemma': tf.io.FixedLenFeature([], tf.string),\n",
    "                'text_lemma_no_stopwords': tf.io.FixedLenFeature([], tf.string),\n",
    "                'text_no_stopwords':tf.io.FixedLenFeature([], tf.string),\n",
    "                'image': tf.io.FixedLenFeature([], tf.string)}\n",
    "    single_example = tf.io.parse_single_example(example, features)\n",
    "    \n",
    "    text = tf.io.parse_tensor(single_example['text'], out_type=tf.int32)\n",
    "    # text = tf.cast(text, tf.float32) \n",
    "    image = tf.io.decode_jpeg(single_example['image'], 3)\n",
    "    image = tf.image.resize_with_pad(image, *params['image_size'])\n",
    "    image = image / 255.0\n",
    "    label = single_example['label']\n",
    "    # label = tf.cast(label, tf.float32)\n",
    "    return text, image, label\n",
    "\n",
    "def flip_image(text, image, label): \n",
    "    '''\n",
    "    randombly flips image input\n",
    "    \n",
    "    args:\n",
    "        text: text output in ds\n",
    "        image: image output in ds\n",
    "        label: label output in ds\n",
    "    returns:\n",
    "        text, image, label\n",
    "        args will be otherwise unchanged\n",
    "    '''\n",
    "    \n",
    "    image = tf.image.random_flip_left_right(image)\n",
    "\n",
    "    return text, image, label\n",
    "\n",
    "\n",
    "def no_tpu_output(text, image, label): #needs to be called last\n",
    "    '''\n",
    "    transforms ds output from text, image, label -> (text, image), label\n",
    "    \n",
    "    args:\n",
    "        text: text output in ds\n",
    "        image: image output in ds\n",
    "        label: label output in ds\n",
    "    returns:\n",
    "        (text, image), label\n",
    "        args will be otherwise unchanged\n",
    "    '''\n",
    "    return (text, image), label\n",
    "    \n",
    "    "
   ]
  },
  {
   "cell_type": "code",
   "execution_count": 9,
   "metadata": {
    "colab": {},
    "colab_type": "code",
    "id": "PZ0dHSjt7180"
   },
   "outputs": [],
   "source": [
    "def create_train_ds(files, batch_size=params['batch_size'], tpu=tpu, file_size=num_examples_per_tfrecordfile):\n",
    "    '''\n",
    "    function to create dataset for training/validation\n",
    "    \n",
    "    args:\n",
    "        files: list of str, filepaths of TFrecord files to be used in DS\n",
    "        batch_size: int, batch size of training/validation step\n",
    "        tpu: bool, default 'tpu' global variable, True is TPU is being used - not a bool update\n",
    "        file_size: int, default num_examples_per_tfrecordfile variable,\n",
    "            number of examples in each TFrecord file\n",
    "    ***todo - update batch_size and file_size to params\n",
    "    returns:\n",
    "        ds: tensorflow input pipeline with images, text and labels\n",
    "            if tpu is not None, output of ds is: text, image, label\n",
    "            if tpu is None, output of ds is: (text, image), label\n",
    "        ds_batches: int, number of steps in each epoch based on the batch_size\n",
    "    '''\n",
    "    ds = tf.data.TFRecordDataset(filenames = files)\n",
    "    ds = ds.map(decode_example, num_parallel_calls=tf.data.experimental.AUTOTUNE)\n",
    "    #consider adding augmentation to image - can't flip(?)\n",
    "    ds = ds.map(flip_image, num_parallel_calls=tf.data.experimental.AUTOTUNE)\n",
    "    # if tpu is None:\n",
    "    ds = ds.map(no_tpu_output, num_parallel_calls=tf.data.experimental.AUTOTUNE)\n",
    "    # ds = ds.repeat()\n",
    "    ds = ds.batch(batch_size, drop_remainder=True).prefetch(tf.data.experimental.AUTOTUNE) #batch_size\n",
    "    ds = ds.cache() # -- confirm if dataset is small enough to be cached\n",
    "    \n",
    "    ds_batches = (len(files) * file_size) // batch_size\n",
    "    return ds, ds_batches\n",
    "    \n",
    "    "
   ]
  },
  {
   "cell_type": "code",
   "execution_count": 10,
   "metadata": {
    "colab": {},
    "colab_type": "code",
    "id": "aHOtR_XA7182"
   },
   "outputs": [],
   "source": [
    "def create_model(params=params,):\n",
    "    '''\n",
    "    creates model with two inputs and out output\n",
    "    '''\n",
    "    text_input_shape = params['text_input']\n",
    "    vocab_size = params['vocab_size']\n",
    "    image_size = params['image_size']\n",
    "    input_text = layers.Input(text_input_shape, name='text_input')\n",
    "    embedding = layers.Embedding(input_dim=vocab_size, output_dim=64, \n",
    "                                 input_length=58, mask_zero=True)(input_text)\n",
    "    dense_nodes = 7\n",
    "    reg = keras.regularizers.l2(0.001,)\n",
    "    x_text = embedding\n",
    "    #clean up the code \n",
    "    x_text = layers.SeparableConv1D(filters=64, kernel_size=4, activation='relu', padding='same',kernel_regularizer=reg)(x_text)\n",
    "    x_text = layers.SeparableConv1D(filters=64, kernel_size=4, activation='relu', padding='same',)(x_text)\n",
    "    x_text = layers.MaxPooling1D(4, padding='same')(x_text)\n",
    "    x_text = layers.SeparableConv1D(filters=64, kernel_size=4, activation='relu', padding='same',)(x_text)\n",
    "    x_text = layers.SeparableConv1D(filters=64, kernel_size=4, activation='relu', padding='same',)(x_text)\n",
    "    x_text = layers.MaxPooling1D(4, padding='same')(x_text)\n",
    "    x_text = layers.Flatten()(x_text)\n",
    "    output_layer_text = layers.Dense(dense_nodes, activation='tanh',kernel_regularizer=reg)(x_text)\n",
    "    output_layer_text = layers.Dense(dense_nodes, activation='sigmoid', name='text_output')(x_text)\n",
    "    \n",
    "    input_image = layers.Input((*image_size, 3), name='image_input')#todo -make the 225 call a variable\n",
    "    x_img = input_image\n",
    "    x_img = layers.Conv2D(filters=64, kernel_size=5, padding='same', kernel_regularizer=reg)(x_img)\n",
    "    x_img = layers.MaxPooling2D(2, 2,)(x_img)\n",
    "    x_img = layers.BatchNormalization()(x_img)\n",
    "    x_img = layers.ReLU()(x_img)\n",
    "    x_img = layers.Dense(16, activation='tanh')(x_img)\n",
    "    x_img = layers.Conv2D(filters=128, kernel_size=5, padding='same', kernel_regularizer=reg)(x_img)\n",
    "    x_img = layers.MaxPooling2D(2, 2)(x_img)\n",
    "    x_img = layers.BatchNormalization()(x_img)\n",
    "    x_img = layers.ReLU()(x_img)\n",
    "    x_img = layers.Dense(16, activation='tanh', kernel_regularizer=reg)(x_img)\n",
    "    x_img = layers.Flatten()(x_img)\n",
    "    output_layer_image = layers.Dense(dense_nodes, activation='tanh', kernel_regularizer=reg)(x_img)\n",
    "    output_layer_image = layers.Dense(dense_nodes, activation='sigmoid', name='image_out')(x_img)\n",
    "    \n",
    "    x = layers.Concatenate()([output_layer_text, output_layer_image])\n",
    "    #consider adding an intrum dense layer here\n",
    "    final_output = layers.Dense(1, activation='sigmoid', name='final_out')(x)\n",
    "    \n",
    "    model = keras.Model([input_text, input_image], final_output)\n",
    "    metrics = [\n",
    "          keras.metrics.TruePositives(name='tp'),\n",
    "    #           keras.metrics.FalsePositives(name='fp'),\n",
    "    #           keras.metrics.TrueNegatives(name='tn'),\n",
    "          keras.metrics.FalseNegatives(name='fn'), \n",
    "          keras.metrics.BinaryAccuracy(name='accuracy'),\n",
    "    #           keras.metrics.Precision(name='precision'),\n",
    "    #           keras.metrics.Recall(name='recall'),\n",
    "          keras.metrics.AUC(name='auc'),\n",
    "    ]\n",
    "    model.compile(\n",
    "    optimizer=tf.keras.optimizers.Adam(0.0003),\n",
    "    loss = tf.keras.losses.BinaryCrossentropy(label_smoothing = 0.01),\n",
    "    metrics=metrics)\n",
    "    \n",
    "    return model\n",
    "    \n",
    "    "
   ]
  },
  {
   "cell_type": "code",
   "execution_count": 11,
   "metadata": {
    "colab": {},
    "colab_type": "code",
    "id": "_tHu8tJA7184"
   },
   "outputs": [],
   "source": [
    "train_files, valid_files = train_test_split(tfrecords,\n",
    "                              test_size=.2, random_state=1)\n"
   ]
  },
  {
   "cell_type": "code",
   "execution_count": 12,
   "metadata": {
    "colab": {},
    "colab_type": "code",
    "id": "alJt8bQV7185"
   },
   "outputs": [],
   "source": [
    "train_ds, train_steps = create_train_ds(train_files, batch_size=6800)\n",
    "valid_ds, valid_steps = create_train_ds(valid_files, batch_size=1700)"
   ]
  },
  {
   "cell_type": "code",
   "execution_count": 13,
   "metadata": {
    "colab": {
     "base_uri": "https://localhost:8080/",
     "height": 1000
    },
    "colab_type": "code",
    "id": "S25BV5he7187",
    "outputId": "c760e924-61dd-4c50-eea1-fc7463249b73"
   },
   "outputs": [
    {
     "name": "stdout",
     "output_type": "stream",
     "text": [
      "Model: \"functional_1\"\n",
      "__________________________________________________________________________________________________\n",
      "Layer (type)                    Output Shape         Param #     Connected to                     \n",
      "==================================================================================================\n",
      "image_input (InputLayer)        [(None, 225, 225, 3) 0                                            \n",
      "__________________________________________________________________________________________________\n",
      "conv2d (Conv2D)                 (None, 225, 225, 64) 4864        image_input[0][0]                \n",
      "__________________________________________________________________________________________________\n",
      "max_pooling2d (MaxPooling2D)    (None, 112, 112, 64) 0           conv2d[0][0]                     \n",
      "__________________________________________________________________________________________________\n",
      "text_input (InputLayer)         [(None, 58)]         0                                            \n",
      "__________________________________________________________________________________________________\n",
      "batch_normalization (BatchNorma (None, 112, 112, 64) 256         max_pooling2d[0][0]              \n",
      "__________________________________________________________________________________________________\n",
      "embedding (Embedding)           (None, 58, 64)       1920000     text_input[0][0]                 \n",
      "__________________________________________________________________________________________________\n",
      "re_lu (ReLU)                    (None, 112, 112, 64) 0           batch_normalization[0][0]        \n",
      "__________________________________________________________________________________________________\n",
      "separable_conv1d (SeparableConv (None, 58, 64)       4416        embedding[0][0]                  \n",
      "__________________________________________________________________________________________________\n",
      "dense_1 (Dense)                 (None, 112, 112, 16) 1040        re_lu[0][0]                      \n",
      "__________________________________________________________________________________________________\n",
      "separable_conv1d_1 (SeparableCo (None, 58, 64)       4416        separable_conv1d[0][0]           \n",
      "__________________________________________________________________________________________________\n",
      "conv2d_1 (Conv2D)               (None, 112, 112, 128 51328       dense_1[0][0]                    \n",
      "__________________________________________________________________________________________________\n",
      "max_pooling1d (MaxPooling1D)    (None, 15, 64)       0           separable_conv1d_1[0][0]         \n",
      "__________________________________________________________________________________________________\n",
      "max_pooling2d_1 (MaxPooling2D)  (None, 56, 56, 128)  0           conv2d_1[0][0]                   \n",
      "__________________________________________________________________________________________________\n",
      "separable_conv1d_2 (SeparableCo (None, 15, 64)       4416        max_pooling1d[0][0]              \n",
      "__________________________________________________________________________________________________\n",
      "batch_normalization_1 (BatchNor (None, 56, 56, 128)  512         max_pooling2d_1[0][0]            \n",
      "__________________________________________________________________________________________________\n",
      "separable_conv1d_3 (SeparableCo (None, 15, 64)       4416        separable_conv1d_2[0][0]         \n",
      "__________________________________________________________________________________________________\n",
      "re_lu_1 (ReLU)                  (None, 56, 56, 128)  0           batch_normalization_1[0][0]      \n",
      "__________________________________________________________________________________________________\n",
      "max_pooling1d_1 (MaxPooling1D)  (None, 4, 64)        0           separable_conv1d_3[0][0]         \n",
      "__________________________________________________________________________________________________\n",
      "dense_2 (Dense)                 (None, 56, 56, 16)   2064        re_lu_1[0][0]                    \n",
      "__________________________________________________________________________________________________\n",
      "flatten (Flatten)               (None, 256)          0           max_pooling1d_1[0][0]            \n",
      "__________________________________________________________________________________________________\n",
      "flatten_1 (Flatten)             (None, 50176)        0           dense_2[0][0]                    \n",
      "__________________________________________________________________________________________________\n",
      "text_output (Dense)             (None, 7)            1799        flatten[0][0]                    \n",
      "__________________________________________________________________________________________________\n",
      "image_out (Dense)               (None, 7)            351239      flatten_1[0][0]                  \n",
      "__________________________________________________________________________________________________\n",
      "concatenate (Concatenate)       (None, 14)           0           text_output[0][0]                \n",
      "                                                                 image_out[0][0]                  \n",
      "__________________________________________________________________________________________________\n",
      "final_out (Dense)               (None, 1)            15          concatenate[0][0]                \n",
      "==================================================================================================\n",
      "Total params: 2,350,781\n",
      "Trainable params: 2,350,397\n",
      "Non-trainable params: 384\n",
      "__________________________________________________________________________________________________\n"
     ]
    }
   ],
   "source": [
    "with strategy.scope():\n",
    "    model = create_model()\n",
    "    model.summary()"
   ]
  },
  {
   "cell_type": "code",
   "execution_count": 14,
   "metadata": {
    "colab": {
     "base_uri": "https://localhost:8080/",
     "height": 1000
    },
    "colab_type": "code",
    "id": "dbYqcMyy718-",
    "outputId": "7d751510-97c8-4166-db0a-d7292e8e05a0"
   },
   "outputs": [
    {
     "name": "stdout",
     "output_type": "stream",
     "text": [
      "Epoch 1/250\n",
      " 2/10 [=====>........................] - ETA: 0s - loss: 0.8902 - tp: 456.0000 - fn: 0.0000e+00 - accuracy: 0.3353 - auc: 0.4988WARNING:tensorflow:Callbacks method `on_train_batch_end` is slow compared to the batch time (batch time: 0.0032s vs `on_train_batch_end` time: 0.1950s). Check your callbacks.\n"
     ]
    },
    {
     "name": "stderr",
     "output_type": "stream",
     "text": [
      "WARNING:tensorflow:Callbacks method `on_train_batch_end` is slow compared to the batch time (batch time: 0.0032s vs `on_train_batch_end` time: 0.1950s). Check your callbacks.\n"
     ]
    },
    {
     "name": "stdout",
     "output_type": "stream",
     "text": [
      "10/10 [==============================] - ETA: 0s - loss: 0.7899 - tp: 2472.0000 - fn: 0.0000e+00 - accuracy: 0.3635 - auc: 0.4877WARNING:tensorflow:From /usr/local/lib/python3.6/dist-packages/tensorflow/python/data/ops/multi_device_iterator_ops.py:601: get_next_as_optional (from tensorflow.python.data.ops.iterator_ops) is deprecated and will be removed in a future version.\n",
      "Instructions for updating:\n",
      "Use `tf.data.Iterator.get_next_as_optional()` instead.\n"
     ]
    },
    {
     "name": "stderr",
     "output_type": "stream",
     "text": [
      "WARNING:tensorflow:From /usr/local/lib/python3.6/dist-packages/tensorflow/python/data/ops/multi_device_iterator_ops.py:601: get_next_as_optional (from tensorflow.python.data.ops.iterator_ops) is deprecated and will be removed in a future version.\n",
      "Instructions for updating:\n",
      "Use `tf.data.Iterator.get_next_as_optional()` instead.\n"
     ]
    },
    {
     "name": "stdout",
     "output_type": "stream",
     "text": [
      "WARNING:tensorflow:Callbacks method `on_test_batch_end` is slow compared to the batch time (batch time: 0.0019s vs `on_test_batch_end` time: 0.0554s). Check your callbacks.\n"
     ]
    },
    {
     "name": "stderr",
     "output_type": "stream",
     "text": [
      "WARNING:tensorflow:Callbacks method `on_test_batch_end` is slow compared to the batch time (batch time: 0.0019s vs `on_test_batch_end` time: 0.0554s). Check your callbacks.\n"
     ]
    },
    {
     "name": "stdout",
     "output_type": "stream",
     "text": [
      "\b\b\b\b\b\b\b\b\b\b\b\b\b\b\b\b\b\b\b\b\b\b\b\b\b\b\b\b\b\b\b\b\b\b\b\b\b\b\b\b\b\b\b\b\b\b\b\b\b\b\b\b\b\b\b\b\b\b\b\b\b\b\b\b\b\b\b\b\b\b\b\b\b\b\b\b\b\b\b\b\b\b\b\b\b\b\b\b\b\b\b\b\b\b\b\b\b\b\b\b\b\b\b\b\b\b\b\b\b\b\b\b\b\b\b\b\b\b\b\b\b\b\b\b\b\b\b\b\b\r",
      "10/10 [==============================] - 8s 849ms/step - loss: 0.7899 - tp: 2472.0000 - fn: 0.0000e+00 - accuracy: 0.3635 - auc: 0.4877 - val_loss: 0.9176 - val_tp: 578.0000 - val_fn: 0.0000e+00 - val_accuracy: 0.3400 - val_auc: 0.4646\n",
      "Epoch 2/250\n",
      "10/10 [==============================] - 2s 248ms/step - loss: 0.7615 - tp: 2472.0000 - fn: 0.0000e+00 - accuracy: 0.3635 - auc: 0.5010 - val_loss: 0.9098 - val_tp: 578.0000 - val_fn: 0.0000e+00 - val_accuracy: 0.3400 - val_auc: 0.4574\n",
      "Epoch 3/250\n",
      "10/10 [==============================] - 2s 249ms/step - loss: 0.7585 - tp: 2472.0000 - fn: 0.0000e+00 - accuracy: 0.3635 - auc: 0.4988 - val_loss: 0.9032 - val_tp: 578.0000 - val_fn: 0.0000e+00 - val_accuracy: 0.3400 - val_auc: 0.4527\n",
      "Epoch 4/250\n",
      "10/10 [==============================] - 2s 245ms/step - loss: 0.7554 - tp: 2472.0000 - fn: 0.0000e+00 - accuracy: 0.3635 - auc: 0.4966 - val_loss: 0.8901 - val_tp: 578.0000 - val_fn: 0.0000e+00 - val_accuracy: 0.3400 - val_auc: 0.4558\n",
      "Epoch 5/250\n",
      "10/10 [==============================] - 2s 250ms/step - loss: 0.7522 - tp: 2472.0000 - fn: 0.0000e+00 - accuracy: 0.3635 - auc: 0.5000 - val_loss: 0.8735 - val_tp: 578.0000 - val_fn: 0.0000e+00 - val_accuracy: 0.3400 - val_auc: 0.4593\n",
      "Epoch 6/250\n",
      "10/10 [==============================] - 3s 258ms/step - loss: 0.7491 - tp: 2472.0000 - fn: 0.0000e+00 - accuracy: 0.3635 - auc: 0.5005 - val_loss: 0.8557 - val_tp: 578.0000 - val_fn: 0.0000e+00 - val_accuracy: 0.3400 - val_auc: 0.4721\n",
      "Epoch 7/250\n",
      "10/10 [==============================] - 3s 258ms/step - loss: 0.7462 - tp: 2472.0000 - fn: 0.0000e+00 - accuracy: 0.3635 - auc: 0.4984 - val_loss: 0.8387 - val_tp: 578.0000 - val_fn: 0.0000e+00 - val_accuracy: 0.3400 - val_auc: 0.4786\n",
      "Epoch 8/250\n",
      "10/10 [==============================] - 3s 255ms/step - loss: 0.7435 - tp: 2472.0000 - fn: 0.0000e+00 - accuracy: 0.3635 - auc: 0.5091 - val_loss: 0.8220 - val_tp: 578.0000 - val_fn: 0.0000e+00 - val_accuracy: 0.3400 - val_auc: 0.4882\n",
      "Epoch 9/250\n",
      "10/10 [==============================] - 3s 258ms/step - loss: 0.7412 - tp: 2472.0000 - fn: 0.0000e+00 - accuracy: 0.3635 - auc: 0.4923 - val_loss: 0.8064 - val_tp: 578.0000 - val_fn: 0.0000e+00 - val_accuracy: 0.3400 - val_auc: 0.4895\n",
      "Epoch 10/250\n",
      "10/10 [==============================] - 3s 256ms/step - loss: 0.7390 - tp: 2472.0000 - fn: 0.0000e+00 - accuracy: 0.3635 - auc: 0.5000 - val_loss: 0.7953 - val_tp: 578.0000 - val_fn: 0.0000e+00 - val_accuracy: 0.3400 - val_auc: 0.4953\n",
      "Epoch 11/250\n",
      "10/10 [==============================] - 2s 246ms/step - loss: 0.7370 - tp: 2472.0000 - fn: 0.0000e+00 - accuracy: 0.3635 - auc: 0.5084 - val_loss: 0.7877 - val_tp: 578.0000 - val_fn: 0.0000e+00 - val_accuracy: 0.3400 - val_auc: 0.4950\n",
      "Epoch 12/250\n",
      "10/10 [==============================] - 3s 256ms/step - loss: 0.7352 - tp: 2472.0000 - fn: 0.0000e+00 - accuracy: 0.3635 - auc: 0.5000 - val_loss: 0.7800 - val_tp: 578.0000 - val_fn: 0.0000e+00 - val_accuracy: 0.3400 - val_auc: 0.4986\n",
      "Epoch 13/250\n",
      "10/10 [==============================] - 3s 254ms/step - loss: 0.7334 - tp: 2472.0000 - fn: 0.0000e+00 - accuracy: 0.3635 - auc: 0.5000 - val_loss: 0.7740 - val_tp: 578.0000 - val_fn: 0.0000e+00 - val_accuracy: 0.3400 - val_auc: 0.5026\n",
      "Epoch 14/250\n",
      "10/10 [==============================] - 3s 257ms/step - loss: 0.7317 - tp: 2472.0000 - fn: 0.0000e+00 - accuracy: 0.3635 - auc: 0.5000 - val_loss: 0.7690 - val_tp: 578.0000 - val_fn: 0.0000e+00 - val_accuracy: 0.3400 - val_auc: 0.5038\n",
      "Epoch 15/250\n",
      "10/10 [==============================] - 2s 245ms/step - loss: 0.7301 - tp: 2472.0000 - fn: 0.0000e+00 - accuracy: 0.3635 - auc: 0.5000 - val_loss: 0.7664 - val_tp: 578.0000 - val_fn: 0.0000e+00 - val_accuracy: 0.3400 - val_auc: 0.4995\n",
      "Epoch 16/250\n",
      "10/10 [==============================] - 2s 247ms/step - loss: 0.7285 - tp: 2472.0000 - fn: 0.0000e+00 - accuracy: 0.3635 - auc: 0.5000 - val_loss: 0.7629 - val_tp: 578.0000 - val_fn: 0.0000e+00 - val_accuracy: 0.3400 - val_auc: 0.4983\n",
      "Epoch 17/250\n",
      "10/10 [==============================] - 2s 247ms/step - loss: 0.7270 - tp: 2472.0000 - fn: 0.0000e+00 - accuracy: 0.3635 - auc: 0.5000 - val_loss: 0.7591 - val_tp: 578.0000 - val_fn: 0.0000e+00 - val_accuracy: 0.3400 - val_auc: 0.4943\n",
      "Epoch 18/250\n",
      "10/10 [==============================] - 3s 277ms/step - loss: 0.7256 - tp: 2472.0000 - fn: 0.0000e+00 - accuracy: 0.3635 - auc: 0.5000 - val_loss: 0.7566 - val_tp: 578.0000 - val_fn: 0.0000e+00 - val_accuracy: 0.3400 - val_auc: 0.5023\n",
      "Epoch 19/250\n",
      "10/10 [==============================] - 2s 244ms/step - loss: 0.7243 - tp: 2472.0000 - fn: 0.0000e+00 - accuracy: 0.3635 - auc: 0.5000 - val_loss: 0.7530 - val_tp: 578.0000 - val_fn: 0.0000e+00 - val_accuracy: 0.3400 - val_auc: 0.4950\n",
      "Epoch 20/250\n",
      "10/10 [==============================] - 2s 244ms/step - loss: 0.7230 - tp: 2472.0000 - fn: 0.0000e+00 - accuracy: 0.3635 - auc: 0.5000 - val_loss: 0.7510 - val_tp: 578.0000 - val_fn: 0.0000e+00 - val_accuracy: 0.3400 - val_auc: 0.4902\n",
      "Epoch 21/250\n",
      "10/10 [==============================] - 2s 242ms/step - loss: 0.7217 - tp: 2472.0000 - fn: 0.0000e+00 - accuracy: 0.3635 - auc: 0.5000 - val_loss: 0.7498 - val_tp: 578.0000 - val_fn: 0.0000e+00 - val_accuracy: 0.3400 - val_auc: 0.4938\n",
      "Epoch 22/250\n",
      "10/10 [==============================] - 2s 247ms/step - loss: 0.7206 - tp: 2472.0000 - fn: 0.0000e+00 - accuracy: 0.3635 - auc: 0.5000 - val_loss: 0.7476 - val_tp: 578.0000 - val_fn: 0.0000e+00 - val_accuracy: 0.3400 - val_auc: 0.4895\n",
      "Epoch 23/250\n",
      "10/10 [==============================] - 2s 246ms/step - loss: 0.7195 - tp: 2472.0000 - fn: 0.0000e+00 - accuracy: 0.3635 - auc: 0.5000 - val_loss: 0.7461 - val_tp: 578.0000 - val_fn: 0.0000e+00 - val_accuracy: 0.3400 - val_auc: 0.4899\n",
      "Epoch 24/250\n",
      "10/10 [==============================] - 2s 247ms/step - loss: 0.7184 - tp: 2472.0000 - fn: 0.0000e+00 - accuracy: 0.3635 - auc: 0.5000 - val_loss: 0.7451 - val_tp: 578.0000 - val_fn: 0.0000e+00 - val_accuracy: 0.3400 - val_auc: 0.4844\n",
      "Epoch 25/250\n",
      "10/10 [==============================] - 3s 250ms/step - loss: 0.7173 - tp: 2472.0000 - fn: 0.0000e+00 - accuracy: 0.3635 - auc: 0.5000 - val_loss: 0.7434 - val_tp: 578.0000 - val_fn: 0.0000e+00 - val_accuracy: 0.3400 - val_auc: 0.4862\n",
      "Epoch 26/250\n",
      "10/10 [==============================] - 2s 246ms/step - loss: 0.7164 - tp: 2472.0000 - fn: 0.0000e+00 - accuracy: 0.3635 - auc: 0.5000 - val_loss: 0.7422 - val_tp: 578.0000 - val_fn: 0.0000e+00 - val_accuracy: 0.3400 - val_auc: 0.4846\n",
      "Epoch 27/250\n",
      "10/10 [==============================] - 2s 247ms/step - loss: 0.7154 - tp: 2472.0000 - fn: 0.0000e+00 - accuracy: 0.3635 - auc: 0.4998 - val_loss: 0.7413 - val_tp: 578.0000 - val_fn: 0.0000e+00 - val_accuracy: 0.3400 - val_auc: 0.4860\n",
      "Epoch 28/250\n",
      "10/10 [==============================] - 2s 247ms/step - loss: 0.7145 - tp: 2472.0000 - fn: 0.0000e+00 - accuracy: 0.3635 - auc: 0.5000 - val_loss: 0.7395 - val_tp: 578.0000 - val_fn: 0.0000e+00 - val_accuracy: 0.3400 - val_auc: 0.4880\n",
      "Epoch 29/250\n",
      "10/10 [==============================] - 2s 246ms/step - loss: 0.7136 - tp: 2472.0000 - fn: 0.0000e+00 - accuracy: 0.3635 - auc: 0.5006 - val_loss: 0.7393 - val_tp: 578.0000 - val_fn: 0.0000e+00 - val_accuracy: 0.3400 - val_auc: 0.4910\n",
      "Epoch 30/250\n",
      "10/10 [==============================] - 2s 245ms/step - loss: 0.7127 - tp: 2472.0000 - fn: 0.0000e+00 - accuracy: 0.3635 - auc: 0.5114 - val_loss: 0.7369 - val_tp: 578.0000 - val_fn: 0.0000e+00 - val_accuracy: 0.3400 - val_auc: 0.4910\n",
      "Epoch 31/250\n",
      "10/10 [==============================] - 2s 249ms/step - loss: 0.7118 - tp: 2472.0000 - fn: 0.0000e+00 - accuracy: 0.3635 - auc: 0.5306 - val_loss: 0.7362 - val_tp: 578.0000 - val_fn: 0.0000e+00 - val_accuracy: 0.3400 - val_auc: 0.4943\n",
      "Epoch 32/250\n",
      "10/10 [==============================] - 2s 245ms/step - loss: 0.7108 - tp: 2377.0000 - fn: 95.0000 - accuracy: 0.3859 - auc: 0.5659 - val_loss: 0.7332 - val_tp: 578.0000 - val_fn: 0.0000e+00 - val_accuracy: 0.3400 - val_auc: 0.5003\n",
      "Epoch 33/250\n",
      "10/10 [==============================] - 3s 260ms/step - loss: 0.7098 - tp: 1346.0000 - fn: 1126.0000 - accuracy: 0.5772 - auc: 0.5751 - val_loss: 0.7313 - val_tp: 578.0000 - val_fn: 0.0000e+00 - val_accuracy: 0.3400 - val_auc: 0.5137\n",
      "Epoch 34/250\n",
      "10/10 [==============================] - 3s 255ms/step - loss: 0.7087 - tp: 887.0000 - fn: 1585.0000 - accuracy: 0.6271 - auc: 0.5817 - val_loss: 0.7272 - val_tp: 578.0000 - val_fn: 0.0000e+00 - val_accuracy: 0.3406 - val_auc: 0.5245\n",
      "Epoch 35/250\n",
      "10/10 [==============================] - 3s 287ms/step - loss: 0.7070 - tp: 830.0000 - fn: 1642.0000 - accuracy: 0.6409 - auc: 0.6080 - val_loss: 0.7270 - val_tp: 578.0000 - val_fn: 0.0000e+00 - val_accuracy: 0.3412 - val_auc: 0.5424\n",
      "Epoch 36/250\n",
      "10/10 [==============================] - 3s 263ms/step - loss: 0.7045 - tp: 1170.0000 - fn: 1302.0000 - accuracy: 0.6357 - auc: 0.6360 - val_loss: 0.7251 - val_tp: 576.0000 - val_fn: 2.0000 - val_accuracy: 0.3418 - val_auc: 0.5605\n",
      "Epoch 37/250\n",
      "10/10 [==============================] - 3s 262ms/step - loss: 0.7002 - tp: 1181.0000 - fn: 1291.0000 - accuracy: 0.6619 - auc: 0.6658 - val_loss: 0.7199 - val_tp: 546.0000 - val_fn: 32.0000 - val_accuracy: 0.3818 - val_auc: 0.5830\n",
      "Epoch 38/250\n",
      "10/10 [==============================] - 3s 260ms/step - loss: 0.6923 - tp: 1191.0000 - fn: 1281.0000 - accuracy: 0.6912 - auc: 0.7007 - val_loss: 0.7127 - val_tp: 470.0000 - val_fn: 108.0000 - val_accuracy: 0.4535 - val_auc: 0.6072\n",
      "Epoch 39/250\n",
      "10/10 [==============================] - 3s 260ms/step - loss: 0.6783 - tp: 1411.0000 - fn: 1061.0000 - accuracy: 0.7031 - auc: 0.7330 - val_loss: 0.7023 - val_tp: 408.0000 - val_fn: 170.0000 - val_accuracy: 0.5294 - val_auc: 0.6298\n",
      "Epoch 40/250\n",
      "10/10 [==============================] - 3s 257ms/step - loss: 0.6519 - tp: 1576.0000 - fn: 896.0000 - accuracy: 0.7241 - auc: 0.7720 - val_loss: 0.6993 - val_tp: 398.0000 - val_fn: 180.0000 - val_accuracy: 0.5518 - val_auc: 0.6443\n",
      "Epoch 41/250\n",
      "10/10 [==============================] - 3s 257ms/step - loss: 0.6087 - tp: 1726.0000 - fn: 746.0000 - accuracy: 0.7481 - auc: 0.8051 - val_loss: 0.8614 - val_tp: 555.0000 - val_fn: 23.0000 - val_accuracy: 0.3765 - val_auc: 0.6626\n",
      "Epoch 42/250\n",
      "10/10 [==============================] - 3s 260ms/step - loss: 0.5604 - tp: 1862.0000 - fn: 610.0000 - accuracy: 0.7672 - auc: 0.8278 - val_loss: 0.6533 - val_tp: 329.0000 - val_fn: 249.0000 - val_accuracy: 0.6453 - val_auc: 0.6668\n",
      "Epoch 43/250\n",
      "10/10 [==============================] - 3s 258ms/step - loss: 0.5132 - tp: 1969.0000 - fn: 503.0000 - accuracy: 0.7856 - auc: 0.8576 - val_loss: 0.6676 - val_tp: 323.0000 - val_fn: 255.0000 - val_accuracy: 0.6406 - val_auc: 0.6686\n",
      "Epoch 44/250\n",
      "10/10 [==============================] - 2s 243ms/step - loss: 0.4820 - tp: 2049.0000 - fn: 423.0000 - accuracy: 0.8049 - auc: 0.8784 - val_loss: 0.7178 - val_tp: 352.0000 - val_fn: 226.0000 - val_accuracy: 0.6176 - val_auc: 0.6664\n",
      "Epoch 45/250\n",
      "10/10 [==============================] - 2s 247ms/step - loss: 0.4603 - tp: 2092.0000 - fn: 380.0000 - accuracy: 0.8125 - auc: 0.8921 - val_loss: 0.7293 - val_tp: 346.0000 - val_fn: 232.0000 - val_accuracy: 0.6129 - val_auc: 0.6602\n",
      "Epoch 46/250\n",
      "10/10 [==============================] - 3s 251ms/step - loss: 0.4423 - tp: 2168.0000 - fn: 304.0000 - accuracy: 0.8210 - auc: 0.9028 - val_loss: 0.7161 - val_tp: 334.0000 - val_fn: 244.0000 - val_accuracy: 0.6241 - val_auc: 0.6543\n",
      "Epoch 47/250\n",
      "10/10 [==============================] - 2s 244ms/step - loss: 0.4282 - tp: 2192.0000 - fn: 280.0000 - accuracy: 0.8310 - auc: 0.9095 - val_loss: 0.7222 - val_tp: 326.0000 - val_fn: 252.0000 - val_accuracy: 0.6188 - val_auc: 0.6495\n",
      "Epoch 48/250\n",
      "10/10 [==============================] - 2s 249ms/step - loss: 0.4164 - tp: 2248.0000 - fn: 224.0000 - accuracy: 0.8384 - auc: 0.9154 - val_loss: 0.7250 - val_tp: 303.0000 - val_fn: 275.0000 - val_accuracy: 0.6088 - val_auc: 0.6423\n",
      "Epoch 49/250\n",
      "10/10 [==============================] - 3s 252ms/step - loss: 0.4079 - tp: 2233.0000 - fn: 239.0000 - accuracy: 0.8421 - auc: 0.9190 - val_loss: 0.7606 - val_tp: 324.0000 - val_fn: 254.0000 - val_accuracy: 0.5953 - val_auc: 0.6376\n",
      "Epoch 50/250\n",
      "10/10 [==============================] - 3s 275ms/step - loss: 0.3982 - tp: 2262.0000 - fn: 210.0000 - accuracy: 0.8463 - auc: 0.9223 - val_loss: 0.7582 - val_tp: 308.0000 - val_fn: 270.0000 - val_accuracy: 0.5965 - val_auc: 0.6333\n",
      "Epoch 51/250\n",
      "10/10 [==============================] - 2s 245ms/step - loss: 0.3904 - tp: 2305.0000 - fn: 167.0000 - accuracy: 0.8497 - auc: 0.9250 - val_loss: 0.7586 - val_tp: 300.0000 - val_fn: 278.0000 - val_accuracy: 0.5959 - val_auc: 0.6306\n",
      "Epoch 52/250\n",
      "10/10 [==============================] - 2s 244ms/step - loss: 0.3851 - tp: 2284.0000 - fn: 188.0000 - accuracy: 0.8513 - auc: 0.9276 - val_loss: 0.7751 - val_tp: 308.0000 - val_fn: 270.0000 - val_accuracy: 0.5906 - val_auc: 0.6287\n",
      "Epoch 53/250\n",
      "10/10 [==============================] - 2s 243ms/step - loss: 0.3795 - tp: 2314.0000 - fn: 158.0000 - accuracy: 0.8560 - auc: 0.9291 - val_loss: 0.7736 - val_tp: 299.0000 - val_fn: 279.0000 - val_accuracy: 0.5906 - val_auc: 0.6246\n",
      "Epoch 54/250\n",
      "10/10 [==============================] - 2s 242ms/step - loss: 0.3744 - tp: 2324.0000 - fn: 148.0000 - accuracy: 0.8593 - auc: 0.9312 - val_loss: 0.7900 - val_tp: 303.0000 - val_fn: 275.0000 - val_accuracy: 0.5859 - val_auc: 0.6201\n",
      "Epoch 55/250\n",
      "10/10 [==============================] - 2s 247ms/step - loss: 0.3696 - tp: 2328.0000 - fn: 144.0000 - accuracy: 0.8609 - auc: 0.9330 - val_loss: 0.7938 - val_tp: 302.0000 - val_fn: 276.0000 - val_accuracy: 0.5865 - val_auc: 0.6212\n",
      "Epoch 56/250\n",
      "10/10 [==============================] - 2s 246ms/step - loss: 0.3656 - tp: 2328.0000 - fn: 144.0000 - accuracy: 0.8615 - auc: 0.9338 - val_loss: 0.8141 - val_tp: 317.0000 - val_fn: 261.0000 - val_accuracy: 0.5865 - val_auc: 0.6182\n",
      "Epoch 57/250\n",
      "10/10 [==============================] - 2s 243ms/step - loss: 0.3621 - tp: 2324.0000 - fn: 148.0000 - accuracy: 0.8626 - auc: 0.9356 - val_loss: 0.8394 - val_tp: 325.0000 - val_fn: 253.0000 - val_accuracy: 0.5765 - val_auc: 0.6170\n",
      "Epoch 58/250\n",
      "10/10 [==============================] - 2s 243ms/step - loss: 0.3595 - tp: 2322.0000 - fn: 150.0000 - accuracy: 0.8634 - auc: 0.9360 - val_loss: 0.8331 - val_tp: 317.0000 - val_fn: 261.0000 - val_accuracy: 0.5794 - val_auc: 0.6155\n",
      "Epoch 59/250\n",
      "10/10 [==============================] - 2s 246ms/step - loss: 0.3555 - tp: 2334.0000 - fn: 138.0000 - accuracy: 0.8643 - auc: 0.9383 - val_loss: 0.8339 - val_tp: 309.0000 - val_fn: 269.0000 - val_accuracy: 0.5771 - val_auc: 0.6134\n",
      "Epoch 60/250\n",
      "10/10 [==============================] - 2s 244ms/step - loss: 0.3524 - tp: 2332.0000 - fn: 140.0000 - accuracy: 0.8651 - auc: 0.9386 - val_loss: 0.8414 - val_tp: 313.0000 - val_fn: 265.0000 - val_accuracy: 0.5759 - val_auc: 0.6089\n",
      "Epoch 61/250\n",
      "10/10 [==============================] - 2s 247ms/step - loss: 0.3506 - tp: 2328.0000 - fn: 144.0000 - accuracy: 0.8666 - auc: 0.9396 - val_loss: 0.8420 - val_tp: 308.0000 - val_fn: 270.0000 - val_accuracy: 0.5765 - val_auc: 0.6118\n",
      "Epoch 62/250\n",
      "10/10 [==============================] - 2s 247ms/step - loss: 0.3459 - tp: 2345.0000 - fn: 127.0000 - accuracy: 0.8671 - auc: 0.9409 - val_loss: 0.8251 - val_tp: 291.0000 - val_fn: 287.0000 - val_accuracy: 0.5894 - val_auc: 0.6087\n",
      "Epoch 63/250\n",
      "10/10 [==============================] - 2s 246ms/step - loss: 0.3431 - tp: 2342.0000 - fn: 130.0000 - accuracy: 0.8663 - auc: 0.9414 - val_loss: 0.8211 - val_tp: 287.0000 - val_fn: 291.0000 - val_accuracy: 0.5924 - val_auc: 0.6045\n",
      "Epoch 64/250\n",
      "10/10 [==============================] - 2s 247ms/step - loss: 0.3401 - tp: 2357.0000 - fn: 115.0000 - accuracy: 0.8674 - auc: 0.9429 - val_loss: 0.8365 - val_tp: 296.0000 - val_fn: 282.0000 - val_accuracy: 0.5841 - val_auc: 0.6039\n",
      "Epoch 65/250\n",
      "10/10 [==============================] - 3s 275ms/step - loss: 0.3385 - tp: 2341.0000 - fn: 131.0000 - accuracy: 0.8688 - auc: 0.9420 - val_loss: 0.8515 - val_tp: 301.0000 - val_fn: 277.0000 - val_accuracy: 0.5788 - val_auc: 0.6079\n",
      "Epoch 66/250\n",
      "10/10 [==============================] - 2s 249ms/step - loss: 0.3372 - tp: 2350.0000 - fn: 122.0000 - accuracy: 0.8682 - auc: 0.9426 - val_loss: 0.8435 - val_tp: 296.0000 - val_fn: 282.0000 - val_accuracy: 0.5835 - val_auc: 0.6069\n",
      "Epoch 67/250\n",
      "10/10 [==============================] - 3s 251ms/step - loss: 0.3330 - tp: 2376.0000 - fn: 96.0000 - accuracy: 0.8699 - auc: 0.9440 - val_loss: 0.8475 - val_tp: 294.0000 - val_fn: 284.0000 - val_accuracy: 0.5835 - val_auc: 0.6045\n",
      "Epoch 68/250\n",
      "10/10 [==============================] - 3s 318ms/step - loss: 0.3311 - tp: 2362.0000 - fn: 110.0000 - accuracy: 0.8700 - auc: 0.9438 - val_loss: 0.8609 - val_tp: 297.0000 - val_fn: 281.0000 - val_accuracy: 0.5794 - val_auc: 0.6044\n"
     ]
    }
   ],
   "source": [
    "#calculate class weights\n",
    "tf.random.set_seed(1)\n",
    "target_0 = 5450 #these values will not change (are from review of test ds)\n",
    "target_1 = 3050\n",
    "total = target_0 + target_1\n",
    "\n",
    "class_weight_0 = (1 / target_0) * (total) / 2.0\n",
    "class_weight_1 = (1 / target_1) * (total) / 2.0\n",
    "\n",
    "class_weights = {0: class_weight_0, 1: class_weight_1}\n",
    "\n",
    "\n",
    "#early stopping if validation auc stops improving\n",
    "early_stopping = tf.keras.callbacks.EarlyStopping(monitor='val_auc', #val_auc\n",
    "                                patience=25,\n",
    "                                mode='max',\n",
    "                                restore_best_weights=True)\n",
    "\n",
    "\n",
    "\n",
    "\n",
    "for train_data, train_groundTruth in train_ds:\n",
    "    for valid_data, valid_groundTruth in valid_ds:\n",
    "        history = model.fit(train_data, \n",
    "                            train_groundTruth, \n",
    "                            steps_per_epoch=10, \n",
    "                            validation_data=(valid_data, valid_groundTruth), \n",
    "                            validation_steps=2,\n",
    "                            callbacks=[early_stopping],\n",
    "                            class_weight=class_weights,\n",
    "                            epochs=250)\n"
   ]
  },
  {
   "cell_type": "code",
   "execution_count": 15,
   "metadata": {
    "colab": {},
    "colab_type": "code",
    "id": "WNQKf2Y08zw2"
   },
   "outputs": [],
   "source": [
    "def plot_metric(metric1, metric2, ylabel):\n",
    "    plt.plot(history.history[metric1], label=metric1)\n",
    "    plt.plot(history.history[metric2], label=metric2)\n",
    "    plt.ylabel(ylabel)\n",
    "    plt.xlabel('epoch')\n",
    "    plt.legend()\n",
    "    plt.show()"
   ]
  },
  {
   "cell_type": "code",
   "execution_count": 16,
   "metadata": {
    "colab": {
     "base_uri": "https://localhost:8080/",
     "height": 803
    },
    "colab_type": "code",
    "id": "_BG-kKjK83qC",
    "outputId": "a2bca09f-72e4-43f9-a6e4-dde7ab2298e2"
   },
   "outputs": [
    {
     "data": {
      "image/png": "[encoded data removed]",
      "text/plain": [
       "<Figure size 432x288 with 1 Axes>"
      ]
     },
     "metadata": {
      "needs_background": "light",
      "tags": []
     },
     "output_type": "display_data"
    },
    {
     "data": {
      "image/png": "[encoded data removed]",
      "text/plain": [
       "<Figure size 432x288 with 1 Axes>"
      ]
     },
     "metadata": {
      "needs_background": "light",
      "tags": []
     },
     "output_type": "display_data"
    },
    {
     "data": {
      "image/png": "[encoded data removed]",
      "text/plain": [
       "<Figure size 432x288 with 1 Axes>"
      ]
     },
     "metadata": {
      "needs_background": "light",
      "tags": []
     },
     "output_type": "display_data"
    }
   ],
   "source": [
    "plot_metric('auc', 'val_auc', 'auc')\n",
    "plot_metric('loss', 'val_loss', 'loss')\n",
    "plot_metric('accuracy', 'val_accuracy', 'accuracy')"
   ]
  },
  {
   "cell_type": "code",
   "execution_count": 17,
   "metadata": {
    "colab": {
     "base_uri": "https://localhost:8080/",
     "height": 34
    },
    "colab_type": "code",
    "id": "NjL-SsIv-K5O",
    "outputId": "83870206-e174-4a96-fcae-b62482c8dbbf"
   },
   "outputs": [
    {
     "data": {
      "text/plain": [
       "0.6686465740203857"
      ]
     },
     "execution_count": 17,
     "metadata": {
      "tags": []
     },
     "output_type": "execute_result"
    }
   ],
   "source": [
    "max(history.history['val_auc']) "
   ]
  },
  {
   "cell_type": "code",
   "execution_count": 18,
   "metadata": {
    "colab": {},
    "colab_type": "code",
    "id": "bE6q1VFf-ME7"
   },
   "outputs": [],
   "source": [
    "model.save('hateful_memes_v3.h5')"
   ]
  },
  {
   "cell_type": "code",
   "execution_count": 19,
   "metadata": {
    "colab": {
     "base_uri": "https://localhost:8080/",
     "height": 54
    },
    "colab_type": "code",
    "id": "Dh9c21R6lEZc",
    "outputId": "4535098c-32c4-4153-ab0f-74fd22cf14e1"
   },
   "outputs": [
    {
     "name": "stderr",
     "output_type": "stream",
     "text": [
      "WARNING:google.auth._default:No project ID could be determined. Consider running `gcloud config set project` or setting the GOOGLE_CLOUD_PROJECT environment variable\n"
     ]
    }
   ],
   "source": [
    "#make into a fn\n",
    "bucket = 'jh_hateful_memes_test'\n",
    "client = storage.Client(project='hateful-memes', credentials=credentials)\n",
    "objects = client.list_blobs(bucket, prefix='hatefulmemes_')\n",
    "tfrecords = []\n",
    "for object_ in objects:\n",
    "    path = str(object_).split(', ')[1]\n",
    "    gs_path = os.path.join('gs://', bucket, path)\n",
    "    tfrecords.append(gs_path) #gs_path"
   ]
  },
  {
   "cell_type": "code",
   "execution_count": 20,
   "metadata": {
    "colab": {},
    "colab_type": "code",
    "id": "jU-hPa_8lMNP"
   },
   "outputs": [],
   "source": [
    "def decode_example_testds(example):\n",
    "    '''\n",
    "    decodes single tfexample from TFrecord file\n",
    "    '''\n",
    "    features = {'id': tf.io.FixedLenFeature([], tf.int64),\n",
    "                'text': tf.io.FixedLenFeature([], tf.string),\n",
    "                'text_lemma': tf.io.FixedLenFeature([], tf.string),\n",
    "                'text_lemma_no_stopwords': tf.io.FixedLenFeature([], tf.string),\n",
    "                'text_no_stopwords':tf.io.FixedLenFeature([], tf.string),\n",
    "                'image': tf.io.FixedLenFeature([], tf.string)}\n",
    "    single_example = tf.io.parse_single_example(example, features)\n",
    "    \n",
    "    text = tf.io.parse_tensor(single_example['text'], out_type=tf.int32)\n",
    "    image = tf.io.decode_jpeg(single_example['image'], 3)\n",
    "    image = tf.image.resize_with_pad(image, *params['image_size'])\n",
    "    image = image / 255.0\n",
    "    label = single_example['id']\n",
    "    return text, image, label\n",
    "\n",
    "def no_tpu_output(text, image, label): #needs to be called last\n",
    "    '''\n",
    "    transforms ds output from text, image, label -> (text, image), label\n",
    "    \n",
    "    args:\n",
    "        text: text output in ds\n",
    "        image: image output in ds\n",
    "        label: label output in ds\n",
    "    returns:\n",
    "        (text, image), label\n",
    "        args will be otherwise unchanged\n",
    "    '''\n",
    "    return (text, image), label\n",
    "    \n",
    "    "
   ]
  },
  {
   "cell_type": "code",
   "execution_count": 21,
   "metadata": {
    "colab": {},
    "colab_type": "code",
    "id": "wwWvCd3UGVql"
   },
   "outputs": [],
   "source": [
    "def create_test_ds(files, batch_size=params['batch_size'], tpu=tpu, file_size=params['test_examples_per_file']):\n",
    "    '''\n",
    "    function to create dataset for test data\n",
    "    ***clean up documentation for testds***\n",
    "    args:\n",
    "        files: list of str, filepaths of TFrecord files to be used in DS\n",
    "        batch_size: int, batch size of training/validation step\n",
    "        tpu: bool, default 'tpu' global variable, True is TPU is being used - not a bool update\n",
    "        file_size: int, default num_examples_per_tfrecordfile variable,\n",
    "            number of examples in each TFrecord file\n",
    "    ***todo - update batch_size and file_size to params\n",
    "    returns:\n",
    "        ds: tensorflow input pipeline with images, text and labels\n",
    "            if tpu is not None, output of ds is: text, image, label\n",
    "            if tpu is None, output of ds is: (text, image), label\n",
    "        ds_batches: int, number of steps in each epoch based on the batch_size\n",
    "    '''\n",
    "    ds = tf.data.TFRecordDataset(filenames = files)\n",
    "    ds = ds.map(decode_example_testds, num_parallel_calls=tf.data.experimental.AUTOTUNE)\n",
    "    #consider adding augmentation to image - can't flip(?)\n",
    "    if tpu is None:\n",
    "        ds = ds.map(no_tpu_output, num_parallel_calls=tf.data.experimental.AUTOTUNE)\n",
    "    ds = ds.batch(batch_size, drop_remainder=False).prefetch(tf.data.experimental.AUTOTUNE)\n",
    "#     ds = ds.cache() # -- confirm if dataset is small enough to be cached\n",
    "    \n",
    "    ds_batches = (len(files) * file_size) // batch_size\n",
    "    if (len(files) * file_size) % batch_size > 0:\n",
    "        ds_batches += 1\n",
    "    return ds, ds_batches\n",
    "    \n",
    "    "
   ]
  },
  {
   "cell_type": "code",
   "execution_count": 22,
   "metadata": {
    "colab": {},
    "colab_type": "code",
    "id": "bcVbjWe8i-Kr"
   },
   "outputs": [],
   "source": [
    "test_ds, test_steps = create_test_ds(tfrecords, batch_size=1000)"
   ]
  },
  {
   "cell_type": "code",
   "execution_count": 23,
   "metadata": {
    "colab": {},
    "colab_type": "code",
    "id": "or7-zGBVlppw"
   },
   "outputs": [],
   "source": [
    "for x_test in test_ds:\n",
    "    predictions = model.predict(x_test, steps=test_steps)"
   ]
  },
  {
   "cell_type": "code",
   "execution_count": 24,
   "metadata": {
    "colab": {},
    "colab_type": "code",
    "id": "_pxtLzph-tdq"
   },
   "outputs": [],
   "source": [
    "_, _, prediction_ids = next(iter(test_ds.\n",
    "                          # map(lambda img, ids:ids).\n",
    "                          unbatch().\n",
    "                          batch(1000)))#.numpy().astype('int')\n",
    "prediction_ids = prediction_ids.numpy()"
   ]
  },
  {
   "cell_type": "code",
   "execution_count": 25,
   "metadata": {
    "colab": {},
    "colab_type": "code",
    "id": "ABcoxiAH_le8"
   },
   "outputs": [],
   "source": [
    "prediction_dict = {\n",
    "    'id': prediction_ids,\n",
    "    'proba': np.concatenate(predictions),\n",
    "    'label': np.ones(1000, int)\n",
    "}\n",
    "submission_ds = pd.DataFrame(prediction_dict)\n",
    "\n"
   ]
  },
  {
   "cell_type": "code",
   "execution_count": 26,
   "metadata": {
    "colab": {},
    "colab_type": "code",
    "id": "UC0AiCcELFFD"
   },
   "outputs": [],
   "source": [
    "submission_ds.to_csv('submission.csv', index=False)"
   ]
  },
  {
   "cell_type": "code",
   "execution_count": 26,
   "metadata": {
    "colab": {},
    "colab_type": "code",
    "id": "Sz6LiBDztduQ"
   },
   "outputs": [],
   "source": []
  }
 ],
 "metadata": {
  "accelerator": "TPU",
  "colab": {
   "name": "two_input_model-5.ipynb",
   "provenance": []
  },
  "kernelspec": {
   "display_name": "Python 3",
   "language": "python",
   "name": "python3"
  },
  "language_info": {
   "codemirror_mode": {
    "name": "ipython",
    "version": 3
   },
   "file_extension": ".py",
   "mimetype": "text/x-python",
   "name": "python",
   "nbconvert_exporter": "python",
   "pygments_lexer": "ipython3",
   "version": "3.7.3"
  }
 },
 "nbformat": 4,
 "nbformat_minor": 1
}
