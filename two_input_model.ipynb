{
 "cells": [
  {
   "cell_type": "code",
   "execution_count": 1,
   "metadata": {
    "colab": {
     "base_uri": "https://localhost:8080/",
     "height": 34
    },
    "id": "e4BdgGfH718Y",
    "outputId": "58a9d6ec-e9ad-4dee-9b59-fc27d5c1ae1b"
   },
   "outputs": [
    {
     "name": "stdout",
     "output_type": "stream",
     "text": [
      "2.3.0\n"
     ]
    }
   ],
   "source": [
    "#set random seeds\n",
    "from numpy.random import seed\n",
    "seed(1)\n",
    "from tensorflow.random import set_seed\n",
    "set_seed(1)\n",
    "\n",
    "import pandas as pd\n",
    "import numpy as np\n",
    "\n",
    "#machine learning\n",
    "import tensorflow as tf\n",
    "print(tf.__version__)\n",
    "from tensorflow.keras import layers \n",
    "from tensorflow import keras\n",
    "from sklearn.model_selection import train_test_split\n",
    "\n",
    "#accessing files\n",
    "from google.cloud import storage\n",
    "import os\n",
    "\n",
    "#display charts/images\n",
    "import matplotlib.pyplot as plt\n",
    "\n",
    "#don't need\n",
    "from tensorflow.python.keras.preprocessing import sequence\n",
    "# from tensorflow.python.keras.preprocessing import text\n",
    "import tensorflow_hub as hub\n",
    "\n",
    "import json\n",
    "\n",
    "\n"
   ]
  },
  {
   "cell_type": "code",
   "execution_count": 2,
   "metadata": {
    "id": "9__sYCZ7718e"
   },
   "outputs": [],
   "source": [
    "params = {\n",
    "    'image_size': [299, 299],\n",
    "    'text_input': (58,),\n",
    "    'batch_size': 512,\n",
    "    'vocab_size': 30000,\n",
    "    'examples_per_file': 850, #will not change\n",
    "    'train_size':8500,\n",
    "    'test_examples_per_file': 500,\n",
    "    'test_size': 1000,\n",
    "    'version': 17, #model version number\n",
    "    'caption_text_input_length': 49,\n",
    "    'caption_model_version': 6,\n",
    "    'meme_text_length': 58,\n",
    "    'caption_embedding_dim': 300,\n",
    "    'caption_vocab_size' : 10000,\n",
    "    'tokenizer_start_index': 58, #index of tokenizer to signal sequence start\n",
    "    'tokenizer_end_index': 57,\n",
    "\n",
    "}\n",
    "\n",
    "\n"
   ]
  },
  {
   "cell_type": "code",
   "execution_count": 3,
   "metadata": {
    "colab": {
     "base_uri": "https://localhost:8080/",
     "height": 54
    },
    "id": "g3ZOLb6A718k",
    "outputId": "754a8ecf-0831-4e1c-f154-acb6645cec59"
   },
   "outputs": [
    {
     "name": "stderr",
     "output_type": "stream",
     "text": [
      "WARNING:google.auth._default:No project ID could be determined. Consider running `gcloud config set project` or setting the GOOGLE_CLOUD_PROJECT environment variable\n"
     ]
    }
   ],
   "source": [
    "try:\n",
    "    from google.colab import auth\n",
    "    auth.authenticate_user()\n",
    "    credentials=None\n",
    "\n",
    "except ModuleNotFoundError:\n",
    "\n",
    "\n",
    "    from google.oauth2 import service_account\n",
    "\n",
    "    credentials = service_account.Credentials.from_service_account_file( #file location of GCS private key\n",
    "        '/Users/jeremiahherberg/Downloads/hateful-memes-af65c70c1b79.json')\n",
    "\n",
    "client = storage.Client(project='hateful-memes', credentials=credentials)"
   ]
  },
  {
   "cell_type": "code",
   "execution_count": 4,
   "metadata": {
    "colab": {
     "base_uri": "https://localhost:8080/",
     "height": 54
    },
    "id": "BMUqKpKY718s",
    "outputId": "dd2f965e-6b3b-407d-ed2e-6a1a71139e98"
   },
   "outputs": [
    {
     "name": "stderr",
     "output_type": "stream",
     "text": [
      "WARNING:google.auth._default:No project ID could be determined. Consider running `gcloud config set project` or setting the GOOGLE_CLOUD_PROJECT environment variable\n"
     ]
    }
   ],
   "source": [
    "bucket = 'jh_hateful_memes'\n",
    "glove_bucket = 'kds-5123f8991f380aa8ec3a0dfae64a3732b529d4e504450dd8f9e55fb1'\n",
    "caption_token_bucket = 'kds-e7996502fe373b391a0a14641ad5f932ee7d607744dbe970cc8ffe08'\n",
    "client = storage.Client(project='hateful-memes', credentials=credentials)\n"
   ]
  },
  {
   "cell_type": "code",
   "execution_count": 5,
   "metadata": {
    "colab": {
     "base_uri": "https://localhost:8080/",
     "height": 768
    },
    "id": "VdrBIeYx718x",
    "outputId": "d3a7ed80-a8f3-4792-8fc4-478d75008d25"
   },
   "outputs": [
    {
     "name": "stdout",
     "output_type": "stream",
     "text": [
      "Running on TPU  grpc://10.114.90.130:8470\n",
      "INFO:tensorflow:Initializing the TPU system: grpc://10.114.90.130:8470\n"
     ]
    },
    {
     "name": "stderr",
     "output_type": "stream",
     "text": [
      "INFO:tensorflow:Initializing the TPU system: grpc://10.114.90.130:8470\n"
     ]
    },
    {
     "name": "stdout",
     "output_type": "stream",
     "text": [
      "INFO:tensorflow:Clearing out eager caches\n"
     ]
    },
    {
     "name": "stderr",
     "output_type": "stream",
     "text": [
      "INFO:tensorflow:Clearing out eager caches\n"
     ]
    },
    {
     "name": "stdout",
     "output_type": "stream",
     "text": [
      "INFO:tensorflow:Finished initializing TPU system.\n"
     ]
    },
    {
     "name": "stderr",
     "output_type": "stream",
     "text": [
      "INFO:tensorflow:Finished initializing TPU system.\n",
      "WARNING:absl:`tf.distribute.experimental.TPUStrategy` is deprecated, please use  the non experimental symbol `tf.distribute.TPUStrategy` instead.\n"
     ]
    },
    {
     "name": "stdout",
     "output_type": "stream",
     "text": [
      "INFO:tensorflow:Found TPU system:\n"
     ]
    },
    {
     "name": "stderr",
     "output_type": "stream",
     "text": [
      "INFO:tensorflow:Found TPU system:\n"
     ]
    },
    {
     "name": "stdout",
     "output_type": "stream",
     "text": [
      "INFO:tensorflow:*** Num TPU Cores: 8\n"
     ]
    },
    {
     "name": "stderr",
     "output_type": "stream",
     "text": [
      "INFO:tensorflow:*** Num TPU Cores: 8\n"
     ]
    },
    {
     "name": "stdout",
     "output_type": "stream",
     "text": [
      "INFO:tensorflow:*** Num TPU Workers: 1\n"
     ]
    },
    {
     "name": "stderr",
     "output_type": "stream",
     "text": [
      "INFO:tensorflow:*** Num TPU Workers: 1\n"
     ]
    },
    {
     "name": "stdout",
     "output_type": "stream",
     "text": [
      "INFO:tensorflow:*** Num TPU Cores Per Worker: 8\n"
     ]
    },
    {
     "name": "stderr",
     "output_type": "stream",
     "text": [
      "INFO:tensorflow:*** Num TPU Cores Per Worker: 8\n"
     ]
    },
    {
     "name": "stdout",
     "output_type": "stream",
     "text": [
      "INFO:tensorflow:*** Available Device: _DeviceAttributes(/job:localhost/replica:0/task:0/device:CPU:0, CPU, 0, 0)\n"
     ]
    },
    {
     "name": "stderr",
     "output_type": "stream",
     "text": [
      "INFO:tensorflow:*** Available Device: _DeviceAttributes(/job:localhost/replica:0/task:0/device:CPU:0, CPU, 0, 0)\n"
     ]
    },
    {
     "name": "stdout",
     "output_type": "stream",
     "text": [
      "INFO:tensorflow:*** Available Device: _DeviceAttributes(/job:localhost/replica:0/task:0/device:XLA_CPU:0, XLA_CPU, 0, 0)\n"
     ]
    },
    {
     "name": "stderr",
     "output_type": "stream",
     "text": [
      "INFO:tensorflow:*** Available Device: _DeviceAttributes(/job:localhost/replica:0/task:0/device:XLA_CPU:0, XLA_CPU, 0, 0)\n"
     ]
    },
    {
     "name": "stdout",
     "output_type": "stream",
     "text": [
      "INFO:tensorflow:*** Available Device: _DeviceAttributes(/job:worker/replica:0/task:0/device:CPU:0, CPU, 0, 0)\n"
     ]
    },
    {
     "name": "stderr",
     "output_type": "stream",
     "text": [
      "INFO:tensorflow:*** Available Device: _DeviceAttributes(/job:worker/replica:0/task:0/device:CPU:0, CPU, 0, 0)\n"
     ]
    },
    {
     "name": "stdout",
     "output_type": "stream",
     "text": [
      "INFO:tensorflow:*** Available Device: _DeviceAttributes(/job:worker/replica:0/task:0/device:TPU:0, TPU, 0, 0)\n"
     ]
    },
    {
     "name": "stderr",
     "output_type": "stream",
     "text": [
      "INFO:tensorflow:*** Available Device: _DeviceAttributes(/job:worker/replica:0/task:0/device:TPU:0, TPU, 0, 0)\n"
     ]
    },
    {
     "name": "stdout",
     "output_type": "stream",
     "text": [
      "INFO:tensorflow:*** Available Device: _DeviceAttributes(/job:worker/replica:0/task:0/device:TPU:1, TPU, 0, 0)\n"
     ]
    },
    {
     "name": "stderr",
     "output_type": "stream",
     "text": [
      "INFO:tensorflow:*** Available Device: _DeviceAttributes(/job:worker/replica:0/task:0/device:TPU:1, TPU, 0, 0)\n"
     ]
    },
    {
     "name": "stdout",
     "output_type": "stream",
     "text": [
      "INFO:tensorflow:*** Available Device: _DeviceAttributes(/job:worker/replica:0/task:0/device:TPU:2, TPU, 0, 0)\n"
     ]
    },
    {
     "name": "stderr",
     "output_type": "stream",
     "text": [
      "INFO:tensorflow:*** Available Device: _DeviceAttributes(/job:worker/replica:0/task:0/device:TPU:2, TPU, 0, 0)\n"
     ]
    },
    {
     "name": "stdout",
     "output_type": "stream",
     "text": [
      "INFO:tensorflow:*** Available Device: _DeviceAttributes(/job:worker/replica:0/task:0/device:TPU:3, TPU, 0, 0)\n"
     ]
    },
    {
     "name": "stderr",
     "output_type": "stream",
     "text": [
      "INFO:tensorflow:*** Available Device: _DeviceAttributes(/job:worker/replica:0/task:0/device:TPU:3, TPU, 0, 0)\n"
     ]
    },
    {
     "name": "stdout",
     "output_type": "stream",
     "text": [
      "INFO:tensorflow:*** Available Device: _DeviceAttributes(/job:worker/replica:0/task:0/device:TPU:4, TPU, 0, 0)\n"
     ]
    },
    {
     "name": "stderr",
     "output_type": "stream",
     "text": [
      "INFO:tensorflow:*** Available Device: _DeviceAttributes(/job:worker/replica:0/task:0/device:TPU:4, TPU, 0, 0)\n"
     ]
    },
    {
     "name": "stdout",
     "output_type": "stream",
     "text": [
      "INFO:tensorflow:*** Available Device: _DeviceAttributes(/job:worker/replica:0/task:0/device:TPU:5, TPU, 0, 0)\n"
     ]
    },
    {
     "name": "stderr",
     "output_type": "stream",
     "text": [
      "INFO:tensorflow:*** Available Device: _DeviceAttributes(/job:worker/replica:0/task:0/device:TPU:5, TPU, 0, 0)\n"
     ]
    },
    {
     "name": "stdout",
     "output_type": "stream",
     "text": [
      "INFO:tensorflow:*** Available Device: _DeviceAttributes(/job:worker/replica:0/task:0/device:TPU:6, TPU, 0, 0)\n"
     ]
    },
    {
     "name": "stderr",
     "output_type": "stream",
     "text": [
      "INFO:tensorflow:*** Available Device: _DeviceAttributes(/job:worker/replica:0/task:0/device:TPU:6, TPU, 0, 0)\n"
     ]
    },
    {
     "name": "stdout",
     "output_type": "stream",
     "text": [
      "INFO:tensorflow:*** Available Device: _DeviceAttributes(/job:worker/replica:0/task:0/device:TPU:7, TPU, 0, 0)\n"
     ]
    },
    {
     "name": "stderr",
     "output_type": "stream",
     "text": [
      "INFO:tensorflow:*** Available Device: _DeviceAttributes(/job:worker/replica:0/task:0/device:TPU:7, TPU, 0, 0)\n"
     ]
    },
    {
     "name": "stdout",
     "output_type": "stream",
     "text": [
      "INFO:tensorflow:*** Available Device: _DeviceAttributes(/job:worker/replica:0/task:0/device:TPU_SYSTEM:0, TPU_SYSTEM, 0, 0)\n"
     ]
    },
    {
     "name": "stderr",
     "output_type": "stream",
     "text": [
      "INFO:tensorflow:*** Available Device: _DeviceAttributes(/job:worker/replica:0/task:0/device:TPU_SYSTEM:0, TPU_SYSTEM, 0, 0)\n"
     ]
    },
    {
     "name": "stdout",
     "output_type": "stream",
     "text": [
      "INFO:tensorflow:*** Available Device: _DeviceAttributes(/job:worker/replica:0/task:0/device:XLA_CPU:0, XLA_CPU, 0, 0)\n"
     ]
    },
    {
     "name": "stderr",
     "output_type": "stream",
     "text": [
      "INFO:tensorflow:*** Available Device: _DeviceAttributes(/job:worker/replica:0/task:0/device:XLA_CPU:0, XLA_CPU, 0, 0)\n"
     ]
    },
    {
     "name": "stdout",
     "output_type": "stream",
     "text": [
      "REPLICAS:  8\n"
     ]
    }
   ],
   "source": [
    "try:\n",
    "    # TPU detection. No parameters necessary if TPU_NAME environment variable is\n",
    "    # set: this is always the case on Kaggle.\n",
    "    tpu = tf.distribute.cluster_resolver.TPUClusterResolver()\n",
    "    print('Running on TPU ', tpu.master())\n",
    "except ValueError:\n",
    "    tpu = None\n",
    "\n",
    "if tpu:\n",
    "    tf.config.experimental_connect_to_cluster(tpu)\n",
    "    tf.tpu.experimental.initialize_tpu_system(tpu)\n",
    "    strategy = tf.distribute.experimental.TPUStrategy(tpu)\n",
    "else:\n",
    "    # Default distribution strategy in Tensorflow. Works on CPU and single GPU.\n",
    "    strategy = tf.distribute.get_strategy()\n",
    "\n",
    "print(\"REPLICAS: \", strategy.num_replicas_in_sync)"
   ]
  },
  {
   "cell_type": "code",
   "execution_count": 6,
   "metadata": {
    "id": "rm40cYA_718y"
   },
   "outputs": [],
   "source": [
    "def decode_example_train(example):\n",
    "    '''\n",
    "    decodes single tfexample from TFrecord file\n",
    "    '''\n",
    "    features = {'label': tf.io.FixedLenFeature([], tf.int64),\n",
    "                'text': tf.io.FixedLenFeature([], tf.string),\n",
    "                'text_lemma': tf.io.FixedLenFeature([], tf.string),\n",
    "                'text_lemma_no_stopwords': tf.io.FixedLenFeature([], tf.string),\n",
    "                'text_no_stopwords':tf.io.FixedLenFeature([], tf.string),\n",
    "                'image': tf.io.FixedLenFeature([], tf.string)}\n",
    "    single_example = tf.io.parse_single_example(example, features)\n",
    "    \n",
    "    text = tf.io.parse_tensor(single_example['text'], out_type=tf.int32)\n",
    "    textL = tf.io.parse_tensor(single_example['text_lemma'], out_type=tf.int32)\n",
    "    # text = tf.cast(text, tf.float32) \n",
    "    image = tf.io.decode_jpeg(single_example['image'], 3)\n",
    "    image = tf.image.resize_with_pad(image, *params['image_size'])\n",
    "    image = image / 127.5\n",
    "    image = image -1\n",
    "    label = single_example['label']\n",
    "    # label = tf.cast(label, tf.float32)\n",
    "    return text, image, label\n",
    "\n",
    "def decode_example_test(example):\n",
    "    '''\n",
    "    decodes single tfexample from TFrecord file\n",
    "    '''\n",
    "    features = {'id': tf.io.FixedLenFeature([], tf.int64),\n",
    "                'text': tf.io.FixedLenFeature([], tf.string),\n",
    "                'text_lemma': tf.io.FixedLenFeature([], tf.string),\n",
    "                'text_lemma_no_stopwords': tf.io.FixedLenFeature([], tf.string),\n",
    "                'text_no_stopwords':tf.io.FixedLenFeature([], tf.string),\n",
    "                'image': tf.io.FixedLenFeature([], tf.string)}\n",
    "    single_example = tf.io.parse_single_example(example, features)\n",
    "    \n",
    "    text = tf.io.parse_tensor(single_example['text'], out_type=tf.int32)\n",
    "    textL = tf.io.parse_tensor(single_example['text_lemma'], out_type=tf.int32)\n",
    "    # text = tf.cast(text, tf.float32) \n",
    "    image = tf.io.decode_jpeg(single_example['image'], 3)\n",
    "    image = tf.image.resize_with_pad(image, *params['image_size'])\n",
    "    image = image / 127.5\n",
    "    image = image -1\n",
    "    label = single_example['id']\n",
    "    # label = tf.cast(label, tf.float32)\n",
    "    return text, image, label\n",
    "\n",
    "def flip_image(text, image, label): \n",
    "    '''\n",
    "    randombly flips image input\n",
    "    \n",
    "    args:\n",
    "        text: text output in ds\n",
    "        image: image output in ds\n",
    "        label: label output in ds (can also be id)\n",
    "    returns:\n",
    "        text, image, label\n",
    "        args will be otherwise unchanged\n",
    "    '''\n",
    "    \n",
    "    image = tf.image.random_flip_left_right(image)\n",
    "\n",
    "    return text, image, label\n",
    "\n",
    "\n",
    "def convert_xy(text, image, label): #needs to be called last\n",
    "    '''\n",
    "    transforms ds output from text, image, label -> (text, image), label\n",
    "    \n",
    "    args:\n",
    "        text: text output in ds\n",
    "        image: image output in ds\n",
    "        label: label output in ds (can also be id)\n",
    "    returns:\n",
    "        (text, image), label\n",
    "        args will be otherwise unchanged\n",
    "    '''\n",
    "    return (text, image), label\n",
    "    \n",
    "    "
   ]
  },
  {
   "cell_type": "code",
   "execution_count": 7,
   "metadata": {
    "id": "i_Cs9V0ixxW-"
   },
   "outputs": [],
   "source": [
    "def create_ds(params, client, bucket, prefix, is_training):\n",
    "    '''\n",
    "    creates dataset from CSV file \n",
    "    args:\n",
    "        params, dictionary with the following key:\n",
    "            caption_model_version: int, image caption version number\n",
    "            train_size: int, dataset size of training data\n",
    "            test_size: int, dataset size of test data\n",
    "        client: google.cloud.storage.Client object,\n",
    "        bucket: bucket CSV files are located in\n",
    "        prefix: str, prefix to append to the beginng of each file name\n",
    "        is_training: Bool, indicator if the DS is for training/validation or testing\n",
    "    '''\n",
    "    caption_version = params['caption_model_version']\n",
    "    text_file = '{}_caption_model_text_v{}.csv'.format(prefix, caption_version)\n",
    "    caption_file = '{}_caption_model_captions_v{}.csv'.format(prefix, caption_version)\n",
    "    label_file = '{}_caption_model_label_v{}.csv'.format(prefix, caption_version)\n",
    "    for file in [text_file, caption_file, label_file]:\n",
    "        if not os.path.isfile(file):\n",
    "            download_file(client, bucket, file)\n",
    "    text = pd.read_csv(text_file)\n",
    "    caption = pd.read_csv(caption_file)\n",
    "    labels = pd.read_csv(label_file)\n",
    "    ds = tf.data.Dataset.from_tensor_slices(((caption.values, text.values), labels.values))\n",
    "    if is_training:\n",
    "        batch_size = params['train_size']\n",
    "    else:\n",
    "        batch_size = params['test_size']\n",
    "    ds = ds.batch(batch_size)\n",
    "    return ds\n",
    "\n",
    "    "
   ]
  },
  {
   "cell_type": "code",
   "execution_count": 8,
   "metadata": {
    "id": "pG08Jw4NRl5O"
   },
   "outputs": [],
   "source": [
    "def download_file(client, bucket, file_name):\n",
    "    '''\n",
    "    downloads a file from a GCS bucket into working directory\n",
    "\n",
    "    args:\n",
    "        client: google.cloud.storage.Client object\n",
    "        bucket: str, name of bucket to download file from\n",
    "        file_name: str, file name to download\n",
    "    returns: None\n",
    "    \n",
    "    '''\n",
    "    _bucket = client.bucket(bucket)\n",
    "    blob = _bucket.blob(file_name)\n",
    "    blob.download_to_filename(file_name)\n",
    "    \n",
    "\n",
    "def create_tokenizer_from_filename(file_name,\n",
    "                                  bucket_=None,\n",
    "                                  client_=None):\n",
    "    '''\n",
    "    creates tf.keras.preprocessing.text.tokenizer from a \n",
    "    json config file in current working directory\n",
    "    args:\n",
    "        client_: google.cloud.storage.Client object\n",
    "        file_name: str, filename where config json file is located\n",
    "        bucket_, str, default None, name of GCS bucket with an object with the\n",
    "            same file name as glove_file, if an arg\n",
    "            is passed, function will first check if file_name exists in current\n",
    "            directory, and if not, will download an object located at file_name\n",
    "            in the bucket passed into bucket arg\n",
    "    returns:\n",
    "        tokenizer object\n",
    "    '''\n",
    "    if bucket:\n",
    "        if not os.path.isfile(file_name):\n",
    "            download_file(client_, bucket_,file_name)\n",
    "    with open(file_name) as file:\n",
    "        open_file = json.load(file)\n",
    "        tokenizer = tf.keras.preprocessing.text.tokenizer_from_json(open_file)\n",
    "    return tokenizer\n",
    "\n",
    "def get_embedding_weights_from_tokenizer_glove(glove_file,\n",
    "                                              tokenizer,\n",
    "                                              embedding_dim,\n",
    "                                              bucket=None,\n",
    "                                               client=None\n",
    "                                              ):\n",
    "    '''\n",
    "    gets the weights to use in an embedding layer from a pretained\n",
    "    model based on the tokenizer used to create sequences that will\n",
    "    be passed into embedding layer\n",
    "    \n",
    "    args:\n",
    "        glove_file: str, path of pretrained model from current directory\n",
    "        tokenizer: tf.keras.preprocessing.text.tokenizer object, tokenizer\n",
    "            that was used to create sequences\n",
    "        embedding_dim: int, output_dim of embedding layer of pre-trained model\n",
    "        bucket, str, default None, name of GCS bucket with an object with the\n",
    "            same file name as glove_file, if an arg\n",
    "            is passed, function will first check if glove_file exists in current\n",
    "            directory, and if not, will download an object located at glove_file\n",
    "            in the bucket passed into bucket arg\n",
    "    returns: \n",
    "        embedding_weights: numpy array, shaped* (vocab_size, embedding_dim)\n",
    "            weights that can be used for embedding layer\n",
    "            *vocab_size = tokenizer.num_words which is the number of words in\n",
    "            the tokenizer vocabulary\n",
    "        \n",
    "    '''\n",
    "    if bucket:\n",
    "        if not os.path.isfile(glove_file):\n",
    "            download_file(client, bucket, glove_file)\n",
    "    word_values = dict()\n",
    "    file = open(glove_file, encoding='utf-8')\n",
    "    \n",
    "    for line in file:\n",
    "        coeff = line.split()\n",
    "        word = coeff[0]\n",
    "        coefficients = np.asarray(coeff[-embedding_dim:], dtype='float32')\n",
    "        word_values[word] = coefficients\n",
    "\n",
    "            \n",
    "    file.close()\n",
    "    vocab_size = tokenizer.num_words\n",
    "    embedding_weights = np.zeros((vocab_size, embedding_dim))\n",
    "    for word, idx in tokenizer.word_index.items():\n",
    "        if idx < vocab_size:\n",
    "            word_embedding_values = word_values.get(word)\n",
    "            if word_embedding_values is not None:\n",
    "                embedding_weights[idx] = word_embedding_values\n",
    "    \n",
    "    return embedding_weights"
   ]
  },
  {
   "cell_type": "code",
   "execution_count": 9,
   "metadata": {
    "id": "V6RbH_oRmjUU"
   },
   "outputs": [],
   "source": [
    "def pair_separableConv1D(x, \n",
    "                         filters, kernal_size, act, first_reg, sec_reg,\n",
    "                        maxpooling_poolsize):\n",
    "    '''\n",
    "    function to add the following layers to a Keras Functional model:\n",
    "        layers.SeparableConv1D\n",
    "        layers.SeparableConv1D\n",
    "        layers.MaxPooling1D\n",
    "    \n",
    "    args:\n",
    "        x: keras input layer, or series of layers that can be traced to input layer\n",
    "        kernal_size: int, kernal size for SeparableConv1D layers\n",
    "        act: str, activation for SeparableConv1D layers\n",
    "        first_reg, keras regularizer to pass into 1st conv layer\n",
    "        sec_reg, keras regularizer to pass into 2nd conv layer\n",
    "        maxpooling_poolsize: int, poolsize for maxpooling layer\n",
    "    \n",
    "    returns:\n",
    "        x: x that was input into fn with above layers added\n",
    "    '''\n",
    "    x = layers.SeparableConv1D(filters=filters, kernel_size=kernal_size, \n",
    "                              activation=act, padding='same',\n",
    "                              kernel_regularizer=first_reg)(x)\n",
    "    x = layers.SeparableConv1D(filters=filters, kernel_size=kernal_size, \n",
    "                              activation=act, padding='same',\n",
    "                              kernel_regularizer=sec_reg)(x)\n",
    "    x = layers.MaxPooling1D(pool_size=maxpooling_poolsize, padding='same')(x)\n",
    "    x = layers.BatchNormalization()(x)\n",
    "    return x"
   ]
  },
  {
   "cell_type": "code",
   "execution_count": 10,
   "metadata": {
    "id": "Z7nJDhlumjUX"
   },
   "outputs": [],
   "source": [
    "def conv2dset(x, \n",
    "              conv_filter, kernel, regularizer=None, \n",
    "              maxpooling_poolsize=2, \n",
    "              conv_act=None, \n",
    "              dense_units=None, dense_act=None):\n",
    "    '''\n",
    "    function to add the following layers to a Keras Functional model:\n",
    "        layers.Conv2D\n",
    "        MaxPooling2D\n",
    "        Batchnormalization\n",
    "        (activation layer)\n",
    "        layers.Dense (if applicable)\n",
    "    \n",
    "    args:\n",
    "        x: keras input layer, or series of layers that can be traced to input layer\n",
    "        conv_filter: int, number of filters in Conv2D layer\n",
    "        kernel: int, kernel size in Conv2D layer\n",
    "        regularizer: keras.regularizers object, default: None, regularizer in \n",
    "            Conv2D layer\n",
    "        maxpooling_poolsize: int, default 2, poolsize for maxpooling layer\n",
    "        conv_act: keras layer (without the \"()\"), default None, activation\n",
    "            layer that will go after the batchnormalization layer\n",
    "        dense_units: int, default None, number of units in dense layer\n",
    "            if None, there will be no dense layer\n",
    "        dense_act: str, default None, activation in dense layer\n",
    "    \n",
    "    returns:\n",
    "        x: x that was input into fn with above layers added\n",
    "        \n",
    "    '''\n",
    "    x = layers.Conv2D(filters=conv_filter, kernel_size=kernel, padding='same', \n",
    "                      kernel_regularizer=regularizer)(x)\n",
    "    if maxpooling_poolsize:\n",
    "        x = layers.MaxPooling2D(maxpooling_poolsize)(x)\n",
    "    # x = layers.BatchNormalization()(x)\n",
    "    if conv_act:\n",
    "        x = conv_act()(x)\n",
    "    if dense_units:\n",
    "        x = layers.Dense(dense_units, activation=dense_act)(x)\n",
    "    \n",
    "    return x\n",
    "\n",
    "def convblock(x, conv_fn, filters, regularizer, conv_act, kernal=5):\n",
    "    '''\n",
    "    makes a block of convolution layers\n",
    "    \n",
    "    todo -- work on documentation \n",
    "    '''\n",
    "    count = 0\n",
    "    for _ in range(2):\n",
    "        for filter_ in filters:\n",
    "            count +=1\n",
    "            if count == 2:\n",
    "                x1 = conv_fn(x, filter_, kernal, regularizer, 2, conv_act,)\n",
    "                x = x1\n",
    "            else:\n",
    "                x = conv_fn(x, filter_, kernal, regularizer, None, conv_act)\n",
    "    x = layers.Add()([x, x1])\n",
    "    return x\n",
    "\n"
   ]
  },
  {
   "cell_type": "code",
   "execution_count": 11,
   "metadata": {
    "id": "aHOtR_XA7182"
   },
   "outputs": [],
   "source": [
    "def create_model(params=params,\n",
    "                dense_nodes=128,\n",
    "                ltsm_units=128,\n",
    "                ltsm_dense_units=64,\n",
    "                caption_embedding=None,\n",
    "                text_embedding=None):\n",
    "    '''\n",
    "    creates model with two inputs and out output\n",
    "\n",
    "        \n",
    "    '''\n",
    "    #set some fixed variables\n",
    "    text_input_shape = params['text_input']\n",
    "    vocab_size = params['vocab_size']\n",
    "    image_size = params['image_size']\n",
    "    caption_input_len = params['caption_text_input_length']\n",
    "    meme_text_len = params['meme_text_length']\n",
    "    caption_dim = params['caption_embedding_dim']\n",
    "    caption_vocab_size = params['caption_vocab_size']\n",
    "    \n",
    "\n",
    "    relu = layers.ReLU\n",
    "    leaky = layers.LeakyReLU\n",
    "    reg = keras.regularizers.l2(0.001,)\n",
    "    dense_act = None\n",
    "    \n",
    "    #model inputs\n",
    "    input_text = layers.Input(text_input_shape, name='text_input')\n",
    "    embedding = layers.Embedding(input_dim=vocab_size, output_dim=300,  #300\n",
    "                                 input_length=meme_text_len, mask_zero=True)(input_text)\n",
    "    embedding = layers.Dropout(0.5)(embedding)\n",
    "\n",
    "    \n",
    "    input_caption = layers.Input((caption_input_len,), name='caption_input')\n",
    "    embedding_caption = layers.Embedding(input_dim=caption_vocab_size, output_dim=caption_dim, #caption_dim\n",
    "                                         input_length=caption_input_len, mask_zero=True)(input_caption)\n",
    "    embedding_caption = layers.Dropout(0.5)(embedding_caption)\n",
    "\n",
    "\n",
    "\n",
    "    text = layers.Concatenate(axis=1)([embedding_caption, embedding])\n",
    "\n",
    "    # # bidirectional\n",
    "    text = layers.Bidirectional(layers.LSTM(ltsm_units, return_sequences=False))(text)\n",
    "    text = layers.Dense(ltsm_dense_units, activation = 'relu')(text)\n",
    "    text = layers.Dense(dense_nodes, activation=None)(text)\n",
    "    # text = layers.LeakyReLU()(text)\n",
    "\n",
    "        \n",
    "\n",
    "\n",
    "    x = text\n",
    "    \n",
    "\n",
    "    final_output = layers.Dense(1, activation='sigmoid', name='final_out')(x)\n",
    "    \n",
    "\n",
    "    \n",
    "    model = keras.Model([input_caption, input_text], final_output) #input_image\n",
    "    model.layers[2].set_weights([caption_embedding])\n",
    "    model.layers[2].trainable = False\n",
    "    \n",
    "    model.layers[3].set_weights([text_embedding])\n",
    "    model.layers[3].trainable = False\n",
    "    metrics = [\n",
    "          keras.metrics.TruePositives(name='tp'),\n",
    "    #           keras.metrics.FalsePositives(name='fp'),\n",
    "    #           keras.metrics.TrueNegatives(name='tn'),\n",
    "          keras.metrics.FalseNegatives(name='fn'), \n",
    "          keras.metrics.BinaryAccuracy(name='accuracy'),\n",
    "    #           keras.metrics.Precision(name='precision'),\n",
    "    #           keras.metrics.Recall(name='recall'),\n",
    "          keras.metrics.AUC(name='auc'),\n",
    "    ]\n",
    "    schedule = tf.keras.optimizers.schedules.ExponentialDecay(0.0003, 27 *6, 0.65) #10 *3\n",
    "    model.compile(\n",
    "    optimizer=tf.keras.optimizers.Adam(schedule),\n",
    "    loss = tf.keras.losses.BinaryCrossentropy(label_smoothing = 0.01),\n",
    "    metrics=metrics)\n",
    "    \n",
    "    return model\n",
    "    \n",
    "    \n",
    "\n"
   ]
  },
  {
   "cell_type": "code",
   "execution_count": 12,
   "metadata": {
    "id": "alJt8bQV7185"
   },
   "outputs": [],
   "source": [
    "data_set = create_ds(params, client, bucket,\n",
    "                    'training', True)\n",
    "for data in data_set:\n",
    "    ds = data\n",
    "    break\n",
    "caption_tokenizer = create_tokenizer_from_filename('coco_tokenizer.json', \n",
    "                                           caption_token_bucket, client)\n",
    "caption_embedding = get_embedding_weights_from_tokenizer_glove('glove.840B.300d.txt',\n",
    "                                                               caption_tokenizer,\n",
    "                                                               300,\n",
    "                                                               glove_bucket, \n",
    "                                                               client)\n",
    "\n",
    "text_tokenizer = create_tokenizer_from_filename('tokenizer.json', \n",
    "                                           bucket, client)\n",
    "text_embedding = get_embedding_weights_from_tokenizer_glove('glove.840B.300d.txt',\n",
    "                                                               text_tokenizer,\n",
    "                                                               300,\n",
    "                                                               glove_bucket, client)\n"
   ]
  },
  {
   "cell_type": "code",
   "execution_count": 13,
   "metadata": {
    "colab": {
     "base_uri": "https://localhost:8080/",
     "height": 544
    },
    "id": "S25BV5he7187",
    "outputId": "6c3d9231-c730-47a4-9001-22fb1c6dd90f"
   },
   "outputs": [
    {
     "name": "stdout",
     "output_type": "stream",
     "text": [
      "Model: \"functional_1\"\n",
      "__________________________________________________________________________________________________\n",
      "Layer (type)                    Output Shape         Param #     Connected to                     \n",
      "==================================================================================================\n",
      "caption_input (InputLayer)      [(None, 49)]         0                                            \n",
      "__________________________________________________________________________________________________\n",
      "text_input (InputLayer)         [(None, 58)]         0                                            \n",
      "__________________________________________________________________________________________________\n",
      "embedding_1 (Embedding)         (None, 49, 300)      3000000     caption_input[0][0]              \n",
      "__________________________________________________________________________________________________\n",
      "embedding (Embedding)           (None, 58, 300)      9000000     text_input[0][0]                 \n",
      "__________________________________________________________________________________________________\n",
      "dropout_1 (Dropout)             (None, 49, 300)      0           embedding_1[0][0]                \n",
      "__________________________________________________________________________________________________\n",
      "dropout (Dropout)               (None, 58, 300)      0           embedding[0][0]                  \n",
      "__________________________________________________________________________________________________\n",
      "concatenate (Concatenate)       (None, 107, 300)     0           dropout_1[0][0]                  \n",
      "                                                                 dropout[0][0]                    \n",
      "__________________________________________________________________________________________________\n",
      "bidirectional (Bidirectional)   (None, 256)          439296      concatenate[0][0]                \n",
      "__________________________________________________________________________________________________\n",
      "dense (Dense)                   (None, 64)           16448       bidirectional[0][0]              \n",
      "__________________________________________________________________________________________________\n",
      "dense_1 (Dense)                 (None, 128)          8320        dense[0][0]                      \n",
      "__________________________________________________________________________________________________\n",
      "final_out (Dense)               (None, 1)            129         dense_1[0][0]                    \n",
      "==================================================================================================\n",
      "Total params: 12,464,193\n",
      "Trainable params: 464,193\n",
      "Non-trainable params: 12,000,000\n",
      "__________________________________________________________________________________________________\n"
     ]
    }
   ],
   "source": [
    "tf.random.set_seed(1)\n",
    "np.random.seed(1)\n",
    "with strategy.scope():\n",
    "    model = create_model(caption_embedding=caption_embedding,\n",
    "                         text_embedding=text_embedding)\n",
    "    model.summary()\n"
   ]
  },
  {
   "cell_type": "code",
   "execution_count": 14,
   "metadata": {
    "colab": {
     "base_uri": "https://localhost:8080/",
     "height": 1000
    },
    "id": "dbYqcMyy718-",
    "outputId": "cb6019fe-8504-4862-c6aa-ec73a8745ea4"
   },
   "outputs": [
    {
     "name": "stdout",
     "output_type": "stream",
     "text": [
      "Epoch 1/250\n",
      "WARNING:tensorflow:From /usr/local/lib/python3.6/dist-packages/tensorflow/python/data/ops/multi_device_iterator_ops.py:601: get_next_as_optional (from tensorflow.python.data.ops.iterator_ops) is deprecated and will be removed in a future version.\n",
      "Instructions for updating:\n",
      "Use `tf.data.Iterator.get_next_as_optional()` instead.\n"
     ]
    },
    {
     "name": "stderr",
     "output_type": "stream",
     "text": [
      "WARNING:tensorflow:From /usr/local/lib/python3.6/dist-packages/tensorflow/python/data/ops/multi_device_iterator_ops.py:601: get_next_as_optional (from tensorflow.python.data.ops.iterator_ops) is deprecated and will be removed in a future version.\n",
      "Instructions for updating:\n",
      "Use `tf.data.Iterator.get_next_as_optional()` instead.\n"
     ]
    },
    {
     "name": "stdout",
     "output_type": "stream",
     "text": [
      "\r 1/27 [>.............................] - ETA: 0s - loss: 0.7407 - tp: 0.0000e+00 - fn: 105.0000 - accuracy: 0.5833 - auc: 0.5426WARNING:tensorflow:Callbacks method `on_train_batch_end` is slow compared to the batch time (batch time: 0.0042s vs `on_train_batch_end` time: 0.0411s). Check your callbacks.\n"
     ]
    },
    {
     "name": "stderr",
     "output_type": "stream",
     "text": [
      "WARNING:tensorflow:Callbacks method `on_train_batch_end` is slow compared to the batch time (batch time: 0.0042s vs `on_train_batch_end` time: 0.0411s). Check your callbacks.\n"
     ]
    },
    {
     "name": "stdout",
     "output_type": "stream",
     "text": [
      "27/27 [==============================] - ETA: 0s - loss: 0.6858 - tp: 1115.0000 - fn: 1300.0000 - accuracy: 0.5649 - auc: 0.5638WARNING:tensorflow:Callbacks method `on_test_batch_end` is slow compared to the batch time (batch time: 0.0022s vs `on_test_batch_end` time: 0.0204s). Check your callbacks.\n"
     ]
    },
    {
     "name": "stderr",
     "output_type": "stream",
     "text": [
      "WARNING:tensorflow:Callbacks method `on_test_batch_end` is slow compared to the batch time (batch time: 0.0022s vs `on_test_batch_end` time: 0.0204s). Check your callbacks.\n"
     ]
    },
    {
     "name": "stdout",
     "output_type": "stream",
     "text": [
      "27/27 [==============================] - 8s 312ms/step - loss: 0.6858 - tp: 1115.0000 - fn: 1300.0000 - accuracy: 0.5649 - auc: 0.5638 - val_loss: 0.6620 - val_tp: 319.0000 - val_fn: 285.0000 - val_accuracy: 0.6741 - val_auc: 0.6706\n",
      "Epoch 2/250\n",
      "27/27 [==============================] - 3s 111ms/step - loss: 0.6508 - tp: 1490.0000 - fn: 925.0000 - accuracy: 0.6271 - auc: 0.6692 - val_loss: 0.5989 - val_tp: 225.0000 - val_fn: 379.0000 - val_accuracy: 0.6953 - val_auc: 0.6885\n",
      "Epoch 3/250\n",
      "27/27 [==============================] - 3s 117ms/step - loss: 0.6236 - tp: 1433.0000 - fn: 982.0000 - accuracy: 0.6609 - auc: 0.7062 - val_loss: 0.6144 - val_tp: 344.0000 - val_fn: 260.0000 - val_accuracy: 0.6788 - val_auc: 0.7079\n",
      "Epoch 4/250\n",
      "27/27 [==============================] - 3s 110ms/step - loss: 0.6111 - tp: 1535.0000 - fn: 880.0000 - accuracy: 0.6724 - auc: 0.7246 - val_loss: 0.5855 - val_tp: 265.0000 - val_fn: 339.0000 - val_accuracy: 0.7182 - val_auc: 0.7160\n",
      "Epoch 5/250\n",
      "27/27 [==============================] - 3s 111ms/step - loss: 0.6048 - tp: 1529.0000 - fn: 886.0000 - accuracy: 0.6868 - auc: 0.7324 - val_loss: 0.5948 - val_tp: 332.0000 - val_fn: 272.0000 - val_accuracy: 0.6971 - val_auc: 0.7258\n",
      "Epoch 6/250\n",
      "27/27 [==============================] - 3s 106ms/step - loss: 0.5983 - tp: 1535.0000 - fn: 880.0000 - accuracy: 0.6875 - auc: 0.7413 - val_loss: 0.5820 - val_tp: 310.0000 - val_fn: 294.0000 - val_accuracy: 0.7129 - val_auc: 0.7313\n",
      "Epoch 7/250\n",
      "27/27 [==============================] - 3s 110ms/step - loss: 0.5888 - tp: 1588.0000 - fn: 827.0000 - accuracy: 0.6979 - auc: 0.7528 - val_loss: 0.5850 - val_tp: 325.0000 - val_fn: 279.0000 - val_accuracy: 0.7094 - val_auc: 0.7350\n",
      "Epoch 8/250\n",
      "27/27 [==============================] - 3s 109ms/step - loss: 0.5915 - tp: 1508.0000 - fn: 907.0000 - accuracy: 0.6975 - auc: 0.7488 - val_loss: 0.6194 - val_tp: 404.0000 - val_fn: 200.0000 - val_accuracy: 0.6835 - val_auc: 0.7376\n",
      "Epoch 9/250\n",
      "27/27 [==============================] - 3s 107ms/step - loss: 0.5801 - tp: 1586.0000 - fn: 829.0000 - accuracy: 0.7119 - auc: 0.7626 - val_loss: 0.5740 - val_tp: 308.0000 - val_fn: 296.0000 - val_accuracy: 0.7194 - val_auc: 0.7407\n",
      "Epoch 10/250\n",
      "27/27 [==============================] - 3s 108ms/step - loss: 0.5798 - tp: 1597.0000 - fn: 818.0000 - accuracy: 0.7088 - auc: 0.7631 - val_loss: 0.5966 - val_tp: 377.0000 - val_fn: 227.0000 - val_accuracy: 0.7094 - val_auc: 0.7445\n",
      "Epoch 11/250\n",
      "27/27 [==============================] - 3s 109ms/step - loss: 0.5767 - tp: 1562.0000 - fn: 853.0000 - accuracy: 0.7184 - auc: 0.7666 - val_loss: 0.5880 - val_tp: 356.0000 - val_fn: 248.0000 - val_accuracy: 0.7124 - val_auc: 0.7452\n",
      "Epoch 12/250\n",
      "27/27 [==============================] - 3s 98ms/step - loss: 0.5771 - tp: 1584.0000 - fn: 831.0000 - accuracy: 0.7147 - auc: 0.7671 - val_loss: 0.5725 - val_tp: 314.0000 - val_fn: 290.0000 - val_accuracy: 0.7194 - val_auc: 0.7447\n",
      "Epoch 13/250\n",
      "27/27 [==============================] - 3s 111ms/step - loss: 0.5746 - tp: 1600.0000 - fn: 815.0000 - accuracy: 0.7140 - auc: 0.7689 - val_loss: 0.6263 - val_tp: 416.0000 - val_fn: 188.0000 - val_accuracy: 0.6782 - val_auc: 0.7453\n",
      "Epoch 14/250\n",
      "27/27 [==============================] - 3s 113ms/step - loss: 0.5630 - tp: 1624.0000 - fn: 791.0000 - accuracy: 0.7244 - auc: 0.7812 - val_loss: 0.5988 - val_tp: 381.0000 - val_fn: 223.0000 - val_accuracy: 0.7059 - val_auc: 0.7465\n",
      "Epoch 15/250\n",
      "27/27 [==============================] - 3s 112ms/step - loss: 0.5611 - tp: 1634.0000 - fn: 781.0000 - accuracy: 0.7234 - auc: 0.7828 - val_loss: 0.5827 - val_tp: 356.0000 - val_fn: 248.0000 - val_accuracy: 0.7194 - val_auc: 0.7484\n",
      "Epoch 16/250\n",
      "27/27 [==============================] - 4s 136ms/step - loss: 0.5661 - tp: 1610.0000 - fn: 805.0000 - accuracy: 0.7154 - auc: 0.7780 - val_loss: 0.5734 - val_tp: 330.0000 - val_fn: 274.0000 - val_accuracy: 0.7253 - val_auc: 0.7489\n",
      "Epoch 17/250\n",
      "27/27 [==============================] - 3s 114ms/step - loss: 0.5690 - tp: 1613.0000 - fn: 802.0000 - accuracy: 0.7201 - auc: 0.7749 - val_loss: 0.5814 - val_tp: 353.0000 - val_fn: 251.0000 - val_accuracy: 0.7159 - val_auc: 0.7504\n",
      "Epoch 18/250\n",
      "27/27 [==============================] - 3s 103ms/step - loss: 0.5572 - tp: 1632.0000 - fn: 783.0000 - accuracy: 0.7284 - auc: 0.7869 - val_loss: 0.5752 - val_tp: 335.0000 - val_fn: 269.0000 - val_accuracy: 0.7229 - val_auc: 0.7494\n",
      "Epoch 19/250\n",
      "27/27 [==============================] - 3s 113ms/step - loss: 0.5597 - tp: 1630.0000 - fn: 785.0000 - accuracy: 0.7246 - auc: 0.7834 - val_loss: 0.6023 - val_tp: 394.0000 - val_fn: 210.0000 - val_accuracy: 0.7041 - val_auc: 0.7511\n",
      "Epoch 20/250\n",
      "27/27 [==============================] - 3s 113ms/step - loss: 0.5616 - tp: 1575.0000 - fn: 840.0000 - accuracy: 0.7222 - auc: 0.7827 - val_loss: 0.5923 - val_tp: 387.0000 - val_fn: 217.0000 - val_accuracy: 0.7082 - val_auc: 0.7526\n",
      "Epoch 21/250\n",
      "27/27 [==============================] - 3s 102ms/step - loss: 0.5530 - tp: 1642.0000 - fn: 773.0000 - accuracy: 0.7256 - auc: 0.7894 - val_loss: 0.5830 - val_tp: 361.0000 - val_fn: 243.0000 - val_accuracy: 0.7188 - val_auc: 0.7526\n",
      "Epoch 22/250\n",
      "27/27 [==============================] - 3s 101ms/step - loss: 0.5512 - tp: 1628.0000 - fn: 787.0000 - accuracy: 0.7313 - auc: 0.7928 - val_loss: 0.5811 - val_tp: 353.0000 - val_fn: 251.0000 - val_accuracy: 0.7188 - val_auc: 0.7525\n",
      "Epoch 23/250\n",
      "27/27 [==============================] - 3s 108ms/step - loss: 0.5513 - tp: 1645.0000 - fn: 770.0000 - accuracy: 0.7310 - auc: 0.7923 - val_loss: 0.5871 - val_tp: 377.0000 - val_fn: 227.0000 - val_accuracy: 0.7165 - val_auc: 0.7536\n",
      "Epoch 24/250\n",
      "27/27 [==============================] - 3s 115ms/step - loss: 0.5512 - tp: 1634.0000 - fn: 781.0000 - accuracy: 0.7368 - auc: 0.7941 - val_loss: 0.6034 - val_tp: 400.0000 - val_fn: 204.0000 - val_accuracy: 0.7100 - val_auc: 0.7539\n",
      "Epoch 25/250\n",
      "27/27 [==============================] - 3s 115ms/step - loss: 0.5514 - tp: 1656.0000 - fn: 759.0000 - accuracy: 0.7253 - auc: 0.7928 - val_loss: 0.5876 - val_tp: 379.0000 - val_fn: 225.0000 - val_accuracy: 0.7129 - val_auc: 0.7543\n",
      "Epoch 26/250\n",
      "27/27 [==============================] - 4s 133ms/step - loss: 0.5509 - tp: 1620.0000 - fn: 795.0000 - accuracy: 0.7254 - auc: 0.7929 - val_loss: 0.5899 - val_tp: 385.0000 - val_fn: 219.0000 - val_accuracy: 0.7124 - val_auc: 0.7545\n",
      "Epoch 27/250\n",
      "27/27 [==============================] - 3s 102ms/step - loss: 0.5443 - tp: 1657.0000 - fn: 758.0000 - accuracy: 0.7322 - auc: 0.7989 - val_loss: 0.5862 - val_tp: 373.0000 - val_fn: 231.0000 - val_accuracy: 0.7182 - val_auc: 0.7545\n",
      "Epoch 28/250\n",
      "27/27 [==============================] - 3s 108ms/step - loss: 0.5462 - tp: 1668.0000 - fn: 747.0000 - accuracy: 0.7310 - auc: 0.7975 - val_loss: 0.5784 - val_tp: 355.0000 - val_fn: 249.0000 - val_accuracy: 0.7218 - val_auc: 0.7544\n",
      "Epoch 29/250\n",
      "27/27 [==============================] - 3s 116ms/step - loss: 0.5450 - tp: 1669.0000 - fn: 746.0000 - accuracy: 0.7335 - auc: 0.7994 - val_loss: 0.5796 - val_tp: 356.0000 - val_fn: 248.0000 - val_accuracy: 0.7229 - val_auc: 0.7547\n",
      "Epoch 30/250\n",
      "27/27 [==============================] - 3s 119ms/step - loss: 0.5429 - tp: 1673.0000 - fn: 742.0000 - accuracy: 0.7344 - auc: 0.7999 - val_loss: 0.5873 - val_tp: 379.0000 - val_fn: 225.0000 - val_accuracy: 0.7165 - val_auc: 0.7550\n",
      "Epoch 31/250\n",
      "27/27 [==============================] - 3s 112ms/step - loss: 0.5457 - tp: 1650.0000 - fn: 765.0000 - accuracy: 0.7321 - auc: 0.7963 - val_loss: 0.5954 - val_tp: 386.0000 - val_fn: 218.0000 - val_accuracy: 0.7094 - val_auc: 0.7556\n",
      "Epoch 32/250\n",
      "27/27 [==============================] - 3s 106ms/step - loss: 0.5404 - tp: 1657.0000 - fn: 758.0000 - accuracy: 0.7401 - auc: 0.8036 - val_loss: 0.5893 - val_tp: 379.0000 - val_fn: 225.0000 - val_accuracy: 0.7141 - val_auc: 0.7549\n",
      "Epoch 33/250\n",
      "27/27 [==============================] - 3s 104ms/step - loss: 0.5423 - tp: 1688.0000 - fn: 727.0000 - accuracy: 0.7304 - auc: 0.8009 - val_loss: 0.5935 - val_tp: 385.0000 - val_fn: 219.0000 - val_accuracy: 0.7082 - val_auc: 0.7553\n",
      "Epoch 34/250\n",
      "27/27 [==============================] - 3s 106ms/step - loss: 0.5418 - tp: 1677.0000 - fn: 738.0000 - accuracy: 0.7362 - auc: 0.8014 - val_loss: 0.5826 - val_tp: 370.0000 - val_fn: 234.0000 - val_accuracy: 0.7218 - val_auc: 0.7548\n",
      "Epoch 35/250\n",
      "27/27 [==============================] - 3s 105ms/step - loss: 0.5396 - tp: 1664.0000 - fn: 751.0000 - accuracy: 0.7356 - auc: 0.8036 - val_loss: 0.5880 - val_tp: 379.0000 - val_fn: 225.0000 - val_accuracy: 0.7159 - val_auc: 0.7553\n",
      "Epoch 36/250\n",
      "27/27 [==============================] - 7s 244ms/step - loss: 0.5374 - tp: 1685.0000 - fn: 730.0000 - accuracy: 0.7368 - auc: 0.8047 - val_loss: 0.5847 - val_tp: 373.0000 - val_fn: 231.0000 - val_accuracy: 0.7229 - val_auc: 0.7552\n"
     ]
    }
   ],
   "source": [
    "#calculate class weights\n",
    "target_0 = 5450 #these values will not change (are from review of test ds)\n",
    "target_1 = 3050\n",
    "total = target_0 + target_1\n",
    "\n",
    "class_weight_0 = (1 / target_0) * (total) / 2.0\n",
    "class_weight_1 = (1 / target_1) * (total) / 2.0\n",
    "\n",
    "class_weights = {0: class_weight_0, 1: class_weight_1}\n",
    "\n",
    "#early stopping if validation auc stops improving\n",
    "early_stopping = tf.keras.callbacks.EarlyStopping(monitor='val_auc',\n",
    "                                patience=5,\n",
    "                                mode='max',\n",
    "                                restore_best_weights=True)\n",
    "\n",
    "history = model.fit(x=(ds[0]), y=ds[1], \n",
    "                    validation_split=0.2, \n",
    "                    epochs=250, \n",
    "                    class_weight=class_weights, \n",
    "                    callbacks=[early_stopping],\n",
    "                    steps_per_epoch=27)"
   ]
  },
  {
   "cell_type": "code",
   "execution_count": 15,
   "metadata": {
    "id": "WNQKf2Y08zw2"
   },
   "outputs": [],
   "source": [
    "def plot_metric(metric1, metric2, ylabel):\n",
    "    plt.plot(history.history[metric1], label=metric1)\n",
    "    plt.plot(history.history[metric2], label=metric2)\n",
    "    plt.ylabel(ylabel)\n",
    "    plt.xlabel('epoch')\n",
    "    plt.legend()\n",
    "    plt.show()"
   ]
  },
  {
   "cell_type": "code",
   "execution_count": 16,
   "metadata": {
    "colab": {
     "base_uri": "https://localhost:8080/",
     "height": 803
    },
    "id": "_BG-kKjK83qC",
    "outputId": "959725aa-8f60-4b57-89f0-6c9ac3277b75"
   },
   "outputs": [
    {
     "data": {
      "image/png": "[encoded data removed]",
      "text/plain": [
       "<Figure size 432x288 with 1 Axes>"
      ]
     },
     "metadata": {
      "needs_background": "light",
      "tags": []
     },
     "output_type": "display_data"
    },
    {
     "data": {
      "image/png": "[encoded data removed]",
      "text/plain": [
       "<Figure size 432x288 with 1 Axes>"
      ]
     },
     "metadata": {
      "needs_background": "light",
      "tags": []
     },
     "output_type": "display_data"
    },
    {
     "data": {
      "image/png": "[encoded data removed]",
      "text/plain": [
       "<Figure size 432x288 with 1 Axes>"
      ]
     },
     "metadata": {
      "needs_background": "light",
      "tags": []
     },
     "output_type": "display_data"
    }
   ],
   "source": [
    "plot_metric('auc', 'val_auc', 'auc')\n",
    "plot_metric('loss', 'val_loss', 'loss')\n",
    "plot_metric('accuracy', 'val_accuracy', 'accuracy')"
   ]
  },
  {
   "cell_type": "code",
   "execution_count": 17,
   "metadata": {
    "colab": {
     "base_uri": "https://localhost:8080/",
     "height": 34
    },
    "id": "NjL-SsIv-K5O",
    "outputId": "1797d575-72c0-49cd-8b51-9ed3dd34b0f5"
   },
   "outputs": [
    {
     "data": {
      "text/plain": [
       "0.7556495666503906"
      ]
     },
     "execution_count": 17,
     "metadata": {
      "tags": []
     },
     "output_type": "execute_result"
    }
   ],
   "source": [
    "max(history.history['val_auc']) "
   ]
  },
  {
   "cell_type": "code",
   "execution_count": 18,
   "metadata": {
    "id": "bE6q1VFf-ME7"
   },
   "outputs": [],
   "source": [
    "model_name = 'model_hateful_memes_v{}.h5'.format(params['version'])\n",
    "model.save(model_name)\n",
    "bucket_ = client.bucket('jh_hateful_memes')\n",
    "blob = bucket_.blob(model_name)\n",
    "blob.upload_from_filename(model_name)#fix this"
   ]
  },
  {
   "cell_type": "code",
   "execution_count": 19,
   "metadata": {
    "id": "bcVbjWe8i-Kr"
   },
   "outputs": [],
   "source": [
    "test_ds = create_ds(params, client, bucket, 'test_seen', False)"
   ]
  },
  {
   "cell_type": "code",
   "execution_count": 20,
   "metadata": {
    "id": "or7-zGBVlppw"
   },
   "outputs": [],
   "source": [
    "for x_test, ids in test_ds:\n",
    "\n",
    "    test_text, test_images = x_test\n",
    "    predictions = model.predict(x_test, steps=10)\n",
    "    prediction_ids = ids\n",
    "\n"
   ]
  },
  {
   "cell_type": "code",
   "execution_count": 21,
   "metadata": {
    "id": "ABcoxiAH_le8"
   },
   "outputs": [],
   "source": [
    "prediction_dict = {\n",
    "    'id': np.concatenate(prediction_ids.numpy()),\n",
    "    'proba': np.concatenate(predictions),\n",
    "    'label': np.ones(1000, int)\n",
    "}\n",
    "submission_ds = pd.DataFrame(prediction_dict)\n",
    "\n"
   ]
  },
  {
   "cell_type": "code",
   "execution_count": 22,
   "metadata": {
    "id": "UC0AiCcELFFD"
   },
   "outputs": [],
   "source": [
    "submission_ds.to_csv('submission.csv', index=False)"
   ]
  },
  {
   "cell_type": "code",
   "execution_count": null,
   "metadata": {
    "id": "nF8EWtTfxxXe"
   },
   "outputs": [],
   "source": [
    "import requests"
   ]
  },
  {
   "cell_type": "code",
   "execution_count": null,
   "metadata": {
    "colab": {
     "base_uri": "https://localhost:8080/",
     "height": 88
    },
    "id": "buGSnpglxxXf",
    "outputId": "17266800-b5b8-40b0-ce5e-870d393019d3"
   },
   "outputs": [
    {
     "data": {
      "application/vnd.google.colaboratory.intrinsic+json": {
       "type": "string"
      },
      "text/plain": [
       "'{\\n  \"ip\": \"35.192.85.19\",\\n  \"hostname\": \"19.85.192.35.bc.googleusercontent.com\",\\n  \"city\": \"Council Bluffs\",\\n  \"region\": \"Iowa\",\\n  \"country\": \"US\",\\n  \"loc\": \"41.2619,-95.8608\",\\n  \"org\": \"AS15169 Google LLC\",\\n  \"postal\": \"51502\",\\n  \"timezone\": \"America/Chicago\",\\n  \"readme\": \"https://ipinfo.io/missingauth\"\\n}'"
      ]
     },
     "execution_count": 2,
     "metadata": {
      "tags": []
     },
     "output_type": "execute_result"
    }
   ],
   "source": [
    "url = 'http://ipinfo.io/json'\n",
    "response = requests.get(url)\n",
    "response.text"
   ]
  },
  {
   "cell_type": "code",
   "execution_count": null,
   "metadata": {
    "id": "Zz7b8Sasx0y_"
   },
   "outputs": [],
   "source": [
    ""
   ]
  },
  {
   "cell_type": "code",
   "execution_count": null,
   "metadata": {
    "id": "ko-cj_NDCV0w"
   },
   "outputs": [],
   "source": [
    ""
   ]
  }
 ],
 "metadata": {
  "accelerator": "TPU",
  "colab": {
   "collapsed_sections": [],
   "name": "two_input_model (6).ipynb",
   "provenance": []
  },
  "kernelspec": {
   "display_name": "Python 3",
   "language": "python",
   "name": "python3"
  },
  "language_info": {
   "codemirror_mode": {
    "name": "ipython",
    "version": 3
   },
   "file_extension": ".py",
   "mimetype": "text/x-python",
   "name": "python",
   "nbconvert_exporter": "python",
   "pygments_lexer": "ipython3",
   "version": "3.8.5"
  }
 },
 "nbformat": 4,
 "nbformat_minor": 0
}
