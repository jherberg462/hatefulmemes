{
 "cells": [
  {
   "cell_type": "code",
   "execution_count": 1,
   "metadata": {
    "colab": {
     "base_uri": "https://localhost:8080/",
     "height": 34
    },
    "colab_type": "code",
    "id": "e4BdgGfH718Y",
    "outputId": "4e9c726c-26e5-4189-a03d-f3dc3837a557"
   },
   "outputs": [
    {
     "name": "stdout",
     "output_type": "stream",
     "text": [
      "2.3.0\n"
     ]
    }
   ],
   "source": [
    "#set random seeds\n",
    "from numpy.random import seed\n",
    "seed(1)\n",
    "from tensorflow.random import set_seed\n",
    "set_seed(1)\n",
    "\n",
    "import pandas as pd\n",
    "import numpy as np\n",
    "\n",
    "#machine learning\n",
    "import tensorflow as tf\n",
    "print(tf.__version__)\n",
    "from tensorflow.keras import layers \n",
    "from tensorflow import keras\n",
    "from sklearn.model_selection import train_test_split\n",
    "\n",
    "#accessing files\n",
    "from google.cloud import storage\n",
    "import os\n",
    "\n",
    "#display charts/images\n",
    "import matplotlib.pyplot as plt\n",
    "\n",
    "#don't need\n",
    "# from tensorflow.python.keras.preprocessing import sequence\n",
    "# from tensorflow.python.keras.preprocessing import text\n",
    "# import tensorflow_hub as hub\n",
    "\n",
    "\n"
   ]
  },
  {
   "cell_type": "code",
   "execution_count": 2,
   "metadata": {
    "colab": {},
    "colab_type": "code",
    "id": "9__sYCZ7718e"
   },
   "outputs": [],
   "source": [
    "params = {\n",
    "    'image_size': [225, 225],\n",
    "    'text_input': (58,),\n",
    "    'batch_size': 512,\n",
    "    'vocab_size': 30000,\n",
    "    'examples_per_file': 850, #will not change\n",
    "    'test_examples_per_file': 500,\n",
    "    'version': 4 #model version number\n",
    "}"
   ]
  },
  {
   "cell_type": "code",
   "execution_count": 3,
   "metadata": {
    "colab": {},
    "colab_type": "code",
    "id": "g3ZOLb6A718k"
   },
   "outputs": [],
   "source": [
    "try:\n",
    "    from google.colab import auth\n",
    "    auth.authenticate_user()\n",
    "    credentials=None\n",
    "\n",
    "except ModuleNotFoundError:\n",
    "\n",
    "\n",
    "    from google.oauth2 import service_account\n",
    "\n",
    "    credentials = service_account.Credentials.from_service_account_file( #file location of GCS private key\n",
    "        '/Users/jeremiahherberg/Downloads/hateful-memes-af65c70c1b79.json')\n",
    "\n",
    "client = storage.Client(project='hateful-memes', credentials=credentials)"
   ]
  },
  {
   "cell_type": "code",
   "execution_count": 4,
   "metadata": {
    "colab": {},
    "colab_type": "code",
    "id": "3cjmD1w-718p"
   },
   "outputs": [],
   "source": [
    "num_examples_per_tfrecordfile = params['examples_per_file'] # 850 #this will not change"
   ]
  },
  {
   "cell_type": "code",
   "execution_count": 5,
   "metadata": {
    "colab": {},
    "colab_type": "code",
    "id": "BMUqKpKY718s"
   },
   "outputs": [],
   "source": [
    "bucket = 'jh_hateful_memes'\n",
    "client = storage.Client(project='hateful-memes', credentials=credentials)\n",
    "objects = client.list_blobs(bucket, prefix='hatefulmemes_')\n",
    "tfrecords = []\n",
    "for object_ in objects:\n",
    "    path = str(object_).split(', ')[1]\n",
    "    gs_path = os.path.join('gs://', bucket, path)\n",
    "    tfrecords.append(gs_path) #gs_path"
   ]
  },
  {
   "cell_type": "code",
   "execution_count": 6,
   "metadata": {
    "colab": {},
    "colab_type": "code",
    "id": "CogGhHQB718u"
   },
   "outputs": [],
   "source": [
    "# tfrecords"
   ]
  },
  {
   "cell_type": "code",
   "execution_count": 7,
   "metadata": {
    "colab": {
     "base_uri": "https://localhost:8080/",
     "height": 768
    },
    "colab_type": "code",
    "id": "VdrBIeYx718x",
    "outputId": "e5d07ede-56dc-4b42-e64d-24364efe0bfb"
   },
   "outputs": [
    {
     "name": "stdout",
     "output_type": "stream",
     "text": [
      "Running on TPU  grpc://10.105.11.10:8470\n",
      "INFO:tensorflow:Initializing the TPU system: grpc://10.105.11.10:8470\n"
     ]
    },
    {
     "name": "stderr",
     "output_type": "stream",
     "text": [
      "INFO:tensorflow:Initializing the TPU system: grpc://10.105.11.10:8470\n"
     ]
    },
    {
     "name": "stdout",
     "output_type": "stream",
     "text": [
      "INFO:tensorflow:Clearing out eager caches\n"
     ]
    },
    {
     "name": "stderr",
     "output_type": "stream",
     "text": [
      "INFO:tensorflow:Clearing out eager caches\n"
     ]
    },
    {
     "name": "stdout",
     "output_type": "stream",
     "text": [
      "INFO:tensorflow:Finished initializing TPU system.\n"
     ]
    },
    {
     "name": "stderr",
     "output_type": "stream",
     "text": [
      "INFO:tensorflow:Finished initializing TPU system.\n",
      "WARNING:absl:`tf.distribute.experimental.TPUStrategy` is deprecated, please use  the non experimental symbol `tf.distribute.TPUStrategy` instead.\n"
     ]
    },
    {
     "name": "stdout",
     "output_type": "stream",
     "text": [
      "INFO:tensorflow:Found TPU system:\n"
     ]
    },
    {
     "name": "stderr",
     "output_type": "stream",
     "text": [
      "INFO:tensorflow:Found TPU system:\n"
     ]
    },
    {
     "name": "stdout",
     "output_type": "stream",
     "text": [
      "INFO:tensorflow:*** Num TPU Cores: 8\n"
     ]
    },
    {
     "name": "stderr",
     "output_type": "stream",
     "text": [
      "INFO:tensorflow:*** Num TPU Cores: 8\n"
     ]
    },
    {
     "name": "stdout",
     "output_type": "stream",
     "text": [
      "INFO:tensorflow:*** Num TPU Workers: 1\n"
     ]
    },
    {
     "name": "stderr",
     "output_type": "stream",
     "text": [
      "INFO:tensorflow:*** Num TPU Workers: 1\n"
     ]
    },
    {
     "name": "stdout",
     "output_type": "stream",
     "text": [
      "INFO:tensorflow:*** Num TPU Cores Per Worker: 8\n"
     ]
    },
    {
     "name": "stderr",
     "output_type": "stream",
     "text": [
      "INFO:tensorflow:*** Num TPU Cores Per Worker: 8\n"
     ]
    },
    {
     "name": "stdout",
     "output_type": "stream",
     "text": [
      "INFO:tensorflow:*** Available Device: _DeviceAttributes(/job:localhost/replica:0/task:0/device:CPU:0, CPU, 0, 0)\n"
     ]
    },
    {
     "name": "stderr",
     "output_type": "stream",
     "text": [
      "INFO:tensorflow:*** Available Device: _DeviceAttributes(/job:localhost/replica:0/task:0/device:CPU:0, CPU, 0, 0)\n"
     ]
    },
    {
     "name": "stdout",
     "output_type": "stream",
     "text": [
      "INFO:tensorflow:*** Available Device: _DeviceAttributes(/job:localhost/replica:0/task:0/device:XLA_CPU:0, XLA_CPU, 0, 0)\n"
     ]
    },
    {
     "name": "stderr",
     "output_type": "stream",
     "text": [
      "INFO:tensorflow:*** Available Device: _DeviceAttributes(/job:localhost/replica:0/task:0/device:XLA_CPU:0, XLA_CPU, 0, 0)\n"
     ]
    },
    {
     "name": "stdout",
     "output_type": "stream",
     "text": [
      "INFO:tensorflow:*** Available Device: _DeviceAttributes(/job:worker/replica:0/task:0/device:CPU:0, CPU, 0, 0)\n"
     ]
    },
    {
     "name": "stderr",
     "output_type": "stream",
     "text": [
      "INFO:tensorflow:*** Available Device: _DeviceAttributes(/job:worker/replica:0/task:0/device:CPU:0, CPU, 0, 0)\n"
     ]
    },
    {
     "name": "stdout",
     "output_type": "stream",
     "text": [
      "INFO:tensorflow:*** Available Device: _DeviceAttributes(/job:worker/replica:0/task:0/device:TPU:0, TPU, 0, 0)\n"
     ]
    },
    {
     "name": "stderr",
     "output_type": "stream",
     "text": [
      "INFO:tensorflow:*** Available Device: _DeviceAttributes(/job:worker/replica:0/task:0/device:TPU:0, TPU, 0, 0)\n"
     ]
    },
    {
     "name": "stdout",
     "output_type": "stream",
     "text": [
      "INFO:tensorflow:*** Available Device: _DeviceAttributes(/job:worker/replica:0/task:0/device:TPU:1, TPU, 0, 0)\n"
     ]
    },
    {
     "name": "stderr",
     "output_type": "stream",
     "text": [
      "INFO:tensorflow:*** Available Device: _DeviceAttributes(/job:worker/replica:0/task:0/device:TPU:1, TPU, 0, 0)\n"
     ]
    },
    {
     "name": "stdout",
     "output_type": "stream",
     "text": [
      "INFO:tensorflow:*** Available Device: _DeviceAttributes(/job:worker/replica:0/task:0/device:TPU:2, TPU, 0, 0)\n"
     ]
    },
    {
     "name": "stderr",
     "output_type": "stream",
     "text": [
      "INFO:tensorflow:*** Available Device: _DeviceAttributes(/job:worker/replica:0/task:0/device:TPU:2, TPU, 0, 0)\n"
     ]
    },
    {
     "name": "stdout",
     "output_type": "stream",
     "text": [
      "INFO:tensorflow:*** Available Device: _DeviceAttributes(/job:worker/replica:0/task:0/device:TPU:3, TPU, 0, 0)\n"
     ]
    },
    {
     "name": "stderr",
     "output_type": "stream",
     "text": [
      "INFO:tensorflow:*** Available Device: _DeviceAttributes(/job:worker/replica:0/task:0/device:TPU:3, TPU, 0, 0)\n"
     ]
    },
    {
     "name": "stdout",
     "output_type": "stream",
     "text": [
      "INFO:tensorflow:*** Available Device: _DeviceAttributes(/job:worker/replica:0/task:0/device:TPU:4, TPU, 0, 0)\n"
     ]
    },
    {
     "name": "stderr",
     "output_type": "stream",
     "text": [
      "INFO:tensorflow:*** Available Device: _DeviceAttributes(/job:worker/replica:0/task:0/device:TPU:4, TPU, 0, 0)\n"
     ]
    },
    {
     "name": "stdout",
     "output_type": "stream",
     "text": [
      "INFO:tensorflow:*** Available Device: _DeviceAttributes(/job:worker/replica:0/task:0/device:TPU:5, TPU, 0, 0)\n"
     ]
    },
    {
     "name": "stderr",
     "output_type": "stream",
     "text": [
      "INFO:tensorflow:*** Available Device: _DeviceAttributes(/job:worker/replica:0/task:0/device:TPU:5, TPU, 0, 0)\n"
     ]
    },
    {
     "name": "stdout",
     "output_type": "stream",
     "text": [
      "INFO:tensorflow:*** Available Device: _DeviceAttributes(/job:worker/replica:0/task:0/device:TPU:6, TPU, 0, 0)\n"
     ]
    },
    {
     "name": "stderr",
     "output_type": "stream",
     "text": [
      "INFO:tensorflow:*** Available Device: _DeviceAttributes(/job:worker/replica:0/task:0/device:TPU:6, TPU, 0, 0)\n"
     ]
    },
    {
     "name": "stdout",
     "output_type": "stream",
     "text": [
      "INFO:tensorflow:*** Available Device: _DeviceAttributes(/job:worker/replica:0/task:0/device:TPU:7, TPU, 0, 0)\n"
     ]
    },
    {
     "name": "stderr",
     "output_type": "stream",
     "text": [
      "INFO:tensorflow:*** Available Device: _DeviceAttributes(/job:worker/replica:0/task:0/device:TPU:7, TPU, 0, 0)\n"
     ]
    },
    {
     "name": "stdout",
     "output_type": "stream",
     "text": [
      "INFO:tensorflow:*** Available Device: _DeviceAttributes(/job:worker/replica:0/task:0/device:TPU_SYSTEM:0, TPU_SYSTEM, 0, 0)\n"
     ]
    },
    {
     "name": "stderr",
     "output_type": "stream",
     "text": [
      "INFO:tensorflow:*** Available Device: _DeviceAttributes(/job:worker/replica:0/task:0/device:TPU_SYSTEM:0, TPU_SYSTEM, 0, 0)\n"
     ]
    },
    {
     "name": "stdout",
     "output_type": "stream",
     "text": [
      "INFO:tensorflow:*** Available Device: _DeviceAttributes(/job:worker/replica:0/task:0/device:XLA_CPU:0, XLA_CPU, 0, 0)\n"
     ]
    },
    {
     "name": "stderr",
     "output_type": "stream",
     "text": [
      "INFO:tensorflow:*** Available Device: _DeviceAttributes(/job:worker/replica:0/task:0/device:XLA_CPU:0, XLA_CPU, 0, 0)\n"
     ]
    },
    {
     "name": "stdout",
     "output_type": "stream",
     "text": [
      "REPLICAS:  8\n"
     ]
    }
   ],
   "source": [
    "try:\n",
    "    # TPU detection. No parameters necessary if TPU_NAME environment variable is\n",
    "    # set: this is always the case on Kaggle.\n",
    "    tpu = tf.distribute.cluster_resolver.TPUClusterResolver()\n",
    "    print('Running on TPU ', tpu.master())\n",
    "except ValueError:\n",
    "    tpu = None\n",
    "\n",
    "if tpu:\n",
    "    tf.config.experimental_connect_to_cluster(tpu)\n",
    "    tf.tpu.experimental.initialize_tpu_system(tpu)\n",
    "    strategy = tf.distribute.experimental.TPUStrategy(tpu)\n",
    "else:\n",
    "    # Default distribution strategy in Tensorflow. Works on CPU and single GPU.\n",
    "    strategy = tf.distribute.get_strategy()\n",
    "\n",
    "print(\"REPLICAS: \", strategy.num_replicas_in_sync)"
   ]
  },
  {
   "cell_type": "code",
   "execution_count": 8,
   "metadata": {
    "colab": {},
    "colab_type": "code",
    "id": "rm40cYA_718y"
   },
   "outputs": [],
   "source": [
    "def decode_example_train(example):\n",
    "    '''\n",
    "    decodes single tfexample from TFrecord file\n",
    "    '''\n",
    "    features = {'label': tf.io.FixedLenFeature([], tf.int64),\n",
    "                'text': tf.io.FixedLenFeature([], tf.string),\n",
    "                'text_lemma': tf.io.FixedLenFeature([], tf.string),\n",
    "                'text_lemma_no_stopwords': tf.io.FixedLenFeature([], tf.string),\n",
    "                'text_no_stopwords':tf.io.FixedLenFeature([], tf.string),\n",
    "                'image': tf.io.FixedLenFeature([], tf.string)}\n",
    "    single_example = tf.io.parse_single_example(example, features)\n",
    "    \n",
    "    text = tf.io.parse_tensor(single_example['text'], out_type=tf.int32)\n",
    "    textL = tf.io.parse_tensor(single_example['text_lemma'], out_type=tf.int32)\n",
    "    # text = tf.cast(text, tf.float32) \n",
    "    image = tf.io.decode_jpeg(single_example['image'], 3)\n",
    "    image = tf.image.resize_with_pad(image, *params['image_size'])\n",
    "    image = image / 255.0\n",
    "    label = single_example['label']\n",
    "    # label = tf.cast(label, tf.float32)\n",
    "    return text, textL, image, label\n",
    "\n",
    "def decode_example_test(example):\n",
    "    '''\n",
    "    decodes single tfexample from TFrecord file\n",
    "    '''\n",
    "    features = {'id': tf.io.FixedLenFeature([], tf.int64),\n",
    "                'text': tf.io.FixedLenFeature([], tf.string),\n",
    "                'text_lemma': tf.io.FixedLenFeature([], tf.string),\n",
    "                'text_lemma_no_stopwords': tf.io.FixedLenFeature([], tf.string),\n",
    "                'text_no_stopwords':tf.io.FixedLenFeature([], tf.string),\n",
    "                'image': tf.io.FixedLenFeature([], tf.string)}\n",
    "    single_example = tf.io.parse_single_example(example, features)\n",
    "    \n",
    "    text = tf.io.parse_tensor(single_example['text'], out_type=tf.int32)\n",
    "    textL = tf.io.parse_tensor(single_example['text_lemma'], out_type=tf.int32)\n",
    "    # text = tf.cast(text, tf.float32) \n",
    "    image = tf.io.decode_jpeg(single_example['image'], 3)\n",
    "    image = tf.image.resize_with_pad(image, *params['image_size'])\n",
    "    image = image / 255.0\n",
    "    label = single_example['id']\n",
    "    # label = tf.cast(label, tf.float32)\n",
    "    return text, textL, image, label\n",
    "\n",
    "def flip_image(text, textL, image, label): \n",
    "    '''\n",
    "    randombly flips image input\n",
    "    \n",
    "    args:\n",
    "        text: text output in ds\n",
    "        image: image output in ds\n",
    "        label: label output in ds (can also be id)\n",
    "    returns:\n",
    "        text, image, label\n",
    "        args will be otherwise unchanged\n",
    "    '''\n",
    "    \n",
    "    image = tf.image.random_flip_left_right(image)\n",
    "\n",
    "    return text, textL, image, label\n",
    "\n",
    "\n",
    "def convert_xy(text, textL, image, label): #needs to be called last\n",
    "    '''\n",
    "    transforms ds output from text, image, label -> (text, image), label\n",
    "    \n",
    "    args:\n",
    "        text: text output in ds\n",
    "        image: image output in ds\n",
    "        label: label output in ds (can also be id)\n",
    "    returns:\n",
    "        (text, image), label\n",
    "        args will be otherwise unchanged\n",
    "    '''\n",
    "    return (text, textL, image), label\n",
    "    \n",
    "    "
   ]
  },
  {
   "cell_type": "code",
   "execution_count": 9,
   "metadata": {
    "colab": {},
    "colab_type": "code",
    "id": "PZ0dHSjt7180"
   },
   "outputs": [],
   "source": [
    "def create_ds(files, params, train=True, test_examples=1000):\n",
    "    '''\n",
    "    function to create dataset for training/validation\n",
    "    \n",
    "    args:\n",
    "        files: list of str, filepaths of TFrecord files to be used in DS\n",
    "        params: dict with the following keys:\n",
    "            batch_size: int, batch size of training/validation step\n",
    "            examples_per_file: int, number of examples in each TFrecord file\n",
    "        train, bool, default True, indicator if the DS is for training\n",
    "        test_examples, int: default 1000 number of examples in test dataset\n",
    "    returns:\n",
    "        ds: tensorflow input pipeline with images, text and labels\n",
    "            output of ds is: (text, image), label\n",
    "        ds_batches: int, number of steps in each epoch based on the batch_size\n",
    "    '''\n",
    "    file_size = params['examples_per_file'] \n",
    "    batch_size = file_size * len(files)\n",
    "\n",
    "    ds = tf.data.TFRecordDataset(filenames = files)\n",
    "    if train:\n",
    "        ds = ds.map(decode_example_train, \n",
    "                    num_parallel_calls=tf.data.experimental.AUTOTUNE)\n",
    "        ds = ds.map(flip_image, num_parallel_calls=tf.data.experimental.AUTOTUNE)\n",
    "    else:\n",
    "        ds = ds.map(decode_example_test)\n",
    "    ds = ds.map(convert_xy, num_parallel_calls=tf.data.experimental.AUTOTUNE)\n",
    "    if train:\n",
    "        ds = ds.batch(batch_size, drop_remainder=True)\n",
    "    else:\n",
    "        ds = ds.batch(test_examples)\n",
    "    ds = ds.cache() \n",
    "    \n",
    "    ds_batches = 10 #(len(files) * file_size) // batch_size\n",
    "    return ds, ds_batches\n",
    "    \n",
    "    "
   ]
  },
  {
   "cell_type": "code",
   "execution_count": 10,
   "metadata": {
    "colab": {},
    "colab_type": "code",
    "id": "V6RbH_oRmjUU"
   },
   "outputs": [],
   "source": [
    "def pair_separableConv1D(x, \n",
    "                         filters, kernal_size, act, first_reg, sec_reg,\n",
    "                        maxpooling_poolsize):\n",
    "    '''\n",
    "    function to add the following layers to a Keras Functional model:\n",
    "        layers.SeparableConv1D\n",
    "        layers.SeparableConv1D\n",
    "        layers.MaxPooling1D\n",
    "    \n",
    "    args:\n",
    "        x: keras input layer, or series of layers that can be traced to input layer\n",
    "        kernal_size: int, kernal size for SeparableConv1D layers\n",
    "        act: str, activation for SeparableConv1D layers\n",
    "        first_reg, keras regularizer to pass into 1st conv layer\n",
    "        sec_reg, keras regularizer to pass into 2nd conv layer\n",
    "        maxpooling_poolsize: int, poolsize for maxpooling layer\n",
    "    \n",
    "    returns:\n",
    "        x: x that was input into fn with above layers added\n",
    "    '''\n",
    "    x = layers.SeparableConv1D(filters=filters, kernel_size=kernal_size, \n",
    "                              activation=act, padding='same',\n",
    "                              kernel_regularizer=first_reg)(x)\n",
    "    x = layers.SeparableConv1D(filters=filters, kernel_size=kernal_size, \n",
    "                              activation=act, padding='same',\n",
    "                              kernel_regularizer=sec_reg)(x)\n",
    "    x = layers.MaxPooling1D(pool_size=maxpooling_poolsize, padding='same')(x)\n",
    "    x = layers.BatchNormalization()(x)\n",
    "    return x"
   ]
  },
  {
   "cell_type": "code",
   "execution_count": 11,
   "metadata": {
    "colab": {},
    "colab_type": "code",
    "id": "Z7nJDhlumjUX"
   },
   "outputs": [],
   "source": [
    "def conv2dset(x, \n",
    "              conv_filter, kernel, regularizer=None, \n",
    "              maxpooling_poolsize=2, \n",
    "              conv_act=None, \n",
    "              dense_units=None, dense_act=None):\n",
    "    '''\n",
    "    function to add the following layers to a Keras Functional model:\n",
    "        layers.Conv2D\n",
    "        MaxPooling2D\n",
    "        Batchnormalization\n",
    "        (activation layer)\n",
    "        layers.Dense (if applicable)\n",
    "    \n",
    "    args:\n",
    "        x: keras input layer, or series of layers that can be traced to input layer\n",
    "        conv_filter: int, number of filters in Conv2D layer\n",
    "        kernel: int, kernel size in Conv2D layer\n",
    "        regularizer: keras.regularizers object, default: None, regularizer in \n",
    "            Conv2D layer\n",
    "        maxpooling_poolsize: int, default 2, poolsize for maxpooling layer\n",
    "        conv_act: keras layer (without the \"()\"), default None, activation\n",
    "            layer that will go after the batchnormalization layer\n",
    "        dense_units: int, default None, number of units in dense layer\n",
    "            if None, there will be no dense layer\n",
    "        dense_act: str, default None, activation in dense layer\n",
    "    \n",
    "    returns:\n",
    "        x: x that was input into fn with above layers added\n",
    "        \n",
    "    '''\n",
    "    x = layers.Conv2D(filters=conv_filter, kernel_size=kernel, padding='same', \n",
    "                      kernel_regularizer=regularizer)(x)\n",
    "    x = layers.MaxPooling2D(maxpooling_poolsize)(x)\n",
    "    # x = layers.BatchNormalization()(x)\n",
    "    if conv_act:\n",
    "        x = conv_act()(x)\n",
    "    if dense_units:\n",
    "        x = layers.Dense(dense_units, activation=dense_act)(x)\n",
    "    \n",
    "    return x\n",
    "\n"
   ]
  },
  {
   "cell_type": "code",
   "execution_count": 12,
   "metadata": {
    "colab": {},
    "colab_type": "code",
    "id": "aHOtR_XA7182"
   },
   "outputs": [],
   "source": [
    "def create_model(params=params,):\n",
    "    '''\n",
    "    creates model with two inputs and out output\n",
    "\n",
    "        \n",
    "    '''\n",
    "    text_input_shape = params['text_input']\n",
    "    vocab_size = params['vocab_size']\n",
    "    image_size = params['image_size']\n",
    "    dense_nodes = 300\n",
    "    relu = layers.ReLU\n",
    "    reg = keras.regularizers.l2(0.001,)\n",
    "    \n",
    "    input_text = layers.Input(text_input_shape, name='text_input')\n",
    "    embedding = layers.Embedding(input_dim=vocab_size, output_dim=64, \n",
    "                                 input_length=58, mask_zero=True)(input_text)\n",
    "\n",
    "    x_bidir = embedding\n",
    "\n",
    "    x_bidir = layers.Bidirectional(layers.LSTM(64))(x_bidir)\n",
    "    x_bidir = layers.Dense(64, activation = 'relu')(x_bidir)\n",
    "    x_bidir_out = layers.Dense(dense_nodes, activation='sigmoid', name='bidirectional_out')(x_bidir)\n",
    "\n",
    "\n",
    "    x_text = embedding\n",
    "    \n",
    "    x_text = pair_separableConv1D(x_text, 64, 4, 'relu', reg, None, 4)\n",
    "    x_text = pair_separableConv1D(x_text, 64, 4, 'relu', None, None, 4)\n",
    "\n",
    "    x_text = layers.Flatten()(x_text)\n",
    "    output_layer_text = layers.Dense(dense_nodes, activation='tanh',kernel_regularizer=reg)(x_text)\n",
    "    output_layer_text = layers.Dense(dense_nodes, activation='sigmoid', name='text_output')(x_text)\n",
    "\n",
    "    input_lemma = layers.Input(text_input_shape, name='test_lemma_input')\n",
    "    lemma_embedding = layers.Embedding(input_dim=vocab_size, output_dim=64,\n",
    "                                       input_length=58, mask_zero=True)(input_lemma)\n",
    "    \n",
    "    x_lemma = lemma_embedding\n",
    "    x_lemma = pair_separableConv1D(x_lemma, 64, 4, 'relu', reg, None, 4)\n",
    "    x_lemma = pair_separableConv1D(x_lemma, 64, 4, 'relu', None, None, 4)\n",
    "    x_lemma = layers.Flatten()(x_lemma)\n",
    "    # output_layer_text = layers.Dense(dense_nodes, activation='tanh',kernel_regularizer=reg)(x_text)\n",
    "    output_layer_lemma = layers.Dense(dense_nodes, activation='sigmoid', name='text_output_lemma')(x_lemma)\n",
    "\n",
    "    x_bidirL = embedding\n",
    "\n",
    "    x_bidirL = layers.Bidirectional(layers.LSTM(64))(x_bidirL)\n",
    "    x_bidirL = layers.Dense(64, activation = 'relu')(x_bidirL)\n",
    "    x_bidir_outL = layers.Dense(dense_nodes, activation='sigmoid', name='bidirectional_out_lemma')(x_bidirL)\n",
    "\n",
    "\n",
    "    \n",
    "    input_image = layers.Input((*image_size, 3), name='image_input')\n",
    "    x_img = input_image\n",
    "    \n",
    "    x_img = conv2dset(x_img, 64, 5, reg, 2, relu, 16, 'tanh')\n",
    "    x_img = conv2dset(x_img, 128, 5, reg, 2,  relu, 16, 'tanh')\n",
    "    \n",
    "    x_img = layers.Flatten()(x_img)\n",
    "    # output_layer_image = layers.Dense(dense_nodes, activation='tanh', kernel_regularizer=reg)(x_img)\n",
    "    output_layer_image = layers.Dense(dense_nodes, activation='sigmoid', name='image_out')(x_img)\n",
    "    \n",
    "    x = layers.Concatenate()([x_bidir_out, output_layer_text, output_layer_lemma, x_bidir_outL, output_layer_image])\n",
    "    #consider adding an intrum dense layer here\n",
    "    final_output = layers.Dense(1, activation='sigmoid', name='final_out')(x)\n",
    "    \n",
    "    model = keras.Model([input_text, input_lemma, input_image], final_output)\n",
    "    metrics = [\n",
    "          keras.metrics.TruePositives(name='tp'),\n",
    "    #           keras.metrics.FalsePositives(name='fp'),\n",
    "    #           keras.metrics.TrueNegatives(name='tn'),\n",
    "          keras.metrics.FalseNegatives(name='fn'), \n",
    "          keras.metrics.BinaryAccuracy(name='accuracy'),\n",
    "    #           keras.metrics.Precision(name='precision'),\n",
    "    #           keras.metrics.Recall(name='recall'),\n",
    "          keras.metrics.AUC(name='auc'),\n",
    "    ]\n",
    "    schedule = tf.keras.optimizers.schedules.ExponentialDecay(0.0003, 10 *3, 0.75)\n",
    "    model.compile(\n",
    "    optimizer=tf.keras.optimizers.Adam(schedule),\n",
    "    loss = tf.keras.losses.BinaryCrossentropy(label_smoothing = 0.01),\n",
    "    metrics=metrics)\n",
    "    \n",
    "    return model\n",
    "    \n"
   ]
  },
  {
   "cell_type": "code",
   "execution_count": 13,
   "metadata": {
    "colab": {},
    "colab_type": "code",
    "id": "_tHu8tJA7184"
   },
   "outputs": [],
   "source": [
    "train_files, valid_files = train_test_split(tfrecords,\n",
    "                              test_size=.2, random_state=1)\n"
   ]
  },
  {
   "cell_type": "code",
   "execution_count": 14,
   "metadata": {
    "colab": {},
    "colab_type": "code",
    "id": "alJt8bQV7185"
   },
   "outputs": [],
   "source": [
    "train_ds, train_steps = create_ds(train_files, params)\n",
    "valid_ds, valid_steps = create_ds(valid_files, params)"
   ]
  },
  {
   "cell_type": "code",
   "execution_count": 15,
   "metadata": {
    "colab": {
     "base_uri": "https://localhost:8080/",
     "height": 1000
    },
    "colab_type": "code",
    "id": "S25BV5he7187",
    "outputId": "a5dafa23-97d9-4768-a963-76ca0bdad9b8"
   },
   "outputs": [
    {
     "name": "stdout",
     "output_type": "stream",
     "text": [
      "Model: \"functional_1\"\n",
      "__________________________________________________________________________________________________\n",
      "Layer (type)                    Output Shape         Param #     Connected to                     \n",
      "==================================================================================================\n",
      "text_input (InputLayer)         [(None, 58)]         0                                            \n",
      "__________________________________________________________________________________________________\n",
      "test_lemma_input (InputLayer)   [(None, 58)]         0                                            \n",
      "__________________________________________________________________________________________________\n",
      "embedding (Embedding)           (None, 58, 64)       1920000     text_input[0][0]                 \n",
      "__________________________________________________________________________________________________\n",
      "embedding_1 (Embedding)         (None, 58, 64)       1920000     test_lemma_input[0][0]           \n",
      "__________________________________________________________________________________________________\n",
      "image_input (InputLayer)        [(None, 225, 225, 3) 0                                            \n",
      "__________________________________________________________________________________________________\n",
      "separable_conv1d (SeparableConv (None, 58, 64)       4416        embedding[0][0]                  \n",
      "__________________________________________________________________________________________________\n",
      "separable_conv1d_4 (SeparableCo (None, 58, 64)       4416        embedding_1[0][0]                \n",
      "__________________________________________________________________________________________________\n",
      "conv2d (Conv2D)                 (None, 225, 225, 64) 4864        image_input[0][0]                \n",
      "__________________________________________________________________________________________________\n",
      "separable_conv1d_1 (SeparableCo (None, 58, 64)       4416        separable_conv1d[0][0]           \n",
      "__________________________________________________________________________________________________\n",
      "separable_conv1d_5 (SeparableCo (None, 58, 64)       4416        separable_conv1d_4[0][0]         \n",
      "__________________________________________________________________________________________________\n",
      "max_pooling2d (MaxPooling2D)    (None, 112, 112, 64) 0           conv2d[0][0]                     \n",
      "__________________________________________________________________________________________________\n",
      "max_pooling1d (MaxPooling1D)    (None, 15, 64)       0           separable_conv1d_1[0][0]         \n",
      "__________________________________________________________________________________________________\n",
      "max_pooling1d_2 (MaxPooling1D)  (None, 15, 64)       0           separable_conv1d_5[0][0]         \n",
      "__________________________________________________________________________________________________\n",
      "re_lu (ReLU)                    (None, 112, 112, 64) 0           max_pooling2d[0][0]              \n",
      "__________________________________________________________________________________________________\n",
      "batch_normalization (BatchNorma (None, 15, 64)       256         max_pooling1d[0][0]              \n",
      "__________________________________________________________________________________________________\n",
      "batch_normalization_2 (BatchNor (None, 15, 64)       256         max_pooling1d_2[0][0]            \n",
      "__________________________________________________________________________________________________\n",
      "dense_3 (Dense)                 (None, 112, 112, 16) 1040        re_lu[0][0]                      \n",
      "__________________________________________________________________________________________________\n",
      "separable_conv1d_2 (SeparableCo (None, 15, 64)       4416        batch_normalization[0][0]        \n",
      "__________________________________________________________________________________________________\n",
      "separable_conv1d_6 (SeparableCo (None, 15, 64)       4416        batch_normalization_2[0][0]      \n",
      "__________________________________________________________________________________________________\n",
      "conv2d_1 (Conv2D)               (None, 112, 112, 128 51328       dense_3[0][0]                    \n",
      "__________________________________________________________________________________________________\n",
      "separable_conv1d_3 (SeparableCo (None, 15, 64)       4416        separable_conv1d_2[0][0]         \n",
      "__________________________________________________________________________________________________\n",
      "separable_conv1d_7 (SeparableCo (None, 15, 64)       4416        separable_conv1d_6[0][0]         \n",
      "__________________________________________________________________________________________________\n",
      "max_pooling2d_1 (MaxPooling2D)  (None, 56, 56, 128)  0           conv2d_1[0][0]                   \n",
      "__________________________________________________________________________________________________\n",
      "max_pooling1d_1 (MaxPooling1D)  (None, 4, 64)        0           separable_conv1d_3[0][0]         \n",
      "__________________________________________________________________________________________________\n",
      "max_pooling1d_3 (MaxPooling1D)  (None, 4, 64)        0           separable_conv1d_7[0][0]         \n",
      "__________________________________________________________________________________________________\n",
      "re_lu_1 (ReLU)                  (None, 56, 56, 128)  0           max_pooling2d_1[0][0]            \n",
      "__________________________________________________________________________________________________\n",
      "bidirectional (Bidirectional)   (None, 128)          66048       embedding[0][0]                  \n",
      "__________________________________________________________________________________________________\n",
      "batch_normalization_1 (BatchNor (None, 4, 64)        256         max_pooling1d_1[0][0]            \n",
      "__________________________________________________________________________________________________\n",
      "batch_normalization_3 (BatchNor (None, 4, 64)        256         max_pooling1d_3[0][0]            \n",
      "__________________________________________________________________________________________________\n",
      "bidirectional_1 (Bidirectional) (None, 128)          66048       embedding[0][0]                  \n",
      "__________________________________________________________________________________________________\n",
      "dense_4 (Dense)                 (None, 56, 56, 16)   2064        re_lu_1[0][0]                    \n",
      "__________________________________________________________________________________________________\n",
      "dense (Dense)                   (None, 64)           8256        bidirectional[0][0]              \n",
      "__________________________________________________________________________________________________\n",
      "flatten (Flatten)               (None, 256)          0           batch_normalization_1[0][0]      \n",
      "__________________________________________________________________________________________________\n",
      "flatten_1 (Flatten)             (None, 256)          0           batch_normalization_3[0][0]      \n",
      "__________________________________________________________________________________________________\n",
      "dense_2 (Dense)                 (None, 64)           8256        bidirectional_1[0][0]            \n",
      "__________________________________________________________________________________________________\n",
      "flatten_2 (Flatten)             (None, 50176)        0           dense_4[0][0]                    \n",
      "__________________________________________________________________________________________________\n",
      "bidirectional_out (Dense)       (None, 300)          19500       dense[0][0]                      \n",
      "__________________________________________________________________________________________________\n",
      "text_output (Dense)             (None, 300)          77100       flatten[0][0]                    \n",
      "__________________________________________________________________________________________________\n",
      "text_output_lemma (Dense)       (None, 300)          77100       flatten_1[0][0]                  \n",
      "__________________________________________________________________________________________________\n",
      "bidirectional_out_lemma (Dense) (None, 300)          19500       dense_2[0][0]                    \n",
      "__________________________________________________________________________________________________\n",
      "image_out (Dense)               (None, 300)          15053100    flatten_2[0][0]                  \n",
      "__________________________________________________________________________________________________\n",
      "concatenate (Concatenate)       (None, 1500)         0           bidirectional_out[0][0]          \n",
      "                                                                 text_output[0][0]                \n",
      "                                                                 text_output_lemma[0][0]          \n",
      "                                                                 bidirectional_out_lemma[0][0]    \n",
      "                                                                 image_out[0][0]                  \n",
      "__________________________________________________________________________________________________\n",
      "final_out (Dense)               (None, 1)            1501        concatenate[0][0]                \n",
      "==================================================================================================\n",
      "Total params: 19,332,057\n",
      "Trainable params: 19,331,545\n",
      "Non-trainable params: 512\n",
      "__________________________________________________________________________________________________\n"
     ]
    }
   ],
   "source": [
    "tf.random.set_seed(1)\n",
    "np.random.seed(1)\n",
    "with strategy.scope():\n",
    "    model = create_model()\n",
    "    model.summary()"
   ]
  },
  {
   "cell_type": "code",
   "execution_count": 16,
   "metadata": {
    "colab": {
     "base_uri": "https://localhost:8080/",
     "height": 1000
    },
    "colab_type": "code",
    "id": "dbYqcMyy718-",
    "outputId": "95748c8c-ac45-4188-9e4b-95290c3ed9e5"
   },
   "outputs": [
    {
     "name": "stdout",
     "output_type": "stream",
     "text": [
      "Epoch 1/250\n",
      " 2/10 [=====>........................] - ETA: 0s - loss: 0.7419 - tp: 239.0000 - fn: 217.0000 - accuracy: 0.4949 - auc: 0.5157  WARNING:tensorflow:Callbacks method `on_train_batch_end` is slow compared to the batch time (batch time: 0.0061s vs `on_train_batch_end` time: 0.1991s). Check your callbacks.\n"
     ]
    },
    {
     "name": "stderr",
     "output_type": "stream",
     "text": [
      "WARNING:tensorflow:Callbacks method `on_train_batch_end` is slow compared to the batch time (batch time: 0.0061s vs `on_train_batch_end` time: 0.1991s). Check your callbacks.\n"
     ]
    },
    {
     "name": "stdout",
     "output_type": "stream",
     "text": [
      "10/10 [==============================] - ETA: 0s - loss: 0.7445 - tp: 1430.0000 - fn: 1042.0000 - accuracy: 0.4759 - auc: 0.4982WARNING:tensorflow:From /usr/local/lib/python3.6/dist-packages/tensorflow/python/data/ops/multi_device_iterator_ops.py:601: get_next_as_optional (from tensorflow.python.data.ops.iterator_ops) is deprecated and will be removed in a future version.\n",
      "Instructions for updating:\n",
      "Use `tf.data.Iterator.get_next_as_optional()` instead.\n"
     ]
    },
    {
     "name": "stderr",
     "output_type": "stream",
     "text": [
      "WARNING:tensorflow:From /usr/local/lib/python3.6/dist-packages/tensorflow/python/data/ops/multi_device_iterator_ops.py:601: get_next_as_optional (from tensorflow.python.data.ops.iterator_ops) is deprecated and will be removed in a future version.\n",
      "Instructions for updating:\n",
      "Use `tf.data.Iterator.get_next_as_optional()` instead.\n"
     ]
    },
    {
     "name": "stdout",
     "output_type": "stream",
     "text": [
      "WARNING:tensorflow:Callbacks method `on_test_batch_end` is slow compared to the batch time (batch time: 0.0026s vs `on_test_batch_end` time: 0.0613s). Check your callbacks.\n"
     ]
    },
    {
     "name": "stderr",
     "output_type": "stream",
     "text": [
      "WARNING:tensorflow:Callbacks method `on_test_batch_end` is slow compared to the batch time (batch time: 0.0026s vs `on_test_batch_end` time: 0.0613s). Check your callbacks.\n"
     ]
    },
    {
     "name": "stdout",
     "output_type": "stream",
     "text": [
      "\b\b\b\b\b\b\b\b\b\b\b\b\b\b\b\b\b\b\b\b\b\b\b\b\b\b\b\b\b\b\b\b\b\b\b\b\b\b\b\b\b\b\b\b\b\b\b\b\b\b\b\b\b\b\b\b\b\b\b\b\b\b\b\b\b\b\b\b\b\b\b\b\b\b\b\b\b\b\b\b\b\b\b\b\b\b\b\b\b\b\b\b\b\b\b\b\b\b\b\b\b\b\b\b\b\b\b\b\b\b\b\b\b\b\b\b\b\b\b\b\b\b\b\b\b\b\b\b\r10/10 [==============================] - 15s 1s/step - loss: 0.7445 - tp: 1430.0000 - fn: 1042.0000 - accuracy: 0.4759 - auc: 0.4982 - val_loss: 0.7579 - val_tp: 568.0000 - val_fn: 10.0000 - val_accuracy: 0.3524 - val_auc: 0.5631\n",
      "Epoch 2/250\n",
      "10/10 [==============================] - 3s 311ms/step - loss: 0.7229 - tp: 1034.0000 - fn: 1438.0000 - accuracy: 0.5572 - auc: 0.5571 - val_loss: 0.7461 - val_tp: 558.0000 - val_fn: 20.0000 - val_accuracy: 0.3676 - val_auc: 0.5964\n",
      "Epoch 3/250\n",
      "10/10 [==============================] - 3s 315ms/step - loss: 0.7135 - tp: 1624.0000 - fn: 848.0000 - accuracy: 0.5496 - auc: 0.6099 - val_loss: 0.7262 - val_tp: 413.0000 - val_fn: 165.0000 - val_accuracy: 0.5235 - val_auc: 0.5981\n",
      "Epoch 4/250\n",
      "10/10 [==============================] - 3s 319ms/step - loss: 0.7026 - tp: 1585.0000 - fn: 887.0000 - accuracy: 0.5991 - auc: 0.6440 - val_loss: 0.7188 - val_tp: 376.0000 - val_fn: 202.0000 - val_accuracy: 0.5612 - val_auc: 0.6045\n",
      "Epoch 5/250\n",
      "10/10 [==============================] - 3s 322ms/step - loss: 0.6912 - tp: 1573.0000 - fn: 899.0000 - accuracy: 0.6041 - auc: 0.6586 - val_loss: 0.7108 - val_tp: 351.0000 - val_fn: 227.0000 - val_accuracy: 0.5835 - val_auc: 0.6084\n",
      "Epoch 6/250\n",
      "10/10 [==============================] - 3s 310ms/step - loss: 0.6805 - tp: 1683.0000 - fn: 789.0000 - accuracy: 0.6179 - auc: 0.6822 - val_loss: 0.7046 - val_tp: 348.0000 - val_fn: 230.0000 - val_accuracy: 0.5782 - val_auc: 0.6143\n",
      "Epoch 7/250\n",
      "10/10 [==============================] - 3s 310ms/step - loss: 0.6683 - tp: 1627.0000 - fn: 845.0000 - accuracy: 0.6419 - auc: 0.6995 - val_loss: 0.6913 - val_tp: 301.0000 - val_fn: 277.0000 - val_accuracy: 0.5953 - val_auc: 0.6202\n",
      "Epoch 8/250\n",
      "10/10 [==============================] - 3s 314ms/step - loss: 0.6544 - tp: 1611.0000 - fn: 861.0000 - accuracy: 0.6710 - auc: 0.7276 - val_loss: 0.6791 - val_tp: 285.0000 - val_fn: 293.0000 - val_accuracy: 0.6153 - val_auc: 0.6317\n",
      "Epoch 9/250\n",
      "10/10 [==============================] - 4s 351ms/step - loss: 0.6390 - tp: 1772.0000 - fn: 700.0000 - accuracy: 0.6768 - auc: 0.7495 - val_loss: 0.6650 - val_tp: 227.0000 - val_fn: 351.0000 - val_accuracy: 0.6335 - val_auc: 0.6336\n",
      "Epoch 10/250\n",
      "10/10 [==============================] - 3s 322ms/step - loss: 0.6263 - tp: 1677.0000 - fn: 795.0000 - accuracy: 0.6965 - auc: 0.7622 - val_loss: 0.6523 - val_tp: 180.0000 - val_fn: 398.0000 - val_accuracy: 0.6535 - val_auc: 0.6405\n",
      "Epoch 11/250\n",
      "10/10 [==============================] - 3s 308ms/step - loss: 0.6082 - tp: 1773.0000 - fn: 699.0000 - accuracy: 0.7103 - auc: 0.7870 - val_loss: 0.6501 - val_tp: 195.0000 - val_fn: 383.0000 - val_accuracy: 0.6553 - val_auc: 0.6466\n",
      "Epoch 12/250\n",
      "10/10 [==============================] - 3s 312ms/step - loss: 0.5865 - tp: 1834.0000 - fn: 638.0000 - accuracy: 0.7432 - auc: 0.8187 - val_loss: 0.6529 - val_tp: 255.0000 - val_fn: 323.0000 - val_accuracy: 0.6482 - val_auc: 0.6567\n",
      "Epoch 13/250\n",
      "10/10 [==============================] - 3s 315ms/step - loss: 0.5629 - tp: 1933.0000 - fn: 539.0000 - accuracy: 0.7651 - auc: 0.8444 - val_loss: 0.6436 - val_tp: 239.0000 - val_fn: 339.0000 - val_accuracy: 0.6529 - val_auc: 0.6647\n",
      "Epoch 14/250\n",
      "10/10 [==============================] - 3s 313ms/step - loss: 0.5397 - tp: 1933.0000 - fn: 539.0000 - accuracy: 0.7838 - auc: 0.8617 - val_loss: 0.6383 - val_tp: 255.0000 - val_fn: 323.0000 - val_accuracy: 0.6700 - val_auc: 0.6734\n",
      "Epoch 15/250\n",
      "10/10 [==============================] - 3s 313ms/step - loss: 0.5143 - tp: 1969.0000 - fn: 503.0000 - accuracy: 0.8034 - auc: 0.8801 - val_loss: 0.6341 - val_tp: 260.0000 - val_fn: 318.0000 - val_accuracy: 0.6753 - val_auc: 0.6785\n",
      "Epoch 16/250\n",
      "10/10 [==============================] - 3s 316ms/step - loss: 0.4880 - tp: 1987.0000 - fn: 485.0000 - accuracy: 0.8200 - auc: 0.8967 - val_loss: 0.6357 - val_tp: 257.0000 - val_fn: 321.0000 - val_accuracy: 0.6706 - val_auc: 0.6787\n",
      "Epoch 17/250\n",
      "10/10 [==============================] - 3s 312ms/step - loss: 0.4651 - tp: 2011.0000 - fn: 461.0000 - accuracy: 0.8351 - auc: 0.9075 - val_loss: 0.6358 - val_tp: 263.0000 - val_fn: 315.0000 - val_accuracy: 0.6659 - val_auc: 0.6836\n",
      "Epoch 18/250\n",
      "10/10 [==============================] - 3s 268ms/step - loss: 0.4456 - tp: 2070.0000 - fn: 402.0000 - accuracy: 0.8422 - auc: 0.9154 - val_loss: 0.6417 - val_tp: 261.0000 - val_fn: 317.0000 - val_accuracy: 0.6718 - val_auc: 0.6813\n",
      "Epoch 19/250\n",
      "10/10 [==============================] - 3s 269ms/step - loss: 0.4302 - tp: 2056.0000 - fn: 416.0000 - accuracy: 0.8531 - auc: 0.9210 - val_loss: 0.6592 - val_tp: 318.0000 - val_fn: 260.0000 - val_accuracy: 0.6588 - val_auc: 0.6831\n",
      "Epoch 20/250\n",
      "10/10 [==============================] - 3s 272ms/step - loss: 0.4175 - tp: 2069.0000 - fn: 403.0000 - accuracy: 0.8565 - auc: 0.9257 - val_loss: 0.6576 - val_tp: 286.0000 - val_fn: 292.0000 - val_accuracy: 0.6624 - val_auc: 0.6806\n",
      "Epoch 21/250\n",
      "10/10 [==============================] - 3s 268ms/step - loss: 0.4057 - tp: 2103.0000 - fn: 369.0000 - accuracy: 0.8563 - auc: 0.9304 - val_loss: 0.6620 - val_tp: 270.0000 - val_fn: 308.0000 - val_accuracy: 0.6582 - val_auc: 0.6789\n",
      "Epoch 22/250\n",
      "10/10 [==============================] - 3s 267ms/step - loss: 0.3958 - tp: 2109.0000 - fn: 363.0000 - accuracy: 0.8649 - auc: 0.9348 - val_loss: 0.6688 - val_tp: 273.0000 - val_fn: 305.0000 - val_accuracy: 0.6606 - val_auc: 0.6769\n",
      "Epoch 23/250\n",
      "10/10 [==============================] - 3s 269ms/step - loss: 0.3873 - tp: 2154.0000 - fn: 318.0000 - accuracy: 0.8668 - auc: 0.9384 - val_loss: 0.6732 - val_tp: 259.0000 - val_fn: 319.0000 - val_accuracy: 0.6665 - val_auc: 0.6746\n",
      "Epoch 24/250\n",
      "10/10 [==============================] - 3s 277ms/step - loss: 0.3792 - tp: 2141.0000 - fn: 331.0000 - accuracy: 0.8719 - auc: 0.9416 - val_loss: 0.6791 - val_tp: 277.0000 - val_fn: 301.0000 - val_accuracy: 0.6665 - val_auc: 0.6737\n",
      "Epoch 25/250\n",
      "10/10 [==============================] - 3s 272ms/step - loss: 0.3728 - tp: 2143.0000 - fn: 329.0000 - accuracy: 0.8738 - auc: 0.9438 - val_loss: 0.6841 - val_tp: 279.0000 - val_fn: 299.0000 - val_accuracy: 0.6635 - val_auc: 0.6725\n",
      "Epoch 26/250\n",
      "10/10 [==============================] - 3s 268ms/step - loss: 0.3673 - tp: 2155.0000 - fn: 317.0000 - accuracy: 0.8760 - auc: 0.9458 - val_loss: 0.6881 - val_tp: 272.0000 - val_fn: 306.0000 - val_accuracy: 0.6688 - val_auc: 0.6711\n",
      "Epoch 27/250\n",
      "10/10 [==============================] - 3s 268ms/step - loss: 0.3622 - tp: 2175.0000 - fn: 297.0000 - accuracy: 0.8775 - auc: 0.9477 - val_loss: 0.6921 - val_tp: 259.0000 - val_fn: 319.0000 - val_accuracy: 0.6688 - val_auc: 0.6696\n",
      "Epoch 28/250\n",
      "10/10 [==============================] - 3s 270ms/step - loss: 0.3571 - tp: 2151.0000 - fn: 321.0000 - accuracy: 0.8800 - auc: 0.9497 - val_loss: 0.6957 - val_tp: 282.0000 - val_fn: 296.0000 - val_accuracy: 0.6647 - val_auc: 0.6698\n",
      "Epoch 29/250\n",
      "10/10 [==============================] - 3s 271ms/step - loss: 0.3530 - tp: 2188.0000 - fn: 284.0000 - accuracy: 0.8803 - auc: 0.9512 - val_loss: 0.6979 - val_tp: 258.0000 - val_fn: 320.0000 - val_accuracy: 0.6700 - val_auc: 0.6679\n",
      "Epoch 30/250\n",
      "10/10 [==============================] - 3s 267ms/step - loss: 0.3487 - tp: 2160.0000 - fn: 312.0000 - accuracy: 0.8853 - auc: 0.9531 - val_loss: 0.7007 - val_tp: 284.0000 - val_fn: 294.0000 - val_accuracy: 0.6676 - val_auc: 0.6684\n",
      "Epoch 31/250\n",
      "10/10 [==============================] - 3s 277ms/step - loss: 0.3466 - tp: 2218.0000 - fn: 254.0000 - accuracy: 0.8824 - auc: 0.9536 - val_loss: 0.7028 - val_tp: 262.0000 - val_fn: 316.0000 - val_accuracy: 0.6688 - val_auc: 0.6670\n",
      "Epoch 32/250\n",
      "10/10 [==============================] - 3s 270ms/step - loss: 0.3428 - tp: 2181.0000 - fn: 291.0000 - accuracy: 0.8890 - auc: 0.9551 - val_loss: 0.7048 - val_tp: 270.0000 - val_fn: 308.0000 - val_accuracy: 0.6718 - val_auc: 0.6670\n",
      "Epoch 33/250\n",
      "10/10 [==============================] - 3s 268ms/step - loss: 0.3401 - tp: 2219.0000 - fn: 253.0000 - accuracy: 0.8887 - auc: 0.9561 - val_loss: 0.7070 - val_tp: 273.0000 - val_fn: 305.0000 - val_accuracy: 0.6712 - val_auc: 0.6666\n",
      "Epoch 34/250\n",
      "10/10 [==============================] - 3s 272ms/step - loss: 0.3384 - tp: 2175.0000 - fn: 297.0000 - accuracy: 0.8888 - auc: 0.9567 - val_loss: 0.7085 - val_tp: 264.0000 - val_fn: 314.0000 - val_accuracy: 0.6718 - val_auc: 0.6659\n",
      "Epoch 35/250\n",
      "10/10 [==============================] - 3s 273ms/step - loss: 0.3356 - tp: 2212.0000 - fn: 260.0000 - accuracy: 0.8890 - auc: 0.9576 - val_loss: 0.7116 - val_tp: 274.0000 - val_fn: 304.0000 - val_accuracy: 0.6688 - val_auc: 0.6657\n",
      "Epoch 36/250\n",
      "10/10 [==============================] - 3s 266ms/step - loss: 0.3335 - tp: 2215.0000 - fn: 257.0000 - accuracy: 0.8900 - auc: 0.9583 - val_loss: 0.7135 - val_tp: 267.0000 - val_fn: 311.0000 - val_accuracy: 0.6724 - val_auc: 0.6646\n",
      "Epoch 37/250\n",
      "10/10 [==============================] - 3s 265ms/step - loss: 0.3322 - tp: 2214.0000 - fn: 258.0000 - accuracy: 0.8901 - auc: 0.9586 - val_loss: 0.7146 - val_tp: 270.0000 - val_fn: 308.0000 - val_accuracy: 0.6700 - val_auc: 0.6647\n",
      "Epoch 38/250\n",
      "10/10 [==============================] - 3s 328ms/step - loss: 0.3302 - tp: 2203.0000 - fn: 269.0000 - accuracy: 0.8924 - auc: 0.9595 - val_loss: 0.7163 - val_tp: 264.0000 - val_fn: 314.0000 - val_accuracy: 0.6700 - val_auc: 0.6642\n",
      "Epoch 39/250\n",
      "10/10 [==============================] - 3s 274ms/step - loss: 0.3293 - tp: 2221.0000 - fn: 251.0000 - accuracy: 0.8922 - auc: 0.9597 - val_loss: 0.7178 - val_tp: 270.0000 - val_fn: 308.0000 - val_accuracy: 0.6688 - val_auc: 0.6643\n",
      "Epoch 40/250\n",
      "10/10 [==============================] - 3s 270ms/step - loss: 0.3276 - tp: 2207.0000 - fn: 265.0000 - accuracy: 0.8935 - auc: 0.9604 - val_loss: 0.7194 - val_tp: 262.0000 - val_fn: 316.0000 - val_accuracy: 0.6700 - val_auc: 0.6635\n",
      "Epoch 41/250\n",
      "10/10 [==============================] - 3s 328ms/step - loss: 0.3265 - tp: 2224.0000 - fn: 248.0000 - accuracy: 0.8931 - auc: 0.9606 - val_loss: 0.7204 - val_tp: 271.0000 - val_fn: 307.0000 - val_accuracy: 0.6694 - val_auc: 0.6640\n",
      "Epoch 42/250\n",
      "10/10 [==============================] - 3s 271ms/step - loss: 0.3255 - tp: 2223.0000 - fn: 249.0000 - accuracy: 0.8928 - auc: 0.9609 - val_loss: 0.7217 - val_tp: 266.0000 - val_fn: 312.0000 - val_accuracy: 0.6694 - val_auc: 0.6634\n",
      "Epoch 43/250\n",
      "10/10 [==============================] - 3s 269ms/step - loss: 0.3244 - tp: 2216.0000 - fn: 256.0000 - accuracy: 0.8937 - auc: 0.9613 - val_loss: 0.7227 - val_tp: 266.0000 - val_fn: 312.0000 - val_accuracy: 0.6688 - val_auc: 0.6635\n",
      "Epoch 44/250\n",
      "10/10 [==============================] - 3s 268ms/step - loss: 0.3233 - tp: 2219.0000 - fn: 253.0000 - accuracy: 0.8963 - auc: 0.9618 - val_loss: 0.7240 - val_tp: 263.0000 - val_fn: 315.0000 - val_accuracy: 0.6688 - val_auc: 0.6632\n",
      "Epoch 45/250\n",
      "10/10 [==============================] - 3s 268ms/step - loss: 0.3224 - tp: 2224.0000 - fn: 248.0000 - accuracy: 0.8950 - auc: 0.9620 - val_loss: 0.7247 - val_tp: 268.0000 - val_fn: 310.0000 - val_accuracy: 0.6694 - val_auc: 0.6634\n",
      "Epoch 46/250\n",
      "10/10 [==============================] - 3s 268ms/step - loss: 0.3223 - tp: 2232.0000 - fn: 240.0000 - accuracy: 0.8943 - auc: 0.9619 - val_loss: 0.7254 - val_tp: 271.0000 - val_fn: 307.0000 - val_accuracy: 0.6706 - val_auc: 0.6636\n",
      "Epoch 47/250\n",
      "10/10 [==============================] - 3s 267ms/step - loss: 0.3212 - tp: 2227.0000 - fn: 245.0000 - accuracy: 0.8956 - auc: 0.9624 - val_loss: 0.7261 - val_tp: 263.0000 - val_fn: 315.0000 - val_accuracy: 0.6676 - val_auc: 0.6633\n",
      "Epoch 48/250\n",
      "10/10 [==============================] - 3s 269ms/step - loss: 0.3205 - tp: 2223.0000 - fn: 249.0000 - accuracy: 0.8941 - auc: 0.9626 - val_loss: 0.7266 - val_tp: 267.0000 - val_fn: 311.0000 - val_accuracy: 0.6700 - val_auc: 0.6636\n",
      "Epoch 49/250\n",
      "10/10 [==============================] - 3s 267ms/step - loss: 0.3202 - tp: 2224.0000 - fn: 248.0000 - accuracy: 0.8960 - auc: 0.9627 - val_loss: 0.7271 - val_tp: 268.0000 - val_fn: 310.0000 - val_accuracy: 0.6700 - val_auc: 0.6637\n",
      "Epoch 50/250\n",
      "10/10 [==============================] - 3s 265ms/step - loss: 0.3199 - tp: 2227.0000 - fn: 245.0000 - accuracy: 0.8960 - auc: 0.9627 - val_loss: 0.7276 - val_tp: 268.0000 - val_fn: 310.0000 - val_accuracy: 0.6700 - val_auc: 0.6639\n",
      "Epoch 51/250\n",
      "10/10 [==============================] - 3s 269ms/step - loss: 0.3190 - tp: 2236.0000 - fn: 236.0000 - accuracy: 0.8984 - auc: 0.9630 - val_loss: 0.7281 - val_tp: 269.0000 - val_fn: 309.0000 - val_accuracy: 0.6706 - val_auc: 0.6641\n",
      "Epoch 52/250\n",
      "10/10 [==============================] - 9s 851ms/step - loss: 0.3188 - tp: 2232.0000 - fn: 240.0000 - accuracy: 0.8969 - auc: 0.9631 - val_loss: 0.7285 - val_tp: 268.0000 - val_fn: 310.0000 - val_accuracy: 0.6706 - val_auc: 0.6644\n"
     ]
    }
   ],
   "source": [
    "#calculate class weights\n",
    "target_0 = 5450 #these values will not change (are from review of test ds)\n",
    "target_1 = 3050\n",
    "total = target_0 + target_1\n",
    "\n",
    "class_weight_0 = (1 / target_0) * (total) / 2.0\n",
    "class_weight_1 = (1 / target_1) * (total) / 2.0\n",
    "\n",
    "class_weights = {0: class_weight_0, 1: class_weight_1}\n",
    "\n",
    "\n",
    "#early stopping if validation auc stops improving\n",
    "early_stopping = tf.keras.callbacks.EarlyStopping(monitor='val_auc', #val_auc\n",
    "                                patience=35,\n",
    "                                mode='max',\n",
    "                                restore_best_weights=True)\n",
    "\n",
    "\n",
    "\n",
    "\n",
    "for train_data, train_groundTruth in train_ds:\n",
    "    for valid_data, valid_groundTruth in valid_ds:\n",
    "        history = model.fit(train_data, \n",
    "                            train_groundTruth, \n",
    "                            steps_per_epoch=10, \n",
    "                            validation_data=(valid_data, valid_groundTruth), \n",
    "                            validation_steps=2,\n",
    "                            callbacks=[early_stopping],\n",
    "                            class_weight=class_weights,\n",
    "                            epochs=250)\n"
   ]
  },
  {
   "cell_type": "code",
   "execution_count": 17,
   "metadata": {
    "colab": {},
    "colab_type": "code",
    "id": "WNQKf2Y08zw2"
   },
   "outputs": [],
   "source": [
    "def plot_metric(metric1, metric2, ylabel):\n",
    "    plt.plot(history.history[metric1], label=metric1)\n",
    "    plt.plot(history.history[metric2], label=metric2)\n",
    "    plt.ylabel(ylabel)\n",
    "    plt.xlabel('epoch')\n",
    "    plt.legend()\n",
    "    plt.show()"
   ]
  },
  {
   "cell_type": "code",
   "execution_count": 18,
   "metadata": {
    "colab": {
     "base_uri": "https://localhost:8080/",
     "height": 803
    },
    "colab_type": "code",
    "id": "_BG-kKjK83qC",
    "outputId": "58608622-f834-41b0-d78a-46ae1c42ee1e"
   },
   "outputs": [
    {
     "data": {
      "image/png": "[encoded data removed]",
      "text/plain": [
       "<Figure size 432x288 with 1 Axes>"
      ]
     },
     "metadata": {
      "needs_background": "light",
      "tags": []
     },
     "output_type": "display_data"
    },
    {
     "data": {
      "image/png": "[encoded data removed]",
      "text/plain": [
       "<Figure size 432x288 with 1 Axes>"
      ]
     },
     "metadata": {
      "needs_background": "light",
      "tags": []
     },
     "output_type": "display_data"
    },
    {
     "data": {
      "image/png": "[encoded data removed]",
      "text/plain": [
       "<Figure size 432x288 with 1 Axes>"
      ]
     },
     "metadata": {
      "needs_background": "light",
      "tags": []
     },
     "output_type": "display_data"
    }
   ],
   "source": [
    "plot_metric('auc', 'val_auc', 'auc')\n",
    "plot_metric('loss', 'val_loss', 'loss')\n",
    "plot_metric('accuracy', 'val_accuracy', 'accuracy')"
   ]
  },
  {
   "cell_type": "code",
   "execution_count": 19,
   "metadata": {
    "colab": {
     "base_uri": "https://localhost:8080/",
     "height": 34
    },
    "colab_type": "code",
    "id": "NjL-SsIv-K5O",
    "outputId": "20ddc428-5fd7-4f9e-f189-e760a8fd9479"
   },
   "outputs": [
    {
     "data": {
      "text/plain": [
       "0.6835813522338867"
      ]
     },
     "execution_count": 19,
     "metadata": {
      "tags": []
     },
     "output_type": "execute_result"
    }
   ],
   "source": [
    "max(history.history['val_auc']) #300 - 0.686 #250 0.682"
   ]
  },
  {
   "cell_type": "code",
   "execution_count": 20,
   "metadata": {
    "colab": {},
    "colab_type": "code",
    "id": "bE6q1VFf-ME7"
   },
   "outputs": [],
   "source": [
    "model_name = 'model_hateful_memes_v{}.h5'.format(params['version'])\n",
    "model.save(model_name)\n",
    "bucket = client.bucket('jh_hateful_memes')\n",
    "blob = bucket.blob(model_name)\n",
    "blob.upload_from_filename(model_name)#fix this"
   ]
  },
  {
   "cell_type": "code",
   "execution_count": 21,
   "metadata": {
    "colab": {
     "base_uri": "https://localhost:8080/",
     "height": 54
    },
    "colab_type": "code",
    "id": "Dh9c21R6lEZc",
    "outputId": "608ff6db-c536-4b66-9e88-ce17e3ffa066"
   },
   "outputs": [
    {
     "name": "stderr",
     "output_type": "stream",
     "text": [
      "WARNING:google.auth._default:No project ID could be determined. Consider running `gcloud config set project` or setting the GOOGLE_CLOUD_PROJECT environment variable\n"
     ]
    }
   ],
   "source": [
    "#make into a fn\n",
    "bucket = 'jh_hateful_memes_test'\n",
    "client = storage.Client(project='hateful-memes', credentials=credentials)\n",
    "objects = client.list_blobs(bucket, prefix='hatefulmemes_')\n",
    "tfrecords = []\n",
    "for object_ in objects:\n",
    "    path = str(object_).split(', ')[1]\n",
    "    gs_path = os.path.join('gs://', bucket, path)\n",
    "    tfrecords.append(gs_path) #gs_path"
   ]
  },
  {
   "cell_type": "code",
   "execution_count": 21,
   "metadata": {
    "colab": {},
    "colab_type": "code",
    "id": "jU-hPa_8lMNP"
   },
   "outputs": [],
   "source": [
    ""
   ]
  },
  {
   "cell_type": "code",
   "execution_count": 22,
   "metadata": {
    "colab": {},
    "colab_type": "code",
    "id": "bcVbjWe8i-Kr"
   },
   "outputs": [],
   "source": [
    "test_ds, test_steps = create_ds(tfrecords, params, train=False)"
   ]
  },
  {
   "cell_type": "code",
   "execution_count": 23,
   "metadata": {
    "colab": {},
    "colab_type": "code",
    "id": "or7-zGBVlppw"
   },
   "outputs": [],
   "source": [
    "for x_test, ids in test_ds:\n",
    "    predictions = model.predict(x_test, steps=test_steps)\n",
    "    prediction_ids = ids"
   ]
  },
  {
   "cell_type": "code",
   "execution_count": 24,
   "metadata": {
    "colab": {},
    "colab_type": "code",
    "id": "ABcoxiAH_le8"
   },
   "outputs": [],
   "source": [
    "prediction_dict = {\n",
    "    'id': prediction_ids,\n",
    "    'proba': np.concatenate(predictions),\n",
    "    'label': np.ones(1000, int)\n",
    "}\n",
    "submission_ds = pd.DataFrame(prediction_dict)\n",
    "\n"
   ]
  },
  {
   "cell_type": "code",
   "execution_count": 25,
   "metadata": {
    "colab": {},
    "colab_type": "code",
    "id": "UC0AiCcELFFD"
   },
   "outputs": [],
   "source": [
    "submission_ds.to_csv('submission.csv', index=False)"
   ]
  },
  {
   "cell_type": "code",
   "execution_count": 27,
   "metadata": {
    "colab": {},
    "colab_type": "code",
    "id": "xuuDuHhRyNqU"
   },
   "outputs": [],
   "source": [
    ""
   ]
  }
 ],
 "metadata": {
  "accelerator": "TPU",
  "colab": {
   "name": "two_input_model.ipynb",
   "provenance": []
  },
  "kernelspec": {
   "display_name": "Python 3",
   "language": "python",
   "name": "python3"
  },
  "language_info": {
   "codemirror_mode": {
    "name": "ipython",
    "version": 3
   },
   "file_extension": ".py",
   "mimetype": "text/x-python",
   "name": "python",
   "nbconvert_exporter": "python",
   "pygments_lexer": "ipython3",
   "version": "3.7.3"
  }
 },
 "nbformat": 4,
 "nbformat_minor": 0
}
