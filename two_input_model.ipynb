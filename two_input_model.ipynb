{
 "cells": [
  {
   "cell_type": "code",
   "execution_count": 1,
   "metadata": {
    "colab": {
     "base_uri": "https://localhost:8080/",
     "height": 34
    },
    "colab_type": "code",
    "id": "e4BdgGfH718Y",
    "outputId": "d1c5123a-ec1f-46a1-ffc7-47687c7e9c8b"
   },
   "outputs": [
    {
     "name": "stdout",
     "output_type": "stream",
     "text": [
      "2.3.0\n"
     ]
    }
   ],
   "source": [
    "#set random seeds\n",
    "from numpy.random import seed\n",
    "seed(1)\n",
    "from tensorflow.random import set_seed\n",
    "set_seed(1)\n",
    "\n",
    "import pandas as pd\n",
    "import numpy as np\n",
    "\n",
    "#machine learning\n",
    "import tensorflow as tf\n",
    "print(tf.__version__)\n",
    "from tensorflow.keras import layers \n",
    "from tensorflow import keras\n",
    "from sklearn.model_selection import train_test_split\n",
    "\n",
    "#accessing files\n",
    "from google.cloud import storage\n",
    "import os\n",
    "\n",
    "#display charts/images\n",
    "import matplotlib.pyplot as plt\n",
    "\n",
    "#don't need\n",
    "# from tensorflow.python.keras.preprocessing import sequence\n",
    "# from tensorflow.python.keras.preprocessing import text\n",
    "# import tensorflow_hub as hub\n",
    "\n",
    "\n"
   ]
  },
  {
   "cell_type": "code",
   "execution_count": 2,
   "metadata": {
    "colab": {},
    "colab_type": "code",
    "id": "9__sYCZ7718e"
   },
   "outputs": [],
   "source": [
    "params = {\n",
    "    'image_size': [225, 225],\n",
    "    'text_input': (58,),\n",
    "    'batch_size': 512,\n",
    "    'vocab_size': 30000,\n",
    "    'examples_per_file': 850, #will not change\n",
    "    'test_examples_per_file': 500,\n",
    "    'version': 7 #model version number\n",
    "}"
   ]
  },
  {
   "cell_type": "code",
   "execution_count": 3,
   "metadata": {
    "colab": {},
    "colab_type": "code",
    "id": "g3ZOLb6A718k"
   },
   "outputs": [],
   "source": [
    "try:\n",
    "    from google.colab import auth\n",
    "    auth.authenticate_user()\n",
    "    credentials=None\n",
    "\n",
    "except ModuleNotFoundError:\n",
    "\n",
    "\n",
    "    from google.oauth2 import service_account\n",
    "\n",
    "    credentials = service_account.Credentials.from_service_account_file( #file location of GCS private key\n",
    "        '/Users/jeremiahherberg/Downloads/hateful-memes-af65c70c1b79.json')\n",
    "\n",
    "client = storage.Client(project='hateful-memes', credentials=credentials)"
   ]
  },
  {
   "cell_type": "code",
   "execution_count": 4,
   "metadata": {
    "colab": {},
    "colab_type": "code",
    "id": "3cjmD1w-718p"
   },
   "outputs": [],
   "source": [
    "num_examples_per_tfrecordfile = params['examples_per_file'] # 850 #this will not change"
   ]
  },
  {
   "cell_type": "code",
   "execution_count": 5,
   "metadata": {
    "colab": {},
    "colab_type": "code",
    "id": "BMUqKpKY718s"
   },
   "outputs": [],
   "source": [
    "bucket = 'jh_hateful_memes'\n",
    "client = storage.Client(project='hateful-memes', credentials=credentials)\n",
    "objects = client.list_blobs(bucket, prefix='hatefulmemes_')\n",
    "tfrecords = []\n",
    "for object_ in objects:\n",
    "    path = str(object_).split(', ')[1]\n",
    "    gs_path = os.path.join('gs://', bucket, path)\n",
    "    tfrecords.append(gs_path) #gs_path"
   ]
  },
  {
   "cell_type": "code",
   "execution_count": 6,
   "metadata": {
    "colab": {},
    "colab_type": "code",
    "id": "CogGhHQB718u"
   },
   "outputs": [],
   "source": [
    "# tfrecords"
   ]
  },
  {
   "cell_type": "code",
   "execution_count": 7,
   "metadata": {
    "colab": {
     "base_uri": "https://localhost:8080/",
     "height": 768
    },
    "colab_type": "code",
    "id": "VdrBIeYx718x",
    "outputId": "1ce7618f-590e-4a2e-b177-a0e81d3bb7c2"
   },
   "outputs": [
    {
     "name": "stdout",
     "output_type": "stream",
     "text": [
      "Running on TPU  grpc://10.37.177.186:8470\n",
      "INFO:tensorflow:Initializing the TPU system: grpc://10.37.177.186:8470\n"
     ]
    },
    {
     "name": "stderr",
     "output_type": "stream",
     "text": [
      "INFO:tensorflow:Initializing the TPU system: grpc://10.37.177.186:8470\n"
     ]
    },
    {
     "name": "stdout",
     "output_type": "stream",
     "text": [
      "INFO:tensorflow:Clearing out eager caches\n"
     ]
    },
    {
     "name": "stderr",
     "output_type": "stream",
     "text": [
      "INFO:tensorflow:Clearing out eager caches\n"
     ]
    },
    {
     "name": "stdout",
     "output_type": "stream",
     "text": [
      "INFO:tensorflow:Finished initializing TPU system.\n"
     ]
    },
    {
     "name": "stderr",
     "output_type": "stream",
     "text": [
      "INFO:tensorflow:Finished initializing TPU system.\n",
      "WARNING:absl:`tf.distribute.experimental.TPUStrategy` is deprecated, please use  the non experimental symbol `tf.distribute.TPUStrategy` instead.\n"
     ]
    },
    {
     "name": "stdout",
     "output_type": "stream",
     "text": [
      "INFO:tensorflow:Found TPU system:\n"
     ]
    },
    {
     "name": "stderr",
     "output_type": "stream",
     "text": [
      "INFO:tensorflow:Found TPU system:\n"
     ]
    },
    {
     "name": "stdout",
     "output_type": "stream",
     "text": [
      "INFO:tensorflow:*** Num TPU Cores: 8\n"
     ]
    },
    {
     "name": "stderr",
     "output_type": "stream",
     "text": [
      "INFO:tensorflow:*** Num TPU Cores: 8\n"
     ]
    },
    {
     "name": "stdout",
     "output_type": "stream",
     "text": [
      "INFO:tensorflow:*** Num TPU Workers: 1\n"
     ]
    },
    {
     "name": "stderr",
     "output_type": "stream",
     "text": [
      "INFO:tensorflow:*** Num TPU Workers: 1\n"
     ]
    },
    {
     "name": "stdout",
     "output_type": "stream",
     "text": [
      "INFO:tensorflow:*** Num TPU Cores Per Worker: 8\n"
     ]
    },
    {
     "name": "stderr",
     "output_type": "stream",
     "text": [
      "INFO:tensorflow:*** Num TPU Cores Per Worker: 8\n"
     ]
    },
    {
     "name": "stdout",
     "output_type": "stream",
     "text": [
      "INFO:tensorflow:*** Available Device: _DeviceAttributes(/job:localhost/replica:0/task:0/device:CPU:0, CPU, 0, 0)\n"
     ]
    },
    {
     "name": "stderr",
     "output_type": "stream",
     "text": [
      "INFO:tensorflow:*** Available Device: _DeviceAttributes(/job:localhost/replica:0/task:0/device:CPU:0, CPU, 0, 0)\n"
     ]
    },
    {
     "name": "stdout",
     "output_type": "stream",
     "text": [
      "INFO:tensorflow:*** Available Device: _DeviceAttributes(/job:localhost/replica:0/task:0/device:XLA_CPU:0, XLA_CPU, 0, 0)\n"
     ]
    },
    {
     "name": "stderr",
     "output_type": "stream",
     "text": [
      "INFO:tensorflow:*** Available Device: _DeviceAttributes(/job:localhost/replica:0/task:0/device:XLA_CPU:0, XLA_CPU, 0, 0)\n"
     ]
    },
    {
     "name": "stdout",
     "output_type": "stream",
     "text": [
      "INFO:tensorflow:*** Available Device: _DeviceAttributes(/job:worker/replica:0/task:0/device:CPU:0, CPU, 0, 0)\n"
     ]
    },
    {
     "name": "stderr",
     "output_type": "stream",
     "text": [
      "INFO:tensorflow:*** Available Device: _DeviceAttributes(/job:worker/replica:0/task:0/device:CPU:0, CPU, 0, 0)\n"
     ]
    },
    {
     "name": "stdout",
     "output_type": "stream",
     "text": [
      "INFO:tensorflow:*** Available Device: _DeviceAttributes(/job:worker/replica:0/task:0/device:TPU:0, TPU, 0, 0)\n"
     ]
    },
    {
     "name": "stderr",
     "output_type": "stream",
     "text": [
      "INFO:tensorflow:*** Available Device: _DeviceAttributes(/job:worker/replica:0/task:0/device:TPU:0, TPU, 0, 0)\n"
     ]
    },
    {
     "name": "stdout",
     "output_type": "stream",
     "text": [
      "INFO:tensorflow:*** Available Device: _DeviceAttributes(/job:worker/replica:0/task:0/device:TPU:1, TPU, 0, 0)\n"
     ]
    },
    {
     "name": "stderr",
     "output_type": "stream",
     "text": [
      "INFO:tensorflow:*** Available Device: _DeviceAttributes(/job:worker/replica:0/task:0/device:TPU:1, TPU, 0, 0)\n"
     ]
    },
    {
     "name": "stdout",
     "output_type": "stream",
     "text": [
      "INFO:tensorflow:*** Available Device: _DeviceAttributes(/job:worker/replica:0/task:0/device:TPU:2, TPU, 0, 0)\n"
     ]
    },
    {
     "name": "stderr",
     "output_type": "stream",
     "text": [
      "INFO:tensorflow:*** Available Device: _DeviceAttributes(/job:worker/replica:0/task:0/device:TPU:2, TPU, 0, 0)\n"
     ]
    },
    {
     "name": "stdout",
     "output_type": "stream",
     "text": [
      "INFO:tensorflow:*** Available Device: _DeviceAttributes(/job:worker/replica:0/task:0/device:TPU:3, TPU, 0, 0)\n"
     ]
    },
    {
     "name": "stderr",
     "output_type": "stream",
     "text": [
      "INFO:tensorflow:*** Available Device: _DeviceAttributes(/job:worker/replica:0/task:0/device:TPU:3, TPU, 0, 0)\n"
     ]
    },
    {
     "name": "stdout",
     "output_type": "stream",
     "text": [
      "INFO:tensorflow:*** Available Device: _DeviceAttributes(/job:worker/replica:0/task:0/device:TPU:4, TPU, 0, 0)\n"
     ]
    },
    {
     "name": "stderr",
     "output_type": "stream",
     "text": [
      "INFO:tensorflow:*** Available Device: _DeviceAttributes(/job:worker/replica:0/task:0/device:TPU:4, TPU, 0, 0)\n"
     ]
    },
    {
     "name": "stdout",
     "output_type": "stream",
     "text": [
      "INFO:tensorflow:*** Available Device: _DeviceAttributes(/job:worker/replica:0/task:0/device:TPU:5, TPU, 0, 0)\n"
     ]
    },
    {
     "name": "stderr",
     "output_type": "stream",
     "text": [
      "INFO:tensorflow:*** Available Device: _DeviceAttributes(/job:worker/replica:0/task:0/device:TPU:5, TPU, 0, 0)\n"
     ]
    },
    {
     "name": "stdout",
     "output_type": "stream",
     "text": [
      "INFO:tensorflow:*** Available Device: _DeviceAttributes(/job:worker/replica:0/task:0/device:TPU:6, TPU, 0, 0)\n"
     ]
    },
    {
     "name": "stderr",
     "output_type": "stream",
     "text": [
      "INFO:tensorflow:*** Available Device: _DeviceAttributes(/job:worker/replica:0/task:0/device:TPU:6, TPU, 0, 0)\n"
     ]
    },
    {
     "name": "stdout",
     "output_type": "stream",
     "text": [
      "INFO:tensorflow:*** Available Device: _DeviceAttributes(/job:worker/replica:0/task:0/device:TPU:7, TPU, 0, 0)\n"
     ]
    },
    {
     "name": "stderr",
     "output_type": "stream",
     "text": [
      "INFO:tensorflow:*** Available Device: _DeviceAttributes(/job:worker/replica:0/task:0/device:TPU:7, TPU, 0, 0)\n"
     ]
    },
    {
     "name": "stdout",
     "output_type": "stream",
     "text": [
      "INFO:tensorflow:*** Available Device: _DeviceAttributes(/job:worker/replica:0/task:0/device:TPU_SYSTEM:0, TPU_SYSTEM, 0, 0)\n"
     ]
    },
    {
     "name": "stderr",
     "output_type": "stream",
     "text": [
      "INFO:tensorflow:*** Available Device: _DeviceAttributes(/job:worker/replica:0/task:0/device:TPU_SYSTEM:0, TPU_SYSTEM, 0, 0)\n"
     ]
    },
    {
     "name": "stdout",
     "output_type": "stream",
     "text": [
      "INFO:tensorflow:*** Available Device: _DeviceAttributes(/job:worker/replica:0/task:0/device:XLA_CPU:0, XLA_CPU, 0, 0)\n"
     ]
    },
    {
     "name": "stderr",
     "output_type": "stream",
     "text": [
      "INFO:tensorflow:*** Available Device: _DeviceAttributes(/job:worker/replica:0/task:0/device:XLA_CPU:0, XLA_CPU, 0, 0)\n"
     ]
    },
    {
     "name": "stdout",
     "output_type": "stream",
     "text": [
      "REPLICAS:  8\n"
     ]
    }
   ],
   "source": [
    "try:\n",
    "    # TPU detection. No parameters necessary if TPU_NAME environment variable is\n",
    "    # set: this is always the case on Kaggle.\n",
    "    tpu = tf.distribute.cluster_resolver.TPUClusterResolver()\n",
    "    print('Running on TPU ', tpu.master())\n",
    "except ValueError:\n",
    "    tpu = None\n",
    "\n",
    "if tpu:\n",
    "    tf.config.experimental_connect_to_cluster(tpu)\n",
    "    tf.tpu.experimental.initialize_tpu_system(tpu)\n",
    "    strategy = tf.distribute.experimental.TPUStrategy(tpu)\n",
    "else:\n",
    "    # Default distribution strategy in Tensorflow. Works on CPU and single GPU.\n",
    "    strategy = tf.distribute.get_strategy()\n",
    "\n",
    "print(\"REPLICAS: \", strategy.num_replicas_in_sync)"
   ]
  },
  {
   "cell_type": "code",
   "execution_count": 8,
   "metadata": {
    "colab": {},
    "colab_type": "code",
    "id": "rm40cYA_718y"
   },
   "outputs": [],
   "source": [
    "def decode_example_train(example):\n",
    "    '''\n",
    "    decodes single tfexample from TFrecord file\n",
    "    '''\n",
    "    features = {'label': tf.io.FixedLenFeature([], tf.int64),\n",
    "                'text': tf.io.FixedLenFeature([], tf.string),\n",
    "                'text_lemma': tf.io.FixedLenFeature([], tf.string),\n",
    "                'text_lemma_no_stopwords': tf.io.FixedLenFeature([], tf.string),\n",
    "                'text_no_stopwords':tf.io.FixedLenFeature([], tf.string),\n",
    "                'image': tf.io.FixedLenFeature([], tf.string)}\n",
    "    single_example = tf.io.parse_single_example(example, features)\n",
    "    \n",
    "    text = tf.io.parse_tensor(single_example['text'], out_type=tf.int32)\n",
    "    textL = tf.io.parse_tensor(single_example['text_lemma'], out_type=tf.int32)\n",
    "    # text = tf.cast(text, tf.float32) \n",
    "    image = tf.io.decode_jpeg(single_example['image'], 3)\n",
    "    image = tf.image.resize_with_pad(image, *params['image_size'])\n",
    "    image = image / 255.0\n",
    "    label = single_example['label']\n",
    "    # label = tf.cast(label, tf.float32)\n",
    "    return text, textL, image, label\n",
    "\n",
    "def decode_example_test(example):\n",
    "    '''\n",
    "    decodes single tfexample from TFrecord file\n",
    "    '''\n",
    "    features = {'id': tf.io.FixedLenFeature([], tf.int64),\n",
    "                'text': tf.io.FixedLenFeature([], tf.string),\n",
    "                'text_lemma': tf.io.FixedLenFeature([], tf.string),\n",
    "                'text_lemma_no_stopwords': tf.io.FixedLenFeature([], tf.string),\n",
    "                'text_no_stopwords':tf.io.FixedLenFeature([], tf.string),\n",
    "                'image': tf.io.FixedLenFeature([], tf.string)}\n",
    "    single_example = tf.io.parse_single_example(example, features)\n",
    "    \n",
    "    text = tf.io.parse_tensor(single_example['text'], out_type=tf.int32)\n",
    "    textL = tf.io.parse_tensor(single_example['text_lemma'], out_type=tf.int32)\n",
    "    # text = tf.cast(text, tf.float32) \n",
    "    image = tf.io.decode_jpeg(single_example['image'], 3)\n",
    "    image = tf.image.resize_with_pad(image, *params['image_size'])\n",
    "    image = image / 255.0\n",
    "    label = single_example['id']\n",
    "    # label = tf.cast(label, tf.float32)\n",
    "    return text, textL, image, label\n",
    "\n",
    "def flip_image(text, textL, image, label): \n",
    "    '''\n",
    "    randombly flips image input\n",
    "    \n",
    "    args:\n",
    "        text: text output in ds\n",
    "        image: image output in ds\n",
    "        label: label output in ds (can also be id)\n",
    "    returns:\n",
    "        text, image, label\n",
    "        args will be otherwise unchanged\n",
    "    '''\n",
    "    \n",
    "    image = tf.image.random_flip_left_right(image)\n",
    "\n",
    "    return text, textL, image, label\n",
    "\n",
    "\n",
    "def convert_xy(text, textL, image, label): #needs to be called last\n",
    "    '''\n",
    "    transforms ds output from text, image, label -> (text, image), label\n",
    "    \n",
    "    args:\n",
    "        text: text output in ds\n",
    "        image: image output in ds\n",
    "        label: label output in ds (can also be id)\n",
    "    returns:\n",
    "        (text, image), label\n",
    "        args will be otherwise unchanged\n",
    "    '''\n",
    "    return (text, textL, image), label\n",
    "    \n",
    "    "
   ]
  },
  {
   "cell_type": "code",
   "execution_count": 9,
   "metadata": {
    "colab": {},
    "colab_type": "code",
    "id": "PZ0dHSjt7180"
   },
   "outputs": [],
   "source": [
    "def create_ds(files, params, train=True, test_examples=1000):\n",
    "    '''\n",
    "    function to create dataset for training/validation\n",
    "    \n",
    "    args:\n",
    "        files: list of str, filepaths of TFrecord files to be used in DS\n",
    "        params: dict with the following keys:\n",
    "            batch_size: int, batch size of training/validation step\n",
    "            examples_per_file: int, number of examples in each TFrecord file\n",
    "        train, bool, default True, indicator if the DS is for training\n",
    "        test_examples, int: default 1000 number of examples in test dataset\n",
    "    returns:\n",
    "        ds: tensorflow input pipeline with images, text and labels\n",
    "            output of ds is: (text, image), label\n",
    "        ds_batches: int, number of steps in each epoch based on the batch_size\n",
    "    '''\n",
    "    file_size = params['examples_per_file'] \n",
    "    batch_size = file_size * len(files)\n",
    "\n",
    "    ds = tf.data.TFRecordDataset(filenames = files)\n",
    "    if train:\n",
    "        ds = ds.map(decode_example_train, \n",
    "                    num_parallel_calls=tf.data.experimental.AUTOTUNE)\n",
    "        ds = ds.map(flip_image, num_parallel_calls=tf.data.experimental.AUTOTUNE)\n",
    "    else:\n",
    "        ds = ds.map(decode_example_test)\n",
    "    ds = ds.map(convert_xy, num_parallel_calls=tf.data.experimental.AUTOTUNE)\n",
    "    if train:\n",
    "        ds = ds.batch(batch_size, drop_remainder=True)\n",
    "    else:\n",
    "        ds = ds.batch(test_examples)\n",
    "    ds = ds.cache() \n",
    "    \n",
    "    ds_batches = 10 #(len(files) * file_size) // batch_size\n",
    "    return ds, ds_batches\n",
    "    \n",
    "    "
   ]
  },
  {
   "cell_type": "code",
   "execution_count": 10,
   "metadata": {
    "colab": {},
    "colab_type": "code",
    "id": "V6RbH_oRmjUU"
   },
   "outputs": [],
   "source": [
    "def pair_separableConv1D(x, \n",
    "                         filters, kernal_size, act, first_reg, sec_reg,\n",
    "                        maxpooling_poolsize):\n",
    "    '''\n",
    "    function to add the following layers to a Keras Functional model:\n",
    "        layers.SeparableConv1D\n",
    "        layers.SeparableConv1D\n",
    "        layers.MaxPooling1D\n",
    "    \n",
    "    args:\n",
    "        x: keras input layer, or series of layers that can be traced to input layer\n",
    "        kernal_size: int, kernal size for SeparableConv1D layers\n",
    "        act: str, activation for SeparableConv1D layers\n",
    "        first_reg, keras regularizer to pass into 1st conv layer\n",
    "        sec_reg, keras regularizer to pass into 2nd conv layer\n",
    "        maxpooling_poolsize: int, poolsize for maxpooling layer\n",
    "    \n",
    "    returns:\n",
    "        x: x that was input into fn with above layers added\n",
    "    '''\n",
    "    x = layers.SeparableConv1D(filters=filters, kernel_size=kernal_size, \n",
    "                              activation=act, padding='same',\n",
    "                              kernel_regularizer=first_reg)(x)\n",
    "    x = layers.SeparableConv1D(filters=filters, kernel_size=kernal_size, \n",
    "                              activation=act, padding='same',\n",
    "                              kernel_regularizer=sec_reg)(x)\n",
    "    x = layers.MaxPooling1D(pool_size=maxpooling_poolsize, padding='same')(x)\n",
    "    x = layers.BatchNormalization()(x)\n",
    "    return x"
   ]
  },
  {
   "cell_type": "code",
   "execution_count": 11,
   "metadata": {
    "colab": {},
    "colab_type": "code",
    "id": "Z7nJDhlumjUX"
   },
   "outputs": [],
   "source": [
    "def conv2dset(x, \n",
    "              conv_filter, kernel, regularizer=None, \n",
    "              maxpooling_poolsize=2, \n",
    "              conv_act=None, \n",
    "              dense_units=None, dense_act=None):\n",
    "    '''\n",
    "    function to add the following layers to a Keras Functional model:\n",
    "        layers.Conv2D\n",
    "        MaxPooling2D\n",
    "        Batchnormalization\n",
    "        (activation layer)\n",
    "        layers.Dense (if applicable)\n",
    "    \n",
    "    args:\n",
    "        x: keras input layer, or series of layers that can be traced to input layer\n",
    "        conv_filter: int, number of filters in Conv2D layer\n",
    "        kernel: int, kernel size in Conv2D layer\n",
    "        regularizer: keras.regularizers object, default: None, regularizer in \n",
    "            Conv2D layer\n",
    "        maxpooling_poolsize: int, default 2, poolsize for maxpooling layer\n",
    "        conv_act: keras layer (without the \"()\"), default None, activation\n",
    "            layer that will go after the batchnormalization layer\n",
    "        dense_units: int, default None, number of units in dense layer\n",
    "            if None, there will be no dense layer\n",
    "        dense_act: str, default None, activation in dense layer\n",
    "    \n",
    "    returns:\n",
    "        x: x that was input into fn with above layers added\n",
    "        \n",
    "    '''\n",
    "    x = layers.Conv2D(filters=conv_filter, kernel_size=kernel, padding='same', \n",
    "                      kernel_regularizer=regularizer)(x)\n",
    "    x = layers.MaxPooling2D(maxpooling_poolsize)(x)\n",
    "    # x = layers.BatchNormalization()(x)\n",
    "    if conv_act:\n",
    "        x = conv_act()(x)\n",
    "    if dense_units:\n",
    "        x = layers.Dense(dense_units, activation=dense_act)(x)\n",
    "    \n",
    "    return x\n",
    "\n"
   ]
  },
  {
   "cell_type": "code",
   "execution_count": 12,
   "metadata": {
    "colab": {},
    "colab_type": "code",
    "id": "aHOtR_XA7182"
   },
   "outputs": [],
   "source": [
    "def create_model(params=params,):\n",
    "    '''\n",
    "    creates model with two inputs and out output\n",
    "\n",
    "        \n",
    "    '''\n",
    "    #set some fixed variables\n",
    "    text_input_shape = params['text_input']\n",
    "    vocab_size = params['vocab_size']\n",
    "    image_size = params['image_size']\n",
    "    dense_nodes = 300\n",
    "    ltsm_units = 128\n",
    "    ltsm_dense_units = 64\n",
    "    relu = layers.ReLU\n",
    "    reg = keras.regularizers.l2(0.001,)\n",
    "    \n",
    "    #model inputs\n",
    "    input_text = layers.Input(text_input_shape, name='text_input')\n",
    "    embedding = layers.Embedding(input_dim=vocab_size, output_dim=64, \n",
    "                                 input_length=58, mask_zero=True)(input_text)\n",
    "    input_lemma = layers.Input(text_input_shape, name='test_lemma_input')\n",
    "    lemma_embedding = layers.Embedding(input_dim=vocab_size, output_dim=64,\n",
    "                                       input_length=58, mask_zero=True)(input_lemma)\n",
    "    input_image = layers.Input((*image_size, 3), name='image_input')\n",
    "\n",
    "\n",
    "    #bidirectional LSTM - original text\n",
    "    x_bidir = embedding\n",
    "    x_bidir = layers.Bidirectional(layers.LSTM(ltsm_units))(x_bidir)\n",
    "    x_bidir = layers.Dense(ltsm_dense_units, activation = 'relu')(x_bidir)\n",
    "    x_bidir_out = layers.Dense(dense_nodes, activation='sigmoid', name='bidirectional_out')(x_bidir)\n",
    "\n",
    "    #1D convolution - original text\n",
    "    x_text = embedding\n",
    "    x_text = pair_separableConv1D(x_text, 128, 4, 'relu', reg, None, 4)\n",
    "    x_text = pair_separableConv1D(x_text, 128, 4, 'relu', None, None, 4)\n",
    "    x_text = layers.Flatten()(x_text)\n",
    "    x_text = layers.Dense(dense_nodes, activation='tanh',kernel_regularizer=reg)(x_text)\n",
    "    output_layer_text = layers.Dense(dense_nodes, activation='sigmoid', name='text_output')(x_text)\n",
    "\n",
    "\n",
    "    #1D convolution - lemma\n",
    "    x_lemma = lemma_embedding\n",
    "    x_lemma = pair_separableConv1D(x_lemma, 128, 4, 'relu', reg, None, 4)\n",
    "    x_lemma = pair_separableConv1D(x_lemma, 128, 4, 'relu', None, None, 4)\n",
    "    x_lemma = layers.Flatten()(x_lemma)\n",
    "    # x_lemma = layers.Dense(dense_nodes, activation='tanh',kernel_regularizer=reg)(x_lemma)\n",
    "    output_layer_lemma = layers.Dense(dense_nodes, activation='sigmoid', name='text_output_lemma')(x_lemma)\n",
    "\n",
    "    #bidirectional LSTM - lemma\n",
    "    x_bidirL = lemma_embedding\n",
    "    x_bidirL = layers.Bidirectional(layers.LSTM(ltsm_units))(x_bidirL)\n",
    "    x_bidirL = layers.Dense(ltsm_dense_units, activation = 'relu')(x_bidirL)\n",
    "    x_bidir_outL = layers.Dense(dense_nodes, activation='sigmoid', name='bidirectional_out_lemma')(x_bidirL)\n",
    "\n",
    "\n",
    "    #images\n",
    "    x_img = input_image\n",
    "    x_img = conv2dset(x_img, 64, 5, reg, 2, relu, 16, 'tanh')\n",
    "    x_img = conv2dset(x_img, 128, 5, reg, 2,  relu, 1, 'tanh') #16, 'tanh'\n",
    "    x_img = layers.Flatten()(x_img)\n",
    "    # x_img = layers.Dense(dense_nodes, activation='tanh', kernel_regularizer=reg)(x_img) \n",
    "    output_layer_image = layers.Dense(dense_nodes, activation='softmax', name='image_out')(x_img)\n",
    "    \n",
    "    text_outputs = layers.Concatenate()([x_bidir_out, output_layer_text, output_layer_lemma, x_bidir_outL])\n",
    "    text_outputs = layers.Dense(dense_nodes)(text_outputs)\n",
    "    \n",
    "    #only one output for images\n",
    "    image_outputs = output_layer_image\n",
    "    x = layers.Concatenate()([image_outputs, text_outputs])\n",
    "    \n",
    "    # x = tf.stack([ image_outputs,text_outputs])\n",
    "    x = layers.Reshape(( 2, dense_nodes))(x)\n",
    "    x = layers.LSTM(64)(x)\n",
    "    # x = layers.Dense(dense_nodes)(x)\n",
    "    x = layers.Flatten()(x)\n",
    "    #consider adding an intrum dense layer here\n",
    "    final_output = layers.Dense(1, activation='sigmoid', name='final_out')(x)\n",
    "    \n",
    "    model = keras.Model([input_text, input_lemma, input_image], final_output)\n",
    "    metrics = [\n",
    "          keras.metrics.TruePositives(name='tp'),\n",
    "    #           keras.metrics.FalsePositives(name='fp'),\n",
    "    #           keras.metrics.TrueNegatives(name='tn'),\n",
    "          keras.metrics.FalseNegatives(name='fn'), \n",
    "          keras.metrics.BinaryAccuracy(name='accuracy'),\n",
    "    #           keras.metrics.Precision(name='precision'),\n",
    "    #           keras.metrics.Recall(name='recall'),\n",
    "          keras.metrics.AUC(name='auc'),\n",
    "    ]\n",
    "    schedule = tf.keras.optimizers.schedules.ExponentialDecay(0.0003, 10 *3, 0.75)\n",
    "    model.compile(\n",
    "    optimizer=tf.keras.optimizers.Adam(schedule),\n",
    "    loss = tf.keras.losses.BinaryCrossentropy(label_smoothing = 0.01),\n",
    "    metrics=metrics)\n",
    "    \n",
    "    return model\n",
    "    \n"
   ]
  },
  {
   "cell_type": "code",
   "execution_count": 13,
   "metadata": {
    "colab": {},
    "colab_type": "code",
    "id": "_tHu8tJA7184"
   },
   "outputs": [],
   "source": [
    "train_files, valid_files = train_test_split(tfrecords,\n",
    "                              test_size=.2, random_state=1)\n"
   ]
  },
  {
   "cell_type": "code",
   "execution_count": 14,
   "metadata": {
    "colab": {},
    "colab_type": "code",
    "id": "alJt8bQV7185"
   },
   "outputs": [],
   "source": [
    "train_ds, train_steps = create_ds(train_files, params)\n",
    "valid_ds, valid_steps = create_ds(valid_files, params)"
   ]
  },
  {
   "cell_type": "code",
   "execution_count": 15,
   "metadata": {
    "colab": {
     "base_uri": "https://localhost:8080/",
     "height": 1000
    },
    "colab_type": "code",
    "id": "S25BV5he7187",
    "outputId": "9132f2d6-87a0-4649-99d4-8a2acd3407f6"
   },
   "outputs": [
    {
     "name": "stdout",
     "output_type": "stream",
     "text": [
      "Model: \"functional_1\"\n",
      "__________________________________________________________________________________________________\n",
      "Layer (type)                    Output Shape         Param #     Connected to                     \n",
      "==================================================================================================\n",
      "text_input (InputLayer)         [(None, 58)]         0                                            \n",
      "__________________________________________________________________________________________________\n",
      "embedding (Embedding)           (None, 58, 64)       1920000     text_input[0][0]                 \n",
      "__________________________________________________________________________________________________\n",
      "test_lemma_input (InputLayer)   [(None, 58)]         0                                            \n",
      "__________________________________________________________________________________________________\n",
      "separable_conv1d (SeparableConv (None, 58, 128)      8576        embedding[0][0]                  \n",
      "__________________________________________________________________________________________________\n",
      "embedding_1 (Embedding)         (None, 58, 64)       1920000     test_lemma_input[0][0]           \n",
      "__________________________________________________________________________________________________\n",
      "separable_conv1d_1 (SeparableCo (None, 58, 128)      17024       separable_conv1d[0][0]           \n",
      "__________________________________________________________________________________________________\n",
      "separable_conv1d_4 (SeparableCo (None, 58, 128)      8576        embedding_1[0][0]                \n",
      "__________________________________________________________________________________________________\n",
      "image_input (InputLayer)        [(None, 225, 225, 3) 0                                            \n",
      "__________________________________________________________________________________________________\n",
      "max_pooling1d (MaxPooling1D)    (None, 15, 128)      0           separable_conv1d_1[0][0]         \n",
      "__________________________________________________________________________________________________\n",
      "separable_conv1d_5 (SeparableCo (None, 58, 128)      17024       separable_conv1d_4[0][0]         \n",
      "__________________________________________________________________________________________________\n",
      "conv2d (Conv2D)                 (None, 225, 225, 64) 4864        image_input[0][0]                \n",
      "__________________________________________________________________________________________________\n",
      "batch_normalization (BatchNorma (None, 15, 128)      512         max_pooling1d[0][0]              \n",
      "__________________________________________________________________________________________________\n",
      "max_pooling1d_2 (MaxPooling1D)  (None, 15, 128)      0           separable_conv1d_5[0][0]         \n",
      "__________________________________________________________________________________________________\n",
      "max_pooling2d (MaxPooling2D)    (None, 112, 112, 64) 0           conv2d[0][0]                     \n",
      "__________________________________________________________________________________________________\n",
      "separable_conv1d_2 (SeparableCo (None, 15, 128)      17024       batch_normalization[0][0]        \n",
      "__________________________________________________________________________________________________\n",
      "batch_normalization_2 (BatchNor (None, 15, 128)      512         max_pooling1d_2[0][0]            \n",
      "__________________________________________________________________________________________________\n",
      "re_lu (ReLU)                    (None, 112, 112, 64) 0           max_pooling2d[0][0]              \n",
      "__________________________________________________________________________________________________\n",
      "separable_conv1d_3 (SeparableCo (None, 15, 128)      17024       separable_conv1d_2[0][0]         \n",
      "__________________________________________________________________________________________________\n",
      "separable_conv1d_6 (SeparableCo (None, 15, 128)      17024       batch_normalization_2[0][0]      \n",
      "__________________________________________________________________________________________________\n",
      "dense_3 (Dense)                 (None, 112, 112, 16) 1040        re_lu[0][0]                      \n",
      "__________________________________________________________________________________________________\n",
      "max_pooling1d_1 (MaxPooling1D)  (None, 4, 128)       0           separable_conv1d_3[0][0]         \n",
      "__________________________________________________________________________________________________\n",
      "separable_conv1d_7 (SeparableCo (None, 15, 128)      17024       separable_conv1d_6[0][0]         \n",
      "__________________________________________________________________________________________________\n",
      "conv2d_1 (Conv2D)               (None, 112, 112, 128 51328       dense_3[0][0]                    \n",
      "__________________________________________________________________________________________________\n",
      "batch_normalization_1 (BatchNor (None, 4, 128)       512         max_pooling1d_1[0][0]            \n",
      "__________________________________________________________________________________________________\n",
      "max_pooling1d_3 (MaxPooling1D)  (None, 4, 128)       0           separable_conv1d_7[0][0]         \n",
      "__________________________________________________________________________________________________\n",
      "max_pooling2d_1 (MaxPooling2D)  (None, 56, 56, 128)  0           conv2d_1[0][0]                   \n",
      "__________________________________________________________________________________________________\n",
      "bidirectional (Bidirectional)   (None, 256)          197632      embedding[0][0]                  \n",
      "__________________________________________________________________________________________________\n",
      "flatten (Flatten)               (None, 512)          0           batch_normalization_1[0][0]      \n",
      "__________________________________________________________________________________________________\n",
      "batch_normalization_3 (BatchNor (None, 4, 128)       512         max_pooling1d_3[0][0]            \n",
      "__________________________________________________________________________________________________\n",
      "bidirectional_1 (Bidirectional) (None, 256)          197632      embedding_1[0][0]                \n",
      "__________________________________________________________________________________________________\n",
      "re_lu_1 (ReLU)                  (None, 56, 56, 128)  0           max_pooling2d_1[0][0]            \n",
      "__________________________________________________________________________________________________\n",
      "dense (Dense)                   (None, 64)           16448       bidirectional[0][0]              \n",
      "__________________________________________________________________________________________________\n",
      "dense_1 (Dense)                 (None, 300)          153900      flatten[0][0]                    \n",
      "__________________________________________________________________________________________________\n",
      "flatten_1 (Flatten)             (None, 512)          0           batch_normalization_3[0][0]      \n",
      "__________________________________________________________________________________________________\n",
      "dense_2 (Dense)                 (None, 64)           16448       bidirectional_1[0][0]            \n",
      "__________________________________________________________________________________________________\n",
      "dense_4 (Dense)                 (None, 56, 56, 1)    129         re_lu_1[0][0]                    \n",
      "__________________________________________________________________________________________________\n",
      "bidirectional_out (Dense)       (None, 300)          19500       dense[0][0]                      \n",
      "__________________________________________________________________________________________________\n",
      "text_output (Dense)             (None, 300)          90300       dense_1[0][0]                    \n",
      "__________________________________________________________________________________________________\n",
      "text_output_lemma (Dense)       (None, 300)          153900      flatten_1[0][0]                  \n",
      "__________________________________________________________________________________________________\n",
      "bidirectional_out_lemma (Dense) (None, 300)          19500       dense_2[0][0]                    \n",
      "__________________________________________________________________________________________________\n",
      "flatten_2 (Flatten)             (None, 3136)         0           dense_4[0][0]                    \n",
      "__________________________________________________________________________________________________\n",
      "concatenate (Concatenate)       (None, 1200)         0           bidirectional_out[0][0]          \n",
      "                                                                 text_output[0][0]                \n",
      "                                                                 text_output_lemma[0][0]          \n",
      "                                                                 bidirectional_out_lemma[0][0]    \n",
      "__________________________________________________________________________________________________\n",
      "image_out (Dense)               (None, 300)          941100      flatten_2[0][0]                  \n",
      "__________________________________________________________________________________________________\n",
      "dense_5 (Dense)                 (None, 300)          360300      concatenate[0][0]                \n",
      "__________________________________________________________________________________________________\n",
      "concatenate_1 (Concatenate)     (None, 600)          0           image_out[0][0]                  \n",
      "                                                                 dense_5[0][0]                    \n",
      "__________________________________________________________________________________________________\n",
      "reshape (Reshape)               (None, 2, 300)       0           concatenate_1[0][0]              \n",
      "__________________________________________________________________________________________________\n",
      "lstm_2 (LSTM)                   (None, 64)           93440       reshape[0][0]                    \n",
      "__________________________________________________________________________________________________\n",
      "flatten_3 (Flatten)             (None, 64)           0           lstm_2[0][0]                     \n",
      "__________________________________________________________________________________________________\n",
      "final_out (Dense)               (None, 1)            65          flatten_3[0][0]                  \n",
      "==================================================================================================\n",
      "Total params: 6,278,870\n",
      "Trainable params: 6,277,846\n",
      "Non-trainable params: 1,024\n",
      "__________________________________________________________________________________________________\n"
     ]
    }
   ],
   "source": [
    "tf.random.set_seed(1)\n",
    "np.random.seed(1)\n",
    "with strategy.scope():\n",
    "    model = create_model()\n",
    "    model.summary()"
   ]
  },
  {
   "cell_type": "code",
   "execution_count": 16,
   "metadata": {
    "colab": {
     "base_uri": "https://localhost:8080/",
     "height": 1000
    },
    "colab_type": "code",
    "id": "dbYqcMyy718-",
    "outputId": "d1618dc4-a1ba-431c-a69a-0eb8dae5b798"
   },
   "outputs": [
    {
     "name": "stdout",
     "output_type": "stream",
     "text": [
      "Epoch 1/250\n",
      " 2/10 [=====>........................] - ETA: 0s - loss: 1.1223 - tp: 225.0000 - fn: 231.0000 - accuracy: 0.4956 - auc: 0.4965  WARNING:tensorflow:Callbacks method `on_train_batch_end` is slow compared to the batch time (batch time: 0.0065s vs `on_train_batch_end` time: 0.1970s). Check your callbacks.\n"
     ]
    },
    {
     "name": "stderr",
     "output_type": "stream",
     "text": [
      "WARNING:tensorflow:Callbacks method `on_train_batch_end` is slow compared to the batch time (batch time: 0.0065s vs `on_train_batch_end` time: 0.1970s). Check your callbacks.\n"
     ]
    },
    {
     "name": "stdout",
     "output_type": "stream",
     "text": [
      "10/10 [==============================] - ETA: 0s - loss: 1.0980 - tp: 1205.0000 - fn: 1267.0000 - accuracy: 0.4909 - auc: 0.4927WARNING:tensorflow:From /usr/local/lib/python3.6/dist-packages/tensorflow/python/data/ops/multi_device_iterator_ops.py:601: get_next_as_optional (from tensorflow.python.data.ops.iterator_ops) is deprecated and will be removed in a future version.\n",
      "Instructions for updating:\n",
      "Use `tf.data.Iterator.get_next_as_optional()` instead.\n"
     ]
    },
    {
     "name": "stderr",
     "output_type": "stream",
     "text": [
      "WARNING:tensorflow:From /usr/local/lib/python3.6/dist-packages/tensorflow/python/data/ops/multi_device_iterator_ops.py:601: get_next_as_optional (from tensorflow.python.data.ops.iterator_ops) is deprecated and will be removed in a future version.\n",
      "Instructions for updating:\n",
      "Use `tf.data.Iterator.get_next_as_optional()` instead.\n"
     ]
    },
    {
     "name": "stdout",
     "output_type": "stream",
     "text": [
      "WARNING:tensorflow:Callbacks method `on_test_batch_end` is slow compared to the batch time (batch time: 0.0025s vs `on_test_batch_end` time: 0.0609s). Check your callbacks.\n"
     ]
    },
    {
     "name": "stderr",
     "output_type": "stream",
     "text": [
      "WARNING:tensorflow:Callbacks method `on_test_batch_end` is slow compared to the batch time (batch time: 0.0025s vs `on_test_batch_end` time: 0.0609s). Check your callbacks.\n"
     ]
    },
    {
     "name": "stdout",
     "output_type": "stream",
     "text": [
      "\b\b\b\b\b\b\b\b\b\b\b\b\b\b\b\b\b\b\b\b\b\b\b\b\b\b\b\b\b\b\b\b\b\b\b\b\b\b\b\b\b\b\b\b\b\b\b\b\b\b\b\b\b\b\b\b\b\b\b\b\b\b\b\b\b\b\b\b\b\b\b\b\b\b\b\b\b\b\b\b\b\b\b\b\b\b\b\b\b\b\b\b\b\b\b\b\b\b\b\b\b\b\b\b\b\b\b\b\b\b\b\b\b\b\b\b\b\b\b\b\b\b\b\b\b\b\b\b\r10/10 [==============================] - 14s 1s/step - loss: 1.0980 - tp: 1205.0000 - fn: 1267.0000 - accuracy: 0.4909 - auc: 0.4927 - val_loss: 1.0988 - val_tp: 578.0000 - val_fn: 0.0000e+00 - val_accuracy: 0.3400 - val_auc: 0.5000\n",
      "Epoch 2/250\n",
      "10/10 [==============================] - 3s 263ms/step - loss: 1.0503 - tp: 754.0000 - fn: 1718.0000 - accuracy: 0.5582 - auc: 0.5029 - val_loss: 1.0268 - val_tp: 0.0000e+00 - val_fn: 578.0000 - val_accuracy: 0.6600 - val_auc: 0.5000\n",
      "Epoch 3/250\n",
      "10/10 [==============================] - 3s 296ms/step - loss: 1.0165 - tp: 2222.0000 - fn: 250.0000 - accuracy: 0.3900 - auc: 0.5009 - val_loss: 1.0026 - val_tp: 578.0000 - val_fn: 0.0000e+00 - val_accuracy: 0.3400 - val_auc: 0.5000\n",
      "Epoch 4/250\n",
      "10/10 [==============================] - 3s 265ms/step - loss: 0.9892 - tp: 231.0000 - fn: 2241.0000 - accuracy: 0.6044 - auc: 0.5009 - val_loss: 0.9773 - val_tp: 578.0000 - val_fn: 0.0000e+00 - val_accuracy: 0.3400 - val_auc: 0.5000\n",
      "Epoch 5/250\n",
      "10/10 [==============================] - 3s 257ms/step - loss: 0.9666 - tp: 2472.0000 - fn: 0.0000e+00 - accuracy: 0.3635 - auc: 0.4978 - val_loss: 0.9539 - val_tp: 578.0000 - val_fn: 0.0000e+00 - val_accuracy: 0.3400 - val_auc: 0.5000\n",
      "Epoch 6/250\n",
      "10/10 [==============================] - 3s 260ms/step - loss: 0.9469 - tp: 336.0000 - fn: 2136.0000 - accuracy: 0.6087 - auc: 0.4994 - val_loss: 0.9375 - val_tp: 578.0000 - val_fn: 0.0000e+00 - val_accuracy: 0.3400 - val_auc: 0.5000\n",
      "Epoch 7/250\n",
      "10/10 [==============================] - 3s 263ms/step - loss: 0.9304 - tp: 2472.0000 - fn: 0.0000e+00 - accuracy: 0.3635 - auc: 0.4951 - val_loss: 0.9240 - val_tp: 578.0000 - val_fn: 0.0000e+00 - val_accuracy: 0.3400 - val_auc: 0.5000\n",
      "Epoch 8/250\n",
      "10/10 [==============================] - 3s 263ms/step - loss: 0.9158 - tp: 2329.0000 - fn: 143.0000 - accuracy: 0.3878 - auc: 0.5207 - val_loss: 0.9059 - val_tp: 0.0000e+00 - val_fn: 578.0000 - val_accuracy: 0.6600 - val_auc: 0.5000\n",
      "Epoch 9/250\n",
      "10/10 [==============================] - 3s 264ms/step - loss: 0.9039 - tp: 537.0000 - fn: 1935.0000 - accuracy: 0.5924 - auc: 0.5187 - val_loss: 0.9014 - val_tp: 578.0000 - val_fn: 0.0000e+00 - val_accuracy: 0.3400 - val_auc: 0.5000\n",
      "Epoch 10/250\n",
      "10/10 [==============================] - 3s 258ms/step - loss: 0.8930 - tp: 2472.0000 - fn: 0.0000e+00 - accuracy: 0.3635 - auc: 0.5570 - val_loss: 0.8921 - val_tp: 578.0000 - val_fn: 0.0000e+00 - val_accuracy: 0.3400 - val_auc: 0.5000\n",
      "Epoch 11/250\n",
      "10/10 [==============================] - 3s 271ms/step - loss: 0.8829 - tp: 2046.0000 - fn: 426.0000 - accuracy: 0.4553 - auc: 0.5737 - val_loss: 0.8759 - val_tp: 0.0000e+00 - val_fn: 578.0000 - val_accuracy: 0.6600 - val_auc: 0.5000\n",
      "Epoch 12/250\n",
      "10/10 [==============================] - 3s 268ms/step - loss: 0.8736 - tp: 1268.0000 - fn: 1204.0000 - accuracy: 0.5797 - auc: 0.5825 - val_loss: 0.8670 - val_tp: 0.0000e+00 - val_fn: 578.0000 - val_accuracy: 0.6600 - val_auc: 0.5000\n",
      "Epoch 13/250\n",
      "10/10 [==============================] - 3s 291ms/step - loss: 0.8641 - tp: 1489.0000 - fn: 983.0000 - accuracy: 0.5471 - auc: 0.5838 - val_loss: 0.8624 - val_tp: 0.0000e+00 - val_fn: 578.0000 - val_accuracy: 0.6600 - val_auc: 0.5035\n",
      "Epoch 14/250\n",
      "10/10 [==============================] - 3s 268ms/step - loss: 0.8546 - tp: 1388.0000 - fn: 1084.0000 - accuracy: 0.5675 - auc: 0.5875 - val_loss: 0.8471 - val_tp: 0.0000e+00 - val_fn: 578.0000 - val_accuracy: 0.6600 - val_auc: 0.5000\n",
      "Epoch 15/250\n",
      "10/10 [==============================] - 3s 267ms/step - loss: 0.8452 - tp: 1479.0000 - fn: 993.0000 - accuracy: 0.5684 - auc: 0.5963 - val_loss: 0.8249 - val_tp: 0.0000e+00 - val_fn: 578.0000 - val_accuracy: 0.6600 - val_auc: 0.5000\n",
      "Epoch 16/250\n",
      "10/10 [==============================] - 3s 263ms/step - loss: 0.8370 - tp: 1333.0000 - fn: 1139.0000 - accuracy: 0.5891 - auc: 0.6055 - val_loss: 0.8225 - val_tp: 0.0000e+00 - val_fn: 578.0000 - val_accuracy: 0.6600 - val_auc: 0.5035\n",
      "Epoch 17/250\n",
      "10/10 [==============================] - 3s 295ms/step - loss: 0.8270 - tp: 1342.0000 - fn: 1130.0000 - accuracy: 0.6068 - auc: 0.6235 - val_loss: 0.8154 - val_tp: 0.0000e+00 - val_fn: 578.0000 - val_accuracy: 0.6600 - val_auc: 0.5879\n",
      "Epoch 18/250\n",
      "10/10 [==============================] - 3s 265ms/step - loss: 0.8150 - tp: 1454.0000 - fn: 1018.0000 - accuracy: 0.6149 - auc: 0.6459 - val_loss: 0.8106 - val_tp: 0.0000e+00 - val_fn: 578.0000 - val_accuracy: 0.6600 - val_auc: 0.5404\n",
      "Epoch 19/250\n",
      "10/10 [==============================] - 3s 298ms/step - loss: 0.8000 - tp: 1379.0000 - fn: 1093.0000 - accuracy: 0.6497 - auc: 0.6715 - val_loss: 0.8103 - val_tp: 0.0000e+00 - val_fn: 578.0000 - val_accuracy: 0.6600 - val_auc: 0.6062\n",
      "Epoch 20/250\n",
      "10/10 [==============================] - 3s 291ms/step - loss: 0.7825 - tp: 1459.0000 - fn: 1013.0000 - accuracy: 0.6550 - auc: 0.6955 - val_loss: 0.7940 - val_tp: 0.0000e+00 - val_fn: 578.0000 - val_accuracy: 0.6600 - val_auc: 0.6205\n",
      "Epoch 21/250\n",
      "10/10 [==============================] - 3s 268ms/step - loss: 0.7620 - tp: 1470.0000 - fn: 1002.0000 - accuracy: 0.6807 - auc: 0.7217 - val_loss: 0.7872 - val_tp: 0.0000e+00 - val_fn: 578.0000 - val_accuracy: 0.6600 - val_auc: 0.6171\n",
      "Epoch 22/250\n",
      "10/10 [==============================] - 3s 269ms/step - loss: 0.7439 - tp: 1539.0000 - fn: 933.0000 - accuracy: 0.6984 - auc: 0.7396 - val_loss: 0.7827 - val_tp: 0.0000e+00 - val_fn: 578.0000 - val_accuracy: 0.6600 - val_auc: 0.6142\n",
      "Epoch 23/250\n",
      "10/10 [==============================] - 3s 266ms/step - loss: 0.7251 - tp: 1572.0000 - fn: 900.0000 - accuracy: 0.7121 - auc: 0.7626 - val_loss: 0.7766 - val_tp: 0.0000e+00 - val_fn: 578.0000 - val_accuracy: 0.6600 - val_auc: 0.6052\n",
      "Epoch 24/250\n",
      "10/10 [==============================] - 3s 264ms/step - loss: 0.7079 - tp: 1658.0000 - fn: 814.0000 - accuracy: 0.7250 - auc: 0.7790 - val_loss: 0.7756 - val_tp: 0.0000e+00 - val_fn: 578.0000 - val_accuracy: 0.6600 - val_auc: 0.5937\n",
      "Epoch 25/250\n",
      "10/10 [==============================] - 3s 266ms/step - loss: 0.6902 - tp: 1706.0000 - fn: 766.0000 - accuracy: 0.7372 - auc: 0.7975 - val_loss: 0.7748 - val_tp: 0.0000e+00 - val_fn: 578.0000 - val_accuracy: 0.6600 - val_auc: 0.5777\n",
      "Epoch 26/250\n",
      "10/10 [==============================] - 3s 266ms/step - loss: 0.6778 - tp: 1735.0000 - fn: 737.0000 - accuracy: 0.7463 - auc: 0.8089 - val_loss: 0.7739 - val_tp: 0.0000e+00 - val_fn: 578.0000 - val_accuracy: 0.6600 - val_auc: 0.5667\n",
      "Epoch 27/250\n",
      "10/10 [==============================] - 3s 268ms/step - loss: 0.6672 - tp: 1760.0000 - fn: 712.0000 - accuracy: 0.7494 - auc: 0.8180 - val_loss: 0.7796 - val_tp: 0.0000e+00 - val_fn: 578.0000 - val_accuracy: 0.6600 - val_auc: 0.5528\n",
      "Epoch 28/250\n",
      "10/10 [==============================] - 3s 265ms/step - loss: 0.6559 - tp: 1810.0000 - fn: 662.0000 - accuracy: 0.7554 - auc: 0.8261 - val_loss: 0.7758 - val_tp: 0.0000e+00 - val_fn: 578.0000 - val_accuracy: 0.6600 - val_auc: 0.5525\n",
      "Epoch 29/250\n",
      "10/10 [==============================] - 3s 267ms/step - loss: 0.6477 - tp: 1826.0000 - fn: 646.0000 - accuracy: 0.7603 - auc: 0.8316 - val_loss: 0.7834 - val_tp: 0.0000e+00 - val_fn: 578.0000 - val_accuracy: 0.6600 - val_auc: 0.5468\n",
      "Epoch 30/250\n",
      "10/10 [==============================] - 3s 264ms/step - loss: 0.6405 - tp: 1830.0000 - fn: 642.0000 - accuracy: 0.7668 - auc: 0.8366 - val_loss: 0.7774 - val_tp: 0.0000e+00 - val_fn: 578.0000 - val_accuracy: 0.6600 - val_auc: 0.5476\n",
      "Epoch 31/250\n",
      "10/10 [==============================] - 3s 268ms/step - loss: 0.6359 - tp: 1867.0000 - fn: 605.0000 - accuracy: 0.7674 - auc: 0.8389 - val_loss: 0.7845 - val_tp: 0.0000e+00 - val_fn: 578.0000 - val_accuracy: 0.6600 - val_auc: 0.5463\n",
      "Epoch 32/250\n",
      "10/10 [==============================] - 3s 262ms/step - loss: 0.6310 - tp: 1861.0000 - fn: 611.0000 - accuracy: 0.7703 - auc: 0.8419 - val_loss: 0.7773 - val_tp: 1.0000 - val_fn: 577.0000 - val_accuracy: 0.6606 - val_auc: 0.5479\n",
      "Epoch 33/250\n",
      "10/10 [==============================] - 3s 266ms/step - loss: 0.6256 - tp: 1879.0000 - fn: 593.0000 - accuracy: 0.7719 - auc: 0.8456 - val_loss: 0.7779 - val_tp: 1.0000 - val_fn: 577.0000 - val_accuracy: 0.6606 - val_auc: 0.5492\n",
      "Epoch 34/250\n",
      "10/10 [==============================] - 3s 325ms/step - loss: 0.6232 - tp: 1857.0000 - fn: 615.0000 - accuracy: 0.7768 - auc: 0.8468 - val_loss: 0.7794 - val_tp: 1.0000 - val_fn: 577.0000 - val_accuracy: 0.6606 - val_auc: 0.5511\n",
      "Epoch 35/250\n",
      "10/10 [==============================] - 3s 270ms/step - loss: 0.6184 - tp: 1905.0000 - fn: 567.0000 - accuracy: 0.7724 - auc: 0.8499 - val_loss: 0.7767 - val_tp: 3.0000 - val_fn: 575.0000 - val_accuracy: 0.6618 - val_auc: 0.5519\n",
      "Epoch 36/250\n",
      "10/10 [==============================] - 4s 413ms/step - loss: 0.6153 - tp: 1894.0000 - fn: 578.0000 - accuracy: 0.7768 - auc: 0.8518 - val_loss: 0.7784 - val_tp: 3.0000 - val_fn: 575.0000 - val_accuracy: 0.6618 - val_auc: 0.5538\n",
      "Epoch 37/250\n",
      "10/10 [==============================] - 3s 264ms/step - loss: 0.6133 - tp: 1912.0000 - fn: 560.0000 - accuracy: 0.7759 - auc: 0.8525 - val_loss: 0.7756 - val_tp: 5.0000 - val_fn: 573.0000 - val_accuracy: 0.6629 - val_auc: 0.5555\n",
      "Epoch 38/250\n",
      "10/10 [==============================] - 3s 264ms/step - loss: 0.6099 - tp: 1896.0000 - fn: 576.0000 - accuracy: 0.7835 - auc: 0.8549 - val_loss: 0.7759 - val_tp: 5.0000 - val_fn: 573.0000 - val_accuracy: 0.6629 - val_auc: 0.5586\n",
      "Epoch 39/250\n",
      "10/10 [==============================] - 3s 265ms/step - loss: 0.6087 - tp: 1919.0000 - fn: 553.0000 - accuracy: 0.7769 - auc: 0.8552 - val_loss: 0.7741 - val_tp: 7.0000 - val_fn: 571.0000 - val_accuracy: 0.6635 - val_auc: 0.5605\n",
      "Epoch 40/250\n",
      "10/10 [==============================] - 3s 269ms/step - loss: 0.6056 - tp: 1915.0000 - fn: 557.0000 - accuracy: 0.7844 - auc: 0.8568 - val_loss: 0.7732 - val_tp: 7.0000 - val_fn: 571.0000 - val_accuracy: 0.6635 - val_auc: 0.5623\n",
      "Epoch 41/250\n",
      "10/10 [==============================] - 3s 265ms/step - loss: 0.6037 - tp: 1920.0000 - fn: 552.0000 - accuracy: 0.7826 - auc: 0.8581 - val_loss: 0.7703 - val_tp: 10.0000 - val_fn: 568.0000 - val_accuracy: 0.6653 - val_auc: 0.5650\n",
      "Epoch 42/250\n",
      "10/10 [==============================] - 3s 261ms/step - loss: 0.6021 - tp: 1928.0000 - fn: 544.0000 - accuracy: 0.7841 - auc: 0.8588 - val_loss: 0.7713 - val_tp: 11.0000 - val_fn: 567.0000 - val_accuracy: 0.6659 - val_auc: 0.5669\n",
      "Epoch 43/250\n",
      "10/10 [==============================] - 3s 263ms/step - loss: 0.6000 - tp: 1928.0000 - fn: 544.0000 - accuracy: 0.7891 - auc: 0.8603 - val_loss: 0.7696 - val_tp: 12.0000 - val_fn: 566.0000 - val_accuracy: 0.6665 - val_auc: 0.5699\n",
      "Epoch 44/250\n",
      "10/10 [==============================] - 3s 264ms/step - loss: 0.5993 - tp: 1925.0000 - fn: 547.0000 - accuracy: 0.7884 - auc: 0.8607 - val_loss: 0.7667 - val_tp: 16.0000 - val_fn: 562.0000 - val_accuracy: 0.6676 - val_auc: 0.5729\n",
      "Epoch 45/250\n",
      "10/10 [==============================] - 3s 266ms/step - loss: 0.5974 - tp: 1934.0000 - fn: 538.0000 - accuracy: 0.7834 - auc: 0.8616 - val_loss: 0.7659 - val_tp: 20.0000 - val_fn: 558.0000 - val_accuracy: 0.6700 - val_auc: 0.5761\n",
      "Epoch 46/250\n",
      "10/10 [==============================] - 3s 262ms/step - loss: 0.5990 - tp: 1942.0000 - fn: 530.0000 - accuracy: 0.7846 - auc: 0.8601 - val_loss: 0.7645 - val_tp: 22.0000 - val_fn: 556.0000 - val_accuracy: 0.6682 - val_auc: 0.5788\n",
      "Epoch 47/250\n",
      "10/10 [==============================] - 3s 263ms/step - loss: 0.5962 - tp: 1933.0000 - fn: 539.0000 - accuracy: 0.7860 - auc: 0.8621 - val_loss: 0.7629 - val_tp: 24.0000 - val_fn: 554.0000 - val_accuracy: 0.6688 - val_auc: 0.5821\n",
      "Epoch 48/250\n",
      "10/10 [==============================] - 3s 267ms/step - loss: 0.5954 - tp: 1927.0000 - fn: 545.0000 - accuracy: 0.7859 - auc: 0.8626 - val_loss: 0.7613 - val_tp: 30.0000 - val_fn: 548.0000 - val_accuracy: 0.6706 - val_auc: 0.5857\n",
      "Epoch 49/250\n",
      "10/10 [==============================] - 3s 263ms/step - loss: 0.5949 - tp: 1932.0000 - fn: 540.0000 - accuracy: 0.7881 - auc: 0.8628 - val_loss: 0.7597 - val_tp: 33.0000 - val_fn: 545.0000 - val_accuracy: 0.6712 - val_auc: 0.5895\n",
      "Epoch 50/250\n",
      "10/10 [==============================] - 3s 261ms/step - loss: 0.5947 - tp: 1939.0000 - fn: 533.0000 - accuracy: 0.7851 - auc: 0.8627 - val_loss: 0.7580 - val_tp: 37.0000 - val_fn: 541.0000 - val_accuracy: 0.6735 - val_auc: 0.5921\n",
      "Epoch 51/250\n",
      "10/10 [==============================] - 3s 265ms/step - loss: 0.5932 - tp: 1935.0000 - fn: 537.0000 - accuracy: 0.7866 - auc: 0.8636 - val_loss: 0.7566 - val_tp: 41.0000 - val_fn: 537.0000 - val_accuracy: 0.6747 - val_auc: 0.5947\n",
      "Epoch 52/250\n",
      "10/10 [==============================] - 3s 261ms/step - loss: 0.5925 - tp: 1940.0000 - fn: 532.0000 - accuracy: 0.7874 - auc: 0.8642 - val_loss: 0.7540 - val_tp: 51.0000 - val_fn: 527.0000 - val_accuracy: 0.6776 - val_auc: 0.5986\n",
      "Epoch 53/250\n",
      "10/10 [==============================] - 3s 261ms/step - loss: 0.5944 - tp: 1925.0000 - fn: 547.0000 - accuracy: 0.7824 - auc: 0.8626 - val_loss: 0.7526 - val_tp: 58.0000 - val_fn: 520.0000 - val_accuracy: 0.6800 - val_auc: 0.6010\n",
      "Epoch 54/250\n",
      "10/10 [==============================] - 3s 264ms/step - loss: 0.5928 - tp: 1933.0000 - fn: 539.0000 - accuracy: 0.7854 - auc: 0.8637 - val_loss: 0.7507 - val_tp: 68.0000 - val_fn: 510.0000 - val_accuracy: 0.6824 - val_auc: 0.6033\n",
      "Epoch 55/250\n",
      "10/10 [==============================] - 3s 262ms/step - loss: 0.5923 - tp: 1964.0000 - fn: 508.0000 - accuracy: 0.7899 - auc: 0.8641 - val_loss: 0.7488 - val_tp: 78.0000 - val_fn: 500.0000 - val_accuracy: 0.6794 - val_auc: 0.6067\n",
      "Epoch 56/250\n",
      "10/10 [==============================] - 3s 264ms/step - loss: 0.5908 - tp: 1948.0000 - fn: 524.0000 - accuracy: 0.7891 - auc: 0.8650 - val_loss: 0.7476 - val_tp: 83.0000 - val_fn: 495.0000 - val_accuracy: 0.6776 - val_auc: 0.6096\n",
      "Epoch 57/250\n",
      "10/10 [==============================] - 3s 267ms/step - loss: 0.5914 - tp: 1937.0000 - fn: 535.0000 - accuracy: 0.7862 - auc: 0.8643 - val_loss: 0.7464 - val_tp: 89.0000 - val_fn: 489.0000 - val_accuracy: 0.6788 - val_auc: 0.6120\n",
      "Epoch 58/250\n",
      "10/10 [==============================] - 3s 264ms/step - loss: 0.5910 - tp: 1946.0000 - fn: 526.0000 - accuracy: 0.7891 - auc: 0.8644 - val_loss: 0.7450 - val_tp: 98.0000 - val_fn: 480.0000 - val_accuracy: 0.6794 - val_auc: 0.6148\n",
      "Epoch 59/250\n",
      "10/10 [==============================] - 3s 264ms/step - loss: 0.5912 - tp: 1940.0000 - fn: 532.0000 - accuracy: 0.7874 - auc: 0.8644 - val_loss: 0.7441 - val_tp: 108.0000 - val_fn: 470.0000 - val_accuracy: 0.6812 - val_auc: 0.6175\n",
      "Epoch 60/250\n",
      "10/10 [==============================] - 3s 263ms/step - loss: 0.5894 - tp: 1948.0000 - fn: 524.0000 - accuracy: 0.7893 - auc: 0.8658 - val_loss: 0.7435 - val_tp: 117.0000 - val_fn: 461.0000 - val_accuracy: 0.6806 - val_auc: 0.6199\n",
      "Epoch 61/250\n",
      "10/10 [==============================] - 3s 294ms/step - loss: 0.5901 - tp: 1953.0000 - fn: 519.0000 - accuracy: 0.7878 - auc: 0.8651 - val_loss: 0.7427 - val_tp: 129.0000 - val_fn: 449.0000 - val_accuracy: 0.6818 - val_auc: 0.6236\n",
      "Epoch 62/250\n",
      "10/10 [==============================] - 3s 291ms/step - loss: 0.5900 - tp: 1954.0000 - fn: 518.0000 - accuracy: 0.7871 - auc: 0.8650 - val_loss: 0.7425 - val_tp: 148.0000 - val_fn: 430.0000 - val_accuracy: 0.6835 - val_auc: 0.6262\n",
      "Epoch 63/250\n",
      "10/10 [==============================] - 3s 296ms/step - loss: 0.5896 - tp: 1952.0000 - fn: 520.0000 - accuracy: 0.7869 - auc: 0.8656 - val_loss: 0.7428 - val_tp: 162.0000 - val_fn: 416.0000 - val_accuracy: 0.6829 - val_auc: 0.6290\n",
      "Epoch 64/250\n",
      "10/10 [==============================] - 3s 292ms/step - loss: 0.5905 - tp: 1943.0000 - fn: 529.0000 - accuracy: 0.7896 - auc: 0.8647 - val_loss: 0.7434 - val_tp: 171.0000 - val_fn: 407.0000 - val_accuracy: 0.6800 - val_auc: 0.6312\n",
      "Epoch 65/250\n",
      "10/10 [==============================] - 4s 362ms/step - loss: 0.5906 - tp: 1953.0000 - fn: 519.0000 - accuracy: 0.7882 - auc: 0.8646 - val_loss: 0.7443 - val_tp: 180.0000 - val_fn: 398.0000 - val_accuracy: 0.6788 - val_auc: 0.6330\n",
      "Epoch 66/250\n",
      "10/10 [==============================] - 3s 300ms/step - loss: 0.5885 - tp: 1945.0000 - fn: 527.0000 - accuracy: 0.7900 - auc: 0.8661 - val_loss: 0.7456 - val_tp: 188.0000 - val_fn: 390.0000 - val_accuracy: 0.6735 - val_auc: 0.6357\n",
      "Epoch 67/250\n",
      "10/10 [==============================] - 3s 294ms/step - loss: 0.5888 - tp: 1950.0000 - fn: 522.0000 - accuracy: 0.7903 - auc: 0.8659 - val_loss: 0.7472 - val_tp: 192.0000 - val_fn: 386.0000 - val_accuracy: 0.6682 - val_auc: 0.6375\n",
      "Epoch 68/250\n",
      "10/10 [==============================] - 3s 292ms/step - loss: 0.5898 - tp: 1946.0000 - fn: 526.0000 - accuracy: 0.7879 - auc: 0.8649 - val_loss: 0.7490 - val_tp: 199.0000 - val_fn: 379.0000 - val_accuracy: 0.6688 - val_auc: 0.6390\n",
      "Epoch 69/250\n",
      "10/10 [==============================] - 3s 290ms/step - loss: 0.5883 - tp: 1945.0000 - fn: 527.0000 - accuracy: 0.7888 - auc: 0.8661 - val_loss: 0.7513 - val_tp: 207.0000 - val_fn: 371.0000 - val_accuracy: 0.6665 - val_auc: 0.6403\n",
      "Epoch 70/250\n",
      "10/10 [==============================] - 3s 293ms/step - loss: 0.5893 - tp: 1944.0000 - fn: 528.0000 - accuracy: 0.7885 - auc: 0.8654 - val_loss: 0.7538 - val_tp: 211.0000 - val_fn: 367.0000 - val_accuracy: 0.6629 - val_auc: 0.6421\n",
      "Epoch 71/250\n",
      "10/10 [==============================] - 3s 302ms/step - loss: 0.5889 - tp: 1941.0000 - fn: 531.0000 - accuracy: 0.7891 - auc: 0.8658 - val_loss: 0.7565 - val_tp: 218.0000 - val_fn: 360.0000 - val_accuracy: 0.6629 - val_auc: 0.6431\n",
      "Epoch 72/250\n",
      "10/10 [==============================] - 3s 296ms/step - loss: 0.5893 - tp: 1942.0000 - fn: 530.0000 - accuracy: 0.7865 - auc: 0.8655 - val_loss: 0.7597 - val_tp: 228.0000 - val_fn: 350.0000 - val_accuracy: 0.6571 - val_auc: 0.6442\n",
      "Epoch 73/250\n",
      "10/10 [==============================] - 3s 298ms/step - loss: 0.5884 - tp: 1950.0000 - fn: 522.0000 - accuracy: 0.7885 - auc: 0.8660 - val_loss: 0.7628 - val_tp: 234.0000 - val_fn: 344.0000 - val_accuracy: 0.6553 - val_auc: 0.6449\n",
      "Epoch 74/250\n",
      "10/10 [==============================] - 3s 294ms/step - loss: 0.5891 - tp: 1962.0000 - fn: 510.0000 - accuracy: 0.7904 - auc: 0.8653 - val_loss: 0.7660 - val_tp: 238.0000 - val_fn: 340.0000 - val_accuracy: 0.6541 - val_auc: 0.6458\n",
      "Epoch 75/250\n",
      "10/10 [==============================] - 3s 294ms/step - loss: 0.5881 - tp: 1949.0000 - fn: 523.0000 - accuracy: 0.7882 - auc: 0.8662 - val_loss: 0.7693 - val_tp: 248.0000 - val_fn: 330.0000 - val_accuracy: 0.6512 - val_auc: 0.6462\n",
      "Epoch 76/250\n",
      "10/10 [==============================] - 3s 295ms/step - loss: 0.5880 - tp: 1949.0000 - fn: 523.0000 - accuracy: 0.7874 - auc: 0.8662 - val_loss: 0.7726 - val_tp: 251.0000 - val_fn: 327.0000 - val_accuracy: 0.6465 - val_auc: 0.6470\n",
      "Epoch 77/250\n",
      "10/10 [==============================] - 3s 297ms/step - loss: 0.5879 - tp: 1945.0000 - fn: 527.0000 - accuracy: 0.7885 - auc: 0.8661 - val_loss: 0.7759 - val_tp: 257.0000 - val_fn: 321.0000 - val_accuracy: 0.6429 - val_auc: 0.6479\n",
      "Epoch 78/250\n",
      "10/10 [==============================] - 3s 301ms/step - loss: 0.5894 - tp: 1940.0000 - fn: 532.0000 - accuracy: 0.7881 - auc: 0.8649 - val_loss: 0.7792 - val_tp: 261.0000 - val_fn: 317.0000 - val_accuracy: 0.6429 - val_auc: 0.6483\n",
      "Epoch 79/250\n",
      "10/10 [==============================] - 3s 302ms/step - loss: 0.5870 - tp: 1957.0000 - fn: 515.0000 - accuracy: 0.7903 - auc: 0.8669 - val_loss: 0.7824 - val_tp: 265.0000 - val_fn: 313.0000 - val_accuracy: 0.6418 - val_auc: 0.6485\n",
      "Epoch 80/250\n",
      "10/10 [==============================] - 3s 313ms/step - loss: 0.5887 - tp: 1944.0000 - fn: 528.0000 - accuracy: 0.7869 - auc: 0.8658 - val_loss: 0.7855 - val_tp: 268.0000 - val_fn: 310.0000 - val_accuracy: 0.6376 - val_auc: 0.6491\n",
      "Epoch 81/250\n",
      "10/10 [==============================] - 3s 302ms/step - loss: 0.5860 - tp: 1962.0000 - fn: 510.0000 - accuracy: 0.7912 - auc: 0.8675 - val_loss: 0.7885 - val_tp: 270.0000 - val_fn: 308.0000 - val_accuracy: 0.6359 - val_auc: 0.6495\n",
      "Epoch 82/250\n",
      "10/10 [==============================] - 3s 304ms/step - loss: 0.5899 - tp: 1948.0000 - fn: 524.0000 - accuracy: 0.7874 - auc: 0.8649 - val_loss: 0.7913 - val_tp: 270.0000 - val_fn: 308.0000 - val_accuracy: 0.6347 - val_auc: 0.6499\n",
      "Epoch 83/250\n",
      "10/10 [==============================] - 3s 265ms/step - loss: 0.5890 - tp: 1947.0000 - fn: 525.0000 - accuracy: 0.7871 - auc: 0.8653 - val_loss: 0.7943 - val_tp: 274.0000 - val_fn: 304.0000 - val_accuracy: 0.6335 - val_auc: 0.6499\n",
      "Epoch 84/250\n",
      "10/10 [==============================] - 3s 301ms/step - loss: 0.5886 - tp: 1944.0000 - fn: 528.0000 - accuracy: 0.7862 - auc: 0.8657 - val_loss: 0.7971 - val_tp: 278.0000 - val_fn: 300.0000 - val_accuracy: 0.6347 - val_auc: 0.6499\n",
      "Epoch 85/250\n",
      "10/10 [==============================] - 3s 294ms/step - loss: 0.5884 - tp: 1950.0000 - fn: 522.0000 - accuracy: 0.7874 - auc: 0.8658 - val_loss: 0.7996 - val_tp: 282.0000 - val_fn: 296.0000 - val_accuracy: 0.6353 - val_auc: 0.6502\n",
      "Epoch 86/250\n",
      "10/10 [==============================] - 3s 295ms/step - loss: 0.5877 - tp: 1954.0000 - fn: 518.0000 - accuracy: 0.7894 - auc: 0.8663 - val_loss: 0.8019 - val_tp: 287.0000 - val_fn: 291.0000 - val_accuracy: 0.6347 - val_auc: 0.6504\n",
      "Epoch 87/250\n",
      "10/10 [==============================] - 3s 294ms/step - loss: 0.5872 - tp: 1952.0000 - fn: 520.0000 - accuracy: 0.7896 - auc: 0.8667 - val_loss: 0.8042 - val_tp: 288.0000 - val_fn: 290.0000 - val_accuracy: 0.6324 - val_auc: 0.6505\n",
      "Epoch 88/250\n",
      "10/10 [==============================] - 3s 296ms/step - loss: 0.5875 - tp: 1943.0000 - fn: 529.0000 - accuracy: 0.7879 - auc: 0.8666 - val_loss: 0.8063 - val_tp: 289.0000 - val_fn: 289.0000 - val_accuracy: 0.6282 - val_auc: 0.6509\n",
      "Epoch 89/250\n",
      "10/10 [==============================] - 3s 265ms/step - loss: 0.5878 - tp: 1956.0000 - fn: 516.0000 - accuracy: 0.7901 - auc: 0.8662 - val_loss: 0.8083 - val_tp: 292.0000 - val_fn: 286.0000 - val_accuracy: 0.6282 - val_auc: 0.6508\n",
      "Epoch 90/250\n",
      "10/10 [==============================] - 3s 266ms/step - loss: 0.5879 - tp: 1945.0000 - fn: 527.0000 - accuracy: 0.7888 - auc: 0.8661 - val_loss: 0.8101 - val_tp: 294.0000 - val_fn: 284.0000 - val_accuracy: 0.6276 - val_auc: 0.6508\n",
      "Epoch 91/250\n",
      "10/10 [==============================] - 3s 295ms/step - loss: 0.5878 - tp: 1954.0000 - fn: 518.0000 - accuracy: 0.7906 - auc: 0.8662 - val_loss: 0.8119 - val_tp: 295.0000 - val_fn: 283.0000 - val_accuracy: 0.6259 - val_auc: 0.6510\n",
      "Epoch 92/250\n",
      "10/10 [==============================] - 3s 294ms/step - loss: 0.5873 - tp: 1959.0000 - fn: 513.0000 - accuracy: 0.7901 - auc: 0.8665 - val_loss: 0.8135 - val_tp: 295.0000 - val_fn: 283.0000 - val_accuracy: 0.6259 - val_auc: 0.6511\n",
      "Epoch 93/250\n",
      "10/10 [==============================] - 3s 293ms/step - loss: 0.5866 - tp: 1965.0000 - fn: 507.0000 - accuracy: 0.7903 - auc: 0.8673 - val_loss: 0.8150 - val_tp: 295.0000 - val_fn: 283.0000 - val_accuracy: 0.6241 - val_auc: 0.6511\n",
      "Epoch 94/250\n",
      "10/10 [==============================] - 3s 298ms/step - loss: 0.5875 - tp: 1941.0000 - fn: 531.0000 - accuracy: 0.7900 - auc: 0.8666 - val_loss: 0.8163 - val_tp: 296.0000 - val_fn: 282.0000 - val_accuracy: 0.6241 - val_auc: 0.6512\n",
      "Epoch 95/250\n",
      "10/10 [==============================] - 3s 294ms/step - loss: 0.5882 - tp: 1950.0000 - fn: 522.0000 - accuracy: 0.7891 - auc: 0.8659 - val_loss: 0.8176 - val_tp: 296.0000 - val_fn: 282.0000 - val_accuracy: 0.6229 - val_auc: 0.6514\n",
      "Epoch 96/250\n",
      "10/10 [==============================] - 3s 329ms/step - loss: 0.5864 - tp: 1957.0000 - fn: 515.0000 - accuracy: 0.7903 - auc: 0.8673 - val_loss: 0.8187 - val_tp: 297.0000 - val_fn: 281.0000 - val_accuracy: 0.6224 - val_auc: 0.6511\n",
      "Epoch 97/250\n",
      "10/10 [==============================] - 3s 269ms/step - loss: 0.5875 - tp: 1957.0000 - fn: 515.0000 - accuracy: 0.7885 - auc: 0.8664 - val_loss: 0.8198 - val_tp: 298.0000 - val_fn: 280.0000 - val_accuracy: 0.6224 - val_auc: 0.6514\n",
      "Epoch 98/250\n",
      "10/10 [==============================] - 3s 267ms/step - loss: 0.5865 - tp: 1940.0000 - fn: 532.0000 - accuracy: 0.7871 - auc: 0.8672 - val_loss: 0.8208 - val_tp: 298.0000 - val_fn: 280.0000 - val_accuracy: 0.6218 - val_auc: 0.6512\n",
      "Epoch 99/250\n",
      "10/10 [==============================] - 3s 262ms/step - loss: 0.5879 - tp: 1946.0000 - fn: 526.0000 - accuracy: 0.7878 - auc: 0.8661 - val_loss: 0.8218 - val_tp: 300.0000 - val_fn: 278.0000 - val_accuracy: 0.6224 - val_auc: 0.6510\n",
      "Epoch 100/250\n",
      "10/10 [==============================] - 3s 265ms/step - loss: 0.5878 - tp: 1952.0000 - fn: 520.0000 - accuracy: 0.7893 - auc: 0.8663 - val_loss: 0.8225 - val_tp: 301.0000 - val_fn: 277.0000 - val_accuracy: 0.6218 - val_auc: 0.6510\n",
      "Epoch 101/250\n",
      "10/10 [==============================] - 3s 263ms/step - loss: 0.5865 - tp: 1941.0000 - fn: 531.0000 - accuracy: 0.7881 - auc: 0.8671 - val_loss: 0.8233 - val_tp: 301.0000 - val_fn: 277.0000 - val_accuracy: 0.6212 - val_auc: 0.6510\n",
      "Epoch 102/250\n",
      "10/10 [==============================] - 3s 263ms/step - loss: 0.5879 - tp: 1961.0000 - fn: 511.0000 - accuracy: 0.7903 - auc: 0.8662 - val_loss: 0.8240 - val_tp: 302.0000 - val_fn: 276.0000 - val_accuracy: 0.6218 - val_auc: 0.6511\n",
      "Epoch 103/250\n",
      "10/10 [==============================] - 3s 264ms/step - loss: 0.5886 - tp: 1956.0000 - fn: 516.0000 - accuracy: 0.7894 - auc: 0.8657 - val_loss: 0.8247 - val_tp: 303.0000 - val_fn: 275.0000 - val_accuracy: 0.6224 - val_auc: 0.6510\n",
      "Epoch 104/250\n",
      "10/10 [==============================] - 3s 261ms/step - loss: 0.5879 - tp: 1956.0000 - fn: 516.0000 - accuracy: 0.7897 - auc: 0.8662 - val_loss: 0.8251 - val_tp: 303.0000 - val_fn: 275.0000 - val_accuracy: 0.6218 - val_auc: 0.6511\n",
      "Epoch 105/250\n",
      "10/10 [==============================] - 3s 261ms/step - loss: 0.5868 - tp: 1956.0000 - fn: 516.0000 - accuracy: 0.7897 - auc: 0.8667 - val_loss: 0.8256 - val_tp: 302.0000 - val_fn: 276.0000 - val_accuracy: 0.6212 - val_auc: 0.6511\n",
      "Epoch 106/250\n",
      "10/10 [==============================] - 3s 261ms/step - loss: 0.5866 - tp: 1949.0000 - fn: 523.0000 - accuracy: 0.7909 - auc: 0.8671 - val_loss: 0.8261 - val_tp: 303.0000 - val_fn: 275.0000 - val_accuracy: 0.6212 - val_auc: 0.6512\n",
      "Epoch 107/250\n",
      "10/10 [==============================] - 3s 263ms/step - loss: 0.5881 - tp: 1944.0000 - fn: 528.0000 - accuracy: 0.7879 - auc: 0.8661 - val_loss: 0.8266 - val_tp: 304.0000 - val_fn: 274.0000 - val_accuracy: 0.6212 - val_auc: 0.6512\n",
      "Epoch 108/250\n",
      "10/10 [==============================] - 3s 264ms/step - loss: 0.5871 - tp: 1955.0000 - fn: 517.0000 - accuracy: 0.7904 - auc: 0.8667 - val_loss: 0.8268 - val_tp: 304.0000 - val_fn: 274.0000 - val_accuracy: 0.6218 - val_auc: 0.6512\n",
      "Epoch 109/250\n",
      "10/10 [==============================] - 3s 264ms/step - loss: 0.5883 - tp: 1951.0000 - fn: 521.0000 - accuracy: 0.7879 - auc: 0.8661 - val_loss: 0.8272 - val_tp: 306.0000 - val_fn: 272.0000 - val_accuracy: 0.6229 - val_auc: 0.6513\n",
      "Epoch 110/250\n",
      "10/10 [==============================] - 3s 293ms/step - loss: 0.5875 - tp: 1956.0000 - fn: 516.0000 - accuracy: 0.7881 - auc: 0.8664 - val_loss: 0.8274 - val_tp: 306.0000 - val_fn: 272.0000 - val_accuracy: 0.6229 - val_auc: 0.6514\n",
      "Epoch 111/250\n",
      "10/10 [==============================] - 3s 292ms/step - loss: 0.5869 - tp: 1954.0000 - fn: 518.0000 - accuracy: 0.7915 - auc: 0.8668 - val_loss: 0.8277 - val_tp: 306.0000 - val_fn: 272.0000 - val_accuracy: 0.6229 - val_auc: 0.6515\n",
      "Epoch 112/250\n",
      "10/10 [==============================] - 3s 292ms/step - loss: 0.5870 - tp: 1952.0000 - fn: 520.0000 - accuracy: 0.7910 - auc: 0.8669 - val_loss: 0.8279 - val_tp: 306.0000 - val_fn: 272.0000 - val_accuracy: 0.6212 - val_auc: 0.6516\n",
      "Epoch 113/250\n",
      "10/10 [==============================] - 3s 263ms/step - loss: 0.5876 - tp: 1958.0000 - fn: 514.0000 - accuracy: 0.7907 - auc: 0.8664 - val_loss: 0.8281 - val_tp: 306.0000 - val_fn: 272.0000 - val_accuracy: 0.6212 - val_auc: 0.6515\n",
      "Epoch 114/250\n",
      "10/10 [==============================] - 3s 263ms/step - loss: 0.5873 - tp: 1955.0000 - fn: 517.0000 - accuracy: 0.7878 - auc: 0.8667 - val_loss: 0.8284 - val_tp: 306.0000 - val_fn: 272.0000 - val_accuracy: 0.6218 - val_auc: 0.6515\n",
      "Epoch 115/250\n",
      "10/10 [==============================] - 3s 292ms/step - loss: 0.5872 - tp: 1953.0000 - fn: 519.0000 - accuracy: 0.7900 - auc: 0.8667 - val_loss: 0.8286 - val_tp: 307.0000 - val_fn: 271.0000 - val_accuracy: 0.6212 - val_auc: 0.6517\n",
      "Epoch 116/250\n",
      "10/10 [==============================] - 3s 262ms/step - loss: 0.5875 - tp: 1959.0000 - fn: 513.0000 - accuracy: 0.7897 - auc: 0.8664 - val_loss: 0.8287 - val_tp: 307.0000 - val_fn: 271.0000 - val_accuracy: 0.6212 - val_auc: 0.6516\n",
      "Epoch 117/250\n",
      "10/10 [==============================] - 3s 263ms/step - loss: 0.5882 - tp: 1953.0000 - fn: 519.0000 - accuracy: 0.7885 - auc: 0.8660 - val_loss: 0.8289 - val_tp: 307.0000 - val_fn: 271.0000 - val_accuracy: 0.6212 - val_auc: 0.6515\n",
      "Epoch 118/250\n",
      "10/10 [==============================] - 3s 258ms/step - loss: 0.5878 - tp: 1953.0000 - fn: 519.0000 - accuracy: 0.7885 - auc: 0.8661 - val_loss: 0.8290 - val_tp: 307.0000 - val_fn: 271.0000 - val_accuracy: 0.6206 - val_auc: 0.6515\n",
      "Epoch 119/250\n",
      "10/10 [==============================] - 3s 263ms/step - loss: 0.5867 - tp: 1957.0000 - fn: 515.0000 - accuracy: 0.7900 - auc: 0.8669 - val_loss: 0.8292 - val_tp: 308.0000 - val_fn: 270.0000 - val_accuracy: 0.6212 - val_auc: 0.6515\n",
      "Epoch 120/250\n",
      "10/10 [==============================] - 3s 264ms/step - loss: 0.5886 - tp: 1955.0000 - fn: 517.0000 - accuracy: 0.7912 - auc: 0.8657 - val_loss: 0.8292 - val_tp: 308.0000 - val_fn: 270.0000 - val_accuracy: 0.6218 - val_auc: 0.6515\n",
      "Epoch 121/250\n",
      "10/10 [==============================] - 3s 266ms/step - loss: 0.5867 - tp: 1957.0000 - fn: 515.0000 - accuracy: 0.7906 - auc: 0.8672 - val_loss: 0.8293 - val_tp: 307.0000 - val_fn: 271.0000 - val_accuracy: 0.6200 - val_auc: 0.6516\n",
      "Epoch 122/250\n",
      "10/10 [==============================] - 3s 267ms/step - loss: 0.5862 - tp: 1959.0000 - fn: 513.0000 - accuracy: 0.7900 - auc: 0.8673 - val_loss: 0.8294 - val_tp: 307.0000 - val_fn: 271.0000 - val_accuracy: 0.6200 - val_auc: 0.6514\n",
      "Epoch 123/250\n",
      "10/10 [==============================] - 3s 266ms/step - loss: 0.5868 - tp: 1955.0000 - fn: 517.0000 - accuracy: 0.7896 - auc: 0.8670 - val_loss: 0.8295 - val_tp: 307.0000 - val_fn: 271.0000 - val_accuracy: 0.6206 - val_auc: 0.6515\n",
      "Epoch 124/250\n",
      "10/10 [==============================] - 3s 264ms/step - loss: 0.5868 - tp: 1952.0000 - fn: 520.0000 - accuracy: 0.7913 - auc: 0.8671 - val_loss: 0.8295 - val_tp: 307.0000 - val_fn: 271.0000 - val_accuracy: 0.6212 - val_auc: 0.6516\n",
      "Epoch 125/250\n",
      "10/10 [==============================] - 3s 264ms/step - loss: 0.5879 - tp: 1955.0000 - fn: 517.0000 - accuracy: 0.7893 - auc: 0.8661 - val_loss: 0.8297 - val_tp: 307.0000 - val_fn: 271.0000 - val_accuracy: 0.6206 - val_auc: 0.6515\n",
      "Epoch 126/250\n",
      "10/10 [==============================] - 3s 263ms/step - loss: 0.5883 - tp: 1954.0000 - fn: 518.0000 - accuracy: 0.7903 - auc: 0.8659 - val_loss: 0.8297 - val_tp: 307.0000 - val_fn: 271.0000 - val_accuracy: 0.6206 - val_auc: 0.6515\n",
      "Epoch 127/250\n",
      "10/10 [==============================] - 3s 325ms/step - loss: 0.5877 - tp: 1955.0000 - fn: 517.0000 - accuracy: 0.7882 - auc: 0.8665 - val_loss: 0.8298 - val_tp: 308.0000 - val_fn: 270.0000 - val_accuracy: 0.6212 - val_auc: 0.6515\n",
      "Epoch 128/250\n",
      "10/10 [==============================] - 3s 261ms/step - loss: 0.5870 - tp: 1947.0000 - fn: 525.0000 - accuracy: 0.7890 - auc: 0.8667 - val_loss: 0.8299 - val_tp: 308.0000 - val_fn: 270.0000 - val_accuracy: 0.6212 - val_auc: 0.6514\n",
      "Epoch 129/250\n",
      "10/10 [==============================] - 3s 266ms/step - loss: 0.5894 - tp: 1960.0000 - fn: 512.0000 - accuracy: 0.7897 - auc: 0.8654 - val_loss: 0.8298 - val_tp: 308.0000 - val_fn: 270.0000 - val_accuracy: 0.6218 - val_auc: 0.6515\n",
      "Epoch 130/250\n",
      "10/10 [==============================] - 3s 264ms/step - loss: 0.5880 - tp: 1952.0000 - fn: 520.0000 - accuracy: 0.7859 - auc: 0.8662 - val_loss: 0.8300 - val_tp: 308.0000 - val_fn: 270.0000 - val_accuracy: 0.6212 - val_auc: 0.6513\n",
      "Epoch 131/250\n",
      "10/10 [==============================] - 3s 261ms/step - loss: 0.5880 - tp: 1952.0000 - fn: 520.0000 - accuracy: 0.7903 - auc: 0.8660 - val_loss: 0.8300 - val_tp: 309.0000 - val_fn: 269.0000 - val_accuracy: 0.6218 - val_auc: 0.6515\n",
      "Epoch 132/250\n",
      "10/10 [==============================] - 3s 266ms/step - loss: 0.5863 - tp: 1947.0000 - fn: 525.0000 - accuracy: 0.7903 - auc: 0.8673 - val_loss: 0.8301 - val_tp: 307.0000 - val_fn: 271.0000 - val_accuracy: 0.6200 - val_auc: 0.6513\n",
      "Epoch 133/250\n",
      "10/10 [==============================] - 3s 267ms/step - loss: 0.5888 - tp: 1946.0000 - fn: 526.0000 - accuracy: 0.7857 - auc: 0.8656 - val_loss: 0.8301 - val_tp: 309.0000 - val_fn: 269.0000 - val_accuracy: 0.6212 - val_auc: 0.6515\n",
      "Epoch 134/250\n",
      "10/10 [==============================] - 3s 266ms/step - loss: 0.5894 - tp: 1941.0000 - fn: 531.0000 - accuracy: 0.7863 - auc: 0.8652 - val_loss: 0.8301 - val_tp: 309.0000 - val_fn: 269.0000 - val_accuracy: 0.6212 - val_auc: 0.6515\n",
      "Epoch 135/250\n",
      "10/10 [==============================] - 3s 269ms/step - loss: 0.5868 - tp: 1947.0000 - fn: 525.0000 - accuracy: 0.7888 - auc: 0.8671 - val_loss: 0.8301 - val_tp: 308.0000 - val_fn: 270.0000 - val_accuracy: 0.6212 - val_auc: 0.6515\n",
      "Epoch 136/250\n",
      "10/10 [==============================] - 3s 262ms/step - loss: 0.5884 - tp: 1947.0000 - fn: 525.0000 - accuracy: 0.7885 - auc: 0.8658 - val_loss: 0.8301 - val_tp: 308.0000 - val_fn: 270.0000 - val_accuracy: 0.6212 - val_auc: 0.6515\n",
      "Epoch 137/250\n",
      "10/10 [==============================] - 3s 264ms/step - loss: 0.5880 - tp: 1946.0000 - fn: 526.0000 - accuracy: 0.7868 - auc: 0.8659 - val_loss: 0.8301 - val_tp: 308.0000 - val_fn: 270.0000 - val_accuracy: 0.6212 - val_auc: 0.6517\n",
      "Epoch 138/250\n",
      "10/10 [==============================] - 3s 260ms/step - loss: 0.5873 - tp: 1963.0000 - fn: 509.0000 - accuracy: 0.7918 - auc: 0.8664 - val_loss: 0.8301 - val_tp: 308.0000 - val_fn: 270.0000 - val_accuracy: 0.6212 - val_auc: 0.6516\n",
      "Epoch 139/250\n",
      "10/10 [==============================] - 3s 263ms/step - loss: 0.5881 - tp: 1959.0000 - fn: 513.0000 - accuracy: 0.7909 - auc: 0.8657 - val_loss: 0.8302 - val_tp: 308.0000 - val_fn: 270.0000 - val_accuracy: 0.6212 - val_auc: 0.6516\n",
      "Epoch 140/250\n",
      "10/10 [==============================] - 3s 262ms/step - loss: 0.5885 - tp: 1940.0000 - fn: 532.0000 - accuracy: 0.7868 - auc: 0.8658 - val_loss: 0.8302 - val_tp: 308.0000 - val_fn: 270.0000 - val_accuracy: 0.6212 - val_auc: 0.6516\n",
      "Epoch 141/250\n",
      "10/10 [==============================] - 3s 264ms/step - loss: 0.5880 - tp: 1944.0000 - fn: 528.0000 - accuracy: 0.7859 - auc: 0.8662 - val_loss: 0.8302 - val_tp: 308.0000 - val_fn: 270.0000 - val_accuracy: 0.6212 - val_auc: 0.6515\n",
      "Epoch 142/250\n",
      "10/10 [==============================] - 3s 262ms/step - loss: 0.5882 - tp: 1949.0000 - fn: 523.0000 - accuracy: 0.7888 - auc: 0.8658 - val_loss: 0.8302 - val_tp: 308.0000 - val_fn: 270.0000 - val_accuracy: 0.6212 - val_auc: 0.6515\n",
      "Epoch 143/250\n",
      "10/10 [==============================] - 3s 269ms/step - loss: 0.5882 - tp: 1950.0000 - fn: 522.0000 - accuracy: 0.7878 - auc: 0.8657 - val_loss: 0.8302 - val_tp: 308.0000 - val_fn: 270.0000 - val_accuracy: 0.6206 - val_auc: 0.6515\n",
      "Epoch 144/250\n",
      "10/10 [==============================] - 3s 295ms/step - loss: 0.5875 - tp: 1950.0000 - fn: 522.0000 - accuracy: 0.7893 - auc: 0.8667 - val_loss: 0.8302 - val_tp: 308.0000 - val_fn: 270.0000 - val_accuracy: 0.6206 - val_auc: 0.6517\n",
      "Epoch 145/250\n",
      "10/10 [==============================] - 3s 268ms/step - loss: 0.5866 - tp: 1958.0000 - fn: 514.0000 - accuracy: 0.7922 - auc: 0.8673 - val_loss: 0.8302 - val_tp: 309.0000 - val_fn: 269.0000 - val_accuracy: 0.6212 - val_auc: 0.6516\n",
      "Epoch 146/250\n",
      "10/10 [==============================] - 3s 263ms/step - loss: 0.5888 - tp: 1946.0000 - fn: 526.0000 - accuracy: 0.7893 - auc: 0.8656 - val_loss: 0.8302 - val_tp: 308.0000 - val_fn: 270.0000 - val_accuracy: 0.6206 - val_auc: 0.6514\n",
      "Epoch 147/250\n",
      "10/10 [==============================] - 3s 266ms/step - loss: 0.5888 - tp: 1951.0000 - fn: 521.0000 - accuracy: 0.7897 - auc: 0.8655 - val_loss: 0.8302 - val_tp: 308.0000 - val_fn: 270.0000 - val_accuracy: 0.6200 - val_auc: 0.6515\n",
      "Epoch 148/250\n",
      "10/10 [==============================] - 3s 266ms/step - loss: 0.5876 - tp: 1951.0000 - fn: 521.0000 - accuracy: 0.7881 - auc: 0.8665 - val_loss: 0.8302 - val_tp: 309.0000 - val_fn: 269.0000 - val_accuracy: 0.6212 - val_auc: 0.6514\n",
      "Epoch 149/250\n",
      "10/10 [==============================] - 3s 265ms/step - loss: 0.5874 - tp: 1955.0000 - fn: 517.0000 - accuracy: 0.7893 - auc: 0.8666 - val_loss: 0.8302 - val_tp: 309.0000 - val_fn: 269.0000 - val_accuracy: 0.6212 - val_auc: 0.6516\n",
      "Epoch 150/250\n",
      "10/10 [==============================] - 3s 265ms/step - loss: 0.5875 - tp: 1955.0000 - fn: 517.0000 - accuracy: 0.7916 - auc: 0.8664 - val_loss: 0.8303 - val_tp: 308.0000 - val_fn: 270.0000 - val_accuracy: 0.6212 - val_auc: 0.6516\n",
      "Epoch 151/250\n",
      "10/10 [==============================] - 3s 262ms/step - loss: 0.5883 - tp: 1953.0000 - fn: 519.0000 - accuracy: 0.7915 - auc: 0.8657 - val_loss: 0.8303 - val_tp: 308.0000 - val_fn: 270.0000 - val_accuracy: 0.6212 - val_auc: 0.6514\n",
      "Epoch 152/250\n",
      "10/10 [==============================] - 3s 262ms/step - loss: 0.5871 - tp: 1950.0000 - fn: 522.0000 - accuracy: 0.7884 - auc: 0.8668 - val_loss: 0.8303 - val_tp: 309.0000 - val_fn: 269.0000 - val_accuracy: 0.6218 - val_auc: 0.6515\n",
      "Epoch 153/250\n",
      "10/10 [==============================] - 3s 262ms/step - loss: 0.5868 - tp: 1949.0000 - fn: 523.0000 - accuracy: 0.7890 - auc: 0.8670 - val_loss: 0.8303 - val_tp: 309.0000 - val_fn: 269.0000 - val_accuracy: 0.6218 - val_auc: 0.6516\n",
      "Epoch 154/250\n",
      "10/10 [==============================] - 3s 263ms/step - loss: 0.5869 - tp: 1955.0000 - fn: 517.0000 - accuracy: 0.7916 - auc: 0.8669 - val_loss: 0.8302 - val_tp: 308.0000 - val_fn: 270.0000 - val_accuracy: 0.6206 - val_auc: 0.6515\n",
      "Epoch 155/250\n",
      "10/10 [==============================] - 3s 295ms/step - loss: 0.5883 - tp: 1961.0000 - fn: 511.0000 - accuracy: 0.7897 - auc: 0.8658 - val_loss: 0.8302 - val_tp: 308.0000 - val_fn: 270.0000 - val_accuracy: 0.6206 - val_auc: 0.6517\n",
      "Epoch 156/250\n",
      "10/10 [==============================] - 3s 292ms/step - loss: 0.5876 - tp: 1961.0000 - fn: 511.0000 - accuracy: 0.7918 - auc: 0.8665 - val_loss: 0.8301 - val_tp: 309.0000 - val_fn: 269.0000 - val_accuracy: 0.6212 - val_auc: 0.6518\n",
      "Epoch 157/250\n",
      "10/10 [==============================] - 3s 265ms/step - loss: 0.5872 - tp: 1951.0000 - fn: 521.0000 - accuracy: 0.7910 - auc: 0.8667 - val_loss: 0.8301 - val_tp: 308.0000 - val_fn: 270.0000 - val_accuracy: 0.6206 - val_auc: 0.6518\n",
      "Epoch 158/250\n",
      "10/10 [==============================] - 3s 327ms/step - loss: 0.5878 - tp: 1955.0000 - fn: 517.0000 - accuracy: 0.7925 - auc: 0.8662 - val_loss: 0.8302 - val_tp: 307.0000 - val_fn: 271.0000 - val_accuracy: 0.6206 - val_auc: 0.6516\n",
      "Epoch 159/250\n",
      "10/10 [==============================] - 3s 266ms/step - loss: 0.5882 - tp: 1958.0000 - fn: 514.0000 - accuracy: 0.7904 - auc: 0.8659 - val_loss: 0.8303 - val_tp: 307.0000 - val_fn: 271.0000 - val_accuracy: 0.6194 - val_auc: 0.6514\n",
      "Epoch 160/250\n",
      "10/10 [==============================] - 3s 265ms/step - loss: 0.5867 - tp: 1958.0000 - fn: 514.0000 - accuracy: 0.7919 - auc: 0.8670 - val_loss: 0.8303 - val_tp: 308.0000 - val_fn: 270.0000 - val_accuracy: 0.6206 - val_auc: 0.6516\n",
      "Epoch 161/250\n",
      "10/10 [==============================] - 3s 263ms/step - loss: 0.5880 - tp: 1965.0000 - fn: 507.0000 - accuracy: 0.7907 - auc: 0.8661 - val_loss: 0.8303 - val_tp: 307.0000 - val_fn: 271.0000 - val_accuracy: 0.6194 - val_auc: 0.6515\n",
      "Epoch 162/250\n",
      "10/10 [==============================] - 3s 266ms/step - loss: 0.5882 - tp: 1954.0000 - fn: 518.0000 - accuracy: 0.7900 - auc: 0.8661 - val_loss: 0.8302 - val_tp: 307.0000 - val_fn: 271.0000 - val_accuracy: 0.6200 - val_auc: 0.6517\n",
      "Epoch 163/250\n",
      "10/10 [==============================] - 3s 265ms/step - loss: 0.5879 - tp: 1947.0000 - fn: 525.0000 - accuracy: 0.7904 - auc: 0.8662 - val_loss: 0.8302 - val_tp: 307.0000 - val_fn: 271.0000 - val_accuracy: 0.6206 - val_auc: 0.6517\n",
      "Epoch 164/250\n",
      "10/10 [==============================] - 3s 265ms/step - loss: 0.5881 - tp: 1952.0000 - fn: 520.0000 - accuracy: 0.7888 - auc: 0.8660 - val_loss: 0.8303 - val_tp: 307.0000 - val_fn: 271.0000 - val_accuracy: 0.6200 - val_auc: 0.6517\n",
      "Epoch 165/250\n",
      "10/10 [==============================] - 3s 264ms/step - loss: 0.5877 - tp: 1954.0000 - fn: 518.0000 - accuracy: 0.7900 - auc: 0.8664 - val_loss: 0.8303 - val_tp: 307.0000 - val_fn: 271.0000 - val_accuracy: 0.6200 - val_auc: 0.6516\n",
      "Epoch 166/250\n",
      "10/10 [==============================] - 3s 276ms/step - loss: 0.5884 - tp: 1954.0000 - fn: 518.0000 - accuracy: 0.7900 - auc: 0.8657 - val_loss: 0.8303 - val_tp: 308.0000 - val_fn: 270.0000 - val_accuracy: 0.6206 - val_auc: 0.6515\n",
      "Epoch 167/250\n",
      "10/10 [==============================] - 3s 271ms/step - loss: 0.5872 - tp: 1949.0000 - fn: 523.0000 - accuracy: 0.7888 - auc: 0.8669 - val_loss: 0.8303 - val_tp: 308.0000 - val_fn: 270.0000 - val_accuracy: 0.6206 - val_auc: 0.6515\n",
      "Epoch 168/250\n",
      "10/10 [==============================] - 3s 266ms/step - loss: 0.5877 - tp: 1949.0000 - fn: 523.0000 - accuracy: 0.7901 - auc: 0.8664 - val_loss: 0.8302 - val_tp: 307.0000 - val_fn: 271.0000 - val_accuracy: 0.6200 - val_auc: 0.6516\n",
      "Epoch 169/250\n",
      "10/10 [==============================] - 3s 264ms/step - loss: 0.5876 - tp: 1954.0000 - fn: 518.0000 - accuracy: 0.7897 - auc: 0.8663 - val_loss: 0.8302 - val_tp: 307.0000 - val_fn: 271.0000 - val_accuracy: 0.6206 - val_auc: 0.6517\n",
      "Epoch 170/250\n",
      "10/10 [==============================] - 3s 295ms/step - loss: 0.5870 - tp: 1960.0000 - fn: 512.0000 - accuracy: 0.7918 - auc: 0.8669 - val_loss: 0.8302 - val_tp: 307.0000 - val_fn: 271.0000 - val_accuracy: 0.6206 - val_auc: 0.6517\n",
      "Epoch 171/250\n",
      "10/10 [==============================] - 3s 267ms/step - loss: 0.5875 - tp: 1957.0000 - fn: 515.0000 - accuracy: 0.7901 - auc: 0.8664 - val_loss: 0.8303 - val_tp: 307.0000 - val_fn: 271.0000 - val_accuracy: 0.6206 - val_auc: 0.6518\n",
      "Epoch 172/250\n",
      "10/10 [==============================] - 3s 261ms/step - loss: 0.5872 - tp: 1966.0000 - fn: 506.0000 - accuracy: 0.7926 - auc: 0.8667 - val_loss: 0.8302 - val_tp: 307.0000 - val_fn: 271.0000 - val_accuracy: 0.6206 - val_auc: 0.6517\n",
      "Epoch 173/250\n",
      "10/10 [==============================] - 3s 265ms/step - loss: 0.5878 - tp: 1945.0000 - fn: 527.0000 - accuracy: 0.7894 - auc: 0.8662 - val_loss: 0.8303 - val_tp: 307.0000 - val_fn: 271.0000 - val_accuracy: 0.6206 - val_auc: 0.6517\n",
      "Epoch 174/250\n",
      "10/10 [==============================] - 3s 261ms/step - loss: 0.5871 - tp: 1957.0000 - fn: 515.0000 - accuracy: 0.7907 - auc: 0.8667 - val_loss: 0.8302 - val_tp: 308.0000 - val_fn: 270.0000 - val_accuracy: 0.6212 - val_auc: 0.6515\n",
      "Epoch 175/250\n",
      "10/10 [==============================] - 3s 263ms/step - loss: 0.5876 - tp: 1953.0000 - fn: 519.0000 - accuracy: 0.7878 - auc: 0.8663 - val_loss: 0.8303 - val_tp: 308.0000 - val_fn: 270.0000 - val_accuracy: 0.6212 - val_auc: 0.6515\n",
      "Epoch 176/250\n",
      "10/10 [==============================] - 3s 266ms/step - loss: 0.5868 - tp: 1945.0000 - fn: 527.0000 - accuracy: 0.7871 - auc: 0.8671 - val_loss: 0.8303 - val_tp: 307.0000 - val_fn: 271.0000 - val_accuracy: 0.6206 - val_auc: 0.6515\n",
      "Epoch 177/250\n",
      "10/10 [==============================] - 3s 266ms/step - loss: 0.5874 - tp: 1942.0000 - fn: 530.0000 - accuracy: 0.7875 - auc: 0.8666 - val_loss: 0.8302 - val_tp: 307.0000 - val_fn: 271.0000 - val_accuracy: 0.6206 - val_auc: 0.6517\n",
      "Epoch 178/250\n",
      "10/10 [==============================] - 3s 265ms/step - loss: 0.5867 - tp: 1945.0000 - fn: 527.0000 - accuracy: 0.7915 - auc: 0.8672 - val_loss: 0.8302 - val_tp: 308.0000 - val_fn: 270.0000 - val_accuracy: 0.6206 - val_auc: 0.6517\n",
      "Epoch 179/250\n",
      "10/10 [==============================] - 3s 265ms/step - loss: 0.5871 - tp: 1955.0000 - fn: 517.0000 - accuracy: 0.7887 - auc: 0.8668 - val_loss: 0.8302 - val_tp: 307.0000 - val_fn: 271.0000 - val_accuracy: 0.6206 - val_auc: 0.6516\n",
      "Epoch 180/250\n",
      "10/10 [==============================] - 3s 265ms/step - loss: 0.5882 - tp: 1947.0000 - fn: 525.0000 - accuracy: 0.7912 - auc: 0.8659 - val_loss: 0.8302 - val_tp: 309.0000 - val_fn: 269.0000 - val_accuracy: 0.6212 - val_auc: 0.6518\n",
      "Epoch 181/250\n",
      "10/10 [==============================] - 3s 268ms/step - loss: 0.5864 - tp: 1962.0000 - fn: 510.0000 - accuracy: 0.7893 - auc: 0.8672 - val_loss: 0.8303 - val_tp: 308.0000 - val_fn: 270.0000 - val_accuracy: 0.6212 - val_auc: 0.6516\n",
      "Epoch 182/250\n",
      "10/10 [==============================] - 3s 273ms/step - loss: 0.5883 - tp: 1948.0000 - fn: 524.0000 - accuracy: 0.7878 - auc: 0.8659 - val_loss: 0.8302 - val_tp: 309.0000 - val_fn: 269.0000 - val_accuracy: 0.6212 - val_auc: 0.6516\n",
      "Epoch 183/250\n",
      "10/10 [==============================] - 3s 269ms/step - loss: 0.5872 - tp: 1945.0000 - fn: 527.0000 - accuracy: 0.7871 - auc: 0.8667 - val_loss: 0.8303 - val_tp: 308.0000 - val_fn: 270.0000 - val_accuracy: 0.6212 - val_auc: 0.6516\n",
      "Epoch 184/250\n",
      "10/10 [==============================] - 3s 270ms/step - loss: 0.5888 - tp: 1953.0000 - fn: 519.0000 - accuracy: 0.7897 - auc: 0.8654 - val_loss: 0.8304 - val_tp: 308.0000 - val_fn: 270.0000 - val_accuracy: 0.6212 - val_auc: 0.6515\n",
      "Epoch 185/250\n",
      "10/10 [==============================] - 3s 267ms/step - loss: 0.5881 - tp: 1951.0000 - fn: 521.0000 - accuracy: 0.7909 - auc: 0.8660 - val_loss: 0.8304 - val_tp: 308.0000 - val_fn: 270.0000 - val_accuracy: 0.6212 - val_auc: 0.6514\n",
      "Epoch 186/250\n",
      "10/10 [==============================] - 3s 267ms/step - loss: 0.5868 - tp: 1952.0000 - fn: 520.0000 - accuracy: 0.7919 - auc: 0.8669 - val_loss: 0.8303 - val_tp: 308.0000 - val_fn: 270.0000 - val_accuracy: 0.6212 - val_auc: 0.6514\n",
      "Epoch 187/250\n",
      "10/10 [==============================] - 3s 267ms/step - loss: 0.5870 - tp: 1949.0000 - fn: 523.0000 - accuracy: 0.7907 - auc: 0.8669 - val_loss: 0.8302 - val_tp: 308.0000 - val_fn: 270.0000 - val_accuracy: 0.6206 - val_auc: 0.6516\n",
      "Epoch 188/250\n",
      "10/10 [==============================] - 3s 265ms/step - loss: 0.5870 - tp: 1959.0000 - fn: 513.0000 - accuracy: 0.7926 - auc: 0.8669 - val_loss: 0.8302 - val_tp: 309.0000 - val_fn: 269.0000 - val_accuracy: 0.6212 - val_auc: 0.6515\n",
      "Epoch 189/250\n",
      "10/10 [==============================] - 3s 326ms/step - loss: 0.5876 - tp: 1949.0000 - fn: 523.0000 - accuracy: 0.7881 - auc: 0.8663 - val_loss: 0.8302 - val_tp: 310.0000 - val_fn: 268.0000 - val_accuracy: 0.6218 - val_auc: 0.6517\n",
      "Epoch 190/250\n",
      "10/10 [==============================] - 3s 261ms/step - loss: 0.5873 - tp: 1957.0000 - fn: 515.0000 - accuracy: 0.7931 - auc: 0.8666 - val_loss: 0.8302 - val_tp: 310.0000 - val_fn: 268.0000 - val_accuracy: 0.6218 - val_auc: 0.6518\n",
      "Epoch 191/250\n",
      "10/10 [==============================] - 3s 265ms/step - loss: 0.5873 - tp: 1949.0000 - fn: 523.0000 - accuracy: 0.7912 - auc: 0.8665 - val_loss: 0.8302 - val_tp: 308.0000 - val_fn: 270.0000 - val_accuracy: 0.6206 - val_auc: 0.6517\n",
      "Epoch 192/250\n",
      "10/10 [==============================] - 3s 269ms/step - loss: 0.5871 - tp: 1952.0000 - fn: 520.0000 - accuracy: 0.7893 - auc: 0.8667 - val_loss: 0.8302 - val_tp: 308.0000 - val_fn: 270.0000 - val_accuracy: 0.6212 - val_auc: 0.6518\n",
      "Epoch 193/250\n",
      "10/10 [==============================] - 3s 267ms/step - loss: 0.5876 - tp: 1957.0000 - fn: 515.0000 - accuracy: 0.7909 - auc: 0.8664 - val_loss: 0.8303 - val_tp: 308.0000 - val_fn: 270.0000 - val_accuracy: 0.6212 - val_auc: 0.6515\n",
      "Epoch 194/250\n",
      "10/10 [==============================] - 3s 264ms/step - loss: 0.5868 - tp: 1956.0000 - fn: 516.0000 - accuracy: 0.7922 - auc: 0.8669 - val_loss: 0.8304 - val_tp: 308.0000 - val_fn: 270.0000 - val_accuracy: 0.6212 - val_auc: 0.6515\n",
      "Epoch 195/250\n",
      "10/10 [==============================] - 3s 267ms/step - loss: 0.5888 - tp: 1944.0000 - fn: 528.0000 - accuracy: 0.7887 - auc: 0.8654 - val_loss: 0.8303 - val_tp: 308.0000 - val_fn: 270.0000 - val_accuracy: 0.6212 - val_auc: 0.6516\n",
      "Epoch 196/250\n",
      "10/10 [==============================] - 3s 267ms/step - loss: 0.5881 - tp: 1953.0000 - fn: 519.0000 - accuracy: 0.7894 - auc: 0.8660 - val_loss: 0.8304 - val_tp: 308.0000 - val_fn: 270.0000 - val_accuracy: 0.6212 - val_auc: 0.6515\n",
      "Epoch 197/250\n",
      "10/10 [==============================] - 3s 267ms/step - loss: 0.5881 - tp: 1955.0000 - fn: 517.0000 - accuracy: 0.7904 - auc: 0.8659 - val_loss: 0.8304 - val_tp: 308.0000 - val_fn: 270.0000 - val_accuracy: 0.6212 - val_auc: 0.6516\n",
      "Epoch 198/250\n",
      "10/10 [==============================] - 3s 269ms/step - loss: 0.5875 - tp: 1956.0000 - fn: 516.0000 - accuracy: 0.7890 - auc: 0.8666 - val_loss: 0.8304 - val_tp: 308.0000 - val_fn: 270.0000 - val_accuracy: 0.6212 - val_auc: 0.6515\n",
      "Epoch 199/250\n",
      "10/10 [==============================] - 3s 267ms/step - loss: 0.5866 - tp: 1940.0000 - fn: 532.0000 - accuracy: 0.7876 - auc: 0.8672 - val_loss: 0.8303 - val_tp: 308.0000 - val_fn: 270.0000 - val_accuracy: 0.6212 - val_auc: 0.6516\n",
      "Epoch 200/250\n",
      "10/10 [==============================] - 3s 265ms/step - loss: 0.5869 - tp: 1947.0000 - fn: 525.0000 - accuracy: 0.7888 - auc: 0.8669 - val_loss: 0.8302 - val_tp: 308.0000 - val_fn: 270.0000 - val_accuracy: 0.6212 - val_auc: 0.6517\n",
      "Epoch 201/250\n",
      "10/10 [==============================] - 3s 267ms/step - loss: 0.5884 - tp: 1942.0000 - fn: 530.0000 - accuracy: 0.7860 - auc: 0.8659 - val_loss: 0.8303 - val_tp: 309.0000 - val_fn: 269.0000 - val_accuracy: 0.6218 - val_auc: 0.6517\n",
      "Epoch 202/250\n",
      "10/10 [==============================] - 3s 265ms/step - loss: 0.5873 - tp: 1957.0000 - fn: 515.0000 - accuracy: 0.7910 - auc: 0.8666 - val_loss: 0.8303 - val_tp: 308.0000 - val_fn: 270.0000 - val_accuracy: 0.6212 - val_auc: 0.6516\n",
      "Epoch 203/250\n",
      "10/10 [==============================] - 3s 262ms/step - loss: 0.5868 - tp: 1956.0000 - fn: 516.0000 - accuracy: 0.7897 - auc: 0.8668 - val_loss: 0.8304 - val_tp: 308.0000 - val_fn: 270.0000 - val_accuracy: 0.6212 - val_auc: 0.6516\n",
      "Epoch 204/250\n",
      "10/10 [==============================] - 3s 267ms/step - loss: 0.5890 - tp: 1939.0000 - fn: 533.0000 - accuracy: 0.7878 - auc: 0.8655 - val_loss: 0.8303 - val_tp: 307.0000 - val_fn: 271.0000 - val_accuracy: 0.6206 - val_auc: 0.6517\n",
      "Epoch 205/250\n",
      "10/10 [==============================] - 3s 266ms/step - loss: 0.5879 - tp: 1958.0000 - fn: 514.0000 - accuracy: 0.7915 - auc: 0.8659 - val_loss: 0.8303 - val_tp: 307.0000 - val_fn: 271.0000 - val_accuracy: 0.6206 - val_auc: 0.6517\n",
      "Epoch 206/250\n",
      "10/10 [==============================] - 4s 446ms/step - loss: 0.5875 - tp: 1967.0000 - fn: 505.0000 - accuracy: 0.7907 - auc: 0.8662 - val_loss: 0.8303 - val_tp: 307.0000 - val_fn: 271.0000 - val_accuracy: 0.6206 - val_auc: 0.6518\n"
     ]
    }
   ],
   "source": [
    "#calculate class weights\n",
    "target_0 = 5450 #these values will not change (are from review of test ds)\n",
    "target_1 = 3050\n",
    "total = target_0 + target_1\n",
    "\n",
    "class_weight_0 = (1 / target_0) * (total) / 2.0\n",
    "class_weight_1 = (1 / target_1) * (total) / 2.0\n",
    "\n",
    "class_weights = {0: class_weight_0, 1: class_weight_1}\n",
    "\n",
    "\n",
    "#early stopping if validation auc stops improving\n",
    "early_stopping = tf.keras.callbacks.EarlyStopping(monitor='val_auc', #val_auc\n",
    "                                patience=50,\n",
    "                                mode='max',\n",
    "                                restore_best_weights=True)\n",
    "\n",
    "\n",
    "\n",
    "\n",
    "for train_data, train_groundTruth in train_ds:\n",
    "    for valid_data, valid_groundTruth in valid_ds:\n",
    "        history = model.fit(train_data, \n",
    "                            train_groundTruth, \n",
    "                            steps_per_epoch=10, \n",
    "                            validation_data=(valid_data, valid_groundTruth), \n",
    "                            validation_steps=2,\n",
    "                            callbacks=[early_stopping],\n",
    "                            class_weight=class_weights,\n",
    "                            epochs=250)\n"
   ]
  },
  {
   "cell_type": "code",
   "execution_count": 17,
   "metadata": {
    "colab": {},
    "colab_type": "code",
    "id": "WNQKf2Y08zw2"
   },
   "outputs": [],
   "source": [
    "def plot_metric(metric1, metric2, ylabel):\n",
    "    plt.plot(history.history[metric1], label=metric1)\n",
    "    plt.plot(history.history[metric2], label=metric2)\n",
    "    plt.ylabel(ylabel)\n",
    "    plt.xlabel('epoch')\n",
    "    plt.legend()\n",
    "    plt.show()"
   ]
  },
  {
   "cell_type": "code",
   "execution_count": 18,
   "metadata": {
    "colab": {
     "base_uri": "https://localhost:8080/",
     "height": 803
    },
    "colab_type": "code",
    "id": "_BG-kKjK83qC",
    "outputId": "811f2dff-eac8-444f-c7ad-8710333ee270"
   },
   "outputs": [
    {
     "data": {
      "image/png": "[encoded data removed]",
      "text/plain": [
       "<Figure size 432x288 with 1 Axes>"
      ]
     },
     "metadata": {
      "needs_background": "light",
      "tags": []
     },
     "output_type": "display_data"
    },
    {
     "data": {
      "image/png": "[encoded data removed]",
      "text/plain": [
       "<Figure size 432x288 with 1 Axes>"
      ]
     },
     "metadata": {
      "needs_background": "light",
      "tags": []
     },
     "output_type": "display_data"
    },
    {
     "data": {
      "image/png": "[encoded data removed]",
      "text/plain": [
       "<Figure size 432x288 with 1 Axes>"
      ]
     },
     "metadata": {
      "needs_background": "light",
      "tags": []
     },
     "output_type": "display_data"
    }
   ],
   "source": [
    "plot_metric('auc', 'val_auc', 'auc')\n",
    "plot_metric('loss', 'val_loss', 'loss')\n",
    "plot_metric('accuracy', 'val_accuracy', 'accuracy')"
   ]
  },
  {
   "cell_type": "code",
   "execution_count": 19,
   "metadata": {
    "colab": {
     "base_uri": "https://localhost:8080/",
     "height": 34
    },
    "colab_type": "code",
    "id": "NjL-SsIv-K5O",
    "outputId": "b21e87ec-5cae-4678-f2de-dce3da4bbf5d"
   },
   "outputs": [
    {
     "data": {
      "text/plain": [
       "0.6518272757530212"
      ]
     },
     "execution_count": 19,
     "metadata": {
      "tags": []
     },
     "output_type": "execute_result"
    }
   ],
   "source": [
    "max(history.history['val_auc']) #300 - 0.6647 #250 - 0.6612 #200 - 0.569 #350 - 0.638"
   ]
  },
  {
   "cell_type": "code",
   "execution_count": 20,
   "metadata": {
    "colab": {},
    "colab_type": "code",
    "id": "bE6q1VFf-ME7"
   },
   "outputs": [],
   "source": [
    "model_name = 'model_hateful_memes_v{}.h5'.format(params['version'])\n",
    "model.save(model_name)\n",
    "bucket = client.bucket('jh_hateful_memes')\n",
    "blob = bucket.blob(model_name)\n",
    "blob.upload_from_filename(model_name)#fix this"
   ]
  },
  {
   "cell_type": "code",
   "execution_count": 21,
   "metadata": {
    "colab": {
     "base_uri": "https://localhost:8080/",
     "height": 54
    },
    "colab_type": "code",
    "id": "Dh9c21R6lEZc",
    "outputId": "65c3f234-98f2-488d-da22-c70028e1ff15"
   },
   "outputs": [
    {
     "name": "stderr",
     "output_type": "stream",
     "text": [
      "WARNING:google.auth._default:No project ID could be determined. Consider running `gcloud config set project` or setting the GOOGLE_CLOUD_PROJECT environment variable\n"
     ]
    }
   ],
   "source": [
    "#make into a fn\n",
    "bucket = 'jh_hateful_memes_test'\n",
    "client = storage.Client(project='hateful-memes', credentials=credentials)\n",
    "objects = client.list_blobs(bucket, prefix='hatefulmemes_')\n",
    "tfrecords = []\n",
    "for object_ in objects:\n",
    "    path = str(object_).split(', ')[1]\n",
    "    gs_path = os.path.join('gs://', bucket, path)\n",
    "    tfrecords.append(gs_path) #gs_path"
   ]
  },
  {
   "cell_type": "code",
   "execution_count": 21,
   "metadata": {
    "colab": {},
    "colab_type": "code",
    "id": "jU-hPa_8lMNP"
   },
   "outputs": [],
   "source": [
    ""
   ]
  },
  {
   "cell_type": "code",
   "execution_count": 22,
   "metadata": {
    "colab": {},
    "colab_type": "code",
    "id": "bcVbjWe8i-Kr"
   },
   "outputs": [],
   "source": [
    "test_ds, test_steps = create_ds(tfrecords, params, train=False)"
   ]
  },
  {
   "cell_type": "code",
   "execution_count": 23,
   "metadata": {
    "colab": {},
    "colab_type": "code",
    "id": "or7-zGBVlppw"
   },
   "outputs": [],
   "source": [
    "for x_test, ids in test_ds:\n",
    "    predictions = model.predict(x_test, steps=test_steps)\n",
    "    prediction_ids = ids"
   ]
  },
  {
   "cell_type": "code",
   "execution_count": 24,
   "metadata": {
    "colab": {},
    "colab_type": "code",
    "id": "ABcoxiAH_le8"
   },
   "outputs": [],
   "source": [
    "prediction_dict = {\n",
    "    'id': prediction_ids,\n",
    "    'proba': np.concatenate(predictions),\n",
    "    'label': np.ones(1000, int)\n",
    "}\n",
    "submission_ds = pd.DataFrame(prediction_dict)\n",
    "\n"
   ]
  },
  {
   "cell_type": "code",
   "execution_count": 25,
   "metadata": {
    "colab": {},
    "colab_type": "code",
    "id": "UC0AiCcELFFD"
   },
   "outputs": [],
   "source": [
    "submission_ds.to_csv('submission.csv', index=False)"
   ]
  },
  {
   "cell_type": "code",
   "execution_count": 25,
   "metadata": {
    "colab": {},
    "colab_type": "code",
    "id": "6jRRG4aSybhh"
   },
   "outputs": [],
   "source": [
    ""
   ]
  },
  {
   "cell_type": "code",
   "execution_count": 25,
   "metadata": {
    "colab": {},
    "colab_type": "code",
    "id": "KDEZ4oV8ybhi"
   },
   "outputs": [],
   "source": [
    ""
   ]
  }
 ],
 "metadata": {
  "accelerator": "TPU",
  "colab": {
   "collapsed_sections": [],
   "name": "two_input_model (1).ipynb",
   "provenance": []
  },
  "kernelspec": {
   "display_name": "Python 3",
   "language": "python",
   "name": "python3"
  },
  "language_info": {
   "codemirror_mode": {
    "name": "ipython",
    "version": 3
   },
   "file_extension": ".py",
   "mimetype": "text/x-python",
   "name": "python",
   "nbconvert_exporter": "python",
   "pygments_lexer": "ipython3",
   "version": "3.7.3"
  }
 },
 "nbformat": 4,
 "nbformat_minor": 0
}
