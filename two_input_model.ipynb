{
 "cells": [
  {
   "cell_type": "code",
   "execution_count": 14,
   "metadata": {
    "colab": {
     "base_uri": "https://localhost:8080/",
     "height": 34
    },
    "id": "e4BdgGfH718Y",
    "outputId": "c1bd7cae-49f8-48a3-e397-070c38ef498d"
   },
   "outputs": [
    {
     "name": "stdout",
     "output_type": "stream",
     "text": [
      "2.3.0\n"
     ]
    }
   ],
   "source": [
    "#set random seeds\n",
    "from numpy.random import seed\n",
    "seed(1)\n",
    "from tensorflow.random import set_seed\n",
    "set_seed(1)\n",
    "\n",
    "import pandas as pd\n",
    "import numpy as np\n",
    "\n",
    "#machine learning\n",
    "import tensorflow as tf\n",
    "print(tf.__version__)\n",
    "from tensorflow.keras import layers \n",
    "from tensorflow import keras\n",
    "from sklearn.model_selection import train_test_split\n",
    "\n",
    "#accessing files\n",
    "from google.cloud import storage\n",
    "import os\n",
    "\n",
    "#display charts/images\n",
    "import matplotlib.pyplot as plt\n",
    "\n",
    "#don't need\n",
    "from tensorflow.python.keras.preprocessing import sequence\n",
    "# from tensorflow.python.keras.preprocessing import text\n",
    "import tensorflow_hub as hub\n",
    "\n",
    "import json\n",
    "\n",
    "\n"
   ]
  },
  {
   "cell_type": "code",
   "execution_count": 15,
   "metadata": {
    "id": "9__sYCZ7718e"
   },
   "outputs": [],
   "source": [
    "params = {\n",
    "    'image_size': [299, 299],\n",
    "    'text_input': (58,),\n",
    "    'batch_size': 512,\n",
    "    'vocab_size': 30000,\n",
    "    'examples_per_file': 850, #will not change\n",
    "    'train_size':8500,\n",
    "    'test_examples_per_file': 500,\n",
    "    'test_size': 1000,\n",
    "    'version': 21, #model version number\n",
    "    'caption_text_input_length': 49,\n",
    "    'caption_model_version': 4,\n",
    "    'meme_text_length': 58,\n",
    "    'caption_embedding_dim': 300,\n",
    "    'caption_vocab_size' : 10000,\n",
    "    'tokenizer_start_index': 58, #index of tokenizer to signal sequence start\n",
    "    'tokenizer_end_index': 57,\n",
    "\n",
    "}\n",
    "\n",
    "\n"
   ]
  },
  {
   "cell_type": "code",
   "execution_count": 16,
   "metadata": {
    "colab": {
     "base_uri": "https://localhost:8080/",
     "height": 54
    },
    "id": "g3ZOLb6A718k",
    "outputId": "e5bff6d2-cf38-4e79-9af9-c05677782ff8"
   },
   "outputs": [
    {
     "name": "stderr",
     "output_type": "stream",
     "text": [
      "WARNING:google.auth._default:No project ID could be determined. Consider running `gcloud config set project` or setting the GOOGLE_CLOUD_PROJECT environment variable\n"
     ]
    }
   ],
   "source": [
    "try:\n",
    "    from google.colab import auth\n",
    "    auth.authenticate_user()\n",
    "    credentials=None\n",
    "\n",
    "except ModuleNotFoundError:\n",
    "\n",
    "\n",
    "    from google.oauth2 import service_account\n",
    "\n",
    "    credentials = service_account.Credentials.from_service_account_file( #file location of GCS private key\n",
    "        '/Users/jeremiahherberg/Downloads/hateful-memes-af65c70c1b79.json')\n",
    "\n",
    "client = storage.Client(project='hateful-memes', credentials=credentials)"
   ]
  },
  {
   "cell_type": "code",
   "execution_count": 17,
   "metadata": {
    "colab": {
     "base_uri": "https://localhost:8080/",
     "height": 54
    },
    "id": "BMUqKpKY718s",
    "outputId": "a52a064b-21bf-4a07-804b-74efbb4b86bf"
   },
   "outputs": [
    {
     "name": "stderr",
     "output_type": "stream",
     "text": [
      "WARNING:google.auth._default:No project ID could be determined. Consider running `gcloud config set project` or setting the GOOGLE_CLOUD_PROJECT environment variable\n"
     ]
    }
   ],
   "source": [
    "bucket = 'jh_hateful_memes'\n",
    "glove_bucket = 'kds-eb5526d8c1cbcebc892bfb61aec82845e3dbfac2a7fc578209827f0f'\n",
    "caption_token_bucket = 'kds-8339981c06f228c3aef8b05a8dd850ea520ee4ce40eaafdd179fb2e0'\n",
    "client = storage.Client(project='hateful-memes', credentials=credentials)\n"
   ]
  },
  {
   "cell_type": "code",
   "execution_count": 18,
   "metadata": {
    "colab": {
     "base_uri": "https://localhost:8080/",
     "height": 802
    },
    "id": "VdrBIeYx718x",
    "outputId": "2be30818-584c-4391-d289-9219ed43ff07"
   },
   "outputs": [
    {
     "name": "stdout",
     "output_type": "stream",
     "text": [
      "Running on TPU  grpc://10.79.184.242:8470\n",
      "WARNING:tensorflow:TPU system grpc://10.79.184.242:8470 has already been initialized. Reinitializing the TPU can cause previously created variables on TPU to be lost.\n"
     ]
    },
    {
     "name": "stderr",
     "output_type": "stream",
     "text": [
      "WARNING:tensorflow:TPU system grpc://10.79.184.242:8470 has already been initialized. Reinitializing the TPU can cause previously created variables on TPU to be lost.\n"
     ]
    },
    {
     "name": "stdout",
     "output_type": "stream",
     "text": [
      "INFO:tensorflow:Initializing the TPU system: grpc://10.79.184.242:8470\n"
     ]
    },
    {
     "name": "stderr",
     "output_type": "stream",
     "text": [
      "INFO:tensorflow:Initializing the TPU system: grpc://10.79.184.242:8470\n"
     ]
    },
    {
     "name": "stdout",
     "output_type": "stream",
     "text": [
      "INFO:tensorflow:Clearing out eager caches\n"
     ]
    },
    {
     "name": "stderr",
     "output_type": "stream",
     "text": [
      "INFO:tensorflow:Clearing out eager caches\n"
     ]
    },
    {
     "name": "stdout",
     "output_type": "stream",
     "text": [
      "INFO:tensorflow:Finished initializing TPU system.\n"
     ]
    },
    {
     "name": "stderr",
     "output_type": "stream",
     "text": [
      "INFO:tensorflow:Finished initializing TPU system.\n",
      "WARNING:absl:`tf.distribute.experimental.TPUStrategy` is deprecated, please use  the non experimental symbol `tf.distribute.TPUStrategy` instead.\n"
     ]
    },
    {
     "name": "stdout",
     "output_type": "stream",
     "text": [
      "INFO:tensorflow:Found TPU system:\n"
     ]
    },
    {
     "name": "stderr",
     "output_type": "stream",
     "text": [
      "INFO:tensorflow:Found TPU system:\n"
     ]
    },
    {
     "name": "stdout",
     "output_type": "stream",
     "text": [
      "INFO:tensorflow:*** Num TPU Cores: 8\n"
     ]
    },
    {
     "name": "stderr",
     "output_type": "stream",
     "text": [
      "INFO:tensorflow:*** Num TPU Cores: 8\n"
     ]
    },
    {
     "name": "stdout",
     "output_type": "stream",
     "text": [
      "INFO:tensorflow:*** Num TPU Workers: 1\n"
     ]
    },
    {
     "name": "stderr",
     "output_type": "stream",
     "text": [
      "INFO:tensorflow:*** Num TPU Workers: 1\n"
     ]
    },
    {
     "name": "stdout",
     "output_type": "stream",
     "text": [
      "INFO:tensorflow:*** Num TPU Cores Per Worker: 8\n"
     ]
    },
    {
     "name": "stderr",
     "output_type": "stream",
     "text": [
      "INFO:tensorflow:*** Num TPU Cores Per Worker: 8\n"
     ]
    },
    {
     "name": "stdout",
     "output_type": "stream",
     "text": [
      "INFO:tensorflow:*** Available Device: _DeviceAttributes(/job:localhost/replica:0/task:0/device:CPU:0, CPU, 0, 0)\n"
     ]
    },
    {
     "name": "stderr",
     "output_type": "stream",
     "text": [
      "INFO:tensorflow:*** Available Device: _DeviceAttributes(/job:localhost/replica:0/task:0/device:CPU:0, CPU, 0, 0)\n"
     ]
    },
    {
     "name": "stdout",
     "output_type": "stream",
     "text": [
      "INFO:tensorflow:*** Available Device: _DeviceAttributes(/job:localhost/replica:0/task:0/device:XLA_CPU:0, XLA_CPU, 0, 0)\n"
     ]
    },
    {
     "name": "stderr",
     "output_type": "stream",
     "text": [
      "INFO:tensorflow:*** Available Device: _DeviceAttributes(/job:localhost/replica:0/task:0/device:XLA_CPU:0, XLA_CPU, 0, 0)\n"
     ]
    },
    {
     "name": "stdout",
     "output_type": "stream",
     "text": [
      "INFO:tensorflow:*** Available Device: _DeviceAttributes(/job:worker/replica:0/task:0/device:CPU:0, CPU, 0, 0)\n"
     ]
    },
    {
     "name": "stderr",
     "output_type": "stream",
     "text": [
      "INFO:tensorflow:*** Available Device: _DeviceAttributes(/job:worker/replica:0/task:0/device:CPU:0, CPU, 0, 0)\n"
     ]
    },
    {
     "name": "stdout",
     "output_type": "stream",
     "text": [
      "INFO:tensorflow:*** Available Device: _DeviceAttributes(/job:worker/replica:0/task:0/device:TPU:0, TPU, 0, 0)\n"
     ]
    },
    {
     "name": "stderr",
     "output_type": "stream",
     "text": [
      "INFO:tensorflow:*** Available Device: _DeviceAttributes(/job:worker/replica:0/task:0/device:TPU:0, TPU, 0, 0)\n"
     ]
    },
    {
     "name": "stdout",
     "output_type": "stream",
     "text": [
      "INFO:tensorflow:*** Available Device: _DeviceAttributes(/job:worker/replica:0/task:0/device:TPU:1, TPU, 0, 0)\n"
     ]
    },
    {
     "name": "stderr",
     "output_type": "stream",
     "text": [
      "INFO:tensorflow:*** Available Device: _DeviceAttributes(/job:worker/replica:0/task:0/device:TPU:1, TPU, 0, 0)\n"
     ]
    },
    {
     "name": "stdout",
     "output_type": "stream",
     "text": [
      "INFO:tensorflow:*** Available Device: _DeviceAttributes(/job:worker/replica:0/task:0/device:TPU:2, TPU, 0, 0)\n"
     ]
    },
    {
     "name": "stderr",
     "output_type": "stream",
     "text": [
      "INFO:tensorflow:*** Available Device: _DeviceAttributes(/job:worker/replica:0/task:0/device:TPU:2, TPU, 0, 0)\n"
     ]
    },
    {
     "name": "stdout",
     "output_type": "stream",
     "text": [
      "INFO:tensorflow:*** Available Device: _DeviceAttributes(/job:worker/replica:0/task:0/device:TPU:3, TPU, 0, 0)\n"
     ]
    },
    {
     "name": "stderr",
     "output_type": "stream",
     "text": [
      "INFO:tensorflow:*** Available Device: _DeviceAttributes(/job:worker/replica:0/task:0/device:TPU:3, TPU, 0, 0)\n"
     ]
    },
    {
     "name": "stdout",
     "output_type": "stream",
     "text": [
      "INFO:tensorflow:*** Available Device: _DeviceAttributes(/job:worker/replica:0/task:0/device:TPU:4, TPU, 0, 0)\n"
     ]
    },
    {
     "name": "stderr",
     "output_type": "stream",
     "text": [
      "INFO:tensorflow:*** Available Device: _DeviceAttributes(/job:worker/replica:0/task:0/device:TPU:4, TPU, 0, 0)\n"
     ]
    },
    {
     "name": "stdout",
     "output_type": "stream",
     "text": [
      "INFO:tensorflow:*** Available Device: _DeviceAttributes(/job:worker/replica:0/task:0/device:TPU:5, TPU, 0, 0)\n"
     ]
    },
    {
     "name": "stderr",
     "output_type": "stream",
     "text": [
      "INFO:tensorflow:*** Available Device: _DeviceAttributes(/job:worker/replica:0/task:0/device:TPU:5, TPU, 0, 0)\n"
     ]
    },
    {
     "name": "stdout",
     "output_type": "stream",
     "text": [
      "INFO:tensorflow:*** Available Device: _DeviceAttributes(/job:worker/replica:0/task:0/device:TPU:6, TPU, 0, 0)\n"
     ]
    },
    {
     "name": "stderr",
     "output_type": "stream",
     "text": [
      "INFO:tensorflow:*** Available Device: _DeviceAttributes(/job:worker/replica:0/task:0/device:TPU:6, TPU, 0, 0)\n"
     ]
    },
    {
     "name": "stdout",
     "output_type": "stream",
     "text": [
      "INFO:tensorflow:*** Available Device: _DeviceAttributes(/job:worker/replica:0/task:0/device:TPU:7, TPU, 0, 0)\n"
     ]
    },
    {
     "name": "stderr",
     "output_type": "stream",
     "text": [
      "INFO:tensorflow:*** Available Device: _DeviceAttributes(/job:worker/replica:0/task:0/device:TPU:7, TPU, 0, 0)\n"
     ]
    },
    {
     "name": "stdout",
     "output_type": "stream",
     "text": [
      "INFO:tensorflow:*** Available Device: _DeviceAttributes(/job:worker/replica:0/task:0/device:TPU_SYSTEM:0, TPU_SYSTEM, 0, 0)\n"
     ]
    },
    {
     "name": "stderr",
     "output_type": "stream",
     "text": [
      "INFO:tensorflow:*** Available Device: _DeviceAttributes(/job:worker/replica:0/task:0/device:TPU_SYSTEM:0, TPU_SYSTEM, 0, 0)\n"
     ]
    },
    {
     "name": "stdout",
     "output_type": "stream",
     "text": [
      "INFO:tensorflow:*** Available Device: _DeviceAttributes(/job:worker/replica:0/task:0/device:XLA_CPU:0, XLA_CPU, 0, 0)\n"
     ]
    },
    {
     "name": "stderr",
     "output_type": "stream",
     "text": [
      "INFO:tensorflow:*** Available Device: _DeviceAttributes(/job:worker/replica:0/task:0/device:XLA_CPU:0, XLA_CPU, 0, 0)\n"
     ]
    },
    {
     "name": "stdout",
     "output_type": "stream",
     "text": [
      "REPLICAS:  8\n"
     ]
    }
   ],
   "source": [
    "try:\n",
    "    # TPU detection. No parameters necessary if TPU_NAME environment variable is\n",
    "    # set: this is always the case on Kaggle.\n",
    "    tpu = tf.distribute.cluster_resolver.TPUClusterResolver()\n",
    "    print('Running on TPU ', tpu.master())\n",
    "except ValueError:\n",
    "    tpu = None\n",
    "\n",
    "if tpu:\n",
    "    tf.config.experimental_connect_to_cluster(tpu)\n",
    "    tf.tpu.experimental.initialize_tpu_system(tpu)\n",
    "    strategy = tf.distribute.experimental.TPUStrategy(tpu)\n",
    "else:\n",
    "    # Default distribution strategy in Tensorflow. Works on CPU and single GPU.\n",
    "    strategy = tf.distribute.get_strategy()\n",
    "\n",
    "print(\"REPLICAS: \", strategy.num_replicas_in_sync)"
   ]
  },
  {
   "cell_type": "code",
   "execution_count": 19,
   "metadata": {
    "id": "rm40cYA_718y"
   },
   "outputs": [],
   "source": [
    "def decode_example_train(example):\n",
    "    '''\n",
    "    decodes single tfexample from TFrecord file\n",
    "    '''\n",
    "    features = {'label': tf.io.FixedLenFeature([], tf.int64),\n",
    "                'text': tf.io.FixedLenFeature([], tf.string),\n",
    "                'text_lemma': tf.io.FixedLenFeature([], tf.string),\n",
    "                'text_lemma_no_stopwords': tf.io.FixedLenFeature([], tf.string),\n",
    "                'text_no_stopwords':tf.io.FixedLenFeature([], tf.string),\n",
    "                'image': tf.io.FixedLenFeature([], tf.string)}\n",
    "    single_example = tf.io.parse_single_example(example, features)\n",
    "    \n",
    "    text = tf.io.parse_tensor(single_example['text'], out_type=tf.int32)\n",
    "    textL = tf.io.parse_tensor(single_example['text_lemma'], out_type=tf.int32)\n",
    "    # text = tf.cast(text, tf.float32) \n",
    "    image = tf.io.decode_jpeg(single_example['image'], 3)\n",
    "    image = tf.image.resize_with_pad(image, *params['image_size'])\n",
    "    image = image / 127.5\n",
    "    image = image -1\n",
    "    label = single_example['label']\n",
    "    # label = tf.cast(label, tf.float32)\n",
    "    return text, image, label\n",
    "\n",
    "def decode_example_test(example):\n",
    "    '''\n",
    "    decodes single tfexample from TFrecord file\n",
    "    '''\n",
    "    features = {'id': tf.io.FixedLenFeature([], tf.int64),\n",
    "                'text': tf.io.FixedLenFeature([], tf.string),\n",
    "                'text_lemma': tf.io.FixedLenFeature([], tf.string),\n",
    "                'text_lemma_no_stopwords': tf.io.FixedLenFeature([], tf.string),\n",
    "                'text_no_stopwords':tf.io.FixedLenFeature([], tf.string),\n",
    "                'image': tf.io.FixedLenFeature([], tf.string)}\n",
    "    single_example = tf.io.parse_single_example(example, features)\n",
    "    \n",
    "    text = tf.io.parse_tensor(single_example['text'], out_type=tf.int32)\n",
    "    textL = tf.io.parse_tensor(single_example['text_lemma'], out_type=tf.int32)\n",
    "    # text = tf.cast(text, tf.float32) \n",
    "    image = tf.io.decode_jpeg(single_example['image'], 3)\n",
    "    image = tf.image.resize_with_pad(image, *params['image_size'])\n",
    "    image = image / 127.5\n",
    "    image = image -1\n",
    "    label = single_example['id']\n",
    "    # label = tf.cast(label, tf.float32)\n",
    "    return text, image, label\n",
    "\n",
    "def flip_image(text, image, label): \n",
    "    '''\n",
    "    randombly flips image input\n",
    "    \n",
    "    args:\n",
    "        text: text output in ds\n",
    "        image: image output in ds\n",
    "        label: label output in ds (can also be id)\n",
    "    returns:\n",
    "        text, image, label\n",
    "        args will be otherwise unchanged\n",
    "    '''\n",
    "    \n",
    "    image = tf.image.random_flip_left_right(image)\n",
    "\n",
    "    return text, image, label\n",
    "\n",
    "\n",
    "def convert_xy(text, image, label): #needs to be called last\n",
    "    '''\n",
    "    transforms ds output from text, image, label -> (text, image), label\n",
    "    \n",
    "    args:\n",
    "        text: text output in ds\n",
    "        image: image output in ds\n",
    "        label: label output in ds (can also be id)\n",
    "    returns:\n",
    "        (text, image), label\n",
    "        args will be otherwise unchanged\n",
    "    '''\n",
    "    return (text, image), label\n",
    "    \n",
    "    "
   ]
  },
  {
   "cell_type": "code",
   "execution_count": 20,
   "metadata": {
    "id": "i_Cs9V0ixxW-"
   },
   "outputs": [],
   "source": [
    "def create_ds(params, client, bucket, prefix, is_training):\n",
    "    '''\n",
    "    creates dataset from CSV file \n",
    "    args:\n",
    "        params, dictionary with the following key:\n",
    "            caption_model_version: int, image caption version number\n",
    "            train_size: int, dataset size of training data\n",
    "            test_size: int, dataset size of test data\n",
    "        client: google.cloud.storage.Client object,\n",
    "        bucket: bucket CSV files are located in\n",
    "        prefix: str, prefix to append to the beginng of each file name\n",
    "        is_training: Bool, indicator if the DS is for training/validation or testing\n",
    "    '''\n",
    "    caption_version = params['caption_model_version']\n",
    "    text_file = '{}_caption_model_text_v{}.csv'.format(prefix, caption_version)\n",
    "    caption_file = '{}_caption_model_captions_v{}.csv'.format(prefix, caption_version)\n",
    "    label_file = '{}_caption_model_label_v{}.csv'.format(prefix, caption_version)\n",
    "    for file in [text_file, caption_file, label_file]:\n",
    "        if not os.path.isfile(file):\n",
    "            download_file(client, bucket, file)\n",
    "    text = pd.read_csv(text_file)\n",
    "    caption = pd.read_csv(caption_file)\n",
    "    ###\n",
    "    caption.fillna(0.0, inplace=True)\n",
    "    labels = pd.read_csv(label_file)\n",
    "    # return text, caption, labels\n",
    "    ds = tf.data.Dataset.from_tensor_slices(((caption.values, text.values), labels.values))\n",
    "    if is_training:\n",
    "        batch_size = params['train_size']\n",
    "    else:\n",
    "        batch_size = params['test_size']\n",
    "    ds = ds.batch(batch_size)\n",
    "    return ds\n",
    "\n",
    "    "
   ]
  },
  {
   "cell_type": "code",
   "execution_count": 21,
   "metadata": {
    "id": "pG08Jw4NRl5O"
   },
   "outputs": [],
   "source": [
    "def download_file(client, bucket, file_name):\n",
    "    '''\n",
    "    downloads a file from a GCS bucket into working directory\n",
    "\n",
    "    args:\n",
    "        client: google.cloud.storage.Client object\n",
    "        bucket: str, name of bucket to download file from\n",
    "        file_name: str, file name to download\n",
    "    returns: None\n",
    "    \n",
    "    '''\n",
    "    _bucket = client.bucket(bucket)\n",
    "    blob = _bucket.blob(file_name)\n",
    "    blob.download_to_filename(file_name)\n",
    "    \n",
    "\n",
    "def create_tokenizer_from_filename(file_name,\n",
    "                                  bucket_=None,\n",
    "                                  client_=None):\n",
    "    '''\n",
    "    creates tf.keras.preprocessing.text.tokenizer from a \n",
    "    json config file in current working directory\n",
    "    args:\n",
    "        client_: google.cloud.storage.Client object\n",
    "        file_name: str, filename where config json file is located\n",
    "        bucket_, str, default None, name of GCS bucket with an object with the\n",
    "            same file name as glove_file, if an arg\n",
    "            is passed, function will first check if file_name exists in current\n",
    "            directory, and if not, will download an object located at file_name\n",
    "            in the bucket passed into bucket arg\n",
    "    returns:\n",
    "        tokenizer object\n",
    "    '''\n",
    "    if bucket:\n",
    "        if not os.path.isfile(file_name):\n",
    "            download_file(client_, bucket_,file_name)\n",
    "    with open(file_name) as file:\n",
    "        open_file = json.load(file)\n",
    "        tokenizer = tf.keras.preprocessing.text.tokenizer_from_json(open_file)\n",
    "    return tokenizer\n",
    "\n",
    "def get_embedding_weights_from_tokenizer_glove(glove_file,\n",
    "                                              tokenizer,\n",
    "                                              embedding_dim,\n",
    "                                              bucket=None,\n",
    "                                               client=None\n",
    "                                              ):\n",
    "    '''\n",
    "    gets the weights to use in an embedding layer from a pretained\n",
    "    model based on the tokenizer used to create sequences that will\n",
    "    be passed into embedding layer\n",
    "    \n",
    "    args:\n",
    "        glove_file: str, path of pretrained model from current directory\n",
    "        tokenizer: tf.keras.preprocessing.text.tokenizer object, tokenizer\n",
    "            that was used to create sequences\n",
    "        embedding_dim: int, output_dim of embedding layer of pre-trained model\n",
    "        bucket, str, default None, name of GCS bucket with an object with the\n",
    "            same file name as glove_file, if an arg\n",
    "            is passed, function will first check if glove_file exists in current\n",
    "            directory, and if not, will download an object located at glove_file\n",
    "            in the bucket passed into bucket arg\n",
    "    returns: \n",
    "        embedding_weights: numpy array, shaped* (vocab_size, embedding_dim)\n",
    "            weights that can be used for embedding layer\n",
    "            *vocab_size = tokenizer.num_words which is the number of words in\n",
    "            the tokenizer vocabulary\n",
    "        \n",
    "    '''\n",
    "    if bucket:\n",
    "        if not os.path.isfile(glove_file):\n",
    "            download_file(client, bucket, glove_file)\n",
    "    word_values = dict()\n",
    "    file = open(glove_file, encoding='utf-8')\n",
    "    \n",
    "    for line in file:\n",
    "        coeff = line.split()\n",
    "        word = coeff[0]\n",
    "        coefficients = np.asarray(coeff[-embedding_dim:], dtype='float32')\n",
    "        word_values[word] = coefficients\n",
    "\n",
    "            \n",
    "    file.close()\n",
    "    vocab_size = tokenizer.num_words\n",
    "    embedding_weights = np.zeros((vocab_size, embedding_dim))\n",
    "    for word, idx in tokenizer.word_index.items():\n",
    "        if idx < vocab_size:\n",
    "            word_embedding_values = word_values.get(word)\n",
    "            if word_embedding_values is not None:\n",
    "                embedding_weights[idx] = word_embedding_values\n",
    "    \n",
    "    return embedding_weights"
   ]
  },
  {
   "cell_type": "code",
   "execution_count": 22,
   "metadata": {
    "id": "V6RbH_oRmjUU"
   },
   "outputs": [],
   "source": [
    "def pair_separableConv1D(x, \n",
    "                         filters, kernal_size, act, first_reg, sec_reg,\n",
    "                        maxpooling_poolsize):\n",
    "    '''\n",
    "    function to add the following layers to a Keras Functional model:\n",
    "        layers.SeparableConv1D\n",
    "        layers.SeparableConv1D\n",
    "        layers.MaxPooling1D\n",
    "    \n",
    "    args:\n",
    "        x: keras input layer, or series of layers that can be traced to input layer\n",
    "        kernal_size: int, kernal size for SeparableConv1D layers\n",
    "        act: str, activation for SeparableConv1D layers\n",
    "        first_reg, keras regularizer to pass into 1st conv layer\n",
    "        sec_reg, keras regularizer to pass into 2nd conv layer\n",
    "        maxpooling_poolsize: int, poolsize for maxpooling layer\n",
    "    \n",
    "    returns:\n",
    "        x: x that was input into fn with above layers added\n",
    "    '''\n",
    "    x = layers.SeparableConv1D(filters=filters, kernel_size=kernal_size, \n",
    "                              activation=act, padding='same',\n",
    "                              kernel_regularizer=first_reg)(x)\n",
    "    x = layers.SeparableConv1D(filters=filters, kernel_size=kernal_size, \n",
    "                              activation=act, padding='same',\n",
    "                              kernel_regularizer=sec_reg)(x)\n",
    "    x = layers.MaxPooling1D(pool_size=maxpooling_poolsize, padding='same')(x)\n",
    "    x = layers.BatchNormalization()(x)\n",
    "    return x"
   ]
  },
  {
   "cell_type": "code",
   "execution_count": 23,
   "metadata": {
    "id": "Z7nJDhlumjUX"
   },
   "outputs": [],
   "source": [
    "def conv2dset(x, \n",
    "              conv_filter, kernel, regularizer=None, \n",
    "              maxpooling_poolsize=2, \n",
    "              conv_act=None, \n",
    "              dense_units=None, dense_act=None):\n",
    "    '''\n",
    "    function to add the following layers to a Keras Functional model:\n",
    "        layers.Conv2D\n",
    "        MaxPooling2D\n",
    "        Batchnormalization\n",
    "        (activation layer)\n",
    "        layers.Dense (if applicable)\n",
    "    \n",
    "    args:\n",
    "        x: keras input layer, or series of layers that can be traced to input layer\n",
    "        conv_filter: int, number of filters in Conv2D layer\n",
    "        kernel: int, kernel size in Conv2D layer\n",
    "        regularizer: keras.regularizers object, default: None, regularizer in \n",
    "            Conv2D layer\n",
    "        maxpooling_poolsize: int, default 2, poolsize for maxpooling layer\n",
    "        conv_act: keras layer (without the \"()\"), default None, activation\n",
    "            layer that will go after the batchnormalization layer\n",
    "        dense_units: int, default None, number of units in dense layer\n",
    "            if None, there will be no dense layer\n",
    "        dense_act: str, default None, activation in dense layer\n",
    "    \n",
    "    returns:\n",
    "        x: x that was input into fn with above layers added\n",
    "        \n",
    "    '''\n",
    "    x = layers.Conv2D(filters=conv_filter, kernel_size=kernel, padding='same', \n",
    "                      kernel_regularizer=regularizer)(x)\n",
    "    if maxpooling_poolsize:\n",
    "        x = layers.MaxPooling2D(maxpooling_poolsize)(x)\n",
    "    # x = layers.BatchNormalization()(x)\n",
    "    if conv_act:\n",
    "        x = conv_act()(x)\n",
    "    if dense_units:\n",
    "        x = layers.Dense(dense_units, activation=dense_act)(x)\n",
    "    \n",
    "    return x\n",
    "\n",
    "def convblock(x, conv_fn, filters, regularizer, conv_act, kernal=5):\n",
    "    '''\n",
    "    makes a block of convolution layers\n",
    "    \n",
    "    todo -- work on documentation \n",
    "    '''\n",
    "    count = 0\n",
    "    for _ in range(2):\n",
    "        for filter_ in filters:\n",
    "            count +=1\n",
    "            if count == 2:\n",
    "                x1 = conv_fn(x, filter_, kernal, regularizer, 2, conv_act,)\n",
    "                x = x1\n",
    "            else:\n",
    "                x = conv_fn(x, filter_, kernal, regularizer, None, conv_act)\n",
    "    x = layers.Add()([x, x1])\n",
    "    return x\n",
    "\n"
   ]
  },
  {
   "cell_type": "code",
   "execution_count": 24,
   "metadata": {
    "id": "aHOtR_XA7182"
   },
   "outputs": [],
   "source": [
    "def create_model(params=params,\n",
    "                dense_nodes=128,\n",
    "                ltsm_units=128,\n",
    "                ltsm_dense_units=64,\n",
    "                caption_embedding=None,\n",
    "                text_embedding=None,\n",
    "                nlp = 'gru',\n",
    "                nlp_range = None):\n",
    "    '''\n",
    "    creates model with two inputs and out output\n",
    "\n",
    "        \n",
    "    '''\n",
    "    #set some fixed variables\n",
    "    text_input_shape = params['text_input']\n",
    "    vocab_size = params['vocab_size']\n",
    "    image_size = params['image_size']\n",
    "    caption_input_len = params['caption_text_input_length']\n",
    "    meme_text_len = params['meme_text_length']\n",
    "    caption_dim = params['caption_embedding_dim']\n",
    "    caption_vocab_size = params['caption_vocab_size']\n",
    "    \n",
    "\n",
    "    relu = layers.ReLU\n",
    "    leaky = layers.LeakyReLU\n",
    "    reg = keras.regularizers.l2(0.001,)\n",
    "    dense_act = None\n",
    "    if nlp == 'gru':\n",
    "        nlp_layer = layers.GRU\n",
    "    elif nlp == 'lstm':\n",
    "        nlp_layer = layers.LSTM\n",
    "    else:\n",
    "        raise NameError (\"nlp_layer must be one of ['gru', 'lstm']\")\n",
    "    \n",
    "    #model inputs\n",
    "    input_text = layers.Input(text_input_shape, name='text_input')\n",
    "    embedding = layers.Embedding(input_dim=vocab_size, output_dim=300,  #300\n",
    "                                 input_length=meme_text_len, mask_zero=True)(input_text)\n",
    "    embedding = layers.Dropout(0.5)(embedding)\n",
    "\n",
    "    \n",
    "    input_caption = layers.Input((caption_input_len,), name='caption_input')\n",
    "    embedding_caption = layers.Embedding(input_dim=caption_vocab_size, output_dim=caption_dim, #caption_dim\n",
    "                                         input_length=caption_input_len, mask_zero=True)(input_caption)\n",
    "    embedding_caption = layers.Dropout(0.5)(embedding_caption)\n",
    "\n",
    "\n",
    "\n",
    "    text = layers.Concatenate(axis=1)([embedding_caption, embedding])\n",
    "\n",
    "    # # bidirectional\n",
    "    if nlp_range == None or nlp_range == 0:\n",
    "        text = layers.Bidirectional(nlp_layer(ltsm_units, return_sequences=False, ),)(text)\n",
    "    \n",
    "    elif nlp_range > 0:\n",
    "        for _ in range(int(nlp_range)):\n",
    "            text = nlp_layer(ltsm_units, return_sequences=True, return_state=False,)(text)\n",
    "        text = nlp_layer(int(ltsm_units * 2), return_sequences=False)(text)\n",
    "    # except TypeError:\n",
    "    #     raise TypeError('nlp_range must be int above zero')\n",
    "    \n",
    "\n",
    "    text = layers.Dense(ltsm_dense_units, activation = 'relu')(text)\n",
    "    text = layers.Dense(dense_nodes, activation=None)(text)\n",
    "    text = layers.LeakyReLU()(text)\n",
    "\n",
    "        \n",
    "\n",
    "\n",
    "    x = text\n",
    "    \n",
    "\n",
    "    final_output = layers.Dense(1, activation='sigmoid', name='final_out')(x)\n",
    "    \n",
    "\n",
    "    \n",
    "    model = keras.Model([input_caption, input_text], final_output) #input_image\n",
    "    if caption_embedding is not None:\n",
    "        model.layers[2].set_weights([caption_embedding])\n",
    "        model.layers[2].trainable = False\n",
    "        \n",
    "        model.layers[3].set_weights([text_embedding])\n",
    "        model.layers[3].trainable = False\n",
    "    metrics = [\n",
    "          keras.metrics.TruePositives(name='tp'),\n",
    "    #           keras.metrics.FalsePositives(name='fp'),\n",
    "    #           keras.metrics.TrueNegatives(name='tn'),\n",
    "          keras.metrics.FalseNegatives(name='fn'), \n",
    "          keras.metrics.BinaryAccuracy(name='accuracy'),\n",
    "    #           keras.metrics.Precision(name='precision'),\n",
    "    #           keras.metrics.Recall(name='recall'),\n",
    "          keras.metrics.AUC(name='auc'),\n",
    "    ]\n",
    "    schedule = tf.keras.optimizers.schedules.ExponentialDecay(0.0003, 27 *8, 0.75) #10 *3\n",
    "    model.compile(\n",
    "    optimizer=tf.keras.optimizers.Adam(schedule),\n",
    "    loss = tf.keras.losses.BinaryCrossentropy(label_smoothing = 0.01),\n",
    "    metrics=metrics)\n",
    "    \n",
    "    return model\n",
    "\n",
    "    \n"
   ]
  },
  {
   "cell_type": "code",
   "execution_count": 25,
   "metadata": {
    "id": "alJt8bQV7185"
   },
   "outputs": [],
   "source": [
    "data_set = create_ds(params, client, bucket,\n",
    "                    'training', True)\n",
    "for data in data_set:\n",
    "    ds = data\n",
    "    break\n",
    "caption_tokenizer = create_tokenizer_from_filename('coco_tokenizer.json', \n",
    "                                           caption_token_bucket, client)\n",
    "caption_embedding = get_embedding_weights_from_tokenizer_glove('glove.840B.300d.txt',\n",
    "                                                               caption_tokenizer,\n",
    "                                                               300,\n",
    "                                                               glove_bucket, \n",
    "                                                               client)\n",
    "\n",
    "text_tokenizer = create_tokenizer_from_filename('tokenizer.json', \n",
    "                                           bucket, client)\n",
    "text_embedding = get_embedding_weights_from_tokenizer_glove('glove.840B.300d.txt',\n",
    "                                                               text_tokenizer,\n",
    "                                                               300,\n",
    "                                                               glove_bucket, client)\n"
   ]
  },
  {
   "cell_type": "code",
   "execution_count": 26,
   "metadata": {
    "id": "E_feXK6DsYcG"
   },
   "outputs": [],
   "source": [
    "#calculate class weights\n",
    "target_0 = 5450 #these values will not change (are from review of test ds)\n",
    "target_1 = 3050\n",
    "total = target_0 + target_1\n",
    "\n",
    "class_weight_0 = (1 / target_0) * (total) / 2.0\n",
    "class_weight_1 = (1 / target_1) * (total) / 2.0\n",
    "\n",
    "class_weights = {0: class_weight_0, 1: class_weight_1}\n",
    "\n",
    "#early stopping if validation auc stops improving\n",
    "early_stopping = tf.keras.callbacks.EarlyStopping(monitor='val_auc',\n",
    "                                patience=5,\n",
    "                                mode='max',\n",
    "                                restore_best_weights=True)"
   ]
  },
  {
   "cell_type": "code",
   "execution_count": 27,
   "metadata": {
    "colab": {
     "base_uri": "https://localhost:8080/",
     "height": 139
    },
    "id": "S25BV5he7187",
    "outputId": "38f378a2-de8b-4c72-d992-8506d82a2f78"
   },
   "outputs": [
    {
     "name": "stdout",
     "output_type": "stream",
     "text": [
      "WARNING:tensorflow:From /usr/local/lib/python3.6/dist-packages/tensorflow/python/data/ops/multi_device_iterator_ops.py:601: get_next_as_optional (from tensorflow.python.data.ops.iterator_ops) is deprecated and will be removed in a future version.\n",
      "Instructions for updating:\n",
      "Use `tf.data.Iterator.get_next_as_optional()` instead.\n"
     ]
    },
    {
     "name": "stderr",
     "output_type": "stream",
     "text": [
      "WARNING:tensorflow:From /usr/local/lib/python3.6/dist-packages/tensorflow/python/data/ops/multi_device_iterator_ops.py:601: get_next_as_optional (from tensorflow.python.data.ops.iterator_ops) is deprecated and will be removed in a future version.\n",
      "Instructions for updating:\n",
      "Use `tf.data.Iterator.get_next_as_optional()` instead.\n"
     ]
    }
   ],
   "source": [
    "tf.random.set_seed(1)\n",
    "np.random.seed(1)\n",
    "with strategy.scope():\n",
    "    model_dict = dict()\n",
    "    count = 0\n",
    "    for nlp_range in [None, 3]:\n",
    "        for gruLSTM in ['gru', 'lstm']:\n",
    "            model_dict[count] = dict()\n",
    "            model_dict[count]['model'] = create_model(\n",
    "                caption_embedding=caption_embedding,\n",
    "                text_embedding=text_embedding,\n",
    "                nlp_range=nlp_range,\n",
    "                nlp=gruLSTM\n",
    "            )\n",
    "            model_dict[count]['hist'] = model_dict[count]['model'].fit(x=(ds[0]), \n",
    "                                                                       y=ds[1], \n",
    "                                                                       validation_split=0.2, \n",
    "                                                                       epochs=250, \n",
    "                                                                       class_weight=class_weights, \n",
    "                                                                       callbacks=[early_stopping], \n",
    "                                                                       steps_per_epoch=27,\n",
    "                                                                       verbose=0)\n",
    "            model_dict[count]['max_val_auc'] = max(model_dict[count]['hist'].history['val_auc'])\n",
    "            # model_dict[count]['max_val_auc_epoch'] = len(model_dict[count]['hist'].history['val_auc']) - 6\n",
    "            # model_dict[count]['model'] = create_model(\n",
    "            #     caption_embedding=caption_embedding,\n",
    "            #     text_embedding=text_embedding,\n",
    "            #     nlp_range=nlp_range,\n",
    "            #     nlp=gruLSTM\n",
    "            # )\n",
    "            # model_dict[count]['history'] = model_dict[count]['model'].fit(x=(ds[0]), \n",
    "            #                                                               y=ds[1], \n",
    "            #                                                               epochs=model_dict[count]['max_val_auc_epoch'], \n",
    "            #                                                               class_weight=class_weights, \n",
    "            #                                                               steps_per_epoch=27,\n",
    "            #                                                               verbose=0)\n",
    "\n",
    "            count +=1\n",
    "\n"
   ]
  },
  {
   "cell_type": "code",
   "execution_count": 28,
   "metadata": {
    "id": "dbYqcMyy718-"
   },
   "outputs": [],
   "source": [
    "# #calculate class weights\n",
    "# target_0 = 5450 #these values will not change (are from review of test ds)\n",
    "# target_1 = 3050\n",
    "# total = target_0 + target_1\n",
    "\n",
    "# class_weight_0 = (1 / target_0) * (total) / 2.0\n",
    "# class_weight_1 = (1 / target_1) * (total) / 2.0\n",
    "\n",
    "# class_weights = {0: class_weight_0, 1: class_weight_1}\n",
    "\n",
    "# #early stopping if validation auc stops improving\n",
    "# early_stopping = tf.keras.callbacks.EarlyStopping(monitor='val_auc',\n",
    "#                                 patience=5,\n",
    "#                                 mode='max',\n",
    "#                                 restore_best_weights=True)\n",
    "# for model in model_dict:\n",
    "#     model_dict[model]['history'] = model_dict[model]['model'].fit(x=(ds[0]), \n",
    "#                                                                   y=ds[1], \n",
    "#                                                                   validation_split=0.2, \n",
    "#                                                                   epochs=250, \n",
    "#                                                                   class_weight=class_weights, \n",
    "#                                                                   callbacks=[early_stopping], \n",
    "#                                                                   steps_per_epoch=27,\n",
    "#                                                                   verbose=0)\n",
    "#     model_dict[model]['max_val_auc'] = max(model_dict[model]['history'].history['val_auc'])\n",
    "\n",
    "    \n",
    "\n",
    "# gru_history= gru_model.fit(x=(ds[0]), y=ds[1], validation_split=0.2, epochs=250, class_weight=class_weights, callbacks=[early_stopping], steps_per_epoch=27)\n",
    "# lstm_history = lstm_model.fit(x=(ds[0]), y=ds[1], validation_split=0.2, epochs=250, class_weight=class_weights, callbacks=[early_stopping], steps_per_epoch=27)"
   ]
  },
  {
   "cell_type": "code",
   "execution_count": 29,
   "metadata": {
    "id": "8KJWHJwrbgPn"
   },
   "outputs": [],
   "source": [
    "def remove_last_model_layer(model, make_untrainable=False):\n",
    "    '''\n",
    "    removes last layer from a model, and optionally makes\n",
    "    entire model untrainable\n",
    "    '''\n",
    "    input_layer = model.input\n",
    "    output_layer = model.layers[-2].output\n",
    "    # if make_untrainable == True:\n",
    "    #     for layer in model.layers:\n",
    "    #         layer.trainable = False\n",
    "    new_model = keras.Model(input_layer, output_layer)\n",
    "    new_model.trainable = False\n",
    "    return new_model"
   ]
  },
  {
   "cell_type": "code",
   "execution_count": 30,
   "metadata": {
    "id": "MtE7E2UWbiAD"
   },
   "outputs": [],
   "source": [
    "# with strategy.scope():\n",
    "for model in model_dict:\n",
    "    model_dict[model]['model_no_last_layer'] = remove_last_model_layer(model_dict[model]['model'])\n",
    "# new_lstm_model = remove_last_model_layer(lstm_model, make_untrainable=True)\n",
    "# new_gru_model = remove_last_model_layer(gru_model, make_untrainable=True)"
   ]
  },
  {
   "cell_type": "code",
   "execution_count": 31,
   "metadata": {
    "colab": {
     "base_uri": "https://localhost:8080/",
     "height": 289
    },
    "id": "0sTXAYw3cJwd",
    "outputId": "71709ad2-0145-4b58-975f-4716b6957c77"
   },
   "outputs": [
    {
     "data": {
      "text/plain": [
       "{0: {'hist': <tensorflow.python.keras.callbacks.History at 0x7f58ee54d2e8>,\n",
       "  'max_val_auc': 0.763020932674408,\n",
       "  'model': <tensorflow.python.keras.engine.functional.Functional at 0x7f58ee8e8eb8>,\n",
       "  'model_no_last_layer': <tensorflow.python.keras.engine.functional.Functional at 0x7f58ee853f98>},\n",
       " 1: {'hist': <tensorflow.python.keras.callbacks.History at 0x7f58ed24add8>,\n",
       "  'max_val_auc': 0.7576895952224731,\n",
       "  'model': <tensorflow.python.keras.engine.functional.Functional at 0x7f58ed413898>,\n",
       "  'model_no_last_layer': <tensorflow.python.keras.engine.functional.Functional at 0x7f58ee7c5128>},\n",
       " 2: {'hist': <tensorflow.python.keras.callbacks.History at 0x7f58ea639198>,\n",
       "  'max_val_auc': 0.7648372650146484,\n",
       "  'model': <tensorflow.python.keras.engine.functional.Functional at 0x7f58ea6c9278>,\n",
       "  'model_no_last_layer': <tensorflow.python.keras.engine.functional.Functional at 0x7f58ee7c5e10>},\n",
       " 3: {'hist': <tensorflow.python.keras.callbacks.History at 0x7f58e81717f0>,\n",
       "  'max_val_auc': 0.7675163149833679,\n",
       "  'model': <tensorflow.python.keras.engine.functional.Functional at 0x7f58e81ea9e8>,\n",
       "  'model_no_last_layer': <tensorflow.python.keras.engine.functional.Functional at 0x7f58ee7c5d30>}}"
      ]
     },
     "execution_count": 31,
     "metadata": {
      "tags": []
     },
     "output_type": "execute_result"
    }
   ],
   "source": [
    "model_dict"
   ]
  },
  {
   "cell_type": "code",
   "execution_count": 32,
   "metadata": {
    "id": "Mjh-xx1tb0RO"
   },
   "outputs": [],
   "source": [
    "with strategy.scope():\n",
    "    inp1 = layers.Input(params['caption_text_input_length'])\n",
    "    inp2 = layers.Input(params['meme_text_length'])\n",
    "    layers_to_concatenate = list()\n",
    "    for model in model_dict:\n",
    "        model_dict[model]['model_path'] = model_dict[model]['model_no_last_layer']((inp1, inp2))\n",
    "        model_dict[model]['model_path'] = layers.Dropout(0.3)(model_dict[model]['model_path'])\n",
    "        layers_to_concatenate.append(model_dict[model]['model_path'])\n",
    "    x = layers.Concatenate()(layers_to_concatenate) #Concatenate\n",
    "    x = layers.Dense(1, activation='sigmoid')(x)\n",
    "    model = keras.Model([inp1, inp2], x)\n",
    "    metrics = [\n",
    "            keras.metrics.TruePositives(name='tp'),\n",
    "        #           keras.metrics.FalsePositives(name='fp'),\n",
    "        #           keras.metrics.TrueNegatives(name='tn'),\n",
    "            keras.metrics.FalseNegatives(name='fn'), \n",
    "            keras.metrics.BinaryAccuracy(name='accuracy'),\n",
    "        #           keras.metrics.Precision(name='precision'),\n",
    "        #           keras.metrics.Recall(name='recall'),\n",
    "            keras.metrics.AUC(name='auc'),\n",
    "        ]\n",
    "    schedule = tf.keras.optimizers.schedules.ExponentialDecay(0.0003, 27 *8, 0.75) #10 *3\n",
    "    model.compile(\n",
    "        optimizer=tf.keras.optimizers.Adam(schedule),\n",
    "        loss = tf.keras.losses.BinaryCrossentropy(label_smoothing = 0.01),\n",
    "        metrics=metrics)"
   ]
  },
  {
   "cell_type": "code",
   "execution_count": 33,
   "metadata": {
    "colab": {
     "base_uri": "https://localhost:8080/",
     "height": 680
    },
    "id": "R-DU-e55d2x-",
    "outputId": "ab3100fb-cc67-45a0-8354-48c9c4eb60df"
   },
   "outputs": [
    {
     "name": "stdout",
     "output_type": "stream",
     "text": [
      "Model: \"functional_17\"\n",
      "__________________________________________________________________________________________________\n",
      "Layer (type)                    Output Shape         Param #     Connected to                     \n",
      "==================================================================================================\n",
      "input_1 (InputLayer)            [(None, 49)]         0                                            \n",
      "__________________________________________________________________________________________________\n",
      "input_2 (InputLayer)            [(None, 58)]         0                                            \n",
      "__________________________________________________________________________________________________\n",
      "functional_9 (Functional)       (None, 128)          12355008    input_1[0][0]                    \n",
      "                                                                 input_2[0][0]                    \n",
      "__________________________________________________________________________________________________\n",
      "functional_11 (Functional)      (None, 128)          12464064    input_1[0][0]                    \n",
      "                                                                 input_2[0][0]                    \n",
      "__________________________________________________________________________________________________\n",
      "functional_13 (Functional)      (None, 128)          12684480    input_1[0][0]                    \n",
      "                                                                 input_2[0][0]                    \n",
      "__________________________________________________________________________________________________\n",
      "functional_15 (Functional)      (None, 128)          12901824    input_1[0][0]                    \n",
      "                                                                 input_2[0][0]                    \n",
      "__________________________________________________________________________________________________\n",
      "dropout_8 (Dropout)             (None, 128)          0           functional_9[0][0]               \n",
      "__________________________________________________________________________________________________\n",
      "dropout_9 (Dropout)             (None, 128)          0           functional_11[0][0]              \n",
      "__________________________________________________________________________________________________\n",
      "dropout_10 (Dropout)            (None, 128)          0           functional_13[0][0]              \n",
      "__________________________________________________________________________________________________\n",
      "dropout_11 (Dropout)            (None, 128)          0           functional_15[0][0]              \n",
      "__________________________________________________________________________________________________\n",
      "concatenate_4 (Concatenate)     (None, 512)          0           dropout_8[0][0]                  \n",
      "                                                                 dropout_9[0][0]                  \n",
      "                                                                 dropout_10[0][0]                 \n",
      "                                                                 dropout_11[0][0]                 \n",
      "__________________________________________________________________________________________________\n",
      "dense_8 (Dense)                 (None, 1)            513         concatenate_4[0][0]              \n",
      "==================================================================================================\n",
      "Total params: 50,405,889\n",
      "Trainable params: 513\n",
      "Non-trainable params: 50,405,376\n",
      "__________________________________________________________________________________________________\n"
     ]
    }
   ],
   "source": [
    "model.summary()"
   ]
  },
  {
   "cell_type": "code",
   "execution_count": 34,
   "metadata": {
    "id": "aLt31S4tdWAL"
   },
   "outputs": [],
   "source": [
    "history = model.fit(x=(ds[0]), \n",
    "                    y=ds[1], \n",
    "                    validation_split=0.2, \n",
    "                    epochs=250, \n",
    "                    class_weight=class_weights, \n",
    "                    callbacks=[early_stopping], \n",
    "                    steps_per_epoch=27,\n",
    "                    verbose=0)"
   ]
  },
  {
   "cell_type": "code",
   "execution_count": 35,
   "metadata": {
    "id": "WNQKf2Y08zw2"
   },
   "outputs": [],
   "source": [
    "def plot_metric(history, metric1, metric2, ylabel):\n",
    "    plt.plot(history.history[metric1], label=metric1)\n",
    "    plt.plot(history.history[metric2], label=metric2)\n",
    "    plt.ylabel(ylabel)\n",
    "    plt.xlabel('epoch')\n",
    "    plt.legend()\n",
    "    plt.show()"
   ]
  },
  {
   "cell_type": "code",
   "execution_count": 36,
   "metadata": {
    "colab": {
     "base_uri": "https://localhost:8080/",
     "height": 806
    },
    "id": "_BG-kKjK83qC",
    "outputId": "52d53eb9-8161-4d6c-e199-f288fb77b344"
   },
   "outputs": [
    {
     "data": {
      "image/png": "[encoded data removed]",
      "text/plain": [
       "<Figure size 432x288 with 1 Axes>"
      ]
     },
     "metadata": {
      "needs_background": "light",
      "tags": []
     },
     "output_type": "display_data"
    },
    {
     "data": {
      "image/png": "[encoded data removed]",
      "text/plain": [
       "<Figure size 432x288 with 1 Axes>"
      ]
     },
     "metadata": {
      "needs_background": "light",
      "tags": []
     },
     "output_type": "display_data"
    },
    {
     "data": {
      "image/png": "[encoded data removed]",
      "text/plain": [
       "<Figure size 432x288 with 1 Axes>"
      ]
     },
     "metadata": {
      "needs_background": "light",
      "tags": []
     },
     "output_type": "display_data"
    }
   ],
   "source": [
    "plot_metric(history, 'auc', 'val_auc', 'auc')\n",
    "plot_metric(history, 'loss', 'val_loss', 'loss')\n",
    "plot_metric(history, 'accuracy', 'val_accuracy', 'accuracy')"
   ]
  },
  {
   "cell_type": "code",
   "execution_count": 37,
   "metadata": {
    "colab": {
     "base_uri": "https://localhost:8080/",
     "height": 34
    },
    "id": "NjL-SsIv-K5O",
    "outputId": "cdf61699-3b5e-4790-b7a8-3abb5f3ef14b"
   },
   "outputs": [
    {
     "data": {
      "text/plain": [
       "0.7759765386581421"
      ]
     },
     "execution_count": 37,
     "metadata": {
      "tags": []
     },
     "output_type": "execute_result"
    }
   ],
   "source": [
    "max(history.history['val_auc']) "
   ]
  },
  {
   "cell_type": "code",
   "execution_count": 38,
   "metadata": {
    "id": "bE6q1VFf-ME7"
   },
   "outputs": [],
   "source": [
    "model_name = 'model_hateful_memes_v{}.h5'.format(params['version'])\n",
    "model.save(model_name)\n",
    "bucket_ = client.bucket('jh_hateful_memes')\n",
    "blob = bucket_.blob(model_name)\n",
    "blob.upload_from_filename(model_name)#fix this"
   ]
  },
  {
   "cell_type": "code",
   "execution_count": 39,
   "metadata": {
    "id": "bcVbjWe8i-Kr"
   },
   "outputs": [],
   "source": [
    "test_ds = create_ds(params, client, bucket, 'test_seen', False)"
   ]
  },
  {
   "cell_type": "code",
   "execution_count": 40,
   "metadata": {
    "id": "or7-zGBVlppw"
   },
   "outputs": [],
   "source": [
    "for x_test, ids in test_ds:\n",
    "\n",
    "    test_text, test_images = x_test\n",
    "    predictions = model.predict(x_test, steps=10)\n",
    "    prediction_ids = ids\n",
    "\n"
   ]
  },
  {
   "cell_type": "code",
   "execution_count": 41,
   "metadata": {
    "id": "ABcoxiAH_le8"
   },
   "outputs": [],
   "source": [
    "prediction_dict = {\n",
    "    'id': np.concatenate(prediction_ids.numpy()),\n",
    "    'proba': np.concatenate(predictions),\n",
    "    'label': np.ones(1000, int)\n",
    "}\n",
    "submission_ds = pd.DataFrame(prediction_dict)\n",
    "\n"
   ]
  },
  {
   "cell_type": "code",
   "execution_count": 42,
   "metadata": {
    "id": "UC0AiCcELFFD"
   },
   "outputs": [],
   "source": [
    "submission_ds.to_csv('submission.csv', index=False)"
   ]
  },
  {
   "cell_type": "code",
   "execution_count": 1,
   "metadata": {
    "id": "nF8EWtTfxxXe"
   },
   "outputs": [],
   "source": [
    "import requests"
   ]
  },
  {
   "cell_type": "code",
   "execution_count": 2,
   "metadata": {
    "colab": {
     "base_uri": "https://localhost:8080/",
     "height": 88
    },
    "id": "buGSnpglxxXf",
    "outputId": "a2281324-db60-4f7b-fb00-80e12df723fd"
   },
   "outputs": [
    {
     "data": {
      "application/vnd.google.colaboratory.intrinsic+json": {
       "type": "string"
      },
      "text/plain": [
       "'{\\n  \"ip\": \"34.70.179.182\",\\n  \"hostname\": \"182.179.70.34.bc.googleusercontent.com\",\\n  \"city\": \"Council Bluffs\",\\n  \"region\": \"Iowa\",\\n  \"country\": \"US\",\\n  \"loc\": \"41.2619,-95.8608\",\\n  \"org\": \"AS15169 Google LLC\",\\n  \"postal\": \"51502\",\\n  \"timezone\": \"America/Chicago\",\\n  \"readme\": \"https://ipinfo.io/missingauth\"\\n}'"
      ]
     },
     "execution_count": 2,
     "metadata": {
      "tags": []
     },
     "output_type": "execute_result"
    }
   ],
   "source": [
    "url = 'http://ipinfo.io/json'\n",
    "response = requests.get(url)\n",
    "response.text"
   ]
  },
  {
   "cell_type": "code",
   "execution_count": null,
   "metadata": {
    "id": "RNLaY4rFHI48"
   },
   "outputs": [],
   "source": [
    ""
   ]
  },
  {
   "cell_type": "code",
   "execution_count": null,
   "metadata": {
    "id": "-eJgL5gNxXF9"
   },
   "outputs": [],
   "source": [
    ""
   ]
  }
 ],
 "metadata": {
  "accelerator": "TPU",
  "colab": {
   "collapsed_sections": [],
   "name": "two_input_model (8).ipynb",
   "provenance": []
  },
  "kernelspec": {
   "display_name": "Python 3",
   "language": "python",
   "name": "python3"
  },
  "language_info": {
   "codemirror_mode": {
    "name": "ipython",
    "version": 3
   },
   "file_extension": ".py",
   "mimetype": "text/x-python",
   "name": "python",
   "nbconvert_exporter": "python",
   "pygments_lexer": "ipython3",
   "version": "3.8.5"
  }
 },
 "nbformat": 4,
 "nbformat_minor": 0
}
