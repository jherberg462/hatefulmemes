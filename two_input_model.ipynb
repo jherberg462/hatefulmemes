{
 "cells": [
  {
   "cell_type": "code",
   "execution_count": 1,
   "metadata": {
    "colab": {
     "base_uri": "https://localhost:8080/",
     "height": 34
    },
    "colab_type": "code",
    "id": "e4BdgGfH718Y",
    "outputId": "c0380255-7ecf-4cb9-9b31-b1362844f4a2"
   },
   "outputs": [
    {
     "name": "stdout",
     "output_type": "stream",
     "text": [
      "2.3.0\n"
     ]
    }
   ],
   "source": [
    "#set random seeds\n",
    "from numpy.random import seed\n",
    "seed(1)\n",
    "from tensorflow.random import set_seed\n",
    "set_seed(1)\n",
    "\n",
    "import pandas as pd\n",
    "import numpy as np\n",
    "\n",
    "#machine learning\n",
    "import tensorflow as tf\n",
    "print(tf.__version__)\n",
    "from tensorflow.keras import layers \n",
    "from tensorflow import keras\n",
    "from sklearn.model_selection import train_test_split\n",
    "\n",
    "#accessing files\n",
    "from google.cloud import storage\n",
    "import os\n",
    "\n",
    "#display charts/images\n",
    "import matplotlib.pyplot as plt\n",
    "\n",
    "#don't need\n",
    "from tensorflow.python.keras.preprocessing import sequence\n",
    "# from tensorflow.python.keras.preprocessing import text\n",
    "import tensorflow_hub as hub\n",
    "\n",
    "import json\n",
    "\n",
    "\n"
   ]
  },
  {
   "cell_type": "code",
   "execution_count": 2,
   "metadata": {
    "colab": {},
    "colab_type": "code",
    "id": "9__sYCZ7718e"
   },
   "outputs": [],
   "source": [
    "params = {\n",
    "    'image_size': [299, 299],\n",
    "    'text_input': (58,),\n",
    "    'batch_size': 512,\n",
    "    'vocab_size': 30000,\n",
    "    'examples_per_file': 850, #will not change\n",
    "    'test_examples_per_file': 500,\n",
    "    'version': 10, #model version number\n",
    "    #get this from the model zoo:\n",
    "    #https://github.com/tensorflow/models/blob/master/research/object_detection/g3doc/tf2_detection_zoo.md\n",
    "    'object_detection_url': 'http://download.tensorflow.org/models/object_detection/ssd_mobilenet_v1_coco_2017_11_17.tar.gz',\n",
    "    'object_det_thres' : 0.4,\n",
    "    'object_det_len': 15,\n",
    "    'caption_text_input_length': 49,\n",
    "    'caption_model_version': 2,\n",
    "    'meme_text_length': 58,\n",
    "    'caption_embedding_dim': 300,\n",
    "    'caption_vocab_size' : 10000,\n",
    "    'tokenizer_start_index': 58, #index of tokenizer to signal sequence start\n",
    "    'tokenizer_end_index': 57,\n",
    "\n",
    "}\n",
    "\n",
    "\n"
   ]
  },
  {
   "cell_type": "code",
   "execution_count": 3,
   "metadata": {
    "colab": {},
    "colab_type": "code",
    "id": "g3ZOLb6A718k"
   },
   "outputs": [],
   "source": [
    "try:\n",
    "    from google.colab import auth\n",
    "    auth.authenticate_user()\n",
    "    credentials=None\n",
    "\n",
    "except ModuleNotFoundError:\n",
    "\n",
    "\n",
    "    from google.oauth2 import service_account\n",
    "\n",
    "    credentials = service_account.Credentials.from_service_account_file( #file location of GCS private key\n",
    "        '/Users/jeremiahherberg/Downloads/hateful-memes-af65c70c1b79.json')\n",
    "\n",
    "client = storage.Client(project='hateful-memes', credentials=credentials)"
   ]
  },
  {
   "cell_type": "code",
   "execution_count": 4,
   "metadata": {
    "colab": {},
    "colab_type": "code",
    "id": "3cjmD1w-718p"
   },
   "outputs": [],
   "source": [
    "num_examples_per_tfrecordfile = params['examples_per_file'] # 850 #this will not change"
   ]
  },
  {
   "cell_type": "code",
   "execution_count": 5,
   "metadata": {
    "colab": {},
    "colab_type": "code",
    "id": "BMUqKpKY718s"
   },
   "outputs": [],
   "source": [
    "bucket = 'jh_hateful_memes'\n",
    "client = storage.Client(project='hateful-memes', credentials=credentials)\n",
    "objects = client.list_blobs(bucket, prefix='hatefulmemes_')\n",
    "tfrecords = []\n",
    "for object_ in objects:\n",
    "    path = str(object_).split(', ')[1]\n",
    "    gs_path = os.path.join('gs://', bucket, path)\n",
    "    tfrecords.append(gs_path) #gs_path"
   ]
  },
  {
   "cell_type": "code",
   "execution_count": 6,
   "metadata": {
    "colab": {},
    "colab_type": "code",
    "id": "CogGhHQB718u"
   },
   "outputs": [],
   "source": [
    "# tfrecords"
   ]
  },
  {
   "cell_type": "code",
   "execution_count": 7,
   "metadata": {
    "colab": {
     "base_uri": "https://localhost:8080/",
     "height": 768
    },
    "colab_type": "code",
    "id": "VdrBIeYx718x",
    "outputId": "08a34c72-ba9a-481d-fba2-d770ea5eb091"
   },
   "outputs": [
    {
     "name": "stdout",
     "output_type": "stream",
     "text": [
      "Running on TPU  grpc://10.81.89.242:8470\n",
      "INFO:tensorflow:Initializing the TPU system: grpc://10.81.89.242:8470\n"
     ]
    },
    {
     "name": "stderr",
     "output_type": "stream",
     "text": [
      "INFO:tensorflow:Initializing the TPU system: grpc://10.81.89.242:8470\n"
     ]
    },
    {
     "name": "stdout",
     "output_type": "stream",
     "text": [
      "INFO:tensorflow:Clearing out eager caches\n"
     ]
    },
    {
     "name": "stderr",
     "output_type": "stream",
     "text": [
      "INFO:tensorflow:Clearing out eager caches\n"
     ]
    },
    {
     "name": "stdout",
     "output_type": "stream",
     "text": [
      "INFO:tensorflow:Finished initializing TPU system.\n"
     ]
    },
    {
     "name": "stderr",
     "output_type": "stream",
     "text": [
      "INFO:tensorflow:Finished initializing TPU system.\n",
      "WARNING:absl:`tf.distribute.experimental.TPUStrategy` is deprecated, please use  the non experimental symbol `tf.distribute.TPUStrategy` instead.\n"
     ]
    },
    {
     "name": "stdout",
     "output_type": "stream",
     "text": [
      "INFO:tensorflow:Found TPU system:\n"
     ]
    },
    {
     "name": "stderr",
     "output_type": "stream",
     "text": [
      "INFO:tensorflow:Found TPU system:\n"
     ]
    },
    {
     "name": "stdout",
     "output_type": "stream",
     "text": [
      "INFO:tensorflow:*** Num TPU Cores: 8\n"
     ]
    },
    {
     "name": "stderr",
     "output_type": "stream",
     "text": [
      "INFO:tensorflow:*** Num TPU Cores: 8\n"
     ]
    },
    {
     "name": "stdout",
     "output_type": "stream",
     "text": [
      "INFO:tensorflow:*** Num TPU Workers: 1\n"
     ]
    },
    {
     "name": "stderr",
     "output_type": "stream",
     "text": [
      "INFO:tensorflow:*** Num TPU Workers: 1\n"
     ]
    },
    {
     "name": "stdout",
     "output_type": "stream",
     "text": [
      "INFO:tensorflow:*** Num TPU Cores Per Worker: 8\n"
     ]
    },
    {
     "name": "stderr",
     "output_type": "stream",
     "text": [
      "INFO:tensorflow:*** Num TPU Cores Per Worker: 8\n"
     ]
    },
    {
     "name": "stdout",
     "output_type": "stream",
     "text": [
      "INFO:tensorflow:*** Available Device: _DeviceAttributes(/job:localhost/replica:0/task:0/device:CPU:0, CPU, 0, 0)\n"
     ]
    },
    {
     "name": "stderr",
     "output_type": "stream",
     "text": [
      "INFO:tensorflow:*** Available Device: _DeviceAttributes(/job:localhost/replica:0/task:0/device:CPU:0, CPU, 0, 0)\n"
     ]
    },
    {
     "name": "stdout",
     "output_type": "stream",
     "text": [
      "INFO:tensorflow:*** Available Device: _DeviceAttributes(/job:localhost/replica:0/task:0/device:XLA_CPU:0, XLA_CPU, 0, 0)\n"
     ]
    },
    {
     "name": "stderr",
     "output_type": "stream",
     "text": [
      "INFO:tensorflow:*** Available Device: _DeviceAttributes(/job:localhost/replica:0/task:0/device:XLA_CPU:0, XLA_CPU, 0, 0)\n"
     ]
    },
    {
     "name": "stdout",
     "output_type": "stream",
     "text": [
      "INFO:tensorflow:*** Available Device: _DeviceAttributes(/job:worker/replica:0/task:0/device:CPU:0, CPU, 0, 0)\n"
     ]
    },
    {
     "name": "stderr",
     "output_type": "stream",
     "text": [
      "INFO:tensorflow:*** Available Device: _DeviceAttributes(/job:worker/replica:0/task:0/device:CPU:0, CPU, 0, 0)\n"
     ]
    },
    {
     "name": "stdout",
     "output_type": "stream",
     "text": [
      "INFO:tensorflow:*** Available Device: _DeviceAttributes(/job:worker/replica:0/task:0/device:TPU:0, TPU, 0, 0)\n"
     ]
    },
    {
     "name": "stderr",
     "output_type": "stream",
     "text": [
      "INFO:tensorflow:*** Available Device: _DeviceAttributes(/job:worker/replica:0/task:0/device:TPU:0, TPU, 0, 0)\n"
     ]
    },
    {
     "name": "stdout",
     "output_type": "stream",
     "text": [
      "INFO:tensorflow:*** Available Device: _DeviceAttributes(/job:worker/replica:0/task:0/device:TPU:1, TPU, 0, 0)\n"
     ]
    },
    {
     "name": "stderr",
     "output_type": "stream",
     "text": [
      "INFO:tensorflow:*** Available Device: _DeviceAttributes(/job:worker/replica:0/task:0/device:TPU:1, TPU, 0, 0)\n"
     ]
    },
    {
     "name": "stdout",
     "output_type": "stream",
     "text": [
      "INFO:tensorflow:*** Available Device: _DeviceAttributes(/job:worker/replica:0/task:0/device:TPU:2, TPU, 0, 0)\n"
     ]
    },
    {
     "name": "stderr",
     "output_type": "stream",
     "text": [
      "INFO:tensorflow:*** Available Device: _DeviceAttributes(/job:worker/replica:0/task:0/device:TPU:2, TPU, 0, 0)\n"
     ]
    },
    {
     "name": "stdout",
     "output_type": "stream",
     "text": [
      "INFO:tensorflow:*** Available Device: _DeviceAttributes(/job:worker/replica:0/task:0/device:TPU:3, TPU, 0, 0)\n"
     ]
    },
    {
     "name": "stderr",
     "output_type": "stream",
     "text": [
      "INFO:tensorflow:*** Available Device: _DeviceAttributes(/job:worker/replica:0/task:0/device:TPU:3, TPU, 0, 0)\n"
     ]
    },
    {
     "name": "stdout",
     "output_type": "stream",
     "text": [
      "INFO:tensorflow:*** Available Device: _DeviceAttributes(/job:worker/replica:0/task:0/device:TPU:4, TPU, 0, 0)\n"
     ]
    },
    {
     "name": "stderr",
     "output_type": "stream",
     "text": [
      "INFO:tensorflow:*** Available Device: _DeviceAttributes(/job:worker/replica:0/task:0/device:TPU:4, TPU, 0, 0)\n"
     ]
    },
    {
     "name": "stdout",
     "output_type": "stream",
     "text": [
      "INFO:tensorflow:*** Available Device: _DeviceAttributes(/job:worker/replica:0/task:0/device:TPU:5, TPU, 0, 0)\n"
     ]
    },
    {
     "name": "stderr",
     "output_type": "stream",
     "text": [
      "INFO:tensorflow:*** Available Device: _DeviceAttributes(/job:worker/replica:0/task:0/device:TPU:5, TPU, 0, 0)\n"
     ]
    },
    {
     "name": "stdout",
     "output_type": "stream",
     "text": [
      "INFO:tensorflow:*** Available Device: _DeviceAttributes(/job:worker/replica:0/task:0/device:TPU:6, TPU, 0, 0)\n"
     ]
    },
    {
     "name": "stderr",
     "output_type": "stream",
     "text": [
      "INFO:tensorflow:*** Available Device: _DeviceAttributes(/job:worker/replica:0/task:0/device:TPU:6, TPU, 0, 0)\n"
     ]
    },
    {
     "name": "stdout",
     "output_type": "stream",
     "text": [
      "INFO:tensorflow:*** Available Device: _DeviceAttributes(/job:worker/replica:0/task:0/device:TPU:7, TPU, 0, 0)\n"
     ]
    },
    {
     "name": "stderr",
     "output_type": "stream",
     "text": [
      "INFO:tensorflow:*** Available Device: _DeviceAttributes(/job:worker/replica:0/task:0/device:TPU:7, TPU, 0, 0)\n"
     ]
    },
    {
     "name": "stdout",
     "output_type": "stream",
     "text": [
      "INFO:tensorflow:*** Available Device: _DeviceAttributes(/job:worker/replica:0/task:0/device:TPU_SYSTEM:0, TPU_SYSTEM, 0, 0)\n"
     ]
    },
    {
     "name": "stderr",
     "output_type": "stream",
     "text": [
      "INFO:tensorflow:*** Available Device: _DeviceAttributes(/job:worker/replica:0/task:0/device:TPU_SYSTEM:0, TPU_SYSTEM, 0, 0)\n"
     ]
    },
    {
     "name": "stdout",
     "output_type": "stream",
     "text": [
      "INFO:tensorflow:*** Available Device: _DeviceAttributes(/job:worker/replica:0/task:0/device:XLA_CPU:0, XLA_CPU, 0, 0)\n"
     ]
    },
    {
     "name": "stderr",
     "output_type": "stream",
     "text": [
      "INFO:tensorflow:*** Available Device: _DeviceAttributes(/job:worker/replica:0/task:0/device:XLA_CPU:0, XLA_CPU, 0, 0)\n"
     ]
    },
    {
     "name": "stdout",
     "output_type": "stream",
     "text": [
      "REPLICAS:  8\n"
     ]
    }
   ],
   "source": [
    "try:\n",
    "    # TPU detection. No parameters necessary if TPU_NAME environment variable is\n",
    "    # set: this is always the case on Kaggle.\n",
    "    tpu = tf.distribute.cluster_resolver.TPUClusterResolver()\n",
    "    print('Running on TPU ', tpu.master())\n",
    "except ValueError:\n",
    "    tpu = None\n",
    "\n",
    "if tpu:\n",
    "    tf.config.experimental_connect_to_cluster(tpu)\n",
    "    tf.tpu.experimental.initialize_tpu_system(tpu)\n",
    "    strategy = tf.distribute.experimental.TPUStrategy(tpu)\n",
    "else:\n",
    "    # Default distribution strategy in Tensorflow. Works on CPU and single GPU.\n",
    "    strategy = tf.distribute.get_strategy()\n",
    "\n",
    "print(\"REPLICAS: \", strategy.num_replicas_in_sync)"
   ]
  },
  {
   "cell_type": "code",
   "execution_count": 8,
   "metadata": {
    "colab": {},
    "colab_type": "code",
    "id": "rm40cYA_718y"
   },
   "outputs": [],
   "source": [
    "def decode_example_train(example):\n",
    "    '''\n",
    "    decodes single tfexample from TFrecord file\n",
    "    '''\n",
    "    features = {'label': tf.io.FixedLenFeature([], tf.int64),\n",
    "                'text': tf.io.FixedLenFeature([], tf.string),\n",
    "                'text_lemma': tf.io.FixedLenFeature([], tf.string),\n",
    "                'text_lemma_no_stopwords': tf.io.FixedLenFeature([], tf.string),\n",
    "                'text_no_stopwords':tf.io.FixedLenFeature([], tf.string),\n",
    "                'image': tf.io.FixedLenFeature([], tf.string)}\n",
    "    single_example = tf.io.parse_single_example(example, features)\n",
    "    \n",
    "    text = tf.io.parse_tensor(single_example['text'], out_type=tf.int32)\n",
    "    textL = tf.io.parse_tensor(single_example['text_lemma'], out_type=tf.int32)\n",
    "    # text = tf.cast(text, tf.float32) \n",
    "    image = tf.io.decode_jpeg(single_example['image'], 3)\n",
    "    image = tf.image.resize_with_pad(image, *params['image_size'])\n",
    "    image = image / 127.5\n",
    "    image = image -1\n",
    "    label = single_example['label']\n",
    "    # label = tf.cast(label, tf.float32)\n",
    "    return text, image, label\n",
    "\n",
    "def decode_example_test(example):\n",
    "    '''\n",
    "    decodes single tfexample from TFrecord file\n",
    "    '''\n",
    "    features = {'id': tf.io.FixedLenFeature([], tf.int64),\n",
    "                'text': tf.io.FixedLenFeature([], tf.string),\n",
    "                'text_lemma': tf.io.FixedLenFeature([], tf.string),\n",
    "                'text_lemma_no_stopwords': tf.io.FixedLenFeature([], tf.string),\n",
    "                'text_no_stopwords':tf.io.FixedLenFeature([], tf.string),\n",
    "                'image': tf.io.FixedLenFeature([], tf.string)}\n",
    "    single_example = tf.io.parse_single_example(example, features)\n",
    "    \n",
    "    text = tf.io.parse_tensor(single_example['text'], out_type=tf.int32)\n",
    "    textL = tf.io.parse_tensor(single_example['text_lemma'], out_type=tf.int32)\n",
    "    # text = tf.cast(text, tf.float32) \n",
    "    image = tf.io.decode_jpeg(single_example['image'], 3)\n",
    "    image = tf.image.resize_with_pad(image, *params['image_size'])\n",
    "    image = image / 127.5\n",
    "    image = image -1\n",
    "    label = single_example['id']\n",
    "    # label = tf.cast(label, tf.float32)\n",
    "    return text, image, label\n",
    "\n",
    "def flip_image(text, image, label): \n",
    "    '''\n",
    "    randombly flips image input\n",
    "    \n",
    "    args:\n",
    "        text: text output in ds\n",
    "        image: image output in ds\n",
    "        label: label output in ds (can also be id)\n",
    "    returns:\n",
    "        text, image, label\n",
    "        args will be otherwise unchanged\n",
    "    '''\n",
    "    \n",
    "    image = tf.image.random_flip_left_right(image)\n",
    "\n",
    "    return text, image, label\n",
    "\n",
    "\n",
    "def convert_xy(text, image, label): #needs to be called last\n",
    "    '''\n",
    "    transforms ds output from text, image, label -> (text, image), label\n",
    "    \n",
    "    args:\n",
    "        text: text output in ds\n",
    "        image: image output in ds\n",
    "        label: label output in ds (can also be id)\n",
    "    returns:\n",
    "        (text, image), label\n",
    "        args will be otherwise unchanged\n",
    "    '''\n",
    "    return (text, image), label\n",
    "    \n",
    "    "
   ]
  },
  {
   "cell_type": "code",
   "execution_count": 9,
   "metadata": {
    "colab": {},
    "colab_type": "code",
    "id": "PZ0dHSjt7180"
   },
   "outputs": [],
   "source": [
    "def create_ds(files, params, train=True, test_examples=1000):\n",
    "    '''\n",
    "    function to create dataset for training/validation\n",
    "    \n",
    "    args:\n",
    "        files: list of str, filepaths of TFrecord files to be used in DS\n",
    "        params: dict with the following keys:\n",
    "            batch_size: int, batch size of training/validation step\n",
    "            examples_per_file: int, number of examples in each TFrecord file\n",
    "        train, bool, default True, indicator if the DS is for training\n",
    "        test_examples, int: default 1000 number of examples in test dataset\n",
    "    returns:\n",
    "        ds: tensorflow input pipeline with images, text and labels\n",
    "            output of ds is: (text, image), label\n",
    "        ds_batches: int, number of steps in each epoch based on the batch_size\n",
    "    '''\n",
    "    file_size = params['examples_per_file'] \n",
    "    batch_size = file_size * len(files)\n",
    "\n",
    "    ds = tf.data.TFRecordDataset(filenames = files)\n",
    "    if train:\n",
    "        ds = ds.map(decode_example_train, \n",
    "                    num_parallel_calls=tf.data.experimental.AUTOTUNE)\n",
    "        ds = ds.map(flip_image, num_parallel_calls=tf.data.experimental.AUTOTUNE)\n",
    "    else:\n",
    "        ds = ds.map(decode_example_test)\n",
    "    ds = ds.map(convert_xy, num_parallel_calls=tf.data.experimental.AUTOTUNE)\n",
    "    if train:\n",
    "        ds = ds.batch(batch_size, drop_remainder=True)\n",
    "    else:\n",
    "        ds = ds.batch(test_examples)\n",
    "    ds = ds.cache() \n",
    "    \n",
    "    ds_batches = 10 #(len(files) * file_size) // batch_size\n",
    "    return ds, ds_batches\n",
    "    \n",
    "    "
   ]
  },
  {
   "cell_type": "code",
   "execution_count": 10,
   "metadata": {
    "colab": {},
    "colab_type": "code",
    "id": "pG08Jw4NRl5O"
   },
   "outputs": [],
   "source": [
    "def download_file(client, bucket, file_name):\n",
    "    '''\n",
    "    downloads a file from a GCS bucket into working directory\n",
    "\n",
    "    args:\n",
    "        client: google.cloud.storage.Client object\n",
    "        bucket: str, name of bucket to download file from\n",
    "        file_name: str, file name to download\n",
    "    returns: None\n",
    "    \n",
    "    '''\n",
    "    _bucket = client.bucket(bucket)\n",
    "    blob = _bucket.blob(file_name)\n",
    "    blob.download_to_filename(file_name)"
   ]
  },
  {
   "cell_type": "code",
   "execution_count": 11,
   "metadata": {
    "colab": {},
    "colab_type": "code",
    "id": "EMCXQxNEMMx0"
   },
   "outputs": [],
   "source": [
    "def get_object_detection_model(params):\n",
    "    '''\n",
    "    downloads pretained object detection model from tf zoo \n",
    "    and creates model instance\n",
    "    \n",
    "    args:\n",
    "        params: dict with the following keys:\n",
    "            object_detection_url: str, url of model in model zoo:\n",
    "    (https://github.com/tensorflow/models/blob/master/research/object_detection/g3doc/tf2_detection_zoo.md)\n",
    "    \n",
    "    returns:\n",
    "        pretrained object detection model\n",
    "    '''\n",
    "    url = params['object_detection_url']\n",
    "    model_name = url.split('.tar.')[0].split('/')[-1]\n",
    "    local_model_location = tf.keras.utils.get_file(fname=model_name,\n",
    "                                                  origin=url,\n",
    "                                                  untar=True)\n",
    "    model_path = os.path.join(local_model_location, 'saved_model')\n",
    "    model = hub.load(model_path)\n",
    "    model = model.signatures['serving_default']\n",
    "    return model\n",
    "\n",
    "def decode_single_object_detection(predictions, idx, threshold, max_objects):\n",
    "    '''\n",
    "    decodes a single prediction of all object classes in the prediction\n",
    "    \n",
    "    args:\n",
    "        predictions: dictionary, prediction dictionary\n",
    "            must have following keys:\n",
    "            detection_classes: tensor of detection classes\n",
    "            detection_scores: tensor of confidence of each detected object\n",
    "        idx: int, the index of the predictions dictionary that is being decoded\n",
    "        threshold: float, between 0 - 1, minimum confidence of detected objects\n",
    "            to be included in list of objects detected\n",
    "        max_objects: int, maximum number of objects to be included in prediction\n",
    "            if there are less predicted objects above threshold, returned list will\n",
    "            be zero padded\n",
    "            \n",
    "    returns:\n",
    "        array of classes of objects being predicted\n",
    "    '''\n",
    "    classes = predictions['detection_classes'][idx]\n",
    "    confidences = predictions['detection_scores'][idx]\n",
    "    predicted_classes = []\n",
    "    for indx in range(len(confidences)):\n",
    "        if confidences[indx] < threshold:\n",
    "            break\n",
    "        predicted_classes.append(int(classes[indx].numpy()))\n",
    "    return sequence.pad_sequences([predicted_classes], maxlen=max_objects)[0].tolist()\n",
    "\n",
    "\n",
    "\n",
    "def make_object_detectionDS(params, images, model):\n",
    "    '''\n",
    "    converts a batch of images to a batch of predicted classes of objects\n",
    "    \n",
    "    args:\n",
    "        params: dictionary with following keys:\n",
    "            object_det_thres: float, minimum confidence of detected objects\n",
    "            to be included in list of objects detected, must be between 0 - 1\n",
    "            object_det_len: int, maximum number of objects to be included in \n",
    "            prediction if there are less predicted objects above threshold, \n",
    "            returned tensor will be zero padded\n",
    "        images tensor, batch of images to get predicted classes of objects\n",
    "            for\n",
    "        model: pre-trained object detection model\n",
    "    \n",
    "    returns: tensor shapped [bs, params['object_det_len']], output of model\n",
    "        of predicted classes each image contains, zero-padded so that each\n",
    "        image prediction has a len of params['object_det_len'], and predictions\n",
    "        under params['object_det_thres'] are filtered out\n",
    "    '''\n",
    "    thres = params['object_det_thres']\n",
    "    maxlen = params['object_det_len']\n",
    "    model_output = model(images)\n",
    "    predictions = []\n",
    "    for idx in range(len(images)):\n",
    "        single_image_output = decode_single_object_detection(model_output, idx,\n",
    "                                                            thres, maxlen)\n",
    "        predictions.append(single_image_output)\n",
    "    predictions = tf.convert_to_tensor(predictions)\n",
    "    return predictions\n",
    "\n",
    "def transform_normalized_uint8(data):\n",
    "    '''\n",
    "    transforms a tensor normalized (0 - 1) to dtype uint8\n",
    "    \n",
    "    args:\n",
    "        data: tensor, data to be transformed\n",
    "        \n",
    "    returns:\n",
    "        tensor of data in dtype of unit8 and no longer normalized\n",
    "    '''\n",
    "    data *= 255\n",
    "    data = tf.cast(data, tf.uint8)\n",
    "    return data\n",
    "    "
   ]
  },
  {
   "cell_type": "code",
   "execution_count": 12,
   "metadata": {
    "colab": {},
    "colab_type": "code",
    "id": "V6RbH_oRmjUU"
   },
   "outputs": [],
   "source": [
    "def pair_separableConv1D(x, \n",
    "                         filters, kernal_size, act, first_reg, sec_reg,\n",
    "                        maxpooling_poolsize):\n",
    "    '''\n",
    "    function to add the following layers to a Keras Functional model:\n",
    "        layers.SeparableConv1D\n",
    "        layers.SeparableConv1D\n",
    "        layers.MaxPooling1D\n",
    "    \n",
    "    args:\n",
    "        x: keras input layer, or series of layers that can be traced to input layer\n",
    "        kernal_size: int, kernal size for SeparableConv1D layers\n",
    "        act: str, activation for SeparableConv1D layers\n",
    "        first_reg, keras regularizer to pass into 1st conv layer\n",
    "        sec_reg, keras regularizer to pass into 2nd conv layer\n",
    "        maxpooling_poolsize: int, poolsize for maxpooling layer\n",
    "    \n",
    "    returns:\n",
    "        x: x that was input into fn with above layers added\n",
    "    '''\n",
    "    x = layers.SeparableConv1D(filters=filters, kernel_size=kernal_size, \n",
    "                              activation=act, padding='same',\n",
    "                              kernel_regularizer=first_reg)(x)\n",
    "    x = layers.SeparableConv1D(filters=filters, kernel_size=kernal_size, \n",
    "                              activation=act, padding='same',\n",
    "                              kernel_regularizer=sec_reg)(x)\n",
    "    x = layers.MaxPooling1D(pool_size=maxpooling_poolsize, padding='same')(x)\n",
    "    x = layers.BatchNormalization()(x)\n",
    "    return x"
   ]
  },
  {
   "cell_type": "code",
   "execution_count": 13,
   "metadata": {
    "colab": {},
    "colab_type": "code",
    "id": "Z7nJDhlumjUX"
   },
   "outputs": [],
   "source": [
    "def conv2dset(x, \n",
    "              conv_filter, kernel, regularizer=None, \n",
    "              maxpooling_poolsize=2, \n",
    "              conv_act=None, \n",
    "              dense_units=None, dense_act=None):\n",
    "    '''\n",
    "    function to add the following layers to a Keras Functional model:\n",
    "        layers.Conv2D\n",
    "        MaxPooling2D\n",
    "        Batchnormalization\n",
    "        (activation layer)\n",
    "        layers.Dense (if applicable)\n",
    "    \n",
    "    args:\n",
    "        x: keras input layer, or series of layers that can be traced to input layer\n",
    "        conv_filter: int, number of filters in Conv2D layer\n",
    "        kernel: int, kernel size in Conv2D layer\n",
    "        regularizer: keras.regularizers object, default: None, regularizer in \n",
    "            Conv2D layer\n",
    "        maxpooling_poolsize: int, default 2, poolsize for maxpooling layer\n",
    "        conv_act: keras layer (without the \"()\"), default None, activation\n",
    "            layer that will go after the batchnormalization layer\n",
    "        dense_units: int, default None, number of units in dense layer\n",
    "            if None, there will be no dense layer\n",
    "        dense_act: str, default None, activation in dense layer\n",
    "    \n",
    "    returns:\n",
    "        x: x that was input into fn with above layers added\n",
    "        \n",
    "    '''\n",
    "    x = layers.Conv2D(filters=conv_filter, kernel_size=kernel, padding='same', \n",
    "                      kernel_regularizer=regularizer)(x)\n",
    "    if maxpooling_poolsize:\n",
    "        x = layers.MaxPooling2D(maxpooling_poolsize)(x)\n",
    "    # x = layers.BatchNormalization()(x)\n",
    "    if conv_act:\n",
    "        x = conv_act()(x)\n",
    "    if dense_units:\n",
    "        x = layers.Dense(dense_units, activation=dense_act)(x)\n",
    "    \n",
    "    return x\n",
    "\n",
    "def convblock(x, conv_fn, filters, regularizer, conv_act, kernal=5):\n",
    "    '''\n",
    "    makes a block of convolution layers\n",
    "    \n",
    "    todo -- work on documentation \n",
    "    '''\n",
    "    count = 0\n",
    "    for _ in range(2):\n",
    "        for filter_ in filters:\n",
    "            count +=1\n",
    "            if count == 2:\n",
    "                x1 = conv_fn(x, filter_, kernal, regularizer, 2, conv_act,)\n",
    "                x = x1\n",
    "            else:\n",
    "                x = conv_fn(x, filter_, kernal, regularizer, None, conv_act)\n",
    "    x = layers.Add()([x, x1])\n",
    "    return x\n",
    "\n"
   ]
  },
  {
   "cell_type": "code",
   "execution_count": 14,
   "metadata": {
    "colab": {},
    "colab_type": "code",
    "id": "gWaYlXqzRl5X"
   },
   "outputs": [],
   "source": [
    "def get_image_captions(params, images):\n",
    "    '''\n",
    "    creates captions to a group of images\n",
    "    \n",
    "    args:\n",
    "        params: dictionary with at least the following keys:\n",
    "            caption_text_input_length: int, length of captions\n",
    "            tokenizer_start_index: int, value to signal start of caption\n",
    "            tokenizer_end_index: int, value to signal end of caption\n",
    "            \n",
    "        images: tensor, dtype: tf.float32 shaped (None, 299, 299, 3) None is the \n",
    "        number of images, each image should be normalized to have\n",
    "        pixel values of -1 to 1. Images to be captioned\n",
    "\n",
    "            \n",
    "    returns:\n",
    "        captions: tensor, dtype float, shaped \n",
    "        (None, params['caption_text_input_length'])None is the number of \n",
    "        images, image caption sequences\n",
    "    '''\n",
    "    num_images = len(images)\n",
    "    caption_len = params['caption_text_input_length']\n",
    "    caption_end_index = params['tokenizer_end_index']\n",
    "\n",
    "\n",
    "\n",
    "    \n",
    "    captions = list()\n",
    "    for image in range(num_images):\n",
    "        img = images[image]\n",
    "        img = tf.expand_dims(img, axis=0)\n",
    "        txt_input = np.zeros((caption_len))\n",
    "        result = params['tokenizer_start_index']\n",
    "        for idx in range(caption_len):\n",
    "            txt_input[idx] = result\n",
    "            # with tf.device('/TPU:0'):\n",
    "            #     result = caption_step(img, txt_input)\n",
    "                # result = strategy.run(caption_step, args=(img, txt_input))\n",
    "            result = get_capt(img, txt_input)\n",
    "            result = result.values[0].numpy()[0]\n",
    "            if result == caption_end_index:\n",
    "                break\n",
    "        captions.append(txt_input)\n",
    "    captions = tf.convert_to_tensor(captions)\n",
    "    return captions\n",
    "        \n",
    "@tf.function\n",
    "def get_capt(img, txt):\n",
    "    def caption_step(image_, text_):\n",
    "        '''\n",
    "        evaluate model here\n",
    "        '''\n",
    "        txt_ = tf.expand_dims(text_, axis=0)\n",
    "        pred = caption_model((image_, txt_))\n",
    "\n",
    "\n",
    "        return pred\n",
    "    result = strategy.run(caption_step, args=(img, txt))\n",
    "    return result\n",
    "    "
   ]
  },
  {
   "cell_type": "code",
   "execution_count": 169,
   "metadata": {
    "colab": {},
    "colab_type": "code",
    "id": "aHOtR_XA7182"
   },
   "outputs": [],
   "source": [
    "def create_model(params=params,\n",
    "                dense_nodes=100,\n",
    "                ltsm_units=128,\n",
    "                ltsm_dense_units=64):\n",
    "    '''\n",
    "    creates model with two inputs and out output\n",
    "\n",
    "        \n",
    "    '''\n",
    "    #set some fixed variables\n",
    "    text_input_shape = params['text_input']\n",
    "    vocab_size = params['vocab_size']\n",
    "    image_size = params['image_size']\n",
    "    object_maxlen = params['object_det_len']\n",
    "    caption_input_len = params['caption_text_input_length']\n",
    "    meme_text_len = params['meme_text_length']\n",
    "    caption_dim = params['caption_embedding_dim']\n",
    "    caption_vocab_size = params['caption_vocab_size']\n",
    "    \n",
    "    num_object_classes = 81\n",
    "\n",
    "    relu = layers.ReLU\n",
    "    leaky = layers.LeakyReLU\n",
    "    reg = keras.regularizers.l2(0.001,)\n",
    "    dense_act = 'tanh'\n",
    "    \n",
    "    #model inputs\n",
    "    input_text = layers.Input(text_input_shape, name='text_input')\n",
    "    embedding = layers.Embedding(input_dim=vocab_size, output_dim=64, \n",
    "                                 input_length=meme_text_len, mask_zero=True)(input_text)\n",
    "\n",
    "    \n",
    "    input_caption = layers.Input((caption_input_len,), name='caption_input')\n",
    "    embedding_caption = layers.Embedding(input_dim=caption_vocab_size, output_dim=caption_dim,\n",
    "                                         input_length=caption_input_len, mask_zero=True)(input_caption)\n",
    "    \n",
    "    #bidirectional LSTM - image captions\n",
    "    x_caption_bidir = embedding_caption\n",
    "    x_caption_bidir = layers.Bidirectional(layers.LSTM(ltsm_units))(x_caption_bidir)\n",
    "    # x_caption_bidir = layers.Dense(ltsm_dense_units, activation = 'relu')(x_caption_bidir)\n",
    "    x_caption_bidir_out = layers.Dense(dense_nodes, activation=dense_act,\n",
    "                                       name='bidirectional_caption_out')(x_caption_bidir)\n",
    "    x_caption_bidir_out = layers.LeakyReLU()(x_caption_bidir_out)\n",
    "    \n",
    "\n",
    "    \n",
    "\n",
    "\n",
    "    #bidirectional LSTM - original text\n",
    "    x_bidir = embedding\n",
    "    x_bidir = layers.Bidirectional(layers.LSTM(ltsm_units))(x_bidir)\n",
    "    # x_bidir = layers.Dense(ltsm_dense_units, activation = 'relu')(x_bidir)\n",
    "    x_bidir_out = layers.Dense(dense_nodes, activation=dense_act, name='bidirectional_out')(x_bidir)\n",
    "    x_bidir_out = layers.LeakyReLU()(x_bidir_out)\n",
    "\n",
    "    # #1D convolution - original text\n",
    "    # x_text = embedding\n",
    "    # x_text = pair_separableConv1D(x_text, 128, 4, 'relu', reg, None, 4)\n",
    "    # x_text = pair_separableConv1D(x_text, 128, 4, 'relu', None, None, 4)\n",
    "    # x_text = layers.Flatten()(x_text)\n",
    "    # # x_text = layers.Dense(dense_nodes, activation='tanh',kernel_regularizer=reg)(x_text)\n",
    "    # output_layer_text = layers.Dense(dense_nodes, activation='sigmoid', name='text_output')(x_text)\n",
    "\n",
    "    # #1D convolution - caption text\n",
    "    # x_text_caption = embedding_caption\n",
    "    # x_text_caption = pair_separableConv1D(x_text_caption, 128, 4, 'relu', reg, None, 4)\n",
    "    # x_text_caption = pair_separableConv1D(x_text_caption, 128, 4, 'relu', None, None, 4)\n",
    "    # x_text_caption = layers.Flatten()(x_text_caption)\n",
    "    # # x_text_caption = layers.Dense(dense_nodes, activation='tanh',kernel_regularizer=reg)(x_text_caption)\n",
    "    # x_caption_bidir_out_conv = layers.Dense(dense_nodes, activation='sigmoid', name='text_output_caption')(x_text_caption)\n",
    "\n",
    "    \n",
    "    \n",
    "    text_outputs = layers.Concatenate()([x_caption_bidir_out, x_bidir_out, ]) # Concatenate\n",
    "#     text_outputs = layers.Dense(dense_nodes)(text_outputs)\n",
    "    \n",
    "\n",
    "    x = text_outputs\n",
    "    \n",
    "    # x = layers.Reshape(( 2, dense_nodes))(x)\n",
    "    # x = layers.LSTM(64)(x)\n",
    "    x = layers.Dense(dense_nodes, activation=dense_act)(x)\n",
    "    # x = layers.LeakyReLU()(x)\n",
    "    # x = layers.Flatten()(x)\n",
    "    #consider adding an intrum dense layer here\n",
    "    final_output = layers.Dense(1, activation='sigmoid', name='final_out')(x)\n",
    "    \n",
    "\n",
    "    \n",
    "    model = keras.Model([input_caption, input_text], final_output) #input_image\n",
    "    metrics = [\n",
    "          keras.metrics.TruePositives(name='tp'),\n",
    "    #           keras.metrics.FalsePositives(name='fp'),\n",
    "    #           keras.metrics.TrueNegatives(name='tn'),\n",
    "          keras.metrics.FalseNegatives(name='fn'), \n",
    "          keras.metrics.BinaryAccuracy(name='accuracy'),\n",
    "    #           keras.metrics.Precision(name='precision'),\n",
    "    #           keras.metrics.Recall(name='recall'),\n",
    "          keras.metrics.AUC(name='auc'),\n",
    "    ]\n",
    "    schedule = tf.keras.optimizers.schedules.ExponentialDecay(0.0003, 10 *3, 0.75)\n",
    "    model.compile(\n",
    "    optimizer=tf.keras.optimizers.Adam(schedule),\n",
    "    loss = tf.keras.losses.BinaryCrossentropy(label_smoothing = 0.01),\n",
    "    metrics=metrics)\n",
    "    \n",
    "    return model\n",
    "    \n",
    "#\n",
    "def get_caption_model(params, client, bucket):\n",
    "    '''\n",
    "    creates pretrained image caption model\n",
    "    '''\n",
    "    \n",
    "    txt_input_length = params['caption_text_input_length']\n",
    "    model_num = params['caption_model_version']\n",
    "    model_path = 'image_caption_model_v{}.h5'.format(model_num)\n",
    "    if not os.path.isfile(model_path):\n",
    "        download_file(client, bucket,model_path)\n",
    "    \n",
    "    img_inp = layers.Input((*params['image_size'], 3), name='image_input')\n",
    "    inception = tf.keras.applications.InceptionV3(include_top=False, \n",
    "                                                  input_shape=(*params['image_size'], 3))\n",
    "    img_x = inception(img_inp)\n",
    "    img_x = layers.Reshape((64, 2048))(img_x)\n",
    "    \n",
    "    \n",
    "    txt_inp = layers.Input((txt_input_length,), name='text_input')\n",
    "    txt_x = txt_inp\n",
    "    \n",
    "    caption_model = tf.keras.models.load_model(model_path)\n",
    "    out = caption_model((img_x, txt_x))\n",
    "    out = tf.argmax(out, axis=-1, name='model_prediction')\n",
    "    \n",
    "    model = keras.Model([img_inp, txt_inp], out)\n",
    "    for layer in model.layers:\n",
    "        layer.trainable = False\n",
    "    return model\n",
    "    \n",
    "    \n",
    "\n"
   ]
  },
  {
   "cell_type": "code",
   "execution_count": 170,
   "metadata": {
    "colab": {},
    "colab_type": "code",
    "id": "_tHu8tJA7184"
   },
   "outputs": [],
   "source": [
    "train_files, valid_files = train_test_split(tfrecords,\n",
    "                              test_size=.2, random_state=1)\n"
   ]
  },
  {
   "cell_type": "code",
   "execution_count": 171,
   "metadata": {
    "colab": {},
    "colab_type": "code",
    "id": "alJt8bQV7185"
   },
   "outputs": [],
   "source": [
    "train_ds, train_steps = create_ds(train_files, params)\n",
    "valid_ds, valid_steps = create_ds(valid_files, params)"
   ]
  },
  {
   "cell_type": "code",
   "execution_count": 172,
   "metadata": {
    "colab": {
     "base_uri": "https://localhost:8080/",
     "height": 612
    },
    "colab_type": "code",
    "id": "S25BV5he7187",
    "outputId": "38ea40bd-821b-46a8-fb77-49c077b20d87"
   },
   "outputs": [
    {
     "name": "stdout",
     "output_type": "stream",
     "text": [
      "Model: \"functional_48\"\n",
      "__________________________________________________________________________________________________\n",
      "Layer (type)                    Output Shape         Param #     Connected to                     \n",
      "==================================================================================================\n",
      "caption_input (InputLayer)      [(None, 49)]         0                                            \n",
      "__________________________________________________________________________________________________\n",
      "text_input (InputLayer)         [(None, 58)]         0                                            \n",
      "__________________________________________________________________________________________________\n",
      "embedding_47 (Embedding)        (None, 49, 300)      3000000     caption_input[0][0]              \n",
      "__________________________________________________________________________________________________\n",
      "embedding_46 (Embedding)        (None, 58, 64)       1920000     text_input[0][0]                 \n",
      "__________________________________________________________________________________________________\n",
      "bidirectional_36 (Bidirectional (None, 256)          439296      embedding_47[0][0]               \n",
      "__________________________________________________________________________________________________\n",
      "bidirectional_37 (Bidirectional (None, 256)          197632      embedding_46[0][0]               \n",
      "__________________________________________________________________________________________________\n",
      "bidirectional_caption_out (Dens (None, 100)          25700       bidirectional_36[0][0]           \n",
      "__________________________________________________________________________________________________\n",
      "bidirectional_out (Dense)       (None, 100)          25700       bidirectional_37[0][0]           \n",
      "__________________________________________________________________________________________________\n",
      "leaky_re_lu_18 (LeakyReLU)      (None, 100)          0           bidirectional_caption_out[0][0]  \n",
      "__________________________________________________________________________________________________\n",
      "leaky_re_lu_19 (LeakyReLU)      (None, 100)          0           bidirectional_out[0][0]          \n",
      "__________________________________________________________________________________________________\n",
      "concatenate_23 (Concatenate)    (None, 200)          0           leaky_re_lu_18[0][0]             \n",
      "                                                                 leaky_re_lu_19[0][0]             \n",
      "__________________________________________________________________________________________________\n",
      "dense_30 (Dense)                (None, 100)          20100       concatenate_23[0][0]             \n",
      "__________________________________________________________________________________________________\n",
      "final_out (Dense)               (None, 1)            101         dense_30[0][0]                   \n",
      "==================================================================================================\n",
      "Total params: 5,628,529\n",
      "Trainable params: 5,628,529\n",
      "Non-trainable params: 0\n",
      "__________________________________________________________________________________________________\n"
     ]
    }
   ],
   "source": [
    "tf.random.set_seed(1)\n",
    "np.random.seed(1)\n",
    "with strategy.scope():\n",
    "    model = create_model()\n",
    "    model.summary()\n",
    "    # caption_model = get_caption_model(params, client, 'jh_hateful_memes')"
   ]
  },
  {
   "cell_type": "code",
   "execution_count": 173,
   "metadata": {
    "colab": {},
    "colab_type": "code",
    "id": "dbYqcMyy718-"
   },
   "outputs": [],
   "source": [
    "# for train_data, train_groundTruth in train_ds:\n",
    "#     for valid_data, valid_groundTruth in valid_ds:\n",
    "#         train_text, train_images = train_data\n",
    "#         train_groundtruth = train_groundTruth\n",
    "#         train_captions = get_image_captions(params, train_images)\n",
    "#         train_DATA = (train_captions, train_text)\n",
    "        \n",
    "        \n",
    "#         valid_text, valid_images  = valid_data\n",
    "#         valid_groundtruth = valid_groundTruth\n",
    "#         valid_captions = get_image_captions(params, valid_images)\n",
    "#         valid_DATA = (valid_captions, valid_text)\n",
    "        \n",
    "#         break\n",
    "\n",
    " "
   ]
  },
  {
   "cell_type": "code",
   "execution_count": 174,
   "metadata": {
    "colab": {
     "base_uri": "https://localhost:8080/",
     "height": 1000
    },
    "colab_type": "code",
    "id": "7YF1k0iYgmFD",
    "outputId": "67903bfe-266b-46f8-9240-5da91cd84cf3"
   },
   "outputs": [
    {
     "name": "stdout",
     "output_type": "stream",
     "text": [
      "Epoch 1/250\n",
      " 1/25 [>.............................] - ETA: 0s - loss: 0.6984 - tp: 33.0000 - fn: 68.0000 - accuracy: 0.5809 - auc: 0.5078WARNING:tensorflow:Callbacks method `on_train_batch_end` is slow compared to the batch time (batch time: 0.0029s vs `on_train_batch_end` time: 0.0402s). Check your callbacks.\n"
     ]
    },
    {
     "name": "stderr",
     "output_type": "stream",
     "text": [
      "WARNING:tensorflow:Callbacks method `on_train_batch_end` is slow compared to the batch time (batch time: 0.0029s vs `on_train_batch_end` time: 0.0402s). Check your callbacks.\n"
     ]
    },
    {
     "name": "stdout",
     "output_type": "stream",
     "text": [
      "25/25 [==============================] - ETA: 0s - loss: 0.6954 - tp: 1196.0000 - fn: 1276.0000 - accuracy: 0.5065 - auc: 0.5019WARNING:tensorflow:Callbacks method `on_test_batch_end` is slow compared to the batch time (batch time: 0.0020s vs `on_test_batch_end` time: 0.0253s). Check your callbacks.\n"
     ]
    },
    {
     "name": "stderr",
     "output_type": "stream",
     "text": [
      "WARNING:tensorflow:Callbacks method `on_test_batch_end` is slow compared to the batch time (batch time: 0.0020s vs `on_test_batch_end` time: 0.0253s). Check your callbacks.\n"
     ]
    },
    {
     "name": "stdout",
     "output_type": "stream",
     "text": [
      "25/25 [==============================] - 9s 348ms/step - loss: 0.6954 - tp: 1196.0000 - fn: 1276.0000 - accuracy: 0.5065 - auc: 0.5019 - val_loss: 0.7072 - val_tp: 578.0000 - val_fn: 0.0000e+00 - val_accuracy: 0.3400 - val_auc: 0.5608\n",
      "Epoch 2/250\n",
      "25/25 [==============================] - 2s 71ms/step - loss: 0.6902 - tp: 2320.0000 - fn: 152.0000 - accuracy: 0.4278 - auc: 0.6439 - val_loss: 0.6938 - val_tp: 443.0000 - val_fn: 135.0000 - val_accuracy: 0.4924 - val_auc: 0.6109\n",
      "Epoch 3/250\n",
      "25/25 [==============================] - 2s 68ms/step - loss: 0.6585 - tp: 1725.0000 - fn: 747.0000 - accuracy: 0.6350 - auc: 0.7048 - val_loss: 0.6466 - val_tp: 244.0000 - val_fn: 334.0000 - val_accuracy: 0.6465 - val_auc: 0.6309\n",
      "Epoch 4/250\n",
      "25/25 [==============================] - 2s 69ms/step - loss: 0.5771 - tp: 1594.0000 - fn: 878.0000 - accuracy: 0.7351 - auc: 0.7946 - val_loss: 0.6911 - val_tp: 332.0000 - val_fn: 246.0000 - val_accuracy: 0.5982 - val_auc: 0.6419\n",
      "Epoch 5/250\n",
      "25/25 [==============================] - 2s 63ms/step - loss: 0.5103 - tp: 1830.0000 - fn: 642.0000 - accuracy: 0.7684 - auc: 0.8423 - val_loss: 0.7033 - val_tp: 307.0000 - val_fn: 271.0000 - val_accuracy: 0.6129 - val_auc: 0.6388\n",
      "Epoch 6/250\n",
      "25/25 [==============================] - 2s 70ms/step - loss: 0.4689 - tp: 1926.0000 - fn: 546.0000 - accuracy: 0.7915 - auc: 0.8704 - val_loss: 0.7210 - val_tp: 313.0000 - val_fn: 265.0000 - val_accuracy: 0.6147 - val_auc: 0.6450\n",
      "Epoch 7/250\n",
      "25/25 [==============================] - 2s 63ms/step - loss: 0.4397 - tp: 1951.0000 - fn: 521.0000 - accuracy: 0.8065 - auc: 0.8871 - val_loss: 0.7390 - val_tp: 293.0000 - val_fn: 285.0000 - val_accuracy: 0.6212 - val_auc: 0.6380\n",
      "Epoch 8/250\n",
      "25/25 [==============================] - 2s 62ms/step - loss: 0.4204 - tp: 2008.0000 - fn: 464.0000 - accuracy: 0.8122 - auc: 0.8967 - val_loss: 0.7626 - val_tp: 314.0000 - val_fn: 264.0000 - val_accuracy: 0.6218 - val_auc: 0.6419\n",
      "Epoch 9/250\n",
      "25/25 [==============================] - 2s 62ms/step - loss: 0.4066 - tp: 2025.0000 - fn: 447.0000 - accuracy: 0.8187 - auc: 0.9040 - val_loss: 0.7812 - val_tp: 308.0000 - val_fn: 270.0000 - val_accuracy: 0.6182 - val_auc: 0.6406\n",
      "Epoch 10/250\n",
      "25/25 [==============================] - 2s 61ms/step - loss: 0.3968 - tp: 2038.0000 - fn: 434.0000 - accuracy: 0.8218 - auc: 0.9083 - val_loss: 0.7896 - val_tp: 305.0000 - val_fn: 273.0000 - val_accuracy: 0.6253 - val_auc: 0.6370\n",
      "Epoch 11/250\n",
      "25/25 [==============================] - 2s 62ms/step - loss: 0.3889 - tp: 2076.0000 - fn: 396.0000 - accuracy: 0.8240 - auc: 0.9123 - val_loss: 0.7992 - val_tp: 304.0000 - val_fn: 274.0000 - val_accuracy: 0.6235 - val_auc: 0.6366\n",
      "Epoch 12/250\n",
      "25/25 [==============================] - 2s 63ms/step - loss: 0.3832 - tp: 2057.0000 - fn: 415.0000 - accuracy: 0.8284 - auc: 0.9148 - val_loss: 0.8196 - val_tp: 313.0000 - val_fn: 265.0000 - val_accuracy: 0.6106 - val_auc: 0.6382\n",
      "Epoch 13/250\n",
      "25/25 [==============================] - 2s 62ms/step - loss: 0.3785 - tp: 2073.0000 - fn: 399.0000 - accuracy: 0.8301 - auc: 0.9169 - val_loss: 0.8222 - val_tp: 312.0000 - val_fn: 266.0000 - val_accuracy: 0.6165 - val_auc: 0.6369\n",
      "Epoch 14/250\n",
      "25/25 [==============================] - 2s 62ms/step - loss: 0.3751 - tp: 2082.0000 - fn: 390.0000 - accuracy: 0.8310 - auc: 0.9185 - val_loss: 0.8289 - val_tp: 312.0000 - val_fn: 266.0000 - val_accuracy: 0.6159 - val_auc: 0.6366\n",
      "Epoch 15/250\n",
      "25/25 [==============================] - 1s 58ms/step - loss: 0.3724 - tp: 2084.0000 - fn: 388.0000 - accuracy: 0.8319 - auc: 0.9196 - val_loss: 0.8341 - val_tp: 312.0000 - val_fn: 266.0000 - val_accuracy: 0.6171 - val_auc: 0.6355\n",
      "Epoch 16/250\n",
      "25/25 [==============================] - 2s 62ms/step - loss: 0.3703 - tp: 2098.0000 - fn: 374.0000 - accuracy: 0.8340 - auc: 0.9206 - val_loss: 0.8355 - val_tp: 309.0000 - val_fn: 269.0000 - val_accuracy: 0.6176 - val_auc: 0.6350\n",
      "Epoch 17/250\n",
      "25/25 [==============================] - 2s 61ms/step - loss: 0.3688 - tp: 2086.0000 - fn: 386.0000 - accuracy: 0.8341 - auc: 0.9213 - val_loss: 0.8387 - val_tp: 307.0000 - val_fn: 271.0000 - val_accuracy: 0.6153 - val_auc: 0.6350\n",
      "Epoch 18/250\n",
      "25/25 [==============================] - 2s 65ms/step - loss: 0.3676 - tp: 2088.0000 - fn: 384.0000 - accuracy: 0.8341 - auc: 0.9218 - val_loss: 0.8410 - val_tp: 308.0000 - val_fn: 270.0000 - val_accuracy: 0.6159 - val_auc: 0.6347\n",
      "Epoch 19/250\n",
      "25/25 [==============================] - 2s 62ms/step - loss: 0.3668 - tp: 2087.0000 - fn: 385.0000 - accuracy: 0.8346 - auc: 0.9222 - val_loss: 0.8415 - val_tp: 309.0000 - val_fn: 269.0000 - val_accuracy: 0.6171 - val_auc: 0.6345\n",
      "Epoch 20/250\n",
      "25/25 [==============================] - 2s 63ms/step - loss: 0.3659 - tp: 2090.0000 - fn: 382.0000 - accuracy: 0.8344 - auc: 0.9225 - val_loss: 0.8441 - val_tp: 311.0000 - val_fn: 267.0000 - val_accuracy: 0.6176 - val_auc: 0.6344\n",
      "Epoch 21/250\n",
      "25/25 [==============================] - 2s 62ms/step - loss: 0.3654 - tp: 2096.0000 - fn: 376.0000 - accuracy: 0.8349 - auc: 0.9228 - val_loss: 0.8454 - val_tp: 311.0000 - val_fn: 267.0000 - val_accuracy: 0.6176 - val_auc: 0.6343\n",
      "Epoch 22/250\n",
      "25/25 [==============================] - 2s 61ms/step - loss: 0.3649 - tp: 2093.0000 - fn: 379.0000 - accuracy: 0.8349 - auc: 0.9229 - val_loss: 0.8454 - val_tp: 309.0000 - val_fn: 269.0000 - val_accuracy: 0.6171 - val_auc: 0.6341\n",
      "Epoch 23/250\n",
      "25/25 [==============================] - 2s 63ms/step - loss: 0.3646 - tp: 2094.0000 - fn: 378.0000 - accuracy: 0.8350 - auc: 0.9231 - val_loss: 0.8465 - val_tp: 311.0000 - val_fn: 267.0000 - val_accuracy: 0.6176 - val_auc: 0.6342\n",
      "Epoch 24/250\n",
      "25/25 [==============================] - 2s 62ms/step - loss: 0.3643 - tp: 2094.0000 - fn: 378.0000 - accuracy: 0.8350 - auc: 0.9232 - val_loss: 0.8469 - val_tp: 310.0000 - val_fn: 268.0000 - val_accuracy: 0.6171 - val_auc: 0.6342\n",
      "Epoch 25/250\n",
      "25/25 [==============================] - 2s 63ms/step - loss: 0.3641 - tp: 2094.0000 - fn: 378.0000 - accuracy: 0.8351 - auc: 0.9233 - val_loss: 0.8474 - val_tp: 310.0000 - val_fn: 268.0000 - val_accuracy: 0.6171 - val_auc: 0.6342\n",
      "Epoch 26/250\n",
      "25/25 [==============================] - 2s 63ms/step - loss: 0.3639 - tp: 2094.0000 - fn: 378.0000 - accuracy: 0.8350 - auc: 0.9234 - val_loss: 0.8479 - val_tp: 310.0000 - val_fn: 268.0000 - val_accuracy: 0.6171 - val_auc: 0.6342\n",
      "Epoch 27/250\n",
      "25/25 [==============================] - 2s 61ms/step - loss: 0.3638 - tp: 2095.0000 - fn: 377.0000 - accuracy: 0.8351 - auc: 0.9234 - val_loss: 0.8480 - val_tp: 310.0000 - val_fn: 268.0000 - val_accuracy: 0.6171 - val_auc: 0.6340\n",
      "Epoch 28/250\n",
      "25/25 [==============================] - 2s 64ms/step - loss: 0.3637 - tp: 2094.0000 - fn: 378.0000 - accuracy: 0.8350 - auc: 0.9235 - val_loss: 0.8482 - val_tp: 310.0000 - val_fn: 268.0000 - val_accuracy: 0.6171 - val_auc: 0.6340\n",
      "Epoch 29/250\n",
      "25/25 [==============================] - 2s 62ms/step - loss: 0.3636 - tp: 2096.0000 - fn: 376.0000 - accuracy: 0.8353 - auc: 0.9235 - val_loss: 0.8484 - val_tp: 310.0000 - val_fn: 268.0000 - val_accuracy: 0.6171 - val_auc: 0.6340\n",
      "Epoch 30/250\n",
      "25/25 [==============================] - 2s 65ms/step - loss: 0.3636 - tp: 2096.0000 - fn: 376.0000 - accuracy: 0.8354 - auc: 0.9235 - val_loss: 0.8484 - val_tp: 310.0000 - val_fn: 268.0000 - val_accuracy: 0.6171 - val_auc: 0.6341\n",
      "Epoch 31/250\n",
      "25/25 [==============================] - 3s 126ms/step - loss: 0.3635 - tp: 2096.0000 - fn: 376.0000 - accuracy: 0.8351 - auc: 0.9236 - val_loss: 0.8486 - val_tp: 310.0000 - val_fn: 268.0000 - val_accuracy: 0.6171 - val_auc: 0.6341\n"
     ]
    }
   ],
   "source": [
    "#calculate class weights\n",
    "target_0 = 5450 #these values will not change (are from review of test ds)\n",
    "target_1 = 3050\n",
    "total = target_0 + target_1\n",
    "\n",
    "class_weight_0 = (1 / target_0) * (total) / 2.0\n",
    "class_weight_1 = (1 / target_1) * (total) / 2.0\n",
    "\n",
    "class_weights = {0: class_weight_0, 1: class_weight_1}\n",
    "\n",
    "\n",
    "#early stopping if validation auc stops improving\n",
    "early_stopping = tf.keras.callbacks.EarlyStopping(monitor='val_auc', #val_auc\n",
    "                                patience=25,\n",
    "                                mode='max',\n",
    "                                restore_best_weights=True)\n",
    "\n",
    "# (text, image), label\n",
    "history = model.fit(train_DATA, \n",
    "                    train_groundtruth, \n",
    "                    steps_per_epoch=25, \n",
    "                    validation_data=(valid_DATA, valid_groundtruth), \n",
    "                    validation_steps=5,\n",
    "                    callbacks=[early_stopping],\n",
    "                    class_weight=class_weights,\n",
    "                    epochs=250)"
   ]
  },
  {
   "cell_type": "code",
   "execution_count": 175,
   "metadata": {
    "colab": {},
    "colab_type": "code",
    "id": "WNQKf2Y08zw2"
   },
   "outputs": [],
   "source": [
    "def plot_metric(metric1, metric2, ylabel):\n",
    "    plt.plot(history.history[metric1], label=metric1)\n",
    "    plt.plot(history.history[metric2], label=metric2)\n",
    "    plt.ylabel(ylabel)\n",
    "    plt.xlabel('epoch')\n",
    "    plt.legend()\n",
    "    plt.show()"
   ]
  },
  {
   "cell_type": "code",
   "execution_count": 176,
   "metadata": {
    "colab": {
     "base_uri": "https://localhost:8080/",
     "height": 803
    },
    "colab_type": "code",
    "id": "_BG-kKjK83qC",
    "outputId": "54fc3b65-acd5-4f04-aebd-82ca353fc471"
   },
   "outputs": [
    {
     "data": {
      "image/png": "[encoded data removed]",
      "text/plain": [
       "<Figure size 432x288 with 1 Axes>"
      ]
     },
     "metadata": {
      "needs_background": "light",
      "tags": []
     },
     "output_type": "display_data"
    },
    {
     "data": {
      "image/png": "[encoded data removed]",
      "text/plain": [
       "<Figure size 432x288 with 1 Axes>"
      ]
     },
     "metadata": {
      "needs_background": "light",
      "tags": []
     },
     "output_type": "display_data"
    },
    {
     "data": {
      "image/png": "[encoded data removed]",
      "text/plain": [
       "<Figure size 432x288 with 1 Axes>"
      ]
     },
     "metadata": {
      "needs_background": "light",
      "tags": []
     },
     "output_type": "display_data"
    }
   ],
   "source": [
    "plot_metric('auc', 'val_auc', 'auc')\n",
    "plot_metric('loss', 'val_loss', 'loss')\n",
    "plot_metric('accuracy', 'val_accuracy', 'accuracy')"
   ]
  },
  {
   "cell_type": "code",
   "execution_count": 177,
   "metadata": {
    "colab": {
     "base_uri": "https://localhost:8080/",
     "height": 34
    },
    "colab_type": "code",
    "id": "NjL-SsIv-K5O",
    "outputId": "bef94531-8b21-43b0-e78e-6f248c63f5c1"
   },
   "outputs": [
    {
     "data": {
      "text/plain": [
       "0.6449816226959229"
      ]
     },
     "execution_count": 177,
     "metadata": {
      "tags": []
     },
     "output_type": "execute_result"
    }
   ],
   "source": [
    "max(history.history['val_auc']) #relu - 0.664/0.653/0.635 // tanh + leaky -- 0.651/0.661/0.649 // leaky -- 0.6506/0.656/0.648\n",
    "#tanh - 0.658 / .649 / 0.651\n",
    "#conv - relu -  0.652 // tanh - 0.638"
   ]
  },
  {
   "cell_type": "code",
   "execution_count": 178,
   "metadata": {
    "colab": {},
    "colab_type": "code",
    "id": "bE6q1VFf-ME7"
   },
   "outputs": [],
   "source": [
    "params['version'] = 10\n",
    "model_name = 'model_hateful_memes_v{}.h5'.format(params['version'])\n",
    "model.save(model_name)\n",
    "bucket = client.bucket('jh_hateful_memes')\n",
    "blob = bucket.blob(model_name)\n",
    "blob.upload_from_filename(model_name)#fix this"
   ]
  },
  {
   "cell_type": "code",
   "execution_count": 179,
   "metadata": {
    "colab": {
     "base_uri": "https://localhost:8080/",
     "height": 54
    },
    "colab_type": "code",
    "id": "Dh9c21R6lEZc",
    "outputId": "f9c235da-3df2-497c-892a-a5e00158d8a6"
   },
   "outputs": [
    {
     "name": "stderr",
     "output_type": "stream",
     "text": [
      "WARNING:google.auth._default:No project ID could be determined. Consider running `gcloud config set project` or setting the GOOGLE_CLOUD_PROJECT environment variable\n"
     ]
    }
   ],
   "source": [
    "#make into a fn\n",
    "bucket = 'jh_hateful_memes_test'\n",
    "client = storage.Client(project='hateful-memes', credentials=credentials)\n",
    "objects = client.list_blobs(bucket, prefix='hatefulmemes_')\n",
    "tfrecords = []\n",
    "for object_ in objects:\n",
    "    path = str(object_).split(', ')[1]\n",
    "    gs_path = os.path.join('gs://', bucket, path)\n",
    "    tfrecords.append(gs_path) #gs_path"
   ]
  },
  {
   "cell_type": "code",
   "execution_count": 179,
   "metadata": {
    "colab": {},
    "colab_type": "code",
    "id": "jU-hPa_8lMNP"
   },
   "outputs": [],
   "source": [
    ""
   ]
  },
  {
   "cell_type": "code",
   "execution_count": 180,
   "metadata": {
    "colab": {},
    "colab_type": "code",
    "id": "bcVbjWe8i-Kr"
   },
   "outputs": [],
   "source": [
    "test_ds, test_steps = create_ds(tfrecords, params, train=False)"
   ]
  },
  {
   "cell_type": "code",
   "execution_count": 181,
   "metadata": {
    "colab": {},
    "colab_type": "code",
    "id": "or7-zGBVlppw"
   },
   "outputs": [],
   "source": [
    "for x_test, ids in test_ds:\n",
    "\n",
    "    test_text, test_images = x_test\n",
    "    test_captions = get_image_captions(params, test_images)\n",
    "    test_DATA = (test_captions, test_text)\n",
    "\n",
    "\n",
    "\n",
    "\n",
    "    predictions = model.predict(test_DATA, steps=10)\n",
    "    prediction_ids = ids\n",
    "\n"
   ]
  },
  {
   "cell_type": "code",
   "execution_count": 182,
   "metadata": {
    "colab": {},
    "colab_type": "code",
    "id": "ABcoxiAH_le8"
   },
   "outputs": [],
   "source": [
    "prediction_dict = {\n",
    "    'id': prediction_ids,\n",
    "    'proba': np.concatenate(predictions),\n",
    "    'label': np.ones(1000, int)\n",
    "}\n",
    "submission_ds = pd.DataFrame(prediction_dict)\n",
    "\n"
   ]
  },
  {
   "cell_type": "code",
   "execution_count": 183,
   "metadata": {
    "colab": {},
    "colab_type": "code",
    "id": "UC0AiCcELFFD"
   },
   "outputs": [],
   "source": [
    "submission_ds.to_csv('submission.csv', index=False)"
   ]
  },
  {
   "cell_type": "code",
   "execution_count": null,
   "metadata": {
    "colab": {},
    "colab_type": "code",
    "id": "HLP_Ok09Rl5y"
   },
   "outputs": [],
   "source": [
    ""
   ]
  },
  {
   "cell_type": "code",
   "execution_count": null,
   "metadata": {
    "colab": {},
    "colab_type": "code",
    "id": "ZBoY68f46Wuk"
   },
   "outputs": [],
   "source": [
    ""
   ]
  }
 ],
 "metadata": {
  "accelerator": "TPU",
  "colab": {
   "collapsed_sections": [],
   "name": "two_input_model (1).ipynb",
   "provenance": []
  },
  "kernelspec": {
   "display_name": "Python 3",
   "language": "python",
   "name": "python3"
  },
  "language_info": {
   "codemirror_mode": {
    "name": "ipython",
    "version": 3
   },
   "file_extension": ".py",
   "mimetype": "text/x-python",
   "name": "python",
   "nbconvert_exporter": "python",
   "pygments_lexer": "ipython3",
   "version": "3.8.5"
  }
 },
 "nbformat": 4,
 "nbformat_minor": 0
}
