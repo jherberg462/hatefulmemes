{
 "cells": [
  {
   "cell_type": "code",
   "execution_count": 1,
   "metadata": {
    "colab": {
     "base_uri": "https://localhost:8080/",
     "height": 34
    },
    "colab_type": "code",
    "id": "e4BdgGfH718Y",
    "outputId": "88c46790-ab65-47eb-f69f-6c7418c6aaf5"
   },
   "outputs": [
    {
     "name": "stdout",
     "output_type": "stream",
     "text": [
      "2.3.0\n"
     ]
    }
   ],
   "source": [
    "#set random seeds\n",
    "from numpy.random import seed\n",
    "seed(1)\n",
    "from tensorflow.random import set_seed\n",
    "set_seed(1)\n",
    "\n",
    "import pandas as pd\n",
    "import numpy as np\n",
    "\n",
    "#machine learning\n",
    "import tensorflow as tf\n",
    "print(tf.__version__)\n",
    "from tensorflow.keras import layers \n",
    "from tensorflow import keras\n",
    "from sklearn.model_selection import train_test_split\n",
    "\n",
    "#accessing files\n",
    "from google.cloud import storage\n",
    "import os\n",
    "\n",
    "#display charts/images\n",
    "import matplotlib.pyplot as plt\n",
    "\n",
    "#don't need\n",
    "# from tensorflow.python.keras.preprocessing import sequence\n",
    "# from tensorflow.python.keras.preprocessing import text\n",
    "# import tensorflow_hub as hub\n",
    "\n",
    "\n"
   ]
  },
  {
   "cell_type": "code",
   "execution_count": 2,
   "metadata": {
    "colab": {},
    "colab_type": "code",
    "id": "9__sYCZ7718e"
   },
   "outputs": [],
   "source": [
    "params = {\n",
    "    'image_size': [225, 225],\n",
    "    'text_input': (58,),\n",
    "    'batch_size': 512,\n",
    "    'vocab_size': 30000,\n",
    "    'examples_per_file': 850, #will not change\n",
    "    'test_examples_per_file': 500,\n",
    "    'version': 5 #model version number\n",
    "}"
   ]
  },
  {
   "cell_type": "code",
   "execution_count": 3,
   "metadata": {
    "colab": {},
    "colab_type": "code",
    "id": "g3ZOLb6A718k"
   },
   "outputs": [],
   "source": [
    "try:\n",
    "    from google.colab import auth\n",
    "    auth.authenticate_user()\n",
    "    credentials=None\n",
    "\n",
    "except ModuleNotFoundError:\n",
    "\n",
    "\n",
    "    from google.oauth2 import service_account\n",
    "\n",
    "    credentials = service_account.Credentials.from_service_account_file( #file location of GCS private key\n",
    "        '/Users/jeremiahherberg/Downloads/hateful-memes-af65c70c1b79.json')\n",
    "\n",
    "client = storage.Client(project='hateful-memes', credentials=credentials)"
   ]
  },
  {
   "cell_type": "code",
   "execution_count": 4,
   "metadata": {
    "colab": {},
    "colab_type": "code",
    "id": "3cjmD1w-718p"
   },
   "outputs": [],
   "source": [
    "num_examples_per_tfrecordfile = params['examples_per_file'] # 850 #this will not change"
   ]
  },
  {
   "cell_type": "code",
   "execution_count": 5,
   "metadata": {
    "colab": {},
    "colab_type": "code",
    "id": "BMUqKpKY718s"
   },
   "outputs": [],
   "source": [
    "bucket = 'jh_hateful_memes'\n",
    "client = storage.Client(project='hateful-memes', credentials=credentials)\n",
    "objects = client.list_blobs(bucket, prefix='hatefulmemes_')\n",
    "tfrecords = []\n",
    "for object_ in objects:\n",
    "    path = str(object_).split(', ')[1]\n",
    "    gs_path = os.path.join('gs://', bucket, path)\n",
    "    tfrecords.append(gs_path) #gs_path"
   ]
  },
  {
   "cell_type": "code",
   "execution_count": 6,
   "metadata": {
    "colab": {},
    "colab_type": "code",
    "id": "CogGhHQB718u"
   },
   "outputs": [],
   "source": [
    "# tfrecords"
   ]
  },
  {
   "cell_type": "code",
   "execution_count": 7,
   "metadata": {
    "colab": {
     "base_uri": "https://localhost:8080/",
     "height": 768
    },
    "colab_type": "code",
    "id": "VdrBIeYx718x",
    "outputId": "964a77ee-2548-43e2-bfc8-5c4a924cb4cb"
   },
   "outputs": [
    {
     "name": "stdout",
     "output_type": "stream",
     "text": [
      "Running on TPU  grpc://10.34.220.170:8470\n",
      "INFO:tensorflow:Initializing the TPU system: grpc://10.34.220.170:8470\n"
     ]
    },
    {
     "name": "stderr",
     "output_type": "stream",
     "text": [
      "INFO:tensorflow:Initializing the TPU system: grpc://10.34.220.170:8470\n"
     ]
    },
    {
     "name": "stdout",
     "output_type": "stream",
     "text": [
      "INFO:tensorflow:Clearing out eager caches\n"
     ]
    },
    {
     "name": "stderr",
     "output_type": "stream",
     "text": [
      "INFO:tensorflow:Clearing out eager caches\n"
     ]
    },
    {
     "name": "stdout",
     "output_type": "stream",
     "text": [
      "INFO:tensorflow:Finished initializing TPU system.\n"
     ]
    },
    {
     "name": "stderr",
     "output_type": "stream",
     "text": [
      "INFO:tensorflow:Finished initializing TPU system.\n",
      "WARNING:absl:`tf.distribute.experimental.TPUStrategy` is deprecated, please use  the non experimental symbol `tf.distribute.TPUStrategy` instead.\n"
     ]
    },
    {
     "name": "stdout",
     "output_type": "stream",
     "text": [
      "INFO:tensorflow:Found TPU system:\n"
     ]
    },
    {
     "name": "stderr",
     "output_type": "stream",
     "text": [
      "INFO:tensorflow:Found TPU system:\n"
     ]
    },
    {
     "name": "stdout",
     "output_type": "stream",
     "text": [
      "INFO:tensorflow:*** Num TPU Cores: 8\n"
     ]
    },
    {
     "name": "stderr",
     "output_type": "stream",
     "text": [
      "INFO:tensorflow:*** Num TPU Cores: 8\n"
     ]
    },
    {
     "name": "stdout",
     "output_type": "stream",
     "text": [
      "INFO:tensorflow:*** Num TPU Workers: 1\n"
     ]
    },
    {
     "name": "stderr",
     "output_type": "stream",
     "text": [
      "INFO:tensorflow:*** Num TPU Workers: 1\n"
     ]
    },
    {
     "name": "stdout",
     "output_type": "stream",
     "text": [
      "INFO:tensorflow:*** Num TPU Cores Per Worker: 8\n"
     ]
    },
    {
     "name": "stderr",
     "output_type": "stream",
     "text": [
      "INFO:tensorflow:*** Num TPU Cores Per Worker: 8\n"
     ]
    },
    {
     "name": "stdout",
     "output_type": "stream",
     "text": [
      "INFO:tensorflow:*** Available Device: _DeviceAttributes(/job:localhost/replica:0/task:0/device:CPU:0, CPU, 0, 0)\n"
     ]
    },
    {
     "name": "stderr",
     "output_type": "stream",
     "text": [
      "INFO:tensorflow:*** Available Device: _DeviceAttributes(/job:localhost/replica:0/task:0/device:CPU:0, CPU, 0, 0)\n"
     ]
    },
    {
     "name": "stdout",
     "output_type": "stream",
     "text": [
      "INFO:tensorflow:*** Available Device: _DeviceAttributes(/job:localhost/replica:0/task:0/device:XLA_CPU:0, XLA_CPU, 0, 0)\n"
     ]
    },
    {
     "name": "stderr",
     "output_type": "stream",
     "text": [
      "INFO:tensorflow:*** Available Device: _DeviceAttributes(/job:localhost/replica:0/task:0/device:XLA_CPU:0, XLA_CPU, 0, 0)\n"
     ]
    },
    {
     "name": "stdout",
     "output_type": "stream",
     "text": [
      "INFO:tensorflow:*** Available Device: _DeviceAttributes(/job:worker/replica:0/task:0/device:CPU:0, CPU, 0, 0)\n"
     ]
    },
    {
     "name": "stderr",
     "output_type": "stream",
     "text": [
      "INFO:tensorflow:*** Available Device: _DeviceAttributes(/job:worker/replica:0/task:0/device:CPU:0, CPU, 0, 0)\n"
     ]
    },
    {
     "name": "stdout",
     "output_type": "stream",
     "text": [
      "INFO:tensorflow:*** Available Device: _DeviceAttributes(/job:worker/replica:0/task:0/device:TPU:0, TPU, 0, 0)\n"
     ]
    },
    {
     "name": "stderr",
     "output_type": "stream",
     "text": [
      "INFO:tensorflow:*** Available Device: _DeviceAttributes(/job:worker/replica:0/task:0/device:TPU:0, TPU, 0, 0)\n"
     ]
    },
    {
     "name": "stdout",
     "output_type": "stream",
     "text": [
      "INFO:tensorflow:*** Available Device: _DeviceAttributes(/job:worker/replica:0/task:0/device:TPU:1, TPU, 0, 0)\n"
     ]
    },
    {
     "name": "stderr",
     "output_type": "stream",
     "text": [
      "INFO:tensorflow:*** Available Device: _DeviceAttributes(/job:worker/replica:0/task:0/device:TPU:1, TPU, 0, 0)\n"
     ]
    },
    {
     "name": "stdout",
     "output_type": "stream",
     "text": [
      "INFO:tensorflow:*** Available Device: _DeviceAttributes(/job:worker/replica:0/task:0/device:TPU:2, TPU, 0, 0)\n"
     ]
    },
    {
     "name": "stderr",
     "output_type": "stream",
     "text": [
      "INFO:tensorflow:*** Available Device: _DeviceAttributes(/job:worker/replica:0/task:0/device:TPU:2, TPU, 0, 0)\n"
     ]
    },
    {
     "name": "stdout",
     "output_type": "stream",
     "text": [
      "INFO:tensorflow:*** Available Device: _DeviceAttributes(/job:worker/replica:0/task:0/device:TPU:3, TPU, 0, 0)\n"
     ]
    },
    {
     "name": "stderr",
     "output_type": "stream",
     "text": [
      "INFO:tensorflow:*** Available Device: _DeviceAttributes(/job:worker/replica:0/task:0/device:TPU:3, TPU, 0, 0)\n"
     ]
    },
    {
     "name": "stdout",
     "output_type": "stream",
     "text": [
      "INFO:tensorflow:*** Available Device: _DeviceAttributes(/job:worker/replica:0/task:0/device:TPU:4, TPU, 0, 0)\n"
     ]
    },
    {
     "name": "stderr",
     "output_type": "stream",
     "text": [
      "INFO:tensorflow:*** Available Device: _DeviceAttributes(/job:worker/replica:0/task:0/device:TPU:4, TPU, 0, 0)\n"
     ]
    },
    {
     "name": "stdout",
     "output_type": "stream",
     "text": [
      "INFO:tensorflow:*** Available Device: _DeviceAttributes(/job:worker/replica:0/task:0/device:TPU:5, TPU, 0, 0)\n"
     ]
    },
    {
     "name": "stderr",
     "output_type": "stream",
     "text": [
      "INFO:tensorflow:*** Available Device: _DeviceAttributes(/job:worker/replica:0/task:0/device:TPU:5, TPU, 0, 0)\n"
     ]
    },
    {
     "name": "stdout",
     "output_type": "stream",
     "text": [
      "INFO:tensorflow:*** Available Device: _DeviceAttributes(/job:worker/replica:0/task:0/device:TPU:6, TPU, 0, 0)\n"
     ]
    },
    {
     "name": "stderr",
     "output_type": "stream",
     "text": [
      "INFO:tensorflow:*** Available Device: _DeviceAttributes(/job:worker/replica:0/task:0/device:TPU:6, TPU, 0, 0)\n"
     ]
    },
    {
     "name": "stdout",
     "output_type": "stream",
     "text": [
      "INFO:tensorflow:*** Available Device: _DeviceAttributes(/job:worker/replica:0/task:0/device:TPU:7, TPU, 0, 0)\n"
     ]
    },
    {
     "name": "stderr",
     "output_type": "stream",
     "text": [
      "INFO:tensorflow:*** Available Device: _DeviceAttributes(/job:worker/replica:0/task:0/device:TPU:7, TPU, 0, 0)\n"
     ]
    },
    {
     "name": "stdout",
     "output_type": "stream",
     "text": [
      "INFO:tensorflow:*** Available Device: _DeviceAttributes(/job:worker/replica:0/task:0/device:TPU_SYSTEM:0, TPU_SYSTEM, 0, 0)\n"
     ]
    },
    {
     "name": "stderr",
     "output_type": "stream",
     "text": [
      "INFO:tensorflow:*** Available Device: _DeviceAttributes(/job:worker/replica:0/task:0/device:TPU_SYSTEM:0, TPU_SYSTEM, 0, 0)\n"
     ]
    },
    {
     "name": "stdout",
     "output_type": "stream",
     "text": [
      "INFO:tensorflow:*** Available Device: _DeviceAttributes(/job:worker/replica:0/task:0/device:XLA_CPU:0, XLA_CPU, 0, 0)\n"
     ]
    },
    {
     "name": "stderr",
     "output_type": "stream",
     "text": [
      "INFO:tensorflow:*** Available Device: _DeviceAttributes(/job:worker/replica:0/task:0/device:XLA_CPU:0, XLA_CPU, 0, 0)\n"
     ]
    },
    {
     "name": "stdout",
     "output_type": "stream",
     "text": [
      "REPLICAS:  8\n"
     ]
    }
   ],
   "source": [
    "try:\n",
    "    # TPU detection. No parameters necessary if TPU_NAME environment variable is\n",
    "    # set: this is always the case on Kaggle.\n",
    "    tpu = tf.distribute.cluster_resolver.TPUClusterResolver()\n",
    "    print('Running on TPU ', tpu.master())\n",
    "except ValueError:\n",
    "    tpu = None\n",
    "\n",
    "if tpu:\n",
    "    tf.config.experimental_connect_to_cluster(tpu)\n",
    "    tf.tpu.experimental.initialize_tpu_system(tpu)\n",
    "    strategy = tf.distribute.experimental.TPUStrategy(tpu)\n",
    "else:\n",
    "    # Default distribution strategy in Tensorflow. Works on CPU and single GPU.\n",
    "    strategy = tf.distribute.get_strategy()\n",
    "\n",
    "print(\"REPLICAS: \", strategy.num_replicas_in_sync)"
   ]
  },
  {
   "cell_type": "code",
   "execution_count": 8,
   "metadata": {
    "colab": {},
    "colab_type": "code",
    "id": "rm40cYA_718y"
   },
   "outputs": [],
   "source": [
    "def decode_example_train(example):\n",
    "    '''\n",
    "    decodes single tfexample from TFrecord file\n",
    "    '''\n",
    "    features = {'label': tf.io.FixedLenFeature([], tf.int64),\n",
    "                'text': tf.io.FixedLenFeature([], tf.string),\n",
    "                'text_lemma': tf.io.FixedLenFeature([], tf.string),\n",
    "                'text_lemma_no_stopwords': tf.io.FixedLenFeature([], tf.string),\n",
    "                'text_no_stopwords':tf.io.FixedLenFeature([], tf.string),\n",
    "                'image': tf.io.FixedLenFeature([], tf.string)}\n",
    "    single_example = tf.io.parse_single_example(example, features)\n",
    "    \n",
    "    text = tf.io.parse_tensor(single_example['text'], out_type=tf.int32)\n",
    "    textL = tf.io.parse_tensor(single_example['text_lemma'], out_type=tf.int32)\n",
    "    # text = tf.cast(text, tf.float32) \n",
    "    image = tf.io.decode_jpeg(single_example['image'], 3)\n",
    "    image = tf.image.resize_with_pad(image, *params['image_size'])\n",
    "    image = image / 255.0\n",
    "    label = single_example['label']\n",
    "    # label = tf.cast(label, tf.float32)\n",
    "    return text, textL, image, label\n",
    "\n",
    "def decode_example_test(example):\n",
    "    '''\n",
    "    decodes single tfexample from TFrecord file\n",
    "    '''\n",
    "    features = {'id': tf.io.FixedLenFeature([], tf.int64),\n",
    "                'text': tf.io.FixedLenFeature([], tf.string),\n",
    "                'text_lemma': tf.io.FixedLenFeature([], tf.string),\n",
    "                'text_lemma_no_stopwords': tf.io.FixedLenFeature([], tf.string),\n",
    "                'text_no_stopwords':tf.io.FixedLenFeature([], tf.string),\n",
    "                'image': tf.io.FixedLenFeature([], tf.string)}\n",
    "    single_example = tf.io.parse_single_example(example, features)\n",
    "    \n",
    "    text = tf.io.parse_tensor(single_example['text'], out_type=tf.int32)\n",
    "    textL = tf.io.parse_tensor(single_example['text_lemma'], out_type=tf.int32)\n",
    "    # text = tf.cast(text, tf.float32) \n",
    "    image = tf.io.decode_jpeg(single_example['image'], 3)\n",
    "    image = tf.image.resize_with_pad(image, *params['image_size'])\n",
    "    image = image / 255.0\n",
    "    label = single_example['id']\n",
    "    # label = tf.cast(label, tf.float32)\n",
    "    return text, textL, image, label\n",
    "\n",
    "def flip_image(text, textL, image, label): \n",
    "    '''\n",
    "    randombly flips image input\n",
    "    \n",
    "    args:\n",
    "        text: text output in ds\n",
    "        image: image output in ds\n",
    "        label: label output in ds (can also be id)\n",
    "    returns:\n",
    "        text, image, label\n",
    "        args will be otherwise unchanged\n",
    "    '''\n",
    "    \n",
    "    image = tf.image.random_flip_left_right(image)\n",
    "\n",
    "    return text, textL, image, label\n",
    "\n",
    "\n",
    "def convert_xy(text, textL, image, label): #needs to be called last\n",
    "    '''\n",
    "    transforms ds output from text, image, label -> (text, image), label\n",
    "    \n",
    "    args:\n",
    "        text: text output in ds\n",
    "        image: image output in ds\n",
    "        label: label output in ds (can also be id)\n",
    "    returns:\n",
    "        (text, image), label\n",
    "        args will be otherwise unchanged\n",
    "    '''\n",
    "    return (text, textL, image), label\n",
    "    \n",
    "    "
   ]
  },
  {
   "cell_type": "code",
   "execution_count": 9,
   "metadata": {
    "colab": {},
    "colab_type": "code",
    "id": "PZ0dHSjt7180"
   },
   "outputs": [],
   "source": [
    "def create_ds(files, params, train=True, test_examples=1000):\n",
    "    '''\n",
    "    function to create dataset for training/validation\n",
    "    \n",
    "    args:\n",
    "        files: list of str, filepaths of TFrecord files to be used in DS\n",
    "        params: dict with the following keys:\n",
    "            batch_size: int, batch size of training/validation step\n",
    "            examples_per_file: int, number of examples in each TFrecord file\n",
    "        train, bool, default True, indicator if the DS is for training\n",
    "        test_examples, int: default 1000 number of examples in test dataset\n",
    "    returns:\n",
    "        ds: tensorflow input pipeline with images, text and labels\n",
    "            output of ds is: (text, image), label\n",
    "        ds_batches: int, number of steps in each epoch based on the batch_size\n",
    "    '''\n",
    "    file_size = params['examples_per_file'] \n",
    "    batch_size = file_size * len(files)\n",
    "\n",
    "    ds = tf.data.TFRecordDataset(filenames = files)\n",
    "    if train:\n",
    "        ds = ds.map(decode_example_train, \n",
    "                    num_parallel_calls=tf.data.experimental.AUTOTUNE)\n",
    "        ds = ds.map(flip_image, num_parallel_calls=tf.data.experimental.AUTOTUNE)\n",
    "    else:\n",
    "        ds = ds.map(decode_example_test)\n",
    "    ds = ds.map(convert_xy, num_parallel_calls=tf.data.experimental.AUTOTUNE)\n",
    "    if train:\n",
    "        ds = ds.batch(batch_size, drop_remainder=True)\n",
    "    else:\n",
    "        ds = ds.batch(test_examples)\n",
    "    ds = ds.cache() \n",
    "    \n",
    "    ds_batches = 10 #(len(files) * file_size) // batch_size\n",
    "    return ds, ds_batches\n",
    "    \n",
    "    "
   ]
  },
  {
   "cell_type": "code",
   "execution_count": 10,
   "metadata": {
    "colab": {},
    "colab_type": "code",
    "id": "V6RbH_oRmjUU"
   },
   "outputs": [],
   "source": [
    "def pair_separableConv1D(x, \n",
    "                         filters, kernal_size, act, first_reg, sec_reg,\n",
    "                        maxpooling_poolsize):\n",
    "    '''\n",
    "    function to add the following layers to a Keras Functional model:\n",
    "        layers.SeparableConv1D\n",
    "        layers.SeparableConv1D\n",
    "        layers.MaxPooling1D\n",
    "    \n",
    "    args:\n",
    "        x: keras input layer, or series of layers that can be traced to input layer\n",
    "        kernal_size: int, kernal size for SeparableConv1D layers\n",
    "        act: str, activation for SeparableConv1D layers\n",
    "        first_reg, keras regularizer to pass into 1st conv layer\n",
    "        sec_reg, keras regularizer to pass into 2nd conv layer\n",
    "        maxpooling_poolsize: int, poolsize for maxpooling layer\n",
    "    \n",
    "    returns:\n",
    "        x: x that was input into fn with above layers added\n",
    "    '''\n",
    "    x = layers.SeparableConv1D(filters=filters, kernel_size=kernal_size, \n",
    "                              activation=act, padding='same',\n",
    "                              kernel_regularizer=first_reg)(x)\n",
    "    x = layers.SeparableConv1D(filters=filters, kernel_size=kernal_size, \n",
    "                              activation=act, padding='same',\n",
    "                              kernel_regularizer=sec_reg)(x)\n",
    "    x = layers.MaxPooling1D(pool_size=maxpooling_poolsize, padding='same')(x)\n",
    "    x = layers.BatchNormalization()(x)\n",
    "    return x"
   ]
  },
  {
   "cell_type": "code",
   "execution_count": 11,
   "metadata": {
    "colab": {},
    "colab_type": "code",
    "id": "Z7nJDhlumjUX"
   },
   "outputs": [],
   "source": [
    "def conv2dset(x, \n",
    "              conv_filter, kernel, regularizer=None, \n",
    "              maxpooling_poolsize=2, \n",
    "              conv_act=None, \n",
    "              dense_units=None, dense_act=None):\n",
    "    '''\n",
    "    function to add the following layers to a Keras Functional model:\n",
    "        layers.Conv2D\n",
    "        MaxPooling2D\n",
    "        Batchnormalization\n",
    "        (activation layer)\n",
    "        layers.Dense (if applicable)\n",
    "    \n",
    "    args:\n",
    "        x: keras input layer, or series of layers that can be traced to input layer\n",
    "        conv_filter: int, number of filters in Conv2D layer\n",
    "        kernel: int, kernel size in Conv2D layer\n",
    "        regularizer: keras.regularizers object, default: None, regularizer in \n",
    "            Conv2D layer\n",
    "        maxpooling_poolsize: int, default 2, poolsize for maxpooling layer\n",
    "        conv_act: keras layer (without the \"()\"), default None, activation\n",
    "            layer that will go after the batchnormalization layer\n",
    "        dense_units: int, default None, number of units in dense layer\n",
    "            if None, there will be no dense layer\n",
    "        dense_act: str, default None, activation in dense layer\n",
    "    \n",
    "    returns:\n",
    "        x: x that was input into fn with above layers added\n",
    "        \n",
    "    '''\n",
    "    x = layers.Conv2D(filters=conv_filter, kernel_size=kernel, padding='same', \n",
    "                      kernel_regularizer=regularizer)(x)\n",
    "    x = layers.MaxPooling2D(maxpooling_poolsize)(x)\n",
    "    # x = layers.BatchNormalization()(x)\n",
    "    if conv_act:\n",
    "        x = conv_act()(x)\n",
    "    if dense_units:\n",
    "        x = layers.Dense(dense_units, activation=dense_act)(x)\n",
    "    \n",
    "    return x\n",
    "\n"
   ]
  },
  {
   "cell_type": "code",
   "execution_count": 12,
   "metadata": {
    "colab": {},
    "colab_type": "code",
    "id": "aHOtR_XA7182"
   },
   "outputs": [],
   "source": [
    "def create_model(params=params,):\n",
    "    '''\n",
    "    creates model with two inputs and out output\n",
    "\n",
    "        \n",
    "    '''\n",
    "    #set some fixed variables\n",
    "    text_input_shape = params['text_input']\n",
    "    vocab_size = params['vocab_size']\n",
    "    image_size = params['image_size']\n",
    "    dense_nodes = 300\n",
    "    relu = layers.ReLU\n",
    "    reg = keras.regularizers.l2(0.001,)\n",
    "    \n",
    "    #model inputs\n",
    "    input_text = layers.Input(text_input_shape, name='text_input')\n",
    "    embedding = layers.Embedding(input_dim=vocab_size, output_dim=64, \n",
    "                                 input_length=58, mask_zero=True)(input_text)\n",
    "    input_lemma = layers.Input(text_input_shape, name='test_lemma_input')\n",
    "    lemma_embedding = layers.Embedding(input_dim=vocab_size, output_dim=64,\n",
    "                                       input_length=58, mask_zero=True)(input_lemma)\n",
    "    input_image = layers.Input((*image_size, 3), name='image_input')\n",
    "\n",
    "\n",
    "    #bidirectional LSTM - original text\n",
    "    x_bidir = embedding\n",
    "    x_bidir = layers.Bidirectional(layers.LSTM(128))(x_bidir)\n",
    "    x_bidir = layers.Dense(64, activation = 'relu')(x_bidir)\n",
    "    x_bidir_out = layers.Dense(dense_nodes, activation='sigmoid', name='bidirectional_out')(x_bidir)\n",
    "\n",
    "    #1D convolution - original text\n",
    "    x_text = embedding\n",
    "    x_text = pair_separableConv1D(x_text, 128, 4, 'relu', reg, None, 4)\n",
    "    x_text = pair_separableConv1D(x_text, 128, 4, 'relu', None, None, 4)\n",
    "    x_text = layers.Flatten()(x_text)\n",
    "    x_text = layers.Dense(dense_nodes, activation='tanh',kernel_regularizer=reg)(x_text)\n",
    "    output_layer_text = layers.Dense(dense_nodes, activation='sigmoid', name='text_output')(x_text)\n",
    "\n",
    "\n",
    "    #1D convolution - lemma\n",
    "    x_lemma = lemma_embedding\n",
    "    x_lemma = pair_separableConv1D(x_lemma, 128, 4, 'relu', reg, None, 4)\n",
    "    x_lemma = pair_separableConv1D(x_lemma, 128, 4, 'relu', None, None, 4)\n",
    "    x_lemma = layers.Flatten()(x_lemma)\n",
    "    # x_lemma = layers.Dense(dense_nodes, activation='tanh',kernel_regularizer=reg)(x_lemma)\n",
    "    output_layer_lemma = layers.Dense(dense_nodes, activation='sigmoid', name='text_output_lemma')(x_lemma)\n",
    "\n",
    "    #bidirectional LSTM - lemma\n",
    "    x_bidirL = lemma_embedding\n",
    "    x_bidirL = layers.Bidirectional(layers.LSTM(64))(x_bidirL)\n",
    "    x_bidirL = layers.Dense(128, activation = 'relu')(x_bidirL)\n",
    "    x_bidir_outL = layers.Dense(dense_nodes, activation='sigmoid', name='bidirectional_out_lemma')(x_bidirL)\n",
    "\n",
    "\n",
    "    #images\n",
    "    x_img = input_image\n",
    "    x_img = conv2dset(x_img, 64, 5, reg, 2, relu, 16, 'tanh')\n",
    "    x_img = conv2dset(x_img, 128, 5, reg, 2,  relu, 16, 'tanh')\n",
    "    x_img = layers.Flatten()(x_img)\n",
    "    # x_img = layers.Dense(dense_nodes, activation='tanh', kernel_regularizer=reg)(x_img)\n",
    "    output_layer_image = layers.Dense(dense_nodes, activation='sigmoid', name='image_out')(x_img)\n",
    "    \n",
    "    text_outputs = layers.Concatenate()([x_bidir_out, output_layer_text, output_layer_lemma, x_bidir_outL])\n",
    "    text_outputs = layers.Dense(dense_nodes)(text_outputs)\n",
    "    \n",
    "    #only one output for images\n",
    "    image_outputs = output_layer_image\n",
    "    x = layers.Concatenate()([image_outputs, text_outputs])\n",
    "    \n",
    "    # x = tf.stack([ image_outputs,text_outputs])\n",
    "    x = layers.Reshape(( 2, dense_nodes))(x)\n",
    "    x = layers.LSTM(64)(x)\n",
    "    # x = layers.Dense(dense_nodes)(x)\n",
    "    x = layers.Flatten()(x)\n",
    "    #consider adding an intrum dense layer here\n",
    "    final_output = layers.Dense(1, activation='sigmoid', name='final_out')(x)\n",
    "    \n",
    "    model = keras.Model([input_text, input_lemma, input_image], final_output)\n",
    "    metrics = [\n",
    "          keras.metrics.TruePositives(name='tp'),\n",
    "    #           keras.metrics.FalsePositives(name='fp'),\n",
    "    #           keras.metrics.TrueNegatives(name='tn'),\n",
    "          keras.metrics.FalseNegatives(name='fn'), \n",
    "          keras.metrics.BinaryAccuracy(name='accuracy'),\n",
    "    #           keras.metrics.Precision(name='precision'),\n",
    "    #           keras.metrics.Recall(name='recall'),\n",
    "          keras.metrics.AUC(name='auc'),\n",
    "    ]\n",
    "    schedule = tf.keras.optimizers.schedules.ExponentialDecay(0.0003, 10 *3, 0.75)\n",
    "    model.compile(\n",
    "    optimizer=tf.keras.optimizers.Adam(schedule),\n",
    "    loss = tf.keras.losses.BinaryCrossentropy(label_smoothing = 0.01),\n",
    "    metrics=metrics)\n",
    "    \n",
    "    return model\n",
    "    \n"
   ]
  },
  {
   "cell_type": "code",
   "execution_count": 13,
   "metadata": {
    "colab": {},
    "colab_type": "code",
    "id": "_tHu8tJA7184"
   },
   "outputs": [],
   "source": [
    "train_files, valid_files = train_test_split(tfrecords,\n",
    "                              test_size=.2, random_state=1)\n"
   ]
  },
  {
   "cell_type": "code",
   "execution_count": 14,
   "metadata": {
    "colab": {},
    "colab_type": "code",
    "id": "alJt8bQV7185"
   },
   "outputs": [],
   "source": [
    "train_ds, train_steps = create_ds(train_files, params)\n",
    "valid_ds, valid_steps = create_ds(valid_files, params)"
   ]
  },
  {
   "cell_type": "code",
   "execution_count": 15,
   "metadata": {
    "colab": {
     "base_uri": "https://localhost:8080/",
     "height": 1000
    },
    "colab_type": "code",
    "id": "S25BV5he7187",
    "outputId": "a877a16b-eb0c-4639-f13c-ce17826cc99a"
   },
   "outputs": [
    {
     "name": "stdout",
     "output_type": "stream",
     "text": [
      "Model: \"functional_1\"\n",
      "__________________________________________________________________________________________________\n",
      "Layer (type)                    Output Shape         Param #     Connected to                     \n",
      "==================================================================================================\n",
      "text_input (InputLayer)         [(None, 58)]         0                                            \n",
      "__________________________________________________________________________________________________\n",
      "embedding (Embedding)           (None, 58, 64)       1920000     text_input[0][0]                 \n",
      "__________________________________________________________________________________________________\n",
      "test_lemma_input (InputLayer)   [(None, 58)]         0                                            \n",
      "__________________________________________________________________________________________________\n",
      "separable_conv1d (SeparableConv (None, 58, 128)      8576        embedding[0][0]                  \n",
      "__________________________________________________________________________________________________\n",
      "embedding_1 (Embedding)         (None, 58, 64)       1920000     test_lemma_input[0][0]           \n",
      "__________________________________________________________________________________________________\n",
      "separable_conv1d_1 (SeparableCo (None, 58, 128)      17024       separable_conv1d[0][0]           \n",
      "__________________________________________________________________________________________________\n",
      "separable_conv1d_4 (SeparableCo (None, 58, 128)      8576        embedding_1[0][0]                \n",
      "__________________________________________________________________________________________________\n",
      "image_input (InputLayer)        [(None, 225, 225, 3) 0                                            \n",
      "__________________________________________________________________________________________________\n",
      "max_pooling1d (MaxPooling1D)    (None, 15, 128)      0           separable_conv1d_1[0][0]         \n",
      "__________________________________________________________________________________________________\n",
      "separable_conv1d_5 (SeparableCo (None, 58, 128)      17024       separable_conv1d_4[0][0]         \n",
      "__________________________________________________________________________________________________\n",
      "conv2d (Conv2D)                 (None, 225, 225, 64) 4864        image_input[0][0]                \n",
      "__________________________________________________________________________________________________\n",
      "batch_normalization (BatchNorma (None, 15, 128)      512         max_pooling1d[0][0]              \n",
      "__________________________________________________________________________________________________\n",
      "max_pooling1d_2 (MaxPooling1D)  (None, 15, 128)      0           separable_conv1d_5[0][0]         \n",
      "__________________________________________________________________________________________________\n",
      "max_pooling2d (MaxPooling2D)    (None, 112, 112, 64) 0           conv2d[0][0]                     \n",
      "__________________________________________________________________________________________________\n",
      "separable_conv1d_2 (SeparableCo (None, 15, 128)      17024       batch_normalization[0][0]        \n",
      "__________________________________________________________________________________________________\n",
      "batch_normalization_2 (BatchNor (None, 15, 128)      512         max_pooling1d_2[0][0]            \n",
      "__________________________________________________________________________________________________\n",
      "re_lu (ReLU)                    (None, 112, 112, 64) 0           max_pooling2d[0][0]              \n",
      "__________________________________________________________________________________________________\n",
      "separable_conv1d_3 (SeparableCo (None, 15, 128)      17024       separable_conv1d_2[0][0]         \n",
      "__________________________________________________________________________________________________\n",
      "separable_conv1d_6 (SeparableCo (None, 15, 128)      17024       batch_normalization_2[0][0]      \n",
      "__________________________________________________________________________________________________\n",
      "dense_3 (Dense)                 (None, 112, 112, 16) 1040        re_lu[0][0]                      \n",
      "__________________________________________________________________________________________________\n",
      "max_pooling1d_1 (MaxPooling1D)  (None, 4, 128)       0           separable_conv1d_3[0][0]         \n",
      "__________________________________________________________________________________________________\n",
      "separable_conv1d_7 (SeparableCo (None, 15, 128)      17024       separable_conv1d_6[0][0]         \n",
      "__________________________________________________________________________________________________\n",
      "conv2d_1 (Conv2D)               (None, 112, 112, 128 51328       dense_3[0][0]                    \n",
      "__________________________________________________________________________________________________\n",
      "batch_normalization_1 (BatchNor (None, 4, 128)       512         max_pooling1d_1[0][0]            \n",
      "__________________________________________________________________________________________________\n",
      "max_pooling1d_3 (MaxPooling1D)  (None, 4, 128)       0           separable_conv1d_7[0][0]         \n",
      "__________________________________________________________________________________________________\n",
      "max_pooling2d_1 (MaxPooling2D)  (None, 56, 56, 128)  0           conv2d_1[0][0]                   \n",
      "__________________________________________________________________________________________________\n",
      "bidirectional (Bidirectional)   (None, 256)          197632      embedding[0][0]                  \n",
      "__________________________________________________________________________________________________\n",
      "flatten (Flatten)               (None, 512)          0           batch_normalization_1[0][0]      \n",
      "__________________________________________________________________________________________________\n",
      "batch_normalization_3 (BatchNor (None, 4, 128)       512         max_pooling1d_3[0][0]            \n",
      "__________________________________________________________________________________________________\n",
      "bidirectional_1 (Bidirectional) (None, 128)          66048       embedding_1[0][0]                \n",
      "__________________________________________________________________________________________________\n",
      "re_lu_1 (ReLU)                  (None, 56, 56, 128)  0           max_pooling2d_1[0][0]            \n",
      "__________________________________________________________________________________________________\n",
      "dense (Dense)                   (None, 64)           16448       bidirectional[0][0]              \n",
      "__________________________________________________________________________________________________\n",
      "dense_1 (Dense)                 (None, 300)          153900      flatten[0][0]                    \n",
      "__________________________________________________________________________________________________\n",
      "flatten_1 (Flatten)             (None, 512)          0           batch_normalization_3[0][0]      \n",
      "__________________________________________________________________________________________________\n",
      "dense_2 (Dense)                 (None, 128)          16512       bidirectional_1[0][0]            \n",
      "__________________________________________________________________________________________________\n",
      "dense_4 (Dense)                 (None, 56, 56, 16)   2064        re_lu_1[0][0]                    \n",
      "__________________________________________________________________________________________________\n",
      "bidirectional_out (Dense)       (None, 300)          19500       dense[0][0]                      \n",
      "__________________________________________________________________________________________________\n",
      "text_output (Dense)             (None, 300)          90300       dense_1[0][0]                    \n",
      "__________________________________________________________________________________________________\n",
      "text_output_lemma (Dense)       (None, 300)          153900      flatten_1[0][0]                  \n",
      "__________________________________________________________________________________________________\n",
      "bidirectional_out_lemma (Dense) (None, 300)          38700       dense_2[0][0]                    \n",
      "__________________________________________________________________________________________________\n",
      "flatten_2 (Flatten)             (None, 50176)        0           dense_4[0][0]                    \n",
      "__________________________________________________________________________________________________\n",
      "concatenate (Concatenate)       (None, 1200)         0           bidirectional_out[0][0]          \n",
      "                                                                 text_output[0][0]                \n",
      "                                                                 text_output_lemma[0][0]          \n",
      "                                                                 bidirectional_out_lemma[0][0]    \n",
      "__________________________________________________________________________________________________\n",
      "image_out (Dense)               (None, 300)          15053100    flatten_2[0][0]                  \n",
      "__________________________________________________________________________________________________\n",
      "dense_5 (Dense)                 (None, 300)          360300      concatenate[0][0]                \n",
      "__________________________________________________________________________________________________\n",
      "concatenate_1 (Concatenate)     (None, 600)          0           image_out[0][0]                  \n",
      "                                                                 dense_5[0][0]                    \n",
      "__________________________________________________________________________________________________\n",
      "reshape (Reshape)               (None, 2, 300)       0           concatenate_1[0][0]              \n",
      "__________________________________________________________________________________________________\n",
      "lstm_2 (LSTM)                   (None, 64)           93440       reshape[0][0]                    \n",
      "__________________________________________________________________________________________________\n",
      "flatten_3 (Flatten)             (None, 64)           0           lstm_2[0][0]                     \n",
      "__________________________________________________________________________________________________\n",
      "final_out (Dense)               (None, 1)            65          flatten_3[0][0]                  \n",
      "==================================================================================================\n",
      "Total params: 20,280,485\n",
      "Trainable params: 20,279,461\n",
      "Non-trainable params: 1,024\n",
      "__________________________________________________________________________________________________\n"
     ]
    }
   ],
   "source": [
    "tf.random.set_seed(1)\n",
    "np.random.seed(1)\n",
    "with strategy.scope():\n",
    "    model = create_model()\n",
    "    model.summary()"
   ]
  },
  {
   "cell_type": "code",
   "execution_count": 16,
   "metadata": {
    "colab": {
     "base_uri": "https://localhost:8080/",
     "height": 1000
    },
    "colab_type": "code",
    "id": "dbYqcMyy718-",
    "outputId": "659cc4bb-3649-4e01-c3bc-59b3033a3437"
   },
   "outputs": [
    {
     "name": "stdout",
     "output_type": "stream",
     "text": [
      "Epoch 1/250\n",
      " 2/10 [=====>........................] - ETA: 0s - loss: 1.1536 - tp: 225.0000 - fn: 231.0000 - accuracy: 0.4956 - auc: 0.4953  WARNING:tensorflow:Callbacks method `on_train_batch_end` is slow compared to the batch time (batch time: 0.0064s vs `on_train_batch_end` time: 0.2070s). Check your callbacks.\n"
     ]
    },
    {
     "name": "stderr",
     "output_type": "stream",
     "text": [
      "WARNING:tensorflow:Callbacks method `on_train_batch_end` is slow compared to the batch time (batch time: 0.0064s vs `on_train_batch_end` time: 0.2070s). Check your callbacks.\n"
     ]
    },
    {
     "name": "stdout",
     "output_type": "stream",
     "text": [
      "10/10 [==============================] - ETA: 0s - loss: 1.1093 - tp: 1273.0000 - fn: 1199.0000 - accuracy: 0.4890 - auc: 0.4900WARNING:tensorflow:From /usr/local/lib/python3.6/dist-packages/tensorflow/python/data/ops/multi_device_iterator_ops.py:601: get_next_as_optional (from tensorflow.python.data.ops.iterator_ops) is deprecated and will be removed in a future version.\n",
      "Instructions for updating:\n",
      "Use `tf.data.Iterator.get_next_as_optional()` instead.\n"
     ]
    },
    {
     "name": "stderr",
     "output_type": "stream",
     "text": [
      "WARNING:tensorflow:From /usr/local/lib/python3.6/dist-packages/tensorflow/python/data/ops/multi_device_iterator_ops.py:601: get_next_as_optional (from tensorflow.python.data.ops.iterator_ops) is deprecated and will be removed in a future version.\n",
      "Instructions for updating:\n",
      "Use `tf.data.Iterator.get_next_as_optional()` instead.\n"
     ]
    },
    {
     "name": "stdout",
     "output_type": "stream",
     "text": [
      "WARNING:tensorflow:Callbacks method `on_test_batch_end` is slow compared to the batch time (batch time: 0.0024s vs `on_test_batch_end` time: 0.0581s). Check your callbacks.\n"
     ]
    },
    {
     "name": "stderr",
     "output_type": "stream",
     "text": [
      "WARNING:tensorflow:Callbacks method `on_test_batch_end` is slow compared to the batch time (batch time: 0.0024s vs `on_test_batch_end` time: 0.0581s). Check your callbacks.\n"
     ]
    },
    {
     "name": "stdout",
     "output_type": "stream",
     "text": [
      "\b\b\b\b\b\b\b\b\b\b\b\b\b\b\b\b\b\b\b\b\b\b\b\b\b\b\b\b\b\b\b\b\b\b\b\b\b\b\b\b\b\b\b\b\b\b\b\b\b\b\b\b\b\b\b\b\b\b\b\b\b\b\b\b\b\b\b\b\b\b\b\b\b\b\b\b\b\b\b\b\b\b\b\b\b\b\b\b\b\b\b\b\b\b\b\b\b\b\b\b\b\b\b\b\b\b\b\b\b\b\b\b\b\b\b\b\b\b\b\b\b\b\b\b\b\b\b\b\r10/10 [==============================] - 14s 1s/step - loss: 1.1093 - tp: 1273.0000 - fn: 1199.0000 - accuracy: 0.4890 - auc: 0.4900 - val_loss: 1.0950 - val_tp: 578.0000 - val_fn: 0.0000e+00 - val_accuracy: 0.3400 - val_auc: 0.5403\n",
      "Epoch 2/250\n",
      "10/10 [==============================] - 3s 312ms/step - loss: 1.0548 - tp: 749.0000 - fn: 1723.0000 - accuracy: 0.5616 - auc: 0.5094 - val_loss: 1.0470 - val_tp: 578.0000 - val_fn: 0.0000e+00 - val_accuracy: 0.3400 - val_auc: 0.5424\n",
      "Epoch 3/250\n",
      "10/10 [==============================] - 3s 343ms/step - loss: 1.0234 - tp: 2367.0000 - fn: 105.0000 - accuracy: 0.3900 - auc: 0.5207 - val_loss: 1.0046 - val_tp: 171.0000 - val_fn: 407.0000 - val_accuracy: 0.6000 - val_auc: 0.5493\n",
      "Epoch 4/250\n",
      "10/10 [==============================] - 3s 306ms/step - loss: 0.9974 - tp: 585.0000 - fn: 1887.0000 - accuracy: 0.6046 - auc: 0.5444 - val_loss: 0.9900 - val_tp: 562.0000 - val_fn: 16.0000 - val_accuracy: 0.3612 - val_auc: 0.5530\n",
      "Epoch 5/250\n",
      "10/10 [==============================] - 3s 314ms/step - loss: 0.9758 - tp: 2356.0000 - fn: 116.0000 - accuracy: 0.3862 - auc: 0.5377 - val_loss: 0.9597 - val_tp: 163.0000 - val_fn: 415.0000 - val_accuracy: 0.6141 - val_auc: 0.5642\n",
      "Epoch 6/250\n",
      "10/10 [==============================] - 3s 311ms/step - loss: 0.9565 - tp: 679.0000 - fn: 1793.0000 - accuracy: 0.5922 - auc: 0.5555 - val_loss: 0.9566 - val_tp: 548.0000 - val_fn: 30.0000 - val_accuracy: 0.3829 - val_auc: 0.5711\n",
      "Epoch 7/250\n",
      "10/10 [==============================] - 3s 313ms/step - loss: 0.9399 - tp: 1803.0000 - fn: 669.0000 - accuracy: 0.4674 - auc: 0.5487 - val_loss: 0.9220 - val_tp: 132.0000 - val_fn: 446.0000 - val_accuracy: 0.6476 - val_auc: 0.5848\n",
      "Epoch 8/250\n",
      "10/10 [==============================] - 3s 311ms/step - loss: 0.9243 - tp: 1601.0000 - fn: 871.0000 - accuracy: 0.5240 - auc: 0.5713 - val_loss: 0.9046 - val_tp: 147.0000 - val_fn: 431.0000 - val_accuracy: 0.6341 - val_auc: 0.5942\n",
      "Epoch 9/250\n",
      "10/10 [==============================] - 3s 316ms/step - loss: 0.9096 - tp: 1308.0000 - fn: 1164.0000 - accuracy: 0.5588 - auc: 0.5812 - val_loss: 0.9129 - val_tp: 424.0000 - val_fn: 154.0000 - val_accuracy: 0.5076 - val_auc: 0.5944\n",
      "Epoch 10/250\n",
      "10/10 [==============================] - 3s 318ms/step - loss: 0.8941 - tp: 1357.0000 - fn: 1115.0000 - accuracy: 0.5835 - auc: 0.6106 - val_loss: 0.8995 - val_tp: 394.0000 - val_fn: 184.0000 - val_accuracy: 0.5394 - val_auc: 0.5992\n",
      "Epoch 11/250\n",
      "10/10 [==============================] - 3s 313ms/step - loss: 0.8773 - tp: 1547.0000 - fn: 925.0000 - accuracy: 0.5875 - auc: 0.6292 - val_loss: 0.8687 - val_tp: 287.0000 - val_fn: 291.0000 - val_accuracy: 0.5947 - val_auc: 0.6017\n",
      "Epoch 12/250\n",
      "10/10 [==============================] - 3s 310ms/step - loss: 0.8621 - tp: 1545.0000 - fn: 927.0000 - accuracy: 0.6085 - auc: 0.6471 - val_loss: 0.8649 - val_tp: 322.0000 - val_fn: 256.0000 - val_accuracy: 0.5871 - val_auc: 0.6082\n",
      "Epoch 13/250\n",
      "10/10 [==============================] - 3s 315ms/step - loss: 0.8482 - tp: 1621.0000 - fn: 851.0000 - accuracy: 0.6106 - auc: 0.6608 - val_loss: 0.8367 - val_tp: 248.0000 - val_fn: 330.0000 - val_accuracy: 0.6288 - val_auc: 0.6157\n",
      "Epoch 14/250\n",
      "10/10 [==============================] - 3s 308ms/step - loss: 0.8332 - tp: 1587.0000 - fn: 885.0000 - accuracy: 0.6309 - auc: 0.6794 - val_loss: 0.8272 - val_tp: 242.0000 - val_fn: 336.0000 - val_accuracy: 0.6271 - val_auc: 0.6220\n",
      "Epoch 15/250\n",
      "10/10 [==============================] - 3s 312ms/step - loss: 0.8183 - tp: 1654.0000 - fn: 818.0000 - accuracy: 0.6491 - auc: 0.6983 - val_loss: 0.8141 - val_tp: 235.0000 - val_fn: 343.0000 - val_accuracy: 0.6388 - val_auc: 0.6322\n",
      "Epoch 16/250\n",
      "10/10 [==============================] - 3s 312ms/step - loss: 0.8018 - tp: 1630.0000 - fn: 842.0000 - accuracy: 0.6640 - auc: 0.7186 - val_loss: 0.8067 - val_tp: 251.0000 - val_fn: 327.0000 - val_accuracy: 0.6441 - val_auc: 0.6377\n",
      "Epoch 17/250\n",
      "10/10 [==============================] - 3s 312ms/step - loss: 0.7863 - tp: 1671.0000 - fn: 801.0000 - accuracy: 0.6769 - auc: 0.7331 - val_loss: 0.8100 - val_tp: 288.0000 - val_fn: 290.0000 - val_accuracy: 0.6235 - val_auc: 0.6453\n",
      "Epoch 18/250\n",
      "10/10 [==============================] - 3s 317ms/step - loss: 0.7695 - tp: 1750.0000 - fn: 722.0000 - accuracy: 0.6809 - auc: 0.7510 - val_loss: 0.7863 - val_tp: 218.0000 - val_fn: 360.0000 - val_accuracy: 0.6576 - val_auc: 0.6485\n",
      "Epoch 19/250\n",
      "10/10 [==============================] - 3s 312ms/step - loss: 0.7560 - tp: 1697.0000 - fn: 775.0000 - accuracy: 0.7013 - auc: 0.7618 - val_loss: 0.7889 - val_tp: 266.0000 - val_fn: 312.0000 - val_accuracy: 0.6429 - val_auc: 0.6519\n",
      "Epoch 20/250\n",
      "10/10 [==============================] - 3s 317ms/step - loss: 0.7365 - tp: 1805.0000 - fn: 667.0000 - accuracy: 0.7096 - auc: 0.7832 - val_loss: 0.7803 - val_tp: 239.0000 - val_fn: 339.0000 - val_accuracy: 0.6482 - val_auc: 0.6530\n",
      "Epoch 21/250\n",
      "10/10 [==============================] - 3s 268ms/step - loss: 0.7199 - tp: 1807.0000 - fn: 665.0000 - accuracy: 0.7188 - auc: 0.7975 - val_loss: 0.7877 - val_tp: 283.0000 - val_fn: 295.0000 - val_accuracy: 0.6312 - val_auc: 0.6529\n",
      "Epoch 22/250\n",
      "10/10 [==============================] - 3s 268ms/step - loss: 0.7044 - tp: 1833.0000 - fn: 639.0000 - accuracy: 0.7338 - auc: 0.8099 - val_loss: 0.7740 - val_tp: 217.0000 - val_fn: 361.0000 - val_accuracy: 0.6529 - val_auc: 0.6520\n",
      "Epoch 23/250\n",
      "10/10 [==============================] - 3s 269ms/step - loss: 0.6856 - tp: 1838.0000 - fn: 634.0000 - accuracy: 0.7549 - auc: 0.8270 - val_loss: 0.7720 - val_tp: 203.0000 - val_fn: 375.0000 - val_accuracy: 0.6576 - val_auc: 0.6510\n",
      "Epoch 24/250\n",
      "10/10 [==============================] - 3s 267ms/step - loss: 0.6689 - tp: 1876.0000 - fn: 596.0000 - accuracy: 0.7637 - auc: 0.8392 - val_loss: 0.7719 - val_tp: 201.0000 - val_fn: 377.0000 - val_accuracy: 0.6524 - val_auc: 0.6499\n",
      "Epoch 25/250\n",
      "10/10 [==============================] - 3s 266ms/step - loss: 0.6532 - tp: 1918.0000 - fn: 554.0000 - accuracy: 0.7715 - auc: 0.8506 - val_loss: 0.7729 - val_tp: 194.0000 - val_fn: 384.0000 - val_accuracy: 0.6535 - val_auc: 0.6470\n",
      "Epoch 26/250\n",
      "10/10 [==============================] - 3s 266ms/step - loss: 0.6394 - tp: 1914.0000 - fn: 558.0000 - accuracy: 0.7812 - auc: 0.8597 - val_loss: 0.7741 - val_tp: 209.0000 - val_fn: 369.0000 - val_accuracy: 0.6512 - val_auc: 0.6466\n",
      "Epoch 27/250\n",
      "10/10 [==============================] - 3s 266ms/step - loss: 0.6249 - tp: 1948.0000 - fn: 524.0000 - accuracy: 0.7924 - auc: 0.8693 - val_loss: 0.7767 - val_tp: 167.0000 - val_fn: 411.0000 - val_accuracy: 0.6547 - val_auc: 0.6439\n",
      "Epoch 28/250\n",
      "10/10 [==============================] - 3s 269ms/step - loss: 0.6126 - tp: 1953.0000 - fn: 519.0000 - accuracy: 0.7975 - auc: 0.8762 - val_loss: 0.7768 - val_tp: 173.0000 - val_fn: 405.0000 - val_accuracy: 0.6494 - val_auc: 0.6436\n",
      "Epoch 29/250\n",
      "10/10 [==============================] - 3s 265ms/step - loss: 0.6008 - tp: 1981.0000 - fn: 491.0000 - accuracy: 0.8053 - auc: 0.8830 - val_loss: 0.7832 - val_tp: 140.0000 - val_fn: 438.0000 - val_accuracy: 0.6612 - val_auc: 0.6409\n",
      "Epoch 30/250\n",
      "10/10 [==============================] - 3s 267ms/step - loss: 0.5903 - tp: 1975.0000 - fn: 497.0000 - accuracy: 0.8132 - auc: 0.8888 - val_loss: 0.7824 - val_tp: 157.0000 - val_fn: 421.0000 - val_accuracy: 0.6571 - val_auc: 0.6402\n",
      "Epoch 31/250\n",
      "10/10 [==============================] - 3s 267ms/step - loss: 0.5834 - tp: 2004.0000 - fn: 468.0000 - accuracy: 0.8115 - auc: 0.8914 - val_loss: 0.7953 - val_tp: 103.0000 - val_fn: 475.0000 - val_accuracy: 0.6582 - val_auc: 0.6379\n",
      "Epoch 32/250\n",
      "10/10 [==============================] - 3s 263ms/step - loss: 0.5750 - tp: 2018.0000 - fn: 454.0000 - accuracy: 0.8179 - auc: 0.8963 - val_loss: 0.8014 - val_tp: 91.0000 - val_fn: 487.0000 - val_accuracy: 0.6582 - val_auc: 0.6370\n",
      "Epoch 33/250\n",
      "10/10 [==============================] - 3s 268ms/step - loss: 0.5693 - tp: 2029.0000 - fn: 443.0000 - accuracy: 0.8165 - auc: 0.8985 - val_loss: 0.7980 - val_tp: 109.0000 - val_fn: 469.0000 - val_accuracy: 0.6594 - val_auc: 0.6363\n",
      "Epoch 34/250\n",
      "10/10 [==============================] - 3s 337ms/step - loss: 0.5631 - tp: 1976.0000 - fn: 496.0000 - accuracy: 0.8281 - auc: 0.9024 - val_loss: 0.7858 - val_tp: 172.0000 - val_fn: 406.0000 - val_accuracy: 0.6482 - val_auc: 0.6382\n",
      "Epoch 35/250\n",
      "10/10 [==============================] - 3s 274ms/step - loss: 0.5587 - tp: 2033.0000 - fn: 439.0000 - accuracy: 0.8237 - auc: 0.9034 - val_loss: 0.7989 - val_tp: 113.0000 - val_fn: 465.0000 - val_accuracy: 0.6588 - val_auc: 0.6363\n",
      "Epoch 36/250\n",
      "10/10 [==============================] - 3s 270ms/step - loss: 0.5520 - tp: 2069.0000 - fn: 403.0000 - accuracy: 0.8265 - auc: 0.9075 - val_loss: 0.8020 - val_tp: 107.0000 - val_fn: 471.0000 - val_accuracy: 0.6600 - val_auc: 0.6362\n",
      "Epoch 37/250\n",
      "10/10 [==============================] - 3s 269ms/step - loss: 0.5487 - tp: 2045.0000 - fn: 427.0000 - accuracy: 0.8325 - auc: 0.9085 - val_loss: 0.7999 - val_tp: 114.0000 - val_fn: 464.0000 - val_accuracy: 0.6576 - val_auc: 0.6368\n",
      "Epoch 38/250\n",
      "10/10 [==============================] - 3s 271ms/step - loss: 0.5438 - tp: 2022.0000 - fn: 450.0000 - accuracy: 0.8365 - auc: 0.9113 - val_loss: 0.7953 - val_tp: 134.0000 - val_fn: 444.0000 - val_accuracy: 0.6588 - val_auc: 0.6369\n",
      "Epoch 39/250\n",
      "10/10 [==============================] - 3s 273ms/step - loss: 0.5429 - tp: 2084.0000 - fn: 388.0000 - accuracy: 0.8324 - auc: 0.9110 - val_loss: 0.8085 - val_tp: 102.0000 - val_fn: 476.0000 - val_accuracy: 0.6612 - val_auc: 0.6368\n",
      "Epoch 40/250\n",
      "10/10 [==============================] - 3s 274ms/step - loss: 0.5382 - tp: 2046.0000 - fn: 426.0000 - accuracy: 0.8376 - auc: 0.9134 - val_loss: 0.7937 - val_tp: 141.0000 - val_fn: 437.0000 - val_accuracy: 0.6600 - val_auc: 0.6386\n",
      "Epoch 41/250\n",
      "10/10 [==============================] - 3s 270ms/step - loss: 0.5351 - tp: 2076.0000 - fn: 396.0000 - accuracy: 0.8378 - auc: 0.9148 - val_loss: 0.8035 - val_tp: 112.0000 - val_fn: 466.0000 - val_accuracy: 0.6600 - val_auc: 0.6382\n",
      "Epoch 42/250\n",
      "10/10 [==============================] - 3s 267ms/step - loss: 0.5329 - tp: 2045.0000 - fn: 427.0000 - accuracy: 0.8418 - auc: 0.9159 - val_loss: 0.7977 - val_tp: 126.0000 - val_fn: 452.0000 - val_accuracy: 0.6582 - val_auc: 0.6391\n",
      "Epoch 43/250\n",
      "10/10 [==============================] - 3s 265ms/step - loss: 0.5309 - tp: 2088.0000 - fn: 384.0000 - accuracy: 0.8359 - auc: 0.9167 - val_loss: 0.8011 - val_tp: 117.0000 - val_fn: 461.0000 - val_accuracy: 0.6600 - val_auc: 0.6400\n",
      "Epoch 44/250\n",
      "10/10 [==============================] - 3s 268ms/step - loss: 0.5289 - tp: 2054.0000 - fn: 418.0000 - accuracy: 0.8443 - auc: 0.9178 - val_loss: 0.7957 - val_tp: 131.0000 - val_fn: 447.0000 - val_accuracy: 0.6594 - val_auc: 0.6414\n",
      "Epoch 45/250\n",
      "10/10 [==============================] - 3s 269ms/step - loss: 0.5267 - tp: 2097.0000 - fn: 375.0000 - accuracy: 0.8404 - auc: 0.9186 - val_loss: 0.7980 - val_tp: 119.0000 - val_fn: 459.0000 - val_accuracy: 0.6576 - val_auc: 0.6422\n",
      "Epoch 46/250\n",
      "10/10 [==============================] - 3s 271ms/step - loss: 0.5266 - tp: 2075.0000 - fn: 397.0000 - accuracy: 0.8425 - auc: 0.9182 - val_loss: 0.7962 - val_tp: 130.0000 - val_fn: 448.0000 - val_accuracy: 0.6647 - val_auc: 0.6434\n",
      "Epoch 47/250\n",
      "10/10 [==============================] - 3s 271ms/step - loss: 0.5241 - tp: 2078.0000 - fn: 394.0000 - accuracy: 0.8438 - auc: 0.9195 - val_loss: 0.7946 - val_tp: 132.0000 - val_fn: 446.0000 - val_accuracy: 0.6647 - val_auc: 0.6448\n",
      "Epoch 48/250\n",
      "10/10 [==============================] - 3s 269ms/step - loss: 0.5226 - tp: 2098.0000 - fn: 374.0000 - accuracy: 0.8443 - auc: 0.9202 - val_loss: 0.7939 - val_tp: 131.0000 - val_fn: 447.0000 - val_accuracy: 0.6635 - val_auc: 0.6464\n",
      "Epoch 49/250\n",
      "10/10 [==============================] - 3s 268ms/step - loss: 0.5221 - tp: 2082.0000 - fn: 390.0000 - accuracy: 0.8451 - auc: 0.9202 - val_loss: 0.7929 - val_tp: 130.0000 - val_fn: 448.0000 - val_accuracy: 0.6635 - val_auc: 0.6480\n",
      "Epoch 50/250\n",
      "10/10 [==============================] - 3s 271ms/step - loss: 0.5212 - tp: 2091.0000 - fn: 381.0000 - accuracy: 0.8421 - auc: 0.9204 - val_loss: 0.7908 - val_tp: 130.0000 - val_fn: 448.0000 - val_accuracy: 0.6629 - val_auc: 0.6498\n",
      "Epoch 51/250\n",
      "10/10 [==============================] - 3s 268ms/step - loss: 0.5194 - tp: 2091.0000 - fn: 381.0000 - accuracy: 0.8472 - auc: 0.9214 - val_loss: 0.7888 - val_tp: 134.0000 - val_fn: 444.0000 - val_accuracy: 0.6647 - val_auc: 0.6517\n",
      "Epoch 52/250\n",
      "10/10 [==============================] - 3s 320ms/step - loss: 0.5185 - tp: 2104.0000 - fn: 368.0000 - accuracy: 0.8469 - auc: 0.9218 - val_loss: 0.7869 - val_tp: 137.0000 - val_fn: 441.0000 - val_accuracy: 0.6671 - val_auc: 0.6536\n",
      "Epoch 53/250\n",
      "10/10 [==============================] - 3s 324ms/step - loss: 0.5194 - tp: 2089.0000 - fn: 383.0000 - accuracy: 0.8451 - auc: 0.9212 - val_loss: 0.7845 - val_tp: 142.0000 - val_fn: 436.0000 - val_accuracy: 0.6700 - val_auc: 0.6557\n",
      "Epoch 54/250\n",
      "10/10 [==============================] - 3s 322ms/step - loss: 0.5184 - tp: 2088.0000 - fn: 384.0000 - accuracy: 0.8443 - auc: 0.9216 - val_loss: 0.7830 - val_tp: 145.0000 - val_fn: 433.0000 - val_accuracy: 0.6712 - val_auc: 0.6578\n",
      "Epoch 55/250\n",
      "10/10 [==============================] - 3s 316ms/step - loss: 0.5175 - tp: 2089.0000 - fn: 383.0000 - accuracy: 0.8475 - auc: 0.9221 - val_loss: 0.7801 - val_tp: 152.0000 - val_fn: 426.0000 - val_accuracy: 0.6712 - val_auc: 0.6599\n",
      "Epoch 56/250\n",
      "10/10 [==============================] - 3s 307ms/step - loss: 0.5160 - tp: 2106.0000 - fn: 366.0000 - accuracy: 0.8475 - auc: 0.9227 - val_loss: 0.7782 - val_tp: 152.0000 - val_fn: 426.0000 - val_accuracy: 0.6729 - val_auc: 0.6621\n",
      "Epoch 57/250\n",
      "10/10 [==============================] - 3s 313ms/step - loss: 0.5160 - tp: 2096.0000 - fn: 376.0000 - accuracy: 0.8493 - auc: 0.9227 - val_loss: 0.7756 - val_tp: 161.0000 - val_fn: 417.0000 - val_accuracy: 0.6765 - val_auc: 0.6644\n",
      "Epoch 58/250\n",
      "10/10 [==============================] - 3s 309ms/step - loss: 0.5158 - tp: 2103.0000 - fn: 369.0000 - accuracy: 0.8494 - auc: 0.9226 - val_loss: 0.7725 - val_tp: 164.0000 - val_fn: 414.0000 - val_accuracy: 0.6747 - val_auc: 0.6668\n",
      "Epoch 59/250\n",
      "10/10 [==============================] - 3s 312ms/step - loss: 0.5154 - tp: 2105.0000 - fn: 367.0000 - accuracy: 0.8501 - auc: 0.9229 - val_loss: 0.7704 - val_tp: 169.0000 - val_fn: 409.0000 - val_accuracy: 0.6788 - val_auc: 0.6696\n",
      "Epoch 60/250\n",
      "10/10 [==============================] - 3s 316ms/step - loss: 0.5148 - tp: 2085.0000 - fn: 387.0000 - accuracy: 0.8466 - auc: 0.9231 - val_loss: 0.7681 - val_tp: 169.0000 - val_fn: 409.0000 - val_accuracy: 0.6753 - val_auc: 0.6715\n",
      "Epoch 61/250\n",
      "10/10 [==============================] - 3s 311ms/step - loss: 0.5149 - tp: 2107.0000 - fn: 365.0000 - accuracy: 0.8481 - auc: 0.9230 - val_loss: 0.7645 - val_tp: 180.0000 - val_fn: 398.0000 - val_accuracy: 0.6729 - val_auc: 0.6743\n",
      "Epoch 62/250\n",
      "10/10 [==============================] - 3s 318ms/step - loss: 0.5140 - tp: 2113.0000 - fn: 359.0000 - accuracy: 0.8484 - auc: 0.9236 - val_loss: 0.7627 - val_tp: 185.0000 - val_fn: 393.0000 - val_accuracy: 0.6759 - val_auc: 0.6763\n",
      "Epoch 63/250\n",
      "10/10 [==============================] - 3s 311ms/step - loss: 0.5143 - tp: 2105.0000 - fn: 367.0000 - accuracy: 0.8494 - auc: 0.9232 - val_loss: 0.7613 - val_tp: 188.0000 - val_fn: 390.0000 - val_accuracy: 0.6771 - val_auc: 0.6786\n",
      "Epoch 64/250\n",
      "10/10 [==============================] - 3s 312ms/step - loss: 0.5141 - tp: 2086.0000 - fn: 386.0000 - accuracy: 0.8468 - auc: 0.9233 - val_loss: 0.7595 - val_tp: 193.0000 - val_fn: 385.0000 - val_accuracy: 0.6771 - val_auc: 0.6806\n",
      "Epoch 65/250\n",
      "10/10 [==============================] - 4s 374ms/step - loss: 0.5146 - tp: 2093.0000 - fn: 379.0000 - accuracy: 0.8478 - auc: 0.9229 - val_loss: 0.7576 - val_tp: 201.0000 - val_fn: 377.0000 - val_accuracy: 0.6735 - val_auc: 0.6829\n",
      "Epoch 66/250\n",
      "10/10 [==============================] - 3s 316ms/step - loss: 0.5125 - tp: 2100.0000 - fn: 372.0000 - accuracy: 0.8488 - auc: 0.9242 - val_loss: 0.7561 - val_tp: 212.0000 - val_fn: 366.0000 - val_accuracy: 0.6765 - val_auc: 0.6849\n",
      "Epoch 67/250\n",
      "10/10 [==============================] - 3s 317ms/step - loss: 0.5130 - tp: 2100.0000 - fn: 372.0000 - accuracy: 0.8474 - auc: 0.9238 - val_loss: 0.7551 - val_tp: 219.0000 - val_fn: 359.0000 - val_accuracy: 0.6765 - val_auc: 0.6869\n",
      "Epoch 68/250\n",
      "10/10 [==============================] - 3s 310ms/step - loss: 0.5139 - tp: 2097.0000 - fn: 375.0000 - accuracy: 0.8494 - auc: 0.9232 - val_loss: 0.7544 - val_tp: 226.0000 - val_fn: 352.0000 - val_accuracy: 0.6765 - val_auc: 0.6887\n",
      "Epoch 69/250\n",
      "10/10 [==============================] - 3s 315ms/step - loss: 0.5122 - tp: 2103.0000 - fn: 369.0000 - accuracy: 0.8503 - auc: 0.9243 - val_loss: 0.7539 - val_tp: 231.0000 - val_fn: 347.0000 - val_accuracy: 0.6776 - val_auc: 0.6903\n",
      "Epoch 70/250\n",
      "10/10 [==============================] - 3s 314ms/step - loss: 0.5133 - tp: 2101.0000 - fn: 371.0000 - accuracy: 0.8494 - auc: 0.9235 - val_loss: 0.7537 - val_tp: 239.0000 - val_fn: 339.0000 - val_accuracy: 0.6788 - val_auc: 0.6920\n",
      "Epoch 71/250\n",
      "10/10 [==============================] - 3s 312ms/step - loss: 0.5127 - tp: 2097.0000 - fn: 375.0000 - accuracy: 0.8485 - auc: 0.9239 - val_loss: 0.7538 - val_tp: 244.0000 - val_fn: 334.0000 - val_accuracy: 0.6771 - val_auc: 0.6935\n",
      "Epoch 72/250\n",
      "10/10 [==============================] - 3s 313ms/step - loss: 0.5131 - tp: 2094.0000 - fn: 378.0000 - accuracy: 0.8479 - auc: 0.9237 - val_loss: 0.7543 - val_tp: 254.0000 - val_fn: 324.0000 - val_accuracy: 0.6765 - val_auc: 0.6944\n",
      "Epoch 73/250\n",
      "10/10 [==============================] - 3s 309ms/step - loss: 0.5125 - tp: 2099.0000 - fn: 373.0000 - accuracy: 0.8465 - auc: 0.9239 - val_loss: 0.7549 - val_tp: 262.0000 - val_fn: 316.0000 - val_accuracy: 0.6800 - val_auc: 0.6956\n",
      "Epoch 74/250\n",
      "10/10 [==============================] - 3s 309ms/step - loss: 0.5121 - tp: 2104.0000 - fn: 368.0000 - accuracy: 0.8491 - auc: 0.9241 - val_loss: 0.7557 - val_tp: 265.0000 - val_fn: 313.0000 - val_accuracy: 0.6782 - val_auc: 0.6965\n",
      "Epoch 75/250\n",
      "10/10 [==============================] - 3s 309ms/step - loss: 0.5123 - tp: 2109.0000 - fn: 363.0000 - accuracy: 0.8499 - auc: 0.9240 - val_loss: 0.7568 - val_tp: 271.0000 - val_fn: 307.0000 - val_accuracy: 0.6806 - val_auc: 0.6973\n",
      "Epoch 76/250\n",
      "10/10 [==============================] - 3s 312ms/step - loss: 0.5111 - tp: 2116.0000 - fn: 356.0000 - accuracy: 0.8513 - auc: 0.9247 - val_loss: 0.7579 - val_tp: 276.0000 - val_fn: 302.0000 - val_accuracy: 0.6806 - val_auc: 0.6981\n",
      "Epoch 77/250\n",
      "10/10 [==============================] - 3s 314ms/step - loss: 0.5118 - tp: 2104.0000 - fn: 368.0000 - accuracy: 0.8482 - auc: 0.9243 - val_loss: 0.7593 - val_tp: 283.0000 - val_fn: 295.0000 - val_accuracy: 0.6806 - val_auc: 0.6987\n",
      "Epoch 78/250\n",
      "10/10 [==============================] - 3s 310ms/step - loss: 0.5126 - tp: 2111.0000 - fn: 361.0000 - accuracy: 0.8497 - auc: 0.9238 - val_loss: 0.7607 - val_tp: 286.0000 - val_fn: 292.0000 - val_accuracy: 0.6806 - val_auc: 0.6993\n",
      "Epoch 79/250\n",
      "10/10 [==============================] - 3s 315ms/step - loss: 0.5112 - tp: 2093.0000 - fn: 379.0000 - accuracy: 0.8484 - auc: 0.9247 - val_loss: 0.7622 - val_tp: 296.0000 - val_fn: 282.0000 - val_accuracy: 0.6859 - val_auc: 0.6994\n",
      "Epoch 80/250\n",
      "10/10 [==============================] - 3s 321ms/step - loss: 0.5126 - tp: 2108.0000 - fn: 364.0000 - accuracy: 0.8468 - auc: 0.9237 - val_loss: 0.7638 - val_tp: 299.0000 - val_fn: 279.0000 - val_accuracy: 0.6859 - val_auc: 0.6999\n",
      "Epoch 81/250\n",
      "10/10 [==============================] - 3s 317ms/step - loss: 0.5110 - tp: 2100.0000 - fn: 372.0000 - accuracy: 0.8465 - auc: 0.9247 - val_loss: 0.7652 - val_tp: 303.0000 - val_fn: 275.0000 - val_accuracy: 0.6859 - val_auc: 0.7004\n",
      "Epoch 82/250\n",
      "10/10 [==============================] - 3s 320ms/step - loss: 0.5129 - tp: 2094.0000 - fn: 378.0000 - accuracy: 0.8468 - auc: 0.9237 - val_loss: 0.7669 - val_tp: 306.0000 - val_fn: 272.0000 - val_accuracy: 0.6871 - val_auc: 0.7006\n",
      "Epoch 83/250\n",
      "10/10 [==============================] - 3s 312ms/step - loss: 0.5123 - tp: 2100.0000 - fn: 372.0000 - accuracy: 0.8475 - auc: 0.9239 - val_loss: 0.7686 - val_tp: 307.0000 - val_fn: 271.0000 - val_accuracy: 0.6859 - val_auc: 0.7008\n",
      "Epoch 84/250\n",
      "10/10 [==============================] - 3s 316ms/step - loss: 0.5119 - tp: 2098.0000 - fn: 374.0000 - accuracy: 0.8479 - auc: 0.9242 - val_loss: 0.7704 - val_tp: 310.0000 - val_fn: 268.0000 - val_accuracy: 0.6829 - val_auc: 0.7009\n",
      "Epoch 85/250\n",
      "10/10 [==============================] - 3s 318ms/step - loss: 0.5119 - tp: 2106.0000 - fn: 366.0000 - accuracy: 0.8487 - auc: 0.9242 - val_loss: 0.7719 - val_tp: 316.0000 - val_fn: 262.0000 - val_accuracy: 0.6847 - val_auc: 0.7011\n",
      "Epoch 86/250\n",
      "10/10 [==============================] - 3s 314ms/step - loss: 0.5113 - tp: 2098.0000 - fn: 374.0000 - accuracy: 0.8478 - auc: 0.9246 - val_loss: 0.7734 - val_tp: 318.0000 - val_fn: 260.0000 - val_accuracy: 0.6835 - val_auc: 0.7013\n",
      "Epoch 87/250\n",
      "10/10 [==============================] - 3s 317ms/step - loss: 0.5109 - tp: 2100.0000 - fn: 372.0000 - accuracy: 0.8487 - auc: 0.9247 - val_loss: 0.7749 - val_tp: 320.0000 - val_fn: 258.0000 - val_accuracy: 0.6829 - val_auc: 0.7014\n",
      "Epoch 88/250\n",
      "10/10 [==============================] - 3s 268ms/step - loss: 0.5109 - tp: 2105.0000 - fn: 367.0000 - accuracy: 0.8499 - auc: 0.9247 - val_loss: 0.7763 - val_tp: 322.0000 - val_fn: 256.0000 - val_accuracy: 0.6835 - val_auc: 0.7013\n",
      "Epoch 89/250\n",
      "10/10 [==============================] - 3s 272ms/step - loss: 0.5113 - tp: 2105.0000 - fn: 367.0000 - accuracy: 0.8493 - auc: 0.9246 - val_loss: 0.7777 - val_tp: 323.0000 - val_fn: 255.0000 - val_accuracy: 0.6835 - val_auc: 0.7014\n",
      "Epoch 90/250\n",
      "10/10 [==============================] - 3s 266ms/step - loss: 0.5112 - tp: 2114.0000 - fn: 358.0000 - accuracy: 0.8504 - auc: 0.9246 - val_loss: 0.7789 - val_tp: 324.0000 - val_fn: 254.0000 - val_accuracy: 0.6812 - val_auc: 0.7014\n",
      "Epoch 91/250\n",
      "10/10 [==============================] - 3s 270ms/step - loss: 0.5114 - tp: 2101.0000 - fn: 371.0000 - accuracy: 0.8484 - auc: 0.9244 - val_loss: 0.7801 - val_tp: 325.0000 - val_fn: 253.0000 - val_accuracy: 0.6794 - val_auc: 0.7014\n",
      "Epoch 92/250\n",
      "10/10 [==============================] - 3s 273ms/step - loss: 0.5112 - tp: 2112.0000 - fn: 360.0000 - accuracy: 0.8494 - auc: 0.9246 - val_loss: 0.7813 - val_tp: 325.0000 - val_fn: 253.0000 - val_accuracy: 0.6776 - val_auc: 0.7013\n",
      "Epoch 93/250\n",
      "10/10 [==============================] - 3s 270ms/step - loss: 0.5104 - tp: 2105.0000 - fn: 367.0000 - accuracy: 0.8510 - auc: 0.9250 - val_loss: 0.7824 - val_tp: 325.0000 - val_fn: 253.0000 - val_accuracy: 0.6759 - val_auc: 0.7012\n",
      "Epoch 94/250\n",
      "10/10 [==============================] - 3s 277ms/step - loss: 0.5110 - tp: 2102.0000 - fn: 370.0000 - accuracy: 0.8490 - auc: 0.9247 - val_loss: 0.7833 - val_tp: 326.0000 - val_fn: 252.0000 - val_accuracy: 0.6753 - val_auc: 0.7013\n",
      "Epoch 95/250\n",
      "10/10 [==============================] - 3s 271ms/step - loss: 0.5116 - tp: 2116.0000 - fn: 356.0000 - accuracy: 0.8531 - auc: 0.9243 - val_loss: 0.7843 - val_tp: 327.0000 - val_fn: 251.0000 - val_accuracy: 0.6747 - val_auc: 0.7013\n",
      "Epoch 96/250\n",
      "10/10 [==============================] - 3s 332ms/step - loss: 0.5109 - tp: 2102.0000 - fn: 370.0000 - accuracy: 0.8494 - auc: 0.9247 - val_loss: 0.7851 - val_tp: 329.0000 - val_fn: 249.0000 - val_accuracy: 0.6753 - val_auc: 0.7013\n",
      "Epoch 97/250\n",
      "10/10 [==============================] - 3s 269ms/step - loss: 0.5115 - tp: 2099.0000 - fn: 373.0000 - accuracy: 0.8476 - auc: 0.9243 - val_loss: 0.7859 - val_tp: 329.0000 - val_fn: 249.0000 - val_accuracy: 0.6753 - val_auc: 0.7013\n",
      "Epoch 98/250\n",
      "10/10 [==============================] - 3s 272ms/step - loss: 0.5103 - tp: 2113.0000 - fn: 359.0000 - accuracy: 0.8509 - auc: 0.9250 - val_loss: 0.7866 - val_tp: 329.0000 - val_fn: 249.0000 - val_accuracy: 0.6747 - val_auc: 0.7012\n",
      "Epoch 99/250\n",
      "10/10 [==============================] - 3s 273ms/step - loss: 0.5110 - tp: 2106.0000 - fn: 366.0000 - accuracy: 0.8493 - auc: 0.9247 - val_loss: 0.7873 - val_tp: 330.0000 - val_fn: 248.0000 - val_accuracy: 0.6747 - val_auc: 0.7012\n",
      "Epoch 100/250\n",
      "10/10 [==============================] - 3s 271ms/step - loss: 0.5111 - tp: 2107.0000 - fn: 365.0000 - accuracy: 0.8497 - auc: 0.9246 - val_loss: 0.7879 - val_tp: 331.0000 - val_fn: 247.0000 - val_accuracy: 0.6747 - val_auc: 0.7012\n",
      "Epoch 101/250\n",
      "10/10 [==============================] - 3s 270ms/step - loss: 0.5106 - tp: 2102.0000 - fn: 370.0000 - accuracy: 0.8487 - auc: 0.9248 - val_loss: 0.7885 - val_tp: 331.0000 - val_fn: 247.0000 - val_accuracy: 0.6747 - val_auc: 0.7012\n",
      "Epoch 102/250\n",
      "10/10 [==============================] - 3s 266ms/step - loss: 0.5118 - tp: 2102.0000 - fn: 370.0000 - accuracy: 0.8490 - auc: 0.9241 - val_loss: 0.7890 - val_tp: 331.0000 - val_fn: 247.0000 - val_accuracy: 0.6741 - val_auc: 0.7013\n",
      "Epoch 103/250\n",
      "10/10 [==============================] - 3s 269ms/step - loss: 0.5117 - tp: 2096.0000 - fn: 376.0000 - accuracy: 0.8478 - auc: 0.9243 - val_loss: 0.7895 - val_tp: 331.0000 - val_fn: 247.0000 - val_accuracy: 0.6735 - val_auc: 0.7012\n",
      "Epoch 104/250\n",
      "10/10 [==============================] - 3s 266ms/step - loss: 0.5109 - tp: 2098.0000 - fn: 374.0000 - accuracy: 0.8484 - auc: 0.9247 - val_loss: 0.7898 - val_tp: 332.0000 - val_fn: 246.0000 - val_accuracy: 0.6735 - val_auc: 0.7012\n",
      "Epoch 105/250\n",
      "10/10 [==============================] - 3s 267ms/step - loss: 0.5110 - tp: 2100.0000 - fn: 372.0000 - accuracy: 0.8481 - auc: 0.9246 - val_loss: 0.7903 - val_tp: 333.0000 - val_fn: 245.0000 - val_accuracy: 0.6735 - val_auc: 0.7011\n",
      "Epoch 106/250\n",
      "10/10 [==============================] - 3s 268ms/step - loss: 0.5106 - tp: 2114.0000 - fn: 358.0000 - accuracy: 0.8500 - auc: 0.9248 - val_loss: 0.7906 - val_tp: 334.0000 - val_fn: 244.0000 - val_accuracy: 0.6741 - val_auc: 0.7012\n",
      "Epoch 107/250\n",
      "10/10 [==============================] - 3s 268ms/step - loss: 0.5116 - tp: 2098.0000 - fn: 374.0000 - accuracy: 0.8485 - auc: 0.9242 - val_loss: 0.7909 - val_tp: 336.0000 - val_fn: 242.0000 - val_accuracy: 0.6747 - val_auc: 0.7013\n",
      "Epoch 108/250\n",
      "10/10 [==============================] - 3s 274ms/step - loss: 0.5114 - tp: 2107.0000 - fn: 365.0000 - accuracy: 0.8503 - auc: 0.9243 - val_loss: 0.7911 - val_tp: 337.0000 - val_fn: 241.0000 - val_accuracy: 0.6753 - val_auc: 0.7014\n",
      "Epoch 109/250\n",
      "10/10 [==============================] - 3s 321ms/step - loss: 0.5112 - tp: 2102.0000 - fn: 370.0000 - accuracy: 0.8493 - auc: 0.9245 - val_loss: 0.7914 - val_tp: 337.0000 - val_fn: 241.0000 - val_accuracy: 0.6753 - val_auc: 0.7015\n",
      "Epoch 110/250\n",
      "10/10 [==============================] - 3s 270ms/step - loss: 0.5114 - tp: 2097.0000 - fn: 375.0000 - accuracy: 0.8487 - auc: 0.9244 - val_loss: 0.7916 - val_tp: 337.0000 - val_fn: 241.0000 - val_accuracy: 0.6747 - val_auc: 0.7014\n",
      "Epoch 111/250\n",
      "10/10 [==============================] - 3s 314ms/step - loss: 0.5107 - tp: 2097.0000 - fn: 375.0000 - accuracy: 0.8490 - auc: 0.9249 - val_loss: 0.7918 - val_tp: 338.0000 - val_fn: 240.0000 - val_accuracy: 0.6753 - val_auc: 0.7015\n",
      "Epoch 112/250\n",
      "10/10 [==============================] - 3s 313ms/step - loss: 0.5109 - tp: 2107.0000 - fn: 365.0000 - accuracy: 0.8482 - auc: 0.9246 - val_loss: 0.7920 - val_tp: 338.0000 - val_fn: 240.0000 - val_accuracy: 0.6747 - val_auc: 0.7015\n",
      "Epoch 113/250\n",
      "10/10 [==============================] - 3s 269ms/step - loss: 0.5110 - tp: 2105.0000 - fn: 367.0000 - accuracy: 0.8494 - auc: 0.9247 - val_loss: 0.7922 - val_tp: 338.0000 - val_fn: 240.0000 - val_accuracy: 0.6741 - val_auc: 0.7015\n",
      "Epoch 114/250\n",
      "10/10 [==============================] - 3s 273ms/step - loss: 0.5106 - tp: 2108.0000 - fn: 364.0000 - accuracy: 0.8503 - auc: 0.9249 - val_loss: 0.7924 - val_tp: 339.0000 - val_fn: 239.0000 - val_accuracy: 0.6753 - val_auc: 0.7015\n",
      "Epoch 115/250\n",
      "10/10 [==============================] - 3s 272ms/step - loss: 0.5105 - tp: 2103.0000 - fn: 369.0000 - accuracy: 0.8516 - auc: 0.9250 - val_loss: 0.7925 - val_tp: 339.0000 - val_fn: 239.0000 - val_accuracy: 0.6753 - val_auc: 0.7013\n",
      "Epoch 116/250\n",
      "10/10 [==============================] - 3s 272ms/step - loss: 0.5112 - tp: 2095.0000 - fn: 377.0000 - accuracy: 0.8478 - auc: 0.9245 - val_loss: 0.7927 - val_tp: 339.0000 - val_fn: 239.0000 - val_accuracy: 0.6753 - val_auc: 0.7014\n",
      "Epoch 117/250\n",
      "10/10 [==============================] - 3s 267ms/step - loss: 0.5113 - tp: 2105.0000 - fn: 367.0000 - accuracy: 0.8488 - auc: 0.9244 - val_loss: 0.7928 - val_tp: 339.0000 - val_fn: 239.0000 - val_accuracy: 0.6753 - val_auc: 0.7013\n",
      "Epoch 118/250\n",
      "10/10 [==============================] - 3s 270ms/step - loss: 0.5110 - tp: 2105.0000 - fn: 367.0000 - accuracy: 0.8504 - auc: 0.9246 - val_loss: 0.7929 - val_tp: 339.0000 - val_fn: 239.0000 - val_accuracy: 0.6741 - val_auc: 0.7013\n",
      "Epoch 119/250\n",
      "10/10 [==============================] - 3s 268ms/step - loss: 0.5113 - tp: 2092.0000 - fn: 380.0000 - accuracy: 0.8482 - auc: 0.9244 - val_loss: 0.7930 - val_tp: 339.0000 - val_fn: 239.0000 - val_accuracy: 0.6747 - val_auc: 0.7014\n",
      "Epoch 120/250\n",
      "10/10 [==============================] - 3s 268ms/step - loss: 0.5120 - tp: 2094.0000 - fn: 378.0000 - accuracy: 0.8463 - auc: 0.9240 - val_loss: 0.7930 - val_tp: 339.0000 - val_fn: 239.0000 - val_accuracy: 0.6741 - val_auc: 0.7013\n",
      "Epoch 121/250\n",
      "10/10 [==============================] - 3s 270ms/step - loss: 0.5106 - tp: 2098.0000 - fn: 374.0000 - accuracy: 0.8472 - auc: 0.9249 - val_loss: 0.7930 - val_tp: 339.0000 - val_fn: 239.0000 - val_accuracy: 0.6747 - val_auc: 0.7013\n",
      "Epoch 122/250\n",
      "10/10 [==============================] - 3s 267ms/step - loss: 0.5102 - tp: 2113.0000 - fn: 359.0000 - accuracy: 0.8515 - auc: 0.9251 - val_loss: 0.7931 - val_tp: 340.0000 - val_fn: 238.0000 - val_accuracy: 0.6753 - val_auc: 0.7014\n",
      "Epoch 123/250\n",
      "10/10 [==============================] - 3s 267ms/step - loss: 0.5102 - tp: 2107.0000 - fn: 365.0000 - accuracy: 0.8507 - auc: 0.9251 - val_loss: 0.7932 - val_tp: 340.0000 - val_fn: 238.0000 - val_accuracy: 0.6747 - val_auc: 0.7013\n",
      "Epoch 124/250\n",
      "10/10 [==============================] - 3s 269ms/step - loss: 0.5104 - tp: 2098.0000 - fn: 374.0000 - accuracy: 0.8472 - auc: 0.9250 - val_loss: 0.7932 - val_tp: 340.0000 - val_fn: 238.0000 - val_accuracy: 0.6741 - val_auc: 0.7014\n",
      "Epoch 125/250\n",
      "10/10 [==============================] - 3s 269ms/step - loss: 0.5114 - tp: 2101.0000 - fn: 371.0000 - accuracy: 0.8499 - auc: 0.9245 - val_loss: 0.7933 - val_tp: 340.0000 - val_fn: 238.0000 - val_accuracy: 0.6747 - val_auc: 0.7014\n",
      "Epoch 126/250\n",
      "10/10 [==============================] - 3s 277ms/step - loss: 0.5120 - tp: 2088.0000 - fn: 384.0000 - accuracy: 0.8475 - auc: 0.9241 - val_loss: 0.7933 - val_tp: 340.0000 - val_fn: 238.0000 - val_accuracy: 0.6753 - val_auc: 0.7014\n",
      "Epoch 127/250\n",
      "10/10 [==============================] - 3s 332ms/step - loss: 0.5111 - tp: 2100.0000 - fn: 372.0000 - accuracy: 0.8478 - auc: 0.9247 - val_loss: 0.7934 - val_tp: 340.0000 - val_fn: 238.0000 - val_accuracy: 0.6753 - val_auc: 0.7014\n",
      "Epoch 128/250\n",
      "10/10 [==============================] - 3s 273ms/step - loss: 0.5102 - tp: 2107.0000 - fn: 365.0000 - accuracy: 0.8475 - auc: 0.9250 - val_loss: 0.7935 - val_tp: 340.0000 - val_fn: 238.0000 - val_accuracy: 0.6759 - val_auc: 0.7013\n",
      "Epoch 129/250\n",
      "10/10 [==============================] - 3s 276ms/step - loss: 0.5119 - tp: 2106.0000 - fn: 366.0000 - accuracy: 0.8499 - auc: 0.9242 - val_loss: 0.7936 - val_tp: 340.0000 - val_fn: 238.0000 - val_accuracy: 0.6753 - val_auc: 0.7013\n",
      "Epoch 130/250\n",
      "10/10 [==============================] - 3s 270ms/step - loss: 0.5111 - tp: 2098.0000 - fn: 374.0000 - accuracy: 0.8468 - auc: 0.9246 - val_loss: 0.7936 - val_tp: 340.0000 - val_fn: 238.0000 - val_accuracy: 0.6747 - val_auc: 0.7012\n",
      "Epoch 131/250\n",
      "10/10 [==============================] - 3s 274ms/step - loss: 0.5111 - tp: 2105.0000 - fn: 367.0000 - accuracy: 0.8496 - auc: 0.9246 - val_loss: 0.7936 - val_tp: 340.0000 - val_fn: 238.0000 - val_accuracy: 0.6753 - val_auc: 0.7014\n",
      "Epoch 132/250\n",
      "10/10 [==============================] - 3s 271ms/step - loss: 0.5101 - tp: 2100.0000 - fn: 372.0000 - accuracy: 0.8490 - auc: 0.9251 - val_loss: 0.7936 - val_tp: 340.0000 - val_fn: 238.0000 - val_accuracy: 0.6747 - val_auc: 0.7015\n",
      "Epoch 133/250\n",
      "10/10 [==============================] - 3s 272ms/step - loss: 0.5118 - tp: 2094.0000 - fn: 378.0000 - accuracy: 0.8475 - auc: 0.9240 - val_loss: 0.7937 - val_tp: 340.0000 - val_fn: 238.0000 - val_accuracy: 0.6753 - val_auc: 0.7013\n",
      "Epoch 134/250\n",
      "10/10 [==============================] - 3s 270ms/step - loss: 0.5122 - tp: 2094.0000 - fn: 378.0000 - accuracy: 0.8472 - auc: 0.9239 - val_loss: 0.7937 - val_tp: 340.0000 - val_fn: 238.0000 - val_accuracy: 0.6747 - val_auc: 0.7013\n",
      "Epoch 135/250\n",
      "10/10 [==============================] - 3s 271ms/step - loss: 0.5107 - tp: 2093.0000 - fn: 379.0000 - accuracy: 0.8469 - auc: 0.9248 - val_loss: 0.7937 - val_tp: 340.0000 - val_fn: 238.0000 - val_accuracy: 0.6747 - val_auc: 0.7014\n",
      "Epoch 136/250\n",
      "10/10 [==============================] - 3s 266ms/step - loss: 0.5118 - tp: 2103.0000 - fn: 369.0000 - accuracy: 0.8503 - auc: 0.9241 - val_loss: 0.7937 - val_tp: 340.0000 - val_fn: 238.0000 - val_accuracy: 0.6741 - val_auc: 0.7013\n",
      "Epoch 137/250\n",
      "10/10 [==============================] - 3s 269ms/step - loss: 0.5117 - tp: 2102.0000 - fn: 370.0000 - accuracy: 0.8490 - auc: 0.9242 - val_loss: 0.7937 - val_tp: 340.0000 - val_fn: 238.0000 - val_accuracy: 0.6747 - val_auc: 0.7013\n",
      "Epoch 138/250\n",
      "10/10 [==============================] - 3s 269ms/step - loss: 0.5106 - tp: 2101.0000 - fn: 371.0000 - accuracy: 0.8474 - auc: 0.9250 - val_loss: 0.7937 - val_tp: 340.0000 - val_fn: 238.0000 - val_accuracy: 0.6741 - val_auc: 0.7013\n",
      "Epoch 139/250\n",
      "10/10 [==============================] - 3s 269ms/step - loss: 0.5112 - tp: 2100.0000 - fn: 372.0000 - accuracy: 0.8494 - auc: 0.9245 - val_loss: 0.7937 - val_tp: 340.0000 - val_fn: 238.0000 - val_accuracy: 0.6741 - val_auc: 0.7014\n",
      "Epoch 140/250\n",
      "10/10 [==============================] - 3s 269ms/step - loss: 0.5113 - tp: 2100.0000 - fn: 372.0000 - accuracy: 0.8510 - auc: 0.9245 - val_loss: 0.7937 - val_tp: 340.0000 - val_fn: 238.0000 - val_accuracy: 0.6747 - val_auc: 0.7014\n",
      "Epoch 141/250\n",
      "10/10 [==============================] - 3s 275ms/step - loss: 0.5112 - tp: 2094.0000 - fn: 378.0000 - accuracy: 0.8474 - auc: 0.9245 - val_loss: 0.7938 - val_tp: 340.0000 - val_fn: 238.0000 - val_accuracy: 0.6747 - val_auc: 0.7014\n",
      "Epoch 142/250\n",
      "10/10 [==============================] - 3s 269ms/step - loss: 0.5108 - tp: 2099.0000 - fn: 373.0000 - accuracy: 0.8485 - auc: 0.9248 - val_loss: 0.7937 - val_tp: 340.0000 - val_fn: 238.0000 - val_accuracy: 0.6747 - val_auc: 0.7013\n",
      "Epoch 143/250\n",
      "10/10 [==============================] - 3s 269ms/step - loss: 0.5107 - tp: 2108.0000 - fn: 364.0000 - accuracy: 0.8482 - auc: 0.9248 - val_loss: 0.7937 - val_tp: 341.0000 - val_fn: 237.0000 - val_accuracy: 0.6747 - val_auc: 0.7014\n",
      "Epoch 144/250\n",
      "10/10 [==============================] - 3s 271ms/step - loss: 0.5109 - tp: 2104.0000 - fn: 368.0000 - accuracy: 0.8494 - auc: 0.9246 - val_loss: 0.7937 - val_tp: 340.0000 - val_fn: 238.0000 - val_accuracy: 0.6741 - val_auc: 0.7013\n",
      "Epoch 145/250\n",
      "10/10 [==============================] - 3s 271ms/step - loss: 0.5103 - tp: 2105.0000 - fn: 367.0000 - accuracy: 0.8497 - auc: 0.9251 - val_loss: 0.7937 - val_tp: 341.0000 - val_fn: 237.0000 - val_accuracy: 0.6753 - val_auc: 0.7015\n",
      "Epoch 146/250\n",
      "10/10 [==============================] - 3s 270ms/step - loss: 0.5122 - tp: 2098.0000 - fn: 374.0000 - accuracy: 0.8476 - auc: 0.9239 - val_loss: 0.7937 - val_tp: 341.0000 - val_fn: 237.0000 - val_accuracy: 0.6753 - val_auc: 0.7015\n",
      "Epoch 147/250\n",
      "10/10 [==============================] - 9s 859ms/step - loss: 0.5118 - tp: 2097.0000 - fn: 375.0000 - accuracy: 0.8482 - auc: 0.9242 - val_loss: 0.7938 - val_tp: 341.0000 - val_fn: 237.0000 - val_accuracy: 0.6753 - val_auc: 0.7014\n"
     ]
    }
   ],
   "source": [
    "#calculate class weights\n",
    "target_0 = 5450 #these values will not change (are from review of test ds)\n",
    "target_1 = 3050\n",
    "total = target_0 + target_1\n",
    "\n",
    "class_weight_0 = (1 / target_0) * (total) / 2.0\n",
    "class_weight_1 = (1 / target_1) * (total) / 2.0\n",
    "\n",
    "class_weights = {0: class_weight_0, 1: class_weight_1}\n",
    "\n",
    "\n",
    "#early stopping if validation auc stops improving\n",
    "early_stopping = tf.keras.callbacks.EarlyStopping(monitor='val_auc', #val_auc\n",
    "                                patience=35,\n",
    "                                mode='max',\n",
    "                                restore_best_weights=True)\n",
    "\n",
    "\n",
    "\n",
    "\n",
    "for train_data, train_groundTruth in train_ds:\n",
    "    for valid_data, valid_groundTruth in valid_ds:\n",
    "        history = model.fit(train_data, \n",
    "                            train_groundTruth, \n",
    "                            steps_per_epoch=10, \n",
    "                            validation_data=(valid_data, valid_groundTruth), \n",
    "                            validation_steps=2,\n",
    "                            callbacks=[early_stopping],\n",
    "                            class_weight=class_weights,\n",
    "                            epochs=250)\n"
   ]
  },
  {
   "cell_type": "code",
   "execution_count": 17,
   "metadata": {
    "colab": {},
    "colab_type": "code",
    "id": "WNQKf2Y08zw2"
   },
   "outputs": [],
   "source": [
    "def plot_metric(metric1, metric2, ylabel):\n",
    "    plt.plot(history.history[metric1], label=metric1)\n",
    "    plt.plot(history.history[metric2], label=metric2)\n",
    "    plt.ylabel(ylabel)\n",
    "    plt.xlabel('epoch')\n",
    "    plt.legend()\n",
    "    plt.show()"
   ]
  },
  {
   "cell_type": "code",
   "execution_count": 18,
   "metadata": {
    "colab": {
     "base_uri": "https://localhost:8080/",
     "height": 803
    },
    "colab_type": "code",
    "id": "_BG-kKjK83qC",
    "outputId": "15a682e7-54a9-4881-8c25-98687aec0e8f"
   },
   "outputs": [
    {
     "data": {
      "image/png": "[encoded data removed]",
      "text/plain": [
       "<Figure size 432x288 with 1 Axes>"
      ]
     },
     "metadata": {
      "needs_background": "light",
      "tags": []
     },
     "output_type": "display_data"
    },
    {
     "data": {
      "image/png": "[encoded data removed]",
      "text/plain": [
       "<Figure size 432x288 with 1 Axes>"
      ]
     },
     "metadata": {
      "needs_background": "light",
      "tags": []
     },
     "output_type": "display_data"
    },
    {
     "data": {
      "image/png": "[encoded data removed]",
      "text/plain": [
       "<Figure size 432x288 with 1 Axes>"
      ]
     },
     "metadata": {
      "needs_background": "light",
      "tags": []
     },
     "output_type": "display_data"
    }
   ],
   "source": [
    "plot_metric('auc', 'val_auc', 'auc')\n",
    "plot_metric('loss', 'val_loss', 'loss')\n",
    "plot_metric('accuracy', 'val_accuracy', 'accuracy')"
   ]
  },
  {
   "cell_type": "code",
   "execution_count": 19,
   "metadata": {
    "colab": {
     "base_uri": "https://localhost:8080/",
     "height": 34
    },
    "colab_type": "code",
    "id": "NjL-SsIv-K5O",
    "outputId": "5d4da780-a4dc-4823-9482-5b4873510ab9"
   },
   "outputs": [
    {
     "data": {
      "text/plain": [
       "0.701512336730957"
      ]
     },
     "execution_count": 19,
     "metadata": {
      "tags": []
     },
     "output_type": "execute_result"
    }
   ],
   "source": [
    "max(history.history['val_auc'])"
   ]
  },
  {
   "cell_type": "code",
   "execution_count": 20,
   "metadata": {
    "colab": {},
    "colab_type": "code",
    "id": "bE6q1VFf-ME7"
   },
   "outputs": [],
   "source": [
    "model_name = 'model_hateful_memes_v{}.h5'.format(params['version'])\n",
    "model.save(model_name)\n",
    "bucket = client.bucket('jh_hateful_memes')\n",
    "blob = bucket.blob(model_name)\n",
    "blob.upload_from_filename(model_name)#fix this"
   ]
  },
  {
   "cell_type": "code",
   "execution_count": 21,
   "metadata": {
    "colab": {
     "base_uri": "https://localhost:8080/",
     "height": 54
    },
    "colab_type": "code",
    "id": "Dh9c21R6lEZc",
    "outputId": "b7caed7c-15f7-435d-8ba7-09668e84e64a"
   },
   "outputs": [
    {
     "name": "stderr",
     "output_type": "stream",
     "text": [
      "WARNING:google.auth._default:No project ID could be determined. Consider running `gcloud config set project` or setting the GOOGLE_CLOUD_PROJECT environment variable\n"
     ]
    }
   ],
   "source": [
    "#make into a fn\n",
    "bucket = 'jh_hateful_memes_test'\n",
    "client = storage.Client(project='hateful-memes', credentials=credentials)\n",
    "objects = client.list_blobs(bucket, prefix='hatefulmemes_')\n",
    "tfrecords = []\n",
    "for object_ in objects:\n",
    "    path = str(object_).split(', ')[1]\n",
    "    gs_path = os.path.join('gs://', bucket, path)\n",
    "    tfrecords.append(gs_path) #gs_path"
   ]
  },
  {
   "cell_type": "code",
   "execution_count": 21,
   "metadata": {
    "colab": {},
    "colab_type": "code",
    "id": "jU-hPa_8lMNP"
   },
   "outputs": [],
   "source": [
    ""
   ]
  },
  {
   "cell_type": "code",
   "execution_count": 22,
   "metadata": {
    "colab": {},
    "colab_type": "code",
    "id": "bcVbjWe8i-Kr"
   },
   "outputs": [],
   "source": [
    "test_ds, test_steps = create_ds(tfrecords, params, train=False)"
   ]
  },
  {
   "cell_type": "code",
   "execution_count": 23,
   "metadata": {
    "colab": {},
    "colab_type": "code",
    "id": "or7-zGBVlppw"
   },
   "outputs": [],
   "source": [
    "for x_test, ids in test_ds:\n",
    "    predictions = model.predict(x_test, steps=test_steps)\n",
    "    prediction_ids = ids"
   ]
  },
  {
   "cell_type": "code",
   "execution_count": 24,
   "metadata": {
    "colab": {},
    "colab_type": "code",
    "id": "ABcoxiAH_le8"
   },
   "outputs": [],
   "source": [
    "prediction_dict = {\n",
    "    'id': prediction_ids,\n",
    "    'proba': np.concatenate(predictions),\n",
    "    'label': np.ones(1000, int)\n",
    "}\n",
    "submission_ds = pd.DataFrame(prediction_dict)\n",
    "\n"
   ]
  },
  {
   "cell_type": "code",
   "execution_count": 25,
   "metadata": {
    "colab": {},
    "colab_type": "code",
    "id": "UC0AiCcELFFD"
   },
   "outputs": [],
   "source": [
    "submission_ds.to_csv('submission.csv', index=False)"
   ]
  },
  {
   "cell_type": "code",
   "execution_count": 25,
   "metadata": {
    "colab": {},
    "colab_type": "code",
    "id": "6jRRG4aSybhh"
   },
   "outputs": [],
   "source": [
    ""
   ]
  },
  {
   "cell_type": "code",
   "execution_count": 25,
   "metadata": {
    "colab": {},
    "colab_type": "code",
    "id": "KDEZ4oV8ybhi"
   },
   "outputs": [],
   "source": [
    ""
   ]
  }
 ],
 "metadata": {
  "accelerator": "TPU",
  "colab": {
   "name": "two_input_model (1).ipynb",
   "provenance": []
  },
  "kernelspec": {
   "display_name": "Python 3",
   "language": "python",
   "name": "python3"
  },
  "language_info": {
   "codemirror_mode": {
    "name": "ipython",
    "version": 3
   },
   "file_extension": ".py",
   "mimetype": "text/x-python",
   "name": "python",
   "nbconvert_exporter": "python",
   "pygments_lexer": "ipython3",
   "version": "3.7.3"
  }
 },
 "nbformat": 4,
 "nbformat_minor": 0
}
