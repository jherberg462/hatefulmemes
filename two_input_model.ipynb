{
 "cells": [
  {
   "cell_type": "code",
   "execution_count": 1,
   "metadata": {
    "colab": {
     "base_uri": "https://localhost:8080/",
     "height": 34
    },
    "id": "e4BdgGfH718Y",
    "outputId": "acf7bff1-f909-4715-9808-6df74443ac54"
   },
   "outputs": [
    {
     "name": "stdout",
     "output_type": "stream",
     "text": [
      "2.3.0\n"
     ]
    }
   ],
   "source": [
    "#set random seeds\n",
    "from numpy.random import seed\n",
    "seed(1)\n",
    "from tensorflow.random import set_seed\n",
    "set_seed(1)\n",
    "\n",
    "import pandas as pd\n",
    "import numpy as np\n",
    "\n",
    "#machine learning\n",
    "import tensorflow as tf\n",
    "print(tf.__version__)\n",
    "from tensorflow.keras import layers \n",
    "from tensorflow import keras\n",
    "from sklearn.model_selection import train_test_split\n",
    "\n",
    "#accessing files\n",
    "from google.cloud import storage\n",
    "import os\n",
    "\n",
    "#display charts/images\n",
    "import matplotlib.pyplot as plt\n",
    "\n",
    "#don't need\n",
    "from tensorflow.python.keras.preprocessing import sequence\n",
    "# from tensorflow.python.keras.preprocessing import text\n",
    "import tensorflow_hub as hub\n",
    "\n",
    "import json\n",
    "\n",
    "\n"
   ]
  },
  {
   "cell_type": "code",
   "execution_count": 2,
   "metadata": {
    "id": "9__sYCZ7718e"
   },
   "outputs": [],
   "source": [
    "params = {\n",
    "    'image_size': [299, 299],\n",
    "    'text_input': (58,),\n",
    "    'batch_size': 512,\n",
    "    'vocab_size': 30000,\n",
    "    'examples_per_file': 850, #will not change\n",
    "    'train_size':8500,\n",
    "    'test_examples_per_file': 500,\n",
    "    'test_size': 1000,\n",
    "    'version': 18, #model version number\n",
    "    'caption_text_input_length': 49,\n",
    "    'caption_model_version': 7,\n",
    "    'meme_text_length': 58,\n",
    "    'caption_embedding_dim': 300,\n",
    "    'caption_vocab_size' : 10000,\n",
    "    'tokenizer_start_index': 58, #index of tokenizer to signal sequence start\n",
    "    'tokenizer_end_index': 57,\n",
    "\n",
    "}\n",
    "\n",
    "\n"
   ]
  },
  {
   "cell_type": "code",
   "execution_count": 3,
   "metadata": {
    "id": "g3ZOLb6A718k"
   },
   "outputs": [],
   "source": [
    "try:\n",
    "    from google.colab import auth\n",
    "    auth.authenticate_user()\n",
    "    credentials=None\n",
    "\n",
    "except ModuleNotFoundError:\n",
    "\n",
    "\n",
    "    from google.oauth2 import service_account\n",
    "\n",
    "    credentials = service_account.Credentials.from_service_account_file( #file location of GCS private key\n",
    "        '/Users/jeremiahherberg/Downloads/hateful-memes-af65c70c1b79.json')\n",
    "\n",
    "client = storage.Client(project='hateful-memes', credentials=credentials)"
   ]
  },
  {
   "cell_type": "code",
   "execution_count": 4,
   "metadata": {
    "id": "BMUqKpKY718s"
   },
   "outputs": [],
   "source": [
    "bucket = 'jh_hateful_memes'\n",
    "glove_bucket = 'kds-5123f8991f380aa8ec3a0dfae64a3732b529d4e504450dd8f9e55fb1'\n",
    "caption_token_bucket = 'kds-e7996502fe373b391a0a14641ad5f932ee7d607744dbe970cc8ffe08'\n",
    "client = storage.Client(project='hateful-memes', credentials=credentials)\n"
   ]
  },
  {
   "cell_type": "code",
   "execution_count": 5,
   "metadata": {
    "colab": {
     "base_uri": "https://localhost:8080/",
     "height": 768
    },
    "id": "VdrBIeYx718x",
    "outputId": "fdfaf26e-3689-4857-f4c0-6e59c1c29520"
   },
   "outputs": [
    {
     "name": "stdout",
     "output_type": "stream",
     "text": [
      "Running on TPU  grpc://10.51.69.10:8470\n",
      "INFO:tensorflow:Initializing the TPU system: grpc://10.51.69.10:8470\n"
     ]
    },
    {
     "name": "stderr",
     "output_type": "stream",
     "text": [
      "INFO:tensorflow:Initializing the TPU system: grpc://10.51.69.10:8470\n"
     ]
    },
    {
     "name": "stdout",
     "output_type": "stream",
     "text": [
      "INFO:tensorflow:Clearing out eager caches\n"
     ]
    },
    {
     "name": "stderr",
     "output_type": "stream",
     "text": [
      "INFO:tensorflow:Clearing out eager caches\n"
     ]
    },
    {
     "name": "stdout",
     "output_type": "stream",
     "text": [
      "INFO:tensorflow:Finished initializing TPU system.\n"
     ]
    },
    {
     "name": "stderr",
     "output_type": "stream",
     "text": [
      "INFO:tensorflow:Finished initializing TPU system.\n",
      "WARNING:absl:`tf.distribute.experimental.TPUStrategy` is deprecated, please use  the non experimental symbol `tf.distribute.TPUStrategy` instead.\n"
     ]
    },
    {
     "name": "stdout",
     "output_type": "stream",
     "text": [
      "INFO:tensorflow:Found TPU system:\n"
     ]
    },
    {
     "name": "stderr",
     "output_type": "stream",
     "text": [
      "INFO:tensorflow:Found TPU system:\n"
     ]
    },
    {
     "name": "stdout",
     "output_type": "stream",
     "text": [
      "INFO:tensorflow:*** Num TPU Cores: 8\n"
     ]
    },
    {
     "name": "stderr",
     "output_type": "stream",
     "text": [
      "INFO:tensorflow:*** Num TPU Cores: 8\n"
     ]
    },
    {
     "name": "stdout",
     "output_type": "stream",
     "text": [
      "INFO:tensorflow:*** Num TPU Workers: 1\n"
     ]
    },
    {
     "name": "stderr",
     "output_type": "stream",
     "text": [
      "INFO:tensorflow:*** Num TPU Workers: 1\n"
     ]
    },
    {
     "name": "stdout",
     "output_type": "stream",
     "text": [
      "INFO:tensorflow:*** Num TPU Cores Per Worker: 8\n"
     ]
    },
    {
     "name": "stderr",
     "output_type": "stream",
     "text": [
      "INFO:tensorflow:*** Num TPU Cores Per Worker: 8\n"
     ]
    },
    {
     "name": "stdout",
     "output_type": "stream",
     "text": [
      "INFO:tensorflow:*** Available Device: _DeviceAttributes(/job:localhost/replica:0/task:0/device:CPU:0, CPU, 0, 0)\n"
     ]
    },
    {
     "name": "stderr",
     "output_type": "stream",
     "text": [
      "INFO:tensorflow:*** Available Device: _DeviceAttributes(/job:localhost/replica:0/task:0/device:CPU:0, CPU, 0, 0)\n"
     ]
    },
    {
     "name": "stdout",
     "output_type": "stream",
     "text": [
      "INFO:tensorflow:*** Available Device: _DeviceAttributes(/job:localhost/replica:0/task:0/device:XLA_CPU:0, XLA_CPU, 0, 0)\n"
     ]
    },
    {
     "name": "stderr",
     "output_type": "stream",
     "text": [
      "INFO:tensorflow:*** Available Device: _DeviceAttributes(/job:localhost/replica:0/task:0/device:XLA_CPU:0, XLA_CPU, 0, 0)\n"
     ]
    },
    {
     "name": "stdout",
     "output_type": "stream",
     "text": [
      "INFO:tensorflow:*** Available Device: _DeviceAttributes(/job:worker/replica:0/task:0/device:CPU:0, CPU, 0, 0)\n"
     ]
    },
    {
     "name": "stderr",
     "output_type": "stream",
     "text": [
      "INFO:tensorflow:*** Available Device: _DeviceAttributes(/job:worker/replica:0/task:0/device:CPU:0, CPU, 0, 0)\n"
     ]
    },
    {
     "name": "stdout",
     "output_type": "stream",
     "text": [
      "INFO:tensorflow:*** Available Device: _DeviceAttributes(/job:worker/replica:0/task:0/device:TPU:0, TPU, 0, 0)\n"
     ]
    },
    {
     "name": "stderr",
     "output_type": "stream",
     "text": [
      "INFO:tensorflow:*** Available Device: _DeviceAttributes(/job:worker/replica:0/task:0/device:TPU:0, TPU, 0, 0)\n"
     ]
    },
    {
     "name": "stdout",
     "output_type": "stream",
     "text": [
      "INFO:tensorflow:*** Available Device: _DeviceAttributes(/job:worker/replica:0/task:0/device:TPU:1, TPU, 0, 0)\n"
     ]
    },
    {
     "name": "stderr",
     "output_type": "stream",
     "text": [
      "INFO:tensorflow:*** Available Device: _DeviceAttributes(/job:worker/replica:0/task:0/device:TPU:1, TPU, 0, 0)\n"
     ]
    },
    {
     "name": "stdout",
     "output_type": "stream",
     "text": [
      "INFO:tensorflow:*** Available Device: _DeviceAttributes(/job:worker/replica:0/task:0/device:TPU:2, TPU, 0, 0)\n"
     ]
    },
    {
     "name": "stderr",
     "output_type": "stream",
     "text": [
      "INFO:tensorflow:*** Available Device: _DeviceAttributes(/job:worker/replica:0/task:0/device:TPU:2, TPU, 0, 0)\n"
     ]
    },
    {
     "name": "stdout",
     "output_type": "stream",
     "text": [
      "INFO:tensorflow:*** Available Device: _DeviceAttributes(/job:worker/replica:0/task:0/device:TPU:3, TPU, 0, 0)\n"
     ]
    },
    {
     "name": "stderr",
     "output_type": "stream",
     "text": [
      "INFO:tensorflow:*** Available Device: _DeviceAttributes(/job:worker/replica:0/task:0/device:TPU:3, TPU, 0, 0)\n"
     ]
    },
    {
     "name": "stdout",
     "output_type": "stream",
     "text": [
      "INFO:tensorflow:*** Available Device: _DeviceAttributes(/job:worker/replica:0/task:0/device:TPU:4, TPU, 0, 0)\n"
     ]
    },
    {
     "name": "stderr",
     "output_type": "stream",
     "text": [
      "INFO:tensorflow:*** Available Device: _DeviceAttributes(/job:worker/replica:0/task:0/device:TPU:4, TPU, 0, 0)\n"
     ]
    },
    {
     "name": "stdout",
     "output_type": "stream",
     "text": [
      "INFO:tensorflow:*** Available Device: _DeviceAttributes(/job:worker/replica:0/task:0/device:TPU:5, TPU, 0, 0)\n"
     ]
    },
    {
     "name": "stderr",
     "output_type": "stream",
     "text": [
      "INFO:tensorflow:*** Available Device: _DeviceAttributes(/job:worker/replica:0/task:0/device:TPU:5, TPU, 0, 0)\n"
     ]
    },
    {
     "name": "stdout",
     "output_type": "stream",
     "text": [
      "INFO:tensorflow:*** Available Device: _DeviceAttributes(/job:worker/replica:0/task:0/device:TPU:6, TPU, 0, 0)\n"
     ]
    },
    {
     "name": "stderr",
     "output_type": "stream",
     "text": [
      "INFO:tensorflow:*** Available Device: _DeviceAttributes(/job:worker/replica:0/task:0/device:TPU:6, TPU, 0, 0)\n"
     ]
    },
    {
     "name": "stdout",
     "output_type": "stream",
     "text": [
      "INFO:tensorflow:*** Available Device: _DeviceAttributes(/job:worker/replica:0/task:0/device:TPU:7, TPU, 0, 0)\n"
     ]
    },
    {
     "name": "stderr",
     "output_type": "stream",
     "text": [
      "INFO:tensorflow:*** Available Device: _DeviceAttributes(/job:worker/replica:0/task:0/device:TPU:7, TPU, 0, 0)\n"
     ]
    },
    {
     "name": "stdout",
     "output_type": "stream",
     "text": [
      "INFO:tensorflow:*** Available Device: _DeviceAttributes(/job:worker/replica:0/task:0/device:TPU_SYSTEM:0, TPU_SYSTEM, 0, 0)\n"
     ]
    },
    {
     "name": "stderr",
     "output_type": "stream",
     "text": [
      "INFO:tensorflow:*** Available Device: _DeviceAttributes(/job:worker/replica:0/task:0/device:TPU_SYSTEM:0, TPU_SYSTEM, 0, 0)\n"
     ]
    },
    {
     "name": "stdout",
     "output_type": "stream",
     "text": [
      "INFO:tensorflow:*** Available Device: _DeviceAttributes(/job:worker/replica:0/task:0/device:XLA_CPU:0, XLA_CPU, 0, 0)\n"
     ]
    },
    {
     "name": "stderr",
     "output_type": "stream",
     "text": [
      "INFO:tensorflow:*** Available Device: _DeviceAttributes(/job:worker/replica:0/task:0/device:XLA_CPU:0, XLA_CPU, 0, 0)\n"
     ]
    },
    {
     "name": "stdout",
     "output_type": "stream",
     "text": [
      "REPLICAS:  8\n"
     ]
    }
   ],
   "source": [
    "try:\n",
    "    # TPU detection. No parameters necessary if TPU_NAME environment variable is\n",
    "    # set: this is always the case on Kaggle.\n",
    "    tpu = tf.distribute.cluster_resolver.TPUClusterResolver()\n",
    "    print('Running on TPU ', tpu.master())\n",
    "except ValueError:\n",
    "    tpu = None\n",
    "\n",
    "if tpu:\n",
    "    tf.config.experimental_connect_to_cluster(tpu)\n",
    "    tf.tpu.experimental.initialize_tpu_system(tpu)\n",
    "    strategy = tf.distribute.experimental.TPUStrategy(tpu)\n",
    "else:\n",
    "    # Default distribution strategy in Tensorflow. Works on CPU and single GPU.\n",
    "    strategy = tf.distribute.get_strategy()\n",
    "\n",
    "print(\"REPLICAS: \", strategy.num_replicas_in_sync)"
   ]
  },
  {
   "cell_type": "code",
   "execution_count": 6,
   "metadata": {
    "id": "rm40cYA_718y"
   },
   "outputs": [],
   "source": [
    "def decode_example_train(example):\n",
    "    '''\n",
    "    decodes single tfexample from TFrecord file\n",
    "    '''\n",
    "    features = {'label': tf.io.FixedLenFeature([], tf.int64),\n",
    "                'text': tf.io.FixedLenFeature([], tf.string),\n",
    "                'text_lemma': tf.io.FixedLenFeature([], tf.string),\n",
    "                'text_lemma_no_stopwords': tf.io.FixedLenFeature([], tf.string),\n",
    "                'text_no_stopwords':tf.io.FixedLenFeature([], tf.string),\n",
    "                'image': tf.io.FixedLenFeature([], tf.string)}\n",
    "    single_example = tf.io.parse_single_example(example, features)\n",
    "    \n",
    "    text = tf.io.parse_tensor(single_example['text'], out_type=tf.int32)\n",
    "    textL = tf.io.parse_tensor(single_example['text_lemma'], out_type=tf.int32)\n",
    "    # text = tf.cast(text, tf.float32) \n",
    "    image = tf.io.decode_jpeg(single_example['image'], 3)\n",
    "    image = tf.image.resize_with_pad(image, *params['image_size'])\n",
    "    image = image / 127.5\n",
    "    image = image -1\n",
    "    label = single_example['label']\n",
    "    # label = tf.cast(label, tf.float32)\n",
    "    return text, image, label\n",
    "\n",
    "def decode_example_test(example):\n",
    "    '''\n",
    "    decodes single tfexample from TFrecord file\n",
    "    '''\n",
    "    features = {'id': tf.io.FixedLenFeature([], tf.int64),\n",
    "                'text': tf.io.FixedLenFeature([], tf.string),\n",
    "                'text_lemma': tf.io.FixedLenFeature([], tf.string),\n",
    "                'text_lemma_no_stopwords': tf.io.FixedLenFeature([], tf.string),\n",
    "                'text_no_stopwords':tf.io.FixedLenFeature([], tf.string),\n",
    "                'image': tf.io.FixedLenFeature([], tf.string)}\n",
    "    single_example = tf.io.parse_single_example(example, features)\n",
    "    \n",
    "    text = tf.io.parse_tensor(single_example['text'], out_type=tf.int32)\n",
    "    textL = tf.io.parse_tensor(single_example['text_lemma'], out_type=tf.int32)\n",
    "    # text = tf.cast(text, tf.float32) \n",
    "    image = tf.io.decode_jpeg(single_example['image'], 3)\n",
    "    image = tf.image.resize_with_pad(image, *params['image_size'])\n",
    "    image = image / 127.5\n",
    "    image = image -1\n",
    "    label = single_example['id']\n",
    "    # label = tf.cast(label, tf.float32)\n",
    "    return text, image, label\n",
    "\n",
    "def flip_image(text, image, label): \n",
    "    '''\n",
    "    randombly flips image input\n",
    "    \n",
    "    args:\n",
    "        text: text output in ds\n",
    "        image: image output in ds\n",
    "        label: label output in ds (can also be id)\n",
    "    returns:\n",
    "        text, image, label\n",
    "        args will be otherwise unchanged\n",
    "    '''\n",
    "    \n",
    "    image = tf.image.random_flip_left_right(image)\n",
    "\n",
    "    return text, image, label\n",
    "\n",
    "\n",
    "def convert_xy(text, image, label): #needs to be called last\n",
    "    '''\n",
    "    transforms ds output from text, image, label -> (text, image), label\n",
    "    \n",
    "    args:\n",
    "        text: text output in ds\n",
    "        image: image output in ds\n",
    "        label: label output in ds (can also be id)\n",
    "    returns:\n",
    "        (text, image), label\n",
    "        args will be otherwise unchanged\n",
    "    '''\n",
    "    return (text, image), label\n",
    "    \n",
    "    "
   ]
  },
  {
   "cell_type": "code",
   "execution_count": 7,
   "metadata": {
    "id": "i_Cs9V0ixxW-"
   },
   "outputs": [],
   "source": [
    "def create_ds(params, client, bucket, prefix, is_training):\n",
    "    '''\n",
    "    creates dataset from CSV file \n",
    "    args:\n",
    "        params, dictionary with the following key:\n",
    "            caption_model_version: int, image caption version number\n",
    "            train_size: int, dataset size of training data\n",
    "            test_size: int, dataset size of test data\n",
    "        client: google.cloud.storage.Client object,\n",
    "        bucket: bucket CSV files are located in\n",
    "        prefix: str, prefix to append to the beginng of each file name\n",
    "        is_training: Bool, indicator if the DS is for training/validation or testing\n",
    "    '''\n",
    "    caption_version = params['caption_model_version']\n",
    "    text_file = '{}_caption_model_text_v{}.csv'.format(prefix, caption_version)\n",
    "    caption_file = '{}_caption_model_captions_v{}.csv'.format(prefix, caption_version)\n",
    "    label_file = '{}_caption_model_label_v{}.csv'.format(prefix, caption_version)\n",
    "    for file in [text_file, caption_file, label_file]:\n",
    "        if not os.path.isfile(file):\n",
    "            download_file(client, bucket, file)\n",
    "    text = pd.read_csv(text_file)\n",
    "    caption = pd.read_csv(caption_file)\n",
    "    labels = pd.read_csv(label_file)\n",
    "    ds = tf.data.Dataset.from_tensor_slices(((caption.values, text.values), labels.values))\n",
    "    if is_training:\n",
    "        batch_size = params['train_size']\n",
    "    else:\n",
    "        batch_size = params['test_size']\n",
    "    ds = ds.batch(batch_size)\n",
    "    return ds\n",
    "\n",
    "    "
   ]
  },
  {
   "cell_type": "code",
   "execution_count": 8,
   "metadata": {
    "id": "pG08Jw4NRl5O"
   },
   "outputs": [],
   "source": [
    "def download_file(client, bucket, file_name):\n",
    "    '''\n",
    "    downloads a file from a GCS bucket into working directory\n",
    "\n",
    "    args:\n",
    "        client: google.cloud.storage.Client object\n",
    "        bucket: str, name of bucket to download file from\n",
    "        file_name: str, file name to download\n",
    "    returns: None\n",
    "    \n",
    "    '''\n",
    "    _bucket = client.bucket(bucket)\n",
    "    blob = _bucket.blob(file_name)\n",
    "    blob.download_to_filename(file_name)\n",
    "    \n",
    "\n",
    "def create_tokenizer_from_filename(file_name,\n",
    "                                  bucket_=None,\n",
    "                                  client_=None):\n",
    "    '''\n",
    "    creates tf.keras.preprocessing.text.tokenizer from a \n",
    "    json config file in current working directory\n",
    "    args:\n",
    "        client_: google.cloud.storage.Client object\n",
    "        file_name: str, filename where config json file is located\n",
    "        bucket_, str, default None, name of GCS bucket with an object with the\n",
    "            same file name as glove_file, if an arg\n",
    "            is passed, function will first check if file_name exists in current\n",
    "            directory, and if not, will download an object located at file_name\n",
    "            in the bucket passed into bucket arg\n",
    "    returns:\n",
    "        tokenizer object\n",
    "    '''\n",
    "    if bucket:\n",
    "        if not os.path.isfile(file_name):\n",
    "            download_file(client_, bucket_,file_name)\n",
    "    with open(file_name) as file:\n",
    "        open_file = json.load(file)\n",
    "        tokenizer = tf.keras.preprocessing.text.tokenizer_from_json(open_file)\n",
    "    return tokenizer\n",
    "\n",
    "def get_embedding_weights_from_tokenizer_glove(glove_file,\n",
    "                                              tokenizer,\n",
    "                                              embedding_dim,\n",
    "                                              bucket=None,\n",
    "                                               client=None\n",
    "                                              ):\n",
    "    '''\n",
    "    gets the weights to use in an embedding layer from a pretained\n",
    "    model based on the tokenizer used to create sequences that will\n",
    "    be passed into embedding layer\n",
    "    \n",
    "    args:\n",
    "        glove_file: str, path of pretrained model from current directory\n",
    "        tokenizer: tf.keras.preprocessing.text.tokenizer object, tokenizer\n",
    "            that was used to create sequences\n",
    "        embedding_dim: int, output_dim of embedding layer of pre-trained model\n",
    "        bucket, str, default None, name of GCS bucket with an object with the\n",
    "            same file name as glove_file, if an arg\n",
    "            is passed, function will first check if glove_file exists in current\n",
    "            directory, and if not, will download an object located at glove_file\n",
    "            in the bucket passed into bucket arg\n",
    "    returns: \n",
    "        embedding_weights: numpy array, shaped* (vocab_size, embedding_dim)\n",
    "            weights that can be used for embedding layer\n",
    "            *vocab_size = tokenizer.num_words which is the number of words in\n",
    "            the tokenizer vocabulary\n",
    "        \n",
    "    '''\n",
    "    if bucket:\n",
    "        if not os.path.isfile(glove_file):\n",
    "            download_file(client, bucket, glove_file)\n",
    "    word_values = dict()\n",
    "    file = open(glove_file, encoding='utf-8')\n",
    "    \n",
    "    for line in file:\n",
    "        coeff = line.split()\n",
    "        word = coeff[0]\n",
    "        coefficients = np.asarray(coeff[-embedding_dim:], dtype='float32')\n",
    "        word_values[word] = coefficients\n",
    "\n",
    "            \n",
    "    file.close()\n",
    "    vocab_size = tokenizer.num_words\n",
    "    embedding_weights = np.zeros((vocab_size, embedding_dim))\n",
    "    for word, idx in tokenizer.word_index.items():\n",
    "        if idx < vocab_size:\n",
    "            word_embedding_values = word_values.get(word)\n",
    "            if word_embedding_values is not None:\n",
    "                embedding_weights[idx] = word_embedding_values\n",
    "    \n",
    "    return embedding_weights"
   ]
  },
  {
   "cell_type": "code",
   "execution_count": 9,
   "metadata": {
    "id": "V6RbH_oRmjUU"
   },
   "outputs": [],
   "source": [
    "def pair_separableConv1D(x, \n",
    "                         filters, kernal_size, act, first_reg, sec_reg,\n",
    "                        maxpooling_poolsize):\n",
    "    '''\n",
    "    function to add the following layers to a Keras Functional model:\n",
    "        layers.SeparableConv1D\n",
    "        layers.SeparableConv1D\n",
    "        layers.MaxPooling1D\n",
    "    \n",
    "    args:\n",
    "        x: keras input layer, or series of layers that can be traced to input layer\n",
    "        kernal_size: int, kernal size for SeparableConv1D layers\n",
    "        act: str, activation for SeparableConv1D layers\n",
    "        first_reg, keras regularizer to pass into 1st conv layer\n",
    "        sec_reg, keras regularizer to pass into 2nd conv layer\n",
    "        maxpooling_poolsize: int, poolsize for maxpooling layer\n",
    "    \n",
    "    returns:\n",
    "        x: x that was input into fn with above layers added\n",
    "    '''\n",
    "    x = layers.SeparableConv1D(filters=filters, kernel_size=kernal_size, \n",
    "                              activation=act, padding='same',\n",
    "                              kernel_regularizer=first_reg)(x)\n",
    "    x = layers.SeparableConv1D(filters=filters, kernel_size=kernal_size, \n",
    "                              activation=act, padding='same',\n",
    "                              kernel_regularizer=sec_reg)(x)\n",
    "    x = layers.MaxPooling1D(pool_size=maxpooling_poolsize, padding='same')(x)\n",
    "    x = layers.BatchNormalization()(x)\n",
    "    return x"
   ]
  },
  {
   "cell_type": "code",
   "execution_count": 10,
   "metadata": {
    "id": "Z7nJDhlumjUX"
   },
   "outputs": [],
   "source": [
    "def conv2dset(x, \n",
    "              conv_filter, kernel, regularizer=None, \n",
    "              maxpooling_poolsize=2, \n",
    "              conv_act=None, \n",
    "              dense_units=None, dense_act=None):\n",
    "    '''\n",
    "    function to add the following layers to a Keras Functional model:\n",
    "        layers.Conv2D\n",
    "        MaxPooling2D\n",
    "        Batchnormalization\n",
    "        (activation layer)\n",
    "        layers.Dense (if applicable)\n",
    "    \n",
    "    args:\n",
    "        x: keras input layer, or series of layers that can be traced to input layer\n",
    "        conv_filter: int, number of filters in Conv2D layer\n",
    "        kernel: int, kernel size in Conv2D layer\n",
    "        regularizer: keras.regularizers object, default: None, regularizer in \n",
    "            Conv2D layer\n",
    "        maxpooling_poolsize: int, default 2, poolsize for maxpooling layer\n",
    "        conv_act: keras layer (without the \"()\"), default None, activation\n",
    "            layer that will go after the batchnormalization layer\n",
    "        dense_units: int, default None, number of units in dense layer\n",
    "            if None, there will be no dense layer\n",
    "        dense_act: str, default None, activation in dense layer\n",
    "    \n",
    "    returns:\n",
    "        x: x that was input into fn with above layers added\n",
    "        \n",
    "    '''\n",
    "    x = layers.Conv2D(filters=conv_filter, kernel_size=kernel, padding='same', \n",
    "                      kernel_regularizer=regularizer)(x)\n",
    "    if maxpooling_poolsize:\n",
    "        x = layers.MaxPooling2D(maxpooling_poolsize)(x)\n",
    "    # x = layers.BatchNormalization()(x)\n",
    "    if conv_act:\n",
    "        x = conv_act()(x)\n",
    "    if dense_units:\n",
    "        x = layers.Dense(dense_units, activation=dense_act)(x)\n",
    "    \n",
    "    return x\n",
    "\n",
    "def convblock(x, conv_fn, filters, regularizer, conv_act, kernal=5):\n",
    "    '''\n",
    "    makes a block of convolution layers\n",
    "    \n",
    "    todo -- work on documentation \n",
    "    '''\n",
    "    count = 0\n",
    "    for _ in range(2):\n",
    "        for filter_ in filters:\n",
    "            count +=1\n",
    "            if count == 2:\n",
    "                x1 = conv_fn(x, filter_, kernal, regularizer, 2, conv_act,)\n",
    "                x = x1\n",
    "            else:\n",
    "                x = conv_fn(x, filter_, kernal, regularizer, None, conv_act)\n",
    "    x = layers.Add()([x, x1])\n",
    "    return x\n",
    "\n"
   ]
  },
  {
   "cell_type": "code",
   "execution_count": 11,
   "metadata": {
    "id": "aHOtR_XA7182"
   },
   "outputs": [],
   "source": [
    "def create_model(params=params,\n",
    "                dense_nodes=128,\n",
    "                ltsm_units=128,\n",
    "                ltsm_dense_units=64,\n",
    "                caption_embedding=None,\n",
    "                text_embedding=None):\n",
    "    '''\n",
    "    creates model with two inputs and out output\n",
    "\n",
    "        \n",
    "    '''\n",
    "    #set some fixed variables\n",
    "    text_input_shape = params['text_input']\n",
    "    vocab_size = params['vocab_size']\n",
    "    image_size = params['image_size']\n",
    "    caption_input_len = params['caption_text_input_length']\n",
    "    meme_text_len = params['meme_text_length']\n",
    "    caption_dim = params['caption_embedding_dim']\n",
    "    caption_vocab_size = params['caption_vocab_size']\n",
    "    \n",
    "\n",
    "    relu = layers.ReLU\n",
    "    leaky = layers.LeakyReLU\n",
    "    reg = keras.regularizers.l2(0.001,)\n",
    "    dense_act = None\n",
    "    \n",
    "    #model inputs\n",
    "    input_text = layers.Input(text_input_shape, name='text_input')\n",
    "    embedding = layers.Embedding(input_dim=vocab_size, output_dim=300,  #300\n",
    "                                 input_length=meme_text_len, mask_zero=True)(input_text)\n",
    "    embedding = layers.Dropout(0.5)(embedding)\n",
    "\n",
    "    \n",
    "    input_caption = layers.Input((caption_input_len,), name='caption_input')\n",
    "    embedding_caption = layers.Embedding(input_dim=caption_vocab_size, output_dim=caption_dim, #caption_dim\n",
    "                                         input_length=caption_input_len, mask_zero=True)(input_caption)\n",
    "    embedding_caption = layers.Dropout(0.5)(embedding_caption)\n",
    "\n",
    "\n",
    "\n",
    "    text = layers.Concatenate(axis=1)([embedding_caption, embedding])\n",
    "\n",
    "    # # bidirectional\n",
    "    text = layers.Bidirectional(layers.GRU(ltsm_units, return_sequences=False, ),)(text)\n",
    "    text = layers.Dense(ltsm_dense_units, activation = 'relu')(text)\n",
    "    text = layers.Dense(dense_nodes, activation=None)(text)\n",
    "    text = layers.LeakyReLU()(text)\n",
    "\n",
    "        \n",
    "\n",
    "\n",
    "    x = text\n",
    "    \n",
    "\n",
    "    final_output = layers.Dense(1, activation='sigmoid', name='final_out')(x)\n",
    "    \n",
    "\n",
    "    \n",
    "    model = keras.Model([input_caption, input_text], final_output) #input_image\n",
    "    model.layers[2].set_weights([caption_embedding])\n",
    "    model.layers[2].trainable = False\n",
    "    \n",
    "    model.layers[3].set_weights([text_embedding])\n",
    "    model.layers[3].trainable = False\n",
    "    metrics = [\n",
    "          keras.metrics.TruePositives(name='tp'),\n",
    "    #           keras.metrics.FalsePositives(name='fp'),\n",
    "    #           keras.metrics.TrueNegatives(name='tn'),\n",
    "          keras.metrics.FalseNegatives(name='fn'), \n",
    "          keras.metrics.BinaryAccuracy(name='accuracy'),\n",
    "    #           keras.metrics.Precision(name='precision'),\n",
    "    #           keras.metrics.Recall(name='recall'),\n",
    "          keras.metrics.AUC(name='auc'),\n",
    "    ]\n",
    "    schedule = tf.keras.optimizers.schedules.ExponentialDecay(0.0003, 27 *7, 0.75) #10 *3\n",
    "    model.compile(\n",
    "    optimizer=tf.keras.optimizers.Adam(schedule),\n",
    "    loss = tf.keras.losses.BinaryCrossentropy(label_smoothing = 0.01),\n",
    "    metrics=metrics)\n",
    "    \n",
    "    return model\n",
    "    \n",
    "    \n",
    "\n"
   ]
  },
  {
   "cell_type": "code",
   "execution_count": 12,
   "metadata": {
    "id": "alJt8bQV7185"
   },
   "outputs": [],
   "source": [
    "data_set = create_ds(params, client, bucket,\n",
    "                    'training', True)\n",
    "for data in data_set:\n",
    "    ds = data\n",
    "    break\n",
    "caption_tokenizer = create_tokenizer_from_filename('coco_tokenizer.json', \n",
    "                                           caption_token_bucket, client)\n",
    "caption_embedding = get_embedding_weights_from_tokenizer_glove('glove.840B.300d.txt',\n",
    "                                                               caption_tokenizer,\n",
    "                                                               300,\n",
    "                                                               glove_bucket, \n",
    "                                                               client)\n",
    "\n",
    "text_tokenizer = create_tokenizer_from_filename('tokenizer.json', \n",
    "                                           bucket, client)\n",
    "text_embedding = get_embedding_weights_from_tokenizer_glove('glove.840B.300d.txt',\n",
    "                                                               text_tokenizer,\n",
    "                                                               300,\n",
    "                                                               glove_bucket, client)\n"
   ]
  },
  {
   "cell_type": "code",
   "execution_count": 13,
   "metadata": {
    "colab": {
     "base_uri": "https://localhost:8080/",
     "height": 578
    },
    "id": "S25BV5he7187",
    "outputId": "628b5d5f-19e9-49e1-9862-fa0d0c3797d5"
   },
   "outputs": [
    {
     "name": "stdout",
     "output_type": "stream",
     "text": [
      "Model: \"functional_1\"\n",
      "__________________________________________________________________________________________________\n",
      "Layer (type)                    Output Shape         Param #     Connected to                     \n",
      "==================================================================================================\n",
      "caption_input (InputLayer)      [(None, 49)]         0                                            \n",
      "__________________________________________________________________________________________________\n",
      "text_input (InputLayer)         [(None, 58)]         0                                            \n",
      "__________________________________________________________________________________________________\n",
      "embedding_1 (Embedding)         (None, 49, 300)      3000000     caption_input[0][0]              \n",
      "__________________________________________________________________________________________________\n",
      "embedding (Embedding)           (None, 58, 300)      9000000     text_input[0][0]                 \n",
      "__________________________________________________________________________________________________\n",
      "dropout_1 (Dropout)             (None, 49, 300)      0           embedding_1[0][0]                \n",
      "__________________________________________________________________________________________________\n",
      "dropout (Dropout)               (None, 58, 300)      0           embedding[0][0]                  \n",
      "__________________________________________________________________________________________________\n",
      "concatenate (Concatenate)       (None, 107, 300)     0           dropout_1[0][0]                  \n",
      "                                                                 dropout[0][0]                    \n",
      "__________________________________________________________________________________________________\n",
      "bidirectional (Bidirectional)   (None, 256)          330240      concatenate[0][0]                \n",
      "__________________________________________________________________________________________________\n",
      "dense (Dense)                   (None, 64)           16448       bidirectional[0][0]              \n",
      "__________________________________________________________________________________________________\n",
      "dense_1 (Dense)                 (None, 128)          8320        dense[0][0]                      \n",
      "__________________________________________________________________________________________________\n",
      "leaky_re_lu (LeakyReLU)         (None, 128)          0           dense_1[0][0]                    \n",
      "__________________________________________________________________________________________________\n",
      "final_out (Dense)               (None, 1)            129         leaky_re_lu[0][0]                \n",
      "==================================================================================================\n",
      "Total params: 12,355,137\n",
      "Trainable params: 355,137\n",
      "Non-trainable params: 12,000,000\n",
      "__________________________________________________________________________________________________\n"
     ]
    }
   ],
   "source": [
    "tf.random.set_seed(1)\n",
    "np.random.seed(1)\n",
    "with strategy.scope():\n",
    "    model = create_model(caption_embedding=caption_embedding,\n",
    "                         text_embedding=text_embedding)\n",
    "    model.summary()\n"
   ]
  },
  {
   "cell_type": "code",
   "execution_count": 14,
   "metadata": {
    "colab": {
     "base_uri": "https://localhost:8080/",
     "height": 1000
    },
    "id": "dbYqcMyy718-",
    "outputId": "2c54608e-4ca2-456e-9a65-0fa71cdc2d67"
   },
   "outputs": [
    {
     "name": "stdout",
     "output_type": "stream",
     "text": [
      "Epoch 1/250\n",
      "WARNING:tensorflow:From /usr/local/lib/python3.6/dist-packages/tensorflow/python/data/ops/multi_device_iterator_ops.py:601: get_next_as_optional (from tensorflow.python.data.ops.iterator_ops) is deprecated and will be removed in a future version.\n",
      "Instructions for updating:\n",
      "Use `tf.data.Iterator.get_next_as_optional()` instead.\n"
     ]
    },
    {
     "name": "stderr",
     "output_type": "stream",
     "text": [
      "WARNING:tensorflow:From /usr/local/lib/python3.6/dist-packages/tensorflow/python/data/ops/multi_device_iterator_ops.py:601: get_next_as_optional (from tensorflow.python.data.ops.iterator_ops) is deprecated and will be removed in a future version.\n",
      "Instructions for updating:\n",
      "Use `tf.data.Iterator.get_next_as_optional()` instead.\n"
     ]
    },
    {
     "name": "stdout",
     "output_type": "stream",
     "text": [
      "\r 1/27 [>.............................] - ETA: 0s - loss: 0.7248 - tp: 42.0000 - fn: 63.0000 - accuracy: 0.4563 - auc: 0.4613WARNING:tensorflow:Callbacks method `on_train_batch_end` is slow compared to the batch time (batch time: 0.0029s vs `on_train_batch_end` time: 0.0375s). Check your callbacks.\n"
     ]
    },
    {
     "name": "stderr",
     "output_type": "stream",
     "text": [
      "WARNING:tensorflow:Callbacks method `on_train_batch_end` is slow compared to the batch time (batch time: 0.0029s vs `on_train_batch_end` time: 0.0375s). Check your callbacks.\n"
     ]
    },
    {
     "name": "stdout",
     "output_type": "stream",
     "text": [
      "27/27 [==============================] - ETA: 0s - loss: 0.6854 - tp: 1242.0000 - fn: 1173.0000 - accuracy: 0.5540 - auc: 0.5634WARNING:tensorflow:Callbacks method `on_test_batch_end` is slow compared to the batch time (batch time: 0.0018s vs `on_test_batch_end` time: 0.0213s). Check your callbacks.\n"
     ]
    },
    {
     "name": "stderr",
     "output_type": "stream",
     "text": [
      "WARNING:tensorflow:Callbacks method `on_test_batch_end` is slow compared to the batch time (batch time: 0.0018s vs `on_test_batch_end` time: 0.0213s). Check your callbacks.\n"
     ]
    },
    {
     "name": "stdout",
     "output_type": "stream",
     "text": [
      "27/27 [==============================] - 8s 292ms/step - loss: 0.6854 - tp: 1242.0000 - fn: 1173.0000 - accuracy: 0.5540 - auc: 0.5634 - val_loss: 0.6681 - val_tp: 287.0000 - val_fn: 317.0000 - val_accuracy: 0.6241 - val_auc: 0.6258\n",
      "Epoch 2/250\n",
      "27/27 [==============================] - 3s 110ms/step - loss: 0.6685 - tp: 1345.0000 - fn: 1070.0000 - accuracy: 0.5943 - auc: 0.6234 - val_loss: 0.6503 - val_tp: 289.0000 - val_fn: 315.0000 - val_accuracy: 0.6418 - val_auc: 0.6440\n",
      "Epoch 3/250\n",
      "27/27 [==============================] - 3s 108ms/step - loss: 0.6506 - tp: 1272.0000 - fn: 1143.0000 - accuracy: 0.6334 - auc: 0.6589 - val_loss: 0.6442 - val_tp: 341.0000 - val_fn: 263.0000 - val_accuracy: 0.6453 - val_auc: 0.6679\n",
      "Epoch 4/250\n",
      "27/27 [==============================] - 3s 105ms/step - loss: 0.6371 - tp: 1447.0000 - fn: 968.0000 - accuracy: 0.6409 - auc: 0.6845 - val_loss: 0.5936 - val_tp: 223.0000 - val_fn: 381.0000 - val_accuracy: 0.7018 - val_auc: 0.6981\n",
      "Epoch 5/250\n",
      "27/27 [==============================] - 3s 106ms/step - loss: 0.6146 - tp: 1508.0000 - fn: 907.0000 - accuracy: 0.6757 - auc: 0.7208 - val_loss: 0.5898 - val_tp: 296.0000 - val_fn: 308.0000 - val_accuracy: 0.7112 - val_auc: 0.7174\n",
      "Epoch 6/250\n",
      "27/27 [==============================] - 3s 112ms/step - loss: 0.6038 - tp: 1534.0000 - fn: 881.0000 - accuracy: 0.6896 - auc: 0.7359 - val_loss: 0.5780 - val_tp: 273.0000 - val_fn: 331.0000 - val_accuracy: 0.7218 - val_auc: 0.7295\n",
      "Epoch 7/250\n",
      "27/27 [==============================] - 3s 109ms/step - loss: 0.5923 - tp: 1576.0000 - fn: 839.0000 - accuracy: 0.6969 - auc: 0.7502 - val_loss: 0.5767 - val_tp: 247.0000 - val_fn: 357.0000 - val_accuracy: 0.7265 - val_auc: 0.7337\n",
      "Epoch 8/250\n",
      "27/27 [==============================] - 3s 110ms/step - loss: 0.5878 - tp: 1539.0000 - fn: 876.0000 - accuracy: 0.7096 - auc: 0.7562 - val_loss: 0.5867 - val_tp: 332.0000 - val_fn: 272.0000 - val_accuracy: 0.7082 - val_auc: 0.7371\n",
      "Epoch 9/250\n",
      "27/27 [==============================] - 3s 109ms/step - loss: 0.5851 - tp: 1596.0000 - fn: 819.0000 - accuracy: 0.7097 - auc: 0.7587 - val_loss: 0.5727 - val_tp: 298.0000 - val_fn: 306.0000 - val_accuracy: 0.7218 - val_auc: 0.7392\n",
      "Epoch 10/250\n",
      "27/27 [==============================] - 3s 111ms/step - loss: 0.5778 - tp: 1599.0000 - fn: 816.0000 - accuracy: 0.7090 - auc: 0.7674 - val_loss: 0.5783 - val_tp: 322.0000 - val_fn: 282.0000 - val_accuracy: 0.7176 - val_auc: 0.7411\n",
      "Epoch 11/250\n",
      "27/27 [==============================] - 3s 109ms/step - loss: 0.5740 - tp: 1552.0000 - fn: 863.0000 - accuracy: 0.7137 - auc: 0.7708 - val_loss: 0.5762 - val_tp: 328.0000 - val_fn: 276.0000 - val_accuracy: 0.7194 - val_auc: 0.7437\n",
      "Epoch 12/250\n",
      "27/27 [==============================] - 3s 102ms/step - loss: 0.5753 - tp: 1610.0000 - fn: 805.0000 - accuracy: 0.7153 - auc: 0.7692 - val_loss: 0.5680 - val_tp: 277.0000 - val_fn: 327.0000 - val_accuracy: 0.7171 - val_auc: 0.7435\n",
      "Epoch 13/250\n",
      "27/27 [==============================] - 3s 109ms/step - loss: 0.5703 - tp: 1581.0000 - fn: 834.0000 - accuracy: 0.7243 - auc: 0.7751 - val_loss: 0.5972 - val_tp: 378.0000 - val_fn: 226.0000 - val_accuracy: 0.7076 - val_auc: 0.7458\n",
      "Epoch 14/250\n",
      "27/27 [==============================] - 3s 108ms/step - loss: 0.5662 - tp: 1645.0000 - fn: 770.0000 - accuracy: 0.7212 - auc: 0.7789 - val_loss: 0.5826 - val_tp: 354.0000 - val_fn: 250.0000 - val_accuracy: 0.7206 - val_auc: 0.7461\n",
      "Epoch 15/250\n",
      "27/27 [==============================] - 3s 103ms/step - loss: 0.5615 - tp: 1638.0000 - fn: 777.0000 - accuracy: 0.7266 - auc: 0.7835 - val_loss: 0.5712 - val_tp: 324.0000 - val_fn: 280.0000 - val_accuracy: 0.7253 - val_auc: 0.7460\n",
      "Epoch 16/250\n",
      "27/27 [==============================] - 3s 108ms/step - loss: 0.5592 - tp: 1644.0000 - fn: 771.0000 - accuracy: 0.7237 - auc: 0.7862 - val_loss: 0.5691 - val_tp: 311.0000 - val_fn: 293.0000 - val_accuracy: 0.7229 - val_auc: 0.7461\n",
      "Epoch 17/250\n",
      "27/27 [==============================] - 3s 109ms/step - loss: 0.5584 - tp: 1641.0000 - fn: 774.0000 - accuracy: 0.7213 - auc: 0.7866 - val_loss: 0.5713 - val_tp: 322.0000 - val_fn: 282.0000 - val_accuracy: 0.7235 - val_auc: 0.7473\n",
      "Epoch 18/250\n",
      "27/27 [==============================] - 3s 100ms/step - loss: 0.5599 - tp: 1629.0000 - fn: 786.0000 - accuracy: 0.7312 - auc: 0.7848 - val_loss: 0.5689 - val_tp: 305.0000 - val_fn: 299.0000 - val_accuracy: 0.7253 - val_auc: 0.7461\n",
      "Epoch 19/250\n",
      "27/27 [==============================] - 3s 115ms/step - loss: 0.5533 - tp: 1662.0000 - fn: 753.0000 - accuracy: 0.7303 - auc: 0.7916 - val_loss: 0.5858 - val_tp: 363.0000 - val_fn: 241.0000 - val_accuracy: 0.7200 - val_auc: 0.7488\n",
      "Epoch 20/250\n",
      "27/27 [==============================] - 3s 115ms/step - loss: 0.5493 - tp: 1661.0000 - fn: 754.0000 - accuracy: 0.7303 - auc: 0.7959 - val_loss: 0.5750 - val_tp: 339.0000 - val_fn: 265.0000 - val_accuracy: 0.7188 - val_auc: 0.7491\n",
      "Epoch 21/250\n",
      "27/27 [==============================] - 3s 109ms/step - loss: 0.5507 - tp: 1656.0000 - fn: 759.0000 - accuracy: 0.7331 - auc: 0.7944 - val_loss: 0.5732 - val_tp: 337.0000 - val_fn: 267.0000 - val_accuracy: 0.7224 - val_auc: 0.7500\n",
      "Epoch 22/250\n",
      "27/27 [==============================] - 3s 101ms/step - loss: 0.5486 - tp: 1657.0000 - fn: 758.0000 - accuracy: 0.7341 - auc: 0.7967 - val_loss: 0.5736 - val_tp: 326.0000 - val_fn: 278.0000 - val_accuracy: 0.7253 - val_auc: 0.7499\n",
      "Epoch 23/250\n",
      "27/27 [==============================] - 3s 102ms/step - loss: 0.5497 - tp: 1639.0000 - fn: 776.0000 - accuracy: 0.7296 - auc: 0.7946 - val_loss: 0.5759 - val_tp: 339.0000 - val_fn: 265.0000 - val_accuracy: 0.7188 - val_auc: 0.7500\n",
      "Epoch 24/250\n",
      "27/27 [==============================] - 3s 109ms/step - loss: 0.5524 - tp: 1651.0000 - fn: 764.0000 - accuracy: 0.7304 - auc: 0.7923 - val_loss: 0.5844 - val_tp: 366.0000 - val_fn: 238.0000 - val_accuracy: 0.7165 - val_auc: 0.7514\n",
      "Epoch 25/250\n",
      "27/27 [==============================] - 3s 121ms/step - loss: 0.5410 - tp: 1684.0000 - fn: 731.0000 - accuracy: 0.7346 - auc: 0.8034 - val_loss: 0.5748 - val_tp: 335.0000 - val_fn: 269.0000 - val_accuracy: 0.7182 - val_auc: 0.7519\n",
      "Epoch 26/250\n",
      "27/27 [==============================] - 3s 101ms/step - loss: 0.5410 - tp: 1664.0000 - fn: 751.0000 - accuracy: 0.7390 - auc: 0.8036 - val_loss: 0.5765 - val_tp: 339.0000 - val_fn: 265.0000 - val_accuracy: 0.7182 - val_auc: 0.7511\n",
      "Epoch 27/250\n",
      "27/27 [==============================] - 3s 110ms/step - loss: 0.5404 - tp: 1664.0000 - fn: 751.0000 - accuracy: 0.7379 - auc: 0.8040 - val_loss: 0.5773 - val_tp: 338.0000 - val_fn: 266.0000 - val_accuracy: 0.7182 - val_auc: 0.7521\n",
      "Epoch 28/250\n",
      "27/27 [==============================] - 3s 110ms/step - loss: 0.5431 - tp: 1688.0000 - fn: 727.0000 - accuracy: 0.7349 - auc: 0.8009 - val_loss: 0.5787 - val_tp: 354.0000 - val_fn: 250.0000 - val_accuracy: 0.7176 - val_auc: 0.7532\n",
      "Epoch 29/250\n",
      "27/27 [==============================] - 3s 103ms/step - loss: 0.5372 - tp: 1694.0000 - fn: 721.0000 - accuracy: 0.7444 - auc: 0.8068 - val_loss: 0.5709 - val_tp: 324.0000 - val_fn: 280.0000 - val_accuracy: 0.7224 - val_auc: 0.7515\n",
      "Epoch 30/250\n",
      "27/27 [==============================] - 3s 105ms/step - loss: 0.5377 - tp: 1707.0000 - fn: 708.0000 - accuracy: 0.7428 - auc: 0.8068 - val_loss: 0.5816 - val_tp: 363.0000 - val_fn: 241.0000 - val_accuracy: 0.7206 - val_auc: 0.7523\n",
      "Epoch 31/250\n",
      "27/27 [==============================] - 3s 103ms/step - loss: 0.5349 - tp: 1683.0000 - fn: 732.0000 - accuracy: 0.7421 - auc: 0.8091 - val_loss: 0.5799 - val_tp: 356.0000 - val_fn: 248.0000 - val_accuracy: 0.7218 - val_auc: 0.7528\n",
      "Epoch 32/250\n",
      "27/27 [==============================] - 3s 110ms/step - loss: 0.5367 - tp: 1671.0000 - fn: 744.0000 - accuracy: 0.7415 - auc: 0.8081 - val_loss: 0.5785 - val_tp: 349.0000 - val_fn: 255.0000 - val_accuracy: 0.7212 - val_auc: 0.7521\n",
      "Epoch 33/250\n",
      "27/27 [==============================] - 6s 227ms/step - loss: 0.5362 - tp: 1726.0000 - fn: 689.0000 - accuracy: 0.7374 - auc: 0.8081 - val_loss: 0.5798 - val_tp: 360.0000 - val_fn: 244.0000 - val_accuracy: 0.7200 - val_auc: 0.7526\n"
     ]
    }
   ],
   "source": [
    "#calculate class weights\n",
    "target_0 = 5450 #these values will not change (are from review of test ds)\n",
    "target_1 = 3050\n",
    "total = target_0 + target_1\n",
    "\n",
    "class_weight_0 = (1 / target_0) * (total) / 2.0\n",
    "class_weight_1 = (1 / target_1) * (total) / 2.0\n",
    "\n",
    "class_weights = {0: class_weight_0, 1: class_weight_1}\n",
    "\n",
    "#early stopping if validation auc stops improving\n",
    "early_stopping = tf.keras.callbacks.EarlyStopping(monitor='val_auc',\n",
    "                                patience=5,\n",
    "                                mode='max',\n",
    "                                restore_best_weights=True)\n",
    "\n",
    "history = model.fit(x=(ds[0]), y=ds[1], \n",
    "                    validation_split=0.2, \n",
    "                    epochs=250, \n",
    "                    class_weight=class_weights, \n",
    "                    callbacks=[early_stopping],\n",
    "                    steps_per_epoch=27)"
   ]
  },
  {
   "cell_type": "code",
   "execution_count": 15,
   "metadata": {
    "id": "WNQKf2Y08zw2"
   },
   "outputs": [],
   "source": [
    "def plot_metric(metric1, metric2, ylabel):\n",
    "    plt.plot(history.history[metric1], label=metric1)\n",
    "    plt.plot(history.history[metric2], label=metric2)\n",
    "    plt.ylabel(ylabel)\n",
    "    plt.xlabel('epoch')\n",
    "    plt.legend()\n",
    "    plt.show()"
   ]
  },
  {
   "cell_type": "code",
   "execution_count": 16,
   "metadata": {
    "colab": {
     "base_uri": "https://localhost:8080/",
     "height": 803
    },
    "id": "_BG-kKjK83qC",
    "outputId": "f904a535-c79f-406c-ee63-210b616c1b39"
   },
   "outputs": [
    {
     "data": {
      "image/png": "[encoded data removed]",
      "text/plain": [
       "<Figure size 432x288 with 1 Axes>"
      ]
     },
     "metadata": {
      "needs_background": "light",
      "tags": []
     },
     "output_type": "display_data"
    },
    {
     "data": {
      "image/png": "[encoded data removed]",
      "text/plain": [
       "<Figure size 432x288 with 1 Axes>"
      ]
     },
     "metadata": {
      "needs_background": "light",
      "tags": []
     },
     "output_type": "display_data"
    },
    {
     "data": {
      "image/png": "[encoded data removed]",
      "text/plain": [
       "<Figure size 432x288 with 1 Axes>"
      ]
     },
     "metadata": {
      "needs_background": "light",
      "tags": []
     },
     "output_type": "display_data"
    }
   ],
   "source": [
    "plot_metric('auc', 'val_auc', 'auc')\n",
    "plot_metric('loss', 'val_loss', 'loss')\n",
    "plot_metric('accuracy', 'val_accuracy', 'accuracy')"
   ]
  },
  {
   "cell_type": "code",
   "execution_count": 17,
   "metadata": {
    "colab": {
     "base_uri": "https://localhost:8080/",
     "height": 34
    },
    "id": "NjL-SsIv-K5O",
    "outputId": "29220eeb-7602-43be-87aa-ae958042a90e"
   },
   "outputs": [
    {
     "data": {
      "text/plain": [
       "0.7531527876853943"
      ]
     },
     "execution_count": 17,
     "metadata": {
      "tags": []
     },
     "output_type": "execute_result"
    }
   ],
   "source": [
    "max(history.history['val_auc']) "
   ]
  },
  {
   "cell_type": "code",
   "execution_count": 18,
   "metadata": {
    "id": "bE6q1VFf-ME7"
   },
   "outputs": [],
   "source": [
    "model_name = 'model_hateful_memes_v{}.h5'.format(params['version'])\n",
    "model.save(model_name)\n",
    "bucket_ = client.bucket('jh_hateful_memes')\n",
    "blob = bucket_.blob(model_name)\n",
    "blob.upload_from_filename(model_name)#fix this"
   ]
  },
  {
   "cell_type": "code",
   "execution_count": 19,
   "metadata": {
    "id": "bcVbjWe8i-Kr"
   },
   "outputs": [],
   "source": [
    "test_ds = create_ds(params, client, bucket, 'test_seen', False)"
   ]
  },
  {
   "cell_type": "code",
   "execution_count": 20,
   "metadata": {
    "id": "or7-zGBVlppw"
   },
   "outputs": [],
   "source": [
    "for x_test, ids in test_ds:\n",
    "\n",
    "    test_text, test_images = x_test\n",
    "    predictions = model.predict(x_test, steps=10)\n",
    "    prediction_ids = ids\n",
    "\n"
   ]
  },
  {
   "cell_type": "code",
   "execution_count": 21,
   "metadata": {
    "id": "ABcoxiAH_le8"
   },
   "outputs": [],
   "source": [
    "prediction_dict = {\n",
    "    'id': np.concatenate(prediction_ids.numpy()),\n",
    "    'proba': np.concatenate(predictions),\n",
    "    'label': np.ones(1000, int)\n",
    "}\n",
    "submission_ds = pd.DataFrame(prediction_dict)\n",
    "\n"
   ]
  },
  {
   "cell_type": "code",
   "execution_count": 22,
   "metadata": {
    "id": "UC0AiCcELFFD"
   },
   "outputs": [],
   "source": [
    "submission_ds.to_csv('submission.csv', index=False)"
   ]
  },
  {
   "cell_type": "code",
   "execution_count": null,
   "metadata": {
    "id": "nF8EWtTfxxXe"
   },
   "outputs": [],
   "source": [
    "import requests"
   ]
  },
  {
   "cell_type": "code",
   "execution_count": null,
   "metadata": {
    "colab": {
     "base_uri": "https://localhost:8080/",
     "height": 88
    },
    "id": "buGSnpglxxXf",
    "outputId": "17266800-b5b8-40b0-ce5e-870d393019d3"
   },
   "outputs": [
    {
     "data": {
      "application/vnd.google.colaboratory.intrinsic+json": {
       "type": "string"
      },
      "text/plain": [
       "'{\\n  \"ip\": \"35.192.85.19\",\\n  \"hostname\": \"19.85.192.35.bc.googleusercontent.com\",\\n  \"city\": \"Council Bluffs\",\\n  \"region\": \"Iowa\",\\n  \"country\": \"US\",\\n  \"loc\": \"41.2619,-95.8608\",\\n  \"org\": \"AS15169 Google LLC\",\\n  \"postal\": \"51502\",\\n  \"timezone\": \"America/Chicago\",\\n  \"readme\": \"https://ipinfo.io/missingauth\"\\n}'"
      ]
     },
     "execution_count": 2,
     "metadata": {
      "tags": []
     },
     "output_type": "execute_result"
    }
   ],
   "source": [
    "url = 'http://ipinfo.io/json'\n",
    "response = requests.get(url)\n",
    "response.text"
   ]
  },
  {
   "cell_type": "code",
   "execution_count": null,
   "metadata": {
    "id": "Zz7b8Sasx0y_"
   },
   "outputs": [],
   "source": [
    ""
   ]
  },
  {
   "cell_type": "code",
   "execution_count": null,
   "metadata": {
    "id": "ko-cj_NDCV0w"
   },
   "outputs": [],
   "source": [
    ""
   ]
  }
 ],
 "metadata": {
  "accelerator": "TPU",
  "colab": {
   "collapsed_sections": [],
   "name": "two_input_model (7).ipynb",
   "provenance": []
  },
  "kernelspec": {
   "display_name": "Python 3",
   "language": "python",
   "name": "python3"
  },
  "language_info": {
   "codemirror_mode": {
    "name": "ipython",
    "version": 3
   },
   "file_extension": ".py",
   "mimetype": "text/x-python",
   "name": "python",
   "nbconvert_exporter": "python",
   "pygments_lexer": "ipython3",
   "version": "3.8.5"
  }
 },
 "nbformat": 4,
 "nbformat_minor": 0
}
