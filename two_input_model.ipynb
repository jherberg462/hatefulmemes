{
 "cells": [
  {
   "cell_type": "code",
   "execution_count": 1,
   "metadata": {
    "colab": {
     "base_uri": "https://localhost:8080/",
     "height": 34
    },
    "colab_type": "code",
    "id": "e4BdgGfH718Y",
    "outputId": "07987130-8dba-4310-8471-70fc46770bf7"
   },
   "outputs": [
    {
     "name": "stdout",
     "output_type": "stream",
     "text": [
      "2.3.0\n"
     ]
    }
   ],
   "source": [
    "import pandas as pd\n",
    "import numpy as np\n",
    "\n",
    "#machine learning\n",
    "import tensorflow as tf\n",
    "print(tf.__version__)\n",
    "from tensorflow.keras import layers \n",
    "from tensorflow import keras\n",
    "from sklearn.model_selection import train_test_split\n",
    "\n",
    "#accessing files\n",
    "from google.cloud import storage\n",
    "import os\n",
    "\n",
    "#display charts/images\n",
    "import matplotlib.pyplot as plt\n",
    "\n",
    "#don't need\n",
    "# from tensorflow.python.keras.preprocessing import sequence\n",
    "# from tensorflow.python.keras.preprocessing import text\n",
    "# import tensorflow_hub as hub\n"
   ]
  },
  {
   "cell_type": "code",
   "execution_count": 2,
   "metadata": {
    "colab": {},
    "colab_type": "code",
    "id": "9__sYCZ7718e"
   },
   "outputs": [],
   "source": [
    "params = {\n",
    "    'image_size': [225, 225],\n",
    "    'text_input': (58,),\n",
    "    'batch_size': 128,\n",
    "    'vocab_size': 30000,\n",
    "    'examples_per_file': 850, #will not change\n",
    "    'test_examples_per_file': 500\n",
    "}"
   ]
  },
  {
   "cell_type": "code",
   "execution_count": 3,
   "metadata": {
    "colab": {},
    "colab_type": "code",
    "id": "g3ZOLb6A718k"
   },
   "outputs": [],
   "source": [
    "try:\n",
    "    from google.colab import auth\n",
    "    auth.authenticate_user()\n",
    "    credentials=None\n",
    "\n",
    "except ModuleNotFoundError:\n",
    "\n",
    "\n",
    "    from google.oauth2 import service_account\n",
    "\n",
    "    credentials = service_account.Credentials.from_service_account_file( #file location of GCS private key\n",
    "        '/Users/jeremiahherberg/Downloads/hateful-memes-af65c70c1b79.json')\n",
    "\n",
    "    client = storage.Client(project='hateful-memes', credentials=credentials)"
   ]
  },
  {
   "cell_type": "code",
   "execution_count": 4,
   "metadata": {
    "colab": {},
    "colab_type": "code",
    "id": "3cjmD1w-718p"
   },
   "outputs": [],
   "source": [
    "num_examples_per_tfrecordfile = params['examples_per_file'] # 850 #this will not change"
   ]
  },
  {
   "cell_type": "code",
   "execution_count": 5,
   "metadata": {
    "colab": {},
    "colab_type": "code",
    "id": "BMUqKpKY718s"
   },
   "outputs": [],
   "source": [
    "bucket = 'jh_hateful_memes'\n",
    "client = storage.Client(project='hateful-memes', credentials=credentials)\n",
    "objects = client.list_blobs(bucket, prefix='hatefulmemes_')\n",
    "tfrecords = []\n",
    "for object_ in objects:\n",
    "    path = str(object_).split(', ')[1]\n",
    "    gs_path = os.path.join('gs://', bucket, path)\n",
    "    tfrecords.append(gs_path) #gs_path"
   ]
  },
  {
   "cell_type": "code",
   "execution_count": 6,
   "metadata": {
    "colab": {},
    "colab_type": "code",
    "id": "CogGhHQB718u"
   },
   "outputs": [],
   "source": [
    "# tfrecords"
   ]
  },
  {
   "cell_type": "code",
   "execution_count": 7,
   "metadata": {
    "colab": {
     "base_uri": "https://localhost:8080/",
     "height": 34
    },
    "colab_type": "code",
    "id": "VdrBIeYx718x",
    "outputId": "96583075-5309-4aea-e243-9f7be4080800"
   },
   "outputs": [
    {
     "name": "stdout",
     "output_type": "stream",
     "text": [
      "REPLICAS:  1\n"
     ]
    }
   ],
   "source": [
    "try:\n",
    "    # TPU detection. No parameters necessary if TPU_NAME environment variable is\n",
    "    # set: this is always the case on Kaggle.\n",
    "    tpu = tf.distribute.cluster_resolver.TPUClusterResolver()\n",
    "    print('Running on TPU ', tpu.master())\n",
    "except ValueError:\n",
    "    tpu = None\n",
    "\n",
    "if tpu:\n",
    "    tf.config.experimental_connect_to_cluster(tpu)\n",
    "    tf.tpu.experimental.initialize_tpu_system(tpu)\n",
    "    strategy = tf.distribute.experimental.TPUStrategy(tpu)\n",
    "else:\n",
    "    # Default distribution strategy in Tensorflow. Works on CPU and single GPU.\n",
    "    strategy = tf.distribute.get_strategy()\n",
    "\n",
    "print(\"REPLICAS: \", strategy.num_replicas_in_sync)"
   ]
  },
  {
   "cell_type": "code",
   "execution_count": 8,
   "metadata": {
    "colab": {},
    "colab_type": "code",
    "id": "rm40cYA_718y"
   },
   "outputs": [],
   "source": [
    "def decode_example(example):\n",
    "    '''\n",
    "    decodes single tfexample from TFrecord file\n",
    "    '''\n",
    "    features = {'label': tf.io.FixedLenFeature([], tf.int64),\n",
    "                'text': tf.io.FixedLenFeature([], tf.string),\n",
    "                'text_lemma': tf.io.FixedLenFeature([], tf.string),\n",
    "                'text_lemma_no_stopwords': tf.io.FixedLenFeature([], tf.string),\n",
    "                'text_no_stopwords':tf.io.FixedLenFeature([], tf.string),\n",
    "                'image': tf.io.FixedLenFeature([], tf.string)}\n",
    "    single_example = tf.io.parse_single_example(example, features)\n",
    "    \n",
    "    text = tf.io.parse_tensor(single_example['text'], out_type=tf.int32)\n",
    "    # text = tf.cast(text, tf.float32) \n",
    "    image = tf.io.decode_jpeg(single_example['image'], 3)\n",
    "    image = tf.image.resize_with_pad(image, *params['image_size'])\n",
    "    image = image / 255.0\n",
    "    label = single_example['label']\n",
    "    # label = tf.cast(label, tf.float32)\n",
    "    return text, image, label\n",
    "\n",
    "def no_tpu_output(text, image, label): #needs to be called last\n",
    "    '''\n",
    "    transforms ds output from text, image, label -> (text, image), label\n",
    "    \n",
    "    args:\n",
    "        text: text output in ds\n",
    "        image: image output in ds\n",
    "        label: label output in ds\n",
    "    returns:\n",
    "        (text, image), label\n",
    "        args will be otherwise unchanged\n",
    "    '''\n",
    "    return (text, image), label\n",
    "    \n",
    "    "
   ]
  },
  {
   "cell_type": "code",
   "execution_count": 9,
   "metadata": {
    "colab": {},
    "colab_type": "code",
    "id": "PZ0dHSjt7180"
   },
   "outputs": [],
   "source": [
    "def create_train_ds(files, batch_size=params['batch_size'], tpu=tpu, file_size=num_examples_per_tfrecordfile):\n",
    "    '''\n",
    "    function to create dataset for training/validation\n",
    "    \n",
    "    args:\n",
    "        files: list of str, filepaths of TFrecord files to be used in DS\n",
    "        batch_size: int, batch size of training/validation step\n",
    "        tpu: bool, default 'tpu' global variable, True is TPU is being used - not a bool update\n",
    "        file_size: int, default num_examples_per_tfrecordfile variable,\n",
    "            number of examples in each TFrecord file\n",
    "    ***todo - update batch_size and file_size to params\n",
    "    returns:\n",
    "        ds: tensorflow input pipeline with images, text and labels\n",
    "            if tpu is not None, output of ds is: text, image, label\n",
    "            if tpu is None, output of ds is: (text, image), label\n",
    "        ds_batches: int, number of steps in each epoch based on the batch_size\n",
    "    '''\n",
    "    ds = tf.data.TFRecordDataset(filenames = files)\n",
    "    ds = ds.map(decode_example, num_parallel_calls=tf.data.experimental.AUTOTUNE)\n",
    "    #consider adding augmentation to image - can't flip(?)\n",
    "    # if tpu is None:\n",
    "    ds = ds.map(no_tpu_output, num_parallel_calls=tf.data.experimental.AUTOTUNE)\n",
    "    ds = ds.repeat()\n",
    "    ds = ds.batch(batch_size, drop_remainder=True).prefetch(tf.data.experimental.AUTOTUNE)\n",
    "#     ds = ds.cache() # -- confirm if dataset is small enough to be cached\n",
    "    \n",
    "    ds_batches = (len(files) * file_size) // batch_size\n",
    "    return ds, ds_batches\n",
    "    \n",
    "    "
   ]
  },
  {
   "cell_type": "code",
   "execution_count": 10,
   "metadata": {
    "colab": {},
    "colab_type": "code",
    "id": "aHOtR_XA7182"
   },
   "outputs": [],
   "source": [
    "def create_model(params=params):\n",
    "    '''\n",
    "    creates model with two inputs and out output\n",
    "    '''\n",
    "    text_input_shape = params['text_input']\n",
    "    vocab_size = params['vocab_size']\n",
    "    image_size = params['image_size']\n",
    "    input_text = layers.Input(text_input_shape, name='text_input')\n",
    "    embedding = layers.Embedding(input_dim=vocab_size, output_dim=64, \n",
    "                                 input_length=58, mask_zero=True)(input_text)\n",
    "    x_text = embedding\n",
    "    #clean up the code \n",
    "    x_text = layers.SeparableConv1D(filters=64, kernel_size=4, activation='relu', padding='same')(x_text)\n",
    "    x_text = layers.SeparableConv1D(filters=64, kernel_size=4, activation='relu', padding='same')(x_text)\n",
    "    x_text = layers.MaxPooling1D(4, padding='same')(x_text)\n",
    "    x_text = layers.SeparableConv1D(filters=64, kernel_size=4, activation='relu', padding='same')(x_text)\n",
    "    x_text = layers.SeparableConv1D(filters=64, kernel_size=4, activation='relu', padding='same')(x_text)\n",
    "    x_text = layers.MaxPooling1D(4, padding='same')(x_text)\n",
    "    x_text = layers.Flatten()(x_text)\n",
    "    output_layer_text = layers.Dense(1000, activation='sigmoid', name='text_output')(x_text)\n",
    "    \n",
    "    input_image = layers.Input((*image_size, 3), name='image_input')#todo -make the 225 call a variable\n",
    "    x_img = input_image\n",
    "    x_img = layers.Conv2D(filters=64, kernel_size=5, padding='same')(x_img)\n",
    "    x_img = layers.MaxPooling2D(2, 2)(x_img)\n",
    "    x_img = layers.BatchNormalization()(x_img)\n",
    "    x_img = layers.ReLU()(x_img)\n",
    "    x_img = layers.Dense(16, activation='tanh')(x_img)\n",
    "    x_img = layers.Conv2D(filters=128, kernel_size=5, padding='same')(x_img)\n",
    "    x_img = layers.MaxPooling2D(2, 2)(x_img)\n",
    "    x_img = layers.BatchNormalization()(x_img)\n",
    "    x_img = layers.ReLU()(x_img)\n",
    "    x_img = layers.Dense(16, activation='tanh')(x_img)\n",
    "    x_img = layers.Flatten()(x_img)\n",
    "    output_layer_image = layers.Dense(1000, activation='sigmoid', name='image_out')(x_img)\n",
    "    \n",
    "    x = layers.Concatenate()([output_layer_text, output_layer_image])\n",
    "    #consider adding an intrum dense layer here\n",
    "    final_output = layers.Dense(1, activation='sigmoid', name='final_out')(x)\n",
    "    \n",
    "    model = keras.Model([input_text, input_image], final_output)\n",
    "    metrics = [\n",
    "          keras.metrics.TruePositives(name='tp'),\n",
    "    #           keras.metrics.FalsePositives(name='fp'),\n",
    "    #           keras.metrics.TrueNegatives(name='tn'),\n",
    "          keras.metrics.FalseNegatives(name='fn'), \n",
    "          keras.metrics.BinaryAccuracy(name='accuracy'),\n",
    "    #           keras.metrics.Precision(name='precision'),\n",
    "    #           keras.metrics.Recall(name='recall'),\n",
    "          keras.metrics.AUC(name='auc'),\n",
    "    ]\n",
    "    model.compile(\n",
    "    optimizer=tf.keras.optimizers.Adam(0.0003),\n",
    "    loss = tf.keras.losses.BinaryCrossentropy(label_smoothing = 0.01),\n",
    "    metrics=metrics)\n",
    "    \n",
    "    return model\n",
    "    \n",
    "    "
   ]
  },
  {
   "cell_type": "code",
   "execution_count": 11,
   "metadata": {
    "colab": {},
    "colab_type": "code",
    "id": "_tHu8tJA7184"
   },
   "outputs": [],
   "source": [
    "train_files, valid_files = train_test_split(tfrecords,\n",
    "                              test_size=.2, random_state=1)\n"
   ]
  },
  {
   "cell_type": "code",
   "execution_count": 12,
   "metadata": {
    "colab": {},
    "colab_type": "code",
    "id": "alJt8bQV7185"
   },
   "outputs": [],
   "source": [
    "train_ds, train_steps = create_train_ds(train_files)\n",
    "valid_ds, valid_steps = create_train_ds(valid_files)"
   ]
  },
  {
   "cell_type": "code",
   "execution_count": 13,
   "metadata": {
    "colab": {},
    "colab_type": "code",
    "id": "S25BV5he7187"
   },
   "outputs": [],
   "source": [
    "with strategy.scope():\n",
    "    model = create_model()"
   ]
  },
  {
   "cell_type": "code",
   "execution_count": 14,
   "metadata": {
    "colab": {
     "base_uri": "https://localhost:8080/",
     "height": 1000
    },
    "colab_type": "code",
    "id": "VQJhQRlQ7189",
    "outputId": "8549ce78-2562-40e9-df14-8aa5e59c269b"
   },
   "outputs": [
    {
     "name": "stdout",
     "output_type": "stream",
     "text": [
      "Model: \"functional_1\"\n",
      "__________________________________________________________________________________________________\n",
      "Layer (type)                    Output Shape         Param #     Connected to                     \n",
      "==================================================================================================\n",
      "image_input (InputLayer)        [(None, 225, 225, 3) 0                                            \n",
      "__________________________________________________________________________________________________\n",
      "conv2d (Conv2D)                 (None, 225, 225, 64) 4864        image_input[0][0]                \n",
      "__________________________________________________________________________________________________\n",
      "max_pooling2d (MaxPooling2D)    (None, 112, 112, 64) 0           conv2d[0][0]                     \n",
      "__________________________________________________________________________________________________\n",
      "text_input (InputLayer)         [(None, 58)]         0                                            \n",
      "__________________________________________________________________________________________________\n",
      "batch_normalization (BatchNorma (None, 112, 112, 64) 256         max_pooling2d[0][0]              \n",
      "__________________________________________________________________________________________________\n",
      "embedding (Embedding)           (None, 58, 64)       1920000     text_input[0][0]                 \n",
      "__________________________________________________________________________________________________\n",
      "re_lu (ReLU)                    (None, 112, 112, 64) 0           batch_normalization[0][0]        \n",
      "__________________________________________________________________________________________________\n",
      "separable_conv1d (SeparableConv (None, 58, 64)       4416        embedding[0][0]                  \n",
      "__________________________________________________________________________________________________\n",
      "dense (Dense)                   (None, 112, 112, 16) 1040        re_lu[0][0]                      \n",
      "__________________________________________________________________________________________________\n",
      "separable_conv1d_1 (SeparableCo (None, 58, 64)       4416        separable_conv1d[0][0]           \n",
      "__________________________________________________________________________________________________\n",
      "conv2d_1 (Conv2D)               (None, 112, 112, 128 51328       dense[0][0]                      \n",
      "__________________________________________________________________________________________________\n",
      "max_pooling1d (MaxPooling1D)    (None, 15, 64)       0           separable_conv1d_1[0][0]         \n",
      "__________________________________________________________________________________________________\n",
      "max_pooling2d_1 (MaxPooling2D)  (None, 56, 56, 128)  0           conv2d_1[0][0]                   \n",
      "__________________________________________________________________________________________________\n",
      "separable_conv1d_2 (SeparableCo (None, 15, 64)       4416        max_pooling1d[0][0]              \n",
      "__________________________________________________________________________________________________\n",
      "batch_normalization_1 (BatchNor (None, 56, 56, 128)  512         max_pooling2d_1[0][0]            \n",
      "__________________________________________________________________________________________________\n",
      "separable_conv1d_3 (SeparableCo (None, 15, 64)       4416        separable_conv1d_2[0][0]         \n",
      "__________________________________________________________________________________________________\n",
      "re_lu_1 (ReLU)                  (None, 56, 56, 128)  0           batch_normalization_1[0][0]      \n",
      "__________________________________________________________________________________________________\n",
      "max_pooling1d_1 (MaxPooling1D)  (None, 4, 64)        0           separable_conv1d_3[0][0]         \n",
      "__________________________________________________________________________________________________\n",
      "dense_1 (Dense)                 (None, 56, 56, 16)   2064        re_lu_1[0][0]                    \n",
      "__________________________________________________________________________________________________\n",
      "flatten (Flatten)               (None, 256)          0           max_pooling1d_1[0][0]            \n",
      "__________________________________________________________________________________________________\n",
      "flatten_1 (Flatten)             (None, 50176)        0           dense_1[0][0]                    \n",
      "__________________________________________________________________________________________________\n",
      "text_output (Dense)             (None, 1000)         257000      flatten[0][0]                    \n",
      "__________________________________________________________________________________________________\n",
      "image_out (Dense)               (None, 1000)         50177000    flatten_1[0][0]                  \n",
      "__________________________________________________________________________________________________\n",
      "concatenate (Concatenate)       (None, 2000)         0           text_output[0][0]                \n",
      "                                                                 image_out[0][0]                  \n",
      "__________________________________________________________________________________________________\n",
      "final_out (Dense)               (None, 1)            2001        concatenate[0][0]                \n",
      "==================================================================================================\n",
      "Total params: 52,433,729\n",
      "Trainable params: 52,433,345\n",
      "Non-trainable params: 384\n",
      "__________________________________________________________________________________________________\n"
     ]
    }
   ],
   "source": [
    "model.summary()"
   ]
  },
  {
   "cell_type": "code",
   "execution_count": 15,
   "metadata": {
    "colab": {
     "base_uri": "https://localhost:8080/",
     "height": 887
    },
    "colab_type": "code",
    "id": "dbYqcMyy718-",
    "outputId": "bf1e8efd-467b-474f-8829-dc44e3ec7d86"
   },
   "outputs": [
    {
     "name": "stdout",
     "output_type": "stream",
     "text": [
      "Epoch 1/100\n",
      "53/53 [==============================] - 201s 4s/step - loss: 0.9785 - tp: 159.0000 - fn: 2306.0000 - accuracy: 0.6156 - auc: 0.5047 - val_loss: 0.6568 - val_tp: 108.0000 - val_fn: 455.0000 - val_accuracy: 0.6340 - val_auc: 0.5408\n",
      "Epoch 2/100\n",
      "53/53 [==============================] - 175s 3s/step - loss: 0.6644 - tp: 20.0000 - fn: 2446.0000 - accuracy: 0.6377 - auc: 0.5043 - val_loss: 0.6608 - val_tp: 120.0000 - val_fn: 443.0000 - val_accuracy: 0.6328 - val_auc: 0.5466\n",
      "Epoch 3/100\n",
      "53/53 [==============================] - 164s 3s/step - loss: 0.6635 - tp: 102.0000 - fn: 2363.0000 - accuracy: 0.6338 - auc: 0.5235 - val_loss: 0.6731 - val_tp: 133.0000 - val_fn: 430.0000 - val_accuracy: 0.6256 - val_auc: 0.5489\n",
      "Epoch 4/100\n",
      "53/53 [==============================] - 153s 3s/step - loss: 0.6598 - tp: 170.0000 - fn: 2297.0000 - accuracy: 0.6313 - auc: 0.5408 - val_loss: 0.8105 - val_tp: 344.0000 - val_fn: 219.0000 - val_accuracy: 0.5198 - val_auc: 0.5589\n",
      "Epoch 5/100\n",
      "53/53 [==============================] - 135s 3s/step - loss: 0.6522 - tp: 227.0000 - fn: 2238.0000 - accuracy: 0.6374 - auc: 0.5661 - val_loss: 0.6682 - val_tp: 21.0000 - val_fn: 542.0000 - val_accuracy: 0.6538 - val_auc: 0.5528\n",
      "Epoch 6/100\n",
      "53/53 [==============================] - 136s 3s/step - loss: 0.6452 - tp: 317.0000 - fn: 2151.0000 - accuracy: 0.6340 - auc: 0.5914 - val_loss: 0.6463 - val_tp: 27.0000 - val_fn: 536.0000 - val_accuracy: 0.6496 - val_auc: 0.5596\n",
      "Epoch 7/100\n",
      "53/53 [==============================] - 133s 3s/step - loss: 0.6326 - tp: 393.0000 - fn: 2076.0000 - accuracy: 0.6417 - auc: 0.6269 - val_loss: 0.6515 - val_tp: 31.0000 - val_fn: 532.0000 - val_accuracy: 0.6502 - val_auc: 0.5731\n",
      "Epoch 8/100\n",
      "53/53 [==============================] - 130s 2s/step - loss: 0.6049 - tp: 529.0000 - fn: 1937.0000 - accuracy: 0.6683 - auc: 0.6888 - val_loss: 0.6349 - val_tp: 43.0000 - val_fn: 520.0000 - val_accuracy: 0.6550 - val_auc: 0.5847\n",
      "Epoch 9/100\n",
      "53/53 [==============================] - 132s 2s/step - loss: 0.5699 - tp: 779.0000 - fn: 1687.0000 - accuracy: 0.6981 - auc: 0.7573 - val_loss: 0.9267 - val_tp: 351.0000 - val_fn: 212.0000 - val_accuracy: 0.5078 - val_auc: 0.5533\n",
      "Epoch 10/100\n",
      "53/53 [==============================] - 129s 2s/step - loss: 0.5327 - tp: 1130.0000 - fn: 1335.0000 - accuracy: 0.7431 - auc: 0.8093 - val_loss: 0.6587 - val_tp: 59.0000 - val_fn: 504.0000 - val_accuracy: 0.6659 - val_auc: 0.6219\n",
      "Epoch 11/100\n",
      "53/53 [==============================] - 131s 2s/step - loss: 0.4827 - tp: 1369.0000 - fn: 1094.0000 - accuracy: 0.7758 - auc: 0.8573 - val_loss: 0.8566 - val_tp: 49.0000 - val_fn: 514.0000 - val_accuracy: 0.6520 - val_auc: 0.5723\n",
      "Epoch 12/100\n",
      "53/53 [==============================] - 128s 2s/step - loss: 0.4337 - tp: 1627.0000 - fn: 842.0000 - accuracy: 0.8169 - auc: 0.8941 - val_loss: 1.6487 - val_tp: 477.0000 - val_fn: 86.0000 - val_accuracy: 0.3960 - val_auc: 0.4936\n",
      "Epoch 13/100\n",
      "53/53 [==============================] - 131s 2s/step - loss: 0.3886 - tp: 1799.0000 - fn: 669.0000 - accuracy: 0.8471 - auc: 0.9208 - val_loss: 1.1907 - val_tp: 381.0000 - val_fn: 182.0000 - val_accuracy: 0.4471 - val_auc: 0.5359\n",
      "Epoch 14/100\n",
      "53/53 [==============================] - 130s 2s/step - loss: 0.3380 - tp: 1939.0000 - fn: 524.0000 - accuracy: 0.8774 - auc: 0.9474 - val_loss: 0.7780 - val_tp: 36.0000 - val_fn: 527.0000 - val_accuracy: 0.6556 - val_auc: 0.5769\n",
      "Epoch 15/100\n",
      "53/53 [==============================] - 128s 2s/step - loss: 0.2832 - tp: 2101.0000 - fn: 370.0000 - accuracy: 0.9089 - auc: 0.9689 - val_loss: 0.8436 - val_tp: 37.0000 - val_fn: 526.0000 - val_accuracy: 0.6484 - val_auc: 0.5574\n",
      "Epoch 16/100\n",
      "53/53 [==============================] - 132s 2s/step - loss: 0.2401 - tp: 2192.0000 - fn: 274.0000 - accuracy: 0.9291 - auc: 0.9805 - val_loss: 0.9166 - val_tp: 45.0000 - val_fn: 518.0000 - val_accuracy: 0.6442 - val_auc: 0.5422\n",
      "Epoch 17/100\n",
      "53/53 [==============================] - 128s 2s/step - loss: 0.2116 - tp: 2235.0000 - fn: 230.0000 - accuracy: 0.9434 - auc: 0.9867 - val_loss: 0.7918 - val_tp: 157.0000 - val_fn: 406.0000 - val_accuracy: 0.6016 - val_auc: 0.5774\n",
      "Epoch 18/100\n",
      "53/53 [==============================] - 127s 2s/step - loss: 0.1808 - tp: 2277.0000 - fn: 186.0000 - accuracy: 0.9545 - auc: 0.9910 - val_loss: 0.8316 - val_tp: 116.0000 - val_fn: 447.0000 - val_accuracy: 0.6172 - val_auc: 0.5783\n",
      "Epoch 19/100\n",
      "53/53 [==============================] - 133s 3s/step - loss: 0.1508 - tp: 2361.0000 - fn: 105.0000 - accuracy: 0.9701 - auc: 0.9958 - val_loss: 0.9025 - val_tp: 219.0000 - val_fn: 344.0000 - val_accuracy: 0.5697 - val_auc: 0.5528\n",
      "Epoch 20/100\n",
      "53/53 [==============================] - 125s 2s/step - loss: 0.1399 - tp: 2349.0000 - fn: 117.0000 - accuracy: 0.9710 - auc: 0.9963 - val_loss: 1.0376 - val_tp: 137.0000 - val_fn: 426.0000 - val_accuracy: 0.5751 - val_auc: 0.5198\n",
      "Epoch 21/100\n",
      "53/53 [==============================] - 133s 3s/step - loss: 0.1329 - tp: 2351.0000 - fn: 113.0000 - accuracy: 0.9724 - auc: 0.9961 - val_loss: 0.9643 - val_tp: 212.0000 - val_fn: 351.0000 - val_accuracy: 0.5589 - val_auc: 0.5332\n",
      "Epoch 22/100\n",
      "53/53 [==============================] - 135s 3s/step - loss: 0.1146 - tp: 2397.0000 - fn: 70.0000 - accuracy: 0.9811 - auc: 0.9979 - val_loss: 1.1816 - val_tp: 133.0000 - val_fn: 430.0000 - val_accuracy: 0.5950 - val_auc: 0.5575\n",
      "Epoch 23/100\n",
      "53/53 [==============================] - 135s 3s/step - loss: 0.1019 - tp: 2407.0000 - fn: 57.0000 - accuracy: 0.9839 - auc: 0.9988 - val_loss: 1.1606 - val_tp: 170.0000 - val_fn: 393.0000 - val_accuracy: 0.5907 - val_auc: 0.5652\n",
      "Epoch 24/100\n",
      "53/53 [==============================] - 130s 2s/step - loss: 0.0947 - tp: 2405.0000 - fn: 60.0000 - accuracy: 0.9857 - auc: 0.9990 - val_loss: 1.3147 - val_tp: 51.0000 - val_fn: 512.0000 - val_accuracy: 0.6250 - val_auc: 0.5515\n",
      "Epoch 25/100\n",
      "53/53 [==============================] - 130s 2s/step - loss: 0.0943 - tp: 2398.0000 - fn: 67.0000 - accuracy: 0.9838 - auc: 0.9984 - val_loss: 1.2027 - val_tp: 182.0000 - val_fn: 381.0000 - val_accuracy: 0.5733 - val_auc: 0.5464\n"
     ]
    }
   ],
   "source": [
    "#todo - consider using class weights\n",
    "early_stopping = tf.keras.callbacks.EarlyStopping(monitor='val_auc', #val_auc\n",
    "                                patience=15,\n",
    "                                mode='max',\n",
    "                                restore_best_weights=True)\n",
    "\n",
    "history = model.fit(train_ds, epochs=100,\n",
    "                   callbacks=[early_stopping], #todo - add early stopping\n",
    "                   validation_data=valid_ds,\n",
    "                   steps_per_epoch=train_steps,\n",
    "                   validation_steps=valid_steps)"
   ]
  },
  {
   "cell_type": "code",
   "execution_count": 16,
   "metadata": {
    "colab": {},
    "colab_type": "code",
    "id": "WNQKf2Y08zw2"
   },
   "outputs": [],
   "source": [
    "def plot_metric(metric1, metric2, ylabel):\n",
    "    plt.plot(history.history[metric1], label=metric1)\n",
    "    plt.plot(history.history[metric2], label=metric2)\n",
    "    plt.ylabel(ylabel)\n",
    "    plt.xlabel('epoch')\n",
    "    plt.legend()\n",
    "    plt.show()"
   ]
  },
  {
   "cell_type": "code",
   "execution_count": 17,
   "metadata": {
    "colab": {
     "base_uri": "https://localhost:8080/",
     "height": 803
    },
    "colab_type": "code",
    "id": "_BG-kKjK83qC",
    "outputId": "0d2429df-e99e-4950-bc29-5c7806d7da15"
   },
   "outputs": [
    {
     "data": {
      "image/png": "[encoded data removed]",
      "text/plain": [
       "<Figure size 432x288 with 1 Axes>"
      ]
     },
     "metadata": {
      "needs_background": "light",
      "tags": []
     },
     "output_type": "display_data"
    },
    {
     "data": {
      "image/png": "[encoded data removed]",
      "text/plain": [
       "<Figure size 432x288 with 1 Axes>"
      ]
     },
     "metadata": {
      "needs_background": "light",
      "tags": []
     },
     "output_type": "display_data"
    },
    {
     "data": {
      "image/png": "[encoded data removed]",
      "text/plain": [
       "<Figure size 432x288 with 1 Axes>"
      ]
     },
     "metadata": {
      "needs_background": "light",
      "tags": []
     },
     "output_type": "display_data"
    }
   ],
   "source": [
    "plot_metric('auc', 'val_auc', 'auc')\n",
    "plot_metric('loss', 'val_loss', 'loss')\n",
    "plot_metric('accuracy', 'val_accuracy', 'accuracy')"
   ]
  },
  {
   "cell_type": "code",
   "execution_count": 18,
   "metadata": {
    "colab": {
     "base_uri": "https://localhost:8080/",
     "height": 1000
    },
    "colab_type": "code",
    "id": "NjL-SsIv-K5O",
    "outputId": "38f1b485-381e-4d3f-eef9-09991b0d5a77"
   },
   "outputs": [
    {
     "data": {
      "text/plain": [
       "{'accuracy': [0.6155660152435303,\n",
       "  0.6376768946647644,\n",
       "  0.6338443160057068,\n",
       "  0.6313384175300598,\n",
       "  0.6373820900917053,\n",
       "  0.6339917182922363,\n",
       "  0.6416568160057068,\n",
       "  0.6683372855186462,\n",
       "  0.698113203048706,\n",
       "  0.7430719137191772,\n",
       "  0.7757959961891174,\n",
       "  0.8169221878051758,\n",
       "  0.8471403121948242,\n",
       "  0.8773584961891174,\n",
       "  0.9089033007621765,\n",
       "  0.9290978908538818,\n",
       "  0.9433962106704712,\n",
       "  0.9544516801834106,\n",
       "  0.9700766801834106,\n",
       "  0.9709610939025879,\n",
       "  0.9724351167678833,\n",
       "  0.9811320900917053,\n",
       "  0.9839327931404114,\n",
       "  0.9857016801834106,\n",
       "  0.9837853908538818],\n",
       " 'auc': [0.5047242641448975,\n",
       "  0.5043085217475891,\n",
       "  0.5234915018081665,\n",
       "  0.5407554507255554,\n",
       "  0.5661201477050781,\n",
       "  0.5913985371589661,\n",
       "  0.6269044280052185,\n",
       "  0.6887841820716858,\n",
       "  0.7573245763778687,\n",
       "  0.8092513680458069,\n",
       "  0.8572639226913452,\n",
       "  0.8940976858139038,\n",
       "  0.9208437204360962,\n",
       "  0.9474285244941711,\n",
       "  0.9689188599586487,\n",
       "  0.9804618954658508,\n",
       "  0.9867457747459412,\n",
       "  0.9909763932228088,\n",
       "  0.9957515597343445,\n",
       "  0.9963181614875793,\n",
       "  0.996129035949707,\n",
       "  0.9979048371315002,\n",
       "  0.9987770318984985,\n",
       "  0.9990089535713196,\n",
       "  0.9983754754066467],\n",
       " 'fn': [2306.0,\n",
       "  2446.0,\n",
       "  2363.0,\n",
       "  2297.0,\n",
       "  2238.0,\n",
       "  2151.0,\n",
       "  2076.0,\n",
       "  1937.0,\n",
       "  1687.0,\n",
       "  1335.0,\n",
       "  1094.0,\n",
       "  842.0,\n",
       "  669.0,\n",
       "  524.0,\n",
       "  370.0,\n",
       "  274.0,\n",
       "  230.0,\n",
       "  186.0,\n",
       "  105.0,\n",
       "  117.0,\n",
       "  113.0,\n",
       "  70.0,\n",
       "  57.0,\n",
       "  60.0,\n",
       "  67.0],\n",
       " 'loss': [0.9784526228904724,\n",
       "  0.664409339427948,\n",
       "  0.6634780168533325,\n",
       "  0.659786581993103,\n",
       "  0.65215003490448,\n",
       "  0.6452277302742004,\n",
       "  0.6326006650924683,\n",
       "  0.6049397587776184,\n",
       "  0.5699048042297363,\n",
       "  0.5327244997024536,\n",
       "  0.4826866686344147,\n",
       "  0.4336555302143097,\n",
       "  0.38858962059020996,\n",
       "  0.3380188047885895,\n",
       "  0.2831824719905853,\n",
       "  0.2401495724916458,\n",
       "  0.21156153082847595,\n",
       "  0.1807752102613449,\n",
       "  0.15081970393657684,\n",
       "  0.13986319303512573,\n",
       "  0.13290271162986755,\n",
       "  0.11461424082517624,\n",
       "  0.10187865793704987,\n",
       "  0.09474395215511322,\n",
       "  0.09427498281002045],\n",
       " 'tp': [159.0,\n",
       "  20.0,\n",
       "  102.0,\n",
       "  170.0,\n",
       "  227.0,\n",
       "  317.0,\n",
       "  393.0,\n",
       "  529.0,\n",
       "  779.0,\n",
       "  1130.0,\n",
       "  1369.0,\n",
       "  1627.0,\n",
       "  1799.0,\n",
       "  1939.0,\n",
       "  2101.0,\n",
       "  2192.0,\n",
       "  2235.0,\n",
       "  2277.0,\n",
       "  2361.0,\n",
       "  2349.0,\n",
       "  2351.0,\n",
       "  2397.0,\n",
       "  2407.0,\n",
       "  2405.0,\n",
       "  2398.0],\n",
       " 'val_accuracy': [0.6340144276618958,\n",
       "  0.6328125,\n",
       "  0.6256009340286255,\n",
       "  0.5198317170143127,\n",
       "  0.6538461446762085,\n",
       "  0.6496394276618958,\n",
       "  0.6502403616905212,\n",
       "  0.6550480723381042,\n",
       "  0.5078125,\n",
       "  0.6658653616905212,\n",
       "  0.6520432829856873,\n",
       "  0.3960336446762085,\n",
       "  0.44711539149284363,\n",
       "  0.6556490659713745,\n",
       "  0.6484375,\n",
       "  0.6442307829856873,\n",
       "  0.6015625,\n",
       "  0.6171875,\n",
       "  0.5697115659713745,\n",
       "  0.575120210647583,\n",
       "  0.5588942170143127,\n",
       "  0.5949519276618958,\n",
       "  0.590745210647583,\n",
       "  0.625,\n",
       "  0.573317289352417],\n",
       " 'val_auc': [0.5407864451408386,\n",
       "  0.5465909838676453,\n",
       "  0.5489035844802856,\n",
       "  0.5588977336883545,\n",
       "  0.5527503490447998,\n",
       "  0.559626042842865,\n",
       "  0.5731024742126465,\n",
       "  0.5847010016441345,\n",
       "  0.5533481240272522,\n",
       "  0.6218809485435486,\n",
       "  0.5723280906677246,\n",
       "  0.4936195909976959,\n",
       "  0.5358990430831909,\n",
       "  0.5768588781356812,\n",
       "  0.5573715567588806,\n",
       "  0.5422125458717346,\n",
       "  0.5773727893829346,\n",
       "  0.5783365964889526,\n",
       "  0.5527721047401428,\n",
       "  0.519820511341095,\n",
       "  0.5332459807395935,\n",
       "  0.5575230717658997,\n",
       "  0.5651571750640869,\n",
       "  0.5514879822731018,\n",
       "  0.5464207530021667],\n",
       " 'val_fn': [455.0,\n",
       "  443.0,\n",
       "  430.0,\n",
       "  219.0,\n",
       "  542.0,\n",
       "  536.0,\n",
       "  532.0,\n",
       "  520.0,\n",
       "  212.0,\n",
       "  504.0,\n",
       "  514.0,\n",
       "  86.0,\n",
       "  182.0,\n",
       "  527.0,\n",
       "  526.0,\n",
       "  518.0,\n",
       "  406.0,\n",
       "  447.0,\n",
       "  344.0,\n",
       "  426.0,\n",
       "  351.0,\n",
       "  430.0,\n",
       "  393.0,\n",
       "  512.0,\n",
       "  381.0],\n",
       " 'val_loss': [0.656757652759552,\n",
       "  0.6608136296272278,\n",
       "  0.6730579733848572,\n",
       "  0.8105392456054688,\n",
       "  0.6682463884353638,\n",
       "  0.6462578177452087,\n",
       "  0.6514980792999268,\n",
       "  0.6348658204078674,\n",
       "  0.9266759157180786,\n",
       "  0.6586708426475525,\n",
       "  0.8566012978553772,\n",
       "  1.6487133502960205,\n",
       "  1.1907069683074951,\n",
       "  0.777976393699646,\n",
       "  0.8435990810394287,\n",
       "  0.9165655970573425,\n",
       "  0.7918206453323364,\n",
       "  0.8315591812133789,\n",
       "  0.9025328755378723,\n",
       "  1.0375539064407349,\n",
       "  0.9643200635910034,\n",
       "  1.1816359758377075,\n",
       "  1.1605792045593262,\n",
       "  1.314655065536499,\n",
       "  1.2026927471160889],\n",
       " 'val_tp': [108.0,\n",
       "  120.0,\n",
       "  133.0,\n",
       "  344.0,\n",
       "  21.0,\n",
       "  27.0,\n",
       "  31.0,\n",
       "  43.0,\n",
       "  351.0,\n",
       "  59.0,\n",
       "  49.0,\n",
       "  477.0,\n",
       "  381.0,\n",
       "  36.0,\n",
       "  37.0,\n",
       "  45.0,\n",
       "  157.0,\n",
       "  116.0,\n",
       "  219.0,\n",
       "  137.0,\n",
       "  212.0,\n",
       "  133.0,\n",
       "  170.0,\n",
       "  51.0,\n",
       "  182.0]}"
      ]
     },
     "execution_count": 18,
     "metadata": {
      "tags": []
     },
     "output_type": "execute_result"
    }
   ],
   "source": [
    "history.history"
   ]
  },
  {
   "cell_type": "code",
   "execution_count": 19,
   "metadata": {
    "colab": {},
    "colab_type": "code",
    "id": "bE6q1VFf-ME7"
   },
   "outputs": [],
   "source": [
    "model.save('hateful_memes_v2.h5')"
   ]
  },
  {
   "cell_type": "code",
   "execution_count": 20,
   "metadata": {
    "colab": {},
    "colab_type": "code",
    "id": "Dh9c21R6lEZc"
   },
   "outputs": [],
   "source": [
    "#make into a fn\n",
    "bucket = 'jh_hateful_memes_test'\n",
    "client = storage.Client(project='hateful-memes', credentials=credentials)\n",
    "objects = client.list_blobs(bucket, prefix='hatefulmemes_')\n",
    "tfrecords = []\n",
    "for object_ in objects:\n",
    "    path = str(object_).split(', ')[1]\n",
    "    gs_path = os.path.join('gs://', bucket, path)\n",
    "    tfrecords.append(gs_path) #gs_path"
   ]
  },
  {
   "cell_type": "code",
   "execution_count": 21,
   "metadata": {
    "colab": {},
    "colab_type": "code",
    "id": "jU-hPa_8lMNP"
   },
   "outputs": [],
   "source": [
    "def decode_example_testds(example):\n",
    "    '''\n",
    "    decodes single tfexample from TFrecord file\n",
    "    '''\n",
    "    features = {'id': tf.io.FixedLenFeature([], tf.int64),\n",
    "                'text': tf.io.FixedLenFeature([], tf.string),\n",
    "                'text_lemma': tf.io.FixedLenFeature([], tf.string),\n",
    "                'text_lemma_no_stopwords': tf.io.FixedLenFeature([], tf.string),\n",
    "                'text_no_stopwords':tf.io.FixedLenFeature([], tf.string),\n",
    "                'image': tf.io.FixedLenFeature([], tf.string)}\n",
    "    single_example = tf.io.parse_single_example(example, features)\n",
    "    \n",
    "    text = tf.io.parse_tensor(single_example['text'], out_type=tf.int32)\n",
    "    image = tf.io.decode_jpeg(single_example['image'], 3)\n",
    "    image = tf.image.resize_with_pad(image, *params['image_size'])\n",
    "    image = image / 255.0\n",
    "    label = single_example['id']\n",
    "    return text, image, label\n",
    "\n",
    "def no_tpu_output(text, image, label): #needs to be called last\n",
    "    '''\n",
    "    transforms ds output from text, image, label -> (text, image), label\n",
    "    \n",
    "    args:\n",
    "        text: text output in ds\n",
    "        image: image output in ds\n",
    "        label: label output in ds\n",
    "    returns:\n",
    "        (text, image), label\n",
    "        args will be otherwise unchanged\n",
    "    '''\n",
    "    return (text, image), label\n",
    "    \n",
    "    "
   ]
  },
  {
   "cell_type": "code",
   "execution_count": 22,
   "metadata": {
    "colab": {},
    "colab_type": "code",
    "id": "wwWvCd3UGVql"
   },
   "outputs": [],
   "source": [
    "def create_test_ds(files, batch_size=params['batch_size'], tpu=tpu, file_size=params['test_examples_per_file']):\n",
    "    '''\n",
    "    function to create dataset for test data\n",
    "    ***clean up documentation for testds***\n",
    "    args:\n",
    "        files: list of str, filepaths of TFrecord files to be used in DS\n",
    "        batch_size: int, batch size of training/validation step\n",
    "        tpu: bool, default 'tpu' global variable, True is TPU is being used - not a bool update\n",
    "        file_size: int, default num_examples_per_tfrecordfile variable,\n",
    "            number of examples in each TFrecord file\n",
    "    ***todo - update batch_size and file_size to params\n",
    "    returns:\n",
    "        ds: tensorflow input pipeline with images, text and labels\n",
    "            if tpu is not None, output of ds is: text, image, label\n",
    "            if tpu is None, output of ds is: (text, image), label\n",
    "        ds_batches: int, number of steps in each epoch based on the batch_size\n",
    "    '''\n",
    "    ds = tf.data.TFRecordDataset(filenames = files)\n",
    "    ds = ds.map(decode_example_testds, num_parallel_calls=tf.data.experimental.AUTOTUNE)\n",
    "    #consider adding augmentation to image - can't flip(?)\n",
    "    if tpu is None:\n",
    "        ds = ds.map(no_tpu_output, num_parallel_calls=tf.data.experimental.AUTOTUNE)\n",
    "    ds = ds.batch(batch_size, drop_remainder=False).prefetch(tf.data.experimental.AUTOTUNE)\n",
    "#     ds = ds.cache() # -- confirm if dataset is small enough to be cached\n",
    "    \n",
    "    ds_batches = (len(files) * file_size) // batch_size\n",
    "    if (len(files) * file_size) % batch_size > 0:\n",
    "        ds_batches += 1\n",
    "    return ds, ds_batches\n",
    "    \n",
    "    "
   ]
  },
  {
   "cell_type": "code",
   "execution_count": 23,
   "metadata": {
    "colab": {},
    "colab_type": "code",
    "id": "bcVbjWe8i-Kr"
   },
   "outputs": [],
   "source": [
    "test_ds, test_steps = create_test_ds(tfrecords)"
   ]
  },
  {
   "cell_type": "code",
   "execution_count": 24,
   "metadata": {
    "colab": {},
    "colab_type": "code",
    "id": "or7-zGBVlppw"
   },
   "outputs": [],
   "source": [
    "predictions = model.predict(test_ds, steps=test_steps)"
   ]
  },
  {
   "cell_type": "code",
   "execution_count": 25,
   "metadata": {
    "colab": {
     "base_uri": "https://localhost:8080/",
     "height": 289
    },
    "colab_type": "code",
    "id": "_pxtLzph-tdq",
    "outputId": "3749f769-7d76-4a5a-c3c3-e93a0a13f363"
   },
   "outputs": [
    {
     "name": "stdout",
     "output_type": "stream",
     "text": [
      "WARNING:tensorflow:AutoGraph could not transform <function <lambda> at 0x7f6b60039f28> and will run it as-is.\n",
      "Cause: could not parse the source code:\n",
      "\n",
      "                          map(lambda img, ids:ids).\n",
      "\n",
      "This error may be avoided by creating the lambda in a standalone statement.\n",
      "\n",
      "To silence this warning, decorate the function with @tf.autograph.experimental.do_not_convert\n",
      "WARNING: AutoGraph could not transform <function <lambda> at 0x7f6b60039f28> and will run it as-is.\n",
      "Cause: could not parse the source code:\n",
      "\n",
      "                          map(lambda img, ids:ids).\n",
      "\n",
      "This error may be avoided by creating the lambda in a standalone statement.\n",
      "\n",
      "To silence this warning, decorate the function with @tf.autograph.experimental.do_not_convert\n"
     ]
    }
   ],
   "source": [
    "prediction_ids = next(iter(test_ds.\n",
    "                          map(lambda img, ids:ids).\n",
    "                          unbatch().\n",
    "                          batch(1000))).numpy().astype('str')"
   ]
  },
  {
   "cell_type": "code",
   "execution_count": 26,
   "metadata": {
    "colab": {},
    "colab_type": "code",
    "id": "ABcoxiAH_le8"
   },
   "outputs": [],
   "source": [
    "prediction_dict = {\n",
    "    'id': prediction_ids,\n",
    "    'proba': np.concatenate(predictions),\n",
    "    'label': np.ones(1000, int)\n",
    "}\n",
    "submission_ds = pd.DataFrame(prediction_dict)\n",
    "\n"
   ]
  },
  {
   "cell_type": "code",
   "execution_count": 27,
   "metadata": {
    "colab": {},
    "colab_type": "code",
    "id": "UC0AiCcELFFD"
   },
   "outputs": [],
   "source": [
    "submission_ds.to_csv('submission.csv', index=False)"
   ]
  },
  {
   "cell_type": "code",
   "execution_count": null,
   "metadata": {
    "colab": {},
    "colab_type": "code",
    "id": "cSPvm8BwLFjX"
   },
   "outputs": [],
   "source": [
    ""
   ]
  }
 ],
 "metadata": {
  "accelerator": "GPU",
  "colab": {
   "name": "two_input_model.ipynb",
   "provenance": []
  },
  "kernelspec": {
   "display_name": "Python 3",
   "language": "python",
   "name": "python3"
  },
  "language_info": {
   "codemirror_mode": {
    "name": "ipython",
    "version": 3
   },
   "file_extension": ".py",
   "mimetype": "text/x-python",
   "name": "python",
   "nbconvert_exporter": "python",
   "pygments_lexer": "ipython3",
   "version": "3.7.3"
  }
 },
 "nbformat": 4,
 "nbformat_minor": 0
}
